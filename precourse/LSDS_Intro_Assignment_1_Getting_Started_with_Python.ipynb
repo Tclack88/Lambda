{
  "nbformat": 4,
  "nbformat_minor": 0,
  "metadata": {
    "colab": {
      "name": "LSDS Intro Assignment 1 - Getting Started with Python.ipynb",
      "provenance": [],
      "collapsed_sections": [],
      "include_colab_link": true
    },
    "kernelspec": {
      "name": "python3",
      "display_name": "Python 3"
    }
  },
  "cells": [
    {
      "cell_type": "markdown",
      "metadata": {
        "id": "view-in-github",
        "colab_type": "text"
      },
      "source": [
        "<a href=\"https://colab.research.google.com/github/Tclack88/Lambda/blob/master/precourse/LSDS_Intro_Assignment_1_Getting_Started_with_Python.ipynb\" target=\"_parent\"><img src=\"https://colab.research.google.com/assets/colab-badge.svg\" alt=\"Open In Colab\"/></a>"
      ]
    },
    {
      "cell_type": "markdown",
      "metadata": {
        "id": "51dZwqDNc9x6",
        "colab_type": "text"
      },
      "source": [
        "# Lambda School Data Science - Getting Started with Python\n",
        "\n",
        "Following are exercises you should complete after watching the first intro lecture. Workflow:\n",
        "\n",
        "1. Sign in to a Google account\n",
        "2. Copy the notebook (`File` -> `Save a copy in Drive`)\n",
        "3. Complete the exercises! This means fill out the code cells, and run them (shift-enter or click the play button that appears when you're in one of them)\n",
        "4. Take a look at your work, and write comments/add text cells as appropriate to explain\n",
        "5. Make the notebook URL viewable and submit with the standup form"
      ]
    },
    {
      "cell_type": "markdown",
      "metadata": {
        "id": "I6biutgwdgpb",
        "colab_type": "text"
      },
      "source": [
        "## Exercise 1 - A bit of Math\n",
        "\n",
        "For these \"word\" problems, use Python to clearly solve them. Your code will \"show your work\" - use good variable names! To show your answers you should write a `print()` statement at the end.\n",
        "\n",
        "As you work, follow the **20 minute rule** - that means if you're stuck on something for 20 minutes, you should ask a question!\n",
        "\n",
        "### a) It's a gas\n",
        "\n",
        "A taxi driver is calculating their profit over two weeks by adding up the fares they charge and subtracting the cost of gas. The price of gas changes over time - it was `$3.52`/gallon the first week and `$3.57`/gallon this second week. Their car gets 20 miles per gallon.\n",
        "\n",
        "For the first week the driver had a total of 23 passengers with average `$29` fare each, and drove a total of 160 miles. For the second week they had 17 passengers with average `$30` fare each, and drove a total of 220 miles. Assume that for both weeks they purchase all the gas needed during that week (i.e. they refuel every week to maintain a constant level of gas in the tank).\n",
        "\n",
        "Based on the above, answer the following questions:\n",
        "\n",
        "- What is their total profit over both weeks?\n",
        "- During which week was their average (mean) profit per passenger higher?\n"
      ]
    },
    {
      "cell_type": "code",
      "metadata": {
        "id": "CWJeYQW6AoGf",
        "colab_type": "code",
        "outputId": "8c639d9d-9e9d-418f-8a48-8ce841167cfd",
        "colab": {
          "base_uri": "https://localhost:8080/",
          "height": 68
        }
      },
      "source": [
        "gas_price_week_1 = 3.52\n",
        "gas_price_week_2 = 3.57\n",
        "mpg = 20\n",
        "\n",
        "psgrs_week_1 = 23\n",
        "fare_week_1 = 29\n",
        "miles_week_1 = 160\n",
        "\n",
        "psgrs_week_2 = 17\n",
        "fare_week_2 = 30\n",
        "miles_week_2 = 220\n",
        "\n",
        "# week_x_earnings = cost-per-fare * number-of-fares = psgrs_week_x * fare_week_x\n",
        "week_1_earnings = psgrs_week_1 * fare_week_1\n",
        "week_2_earnings = psgrs_week_2 * fare_week_2\n",
        "\n",
        "# week_x_cost = number-of-miles * dollars/mile = number-of-miles * gallons-per-mile * dollars-per-gallon = (miles_week_x * gas_price_week_x) / mpg\n",
        "week_1_cost = (miles_week_1 * gas_price_week_1) / mpg\n",
        "week_2_cost = (miles_week_2 * gas_price_week_2) / mpg\n",
        "\n",
        "# profit = SUM (earnings - cost)\n",
        "profit_week_1 = week_1_earnings - week_1_cost\n",
        "profit_week_2 = week_2_earnings - week_2_cost\n",
        "\n",
        "profit = profit_week_1 + profit_week_2\n",
        "\n",
        "print(\"Total profit: $\"+str(round(profit,2)))\n",
        "\n",
        "\n",
        "avg_profit_per_passenger_week_1 = profit_week_1/psgrs_week_1\n",
        "avg_profit_per_passenger_week_2 = profit_week_2/psgrs_week_2\n",
        "\n",
        "average_list = [avg_profit_per_passenger_week_1,avg_profit_per_passenger_week_2]\n",
        "higher_profit_week_number = average_list.index(max(average_list)) + 1\n",
        "\n",
        "print(\"\\nThe average profit per passenger was higher for week\", higher_profit_week_number)"
      ],
      "execution_count": 0,
      "outputs": [
        {
          "output_type": "stream",
          "text": [
            "Total profit: $1109.57\n",
            "\n",
            "The average profit per passenger was higher for week 1\n"
          ],
          "name": "stdout"
        }
      ]
    },
    {
      "cell_type": "markdown",
      "metadata": {
        "id": "0l4bUPHmR5Ko",
        "colab_type": "text"
      },
      "source": [
        "### b) Mo' money...\n",
        "\n",
        "A cash drawer contains 160 bills, all 10s and 50s. The total value of the 10s and 50s is $1,760.\n",
        "\n",
        "How many of each type of bill are in the drawer? You can figure this out by trial and error (or by doing algebra with pencil and paper), but try to use loops and conditionals to check a plausible possibilities and stop when you find the correct one."
      ]
    },
    {
      "cell_type": "code",
      "metadata": {
        "id": "Q2Atz_kyR8_6",
        "colab_type": "code",
        "outputId": "7ddfa2da-fd46-4c52-ce4d-b918af448bef",
        "colab": {
          "base_uri": "https://localhost:8080/",
          "height": 51
        }
      },
      "source": [
        "cash_total = 1760\n",
        "total_bills = 160\n",
        "\n",
        "\n",
        "# initial choices of bills (below) sums to $1760, but is low in quanity (< 160 bills)\n",
        "# my strategy is to start with the most $50s, and fewest $10s, \n",
        "# Removing a $50 while adding 5 $10's each round keeps the total the same but increases the bill count\n",
        "\n",
        "num_50s = 35\n",
        "num_10s = 1\n",
        "\n",
        "total_bills_in_round = num_50s + num_10s\n",
        "\n",
        "while total_bills_in_round != 160:\n",
        "  num_50s -= 1\n",
        "  num_10s += 5\n",
        "  total_bills_in_round = num_50s + num_10s\n",
        "  \n",
        "print(\"Number of $50's:\",num_50s,\"\\nNumber of $10's:\",num_10s)\n"
      ],
      "execution_count": 0,
      "outputs": [
        {
          "output_type": "stream",
          "text": [
            "Number of $50's: 4 \n",
            "Number of $10's: 156\n"
          ],
          "name": "stdout"
        }
      ]
    },
    {
      "cell_type": "markdown",
      "metadata": {
        "id": "UCFtX_q9aQlc",
        "colab_type": "text"
      },
      "source": [
        "## Exercise 2 - Drawing a plot\n",
        "\n",
        "Use NumPy and Matplotlib to draw a scatterplot of uniform random `(x, y)` values all drawn from the `[0, 1]` interval. Helpful documentation:\n",
        "\n",
        "*   https://matplotlib.org/tutorials/index.html\n",
        "*   https://docs.scipy.org/doc/numpy/user/quickstart.html\n",
        "\n",
        "Stretch goal - draw more plots! You can refer to the [Matplotlib gallery](https://matplotlib.org/gallery.html) for inspiration, but don't just reproduce something - try to apply it to your own data.\n",
        "\n",
        "How to get data? There's *many* ways, but a good place to get started is with [sklearn.datasets](http://scikit-learn.org/stable/datasets/index.html):\n",
        "\n",
        "```\n",
        "from sklearn import datasets\n",
        "dir(datasets)\n",
        "```"
      ]
    },
    {
      "cell_type": "code",
      "metadata": {
        "id": "pNEb09gMaltL",
        "colab_type": "code",
        "outputId": "da38b747-0cf8-4a4e-e9e9-995f8590723a",
        "colab": {
          "base_uri": "https://localhost:8080/",
          "height": 814
        }
      },
      "source": [
        "import matplotlib.pyplot as plt\n",
        "import numpy as np\n",
        "\n",
        "x_vals = np.random.random(20)\n",
        "y_vals = np.random.random(20)\n",
        "plt.scatter(x_vals,y_vals)\n",
        "plt.xlabel(\"x_vals\")\n",
        "plt.ylabel(\"y_vals\")\n",
        "plt.title(\"A scatter plot of randomly generated x and y values\")\n",
        "plt.show()\n",
        "\n",
        "#############################################################\n",
        "# An Additional Pie Chart for Fun (Mikayla is my Girlfriend)#\n",
        "#############################################################\n",
        "fact_list = 'She Smells','Same (but in Orange)'\n",
        "\n",
        "sizes = [80,20]\n",
        "\n",
        "explode = (0,.1)\n",
        "\n",
        "import numpy as np\n",
        "import matplotlib.pyplot as plt\n",
        "\n",
        "\n",
        "plt.pie(sizes, explode=explode,labels = fact_list,shadow=True)\n",
        "plt.title(\"Facts I know about Mikayla\")\n",
        "plt.show()\n",
        "\n",
        "#########################################################\n",
        "# An additional more professional dataset than the above#\n",
        "#########################################################\n",
        "import matplotlib.pyplot as plt\n",
        "from collections import Counter\n",
        "from sklearn.datasets import load_breast_cancer\n",
        "\n",
        "bcdataset = load_breast_cancer()\n",
        "# target gives a list of 1's and 0's representing whether or not the individual has cancer\n",
        "cancer_boolean = bcdataset['target']\n",
        "\n",
        "sym_index = list(bcdataset['feature_names']).index('mean radius')\n",
        "data = bcdataset['data']\n",
        "sym_data = bcdataset['data'][:,sym_index]\n",
        "\n",
        "#print(bcdataset['feature_names'])\n",
        "cancer = list(sym_data[i] for i in range(len(cancer_boolean)) if cancer_boolean[i] ==1)\n",
        "\n",
        "not_cancer = list(sym_data[i] for i in range(len(cancer_boolean)) if cancer_boolean[i] ==0)\n",
        "\n",
        "mean_radius_malignant = str(round(np.mean(cancer),2))\n",
        "malignant_radius_std = str(round(np.std(cancer),2))\n",
        "mean_radius_benign = str(round(np.mean(not_cancer),2))\n",
        "benign_radius_std = str(round(np.std(not_cancer),2))\n",
        "\n",
        "cancer_label = \"malignant tumor mean radius: \"+mean_radius_malignant+\"\\nStandard deviation:\"+malignant_radius_std\n",
        "\n",
        "not_cancer_label = \"benign tumor mean radius: \"+mean_radius_benign+\"\\nStandard deviation:\"+benign_radius_std\n",
        "\n",
        "fig = plt.figure()\n",
        "ax = fig.add_subplot(111)\n",
        "ax.set_yticks([0,1])\n",
        "ax.set_yticklabels([\"benign\",\"malignant\"])\n",
        "plt.scatter(sym_data,cancer_boolean)\n",
        "plt.annotate(cancer_label,(10,.8))\n",
        "plt.annotate(not_cancer_label,(15,.1))\n",
        "plt.title(\"Malignancy of breast tumors given radial size\")\n",
        "plt.xlabel(\"mean radius\")\n",
        "plt.ylabel(\"prevalence of breast cancer\")\n",
        "fig.show()\n"
      ],
      "execution_count": 0,
      "outputs": [
        {
          "output_type": "display_data",
          "data": {
            "image/png": "[encoded data removed]",
            "text/plain": [
              "<Figure size 432x288 with 1 Axes>"
            ]
          },
          "metadata": {
            "tags": []
          }
        },
        {
          "output_type": "display_data",
          "data": {
            "image/png": "[encoded data removed]",
            "text/plain": [
              "<Figure size 432x288 with 1 Axes>"
            ]
          },
          "metadata": {
            "tags": []
          }
        },
        {
          "output_type": "display_data",
          "data": {
            "image/png": "[encoded data removed]",
            "text/plain": [
              "<Figure size 432x288 with 1 Axes>"
            ]
          },
          "metadata": {
            "tags": []
          }
        }
      ]
    },
    {
      "cell_type": "markdown",
      "metadata": {
        "id": "hGpFAslRhuem",
        "colab_type": "text"
      },
      "source": [
        "## Exercise 3 - Writing a function\n",
        "Write a function that, given a list of numbers, calculates the mean, median, and mode of those numbers. Return a dictionary with properties for the mean, median and mode. \n",
        "\n",
        "For example:\n",
        "\n",
        "```\n",
        "mmm_dict = meanMedianMode([1, 2, 6, 7, 8, 9, 3, 4, 5, 10, 10])\n",
        "print(mmm_dict)\n",
        "> {'mean': 5.909090909090909, 'median': 6, 'mode': 10}\n",
        "```\n",
        "\n",
        "There are Python standard libraries that make calculating these numbers very easy, but first try your hand at implementing it using the `reduce()` function:"
      ]
    },
    {
      "cell_type": "code",
      "metadata": {
        "id": "e8dmYzTmiXD_",
        "colab_type": "code",
        "outputId": "585b8e51-6efa-4522-fd66-6e346f75d747",
        "colab": {
          "base_uri": "https://localhost:8080/",
          "height": 225
        }
      },
      "source": [
        "from functools import reduce\n",
        "help(reduce)"
      ],
      "execution_count": 0,
      "outputs": [
        {
          "output_type": "stream",
          "text": [
            "Help on built-in function reduce in module _functools:\n",
            "\n",
            "reduce(...)\n",
            "    reduce(function, sequence[, initial]) -> value\n",
            "    \n",
            "    Apply a function of two arguments cumulatively to the items of a sequence,\n",
            "    from left to right, so as to reduce the sequence to a single value.\n",
            "    For example, reduce(lambda x, y: x+y, [1, 2, 3, 4, 5]) calculates\n",
            "    ((((1+2)+3)+4)+5).  If initial is present, it is placed before the items\n",
            "    of the sequence in the calculation, and serves as a default when the\n",
            "    sequence is empty.\n",
            "\n"
          ],
          "name": "stdout"
        }
      ]
    },
    {
      "cell_type": "code",
      "metadata": {
        "id": "nmkk-CHvh0Nj",
        "colab_type": "code",
        "outputId": "6cf29055-0bd3-470f-a546-ddef215dd1da",
        "colab": {
          "base_uri": "https://localhost:8080/",
          "height": 34
        }
      },
      "source": [
        "from collections import Counter\n",
        "\n",
        "def meanMedianMode(numbers):\n",
        "    # Mean\n",
        "    mean = sum(numbers)/len(numbers)\n",
        "    # Median\n",
        "    if len(numbers) % 2 != 0:\n",
        "      median = sorted(numbers)[len(numbers) // 2]\n",
        "    elif len(numbers) % 2 == 0:\n",
        "      lower = len(numbers) / 2\n",
        "      upper = lower + 1\n",
        "      median = (sorted(numbers)[lower] + sorted(numbers)[upper]) / 2\n",
        "    mode_dict = Counter(numbers)\n",
        "    mode = max(mode_dict)\n",
        "    return {\"mean\":mean,\"median\":median,\"mode\":mode}\n",
        "\n",
        "mmm_dict = meanMedianMode([1, 2, 6, 7, 8, 9, 3, 4, 5, 10, 10])\n",
        "print(mmm_dict)"
      ],
      "execution_count": 0,
      "outputs": [
        {
          "output_type": "stream",
          "text": [
            "{'mean': 5.909090909090909, 'median': 6, 'mode': 10}\n"
          ],
          "name": "stdout"
        }
      ]
    },
    {
      "cell_type": "code",
      "metadata": {
        "id": "IvFGPZQ9Hh8x",
        "colab_type": "code",
        "colab": {}
      },
      "source": [
        ""
      ],
      "execution_count": 0,
      "outputs": []
    },
    {
      "cell_type": "code",
      "metadata": {
        "id": "3UUR6YQ5evfI",
        "colab_type": "code",
        "colab": {}
      },
      "source": [
        ""
      ],
      "execution_count": 0,
      "outputs": []
    }
  ]
}