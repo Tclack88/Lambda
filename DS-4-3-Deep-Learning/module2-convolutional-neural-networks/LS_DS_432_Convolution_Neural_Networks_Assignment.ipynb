{
  "nbformat": 4,
  "nbformat_minor": 0,
  "metadata": {
    "kernelspec": {
      "display_name": "conda_tensorflow_p36",
      "language": "python",
      "name": "conda_tensorflow_p36"
    },
    "language_info": {
      "codemirror_mode": {
        "name": "ipython",
        "version": 3
      },
      "file_extension": ".py",
      "mimetype": "text/x-python",
      "name": "python",
      "nbconvert_exporter": "python",
      "pygments_lexer": "ipython3",
      "version": "3.6.5"
    },
    "colab": {
      "name": "LS_DS_432_Convolution_Neural_Networks_Assignment.ipynb",
      "provenance": [],
      "include_colab_link": true
    },
    "accelerator": "GPU"
  },
  "cells": [
    {
      "cell_type": "markdown",
      "metadata": {
        "id": "view-in-github",
        "colab_type": "text"
      },
      "source": [
        "<a href=\"https://colab.research.google.com/github/Tclack88/DS-Unit-4-Sprint-3-Deep-Learning/blob/master/module2-convolutional-neural-networks/LS_DS_432_Convolution_Neural_Networks_Assignment.ipynb\" target=\"_parent\"><img src=\"https://colab.research.google.com/assets/colab-badge.svg\" alt=\"Open In Colab\"/></a>"
      ]
    },
    {
      "cell_type": "markdown",
      "metadata": {
        "id": "dt1Fvd1ZNFa1",
        "colab_type": "text"
      },
      "source": [
        "<img align=\"left\" src=\"https://lever-client-logos.s3.amazonaws.com/864372b1-534c-480e-acd5-9711f850815c-1524247202159.png\" width=200>\n",
        "<br></br>\n",
        "<br></br>\n",
        "\n",
        "## *Data Science Unit 4 Sprint 3 Assignment 2*\n",
        "# Convolutional Neural Networks (CNNs)"
      ]
    },
    {
      "cell_type": "markdown",
      "metadata": {
        "colab_type": "text",
        "id": "0lfZdD_cp1t5"
      },
      "source": [
        "# Assignment\n",
        "\n",
        "- <a href=\"#p1\">Part 1:</a> Pre-Trained Model\n",
        "- <a href=\"#p2\">Part 2:</a> Custom CNN Model\n",
        "- <a href=\"#p3\">Part 3:</a> CNN with Data Augmentation\n",
        "\n",
        "\n",
        "You will apply three different CNN models to a binary image classification model using Keras. Classify images of Mountains (`./data/mountain/*`) and images of forests (`./data/forest/*`). Treat mountains as the postive class (1) and the forest images as the negative (zero). \n",
        "\n",
        "|Mountain (+)|Forest (-)|\n",
        "|---|---|\n",
        "|![](https://github.com/Tclack88/DS-Unit-4-Sprint-3-Deep-Learning/blob/master/module2-convolutional-neural-networks/data/mountain/art1131.jpg?raw=1)|![](https://github.com/Tclack88/DS-Unit-4-Sprint-3-Deep-Learning/blob/master/module2-convolutional-neural-networks/data/forest/cdmc317.jpg?raw=1)|\n",
        "\n",
        "The problem is realively difficult given that the sample is tiny: there are about 350 observations per class. This sample size might be something that you can expect with prototyping an image classification problem/solution at work. Get accustomed to evaluating several differnet possible models."
      ]
    },
    {
      "cell_type": "markdown",
      "metadata": {
        "colab_type": "text",
        "id": "lUFLX7WbNFbF"
      },
      "source": [
        "# Pre - Trained Model\n",
        "<a id=\"p1\"></a>\n",
        "\n",
        "Load a pretrained network from Keras, [ResNet50](https://tfhub.dev/google/imagenet/resnet_v1_50/classification/1) - a 50 layer deep network trained to recognize [1000 objects](https://storage.googleapis.com/download.tensorflow.org/data/ImageNetLabels.txt). Starting usage:\n",
        "\n",
        "```python\n",
        "import numpy as np\n",
        "\n",
        "from tensorflow.keras.applications.resnet50 import ResNet50\n",
        "from tensorflow.keras.preprocessing import image\n",
        "from tensorflow.keras.applications.resnet50 import preprocess_input, decode_predictions\n",
        "\n",
        "from tensorflow.keras.layers import Dense, GlobalAveragePooling2D()\n",
        "from tensorflow.keras.models import Model # This is the functional API\n",
        "\n",
        "resnet = ResNet50(weights='imagenet', include_top=False)\n",
        "\n",
        "```\n",
        "\n",
        "The `include_top` parameter in `ResNet50` will remove the full connected layers from the ResNet model. The next step is to turn off the training of the ResNet layers. We want to use the learned parameters without updating them in future training passes. \n",
        "\n",
        "```python\n",
        "for layer in resnet.layers:\n",
        "    layer.trainable = False\n",
        "```\n",
        "\n",
        "Using the Keras functional API, we will need to additional additional full connected layers to our model. We we removed the top layers, we removed all preivous fully connected layers. In other words, we kept only the feature processing portions of our network. You can expert with additional layers beyond what's listed here. The `GlobalAveragePooling2D` layer functions as a really fancy flatten function by taking the average of each of the last convolutional layer outputs (which is two dimensional still). \n",
        "\n",
        "```python\n",
        "x = res.output\n",
        "x = GlobalAveragePooling2D()(x) # This layer is a really fancy flatten\n",
        "x = Dense(1024, activation='relu')(x)\n",
        "predictions = Dense(1, activation='sigmoid')(x)\n",
        "model = Model(res.input, predictions)\n",
        "```\n",
        "\n",
        "Your assignment is to apply the transfer learning above to classify images of Mountains (`./data/mountain/*`) and images of forests (`./data/forest/*`). Treat mountains as the postive class (1) and the forest images as the negative (zero). \n",
        "\n",
        "Steps to complete assignment: \n",
        "1. Load in Image Data into numpy arrays (`X`) \n",
        "2. Create a `y` for the labels\n",
        "3. Train your model with pretrained layers from resnet\n",
        "4. Report your model's accuracy"
      ]
    },
    {
      "cell_type": "markdown",
      "metadata": {
        "id": "GtFTh2V_NFbJ",
        "colab_type": "text"
      },
      "source": [
        "## Load in Data\n",
        "\n",
        "![skimage-logo](https://scikit-image.org/_static/img/logo.png)\n",
        "\n",
        "Check out out [`skimage`](https://scikit-image.org/) for useful functions related to processing the images. In particular checkout the documentation for `skimage.io.imread_collection` and `skimage.transform.resize`."
      ]
    },
    {
      "cell_type": "code",
      "metadata": {
        "id": "GYTGm7S5LS0G",
        "colab_type": "code",
        "colab": {
          "base_uri": "https://localhost:8080/",
          "height": 34
        },
        "outputId": "ab08265e-6d7b-41a0-cfe6-f0aff70b3a7c"
      },
      "source": [
        "!ls"
      ],
      "execution_count": 1,
      "outputs": [
        {
          "output_type": "stream",
          "text": [
            "forest\tmountain  Thumbs.db\n"
          ],
          "name": "stdout"
        }
      ]
    },
    {
      "cell_type": "code",
      "metadata": {
        "id": "Tr4YI-uhOi6q",
        "colab_type": "code",
        "colab": {}
      },
      "source": [
        "!rm -r sample_data/"
      ],
      "execution_count": 0,
      "outputs": []
    },
    {
      "cell_type": "code",
      "metadata": {
        "id": "5EpyaiYVNFbQ",
        "colab_type": "code",
        "colab": {}
      },
      "source": [
        "mkdir forest && mv *.jpg forest # Run after uploading forest data"
      ],
      "execution_count": 0,
      "outputs": []
    },
    {
      "cell_type": "code",
      "metadata": {
        "id": "lXU9yCg3PF5V",
        "colab_type": "code",
        "colab": {}
      },
      "source": [
        "mkdir mountain && mv *.jpg mountain # Run after uploading mountain data"
      ],
      "execution_count": 0,
      "outputs": []
    },
    {
      "cell_type": "markdown",
      "metadata": {
        "id": "ZHFKEV23NFbd",
        "colab_type": "text"
      },
      "source": [
        "## Instatiate Model"
      ]
    },
    {
      "cell_type": "code",
      "metadata": {
        "id": "BYdFqmz-NFbk",
        "colab_type": "code",
        "colab": {
          "base_uri": "https://localhost:8080/",
          "height": 134
        },
        "outputId": "4df05a6c-8cad-44ad-da54-0152689a7665"
      },
      "source": [
        "import numpy as np\n",
        " \n",
        "from tensorflow.keras.applications.resnet50 import ResNet50\n",
        "from tensorflow.keras.preprocessing import image\n",
        "from tensorflow.keras.applications.resnet50 import preprocess_input, decode_predictions\n",
        " \n",
        "from tensorflow.keras.layers import Dense, GlobalAveragePooling2D\n",
        "from tensorflow.keras.models import Model # This is the functional API\n",
        " \n",
        "resnet = ResNet50(weights='imagenet', include_top=False)"
      ],
      "execution_count": 2,
      "outputs": [
        {
          "output_type": "display_data",
          "data": {
            "text/html": [
              "<p style=\"color: red;\">\n",
              "The default version of TensorFlow in Colab will soon switch to TensorFlow 2.x.<br>\n",
              "We recommend you <a href=\"https://www.tensorflow.org/guide/migrate\" target=\"_blank\">upgrade</a> now \n",
              "or ensure your notebook will continue to use TensorFlow 1.x via the <code>%tensorflow_version 1.x</code> magic:\n",
              "<a href=\"https://colab.research.google.com/notebooks/tensorflow_version.ipynb\" target=\"_blank\">more info</a>.</p>\n"
            ],
            "text/plain": [
              "<IPython.core.display.HTML object>"
            ]
          },
          "metadata": {
            "tags": []
          }
        },
        {
          "output_type": "stream",
          "text": [
            "WARNING:tensorflow:From /usr/local/lib/python3.6/dist-packages/tensorflow_core/python/ops/resource_variable_ops.py:1630: calling BaseResourceVariable.__init__ (from tensorflow.python.ops.resource_variable_ops) with constraint is deprecated and will be removed in a future version.\n",
            "Instructions for updating:\n",
            "If using Keras pass *_constraint arguments to layers.\n"
          ],
          "name": "stdout"
        }
      ]
    },
    {
      "cell_type": "code",
      "metadata": {
        "id": "_kiHnVEyleAA",
        "colab_type": "code",
        "colab": {}
      },
      "source": [
        "for layer in resnet.layers:\n",
        "    layer.trainable = False"
      ],
      "execution_count": 0,
      "outputs": []
    },
    {
      "cell_type": "code",
      "metadata": {
        "id": "dws0VJzvlxIt",
        "colab_type": "code",
        "colab": {}
      },
      "source": [
        "x = resnet.output\n",
        "x = GlobalAveragePooling2D()(x) # This layer is a really fancy flatten\n",
        "x = Dense(1024, activation='relu')(x)\n",
        "predictions = Dense(1, activation='sigmoid')(x)\n",
        "model = Model(resnet.input, predictions)"
      ],
      "execution_count": 0,
      "outputs": []
    },
    {
      "cell_type": "code",
      "metadata": {
        "id": "xKI6r1d_mRV4",
        "colab_type": "code",
        "colab": {}
      },
      "source": [
        "import os\n",
        "forest_images = ['./forest/'+ image for image in os.listdir('./forest')]\n",
        "mountain_images = ['./mountain/'+ image for image in os.listdir('./mountain')]"
      ],
      "execution_count": 0,
      "outputs": []
    },
    {
      "cell_type": "code",
      "metadata": {
        "id": "4_uBOO6Ey1v0",
        "colab_type": "code",
        "colab": {}
      },
      "source": [
        "# Create data labels (y)\n",
        "y0 = np.zeros(len(forest_images))\n",
        "y1 = np.ones(len(mountain_images))\n",
        "y = np.hstack((y0,y1))  # create labelled data (0 is forest, 1 is mountain)"
      ],
      "execution_count": 0,
      "outputs": []
    },
    {
      "cell_type": "code",
      "metadata": {
        "id": "yzaTZ0bg1swm",
        "colab_type": "code",
        "colab": {}
      },
      "source": [
        "# Create data arrays (X)\n",
        "import PIL\n",
        "X = []\n",
        "for image in (forest_images + mountain_images):\n",
        "  image_array = np.asarray(PIL.Image.open(image))\n",
        "  X.append(image_array)\n",
        "\n",
        "X = np.array(X) / 255 # normalize pixel values by dividing by 255"
      ],
      "execution_count": 0,
      "outputs": []
    },
    {
      "cell_type": "code",
      "metadata": {
        "id": "H87Nx-zb28D5",
        "colab_type": "code",
        "colab": {
          "base_uri": "https://localhost:8080/",
          "height": 34
        },
        "outputId": "f731817d-dc6a-4632-ee74-56abd596c4aa"
      },
      "source": [
        "X.shape"
      ],
      "execution_count": 8,
      "outputs": [
        {
          "output_type": "execute_result",
          "data": {
            "text/plain": [
              "(702, 256, 256, 3)"
            ]
          },
          "metadata": {
            "tags": []
          },
          "execution_count": 8
        }
      ]
    },
    {
      "cell_type": "code",
      "metadata": {
        "id": "urpi032944Zl",
        "colab_type": "code",
        "colab": {}
      },
      "source": [
        "# Segment off some of the data to test later\n",
        "from sklearn.model_selection import train_test_split\n",
        "X_train, X_test, y_train, y_test =  train_test_split(X,y, random_state=88)"
      ],
      "execution_count": 0,
      "outputs": []
    },
    {
      "cell_type": "markdown",
      "metadata": {
        "id": "tTnd_1ONNFb2",
        "colab_type": "text"
      },
      "source": [
        "## Fit Model"
      ]
    },
    {
      "cell_type": "code",
      "metadata": {
        "id": "sV7p8VHu9S7e",
        "colab_type": "code",
        "colab": {}
      },
      "source": [
        "model.compile(loss='binary_crossentropy', optimizer='Nadam', metrics=['accuracy'])"
      ],
      "execution_count": 0,
      "outputs": []
    },
    {
      "cell_type": "code",
      "metadata": {
        "id": "7lK_MU07NFdD",
        "colab_type": "code",
        "colab": {
          "base_uri": "https://localhost:8080/",
          "height": 221
        },
        "outputId": "4713ca7b-fb24-466f-c5f6-87534f6decaf"
      },
      "source": [
        "model.fit(X_train, y_train, epochs=5, validation_data=(X_test, y_test))"
      ],
      "execution_count": 90,
      "outputs": [
        {
          "output_type": "stream",
          "text": [
            "Train on 526 samples, validate on 176 samples\n",
            "Epoch 1/5\n",
            "526/526 [==============================] - 4s 8ms/sample - loss: 0.6336 - acc: 0.8650 - val_loss: 0.7191 - val_acc: 0.5114\n",
            "Epoch 2/5\n",
            "526/526 [==============================] - 2s 4ms/sample - loss: 0.2302 - acc: 0.9297 - val_loss: 0.7453 - val_acc: 0.5114\n",
            "Epoch 3/5\n",
            "526/526 [==============================] - 2s 4ms/sample - loss: 0.0138 - acc: 0.9943 - val_loss: 1.0735 - val_acc: 0.5114\n",
            "Epoch 4/5\n",
            "526/526 [==============================] - 2s 4ms/sample - loss: 0.0121 - acc: 0.9981 - val_loss: 1.0351 - val_acc: 0.5114\n",
            "Epoch 5/5\n",
            "526/526 [==============================] - 2s 4ms/sample - loss: 0.0141 - acc: 0.9962 - val_loss: 1.2731 - val_acc: 0.5114\n"
          ],
          "name": "stdout"
        },
        {
          "output_type": "execute_result",
          "data": {
            "text/plain": [
              "<tensorflow.python.keras.callbacks.History at 0x7f156e89cb70>"
            ]
          },
          "metadata": {
            "tags": []
          },
          "execution_count": 90
        }
      ]
    },
    {
      "cell_type": "code",
      "metadata": {
        "id": "F6f8e5IGLlut",
        "colab_type": "code",
        "colab": {
          "base_uri": "https://localhost:8080/",
          "height": 51
        },
        "outputId": "6553a22d-47b7-4d21-9f29-42dd5082eed5"
      },
      "source": [
        "model.evaluate(X_test,y_test)"
      ],
      "execution_count": 76,
      "outputs": [
        {
          "output_type": "stream",
          "text": [
            "176/176 [==============================] - 1s 3ms/sample - loss: 2.0679 - acc: 0.5114\n"
          ],
          "name": "stdout"
        },
        {
          "output_type": "execute_result",
          "data": {
            "text/plain": [
              "[2.0679440715096216, 0.5113636]"
            ]
          },
          "metadata": {
            "tags": []
          },
          "execution_count": 76
        }
      ]
    },
    {
      "cell_type": "code",
      "metadata": {
        "id": "ImtmCJKxOYcG",
        "colab_type": "code",
        "colab": {
          "base_uri": "https://localhost:8080/",
          "height": 187
        },
        "outputId": "2ce1ca75-829c-4808-bde9-88ad70d909b5"
      },
      "source": [
        "model.predict_on_batch(X_test)[:10] # looks like the model is overfitting and predicting near 1 (mountain) for everything"
      ],
      "execution_count": 81,
      "outputs": [
        {
          "output_type": "execute_result",
          "data": {
            "text/plain": [
              "array([[0.98168105],\n",
              "       [0.984094  ],\n",
              "       [0.9879166 ],\n",
              "       [0.9836111 ],\n",
              "       [0.9881889 ],\n",
              "       [0.98573923],\n",
              "       [0.98664886],\n",
              "       [0.9854586 ],\n",
              "       [0.98731995],\n",
              "       [0.9878589 ]], dtype=float32)"
            ]
          },
          "metadata": {
            "tags": []
          },
          "execution_count": 81
        }
      ]
    },
    {
      "cell_type": "markdown",
      "metadata": {
        "id": "MD0QsiEXNFdY",
        "colab_type": "text"
      },
      "source": [
        "# Custom CNN Model\n",
        "\n",
        "In this step, write and train your own convolutional neural network using Keras. You can use any architecture that suits you as long as it has at least one convolutional and one pooling layer at the beginning of the network - you can add more if you want. "
      ]
    },
    {
      "cell_type": "code",
      "metadata": {
        "id": "leK1Z1RLVDZW",
        "colab_type": "code",
        "colab": {}
      },
      "source": [
        "from tensorflow.keras.models import Sequential\n",
        "from tensorflow.keras.layers import Dense, Flatten, Conv2D, MaxPooling2D"
      ],
      "execution_count": 0,
      "outputs": []
    },
    {
      "cell_type": "code",
      "metadata": {
        "id": "CBNInK5oX2HZ",
        "colab_type": "code",
        "colab": {
          "base_uri": "https://localhost:8080/",
          "height": 34
        },
        "outputId": "7a2d1876-e73d-49d2-8169-fd37e4b7f550"
      },
      "source": [
        "X.shape"
      ],
      "execution_count": 97,
      "outputs": [
        {
          "output_type": "execute_result",
          "data": {
            "text/plain": [
              "(702, 256, 256, 3)"
            ]
          },
          "metadata": {
            "tags": []
          },
          "execution_count": 97
        }
      ]
    },
    {
      "cell_type": "code",
      "metadata": {
        "id": "XzgMm-ITXiPZ",
        "colab_type": "code",
        "colab": {
          "base_uri": "https://localhost:8080/",
          "height": 459
        },
        "outputId": "b9d0fefd-3753-4c53-af65-371a2f1f49a4"
      },
      "source": [
        "custom_model = Sequential()\n",
        "custom_model.add(Conv2D(128, (5,5), activation='relu', input_shape=(256,256,3)))\n",
        "custom_model.add(MaxPooling2D(4,4))\n",
        "custom_model.add(Conv2D(128,(5,5), activation='relu'))\n",
        "custom_model.add(MaxPooling2D(4,4))\n",
        "custom_model.add(Conv2D(128,(5,5), activation='relu'))\n",
        "custom_model.add(MaxPooling2D(4,4))\n",
        "custom_model.add(Flatten())\n",
        "custom_model.add(Dense(64, activation='relu'))\n",
        "custom_model.add(Dense(1, activation='sigmoid'))\n",
        "\n",
        "custom_model.summary()"
      ],
      "execution_count": 103,
      "outputs": [
        {
          "output_type": "stream",
          "text": [
            "Model: \"sequential_4\"\n",
            "_________________________________________________________________\n",
            "Layer (type)                 Output Shape              Param #   \n",
            "=================================================================\n",
            "conv2d_8 (Conv2D)            (None, 252, 252, 128)     9728      \n",
            "_________________________________________________________________\n",
            "max_pooling2d_6 (MaxPooling2 (None, 63, 63, 128)       0         \n",
            "_________________________________________________________________\n",
            "conv2d_9 (Conv2D)            (None, 59, 59, 128)       409728    \n",
            "_________________________________________________________________\n",
            "max_pooling2d_7 (MaxPooling2 (None, 14, 14, 128)       0         \n",
            "_________________________________________________________________\n",
            "conv2d_10 (Conv2D)           (None, 10, 10, 128)       409728    \n",
            "_________________________________________________________________\n",
            "max_pooling2d_8 (MaxPooling2 (None, 2, 2, 128)         0         \n",
            "_________________________________________________________________\n",
            "flatten_2 (Flatten)          (None, 512)               0         \n",
            "_________________________________________________________________\n",
            "dense_18 (Dense)             (None, 64)                32832     \n",
            "_________________________________________________________________\n",
            "dense_19 (Dense)             (None, 1)                 65        \n",
            "=================================================================\n",
            "Total params: 862,081\n",
            "Trainable params: 862,081\n",
            "Non-trainable params: 0\n",
            "_________________________________________________________________\n"
          ],
          "name": "stdout"
        }
      ]
    },
    {
      "cell_type": "code",
      "metadata": {
        "id": "7Tb_TjmWNFde",
        "colab_type": "code",
        "colab": {}
      },
      "source": [
        "# compile model\n",
        "custom_model.compile(loss='sparse_categorical_crossentropy', optimizer='adam', metrics=['accuracy'])"
      ],
      "execution_count": 0,
      "outputs": []
    },
    {
      "cell_type": "code",
      "metadata": {
        "id": "KQC_MvdCcrsQ",
        "colab_type": "code",
        "colab": {
          "base_uri": "https://localhost:8080/",
          "height": 901
        },
        "outputId": "79c10e6a-d719-426b-a9e6-7bc4bb9fc5b5"
      },
      "source": [
        "# fit model\n",
        "custom_model.fit(X_train, y_train, epochs=25, validation_data=(X_test, y_test))"
      ],
      "execution_count": 108,
      "outputs": [
        {
          "output_type": "stream",
          "text": [
            "Train on 526 samples, validate on 176 samples\n",
            "Epoch 1/25\n",
            "526/526 [==============================] - 2s 3ms/sample - loss: nan - acc: 0.5437 - val_loss: nan - val_acc: 0.5114\n",
            "Epoch 2/25\n",
            "526/526 [==============================] - 2s 3ms/sample - loss: nan - acc: 0.5399 - val_loss: nan - val_acc: 0.5114\n",
            "Epoch 3/25\n",
            "526/526 [==============================] - 2s 3ms/sample - loss: nan - acc: 0.5399 - val_loss: nan - val_acc: 0.5114\n",
            "Epoch 4/25\n",
            "526/526 [==============================] - 2s 3ms/sample - loss: nan - acc: 0.5361 - val_loss: nan - val_acc: 0.5114\n",
            "Epoch 5/25\n",
            "526/526 [==============================] - 2s 3ms/sample - loss: nan - acc: 0.5361 - val_loss: nan - val_acc: 0.5114\n",
            "Epoch 6/25\n",
            "526/526 [==============================] - 2s 3ms/sample - loss: nan - acc: 0.5399 - val_loss: nan - val_acc: 0.5114\n",
            "Epoch 7/25\n",
            "526/526 [==============================] - 2s 3ms/sample - loss: nan - acc: 0.5361 - val_loss: nan - val_acc: 0.5114\n",
            "Epoch 8/25\n",
            "526/526 [==============================] - 2s 3ms/sample - loss: nan - acc: 0.5437 - val_loss: nan - val_acc: 0.5114\n",
            "Epoch 9/25\n",
            "526/526 [==============================] - 2s 3ms/sample - loss: nan - acc: 0.5437 - val_loss: nan - val_acc: 0.5114\n",
            "Epoch 10/25\n",
            "526/526 [==============================] - 2s 3ms/sample - loss: nan - acc: 0.5399 - val_loss: nan - val_acc: 0.5114\n",
            "Epoch 11/25\n",
            "526/526 [==============================] - 2s 3ms/sample - loss: nan - acc: 0.5399 - val_loss: nan - val_acc: 0.5114\n",
            "Epoch 12/25\n",
            "526/526 [==============================] - 2s 3ms/sample - loss: nan - acc: 0.5399 - val_loss: nan - val_acc: 0.5114\n",
            "Epoch 13/25\n",
            "526/526 [==============================] - 2s 3ms/sample - loss: nan - acc: 0.5399 - val_loss: nan - val_acc: 0.5114\n",
            "Epoch 14/25\n",
            "526/526 [==============================] - 2s 3ms/sample - loss: nan - acc: 0.5399 - val_loss: nan - val_acc: 0.5114\n",
            "Epoch 15/25\n",
            "526/526 [==============================] - 2s 3ms/sample - loss: nan - acc: 0.5437 - val_loss: nan - val_acc: 0.5114\n",
            "Epoch 16/25\n",
            "526/526 [==============================] - 2s 3ms/sample - loss: nan - acc: 0.5361 - val_loss: nan - val_acc: 0.5114\n",
            "Epoch 17/25\n",
            "526/526 [==============================] - 2s 3ms/sample - loss: nan - acc: 0.5399 - val_loss: nan - val_acc: 0.5114\n",
            "Epoch 18/25\n",
            "526/526 [==============================] - 2s 3ms/sample - loss: nan - acc: 0.5361 - val_loss: nan - val_acc: 0.5114\n",
            "Epoch 19/25\n",
            "526/526 [==============================] - 2s 3ms/sample - loss: nan - acc: 0.5437 - val_loss: nan - val_acc: 0.5114\n",
            "Epoch 20/25\n",
            "526/526 [==============================] - 2s 3ms/sample - loss: nan - acc: 0.5399 - val_loss: nan - val_acc: 0.5114\n",
            "Epoch 21/25\n",
            "526/526 [==============================] - 2s 3ms/sample - loss: nan - acc: 0.5399 - val_loss: nan - val_acc: 0.5114\n",
            "Epoch 22/25\n",
            "526/526 [==============================] - 2s 3ms/sample - loss: nan - acc: 0.5399 - val_loss: nan - val_acc: 0.5114\n",
            "Epoch 23/25\n",
            "526/526 [==============================] - 2s 3ms/sample - loss: nan - acc: 0.5361 - val_loss: nan - val_acc: 0.5114\n",
            "Epoch 24/25\n",
            "526/526 [==============================] - 2s 3ms/sample - loss: nan - acc: 0.5361 - val_loss: nan - val_acc: 0.5114\n",
            "Epoch 25/25\n",
            "526/526 [==============================] - 2s 3ms/sample - loss: nan - acc: 0.5437 - val_loss: nan - val_acc: 0.5114\n"
          ],
          "name": "stdout"
        },
        {
          "output_type": "execute_result",
          "data": {
            "text/plain": [
              "<tensorflow.python.keras.callbacks.History at 0x7f156e60dac8>"
            ]
          },
          "metadata": {
            "tags": []
          },
          "execution_count": 108
        }
      ]
    },
    {
      "cell_type": "markdown",
      "metadata": {
        "id": "p2kODJBniCDc",
        "colab_type": "text"
      },
      "source": [
        "### Again, My validation accuracy isn't changing, but my model's accuracy isn't very good anyway"
      ]
    },
    {
      "cell_type": "markdown",
      "metadata": {
        "id": "NQczfP79NFeF",
        "colab_type": "text"
      },
      "source": [
        "# Custom CNN Model with Image Manipulations\n",
        "## *This a stretch goal, and it's relatively difficult*\n",
        "\n",
        "To simulate an increase in a sample of image, you can apply image manipulation techniques: cropping, rotation, stretching, etc. Luckily Keras has some handy functions for us to apply these techniques to our mountain and forest example. Check out these resources to help you get started: \n",
        "\n",
        "1. [Keras `ImageGenerator` Class](https://keras.io/preprocessing/image/#imagedatagenerator-class)\n",
        "2. [Building a powerful image classifier with very little data](https://blog.keras.io/building-powerful-image-classification-models-using-very-little-data.html)\n",
        " "
      ]
    },
    {
      "cell_type": "code",
      "metadata": {
        "id": "aSHWJ3T0NFeK",
        "colab_type": "code",
        "colab": {}
      },
      "source": [
        "# State Code for Image Manipulation Here"
      ],
      "execution_count": 0,
      "outputs": []
    },
    {
      "cell_type": "markdown",
      "metadata": {
        "colab_type": "text",
        "id": "uT3UV3gap9H6"
      },
      "source": [
        "# Resources and Stretch Goals\n",
        "\n",
        "Stretch goals\n",
        "- Enhance your code to use classes/functions and accept terms to search and classes to look for in recognizing the downloaded images (e.g. download images of parties, recognize all that contain balloons)\n",
        "- Check out [other available pretrained networks](https://tfhub.dev), try some and compare\n",
        "- Image recognition/classification is somewhat solved, but *relationships* between entities and describing an image is not - check out some of the extended resources (e.g. [Visual Genome](https://visualgenome.org/)) on the topic\n",
        "- Transfer learning - using images you source yourself, [retrain a classifier](https://www.tensorflow.org/hub/tutorials/image_retraining) with a new category\n",
        "- (Not CNN related) Use [piexif](https://pypi.org/project/piexif/) to check out the metadata of images passed in to your system - see if they're from a national park! (Note - many images lack GPS metadata, so this won't work in most cases, but still cool)\n",
        "\n",
        "Resources\n",
        "- [Deep Residual Learning for Image Recognition](https://arxiv.org/abs/1512.03385) - influential paper (introduced ResNet)\n",
        "- [YOLO: Real-Time Object Detection](https://pjreddie.com/darknet/yolo/) - an influential convolution based object detection system, focused on inference speed (for applications to e.g. self driving vehicles)\n",
        "- [R-CNN, Fast R-CNN, Faster R-CNN, YOLO](https://towardsdatascience.com/r-cnn-fast-r-cnn-faster-r-cnn-yolo-object-detection-algorithms-36d53571365e) - comparison of object detection systems\n",
        "- [Common Objects in Context](http://cocodataset.org/) - a large-scale object detection, segmentation, and captioning dataset\n",
        "- [Visual Genome](https://visualgenome.org/) - a dataset, a knowledge base, an ongoing effort to connect structured image concepts to language"
      ]
    }
  ]
}