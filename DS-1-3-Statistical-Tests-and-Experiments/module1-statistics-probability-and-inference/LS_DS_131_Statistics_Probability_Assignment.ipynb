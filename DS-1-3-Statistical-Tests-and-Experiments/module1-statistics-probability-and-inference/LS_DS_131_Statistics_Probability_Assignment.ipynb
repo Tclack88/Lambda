{
  "nbformat": 4,
  "nbformat_minor": 0,
  "metadata": {
    "kernelspec": {
      "display_name": "Python 3",
      "language": "python",
      "name": "python3"
    },
    "language_info": {
      "codemirror_mode": {
        "name": "ipython",
        "version": 3
      },
      "file_extension": ".py",
      "mimetype": "text/x-python",
      "name": "python",
      "nbconvert_exporter": "python",
      "pygments_lexer": "ipython3",
      "version": "3.7.3"
    },
    "colab": {
      "name": "LS_DS_131_Statistics_Probability_Assignment.ipynb",
      "version": "0.3.2",
      "provenance": [],
      "include_colab_link": true
    }
  },
  "cells": [
    {
      "cell_type": "markdown",
      "metadata": {
        "id": "view-in-github",
        "colab_type": "text"
      },
      "source": [
        "<a href=\"https://colab.research.google.com/github/Tclack88/DS-Unit-1-Sprint-3-Statistical-Tests-and-Experiments/blob/master/module1-statistics-probability-and-inference/LS_DS_131_Statistics_Probability_Assignment.ipynb\" target=\"_parent\"><img src=\"https://colab.research.google.com/assets/colab-badge.svg\" alt=\"Open In Colab\"/></a>"
      ]
    },
    {
      "cell_type": "markdown",
      "metadata": {
        "id": "ImIYkpdx3lEH",
        "colab_type": "text"
      },
      "source": [
        "<img align=\"left\" src=\"https://lever-client-logos.s3.amazonaws.com/864372b1-534c-480e-acd5-9711f850815c-1524247202159.png\" width=200>\n",
        "<br></br>\n",
        "<br></br>\n",
        "\n",
        "## *Data Science Unit 1 Sprint 3 Assignment 1*\n",
        "\n",
        "# Apply the t-test to real data\n",
        "\n",
        "Your assignment is to determine which issues have \"statistically significant\" differences between political parties in this [1980s congressional voting data](https://archive.ics.uci.edu/ml/datasets/Congressional+Voting+Records). The data consists of 435 instances (one for each congressperson), a class (democrat or republican), and 16 binary attributes (yes or no for voting for or against certain issues). Be aware - there are missing values!\n",
        "\n",
        "Your goals:\n",
        "\n",
        "1. Load and clean the data (or determine the best method to drop observations when running tests)\n",
        "2. Using hypothesis testing, find an issue that democrats support more than republicans with p < 0.01\n",
        "3. Using hypothesis testing, find an issue that republicans support more than democrats with p < 0.01\n",
        "4. Using hypothesis testing, find an issue where the difference between republicans and democrats has p > 0.1 (i.e. there may not be much of a difference)\n",
        "\n",
        "Note that this data will involve *2 sample* t-tests, because you're comparing averages across two groups (republicans and democrats) rather than a single group against a null hypothesis.\n",
        "\n",
        "- try some 1-sample t-tests\n",
        "\n",
        "\n",
        "\n",
        "1. Refactor your code into functions so it's easy to rerun with arbitrary variables\n",
        "2. Apply hypothesis testing to your personal project data (for the purposes of this notebook you can type a summary of the hypothesis you formed and tested)\n",
        "3. You try and create some kind of a visualization that communicates the results of your hypothesis tests. This can be as simple as a histogram of the p-values or the t-statistics."
      ]
    },
    {
      "cell_type": "code",
      "metadata": {
        "id": "i--JCnAsdmMO",
        "colab_type": "code",
        "colab": {}
      },
      "source": [
        "import numpy as np\n",
        "import pandas as pd\n",
        "from scipy.stats import ttest_ind,ttest_1samp"
      ],
      "execution_count": 0,
      "outputs": []
    },
    {
      "cell_type": "markdown",
      "metadata": {
        "id": "GD8QPEXteAEy",
        "colab_type": "text"
      },
      "source": [
        "## 1 -- load and clean"
      ]
    },
    {
      "cell_type": "code",
      "metadata": {
        "id": "0yKEk0QJ3lEJ",
        "colab_type": "code",
        "outputId": "95fc9f03-3cdd-4b4b-e1f9-99cd913e142c",
        "colab": {
          "base_uri": "https://localhost:8080/",
          "height": 221
        }
      },
      "source": [
        "df = pd.read_csv(\"https://archive.ics.uci.edu/ml/machine-learning-databases/voting-records/house-votes-84.data\",\n",
        "                          names=['party','handicapped-infants','water-project',\n",
        "                          'budget','physician-fee-freeze', 'el-salvador-aid',\n",
        "                          'religious-groups','anti-satellite-ban',\n",
        "                          'aid-to-contras','mx-missile','immigration',\n",
        "                          'synfuels', 'education', 'right-to-sue','crime','duty-free',\n",
        "                          'south-africa'])\n",
        "df = df.replace({'n':0,'y':1,'?':np.nan})\n",
        "df.head()"
      ],
      "execution_count": 151,
      "outputs": [
        {
          "output_type": "execute_result",
          "data": {
            "text/html": [
              "<div>\n",
              "<style scoped>\n",
              "    .dataframe tbody tr th:only-of-type {\n",
              "        vertical-align: middle;\n",
              "    }\n",
              "\n",
              "    .dataframe tbody tr th {\n",
              "        vertical-align: top;\n",
              "    }\n",
              "\n",
              "    .dataframe thead th {\n",
              "        text-align: right;\n",
              "    }\n",
              "</style>\n",
              "<table border=\"1\" class=\"dataframe\">\n",
              "  <thead>\n",
              "    <tr style=\"text-align: right;\">\n",
              "      <th></th>\n",
              "      <th>party</th>\n",
              "      <th>handicapped-infants</th>\n",
              "      <th>water-project</th>\n",
              "      <th>budget</th>\n",
              "      <th>physician-fee-freeze</th>\n",
              "      <th>el-salvador-aid</th>\n",
              "      <th>religious-groups</th>\n",
              "      <th>anti-satellite-ban</th>\n",
              "      <th>aid-to-contras</th>\n",
              "      <th>mx-missile</th>\n",
              "      <th>immigration</th>\n",
              "      <th>synfuels</th>\n",
              "      <th>education</th>\n",
              "      <th>right-to-sue</th>\n",
              "      <th>crime</th>\n",
              "      <th>duty-free</th>\n",
              "      <th>south-africa</th>\n",
              "    </tr>\n",
              "  </thead>\n",
              "  <tbody>\n",
              "    <tr>\n",
              "      <th>0</th>\n",
              "      <td>republican</td>\n",
              "      <td>0.0</td>\n",
              "      <td>1.0</td>\n",
              "      <td>0.0</td>\n",
              "      <td>1.0</td>\n",
              "      <td>1.0</td>\n",
              "      <td>1.0</td>\n",
              "      <td>0.0</td>\n",
              "      <td>0.0</td>\n",
              "      <td>0.0</td>\n",
              "      <td>1.0</td>\n",
              "      <td>NaN</td>\n",
              "      <td>1.0</td>\n",
              "      <td>1.0</td>\n",
              "      <td>1.0</td>\n",
              "      <td>0.0</td>\n",
              "      <td>1.0</td>\n",
              "    </tr>\n",
              "    <tr>\n",
              "      <th>1</th>\n",
              "      <td>republican</td>\n",
              "      <td>0.0</td>\n",
              "      <td>1.0</td>\n",
              "      <td>0.0</td>\n",
              "      <td>1.0</td>\n",
              "      <td>1.0</td>\n",
              "      <td>1.0</td>\n",
              "      <td>0.0</td>\n",
              "      <td>0.0</td>\n",
              "      <td>0.0</td>\n",
              "      <td>0.0</td>\n",
              "      <td>0.0</td>\n",
              "      <td>1.0</td>\n",
              "      <td>1.0</td>\n",
              "      <td>1.0</td>\n",
              "      <td>0.0</td>\n",
              "      <td>NaN</td>\n",
              "    </tr>\n",
              "    <tr>\n",
              "      <th>2</th>\n",
              "      <td>democrat</td>\n",
              "      <td>NaN</td>\n",
              "      <td>1.0</td>\n",
              "      <td>1.0</td>\n",
              "      <td>NaN</td>\n",
              "      <td>1.0</td>\n",
              "      <td>1.0</td>\n",
              "      <td>0.0</td>\n",
              "      <td>0.0</td>\n",
              "      <td>0.0</td>\n",
              "      <td>0.0</td>\n",
              "      <td>1.0</td>\n",
              "      <td>0.0</td>\n",
              "      <td>1.0</td>\n",
              "      <td>1.0</td>\n",
              "      <td>0.0</td>\n",
              "      <td>0.0</td>\n",
              "    </tr>\n",
              "    <tr>\n",
              "      <th>3</th>\n",
              "      <td>democrat</td>\n",
              "      <td>0.0</td>\n",
              "      <td>1.0</td>\n",
              "      <td>1.0</td>\n",
              "      <td>0.0</td>\n",
              "      <td>NaN</td>\n",
              "      <td>1.0</td>\n",
              "      <td>0.0</td>\n",
              "      <td>0.0</td>\n",
              "      <td>0.0</td>\n",
              "      <td>0.0</td>\n",
              "      <td>1.0</td>\n",
              "      <td>0.0</td>\n",
              "      <td>1.0</td>\n",
              "      <td>0.0</td>\n",
              "      <td>0.0</td>\n",
              "      <td>1.0</td>\n",
              "    </tr>\n",
              "    <tr>\n",
              "      <th>4</th>\n",
              "      <td>democrat</td>\n",
              "      <td>1.0</td>\n",
              "      <td>1.0</td>\n",
              "      <td>1.0</td>\n",
              "      <td>0.0</td>\n",
              "      <td>1.0</td>\n",
              "      <td>1.0</td>\n",
              "      <td>0.0</td>\n",
              "      <td>0.0</td>\n",
              "      <td>0.0</td>\n",
              "      <td>0.0</td>\n",
              "      <td>1.0</td>\n",
              "      <td>NaN</td>\n",
              "      <td>1.0</td>\n",
              "      <td>1.0</td>\n",
              "      <td>1.0</td>\n",
              "      <td>1.0</td>\n",
              "    </tr>\n",
              "  </tbody>\n",
              "</table>\n",
              "</div>"
            ],
            "text/plain": [
              "        party  handicapped-infants  ...  duty-free  south-africa\n",
              "0  republican                  0.0  ...        0.0           1.0\n",
              "1  republican                  0.0  ...        0.0           NaN\n",
              "2    democrat                  NaN  ...        0.0           0.0\n",
              "3    democrat                  0.0  ...        0.0           1.0\n",
              "4    democrat                  1.0  ...        1.0           1.0\n",
              "\n",
              "[5 rows x 17 columns]"
            ]
          },
          "metadata": {
            "tags": []
          },
          "execution_count": 151
        }
      ]
    },
    {
      "cell_type": "code",
      "metadata": {
        "id": "NMwETYrxebyi",
        "colab_type": "code",
        "colab": {}
      },
      "source": [
        "rep = df[df.party == 'republican']\n",
        "dem = df[df.party == 'democrat']"
      ],
      "execution_count": 0,
      "outputs": []
    },
    {
      "cell_type": "markdown",
      "metadata": {
        "id": "RFpQjE2-eFYo",
        "colab_type": "text"
      },
      "source": [
        "## 2 -- hypothesis testing: dems support bill more than republican with p < .01\n",
        "\n",
        "### preview: synthetic fuels"
      ]
    },
    {
      "cell_type": "code",
      "metadata": {
        "id": "nG1IepKMmFbD",
        "colab_type": "code",
        "outputId": "17634d6c-dc6b-4a88-ed20-3c4a4101cfd0",
        "colab": {
          "base_uri": "https://localhost:8080/",
          "height": 170
        }
      },
      "source": [
        "print('democracts')\n",
        "print(dem.synfuels.value_counts())\n",
        "print('\\nRepublicans')\n",
        "print(rep.synfuels.value_counts())"
      ],
      "execution_count": 153,
      "outputs": [
        {
          "output_type": "stream",
          "text": [
            "democracts\n",
            "1.0    129\n",
            "0.0    126\n",
            "Name: synfuels, dtype: int64\n",
            "\n",
            "Republicans\n",
            "0.0    138\n",
            "1.0     21\n",
            "Name: synfuels, dtype: int64\n"
          ],
          "name": "stdout"
        }
      ]
    },
    {
      "cell_type": "markdown",
      "metadata": {
        "id": "13QdiEZylTUh",
        "colab_type": "text"
      },
      "source": [
        "### synthetic fuels\n",
        "\n",
        "1) null hypothesis: democrats support the bill as much as republicans\n",
        "\n",
        "2) alternative hypothesis: There is a statistically significant difference between the votes of republicans and democrats on this bill\n",
        "\n",
        "3) confidence level 99%"
      ]
    },
    {
      "cell_type": "markdown",
      "metadata": {
        "id": "hIuMkd7Gl-O6",
        "colab_type": "text"
      },
      "source": [
        ""
      ]
    },
    {
      "cell_type": "code",
      "metadata": {
        "id": "7kAOIrNOiNKS",
        "colab_type": "code",
        "outputId": "d31918f0-fc9b-4937-f43d-c6475cbc5966",
        "colab": {
          "base_uri": "https://localhost:8080/",
          "height": 34
        }
      },
      "source": [
        "ttest_ind(dem.synfuels,rep.synfuels,nan_policy='omit')"
      ],
      "execution_count": 154,
      "outputs": [
        {
          "output_type": "execute_result",
          "data": {
            "text/plain": [
              "Ttest_indResult(statistic=8.293603989407588, pvalue=1.5759322301054064e-15)"
            ]
          },
          "metadata": {
            "tags": []
          },
          "execution_count": 154
        }
      ]
    },
    {
      "cell_type": "markdown",
      "metadata": {
        "id": "L8C9WBF3k9iv",
        "colab_type": "text"
      },
      "source": [
        "4) t-statistic: 8.294\n",
        "\n",
        "5) pvalue: .00000000000000158\n",
        "\n",
        "---\n",
        "conclusion:\n",
        "Due to the t-statistic (8.294) having a p-value of 1.58E-15, we reject the null hypothesis that democrats and republicans support the syntetic fuels bill equally and suggest the alternative hypothesis that their thoughts on the bill differ"
      ]
    },
    {
      "cell_type": "markdown",
      "metadata": {
        "id": "CZjHzHhOlKvz",
        "colab_type": "text"
      },
      "source": [
        "## 3 -- hypothesis testing: republicans support bill more than democrats with p < .01\n",
        "\n",
        "### preview: Crime"
      ]
    },
    {
      "cell_type": "code",
      "metadata": {
        "id": "bPUeyHV9n5gX",
        "colab_type": "code",
        "outputId": "d3af1243-2b97-4df6-ef14-eb1b24780a3f",
        "colab": {
          "base_uri": "https://localhost:8080/",
          "height": 170
        }
      },
      "source": [
        "print('democrats:')\n",
        "print(dem.crime.value_counts())\n",
        "print('\\nrepublicans')\n",
        "print(rep.crime.value_counts())"
      ],
      "execution_count": 155,
      "outputs": [
        {
          "output_type": "stream",
          "text": [
            "democrats:\n",
            "0.0    167\n",
            "1.0     90\n",
            "Name: crime, dtype: int64\n",
            "\n",
            "republicans\n",
            "1.0    158\n",
            "0.0      3\n",
            "Name: crime, dtype: int64\n"
          ],
          "name": "stdout"
        }
      ]
    },
    {
      "cell_type": "markdown",
      "metadata": {
        "id": "UZOLq0y1pTEw",
        "colab_type": "text"
      },
      "source": [
        "1) null hypothesis: republicans and democrats vote similarly on this particular bill related to crime\n",
        "\n",
        "2) alternative hypothesis: republicans and democrats vote differently regarding this bill on crime\n",
        "\n",
        "3) confidence level - 99%"
      ]
    },
    {
      "cell_type": "code",
      "metadata": {
        "id": "cgwys9R-oBDu",
        "colab_type": "code",
        "outputId": "e7b00b80-74f0-470d-d583-6bb5f5c49323",
        "colab": {
          "base_uri": "https://localhost:8080/",
          "height": 34
        }
      },
      "source": [
        "ttest_ind(rep.crime,dem.crime,nan_policy='omit')"
      ],
      "execution_count": 156,
      "outputs": [
        {
          "output_type": "execute_result",
          "data": {
            "text/plain": [
              "Ttest_indResult(statistic=16.342085656197696, pvalue=9.952342705606092e-47)"
            ]
          },
          "metadata": {
            "tags": []
          },
          "execution_count": 156
        }
      ]
    },
    {
      "cell_type": "markdown",
      "metadata": {
        "id": "aDyxYiV5pPcv",
        "colab_type": "text"
      },
      "source": [
        "4) t-statistic : 16.34\n",
        "\n",
        "5) p-value : 9.95E-47\n",
        "\n",
        "---\n",
        "conclusion:\n",
        "\n",
        "given the t-statistic (16.34) with a p-value of 9.95E-47, we reject the null hypothesis that democrats and republicans vote similarly on this bill related to crime and instead suggest the alternative hypothesis that republicans and democrats vote very differently on this crime bill"
      ]
    },
    {
      "cell_type": "markdown",
      "metadata": {
        "id": "lVD4F_aPr1qI",
        "colab_type": "text"
      },
      "source": [
        "## 4 -- hypothesis testing: republicans support bill more than democrats with p > .01\n",
        "\n",
        "### preview - water project"
      ]
    },
    {
      "cell_type": "code",
      "metadata": {
        "id": "DD6mIvDCtXYS",
        "colab_type": "code",
        "outputId": "43af83d4-9988-476d-8b39-2a220b9189cc",
        "colab": {
          "base_uri": "https://localhost:8080/",
          "height": 170
        }
      },
      "source": [
        "print('democrats')\n",
        "print(dem['water-project'].value_counts())\n",
        "print('\\nrepublicans')\n",
        "rep['water-project'].value_counts()"
      ],
      "execution_count": 157,
      "outputs": [
        {
          "output_type": "stream",
          "text": [
            "democrats\n",
            "1.0    120\n",
            "0.0    119\n",
            "Name: water-project, dtype: int64\n",
            "\n",
            "republicans\n"
          ],
          "name": "stdout"
        },
        {
          "output_type": "execute_result",
          "data": {
            "text/plain": [
              "1.0    75\n",
              "0.0    73\n",
              "Name: water-project, dtype: int64"
            ]
          },
          "metadata": {
            "tags": []
          },
          "execution_count": 157
        }
      ]
    },
    {
      "cell_type": "markdown",
      "metadata": {
        "id": "JErxLmP0xJQQ",
        "colab_type": "text"
      },
      "source": [
        "1) null hypothesis : there is no statistically significant difference between the way democrats and republicans vote on the water-project\n",
        "\n",
        "2) alternative hypothesis : there ***is*** a statistically significant difference between the way democrats and republicans vote on the water-project\n",
        "\n",
        "3) confidence level : 99%"
      ]
    },
    {
      "cell_type": "code",
      "metadata": {
        "id": "mGxrZFJpthQZ",
        "colab_type": "code",
        "outputId": "8e4904d6-5ec3-4e65-c7c6-7793d7fa7c1e",
        "colab": {
          "base_uri": "https://localhost:8080/",
          "height": 34
        }
      },
      "source": [
        "ttest_ind(dem['water-project'],rep['water-project'],nan_policy='omit')"
      ],
      "execution_count": 158,
      "outputs": [
        {
          "output_type": "execute_result",
          "data": {
            "text/plain": [
              "Ttest_indResult(statistic=-0.08896538137868286, pvalue=0.9291556823993485)"
            ]
          },
          "metadata": {
            "tags": []
          },
          "execution_count": 158
        }
      ]
    },
    {
      "cell_type": "markdown",
      "metadata": {
        "id": "LlYmfZT-t1VI",
        "colab_type": "text"
      },
      "source": [
        "4) t-statistic : -.089\n",
        "\n",
        "5) p-value : .929\n",
        "\n",
        "---\n",
        "given the t-statistic (abs value = .089) and a p-value of .929, we fail to reject the null hypothesis that there is no statistically significant difference between the way democrats and republicans feel on the water project bill"
      ]
    },
    {
      "cell_type": "markdown",
      "metadata": {
        "id": "5cSHPTP31Y4q",
        "colab_type": "text"
      },
      "source": [
        "## One sample t-test\n",
        "\n",
        "### preview democrats and republicans on education"
      ]
    },
    {
      "cell_type": "code",
      "metadata": {
        "id": "f2rgoj831hts",
        "colab_type": "code",
        "outputId": "96bd4af7-8319-4733-b699-6cca9635e6fa",
        "colab": {
          "base_uri": "https://localhost:8080/",
          "height": 221
        }
      },
      "source": [
        "df.head()"
      ],
      "execution_count": 159,
      "outputs": [
        {
          "output_type": "execute_result",
          "data": {
            "text/html": [
              "<div>\n",
              "<style scoped>\n",
              "    .dataframe tbody tr th:only-of-type {\n",
              "        vertical-align: middle;\n",
              "    }\n",
              "\n",
              "    .dataframe tbody tr th {\n",
              "        vertical-align: top;\n",
              "    }\n",
              "\n",
              "    .dataframe thead th {\n",
              "        text-align: right;\n",
              "    }\n",
              "</style>\n",
              "<table border=\"1\" class=\"dataframe\">\n",
              "  <thead>\n",
              "    <tr style=\"text-align: right;\">\n",
              "      <th></th>\n",
              "      <th>party</th>\n",
              "      <th>handicapped-infants</th>\n",
              "      <th>water-project</th>\n",
              "      <th>budget</th>\n",
              "      <th>physician-fee-freeze</th>\n",
              "      <th>el-salvador-aid</th>\n",
              "      <th>religious-groups</th>\n",
              "      <th>anti-satellite-ban</th>\n",
              "      <th>aid-to-contras</th>\n",
              "      <th>mx-missile</th>\n",
              "      <th>immigration</th>\n",
              "      <th>synfuels</th>\n",
              "      <th>education</th>\n",
              "      <th>right-to-sue</th>\n",
              "      <th>crime</th>\n",
              "      <th>duty-free</th>\n",
              "      <th>south-africa</th>\n",
              "    </tr>\n",
              "  </thead>\n",
              "  <tbody>\n",
              "    <tr>\n",
              "      <th>0</th>\n",
              "      <td>republican</td>\n",
              "      <td>0.0</td>\n",
              "      <td>1.0</td>\n",
              "      <td>0.0</td>\n",
              "      <td>1.0</td>\n",
              "      <td>1.0</td>\n",
              "      <td>1.0</td>\n",
              "      <td>0.0</td>\n",
              "      <td>0.0</td>\n",
              "      <td>0.0</td>\n",
              "      <td>1.0</td>\n",
              "      <td>NaN</td>\n",
              "      <td>1.0</td>\n",
              "      <td>1.0</td>\n",
              "      <td>1.0</td>\n",
              "      <td>0.0</td>\n",
              "      <td>1.0</td>\n",
              "    </tr>\n",
              "    <tr>\n",
              "      <th>1</th>\n",
              "      <td>republican</td>\n",
              "      <td>0.0</td>\n",
              "      <td>1.0</td>\n",
              "      <td>0.0</td>\n",
              "      <td>1.0</td>\n",
              "      <td>1.0</td>\n",
              "      <td>1.0</td>\n",
              "      <td>0.0</td>\n",
              "      <td>0.0</td>\n",
              "      <td>0.0</td>\n",
              "      <td>0.0</td>\n",
              "      <td>0.0</td>\n",
              "      <td>1.0</td>\n",
              "      <td>1.0</td>\n",
              "      <td>1.0</td>\n",
              "      <td>0.0</td>\n",
              "      <td>NaN</td>\n",
              "    </tr>\n",
              "    <tr>\n",
              "      <th>2</th>\n",
              "      <td>democrat</td>\n",
              "      <td>NaN</td>\n",
              "      <td>1.0</td>\n",
              "      <td>1.0</td>\n",
              "      <td>NaN</td>\n",
              "      <td>1.0</td>\n",
              "      <td>1.0</td>\n",
              "      <td>0.0</td>\n",
              "      <td>0.0</td>\n",
              "      <td>0.0</td>\n",
              "      <td>0.0</td>\n",
              "      <td>1.0</td>\n",
              "      <td>0.0</td>\n",
              "      <td>1.0</td>\n",
              "      <td>1.0</td>\n",
              "      <td>0.0</td>\n",
              "      <td>0.0</td>\n",
              "    </tr>\n",
              "    <tr>\n",
              "      <th>3</th>\n",
              "      <td>democrat</td>\n",
              "      <td>0.0</td>\n",
              "      <td>1.0</td>\n",
              "      <td>1.0</td>\n",
              "      <td>0.0</td>\n",
              "      <td>NaN</td>\n",
              "      <td>1.0</td>\n",
              "      <td>0.0</td>\n",
              "      <td>0.0</td>\n",
              "      <td>0.0</td>\n",
              "      <td>0.0</td>\n",
              "      <td>1.0</td>\n",
              "      <td>0.0</td>\n",
              "      <td>1.0</td>\n",
              "      <td>0.0</td>\n",
              "      <td>0.0</td>\n",
              "      <td>1.0</td>\n",
              "    </tr>\n",
              "    <tr>\n",
              "      <th>4</th>\n",
              "      <td>democrat</td>\n",
              "      <td>1.0</td>\n",
              "      <td>1.0</td>\n",
              "      <td>1.0</td>\n",
              "      <td>0.0</td>\n",
              "      <td>1.0</td>\n",
              "      <td>1.0</td>\n",
              "      <td>0.0</td>\n",
              "      <td>0.0</td>\n",
              "      <td>0.0</td>\n",
              "      <td>0.0</td>\n",
              "      <td>1.0</td>\n",
              "      <td>NaN</td>\n",
              "      <td>1.0</td>\n",
              "      <td>1.0</td>\n",
              "      <td>1.0</td>\n",
              "      <td>1.0</td>\n",
              "    </tr>\n",
              "  </tbody>\n",
              "</table>\n",
              "</div>"
            ],
            "text/plain": [
              "        party  handicapped-infants  ...  duty-free  south-africa\n",
              "0  republican                  0.0  ...        0.0           1.0\n",
              "1  republican                  0.0  ...        0.0           NaN\n",
              "2    democrat                  NaN  ...        0.0           0.0\n",
              "3    democrat                  0.0  ...        0.0           1.0\n",
              "4    democrat                  1.0  ...        1.0           1.0\n",
              "\n",
              "[5 rows x 17 columns]"
            ]
          },
          "metadata": {
            "tags": []
          },
          "execution_count": 159
        }
      ]
    },
    {
      "cell_type": "code",
      "metadata": {
        "id": "DABt0EGX1iII",
        "colab_type": "code",
        "outputId": "2197d03e-6be7-4eb3-8872-3b1c12a940e8",
        "colab": {
          "base_uri": "https://localhost:8080/",
          "height": 170
        }
      },
      "source": [
        "print('democrats')\n",
        "print(dem.budget.value_counts())\n",
        "print('\\nrepublicans')\n",
        "print(rep.budget.value_counts())"
      ],
      "execution_count": 160,
      "outputs": [
        {
          "output_type": "stream",
          "text": [
            "democrats\n",
            "1.0    231\n",
            "0.0     29\n",
            "Name: budget, dtype: int64\n",
            "\n",
            "republicans\n",
            "0.0    142\n",
            "1.0     22\n",
            "Name: budget, dtype: int64\n"
          ],
          "name": "stdout"
        }
      ]
    },
    {
      "cell_type": "markdown",
      "metadata": {
        "id": "Qfz5HFjt15gG",
        "colab_type": "text"
      },
      "source": [
        "1) null hypothesis: democrats will vote favoribly on the budget bill (90% in favor)\n",
        "\n",
        "2) alternative hypothesis: democrats will not vote yes on the budget bill 90% of the time\n",
        "\n",
        "3) confidence level 99%"
      ]
    },
    {
      "cell_type": "code",
      "metadata": {
        "id": "cKZyTwWl34I-",
        "colab_type": "code",
        "outputId": "460091b5-abba-48e2-8491-82a71ed22da4",
        "colab": {
          "base_uri": "https://localhost:8080/",
          "height": 51
        }
      },
      "source": [
        "print('democrats:')\n",
        "\n",
        "print(ttest_1samp(dem.budget,.9,nan_policy='omit'))"
      ],
      "execution_count": 161,
      "outputs": [
        {
          "output_type": "stream",
          "text": [
            "democrats:\n",
            "Ttest_1sampResult(statistic=-0.5898833634246224, pvalue=0.5557831066865565)\n"
          ],
          "name": "stdout"
        }
      ]
    },
    {
      "cell_type": "markdown",
      "metadata": {
        "id": "XarhDAv94QS5",
        "colab_type": "text"
      },
      "source": [
        "4) t-statistic : ~.590\n",
        "\n",
        "5) p-value : ~.556\n",
        "\n",
        "---\n",
        "conclusion\n",
        "\n",
        "Given the t-statistic(abs value ~.590) with pvalue ~.556, we failed to reject the null hypothesis that republicans will vote in favor of the budget bill 90% of the time\n",
        "\n"
      ]
    },
    {
      "cell_type": "markdown",
      "metadata": {
        "id": "isHfZPAp_mjb",
        "colab_type": "text"
      },
      "source": [
        "## Stretch -- automate these comparison tests between democrats and republicans for ALL issues"
      ]
    },
    {
      "cell_type": "code",
      "metadata": {
        "id": "vmhZRw_pByVy",
        "colab_type": "code",
        "colab": {}
      },
      "source": [
        "issues = list(df.columns)[1:] # remove 'party' from columns"
      ],
      "execution_count": 0,
      "outputs": []
    },
    {
      "cell_type": "code",
      "metadata": {
        "id": "uwdgoddpB4Ma",
        "colab_type": "code",
        "outputId": "e415ab3d-bfd9-40cd-f584-fda18686b1ad",
        "colab": {
          "base_uri": "https://localhost:8080/",
          "height": 1000
        }
      },
      "source": [
        "issue_dict={}\n",
        "for issue in issues:\n",
        "  print(' '.join(issue.upper().split('-')))\n",
        "  null_hyp = 'there is no statistically significant difference between voting policies of Democracts and Republicans on the issue of \"'+' '.join(issue.lower().split('-'))+'\".'\n",
        "  alt_hyp = 'there is a statistically significant difference between voting policies of Democracts and Republicans on the issue of \"'+' '.join(issue.lower().split('-'))+'\".'\n",
        "  print('Null hypothesis:',null_hyp)\n",
        "  print('Alternative hypothesis:',alt_hyp)\n",
        "  ttest = (ttest_ind(dem[issue],rep[issue],nan_policy='omit'))\n",
        "  print('t-statistic:',ttest[0])\n",
        "  print('p-value:',ttest[1])\n",
        "  if abs(ttest[1]) < .01:\n",
        "    print('We REJECT the null hypothesis that',null_hyp,'\\n\\n')\n",
        "    issue_dict.update({issue:'REJECT'})\n",
        "  else:\n",
        "    print('We FAILED TO REJECT the null hypothesis that',null_hyp,'\\nWe SUGGEST the alternative hypothsis that',alt_hyp,'\\n\\n')\n",
        "    issue_dict.update({issue : 'Failed to Reject'})"
      ],
      "execution_count": 163,
      "outputs": [
        {
          "output_type": "stream",
          "text": [
            "HANDICAPPED INFANTS\n",
            "Null hypothesis: there is no statistically significant difference between voting policies of Democracts and Republicans on the issue of \"handicapped infants\".\n",
            "Alternative hypothesis: there is a statistically significant difference between voting policies of Democracts and Republicans on the issue of \"handicapped infants\".\n",
            "t-statistic: 9.205264294809222\n",
            "p-value: 1.613440327937243e-18\n",
            "We REJECT the null hypothesis that there is no statistically significant difference between voting policies of Democracts and Republicans on the issue of \"handicapped infants\". \n",
            "\n",
            "\n",
            "WATER PROJECT\n",
            "Null hypothesis: there is no statistically significant difference between voting policies of Democracts and Republicans on the issue of \"water project\".\n",
            "Alternative hypothesis: there is a statistically significant difference between voting policies of Democracts and Republicans on the issue of \"water project\".\n",
            "t-statistic: -0.08896538137868286\n",
            "p-value: 0.9291556823993485\n",
            "We FAILED TO REJECT the null hypothesis that there is no statistically significant difference between voting policies of Democracts and Republicans on the issue of \"water project\". \n",
            "We SUGGEST the alternative hypothsis that there is a statistically significant difference between voting policies of Democracts and Republicans on the issue of \"water project\". \n",
            "\n",
            "\n",
            "BUDGET\n",
            "Null hypothesis: there is no statistically significant difference between voting policies of Democracts and Republicans on the issue of \"budget\".\n",
            "Alternative hypothesis: there is a statistically significant difference between voting policies of Democracts and Republicans on the issue of \"budget\".\n",
            "t-statistic: 23.21277691701378\n",
            "p-value: 2.0703402795404463e-77\n",
            "We REJECT the null hypothesis that there is no statistically significant difference between voting policies of Democracts and Republicans on the issue of \"budget\". \n",
            "\n",
            "\n",
            "PHYSICIAN FEE FREEZE\n",
            "Null hypothesis: there is no statistically significant difference between voting policies of Democracts and Republicans on the issue of \"physician fee freeze\".\n",
            "Alternative hypothesis: there is a statistically significant difference between voting policies of Democracts and Republicans on the issue of \"physician fee freeze\".\n",
            "t-statistic: -49.36708157301406\n",
            "p-value: 1.994262314074344e-177\n",
            "We REJECT the null hypothesis that there is no statistically significant difference between voting policies of Democracts and Republicans on the issue of \"physician fee freeze\". \n",
            "\n",
            "\n",
            "EL SALVADOR AID\n",
            "Null hypothesis: there is no statistically significant difference between voting policies of Democracts and Republicans on the issue of \"el salvador aid\".\n",
            "Alternative hypothesis: there is a statistically significant difference between voting policies of Democracts and Republicans on the issue of \"el salvador aid\".\n",
            "t-statistic: -21.13669261173219\n",
            "p-value: 5.600520111729011e-68\n",
            "We REJECT the null hypothesis that there is no statistically significant difference between voting policies of Democracts and Republicans on the issue of \"el salvador aid\". \n",
            "\n",
            "\n",
            "RELIGIOUS GROUPS\n",
            "Null hypothesis: there is no statistically significant difference between voting policies of Democracts and Republicans on the issue of \"religious groups\".\n",
            "Alternative hypothesis: there is a statistically significant difference between voting policies of Democracts and Republicans on the issue of \"religious groups\".\n",
            "t-statistic: -9.737575825219457\n",
            "p-value: 2.3936722520597287e-20\n",
            "We REJECT the null hypothesis that there is no statistically significant difference between voting policies of Democracts and Republicans on the issue of \"religious groups\". \n",
            "\n",
            "\n",
            "ANTI SATELLITE BAN\n",
            "Null hypothesis: there is no statistically significant difference between voting policies of Democracts and Republicans on the issue of \"anti satellite ban\".\n",
            "Alternative hypothesis: there is a statistically significant difference between voting policies of Democracts and Republicans on the issue of \"anti satellite ban\".\n",
            "t-statistic: 12.526187929077842\n",
            "p-value: 8.521033017443867e-31\n",
            "We REJECT the null hypothesis that there is no statistically significant difference between voting policies of Democracts and Republicans on the issue of \"anti satellite ban\". \n",
            "\n",
            "\n",
            "AID TO CONTRAS\n",
            "Null hypothesis: there is no statistically significant difference between voting policies of Democracts and Republicans on the issue of \"aid to contras\".\n",
            "Alternative hypothesis: there is a statistically significant difference between voting policies of Democracts and Republicans on the issue of \"aid to contras\".\n",
            "t-statistic: 18.052093200819733\n",
            "p-value: 2.82471841372357e-54\n",
            "We REJECT the null hypothesis that there is no statistically significant difference between voting policies of Democracts and Republicans on the issue of \"aid to contras\". \n",
            "\n",
            "\n",
            "MX MISSILE\n",
            "Null hypothesis: there is no statistically significant difference between voting policies of Democracts and Republicans on the issue of \"mx missile\".\n",
            "Alternative hypothesis: there is a statistically significant difference between voting policies of Democracts and Republicans on the issue of \"mx missile\".\n",
            "t-statistic: 16.437503268542994\n",
            "p-value: 5.03079265310811e-47\n",
            "We REJECT the null hypothesis that there is no statistically significant difference between voting policies of Democracts and Republicans on the issue of \"mx missile\". \n",
            "\n",
            "\n",
            "IMMIGRATION\n",
            "Null hypothesis: there is no statistically significant difference between voting policies of Democracts and Republicans on the issue of \"immigration\".\n",
            "Alternative hypothesis: there is a statistically significant difference between voting policies of Democracts and Republicans on the issue of \"immigration\".\n",
            "t-statistic: -1.7359117329695164\n",
            "p-value: 0.08330248490425066\n",
            "We FAILED TO REJECT the null hypothesis that there is no statistically significant difference between voting policies of Democracts and Republicans on the issue of \"immigration\". \n",
            "We SUGGEST the alternative hypothsis that there is a statistically significant difference between voting policies of Democracts and Republicans on the issue of \"immigration\". \n",
            "\n",
            "\n",
            "SYNFUELS\n",
            "Null hypothesis: there is no statistically significant difference between voting policies of Democracts and Republicans on the issue of \"synfuels\".\n",
            "Alternative hypothesis: there is a statistically significant difference between voting policies of Democracts and Republicans on the issue of \"synfuels\".\n",
            "t-statistic: 8.293603989407588\n",
            "p-value: 1.5759322301054064e-15\n",
            "We REJECT the null hypothesis that there is no statistically significant difference between voting policies of Democracts and Republicans on the issue of \"synfuels\". \n",
            "\n",
            "\n",
            "EDUCATION\n",
            "Null hypothesis: there is no statistically significant difference between voting policies of Democracts and Republicans on the issue of \"education\".\n",
            "Alternative hypothesis: there is a statistically significant difference between voting policies of Democracts and Republicans on the issue of \"education\".\n",
            "t-statistic: -20.500685724563073\n",
            "p-value: 1.8834203990450192e-64\n",
            "We REJECT the null hypothesis that there is no statistically significant difference between voting policies of Democracts and Republicans on the issue of \"education\". \n",
            "\n",
            "\n",
            "RIGHT TO SUE\n",
            "Null hypothesis: there is no statistically significant difference between voting policies of Democracts and Republicans on the issue of \"right to sue\".\n",
            "Alternative hypothesis: there is a statistically significant difference between voting policies of Democracts and Republicans on the issue of \"right to sue\".\n",
            "t-statistic: -13.51064251060933\n",
            "p-value: 1.2278581709672758e-34\n",
            "We REJECT the null hypothesis that there is no statistically significant difference between voting policies of Democracts and Republicans on the issue of \"right to sue\". \n",
            "\n",
            "\n",
            "CRIME\n",
            "Null hypothesis: there is no statistically significant difference between voting policies of Democracts and Republicans on the issue of \"crime\".\n",
            "Alternative hypothesis: there is a statistically significant difference between voting policies of Democracts and Republicans on the issue of \"crime\".\n",
            "t-statistic: -16.342085656197696\n",
            "p-value: 9.952342705606092e-47\n",
            "We REJECT the null hypothesis that there is no statistically significant difference between voting policies of Democracts and Republicans on the issue of \"crime\". \n",
            "\n",
            "\n",
            "DUTY FREE\n",
            "Null hypothesis: there is no statistically significant difference between voting policies of Democracts and Republicans on the issue of \"duty free\".\n",
            "Alternative hypothesis: there is a statistically significant difference between voting policies of Democracts and Republicans on the issue of \"duty free\".\n",
            "t-statistic: 12.853146132542978\n",
            "p-value: 5.997697174347365e-32\n",
            "We REJECT the null hypothesis that there is no statistically significant difference between voting policies of Democracts and Republicans on the issue of \"duty free\". \n",
            "\n",
            "\n",
            "SOUTH AFRICA\n",
            "Null hypothesis: there is no statistically significant difference between voting policies of Democracts and Republicans on the issue of \"south africa\".\n",
            "Alternative hypothesis: there is a statistically significant difference between voting policies of Democracts and Republicans on the issue of \"south africa\".\n",
            "t-statistic: 6.849454815841208\n",
            "p-value: 3.652674361672226e-11\n",
            "We REJECT the null hypothesis that there is no statistically significant difference between voting policies of Democracts and Republicans on the issue of \"south africa\". \n",
            "\n",
            "\n"
          ],
          "name": "stdout"
        }
      ]
    },
    {
      "cell_type": "code",
      "metadata": {
        "id": "cAfLiE4ZCBHP",
        "colab_type": "code",
        "outputId": "3f061876-3305-4dae-b367-a023efbd561c",
        "colab": {
          "base_uri": "https://localhost:8080/",
          "height": 289
        }
      },
      "source": [
        "issue_dict"
      ],
      "execution_count": 164,
      "outputs": [
        {
          "output_type": "execute_result",
          "data": {
            "text/plain": [
              "{'aid-to-contras': 'REJECT',\n",
              " 'anti-satellite-ban': 'REJECT',\n",
              " 'budget': 'REJECT',\n",
              " 'crime': 'REJECT',\n",
              " 'duty-free': 'REJECT',\n",
              " 'education': 'REJECT',\n",
              " 'el-salvador-aid': 'REJECT',\n",
              " 'handicapped-infants': 'REJECT',\n",
              " 'immigration': 'Failed to Reject',\n",
              " 'mx-missile': 'REJECT',\n",
              " 'physician-fee-freeze': 'REJECT',\n",
              " 'religious-groups': 'REJECT',\n",
              " 'right-to-sue': 'REJECT',\n",
              " 'south-africa': 'REJECT',\n",
              " 'synfuels': 'REJECT',\n",
              " 'water-project': 'Failed to Reject'}"
            ]
          },
          "metadata": {
            "tags": []
          },
          "execution_count": 164
        }
      ]
    },
    {
      "cell_type": "markdown",
      "metadata": {
        "id": "jNrzJc4Cizcn",
        "colab_type": "text"
      },
      "source": [
        "## Visualization"
      ]
    },
    {
      "cell_type": "code",
      "metadata": {
        "id": "j1jWqu6mI6KR",
        "colab_type": "code",
        "colab": {}
      },
      "source": [
        "import matplotlib.pyplot as plt\n",
        "plt.style.use('fivethirtyeight')"
      ],
      "execution_count": 0,
      "outputs": []
    },
    {
      "cell_type": "code",
      "metadata": {
        "id": "B_FiiNrtogzR",
        "colab_type": "code",
        "colab": {
          "base_uri": "https://localhost:8080/",
          "height": 176
        },
        "outputId": "b104ba9d-9154-4003-e439-f65fb692f94c"
      },
      "source": [
        "party_counts = df.groupby('party').mean()*100\n",
        "party_counts"
      ],
      "execution_count": 225,
      "outputs": [
        {
          "output_type": "execute_result",
          "data": {
            "text/html": [
              "<div>\n",
              "<style scoped>\n",
              "    .dataframe tbody tr th:only-of-type {\n",
              "        vertical-align: middle;\n",
              "    }\n",
              "\n",
              "    .dataframe tbody tr th {\n",
              "        vertical-align: top;\n",
              "    }\n",
              "\n",
              "    .dataframe thead th {\n",
              "        text-align: right;\n",
              "    }\n",
              "</style>\n",
              "<table border=\"1\" class=\"dataframe\">\n",
              "  <thead>\n",
              "    <tr style=\"text-align: right;\">\n",
              "      <th></th>\n",
              "      <th>handicapped-infants</th>\n",
              "      <th>water-project</th>\n",
              "      <th>budget</th>\n",
              "      <th>physician-fee-freeze</th>\n",
              "      <th>el-salvador-aid</th>\n",
              "      <th>religious-groups</th>\n",
              "      <th>anti-satellite-ban</th>\n",
              "      <th>aid-to-contras</th>\n",
              "      <th>mx-missile</th>\n",
              "      <th>immigration</th>\n",
              "      <th>synfuels</th>\n",
              "      <th>education</th>\n",
              "      <th>right-to-sue</th>\n",
              "      <th>crime</th>\n",
              "      <th>duty-free</th>\n",
              "      <th>south-africa</th>\n",
              "    </tr>\n",
              "    <tr>\n",
              "      <th>party</th>\n",
              "      <th></th>\n",
              "      <th></th>\n",
              "      <th></th>\n",
              "      <th></th>\n",
              "      <th></th>\n",
              "      <th></th>\n",
              "      <th></th>\n",
              "      <th></th>\n",
              "      <th></th>\n",
              "      <th></th>\n",
              "      <th></th>\n",
              "      <th></th>\n",
              "      <th></th>\n",
              "      <th></th>\n",
              "      <th></th>\n",
              "      <th></th>\n",
              "    </tr>\n",
              "  </thead>\n",
              "  <tbody>\n",
              "    <tr>\n",
              "      <th>democrat</th>\n",
              "      <td>60.465116</td>\n",
              "      <td>50.209205</td>\n",
              "      <td>88.846154</td>\n",
              "      <td>5.405405</td>\n",
              "      <td>21.568627</td>\n",
              "      <td>47.674419</td>\n",
              "      <td>77.220077</td>\n",
              "      <td>82.889734</td>\n",
              "      <td>75.806452</td>\n",
              "      <td>47.148289</td>\n",
              "      <td>50.588235</td>\n",
              "      <td>14.457831</td>\n",
              "      <td>28.968254</td>\n",
              "      <td>35.019455</td>\n",
              "      <td>63.745020</td>\n",
              "      <td>93.513514</td>\n",
              "    </tr>\n",
              "    <tr>\n",
              "      <th>republican</th>\n",
              "      <td>18.787879</td>\n",
              "      <td>50.675676</td>\n",
              "      <td>13.414634</td>\n",
              "      <td>98.787879</td>\n",
              "      <td>95.151515</td>\n",
              "      <td>89.759036</td>\n",
              "      <td>24.074074</td>\n",
              "      <td>15.286624</td>\n",
              "      <td>11.515152</td>\n",
              "      <td>55.757576</td>\n",
              "      <td>13.207547</td>\n",
              "      <td>87.096774</td>\n",
              "      <td>86.075949</td>\n",
              "      <td>98.136646</td>\n",
              "      <td>8.974359</td>\n",
              "      <td>65.753425</td>\n",
              "    </tr>\n",
              "  </tbody>\n",
              "</table>\n",
              "</div>"
            ],
            "text/plain": [
              "            handicapped-infants  water-project  ...  duty-free  south-africa\n",
              "party                                           ...                         \n",
              "democrat              60.465116      50.209205  ...  63.745020     93.513514\n",
              "republican            18.787879      50.675676  ...   8.974359     65.753425\n",
              "\n",
              "[2 rows x 16 columns]"
            ]
          },
          "metadata": {
            "tags": []
          },
          "execution_count": 225
        }
      ]
    },
    {
      "cell_type": "code",
      "metadata": {
        "id": "BOqoFodsHNFx",
        "colab_type": "code",
        "outputId": "41b6c0ef-2fbe-45e6-d32f-c0099a2227c1",
        "colab": {
          "base_uri": "https://localhost:8080/",
          "height": 645
        }
      },
      "source": [
        "party_counts.T.plot(kind='bar',figsize=(15,8),color=['b','r'])\n",
        "plt.title(\"Republican and Democrat Splits for Issues in 1984\",fontsize=20,fontweight='bold')\n",
        "plt.xticks(rotation=60,fontsize=10,fontweight='bold')\n",
        "plt.xlabel('issue',fontsize=12,fontweight='bold')\n",
        "plt.ylabel('percent support');\n",
        "\n",
        "\n",
        "dem_x = [(i-.28) for i in range(16)]\n",
        "rep_x = [(i) for i in range(16)]\n",
        "\n",
        "for i,x in enumerate(dem_x):\n",
        "  y = int(party_counts.iloc[0,i])\n",
        "  plt.annotate(xy=(x,y+1),s=y)\n",
        "  \n",
        "for i,x in enumerate(rep_x):\n",
        "  y = int(party_counts.iloc[1,i])\n",
        "  plt.annotate(xy=(x,y+1),s=y)\n",
        "  "
      ],
      "execution_count": 283,
      "outputs": [
        {
          "output_type": "display_data",
          "data": {
            "image/png": "[encoded data removed]",
            "text/plain": [
              "<Figure size 1080x576 with 1 Axes>"
            ]
          },
          "metadata": {
            "tags": []
          }
        }
      ]
    },
    {
      "cell_type": "code",
      "metadata": {
        "id": "QMNxyOzD-gIF",
        "colab_type": "code",
        "colab": {}
      },
      "source": [
        ""
      ],
      "execution_count": 0,
      "outputs": []
    }
  ]
}