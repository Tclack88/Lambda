{
  "nbformat": 4,
  "nbformat_minor": 0,
  "metadata": {
    "kernelspec": {
      "display_name": "U4-S1-NLP (Python 3)",
      "language": "python",
      "name": "u4-s1-nlp"
    },
    "language_info": {
      "codemirror_mode": {
        "name": "ipython",
        "version": 3
      },
      "file_extension": ".py",
      "mimetype": "text/x-python",
      "name": "python",
      "nbconvert_exporter": "python",
      "pygments_lexer": "ipython3",
      "version": "3.7.3"
    },
    "colab": {
      "name": "LS_DS_414_Topic_Modeling_Lecture.ipynb",
      "provenance": [],
      "toc_visible": true,
      "include_colab_link": true
    }
  },
  "cells": [
    {
      "cell_type": "markdown",
      "metadata": {
        "id": "view-in-github",
        "colab_type": "text"
      },
      "source": [
        "<a href=\"https://colab.research.google.com/github/Tclack88/DS-Unit-4-Sprint-1-NLP/blob/master/module4-topic-modeling/LS_DS_414_Topic_Modeling_Lecture.ipynb\" target=\"_parent\"><img src=\"https://colab.research.google.com/assets/colab-badge.svg\" alt=\"Open In Colab\"/></a>"
      ]
    },
    {
      "cell_type": "markdown",
      "metadata": {
        "id": "lkpKGfpJ7Mka",
        "colab_type": "text"
      },
      "source": [
        "Lambda School Data Science\n",
        "\n",
        "*Unit 4, Sprint 1, Module 4*\n",
        "\n",
        "---"
      ]
    },
    {
      "cell_type": "markdown",
      "metadata": {
        "id": "uVjRPg357Mkf",
        "colab_type": "text"
      },
      "source": [
        "# Topic Modeling (Prepare)"
      ]
    },
    {
      "cell_type": "markdown",
      "metadata": {
        "id": "OFtNfTaX7Mkg",
        "colab_type": "text"
      },
      "source": [
        "# Latent Dirchilet Allocation (LDA) Models (Prepare)\n",
        "<a id=\"#p1\"></a>"
      ]
    },
    {
      "cell_type": "markdown",
      "metadata": {
        "id": "MTdTMLBO7Mki",
        "colab_type": "text"
      },
      "source": [
        "## Overview\n",
        "LDA is a \"generative probabilistic model\". \n",
        "\n",
        "Let's play with a modoel available [here](https://lettier.com/projects/lda-topic-modeling/)"
      ]
    },
    {
      "cell_type": "markdown",
      "metadata": {
        "id": "INJ_0Lmo7Mkk",
        "colab_type": "text"
      },
      "source": [
        "## Follow Along"
      ]
    },
    {
      "cell_type": "markdown",
      "metadata": {
        "id": "R1fI5B767Mkl",
        "colab_type": "text"
      },
      "source": [
        "## Challenge "
      ]
    },
    {
      "cell_type": "markdown",
      "metadata": {
        "id": "BHVLVlqd7Mkn",
        "colab_type": "text"
      },
      "source": [
        "# Estimating LDA Models with Gensim (Learn)\n",
        "<a id=\"#p1\"></a>"
      ]
    },
    {
      "cell_type": "markdown",
      "metadata": {
        "toc-hr-collapsed": true,
        "id": "Pj1Sh4Gr7Mko",
        "colab_type": "text"
      },
      "source": [
        "## Overview\n",
        "### A Litterary Introduction: *Jane Austen V. Charlotte Bronte*\n",
        "Despite being born nearly forty years apart, modern fans often pit Jane Austen & Charlotte Bronte against one another in a battle for litterary  supremacy. The battle centers around the topics of education for women, courting, and marriage. The authors' similiar backgrounds naturally draw comparisons, but the modern fascination is probably due to novelility of British women publishing novels during the early 19th century. \n",
        "\n",
        "Can we help close a litterary battle for supremacy and simply acknowledge that the authors addressed different topics and deserve to be acknowledged as excellent authors each in their own right?\n",
        "\n",
        "We're going to apply Latent Dirichlet Allocation a machine learning alogrithm for topic modeling to each of the author's novels to compare the distribution of topics in their novels."
      ]
    },
    {
      "cell_type": "code",
      "metadata": {
        "id": "Z3ntvCKR9s_5",
        "colab_type": "code",
        "colab": {}
      },
      "source": [
        "# After uploading files\n",
        "# !mkdir data && mv *.txt data"
      ],
      "execution_count": 0,
      "outputs": []
    },
    {
      "cell_type": "code",
      "metadata": {
        "id": "Xg4rITR47Mkq",
        "colab_type": "code",
        "colab": {}
      },
      "source": [
        "import numpy as np\n",
        "import gensim\n",
        "import os\n",
        "import re\n",
        "\n",
        "from gensim.utils import simple_preprocess\n",
        "from gensim.parsing.preprocessing import STOPWORDS\n",
        "from gensim import corpora\n",
        "\n",
        "from gensim.models.ldamulticore import LdaMulticore\n",
        "\n",
        "import pandas as pd"
      ],
      "execution_count": 0,
      "outputs": []
    },
    {
      "cell_type": "markdown",
      "metadata": {
        "id": "oil9ftrT7Mkv",
        "colab_type": "text"
      },
      "source": [
        "### Novel Data\n",
        "I grabbed the novel data pre-split into a bunch of smaller chuncks"
      ]
    },
    {
      "cell_type": "code",
      "metadata": {
        "id": "6a-5OLQF7Mkw",
        "colab_type": "code",
        "colab": {}
      },
      "source": [
        "path = './data'"
      ],
      "execution_count": 0,
      "outputs": []
    },
    {
      "cell_type": "code",
      "metadata": {
        "id": "aENvPevB7Mk0",
        "colab_type": "code",
        "colab": {}
      },
      "source": [
        "import os\n",
        "\n",
        "STOPWORDS = set(STOPWORDS).union(['mr', 'mrs', 'said'])\n",
        "\n",
        "def tokenize(text):\n",
        "  return [token for token in simple_preprocess(text) if token not in STOPWORDS]\n",
        "\n",
        "def gather_data(path_to_data): \n",
        "  data = []\n",
        "    \n",
        "  for f in os.listdir(path):\n",
        "    with open(os.path.join(path,f)) as t:\n",
        "      text = t.read().strip('\\n')\n",
        "      data.append(tokenize(str(text)))\n",
        "            \n",
        "  return data"
      ],
      "execution_count": 0,
      "outputs": []
    },
    {
      "cell_type": "code",
      "metadata": {
        "id": "CMY_IlOQAFeM",
        "colab_type": "code",
        "colab": {
          "base_uri": "https://localhost:8080/",
          "height": 357
        },
        "outputId": "2e8e2c7f-dce4-456e-b785-294193a44f2d"
      },
      "source": [
        "tokens = gather_data(path)\n",
        "\n",
        "tokens[0][:20]"
      ],
      "execution_count": 18,
      "outputs": [
        {
          "output_type": "execute_result",
          "data": {
            "text/plain": [
              "['unlike',\n",
              " 'flemish',\n",
              " 'companions',\n",
              " 'little',\n",
              " 'respecting',\n",
              " 'pronounce',\n",
              " 'encomiums',\n",
              " 'beauty',\n",
              " 'beautiful',\n",
              " 'offer',\n",
              " 'condolence',\n",
              " 'plainness',\n",
              " 'plain',\n",
              " 'careworn',\n",
              " 'character',\n",
              " 'forehead',\n",
              " 'corresponding',\n",
              " 'moulding',\n",
              " 'mouth',\n",
              " 'struck']"
            ]
          },
          "metadata": {
            "tags": []
          },
          "execution_count": 18
        }
      ]
    },
    {
      "cell_type": "code",
      "metadata": {
        "id": "CmC0_8Y4BXKM",
        "colab_type": "code",
        "colab": {}
      },
      "source": [
        "tokens = gather_data(path)"
      ],
      "execution_count": 0,
      "outputs": []
    },
    {
      "cell_type": "code",
      "metadata": {
        "id": "n3dfQgMk7Mk8",
        "colab_type": "code",
        "colab": {},
        "outputId": "977f06a8-2dc1-4b70-c42a-c03cf010745a"
      },
      "source": [
        "\"this is a sample string with a \\n newline character\".replace('\\n', '')"
      ],
      "execution_count": 0,
      "outputs": [
        {
          "output_type": "execute_result",
          "data": {
            "text/plain": [
              "'this is a sample string with a  newline character'"
            ]
          },
          "metadata": {
            "tags": []
          },
          "execution_count": 14
        }
      ]
    },
    {
      "cell_type": "markdown",
      "metadata": {
        "toc-hr-collapsed": true,
        "id": "lr1Y6qgp7MlI",
        "colab_type": "text"
      },
      "source": [
        "## Follow Along"
      ]
    },
    {
      "cell_type": "markdown",
      "metadata": {
        "id": "cD1v7jFS7MlJ",
        "colab_type": "text"
      },
      "source": [
        "### Text Preprocessing\n",
        "**Challenge**: update the function `tokenize` with any technique you have learned so far this week. "
      ]
    },
    {
      "cell_type": "code",
      "metadata": {
        "id": "Z9LZHkSz7MlL",
        "colab_type": "code",
        "colab": {}
      },
      "source": [
        "titles = [t[:-4] for t in os.listdir(path) if os.path.isdir(t) == False]"
      ],
      "execution_count": 0,
      "outputs": []
    },
    {
      "cell_type": "code",
      "metadata": {
        "id": "96Xg0etC7MlP",
        "colab_type": "code",
        "colab": {
          "base_uri": "https://localhost:8080/",
          "height": 102
        },
        "outputId": "32400b33-619b-4f53-bcb9-15e05682186b"
      },
      "source": [
        "titles[:5]"
      ],
      "execution_count": 37,
      "outputs": [
        {
          "output_type": "execute_result",
          "data": {
            "text/plain": [
              "['CBronte_Professor0036',\n",
              " 'CBronte_Jane0126',\n",
              " 'CBronte_Professor0078',\n",
              " 'Austen_Emma0045',\n",
              " 'Austen_Sense0091']"
            ]
          },
          "metadata": {
            "tags": []
          },
          "execution_count": 37
        }
      ]
    },
    {
      "cell_type": "markdown",
      "metadata": {
        "id": "wUv0xLph7Mlg",
        "colab_type": "text"
      },
      "source": [
        "### Author DataFrame\n"
      ]
    },
    {
      "cell_type": "code",
      "metadata": {
        "id": "aBJmajW27Mlh",
        "colab_type": "code",
        "colab": {
          "base_uri": "https://localhost:8080/",
          "height": 204
        },
        "outputId": "288a783b-bb10-4c07-927b-db73818df09e"
      },
      "source": [
        "df = pd.DataFrame(index=titles, data={'tokens':tokens})\n",
        "\n",
        "df['tokens'] = gather_data(path)\n",
        "\n",
        "df.head()"
      ],
      "execution_count": 40,
      "outputs": [
        {
          "output_type": "execute_result",
          "data": {
            "text/html": [
              "<div>\n",
              "<style scoped>\n",
              "    .dataframe tbody tr th:only-of-type {\n",
              "        vertical-align: middle;\n",
              "    }\n",
              "\n",
              "    .dataframe tbody tr th {\n",
              "        vertical-align: top;\n",
              "    }\n",
              "\n",
              "    .dataframe thead th {\n",
              "        text-align: right;\n",
              "    }\n",
              "</style>\n",
              "<table border=\"1\" class=\"dataframe\">\n",
              "  <thead>\n",
              "    <tr style=\"text-align: right;\">\n",
              "      <th></th>\n",
              "      <th>tokens</th>\n",
              "    </tr>\n",
              "  </thead>\n",
              "  <tbody>\n",
              "    <tr>\n",
              "      <th>CBronte_Professor0036</th>\n",
              "      <td>[unlike, flemish, companions, little, respecti...</td>\n",
              "    </tr>\n",
              "    <tr>\n",
              "      <th>CBronte_Jane0126</th>\n",
              "      <td>[face, forming, favourable, opinion, think, un...</td>\n",
              "    </tr>\n",
              "    <tr>\n",
              "      <th>CBronte_Professor0078</th>\n",
              "      <td>[follow, think, grow, spiteful, impertinent, l...</td>\n",
              "    </tr>\n",
              "    <tr>\n",
              "      <th>Austen_Emma0045</th>\n",
              "      <td>[know, saw, body, surprized, honour, unexpecte...</td>\n",
              "    </tr>\n",
              "    <tr>\n",
              "      <th>Austen_Sense0091</th>\n",
              "      <td>[injured, injured, affection, scarcely, warm, ...</td>\n",
              "    </tr>\n",
              "  </tbody>\n",
              "</table>\n",
              "</div>"
            ],
            "text/plain": [
              "                                                                  tokens\n",
              "CBronte_Professor0036  [unlike, flemish, companions, little, respecti...\n",
              "CBronte_Jane0126       [face, forming, favourable, opinion, think, un...\n",
              "CBronte_Professor0078  [follow, think, grow, spiteful, impertinent, l...\n",
              "Austen_Emma0045        [know, saw, body, surprized, honour, unexpecte...\n",
              "Austen_Sense0091       [injured, injured, affection, scarcely, warm, ..."
            ]
          },
          "metadata": {
            "tags": []
          },
          "execution_count": 40
        }
      ]
    },
    {
      "cell_type": "code",
      "metadata": {
        "id": "8aJFf_HL7Mlv",
        "colab_type": "code",
        "colab": {}
      },
      "source": [
        "df['author'] = df.reset_index()['index'].apply(lambda x: x.split('_')[0]).to_list()\n",
        "df['book'] = df.reset_index()['index'].apply(lambda x: x.split('_')[1][:-4]).to_list()\n",
        "df['section'] = df.reset_index()['index'].apply(lambda x: int(x.split('_')[1][-4:])).to_list()"
      ],
      "execution_count": 0,
      "outputs": []
    },
    {
      "cell_type": "code",
      "metadata": {
        "id": "0f6sXh4H7Mlz",
        "colab_type": "code",
        "colab": {}
      },
      "source": [
        "df.author = df.author.map({'Austen':1, 'CBronte':0})"
      ],
      "execution_count": 0,
      "outputs": []
    },
    {
      "cell_type": "code",
      "metadata": {
        "id": "fEnGVVZFE0Wb",
        "colab_type": "code",
        "colab": {
          "base_uri": "https://localhost:8080/",
          "height": 204
        },
        "outputId": "929056ab-98f0-4779-ad6a-52b180c4a1e9"
      },
      "source": [
        "df.head()"
      ],
      "execution_count": 43,
      "outputs": [
        {
          "output_type": "execute_result",
          "data": {
            "text/html": [
              "<div>\n",
              "<style scoped>\n",
              "    .dataframe tbody tr th:only-of-type {\n",
              "        vertical-align: middle;\n",
              "    }\n",
              "\n",
              "    .dataframe tbody tr th {\n",
              "        vertical-align: top;\n",
              "    }\n",
              "\n",
              "    .dataframe thead th {\n",
              "        text-align: right;\n",
              "    }\n",
              "</style>\n",
              "<table border=\"1\" class=\"dataframe\">\n",
              "  <thead>\n",
              "    <tr style=\"text-align: right;\">\n",
              "      <th></th>\n",
              "      <th>tokens</th>\n",
              "      <th>author</th>\n",
              "      <th>book</th>\n",
              "      <th>section</th>\n",
              "    </tr>\n",
              "  </thead>\n",
              "  <tbody>\n",
              "    <tr>\n",
              "      <th>CBronte_Professor0036</th>\n",
              "      <td>[unlike, flemish, companions, little, respecti...</td>\n",
              "      <td>0</td>\n",
              "      <td>Professor</td>\n",
              "      <td>36</td>\n",
              "    </tr>\n",
              "    <tr>\n",
              "      <th>CBronte_Jane0126</th>\n",
              "      <td>[face, forming, favourable, opinion, think, un...</td>\n",
              "      <td>0</td>\n",
              "      <td>Jane</td>\n",
              "      <td>126</td>\n",
              "    </tr>\n",
              "    <tr>\n",
              "      <th>CBronte_Professor0078</th>\n",
              "      <td>[follow, think, grow, spiteful, impertinent, l...</td>\n",
              "      <td>0</td>\n",
              "      <td>Professor</td>\n",
              "      <td>78</td>\n",
              "    </tr>\n",
              "    <tr>\n",
              "      <th>Austen_Emma0045</th>\n",
              "      <td>[know, saw, body, surprized, honour, unexpecte...</td>\n",
              "      <td>1</td>\n",
              "      <td>Emma</td>\n",
              "      <td>45</td>\n",
              "    </tr>\n",
              "    <tr>\n",
              "      <th>Austen_Sense0091</th>\n",
              "      <td>[injured, injured, affection, scarcely, warm, ...</td>\n",
              "      <td>1</td>\n",
              "      <td>Sense</td>\n",
              "      <td>91</td>\n",
              "    </tr>\n",
              "  </tbody>\n",
              "</table>\n",
              "</div>"
            ],
            "text/plain": [
              "                                                                  tokens  ...  section\n",
              "CBronte_Professor0036  [unlike, flemish, companions, little, respecti...  ...       36\n",
              "CBronte_Jane0126       [face, forming, favourable, opinion, think, un...  ...      126\n",
              "CBronte_Professor0078  [follow, think, grow, spiteful, impertinent, l...  ...       78\n",
              "Austen_Emma0045        [know, saw, body, surprized, honour, unexpecte...  ...       45\n",
              "Austen_Sense0091       [injured, injured, affection, scarcely, warm, ...  ...       91\n",
              "\n",
              "[5 rows x 4 columns]"
            ]
          },
          "metadata": {
            "tags": []
          },
          "execution_count": 43
        }
      ]
    },
    {
      "cell_type": "code",
      "metadata": {
        "id": "Yhmr0_jH7Ml3",
        "colab_type": "code",
        "colab": {
          "base_uri": "https://localhost:8080/",
          "height": 68
        },
        "outputId": "1dbe662b-61cb-407c-cba1-443d57fe754d"
      },
      "source": [
        "df.author.value_counts() # Ensure we have fairly equal representation of both authors"
      ],
      "execution_count": 44,
      "outputs": [
        {
          "output_type": "execute_result",
          "data": {
            "text/plain": [
              "0    441\n",
              "1    372\n",
              "Name: author, dtype: int64"
            ]
          },
          "metadata": {
            "tags": []
          },
          "execution_count": 44
        }
      ]
    },
    {
      "cell_type": "markdown",
      "metadata": {
        "id": "Win5Sxp37Ml7",
        "colab_type": "text"
      },
      "source": [
        "### Streaming Documents\n",
        "Here we use a new pythonic thingy: the `yield` statement in our fucntion. This allows us to iterate over a bunch of documents without actually reading them into memory. You can see how we use this fucntion later on. "
      ]
    },
    {
      "cell_type": "code",
      "metadata": {
        "id": "_EWb-PNb7Ml8",
        "colab_type": "code",
        "colab": {}
      },
      "source": [
        "# NOTE: using yield here instead of return makes a generator object which saves memory\n",
        "# take note of the indentation of yield compared to where it would be for a return statement\n",
        "def doc_stream(path):\n",
        "  for f in os.listdir(path):\n",
        "    with open(os.path.join(path,f)) as t:\n",
        "      text = t.read().strip('\\n')\n",
        "      tokens = tokenize(str(text))\n",
        "      yield tokens"
      ],
      "execution_count": 0,
      "outputs": []
    },
    {
      "cell_type": "code",
      "metadata": {
        "id": "TLFVWkwb7MmE",
        "colab_type": "code",
        "colab": {}
      },
      "source": [
        "streaming_data = doc_stream(path)\n",
        "# next(streaming_data) # if we wanted to run one step at a time from the generator"
      ],
      "execution_count": 0,
      "outputs": []
    },
    {
      "cell_type": "markdown",
      "metadata": {
        "id": "sEc-qsd_7MmQ",
        "colab_type": "text"
      },
      "source": [
        "### Gensim LDA Topic Modeling"
      ]
    },
    {
      "cell_type": "code",
      "metadata": {
        "id": "cDlCMXa27MmR",
        "colab_type": "code",
        "colab": {}
      },
      "source": [
        "# A Dictionary Representation of all the words in our corpus\n",
        "id2word = corpora.Dictionary(doc_stream(path))"
      ],
      "execution_count": 0,
      "outputs": []
    },
    {
      "cell_type": "code",
      "metadata": {
        "id": "ArqCDR5B7MmV",
        "colab_type": "code",
        "colab": {
          "base_uri": "https://localhost:8080/",
          "height": 34
        },
        "outputId": "e77879fe-42eb-4c5d-801b-f762bb1825a8"
      },
      "source": [
        "id2word.token2id['england']"
      ],
      "execution_count": 49,
      "outputs": [
        {
          "output_type": "execute_result",
          "data": {
            "text/plain": [
              "413"
            ]
          },
          "metadata": {
            "tags": []
          },
          "execution_count": 49
        }
      ]
    },
    {
      "cell_type": "code",
      "metadata": {
        "id": "x6OpyTpNIXIK",
        "colab_type": "code",
        "colab": {
          "base_uri": "https://localhost:8080/",
          "height": 34
        },
        "outputId": "3fa52132-5079-4420-b362-8e4273a47893"
      },
      "source": [
        "id2word[413]"
      ],
      "execution_count": 51,
      "outputs": [
        {
          "output_type": "execute_result",
          "data": {
            "text/plain": [
              "'england'"
            ]
          },
          "metadata": {
            "tags": []
          },
          "execution_count": 51
        }
      ]
    },
    {
      "cell_type": "code",
      "metadata": {
        "id": "cgUPDRus7Mmf",
        "colab_type": "code",
        "colab": {
          "base_uri": "https://localhost:8080/",
          "height": 34
        },
        "outputId": "fa6a4cb4-88da-4e12-a670-5c4c88e5e4d1"
      },
      "source": [
        "id2word.doc2bow(tokenize(\"This is a sample message Darcy England England England\"))"
      ],
      "execution_count": 52,
      "outputs": [
        {
          "output_type": "execute_result",
          "data": {
            "text/plain": [
              "[(413, 3), (1446, 1), (6908, 1), (6915, 1)]"
            ]
          },
          "metadata": {
            "tags": []
          },
          "execution_count": 52
        }
      ]
    },
    {
      "cell_type": "code",
      "metadata": {
        "id": "k5X5jadV7Mmi",
        "colab_type": "code",
        "colab": {
          "base_uri": "https://localhost:8080/",
          "height": 34
        },
        "outputId": "53493513-d618-4d02-af2d-41eb9dcef9b0"
      },
      "source": [
        "import sys\n",
        "sys.getsizeof(id2word)"
      ],
      "execution_count": 53,
      "outputs": [
        {
          "output_type": "execute_result",
          "data": {
            "text/plain": [
              "56"
            ]
          },
          "metadata": {
            "tags": []
          },
          "execution_count": 53
        }
      ]
    },
    {
      "cell_type": "code",
      "metadata": {
        "id": "XNgygdWt7Mmm",
        "colab_type": "code",
        "colab": {
          "base_uri": "https://localhost:8080/",
          "height": 34
        },
        "outputId": "0b876e5d-ed08-4f45-8010-16a06fba1cb3"
      },
      "source": [
        "len(id2word.keys())"
      ],
      "execution_count": 54,
      "outputs": [
        {
          "output_type": "execute_result",
          "data": {
            "text/plain": [
              "22096"
            ]
          },
          "metadata": {
            "tags": []
          },
          "execution_count": 54
        }
      ]
    },
    {
      "cell_type": "code",
      "metadata": {
        "id": "FsL5Hr0R7Mmr",
        "colab_type": "code",
        "colab": {}
      },
      "source": [
        "# Let's remove extreme values from the dataset\n",
        "id2word.filter_extremes(no_below=5, no_above=0.95)"
      ],
      "execution_count": 0,
      "outputs": []
    },
    {
      "cell_type": "code",
      "metadata": {
        "id": "gBeIzVV07Mmw",
        "colab_type": "code",
        "colab": {
          "base_uri": "https://localhost:8080/",
          "height": 34
        },
        "outputId": "25c2a31c-c240-463f-e03c-297df1bbc840"
      },
      "source": [
        "len(id2word.keys())"
      ],
      "execution_count": 56,
      "outputs": [
        {
          "output_type": "execute_result",
          "data": {
            "text/plain": [
              "8103"
            ]
          },
          "metadata": {
            "tags": []
          },
          "execution_count": 56
        }
      ]
    },
    {
      "cell_type": "code",
      "metadata": {
        "id": "kLY9FrGK7Mm1",
        "colab_type": "code",
        "colab": {}
      },
      "source": [
        "# a bag of words(bow) representation of our corpus\n",
        "# Note: we haven't actually read any text into memory here\n",
        "# Although we abstracted away - tokenization IS happening in the doc_stream function\n",
        "corpus = [id2word.doc2bow(text) for text in doc_stream(path)]"
      ],
      "execution_count": 0,
      "outputs": []
    },
    {
      "cell_type": "code",
      "metadata": {
        "id": "nhClNvca7Mm4",
        "colab_type": "code",
        "colab": {
          "base_uri": "https://localhost:8080/",
          "height": 34
        },
        "outputId": "56670a0f-6ff9-408d-93db-ddb7660ae9bf"
      },
      "source": [
        "corpus[0][:5]"
      ],
      "execution_count": 59,
      "outputs": [
        {
          "output_type": "execute_result",
          "data": {
            "text/plain": [
              "[(0, 1), (1, 1), (2, 2), (3, 1), (4, 1)]"
            ]
          },
          "metadata": {
            "tags": []
          },
          "execution_count": 59
        }
      ]
    },
    {
      "cell_type": "code",
      "metadata": {
        "id": "_ELxxYWU7Mm7",
        "colab_type": "code",
        "colab": {}
      },
      "source": [
        "lda = LdaMulticore(corpus=corpus,\n",
        "                   id2word=id2word,\n",
        "                   random_state=723812,\n",
        "                   num_topics = 15,\n",
        "                   passes=10,\n",
        "                   workers=2\n",
        "                  )"
      ],
      "execution_count": 0,
      "outputs": []
    },
    {
      "cell_type": "code",
      "metadata": {
        "id": "NrtKRk4O7Mm-",
        "colab_type": "code",
        "colab": {
          "base_uri": "https://localhost:8080/",
          "height": 547
        },
        "outputId": "d351cd4e-1bb5-4246-e7e9-e4df55ac17aa"
      },
      "source": [
        "lda.print_topics()"
      ],
      "execution_count": 61,
      "outputs": [
        {
          "output_type": "execute_result",
          "data": {
            "text/plain": [
              "[(0,\n",
              "  '0.006*\"elinor\" + 0.006*\"miss\" + 0.006*\"elizabeth\" + 0.006*\"think\" + 0.006*\"know\" + 0.005*\"time\" + 0.005*\"good\" + 0.005*\"marianne\" + 0.005*\"sister\" + 0.005*\"soon\"'),\n",
              " (1,\n",
              "  '0.021*\"miss\" + 0.019*\"emma\" + 0.014*\"jane\" + 0.013*\"weston\" + 0.013*\"fairfax\" + 0.012*\"elton\" + 0.012*\"thing\" + 0.010*\"woodhouse\" + 0.010*\"know\" + 0.010*\"knightley\"'),\n",
              " (2,\n",
              "  '0.001*\"miss\" + 0.001*\"little\" + 0.001*\"think\" + 0.001*\"good\" + 0.001*\"know\" + 0.001*\"time\" + 0.001*\"thought\" + 0.001*\"like\" + 0.001*\"room\" + 0.001*\"long\"'),\n",
              " (3,\n",
              "  '0.008*\"know\" + 0.007*\"ginevra\" + 0.006*\"paul\" + 0.005*\"madame\" + 0.004*\"time\" + 0.004*\"john\" + 0.004*\"saw\" + 0.004*\"like\" + 0.004*\"dr\" + 0.004*\"little\"'),\n",
              " (4,\n",
              "  '0.007*\"madame\" + 0.007*\"dr\" + 0.007*\"day\" + 0.005*\"good\" + 0.005*\"john\" + 0.005*\"like\" + 0.004*\"little\" + 0.004*\"saw\" + 0.004*\"sense\" + 0.003*\"time\"'),\n",
              " (5,\n",
              "  '0.016*\"pelet\" + 0.008*\"madame\" + 0.006*\"reuter\" + 0.005*\"john\" + 0.005*\"want\" + 0.005*\"thousand\" + 0.004*\"thought\" + 0.004*\"zoraide\" + 0.004*\"tell\" + 0.004*\"house\"'),\n",
              " (6,\n",
              "  '0.034*\"emma\" + 0.027*\"harriet\" + 0.018*\"weston\" + 0.016*\"knightley\" + 0.013*\"elton\" + 0.010*\"woodhouse\" + 0.008*\"little\" + 0.008*\"hartfield\" + 0.008*\"miss\" + 0.007*\"good\"'),\n",
              " (7,\n",
              "  '0.006*\"like\" + 0.006*\"little\" + 0.004*\"thought\" + 0.004*\"long\" + 0.004*\"time\" + 0.004*\"night\" + 0.003*\"day\" + 0.003*\"door\" + 0.003*\"eyes\" + 0.003*\"room\"'),\n",
              " (8,\n",
              "  '0.016*\"miss\" + 0.014*\"emma\" + 0.008*\"fairfax\" + 0.007*\"churchill\" + 0.007*\"bates\" + 0.006*\"frank\" + 0.006*\"jane\" + 0.005*\"day\" + 0.005*\"thing\" + 0.005*\"harriet\"'),\n",
              " (9,\n",
              "  '0.008*\"monsieur\" + 0.005*\"paul\" + 0.005*\"old\" + 0.004*\"half\" + 0.004*\"told\" + 0.004*\"like\" + 0.004*\"friendship\" + 0.003*\"know\" + 0.003*\"friend\" + 0.003*\"priest\"'),\n",
              " (10,\n",
              "  '0.012*\"sir\" + 0.011*\"rochester\" + 0.008*\"jane\" + 0.005*\"miss\" + 0.005*\"like\" + 0.005*\"little\" + 0.005*\"think\" + 0.005*\"yes\" + 0.004*\"room\" + 0.004*\"know\"'),\n",
              " (11,\n",
              "  '0.009*\"hunsden\" + 0.006*\"like\" + 0.005*\"face\" + 0.004*\"good\" + 0.004*\"little\" + 0.004*\"think\" + 0.004*\"looked\" + 0.003*\"ingram\" + 0.003*\"crimsworth\" + 0.003*\"miss\"'),\n",
              " (12,\n",
              "  '0.008*\"miss\" + 0.006*\"jane\" + 0.005*\"smith\" + 0.005*\"elton\" + 0.004*\"thought\" + 0.004*\"john\" + 0.004*\"rochester\" + 0.004*\"good\" + 0.004*\"think\" + 0.003*\"like\"'),\n",
              " (13,\n",
              "  '0.007*\"little\" + 0.005*\"know\" + 0.005*\"like\" + 0.005*\"good\" + 0.005*\"john\" + 0.004*\"think\" + 0.004*\"graham\" + 0.004*\"thought\" + 0.004*\"bretton\" + 0.004*\"dr\"'),\n",
              " (14,\n",
              "  '0.019*\"burns\" + 0.018*\"scatcherd\" + 0.014*\"miss\" + 0.013*\"helen\" + 0.006*\"bear\" + 0.006*\"temple\" + 0.004*\"lowood\" + 0.004*\"day\" + 0.004*\"place\" + 0.003*\"good\"')]"
            ]
          },
          "metadata": {
            "tags": []
          },
          "execution_count": 61
        }
      ]
    },
    {
      "cell_type": "code",
      "metadata": {
        "id": "UsRpE1S07MnF",
        "colab_type": "code",
        "colab": {}
      },
      "source": [
        "words = [re.findall(r'\"([^\"]*)\"',t[1]) for t in lda.print_topics()]"
      ],
      "execution_count": 0,
      "outputs": []
    },
    {
      "cell_type": "code",
      "metadata": {
        "id": "UzfCsYk27MnJ",
        "colab_type": "code",
        "colab": {}
      },
      "source": [
        "topics = [' '.join(t[0:5]) for t in words]"
      ],
      "execution_count": 0,
      "outputs": []
    },
    {
      "cell_type": "code",
      "metadata": {
        "id": "QwRYDRDH7MnO",
        "colab_type": "code",
        "colab": {
          "base_uri": "https://localhost:8080/",
          "height": 782
        },
        "outputId": "f2943df0-3316-423b-938a-e3b5165b8935"
      },
      "source": [
        "for id, t in enumerate(topics): \n",
        "    print(f'____TOPIC {id}____\\n{t}\\n')"
      ],
      "execution_count": 66,
      "outputs": [
        {
          "output_type": "stream",
          "text": [
            "____TOPIC 0____\n",
            "elinor miss elizabeth think know\n",
            "\n",
            "____TOPIC 1____\n",
            "miss emma jane weston fairfax\n",
            "\n",
            "____TOPIC 2____\n",
            "miss little think good know\n",
            "\n",
            "____TOPIC 3____\n",
            "know ginevra paul madame time\n",
            "\n",
            "____TOPIC 4____\n",
            "madame dr day good john\n",
            "\n",
            "____TOPIC 5____\n",
            "pelet madame reuter john want\n",
            "\n",
            "____TOPIC 6____\n",
            "emma harriet weston knightley elton\n",
            "\n",
            "____TOPIC 7____\n",
            "like little thought long time\n",
            "\n",
            "____TOPIC 8____\n",
            "miss emma fairfax churchill bates\n",
            "\n",
            "____TOPIC 9____\n",
            "monsieur paul old half told\n",
            "\n",
            "____TOPIC 10____\n",
            "sir rochester jane miss like\n",
            "\n",
            "____TOPIC 11____\n",
            "hunsden like face good little\n",
            "\n",
            "____TOPIC 12____\n",
            "miss jane smith elton thought\n",
            "\n",
            "____TOPIC 13____\n",
            "little know like good john\n",
            "\n",
            "____TOPIC 14____\n",
            "burns scatcherd miss helen bear\n",
            "\n"
          ],
          "name": "stdout"
        }
      ]
    },
    {
      "cell_type": "markdown",
      "metadata": {
        "id": "s4-ZUgt57MnR",
        "colab_type": "text"
      },
      "source": [
        "## Challenge \n",
        "\n",
        "You will apply an LDA model to a customer review dataset to practice the fitting and estimation of LDA. "
      ]
    },
    {
      "cell_type": "markdown",
      "metadata": {
        "id": "n-ygkXLL7MnS",
        "colab_type": "text"
      },
      "source": [
        "# Interpret LDA Results (Learn)\n",
        "<a id=\"#p3\"></a>"
      ]
    },
    {
      "cell_type": "markdown",
      "metadata": {
        "id": "50kG1QLZ7MnS",
        "colab_type": "text"
      },
      "source": [
        "## Overview"
      ]
    },
    {
      "cell_type": "markdown",
      "metadata": {
        "toc-hr-collapsed": true,
        "id": "MD_KHcrz7MnT",
        "colab_type": "text"
      },
      "source": [
        "## Follow Along"
      ]
    },
    {
      "cell_type": "markdown",
      "metadata": {
        "id": "DbIqhlI27MnU",
        "colab_type": "text"
      },
      "source": [
        "### Topic Distance Visualization"
      ]
    },
    {
      "cell_type": "code",
      "metadata": {
        "id": "XLlaZQESOIOy",
        "colab_type": "code",
        "colab": {
          "base_uri": "https://localhost:8080/",
          "height": 612
        },
        "outputId": "62657431-10e9-45e3-9687-26bb826c88b9"
      },
      "source": [
        "!pip install pyLDAvis"
      ],
      "execution_count": 68,
      "outputs": [
        {
          "output_type": "stream",
          "text": [
            "Collecting pyLDAvis\n",
            "\u001b[?25l  Downloading https://files.pythonhosted.org/packages/a5/3a/af82e070a8a96e13217c8f362f9a73e82d61ac8fff3a2561946a97f96266/pyLDAvis-2.1.2.tar.gz (1.6MB)\n",
            "\u001b[K     |████████████████████████████████| 1.6MB 2.8MB/s \n",
            "\u001b[?25hRequirement already satisfied: wheel>=0.23.0 in /usr/local/lib/python3.6/dist-packages (from pyLDAvis) (0.33.6)\n",
            "Requirement already satisfied: numpy>=1.9.2 in /usr/local/lib/python3.6/dist-packages (from pyLDAvis) (1.17.4)\n",
            "Requirement already satisfied: scipy>=0.18.0 in /usr/local/lib/python3.6/dist-packages (from pyLDAvis) (1.3.3)\n",
            "Requirement already satisfied: pandas>=0.17.0 in /usr/local/lib/python3.6/dist-packages (from pyLDAvis) (0.25.3)\n",
            "Requirement already satisfied: joblib>=0.8.4 in /usr/local/lib/python3.6/dist-packages (from pyLDAvis) (0.14.0)\n",
            "Requirement already satisfied: jinja2>=2.7.2 in /usr/local/lib/python3.6/dist-packages (from pyLDAvis) (2.10.3)\n",
            "Requirement already satisfied: numexpr in /usr/local/lib/python3.6/dist-packages (from pyLDAvis) (2.7.0)\n",
            "Requirement already satisfied: pytest in /usr/local/lib/python3.6/dist-packages (from pyLDAvis) (3.6.4)\n",
            "Requirement already satisfied: future in /usr/local/lib/python3.6/dist-packages (from pyLDAvis) (0.16.0)\n",
            "Collecting funcy\n",
            "\u001b[?25l  Downloading https://files.pythonhosted.org/packages/ce/4b/6ffa76544e46614123de31574ad95758c421aae391a1764921b8a81e1eae/funcy-1.14.tar.gz (548kB)\n",
            "\u001b[K     |████████████████████████████████| 552kB 31.2MB/s \n",
            "\u001b[?25hRequirement already satisfied: pytz>=2017.2 in /usr/local/lib/python3.6/dist-packages (from pandas>=0.17.0->pyLDAvis) (2018.9)\n",
            "Requirement already satisfied: python-dateutil>=2.6.1 in /usr/local/lib/python3.6/dist-packages (from pandas>=0.17.0->pyLDAvis) (2.6.1)\n",
            "Requirement already satisfied: MarkupSafe>=0.23 in /usr/local/lib/python3.6/dist-packages (from jinja2>=2.7.2->pyLDAvis) (1.1.1)\n",
            "Requirement already satisfied: more-itertools>=4.0.0 in /usr/local/lib/python3.6/dist-packages (from pytest->pyLDAvis) (7.2.0)\n",
            "Requirement already satisfied: attrs>=17.4.0 in /usr/local/lib/python3.6/dist-packages (from pytest->pyLDAvis) (19.3.0)\n",
            "Requirement already satisfied: py>=1.5.0 in /usr/local/lib/python3.6/dist-packages (from pytest->pyLDAvis) (1.8.0)\n",
            "Requirement already satisfied: six>=1.10.0 in /usr/local/lib/python3.6/dist-packages (from pytest->pyLDAvis) (1.12.0)\n",
            "Requirement already satisfied: setuptools in /usr/local/lib/python3.6/dist-packages (from pytest->pyLDAvis) (42.0.1)\n",
            "Requirement already satisfied: pluggy<0.8,>=0.5 in /usr/local/lib/python3.6/dist-packages (from pytest->pyLDAvis) (0.7.1)\n",
            "Requirement already satisfied: atomicwrites>=1.0 in /usr/local/lib/python3.6/dist-packages (from pytest->pyLDAvis) (1.3.0)\n",
            "Building wheels for collected packages: pyLDAvis, funcy\n",
            "  Building wheel for pyLDAvis (setup.py) ... \u001b[?25l\u001b[?25hdone\n",
            "  Created wheel for pyLDAvis: filename=pyLDAvis-2.1.2-py2.py3-none-any.whl size=97711 sha256=d277a8c66efad925977b9144a428c10a4067103d41d26e5400a57838a7518559\n",
            "  Stored in directory: /root/.cache/pip/wheels/98/71/24/513a99e58bb6b8465bae4d2d5e9dba8f0bef8179e3051ac414\n",
            "  Building wheel for funcy (setup.py) ... \u001b[?25l\u001b[?25hdone\n",
            "  Created wheel for funcy: filename=funcy-1.14-py2.py3-none-any.whl size=32040 sha256=27322d257f102dbcb5df02118019dd25284d2a49e2b05b33821e678affd8a799\n",
            "  Stored in directory: /root/.cache/pip/wheels/20/5a/d8/1d875df03deae6f178dfdf70238cca33f948ef8a6f5209f2eb\n",
            "Successfully built pyLDAvis funcy\n",
            "Installing collected packages: funcy, pyLDAvis\n",
            "Successfully installed funcy-1.14 pyLDAvis-2.1.2\n"
          ],
          "name": "stdout"
        }
      ]
    },
    {
      "cell_type": "code",
      "metadata": {
        "id": "pDd7iKF37MnY",
        "colab_type": "code",
        "colab": {
          "base_uri": "https://localhost:8080/",
          "height": 71
        },
        "outputId": "71f87bc6-5ec0-4a88-d94f-730898f70efe"
      },
      "source": [
        "import pyLDAvis.gensim\n",
        "\n",
        "pyLDAvis.enable_notebook()"
      ],
      "execution_count": 69,
      "outputs": [
        {
          "output_type": "stream",
          "text": [
            "/usr/local/lib/python3.6/dist-packages/_pytest/mark/structures.py:426: DeprecationWarning: The usage of `cmp` is deprecated and will be removed on or after 2021-06-01.  Please use `eq` and `order` instead.\n",
            "  @attr.s(cmp=False, hash=False)\n"
          ],
          "name": "stderr"
        }
      ]
    },
    {
      "cell_type": "code",
      "metadata": {
        "id": "x7dcLYBx7Mnd",
        "colab_type": "code",
        "colab": {
          "base_uri": "https://localhost:8080/",
          "height": 997
        },
        "outputId": "ea7dbb45-585b-49b5-f68c-c9a056bee8cb"
      },
      "source": [
        "pyLDAvis.gensim.prepare(lda, corpus, id2word)"
      ],
      "execution_count": 70,
      "outputs": [
        {
          "output_type": "stream",
          "text": [
            "/usr/local/lib/python3.6/dist-packages/pyLDAvis/_prepare.py:257: FutureWarning: Sorting because non-concatenation axis is not aligned. A future version\n",
            "of pandas will change to not sort by default.\n",
            "\n",
            "To accept the future behavior, pass 'sort=False'.\n",
            "\n",
            "To retain the current behavior and silence the warning, pass 'sort=True'.\n",
            "\n",
            "  return pd.concat([default_term_info] + list(topic_dfs))\n"
          ],
          "name": "stderr"
        },
        {
          "output_type": "execute_result",
          "data": {
            "text/html": [
              "\n",
              "<link rel=\"stylesheet\" type=\"text/css\" href=\"https://cdn.rawgit.com/bmabey/pyLDAvis/files/ldavis.v1.0.0.css\">\n",
              "\n",
              "\n",
              "<div id=\"ldavis_el1231396442281161768893076862\"></div>\n",
              "<script type=\"text/javascript\">\n",
              "\n",
              "var ldavis_el1231396442281161768893076862_data = {\"mdsDat\": {\"x\": [-0.08714981437864598, 0.05851673501248003, 0.022566927995758827, -0.013162528482483298, -0.20669058494041756, -0.19643986178123057, 0.006625687106486074, -0.02875660656659275, -0.08697557155038585, 0.08387562195020846, 0.04434323508222606, 0.09645019878873674, 0.08361378899939914, 0.11416856103260375, 0.10901421173185712], \"y\": [0.0010065211477658454, 0.04619704668025812, 0.05954932166391452, 0.08021715580394262, -0.006983878057909038, -0.020415977204284227, 0.08166093631336255, -0.010572452170087452, -0.0905595406099659, 0.04347384475276055, 0.001978495055423402, -0.013549942776634209, 0.00725782093307245, -0.1108591687009384, -0.06840018283068106], \"topics\": [1, 2, 3, 4, 5, 6, 7, 8, 9, 10, 11, 12, 13, 14, 15], \"cluster\": [1, 1, 1, 1, 1, 1, 1, 1, 1, 1, 1, 1, 1, 1, 1], \"Freq\": [34.8035774230957, 28.401142120361328, 14.426894187927246, 8.187744140625, 4.411472320556641, 4.395044803619385, 1.8591691255569458, 0.7002535462379456, 0.6562639474868774, 0.6138612031936646, 0.5028035640716553, 0.4283097982406616, 0.42142191529273987, 0.1747807413339615, 0.017244433984160423]}, \"tinfo\": {\"Category\": [\"Default\", \"Default\", \"Default\", \"Default\", \"Default\", \"Default\", \"Default\", \"Default\", \"Default\", \"Default\", \"Default\", \"Default\", \"Default\", \"Default\", \"Default\", \"Default\", \"Default\", \"Default\", \"Default\", \"Default\", \"Default\", \"Default\", \"Default\", \"Default\", \"Default\", \"Default\", \"Default\", \"Default\", \"Default\", \"Default\", \"Topic1\", \"Topic1\", \"Topic1\", \"Topic1\", \"Topic1\", \"Topic1\", \"Topic1\", \"Topic1\", \"Topic1\", \"Topic1\", \"Topic1\", \"Topic1\", \"Topic1\", \"Topic1\", \"Topic1\", \"Topic1\", \"Topic1\", \"Topic1\", \"Topic1\", \"Topic1\", \"Topic1\", \"Topic1\", \"Topic1\", \"Topic1\", \"Topic1\", \"Topic1\", \"Topic1\", \"Topic1\", \"Topic1\", \"Topic1\", \"Topic1\", \"Topic1\", \"Topic1\", \"Topic1\", \"Topic1\", \"Topic1\", \"Topic1\", \"Topic1\", \"Topic1\", \"Topic1\", \"Topic1\", \"Topic1\", \"Topic1\", \"Topic1\", \"Topic1\", \"Topic1\", \"Topic1\", \"Topic1\", \"Topic1\", \"Topic1\", \"Topic1\", \"Topic1\", \"Topic1\", \"Topic1\", \"Topic1\", \"Topic1\", \"Topic1\", \"Topic1\", \"Topic1\", \"Topic1\", \"Topic1\", \"Topic1\", \"Topic1\", \"Topic1\", \"Topic1\", \"Topic1\", \"Topic2\", \"Topic2\", \"Topic2\", \"Topic2\", \"Topic2\", \"Topic2\", \"Topic2\", \"Topic2\", \"Topic2\", \"Topic2\", \"Topic2\", \"Topic2\", \"Topic2\", \"Topic2\", \"Topic2\", \"Topic2\", \"Topic2\", \"Topic2\", \"Topic2\", \"Topic2\", \"Topic2\", \"Topic2\", \"Topic2\", \"Topic2\", \"Topic2\", \"Topic2\", \"Topic2\", \"Topic2\", \"Topic2\", \"Topic2\", \"Topic2\", \"Topic2\", \"Topic2\", \"Topic2\", \"Topic2\", \"Topic2\", \"Topic2\", \"Topic2\", \"Topic2\", \"Topic2\", \"Topic2\", \"Topic2\", \"Topic2\", \"Topic2\", \"Topic2\", \"Topic2\", \"Topic2\", \"Topic2\", \"Topic2\", \"Topic2\", \"Topic2\", \"Topic2\", \"Topic2\", \"Topic2\", \"Topic2\", \"Topic2\", \"Topic2\", \"Topic2\", \"Topic2\", \"Topic2\", \"Topic2\", \"Topic2\", \"Topic2\", \"Topic2\", \"Topic2\", \"Topic2\", \"Topic2\", \"Topic2\", \"Topic2\", \"Topic2\", \"Topic2\", \"Topic2\", \"Topic2\", \"Topic2\", \"Topic2\", \"Topic2\", \"Topic2\", \"Topic2\", \"Topic2\", \"Topic2\", \"Topic2\", \"Topic2\", \"Topic2\", \"Topic2\", \"Topic2\", \"Topic2\", \"Topic2\", \"Topic2\", \"Topic2\", \"Topic2\", \"Topic2\", \"Topic2\", \"Topic2\", \"Topic2\", \"Topic2\", \"Topic2\", \"Topic2\", \"Topic3\", \"Topic3\", \"Topic3\", \"Topic3\", \"Topic3\", \"Topic3\", \"Topic3\", \"Topic3\", \"Topic3\", \"Topic3\", \"Topic3\", \"Topic3\", \"Topic3\", \"Topic3\", \"Topic3\", \"Topic3\", \"Topic3\", \"Topic3\", \"Topic3\", \"Topic3\", \"Topic3\", \"Topic3\", \"Topic3\", \"Topic3\", \"Topic3\", \"Topic3\", \"Topic3\", \"Topic3\", \"Topic3\", \"Topic3\", \"Topic3\", \"Topic3\", \"Topic3\", \"Topic3\", \"Topic3\", \"Topic3\", \"Topic3\", \"Topic3\", \"Topic3\", \"Topic3\", \"Topic3\", \"Topic3\", \"Topic3\", \"Topic3\", \"Topic3\", \"Topic3\", \"Topic3\", \"Topic3\", \"Topic3\", \"Topic3\", \"Topic3\", \"Topic3\", \"Topic3\", \"Topic3\", \"Topic3\", \"Topic3\", \"Topic3\", \"Topic3\", \"Topic3\", \"Topic3\", \"Topic3\", \"Topic3\", \"Topic3\", \"Topic3\", \"Topic3\", \"Topic3\", \"Topic3\", \"Topic3\", \"Topic3\", \"Topic3\", \"Topic3\", \"Topic3\", \"Topic3\", \"Topic3\", \"Topic3\", \"Topic3\", \"Topic3\", \"Topic3\", \"Topic3\", \"Topic4\", \"Topic4\", \"Topic4\", \"Topic4\", \"Topic4\", \"Topic4\", \"Topic4\", \"Topic4\", \"Topic4\", \"Topic4\", \"Topic4\", \"Topic4\", \"Topic4\", \"Topic4\", \"Topic4\", \"Topic4\", \"Topic4\", \"Topic4\", \"Topic4\", \"Topic4\", \"Topic4\", \"Topic4\", \"Topic4\", \"Topic4\", \"Topic4\", \"Topic4\", \"Topic4\", \"Topic4\", \"Topic4\", \"Topic4\", \"Topic4\", \"Topic4\", \"Topic4\", \"Topic4\", \"Topic4\", \"Topic4\", \"Topic4\", \"Topic4\", \"Topic4\", \"Topic4\", \"Topic4\", \"Topic4\", \"Topic4\", \"Topic4\", \"Topic4\", \"Topic4\", \"Topic4\", \"Topic4\", \"Topic4\", \"Topic4\", \"Topic4\", \"Topic4\", \"Topic4\", \"Topic4\", \"Topic4\", \"Topic4\", \"Topic4\", \"Topic4\", \"Topic4\", \"Topic4\", \"Topic4\", \"Topic4\", \"Topic4\", \"Topic4\", \"Topic4\", \"Topic4\", \"Topic4\", \"Topic4\", \"Topic4\", \"Topic4\", \"Topic4\", \"Topic4\", \"Topic5\", \"Topic5\", \"Topic5\", \"Topic5\", \"Topic5\", \"Topic5\", \"Topic5\", \"Topic5\", \"Topic5\", \"Topic5\", \"Topic5\", \"Topic5\", \"Topic5\", \"Topic5\", \"Topic5\", \"Topic5\", \"Topic5\", \"Topic5\", \"Topic5\", \"Topic5\", \"Topic5\", \"Topic5\", \"Topic5\", \"Topic5\", \"Topic5\", \"Topic5\", \"Topic5\", \"Topic5\", \"Topic5\", \"Topic5\", \"Topic5\", \"Topic5\", \"Topic5\", \"Topic5\", \"Topic5\", \"Topic5\", \"Topic5\", \"Topic5\", \"Topic5\", \"Topic5\", \"Topic5\", \"Topic5\", \"Topic5\", \"Topic5\", \"Topic5\", \"Topic5\", \"Topic5\", \"Topic5\", \"Topic5\", \"Topic5\", \"Topic5\", \"Topic5\", \"Topic5\", \"Topic5\", \"Topic5\", \"Topic5\", \"Topic5\", \"Topic5\", \"Topic5\", \"Topic5\", \"Topic5\", \"Topic6\", \"Topic6\", \"Topic6\", \"Topic6\", \"Topic6\", \"Topic6\", \"Topic6\", \"Topic6\", \"Topic6\", \"Topic6\", \"Topic6\", \"Topic6\", \"Topic6\", \"Topic6\", \"Topic6\", \"Topic6\", \"Topic6\", \"Topic6\", \"Topic6\", \"Topic6\", \"Topic6\", \"Topic6\", \"Topic6\", \"Topic6\", \"Topic6\", \"Topic6\", \"Topic6\", \"Topic6\", \"Topic6\", \"Topic6\", \"Topic6\", \"Topic6\", \"Topic6\", \"Topic6\", \"Topic6\", \"Topic6\", \"Topic6\", \"Topic6\", \"Topic6\", \"Topic6\", \"Topic6\", \"Topic6\", \"Topic6\", \"Topic6\", \"Topic6\", \"Topic6\", \"Topic6\", \"Topic6\", \"Topic6\", \"Topic6\", \"Topic6\", \"Topic6\", \"Topic6\", \"Topic6\", \"Topic6\", \"Topic6\", \"Topic6\", \"Topic6\", \"Topic7\", \"Topic7\", \"Topic7\", \"Topic7\", \"Topic7\", \"Topic7\", \"Topic7\", \"Topic7\", \"Topic7\", \"Topic7\", \"Topic7\", \"Topic7\", \"Topic7\", \"Topic7\", \"Topic7\", \"Topic7\", \"Topic7\", \"Topic7\", \"Topic7\", \"Topic7\", \"Topic7\", \"Topic7\", \"Topic7\", \"Topic7\", \"Topic7\", \"Topic7\", \"Topic7\", \"Topic7\", \"Topic7\", \"Topic7\", \"Topic7\", \"Topic7\", \"Topic7\", \"Topic7\", \"Topic7\", \"Topic7\", \"Topic7\", \"Topic7\", \"Topic7\", \"Topic7\", \"Topic7\", \"Topic7\", \"Topic7\", \"Topic7\", \"Topic7\", \"Topic7\", \"Topic7\", \"Topic7\", \"Topic7\", \"Topic7\", \"Topic7\", \"Topic7\", \"Topic7\", \"Topic7\", \"Topic7\", \"Topic7\", \"Topic7\", \"Topic7\", \"Topic7\", \"Topic7\", \"Topic7\", \"Topic7\", \"Topic7\", \"Topic7\", \"Topic7\", \"Topic7\", \"Topic7\", \"Topic7\", \"Topic7\", \"Topic7\", \"Topic7\", \"Topic7\", \"Topic7\", \"Topic7\", \"Topic7\", \"Topic7\", \"Topic7\", \"Topic8\", \"Topic8\", \"Topic8\", \"Topic8\", \"Topic8\", \"Topic8\", \"Topic8\", \"Topic8\", \"Topic8\", \"Topic8\", \"Topic8\", \"Topic8\", \"Topic8\", \"Topic8\", \"Topic8\", \"Topic8\", \"Topic8\", \"Topic8\", \"Topic8\", \"Topic8\", \"Topic8\", \"Topic8\", \"Topic8\", \"Topic8\", \"Topic8\", \"Topic8\", \"Topic8\", \"Topic8\", \"Topic8\", \"Topic8\", \"Topic8\", \"Topic8\", \"Topic8\", \"Topic8\", \"Topic8\", \"Topic8\", \"Topic8\", \"Topic8\", \"Topic8\", \"Topic8\", \"Topic8\", \"Topic8\", \"Topic8\", \"Topic8\", \"Topic8\", \"Topic8\", \"Topic8\", \"Topic8\", \"Topic8\", \"Topic8\", \"Topic8\", \"Topic8\", \"Topic8\", \"Topic8\", \"Topic8\", \"Topic8\", \"Topic8\", \"Topic8\", \"Topic8\", \"Topic8\", \"Topic8\", \"Topic8\", \"Topic8\", \"Topic8\", \"Topic8\", \"Topic8\", \"Topic8\", \"Topic8\", \"Topic8\", \"Topic8\", \"Topic8\", \"Topic8\", \"Topic8\", \"Topic8\", \"Topic8\", \"Topic8\", \"Topic9\", \"Topic9\", \"Topic9\", \"Topic9\", \"Topic9\", \"Topic9\", \"Topic9\", \"Topic9\", \"Topic9\", \"Topic9\", \"Topic9\", \"Topic9\", \"Topic9\", \"Topic9\", \"Topic9\", \"Topic9\", \"Topic9\", \"Topic9\", \"Topic9\", \"Topic9\", \"Topic9\", \"Topic9\", \"Topic9\", \"Topic9\", \"Topic9\", \"Topic9\", \"Topic9\", \"Topic9\", \"Topic9\", \"Topic9\", \"Topic9\", \"Topic9\", \"Topic9\", \"Topic9\", \"Topic9\", \"Topic9\", \"Topic9\", \"Topic9\", \"Topic9\", \"Topic9\", \"Topic9\", \"Topic9\", \"Topic9\", \"Topic9\", \"Topic9\", \"Topic9\", \"Topic9\", \"Topic9\", \"Topic9\", \"Topic9\", \"Topic9\", \"Topic9\", \"Topic9\", \"Topic9\", \"Topic9\", \"Topic9\", \"Topic9\", \"Topic9\", \"Topic9\", \"Topic9\", \"Topic9\", \"Topic9\", \"Topic9\", \"Topic9\", \"Topic9\", \"Topic9\", \"Topic9\", \"Topic9\", \"Topic9\", \"Topic9\", \"Topic9\", \"Topic9\", \"Topic9\", \"Topic9\", \"Topic9\", \"Topic9\", \"Topic10\", \"Topic10\", \"Topic10\", \"Topic10\", \"Topic10\", \"Topic10\", \"Topic10\", \"Topic10\", \"Topic10\", \"Topic10\", \"Topic10\", \"Topic10\", \"Topic10\", \"Topic10\", \"Topic10\", \"Topic10\", \"Topic10\", \"Topic10\", \"Topic10\", \"Topic10\", \"Topic10\", \"Topic10\", \"Topic10\", \"Topic10\", \"Topic10\", \"Topic10\", \"Topic10\", \"Topic10\", \"Topic10\", \"Topic10\", \"Topic10\", \"Topic10\", \"Topic10\", \"Topic10\", \"Topic10\", \"Topic10\", \"Topic10\", \"Topic10\", \"Topic10\", \"Topic10\", \"Topic10\", \"Topic10\", \"Topic10\", \"Topic10\", \"Topic10\", \"Topic10\", \"Topic10\", \"Topic10\", \"Topic10\", \"Topic10\", \"Topic10\", \"Topic10\", \"Topic10\", \"Topic10\", \"Topic10\", \"Topic10\", \"Topic10\", \"Topic10\", \"Topic10\", \"Topic10\", \"Topic10\", \"Topic10\", \"Topic10\", \"Topic10\", \"Topic10\", \"Topic10\", \"Topic10\", \"Topic10\", \"Topic10\", \"Topic10\", \"Topic11\", \"Topic11\", \"Topic11\", \"Topic11\", \"Topic11\", \"Topic11\", \"Topic11\", \"Topic11\", \"Topic11\", \"Topic11\", \"Topic11\", \"Topic11\", \"Topic11\", \"Topic11\", \"Topic11\", \"Topic11\", \"Topic11\", \"Topic11\", \"Topic11\", \"Topic11\", \"Topic11\", \"Topic11\", \"Topic11\", \"Topic11\", \"Topic11\", \"Topic11\", \"Topic11\", \"Topic11\", \"Topic11\", \"Topic11\", \"Topic11\", \"Topic11\", \"Topic11\", \"Topic11\", \"Topic11\", \"Topic11\", \"Topic11\", \"Topic11\", \"Topic11\", \"Topic11\", \"Topic11\", \"Topic11\", \"Topic11\", \"Topic11\", \"Topic11\", \"Topic11\", \"Topic11\", \"Topic11\", \"Topic11\", \"Topic11\", \"Topic11\", \"Topic11\", \"Topic11\", \"Topic11\", \"Topic11\", \"Topic11\", \"Topic11\", \"Topic11\", \"Topic11\", \"Topic11\", \"Topic11\", \"Topic11\", \"Topic11\", \"Topic11\", \"Topic11\", \"Topic11\", \"Topic11\", \"Topic11\", \"Topic11\", \"Topic11\", \"Topic11\", \"Topic11\", \"Topic11\", \"Topic12\", \"Topic12\", \"Topic12\", \"Topic12\", \"Topic12\", \"Topic12\", \"Topic12\", \"Topic12\", \"Topic12\", \"Topic12\", \"Topic12\", \"Topic12\", \"Topic12\", \"Topic12\", \"Topic12\", \"Topic12\", \"Topic12\", \"Topic12\", \"Topic12\", \"Topic12\", \"Topic12\", \"Topic12\", \"Topic12\", \"Topic12\", \"Topic12\", \"Topic12\", \"Topic12\", \"Topic12\", \"Topic12\", \"Topic12\", \"Topic12\", \"Topic12\", \"Topic12\", \"Topic12\", \"Topic12\", \"Topic12\", \"Topic12\", \"Topic12\", \"Topic12\", \"Topic12\", \"Topic12\", \"Topic12\", \"Topic12\", \"Topic12\", \"Topic12\", \"Topic12\", \"Topic12\", \"Topic12\", \"Topic12\", \"Topic12\", \"Topic12\", \"Topic12\", \"Topic12\", \"Topic12\", \"Topic12\", \"Topic12\", \"Topic12\", \"Topic12\", \"Topic12\", \"Topic12\", \"Topic12\", \"Topic12\", \"Topic12\", \"Topic12\", \"Topic12\", \"Topic12\", \"Topic12\", \"Topic12\", \"Topic12\", \"Topic12\", \"Topic12\", \"Topic12\", \"Topic12\", \"Topic12\", \"Topic12\", \"Topic12\", \"Topic12\", \"Topic12\", \"Topic13\", \"Topic13\", \"Topic13\", \"Topic13\", \"Topic13\", \"Topic13\", \"Topic13\", \"Topic13\", \"Topic13\", \"Topic13\", \"Topic13\", \"Topic13\", \"Topic13\", \"Topic13\", \"Topic13\", \"Topic13\", \"Topic13\", \"Topic13\", \"Topic13\", \"Topic13\", \"Topic13\", \"Topic13\", \"Topic13\", \"Topic13\", \"Topic13\", \"Topic13\", \"Topic13\", \"Topic13\", \"Topic13\", \"Topic13\", \"Topic13\", \"Topic13\", \"Topic13\", \"Topic13\", \"Topic13\", \"Topic13\", \"Topic13\", \"Topic13\", \"Topic13\", \"Topic13\", \"Topic13\", \"Topic13\", \"Topic13\", \"Topic13\", \"Topic13\", \"Topic13\", \"Topic13\", \"Topic13\", \"Topic13\", \"Topic13\", \"Topic13\", \"Topic13\", \"Topic13\", \"Topic13\", \"Topic13\", \"Topic13\", \"Topic13\", \"Topic13\", \"Topic13\", \"Topic13\", \"Topic13\", \"Topic13\", \"Topic13\", \"Topic13\", \"Topic13\", \"Topic13\", \"Topic13\", \"Topic13\", \"Topic13\", \"Topic13\", \"Topic13\", \"Topic13\", \"Topic13\", \"Topic13\", \"Topic13\", \"Topic13\", \"Topic13\", \"Topic14\", \"Topic14\", \"Topic14\", \"Topic14\", \"Topic14\", \"Topic14\", \"Topic14\", \"Topic14\", \"Topic14\", \"Topic14\", \"Topic14\", \"Topic14\", \"Topic14\", \"Topic14\", \"Topic14\", \"Topic14\", \"Topic14\", \"Topic14\", \"Topic14\", \"Topic14\", \"Topic14\", \"Topic14\", \"Topic14\", \"Topic14\", \"Topic14\", \"Topic14\", \"Topic14\", \"Topic14\", \"Topic14\", \"Topic14\", \"Topic14\", \"Topic14\", \"Topic14\", \"Topic14\", \"Topic14\", \"Topic14\", \"Topic14\", \"Topic14\", \"Topic14\", \"Topic14\", \"Topic14\", \"Topic14\", \"Topic14\", \"Topic14\", \"Topic14\", \"Topic14\", \"Topic14\", \"Topic14\", \"Topic14\", \"Topic14\", \"Topic14\", \"Topic14\", \"Topic14\", \"Topic14\", \"Topic14\", \"Topic14\", \"Topic14\", \"Topic14\", \"Topic14\", \"Topic14\", \"Topic14\", \"Topic14\", \"Topic14\", \"Topic14\", \"Topic14\", \"Topic14\", \"Topic14\", \"Topic14\", \"Topic14\", \"Topic15\", \"Topic15\", \"Topic15\", \"Topic15\", \"Topic15\", \"Topic15\", \"Topic15\", \"Topic15\", \"Topic15\", \"Topic15\", \"Topic15\", \"Topic15\", \"Topic15\", \"Topic15\", \"Topic15\", \"Topic15\", \"Topic15\", \"Topic15\", \"Topic15\", \"Topic15\", \"Topic15\", \"Topic15\", \"Topic15\", \"Topic15\", \"Topic15\", \"Topic15\", \"Topic15\", \"Topic15\", \"Topic15\", \"Topic15\", \"Topic15\", \"Topic15\", \"Topic15\", \"Topic15\", \"Topic15\", \"Topic15\", \"Topic15\", \"Topic15\", \"Topic15\", \"Topic15\", \"Topic15\", \"Topic15\", \"Topic15\", \"Topic15\", \"Topic15\", \"Topic15\", \"Topic15\", \"Topic15\", \"Topic15\", \"Topic15\", \"Topic15\", \"Topic15\", \"Topic15\", \"Topic15\", \"Topic15\", \"Topic15\", \"Topic15\", \"Topic15\", \"Topic15\", \"Topic15\", \"Topic15\", \"Topic15\", \"Topic15\", \"Topic15\", \"Topic15\", \"Topic15\", \"Topic15\", \"Topic15\", \"Topic15\", \"Topic15\", \"Topic15\", \"Topic15\", \"Topic15\", \"Topic15\", \"Topic15\", \"Topic15\", \"Topic15\"], \"Freq\": [1523.0, 904.0, 1437.0, 1357.0, 1734.0, 1332.0, 1053.0, 935.0, 558.0, 1313.0, 1315.0, 1143.0, 620.0, 397.0, 797.0, 466.0, 577.0, 938.0, 926.0, 772.0, 832.0, 834.0, 695.0, 411.0, 403.0, 665.0, 905.0, 589.0, 604.0, 376.0, 406.3415222167969, 315.44024658203125, 298.8935546875, 189.677734375, 167.10304260253906, 174.7006072998047, 92.93111419677734, 627.13330078125, 94.79820251464844, 85.9921646118164, 72.32439422607422, 71.34394836425781, 109.93162536621094, 68.37711334228516, 55.735748291015625, 51.84342956542969, 659.9091186523438, 47.916908264160156, 125.63916015625, 207.98739624023438, 138.85462951660156, 40.085411071777344, 38.15094757080078, 542.89501953125, 38.132354736328125, 35.120296478271484, 30.34464454650879, 85.58042907714844, 46.53223419189453, 124.39469146728516, 240.6063232421875, 218.41360473632812, 110.35855102539062, 525.1124877929688, 95.23811340332031, 132.71749877929688, 252.04763793945312, 258.31829833984375, 290.48944091796875, 420.20477294921875, 377.25164794921875, 245.14205932617188, 498.9171447753906, 364.69305419921875, 618.648193359375, 268.3265075683594, 651.661865234375, 584.0208129882812, 601.12451171875, 270.26226806640625, 557.8358764648438, 419.6497497558594, 397.2687683105469, 289.5278015136719, 317.02886962890625, 327.4860534667969, 354.18853759765625, 376.51727294921875, 483.0379943847656, 378.55621337890625, 350.2958068847656, 316.1201171875, 298.1204528808594, 329.5257873535156, 303.110107421875, 299.00872802734375, 29.42081642150879, 23.61261558532715, 22.651615142822266, 32.713382720947266, 24.254432678222656, 15.72734546661377, 16.557825088500977, 25.563838958740234, 15.603642463684082, 13.70484447479248, 11.8153657913208, 11.780532836914062, 15.452946662902832, 16.32738494873047, 16.32415008544922, 15.391637802124023, 16.301830291748047, 16.291770935058594, 10.772972106933594, 10.758917808532715, 9.84064769744873, 9.821419715881348, 10.732428550720215, 8.89853286743164, 8.898194313049316, 16.130252838134766, 10.64535903930664, 8.864683151245117, 8.858296394348145, 8.842768669128418, 14.227205276489258, 31.737295150756836, 16.869861602783203, 22.827316284179688, 95.57915496826172, 14.677864074707031, 66.11766052246094, 21.137388229370117, 36.828948974609375, 107.71068572998047, 17.62123680114746, 63.142555236816406, 85.94396209716797, 169.45025634765625, 36.297950744628906, 281.1632080078125, 171.4827117919922, 71.08609008789062, 119.82791900634766, 130.1280059814453, 48.601806640625, 26.47553825378418, 60.710872650146484, 121.2535171508789, 30.117698669433594, 44.94795227050781, 299.82135009765625, 82.62703704833984, 192.56912231445312, 105.3418197631836, 80.4791259765625, 72.60559844970703, 314.0246887207031, 121.32711029052734, 561.8497314453125, 173.4078369140625, 102.35784149169922, 78.72998809814453, 135.45420837402344, 297.8511657714844, 112.9441909790039, 187.25833129882812, 278.6851806640625, 229.80809020996094, 557.8598022460938, 350.1003112792969, 127.09559631347656, 280.603759765625, 360.18212890625, 249.45767211914062, 230.72120666503906, 295.201416015625, 179.123291015625, 238.54083251953125, 340.8200988769531, 301.00762939453125, 205.84584045410156, 237.79257202148438, 231.46571350097656, 173.24993896484375, 214.57032775878906, 232.68722534179688, 183.39755249023438, 248.77084350585938, 191.45570373535156, 225.4348907470703, 179.1951904296875, 10.976667404174805, 8.73812198638916, 8.755499839782715, 20.89124298095703, 12.989083290100098, 6.86099910736084, 5.921848773956299, 5.030383586883545, 5.016994953155518, 4.990749835968018, 194.43685913085938, 4.9725751876831055, 4.972053527832031, 4.945396900177002, 4.955966472625732, 10.79975700378418, 71.37963104248047, 4.906106948852539, 6.619907855987549, 6.50418758392334, 61.4222526550293, 5.556665897369385, 6.347845077514648, 33.547218322753906, 6.980565071105957, 60.22122573852539, 9.508833885192871, 7.082091808319092, 7.018168926239014, 5.393125057220459, 62.49335479736328, 46.286495208740234, 167.86343383789062, 174.03614807128906, 61.661468505859375, 73.23858642578125, 22.388532638549805, 112.11174774169922, 143.31849670410156, 102.7664566040039, 9.177395820617676, 15.162208557128906, 35.79103469848633, 158.34718322753906, 28.335166931152344, 96.3067398071289, 30.96215057373047, 209.25294494628906, 36.03596496582031, 55.25, 92.71049499511719, 52.15079116821289, 26.930784225463867, 27.815637588500977, 304.50408935546875, 99.20538330078125, 55.12202072143555, 241.71914672851562, 224.51651000976562, 138.338623046875, 215.5588836669922, 191.85519409179688, 117.24193572998047, 196.64784240722656, 100.90748596191406, 128.00259399414062, 162.19293212890625, 147.81092834472656, 144.99298095703125, 122.53968811035156, 125.69599914550781, 107.00929260253906, 133.4431915283203, 110.7003402709961, 101.06005859375, 105.68923950195312, 103.22779083251953, 105.34001159667969, 101.88102722167969, 31.190309524536133, 56.66749954223633, 16.142900466918945, 24.780420303344727, 6.936927318572998, 12.070387840270996, 4.972988128662109, 9.867267608642578, 8.90083122253418, 17.1368350982666, 6.376307010650635, 24.394248962402344, 4.664737224578857, 5.980227947235107, 21.927417755126953, 78.67019653320312, 43.90372848510742, 273.9510192871094, 4.348668098449707, 4.277029991149902, 102.11991119384766, 4.0213541984558105, 4.937229156494141, 4.724277019500732, 4.745439529418945, 7.348353862762451, 60.03513717651367, 6.604639053344727, 5.971621513366699, 12.1156587600708, 19.27937889099121, 16.810791015625, 13.149300575256348, 317.4316711425781, 59.96476364135742, 17.91281509399414, 24.5028018951416, 11.041759490966797, 13.071012496948242, 67.6916275024414, 49.01544952392578, 28.65542221069336, 54.43046951293945, 105.68177032470703, 198.93304443359375, 38.478031158447266, 31.231325149536133, 58.90071487426758, 116.65205383300781, 35.689674377441406, 98.59681701660156, 98.08777618408203, 113.43860626220703, 135.84510803222656, 137.5717315673828, 120.68975830078125, 100.09980010986328, 93.34674835205078, 127.36731719970703, 81.74645233154297, 104.6590576171875, 109.75666809082031, 72.54397583007812, 104.89837646484375, 74.48050689697266, 71.30467224121094, 77.43677520751953, 77.28113555908203, 82.26101684570312, 70.69126892089844, 69.99711608886719, 68.36296844482422, 42.93803405761719, 14.116537094116211, 29.210739135742188, 46.18015670776367, 7.044020175933838, 17.462703704833984, 9.01928997039795, 8.45333480834961, 9.590307235717773, 21.358003616333008, 6.701472282409668, 11.92807388305664, 11.528368949890137, 47.12813186645508, 28.789165496826172, 6.153914451599121, 11.71717357635498, 6.690312385559082, 100.82713317871094, 6.668347358703613, 10.612698554992676, 23.133251190185547, 4.6192755699157715, 14.888280868530273, 3.9953994750976562, 7.6318583488464355, 126.64140319824219, 4.214920520782471, 7.268002986907959, 11.838401794433594, 117.9036865234375, 176.1106719970703, 142.058837890625, 169.72523498535156, 183.9084930419922, 268.1258239746094, 131.71417236328125, 284.33935546875, 38.404380798339844, 195.8286590576172, 80.82276153564453, 159.69984436035156, 101.25007629394531, 91.33765411376953, 92.05667114257812, 140.68191528320312, 129.8214874267578, 59.53466796875, 33.870723724365234, 80.25544738769531, 81.64917755126953, 76.24374389648438, 65.46704864501953, 65.90884399414062, 90.97071075439453, 62.07087707519531, 75.29834747314453, 69.7676773071289, 68.81957244873047, 54.72317886352539, 56.63934326171875, 12.219406127929688, 7.6158223152160645, 6.470576763153076, 73.62442016601562, 59.39997482299805, 6.5116448402404785, 37.433143615722656, 377.4214172363281, 111.40621185302734, 47.138187408447266, 3.361876964569092, 4.001284122467041, 15.48961067199707, 6.991499423980713, 13.058488845825195, 4.625008583068848, 4.979968547821045, 21.578548431396484, 9.006073951721191, 18.737083435058594, 6.6246514320373535, 247.1279754638672, 217.41531372070312, 3.1857216358184814, 4.0714335441589355, 464.6324462890625, 26.6732120513916, 31.800508499145508, 3.3403913974761963, 14.39155387878418, 181.74339294433594, 59.411399841308594, 138.8061981201172, 49.13102722167969, 82.35342407226562, 33.880455017089844, 75.20394134521484, 67.40882110595703, 94.73210144042969, 100.2298583984375, 22.213178634643555, 60.38162612915039, 109.33220672607422, 100.74911499023438, 113.9974136352539, 78.12588500976562, 31.95800018310547, 45.458187103271484, 46.65264892578125, 44.23291778564453, 61.01050567626953, 62.850494384765625, 56.60293197631836, 63.1984977722168, 61.16835021972656, 53.892616271972656, 50.573177337646484, 48.03074264526367, 3.273695468902588, 3.0771069526672363, 4.890880107879639, 2.456777334213257, 2.3678486347198486, 3.9622085094451904, 2.2445011138916016, 2.2189712524414062, 2.450434446334839, 2.072613000869751, 2.4329745769500732, 2.4197275638580322, 2.3246726989746094, 2.341179370880127, 2.3417840003967285, 51.64779281616211, 1.9628596305847168, 1.9534097909927368, 2.2664363384246826, 2.233245611190796, 3.5383219718933105, 2.2210640907287598, 2.838592052459717, 3.158217191696167, 2.4798290729522705, 5.317720890045166, 2.403458595275879, 3.572007417678833, 2.9608118534088135, 2.339785099029541, 8.190153121948242, 4.367157936096191, 18.584508895874023, 11.233259201049805, 17.966861724853516, 6.920666217803955, 5.3817138671875, 3.6029393672943115, 6.303843021392822, 15.382328987121582, 4.688216209411621, 5.447423934936523, 3.9398508071899414, 13.423286437988281, 27.947906494140625, 5.716065406799316, 15.659393310546875, 4.7132182121276855, 8.469507217407227, 7.5002217292785645, 32.09883117675781, 9.395453453063965, 14.580527305603027, 21.50883674621582, 11.809743881225586, 13.280640602111816, 15.448098182678223, 14.794833183288574, 23.220726013183594, 22.908491134643555, 17.171707153320312, 16.862245559692383, 23.214397430419922, 17.156545639038086, 17.213077545166016, 15.53732967376709, 14.128215789794922, 13.584484100341797, 16.2677059173584, 17.016145706176758, 17.40146255493164, 15.204240798950195, 15.840287208557129, 15.396686553955078, 14.666897773742676, 13.921069145202637, 13.688531875610352, 6.925014495849609, 2.172882556915283, 1.9175134897232056, 1.471975564956665, 1.4762417078018188, 1.4715971946716309, 1.4704939126968384, 1.8865422010421753, 1.3879138231277466, 1.4534648656845093, 1.4598581790924072, 2.192413568496704, 6.401988983154297, 0.7612703442573547, 1.477310061454773, 1.4673960208892822, 2.1768853664398193, 0.7909294962882996, 0.7618332505226135, 1.307616949081421, 1.223713755607605, 1.3177286386489868, 0.7655846476554871, 0.7645008563995361, 1.472520351409912, 0.7616254091262817, 0.7626581192016602, 0.7656652331352234, 0.7627117037773132, 0.7627445459365845, 1.2426583766937256, 2.1783828735351562, 11.801265716552734, 2.6194515228271484, 1.3879742622375488, 1.4731239080429077, 1.2995080947875977, 1.4668970108032227, 1.4701876640319824, 1.4560256004333496, 2.1862261295318604, 4.645428657531738, 10.489313125610352, 2.8875539302825928, 8.603967666625977, 18.137895584106445, 14.038341522216797, 5.114964485168457, 4.376193046569824, 2.9977829456329346, 9.183505058288574, 2.9022464752197266, 9.761754035949707, 7.433769702911377, 7.281411170959473, 5.930706977844238, 6.313319683074951, 7.1705732345581055, 7.471275806427002, 4.075994968414307, 4.465933799743652, 3.7933576107025146, 8.15747356414795, 7.855677604675293, 6.233383655548096, 5.978498458862305, 5.985409736633301, 7.544201374053955, 6.148523330688477, 5.790552139282227, 6.449098110198975, 5.122094631195068, 6.379109859466553, 6.5478081703186035, 5.092887878417969, 5.135371685028076, 1.486140251159668, 4.215359687805176, 1.231598973274231, 1.4797507524490356, 1.2765690088272095, 1.4844719171524048, 1.485995888710022, 2.0132501125335693, 1.9570560455322266, 3.0641634464263916, 3.065967321395874, 1.8101874589920044, 1.315771222114563, 0.7654879093170166, 0.9403340816497803, 1.4660305976867676, 0.7664150595664978, 0.7663193345069885, 0.7564885020256042, 0.7636988759040833, 0.7646371722221375, 0.7676284313201904, 0.7656188607215881, 0.7650901079177856, 0.7552313208580017, 0.7594570517539978, 0.7553552389144897, 0.7731448411941528, 0.7516722083091736, 0.7667621970176697, 1.2163708209991455, 1.08256995677948, 2.599437952041626, 13.651741027832031, 1.388927936553955, 4.569271564483643, 1.480419635772705, 7.13253116607666, 14.314705848693848, 3.481088876724243, 2.3891193866729736, 2.1925413608551025, 3.95925235748291, 17.182432174682617, 4.707562446594238, 11.965615272521973, 29.10400390625, 33.25189971923828, 2.1681313514709473, 3.489556312561035, 5.7412190437316895, 4.922483921051025, 9.103620529174805, 7.710376739501953, 10.256576538085938, 7.384407997131348, 11.466681480407715, 10.38500690460205, 11.310630798339844, 7.92201566696167, 3.630887269973755, 6.483482837677002, 5.271493434906006, 6.702709674835205, 8.045334815979004, 7.796432971954346, 5.6635661125183105, 6.178051948547363, 6.742091178894043, 7.042922019958496, 5.684868335723877, 5.831608772277832, 5.852121353149414, 5.622101306915283, 5.699182987213135, 5.642892360687256, 6.734625816345215, 2.3701069355010986, 1.868687629699707, 4.033847808837891, 2.3717801570892334, 1.5864371061325073, 1.611824631690979, 1.6098564863204956, 1.5294350385665894, 2.0563483238220215, 1.6098729372024536, 1.568515658378601, 2.2384321689605713, 6.519989967346191, 1.5944900512695312, 1.2597368955612183, 3.3040504455566406, 1.6051981449127197, 2.9543020725250244, 1.7952715158462524, 1.5896947383880615, 0.9967448711395264, 1.1907563209533691, 1.7030900716781616, 1.6566743850708008, 0.9843749403953552, 1.6035360097885132, 0.9169652462005615, 1.5492650270462036, 0.9084550142288208, 1.5353879928588867, 14.155866622924805, 2.3299343585968018, 1.6047401428222656, 3.9778852462768555, 5.523495674133301, 10.9557466506958, 6.666388511657715, 3.8126604557037354, 3.9341013431549072, 5.950918674468994, 3.297879695892334, 5.583798885345459, 7.682741641998291, 3.7414326667785645, 15.888022422790527, 8.756172180175781, 3.374203681945801, 5.567509651184082, 3.074655294418335, 2.346583366394043, 7.862005233764648, 3.9339606761932373, 7.839408874511719, 5.320028305053711, 6.706616401672363, 6.585991382598877, 7.923677921295166, 7.825922966003418, 6.830875873565674, 5.850740432739258, 6.929196834564209, 4.71396017074585, 5.505085468292236, 5.731402397155762, 4.931435585021973, 4.867197036743164, 4.918763160705566, 4.996547222137451, 5.0287861824035645, 2.3744430541992188, 1.4043481349945068, 1.4105533361434937, 25.16963768005371, 6.319118499755859, 1.1737734079360962, 1.4060922861099243, 1.5205572843551636, 1.1794322729110718, 1.3685795068740845, 1.3581721782684326, 1.281311273574829, 1.2796847820281982, 1.4107403755187988, 1.1498662233352661, 1.8670653104782104, 1.2951241731643677, 1.108269453048706, 1.2442166805267334, 1.403660774230957, 3.4310529232025146, 0.8611520528793335, 1.3020062446594238, 1.0249643325805664, 0.7280735373497009, 0.7237746715545654, 1.130810022354126, 0.7266086935997009, 1.7447441816329956, 0.710472583770752, 1.2311159372329712, 1.3104524612426758, 8.991896629333496, 1.8689548969268799, 1.3995991945266724, 2.096003770828247, 7.138498783111572, 3.032849073410034, 13.244670867919922, 2.0559260845184326, 3.283535957336426, 3.066071033477783, 3.4965267181396484, 4.1529035568237305, 7.182232856750488, 3.4769673347473145, 4.916116237640381, 4.156308174133301, 5.002035617828369, 4.760685443878174, 7.317647457122803, 5.177229881286621, 5.144649505615234, 3.965400218963623, 3.204972505569458, 3.454420566558838, 4.821587562561035, 5.866990566253662, 6.6826491355896, 2.479083299636841, 5.554396629333496, 3.2053182125091553, 4.920120716094971, 4.073587894439697, 5.188299179077148, 5.19644832611084, 4.298794746398926, 4.505698204040527, 4.603402614593506, 3.996469736099243, 4.060365676879883, 4.1623215675354, 3.94118332862854, 1.4413368701934814, 1.4430677890777588, 1.4397716522216797, 1.436095952987671, 1.4420984983444214, 2.145164728164673, 1.4445217847824097, 0.7460319995880127, 1.4424916505813599, 1.4476101398468018, 0.7418361306190491, 0.7454384565353394, 0.7424623966217041, 0.7404693961143494, 0.7472994923591614, 0.748721182346344, 0.7470648288726807, 0.7465364336967468, 0.7422394752502441, 0.7470588684082031, 0.7470101118087769, 0.7472294569015503, 0.7409257292747498, 0.7402375936508179, 0.7365681529045105, 0.7412981986999512, 0.7400172352790833, 0.7354055047035217, 0.7464860677719116, 0.7318413257598877, 1.4406388998031616, 1.4480950832366943, 1.4289416074752808, 1.4394675493240356, 1.4470131397247314, 4.245736122131348, 1.5647492408752441, 1.4196693897247314, 1.440022349357605, 4.245110511779785, 9.163259506225586, 1.4459480047225952, 1.4475221633911133, 9.911280632019043, 2.8232645988464355, 1.4395854473114014, 1.4371318817138672, 2.153352975845337, 1.442193865776062, 4.924921989440918, 7.181780815124512, 8.949233055114746, 3.5700695514678955, 2.1163065433502197, 7.372659683227539, 6.492018699645996, 2.7976348400115967, 2.832554340362549, 5.016228199005127, 5.983052730560303, 4.59844446182251, 2.879775285720825, 3.753857374191284, 3.0642201900482178, 2.9374022483825684, 3.64976167678833, 2.904025077819824, 2.134413957595825, 2.980086326599121, 2.166857957839966, 2.9215900897979736, 3.0383737087249756, 2.17181396484375, 2.2833704948425293, 2.322962760925293, 2.293414831161499, 2.3220083713531494, 2.277797222137451, 1.4318948984146118, 1.4314764738082886, 1.4315745830535889, 1.433397650718689, 1.4293794631958008, 0.7419495582580566, 0.7959142327308655, 1.4262431859970093, 0.7411424517631531, 0.7391859292984009, 0.7373073101043701, 0.7407808303833008, 0.7426586747169495, 0.740867555141449, 0.7385808825492859, 0.7409272193908691, 0.7376369833946228, 0.7394939064979553, 0.7381663918495178, 0.7377150654792786, 0.7371067404747009, 0.7411198616027832, 0.7400776147842407, 0.7403870224952698, 0.7343275547027588, 0.7326781153678894, 0.739104151725769, 0.7406186461448669, 1.4308509826660156, 1.4323623180389404, 4.211527347564697, 1.4330230951309204, 4.930085182189941, 2.8200812339782715, 2.8180854320526123, 10.247966766357422, 1.4347825050354004, 6.5942158699035645, 4.17302942276001, 3.598921537399292, 2.122436285018921, 1.4305869340896606, 2.130462169647217, 2.816411018371582, 1.4285370111465454, 2.13118314743042, 6.294195175170898, 5.616463661193848, 2.1226885318756104, 2.8672401905059814, 5.748600006103516, 2.1912903785705566, 4.3040008544921875, 2.8515329360961914, 5.18312931060791, 3.516550064086914, 3.624437093734741, 3.602201223373413, 2.865877628326416, 4.5974955558776855, 3.6691830158233643, 3.7546725273132324, 3.640109062194824, 3.554457664489746, 2.9644899368286133, 2.850008487701416, 2.8832972049713135, 3.7724785804748535, 2.920463800430298, 3.068868637084961, 3.0678727626800537, 2.9418177604675293, 2.978483200073242, 2.9420459270477295, 2.9281463623046875, 2.9322664737701416, 2.905235528945923, 9.93078327178955, 10.416050910949707, 1.0475237369537354, 0.8112565279006958, 6.935204982757568, 0.5650919675827026, 0.564723014831543, 0.5653089284896851, 0.5649539232254028, 0.5660426020622253, 0.5655533671379089, 0.5652222633361816, 0.5651333928108215, 0.5654192566871643, 0.8105044960975647, 0.5901619791984558, 0.6763103604316711, 0.5651670098304749, 0.5653459429740906, 0.5655449628829956, 0.565317690372467, 0.5653348565101624, 0.5652358531951904, 0.5652778148651123, 0.5657330751419067, 0.5648776888847351, 0.5663633942604065, 0.5653390884399414, 0.5657531023025513, 0.565213680267334, 2.397698163986206, 3.0153703689575195, 0.8152135014533997, 0.7066310048103333, 1.7691010236740112, 3.1166419982910156, 1.0963982343673706, 7.806008815765381, 1.6408655643463135, 1.1351944208145142, 1.4669804573059082, 1.8019527196884155, 1.0980721712112427, 1.290863037109375, 0.807994544506073, 1.6951909065246582, 1.240414023399353, 1.0998921394348145, 1.9413789510726929, 1.6937313079833984, 1.193238377571106, 1.1031334400177002, 1.9755663871765137, 1.854307770729065, 0.9396468997001648, 1.1602357625961304, 1.2816650867462158, 1.2211277484893799, 1.3093456029891968, 1.1302050352096558, 1.2814252376556396, 1.2690813541412354, 1.2618898153305054, 1.2274737358093262, 1.2144941091537476, 1.2125353813171387, 1.1943689584732056, 1.1896392107009888, 1.2000114917755127, 0.005868993699550629, 0.005798230413347483, 0.0058422875590622425, 0.005810071714222431, 0.005979238077998161, 0.006010625045746565, 0.006268290337175131, 0.0058672865852713585, 0.005800352897495031, 0.005814787931740284, 0.005848993081599474, 0.005901542492210865, 0.005867684260010719, 0.005877374205738306, 0.005796836689114571, 0.005892525427043438, 0.006425383500754833, 0.005907912272959948, 0.005820488091558218, 0.0058875009417533875, 0.005828588269650936, 0.006334580481052399, 0.00583315547555685, 0.005840729922056198, 0.005887198727577925, 0.005832470487803221, 0.005783638916909695, 0.005830195266753435, 0.005825620610266924, 0.005823807325214148, 0.006272459402680397, 0.006288197822868824, 0.0059231785126030445, 0.006102753337472677, 0.007819510996341705, 0.006019356194883585, 0.006100046914070845, 0.006087143439799547, 0.007292677648365498, 0.006358882412314415, 0.05880383402109146, 0.006360911298543215, 0.006867121905088425, 0.006330833770334721, 0.04618280753493309, 0.0462137870490551, 0.04170707240700722, 0.041520651429891586, 0.03944072499871254, 0.03681396692991257, 0.006558143068104982, 0.030037956312298775, 0.03287024423480034, 0.028868669643998146, 0.03212196007370949, 0.03440660238265991, 0.030465899035334587, 0.028220267966389656, 0.024814244359731674, 0.026218231767416, 0.024821922183036804, 0.023113451898097992, 0.023999938741326332, 0.027124304324388504, 0.023464472964406013, 0.0245838463306427, 0.024538718163967133, 0.021626658737659454, 0.02287719026207924, 0.023130295798182487, 0.02603898011147976, 0.020732250064611435, 0.02248089388012886, 0.022036336362361908, 0.02519015036523342, 0.024650543928146362, 0.02303623966872692], \"Term\": [\"miss\", \"emma\", \"know\", \"good\", \"little\", \"like\", \"day\", \"jane\", \"harriet\", \"think\", \"time\", \"thought\", \"john\", \"madame\", \"thing\", \"weston\", \"sister\", \"long\", \"shall\", \"saw\", \"great\", \"come\", \"looked\", \"knightley\", \"elton\", \"felt\", \"man\", \"half\", \"sir\", \"fairfax\", \"darcy\", \"bennet\", \"bingley\", \"wickham\", \"lydia\", \"collins\", \"gardiner\", \"elizabeth\", \"lizzy\", \"longbourn\", \"kitty\", \"netherfield\", \"charlotte\", \"lucas\", \"meryton\", \"pemberley\", \"elinor\", \"rosings\", \"ferrars\", \"willoughby\", \"brandon\", \"hertfordshire\", \"forster\", \"marianne\", \"bourgh\", \"fitzwilliam\", \"phillips\", \"barton\", \"fanny\", \"catherine\", \"dashwood\", \"jennings\", \"engagement\", \"sister\", \"middleton\", \"behaviour\", \"colonel\", \"edward\", \"family\", \"mother\", \"dear\", \"replied\", \"soon\", \"lady\", \"think\", \"letter\", \"miss\", \"time\", \"know\", \"friend\", \"good\", \"man\", \"great\", \"hope\", \"sure\", \"young\", \"thing\", \"shall\", \"little\", \"day\", \"jane\", \"house\", \"away\", \"thought\", \"long\", \"room\", \"marie\", \"walravens\", \"justine\", \"classes\", \"abbot\", \"crib\", \"meess\", \"sylvie\", \"stillness\", \"marchmont\", \"reigned\", \"lloyd\", \"horizon\", \"lofty\", \"mist\", \"traveller\", \"benches\", \"lamps\", \"ghastly\", \"crag\", \"gliding\", \"swift\", \"snowy\", \"assemblage\", \"fog\", \"dense\", \"pot\", \"sable\", \"schoolrooms\", \"traversed\", \"demoiselles\", \"dormitory\", \"turf\", \"leaf\", \"trees\", \"ruddy\", \"moon\", \"tiny\", \"city\", \"bessie\", \"grass\", \"wall\", \"green\", \"dark\", \"fields\", \"madame\", \"white\", \"flowers\", \"beck\", \"black\", \"walls\", \"midnight\", \"broad\", \"garden\", \"pensionnat\", \"shone\", \"door\", \"glass\", \"stood\", \"dress\", \"closed\", \"sun\", \"night\", \"lay\", \"like\", \"light\", \"french\", \"blue\", \"rose\", \"eyes\", \"deep\", \"round\", \"hand\", \"face\", \"little\", \"long\", \"bed\", \"looked\", \"thought\", \"heart\", \"life\", \"room\", \"head\", \"came\", \"time\", \"day\", \"knew\", \"saw\", \"house\", \"eye\", \"felt\", \"come\", \"went\", \"good\", \"half\", \"know\", \"took\", \"dans\", \"casting\", \"parisienne\", \"cholmondeley\", \"swiss\", \"schoolmistress\", \"tragedy\", \"coarsely\", \"thundering\", \"elders\", \"graham\", \"garcon\", \"inexplicable\", \"damage\", \"shadowed\", \"greek\", \"paulina\", \"crabbed\", \"professors\", \"vigilant\", \"bassompierre\", \"bois\", \"pouring\", \"hannah\", \"amour\", \"diana\", \"sleeve\", \"susceptible\", \"suave\", \"epistle\", \"polly\", \"snowe\", \"dr\", \"bretton\", \"fanshawe\", \"ginevra\", \"count\", \"papa\", \"monsieur\", \"st\", \"relinquish\", \"crecy\", \"rivers\", \"lucy\", \"doctor\", \"english\", \"henri\", \"john\", \"mamma\", \"mademoiselle\", \"school\", \"vous\", \"directress\", \"en\", \"little\", \"words\", \"hunsden\", \"know\", \"like\", \"hand\", \"good\", \"thought\", \"home\", \"think\", \"eye\", \"look\", \"day\", \"man\", \"shall\", \"come\", \"long\", \"tell\", \"time\", \"way\", \"took\", \"eyes\", \"yes\", \"saw\", \"miss\", \"poole\", \"mason\", \"storey\", \"leah\", \"inarticulate\", \"yorke\", \"conformity\", \"tynedale\", \"benefactress\", \"janet\", \"muff\", \"millcote\", \"clenched\", \"bertha\", \"sophie\", \"thornfield\", \"brocklehurst\", \"rochester\", \"sprain\", \"stick\", \"adele\", \"jamaica\", \"malignant\", \"maniac\", \"bigben\", \"lunatic\", \"ingram\", \"leaven\", \"impediment\", \"seacombe\", \"eshton\", \"pilot\", \"lynn\", \"sir\", \"eyre\", \"dent\", \"gallery\", \"tradesman\", \"devil\", \"hall\", \"reed\", \"horse\", \"ll\", \"fairfax\", \"jane\", \"grace\", \"temple\", \"master\", \"yes\", \"crimsworth\", \"night\", \"heard\", \"room\", \"like\", \"miss\", \"think\", \"shall\", \"come\", \"little\", \"look\", \"thought\", \"know\", \"face\", \"good\", \"lady\", \"door\", \"house\", \"saw\", \"time\", \"day\", \"soon\", \"long\", \"dixon\", \"suckling\", \"maple\", \"campbell\", \"bragge\", \"hawkins\", \"selina\", \"smallridge\", \"exploring\", \"campbells\", \"yorkshire\", \"ford\", \"churchills\", \"cole\", \"grove\", \"rivet\", \"weymouth\", \"surry\", \"bates\", \"strawberries\", \"vicarage\", \"enscombe\", \"drawback\", \"bath\", \"explore\", \"patty\", \"churchill\", \"friday\", \"richmond\", \"ireland\", \"frank\", \"fairfax\", \"woodhouse\", \"elton\", \"weston\", \"emma\", \"knightley\", \"miss\", \"extremely\", \"jane\", \"body\", \"thing\", \"oh\", \"dear\", \"sure\", \"know\", \"think\", \"going\", \"highbury\", \"come\", \"shall\", \"great\", \"heard\", \"young\", \"little\", \"yes\", \"like\", \"good\", \"time\", \"hear\", \"soon\", \"larkins\", \"cox\", \"creating\", \"randalls\", \"perry\", \"matches\", \"taylor\", \"harriet\", \"hartfield\", \"isabella\", \"preparatory\", \"windsor\", \"apples\", \"brunswick\", \"eltons\", \"disparity\", \"blindness\", \"surprize\", \"disengaged\", \"surprized\", \"westons\", \"weston\", \"knightley\", \"transition\", \"knightleys\", \"emma\", \"donwell\", \"goddard\", \"airing\", \"james\", \"elton\", \"highbury\", \"woodhouse\", \"smith\", \"frank\", \"martin\", \"churchill\", \"body\", \"father\", \"thing\", \"dancing\", \"poor\", \"miss\", \"good\", \"little\", \"great\", \"bates\", \"sort\", \"friend\", \"fairfax\", \"thought\", \"time\", \"soon\", \"know\", \"like\", \"think\", \"jane\", \"dear\", \"brilliantly\", \"supple\", \"amy\", \"thirdly\", \"fibre\", \"faubourg\", \"weekly\", \"insight\", \"slavery\", \"retire\", \"jetty\", \"herd\", \"curling\", \"district\", \"chalk\", \"hunsden\", \"sofas\", \"slim\", \"reckon\", \"puppy\", \"mat\", \"hysterical\", \"whip\", \"caste\", \"patrician\", \"poison\", \"gentlewoman\", \"steep\", \"harmonious\", \"tranquilly\", \"blanche\", \"butter\", \"ingram\", \"coffee\", \"crimsworth\", \"dent\", \"picturesque\", \"paint\", \"eshton\", \"frances\", \"lynn\", \"louisa\", \"miniature\", \"features\", \"face\", \"sufficed\", \"hair\", \"eyebrows\", \"rooms\", \"georgiana\", \"like\", \"tall\", \"ladies\", \"looked\", \"black\", \"fine\", \"looking\", \"rochester\", \"good\", \"think\", \"hand\", \"look\", \"little\", \"saw\", \"room\", \"eyes\", \"old\", \"let\", \"man\", \"thought\", \"miss\", \"long\", \"know\", \"time\", \"day\", \"come\", \"shall\", \"briggs\", \"honeymoon\", \"sixpence\", \"jump\", \"intimates\", \"gross\", \"lengths\", \"kisses\", \"fullest\", \"resisting\", \"shabby\", \"wives\", \"likeness\", \"insinuating\", \"insane\", \"accomplishment\", \"husbands\", \"obnoxious\", \"brittle\", \"latch\", \"poultry\", \"experiment\", \"performances\", \"documents\", \"relatives\", \"inequality\", \"insulting\", \"desperately\", \"aghast\", \"legs\", \"stare\", \"sketch\", \"smith\", \"cares\", \"essential\", \"propensities\", \"trifles\", \"displayed\", \"colours\", \"hideous\", \"finish\", \"wrote\", \"elton\", \"message\", \"rochester\", \"miss\", \"jane\", \"thousand\", \"pity\", \"seriously\", \"john\", \"encouragement\", \"thought\", \"love\", \"moment\", \"words\", \"friend\", \"felt\", \"thing\", \"tried\", \"state\", \"sought\", \"good\", \"think\", \"hand\", \"left\", \"oh\", \"like\", \"look\", \"knew\", \"day\", \"happy\", \"know\", \"little\", \"far\", \"yes\", \"dulness\", \"weymouth\", \"bateses\", \"blended\", \"exultingly\", \"worlds\", \"feebly\", \"easier\", \"producing\", \"ford\", \"comprehension\", \"topics\", \"entertaining\", \"winning\", \"vicinity\", \"stores\", \"claiming\", \"healed\", \"inequality\", \"instruments\", \"bars\", \"restoring\", \"tune\", \"referring\", \"ostensible\", \"tremulous\", \"quietness\", \"wrapt\", \"verbal\", \"preparatory\", \"hesitatingly\", \"sell\", \"charade\", \"bates\", \"talker\", \"hint\", \"unwillingness\", \"perry\", \"churchill\", \"shew\", \"eltons\", \"questioned\", \"niece\", \"fairfax\", \"command\", \"frank\", \"emma\", \"miss\", \"pushed\", \"campbell\", \"highbury\", \"play\", \"word\", \"body\", \"harriet\", \"want\", \"jane\", \"thing\", \"day\", \"friend\", \"complexion\", \"woodhouse\", \"obliged\", \"weston\", \"shall\", \"good\", \"going\", \"looked\", \"time\", \"little\", \"yes\", \"great\", \"know\", \"come\", \"thought\", \"think\", \"alfred\", \"rats\", \"timon\", \"attic\", \"rattle\", \"sensitiveness\", \"mightily\", \"waltz\", \"collation\", \"dart\", \"raving\", \"skirts\", \"throne\", \"hamal\", \"encore\", \"unsteady\", \"dieu\", \"practising\", \"fun\", \"responsibility\", \"brand\", \"fairest\", \"sneered\", \"element\", \"athenee\", \"spectators\", \"occurrence\", \"block\", \"arithmetic\", \"tiger\", \"cloaks\", \"ginevra\", \"countess\", \"bracelet\", \"mon\", \"classe\", \"paul\", \"fanshawe\", \"nun\", \"mad\", \"la\", \"crowd\", \"est\", \"dr\", \"learned\", \"know\", \"madame\", \"acted\", \"beck\", \"rosine\", \"relish\", \"john\", \"courage\", \"saw\", \"bretton\", \"door\", \"night\", \"time\", \"like\", \"come\", \"old\", \"little\", \"carriage\", \"half\", \"thought\", \"better\", \"oh\", \"way\", \"long\", \"think\", \"flamand\", \"insinuating\", \"abandon\", \"pelet\", \"zoraide\", \"obnoxious\", \"mesdames\", \"encore\", \"irritating\", \"fagged\", \"allez\", \"demonstrations\", \"exulting\", \"misunderstand\", \"undertaken\", \"car\", \"heretofore\", \"national\", \"commissioned\", \"item\", \"india\", \"badly\", \"physically\", \"pallid\", \"winning\", \"veritable\", \"yoke\", \"interpreted\", \"intellectual\", \"revelations\", \"crape\", \"dismissal\", \"reuter\", \"repressed\", \"unchanged\", \"missis\", \"thousand\", \"une\", \"madame\", \"adopted\", \"sacrifice\", \"gateshead\", \"lessons\", \"justice\", \"want\", \"establishment\", \"st\", \"order\", \"marry\", \"sisters\", \"john\", \"daughter\", \"wife\", \"consider\", \"diana\", \"pounds\", \"brother\", \"tell\", \"thought\", \"continue\", \"house\", \"absolutely\", \"love\", \"feeling\", \"shall\", \"know\", \"sister\", \"man\", \"little\", \"let\", \"yes\", \"jane\", \"think\", \"preoccupied\", \"anecdote\", \"devoirs\", \"knotty\", \"resulted\", \"fifine\", \"evans\", \"jests\", \"viz\", \"phase\", \"admirably\", \"nobleman\", \"kneel\", \"turk\", \"spontaneously\", \"sterner\", \"confines\", \"nobler\", \"brevity\", \"respite\", \"communicates\", \"sped\", \"pitched\", \"leafless\", \"exercising\", \"tire\", \"solve\", \"dissimulation\", \"xix\", \"saxon\", \"trite\", \"chateau\", \"cakes\", \"conscientious\", \"observant\", \"fossette\", \"bodily\", \"reluctant\", \"sheets\", \"rue\", \"dr\", \"sparkling\", \"prolonged\", \"madame\", \"task\", \"physician\", \"desiree\", \"sunshine\", \"benevolence\", \"sense\", \"john\", \"day\", \"beck\", \"regarded\", \"good\", \"like\", \"frances\", \"strength\", \"saw\", \"little\", \"time\", \"liked\", \"mother\", \"new\", \"power\", \"came\", \"air\", \"possessed\", \"young\", \"force\", \"eyes\", \"long\", \"pupil\", \"took\", \"room\", \"half\", \"think\", \"way\", \"encumbered\", \"ami\", \"tractable\", \"compel\", \"passionately\", \"brittle\", \"denominated\", \"dose\", \"crude\", \"lightness\", \"contrition\", \"humming\", \"tomb\", \"harass\", \"irrational\", \"oven\", \"narrator\", \"receding\", \"await\", \"avarice\", \"consummate\", \"bondage\", \"disdainful\", \"temperature\", \"perched\", \"bearded\", \"objected\", \"concession\", \"existed\", \"hundreds\", \"priest\", \"battle\", \"friendship\", \"silas\", \"pere\", \"monsieur\", \"prey\", \"paul\", \"pupil\", \"angry\", \"fail\", \"sneer\", \"mon\", \"shawl\", \"tyrant\", \"wore\", \"old\", \"told\", \"story\", \"emanuel\", \"half\", \"professor\", \"friend\", \"form\", \"like\", \"lucy\", \"seen\", \"believe\", \"lips\", \"know\", \"sister\", \"looked\", \"eyes\", \"felt\", \"smile\", \"dark\", \"spoke\", \"good\", \"words\", \"day\", \"time\", \"face\", \"long\", \"knew\", \"took\", \"saw\", \"word\", \"scatcherd\", \"burns\", \"dislikes\", \"liberally\", \"helen\", \"bunch\", \"uproar\", \"saddened\", \"fender\", \"fraction\", \"ominous\", \"creeping\", \"impotent\", \"clamour\", \"doctrine\", \"extend\", \"invisible\", \"abstracted\", \"narrowly\", \"defective\", \"moan\", \"embers\", \"emerged\", \"brightly\", \"commit\", \"disgraceful\", \"pleasantest\", \"glare\", \"unavailing\", \"quivered\", \"lowood\", \"temple\", \"bible\", \"patiently\", \"cruel\", \"bear\", \"tables\", \"miss\", \"severe\", \"tear\", \"learn\", \"wind\", \"forms\", \"faults\", \"sewing\", \"sent\", \"putting\", \"confusion\", \"place\", \"girl\", \"evil\", \"teacher\", \"day\", \"good\", \"coffee\", \"probably\", \"read\", \"school\", \"hour\", \"book\", \"great\", \"long\", \"thought\", \"felt\", \"way\", \"looked\", \"face\", \"evening\", \"like\", \"insinuating\", \"flamand\", \"obnoxious\", \"brittle\", \"winning\", \"thirdly\", \"flown\", \"abandon\", \"bunch\", \"encumbered\", \"badly\", \"performances\", \"jests\", \"admirably\", \"preoccupied\", \"kneel\", \"figured\", \"fairest\", \"irritating\", \"crude\", \"documents\", \"bestowing\", \"claiming\", \"fender\", \"slim\", \"nobleman\", \"revelations\", \"retire\", \"turk\", \"weekly\", \"boundary\", \"preached\", \"pacing\", \"befall\", \"rivet\", \"prose\", \"dusty\", \"aches\", \"seas\", \"pomp\", \"miss\", \"insignificance\", \"job\", \"expressly\", \"think\", \"little\", \"good\", \"know\", \"time\", \"thought\", \"counter\", \"mother\", \"room\", \"elizabeth\", \"long\", \"like\", \"day\", \"come\", \"knew\", \"came\", \"heard\", \"home\", \"half\", \"man\", \"harriet\", \"young\", \"away\", \"friend\", \"having\", \"yes\", \"soon\", \"present\", \"sister\", \"door\", \"shall\", \"jane\", \"looked\"], \"Total\": [1523.0, 904.0, 1437.0, 1357.0, 1734.0, 1332.0, 1053.0, 935.0, 558.0, 1313.0, 1315.0, 1143.0, 620.0, 397.0, 797.0, 466.0, 577.0, 938.0, 926.0, 772.0, 832.0, 834.0, 695.0, 411.0, 403.0, 665.0, 905.0, 589.0, 604.0, 376.0, 408.54541015625, 317.3682861328125, 300.7327575683594, 190.9858856201172, 168.43438720703125, 176.24374389648438, 93.9299087524414, 634.08056640625, 95.87895202636719, 87.04429626464844, 73.32594299316406, 72.3367691040039, 111.56646728515625, 69.40131378173828, 56.66141128540039, 52.74787902832031, 672.2061157226562, 48.81822967529297, 128.23402404785156, 212.42572021484375, 141.91415405273438, 40.9702033996582, 39.019554138183594, 555.3967895507812, 39.019779205322266, 36.05308151245117, 31.17862892150879, 87.94378662109375, 47.827022552490234, 127.97467041015625, 247.67770385742188, 226.2152557373047, 114.73333740234375, 577.8358154296875, 100.79838562011719, 143.72035217285156, 302.10980224609375, 312.3347473144531, 380.5660705566406, 664.3004150390625, 595.0658569335938, 349.6269836425781, 928.2958984375, 617.7299194335938, 1313.9505615234375, 426.6687927246094, 1523.3265380859375, 1315.4696044921875, 1437.5126953125, 434.98223876953125, 1357.58837890625, 905.475830078125, 832.6817626953125, 508.3243103027344, 619.8538818359375, 665.3758544921875, 797.3397216796875, 926.7860717773438, 1734.802734375, 1053.203125, 935.5286865234375, 751.1685180664062, 678.5043334960938, 1143.7781982421875, 938.3947143554688, 890.8202514648438, 30.3514461517334, 24.453454971313477, 23.47300148010254, 34.29945373535156, 25.446537017822266, 16.573888778686523, 17.553466796875, 27.14410972595215, 16.573484420776367, 14.598690032958984, 12.625018119812012, 12.626876831054688, 16.574567794799805, 17.5379581451416, 17.561840057373047, 16.56817054748535, 17.554481506347656, 17.560443878173828, 11.641166687011719, 11.642484664916992, 10.65174674987793, 10.648159980773926, 11.641143798828125, 9.664788246154785, 9.668075561523438, 17.563173294067383, 11.607757568359375, 9.669280052185059, 9.665732383728027, 9.660486221313477, 15.575605392456055, 35.1225700378418, 18.5443115234375, 25.2540225982666, 110.20745086669922, 16.112627029418945, 76.65400695800781, 23.47681427001953, 41.914031982421875, 128.26339721679688, 19.51595687866211, 75.93609619140625, 105.7139663696289, 227.00978088378906, 42.71269989013672, 397.4371643066406, 233.76748657226562, 89.26973724365234, 162.16534423828125, 179.91195678710938, 60.01957321166992, 30.41484260559082, 78.6673355102539, 174.9851531982422, 35.40604782104492, 56.40351486206055, 537.0068359375, 118.38103485107422, 324.95379638671875, 161.3000030517578, 116.42233276367188, 103.35029602050781, 620.6837768554688, 194.27687072753906, 1332.422119140625, 307.6581115722656, 158.06019592285156, 114.14080810546875, 229.3872833251953, 637.5419921875, 182.05812072753906, 355.62933349609375, 615.1311645507812, 495.0245666503906, 1734.802734375, 938.3947143554688, 223.1544952392578, 695.2650146484375, 1143.7781982421875, 652.8168334960938, 583.6556396484375, 890.8202514648438, 409.283203125, 690.953857421875, 1315.4696044921875, 1053.203125, 545.8861083984375, 772.8067016601562, 751.1685180664062, 396.6318359375, 665.3477783203125, 834.2070922851562, 493.3990783691406, 1357.58837890625, 589.7697143554688, 1437.5126953125, 493.9903259277344, 11.798317909240723, 9.740184783935547, 9.795165061950684, 23.433725357055664, 14.61733341217041, 7.792408466339111, 6.792736053466797, 5.794745922088623, 5.7929487228393555, 5.79110860824585, 226.3726348876953, 5.791109561920166, 5.79519510269165, 5.7762017250061035, 5.789708614349365, 12.634964942932129, 83.84746551513672, 5.771263122558594, 7.787468910217285, 7.789762496948242, 74.31918334960938, 6.788949966430664, 7.780018329620361, 41.18488311767578, 8.609458923339844, 74.5378189086914, 11.780285835266113, 8.785944938659668, 8.780771255493164, 6.788018703460693, 80.6399917602539, 60.22209930419922, 231.7659454345703, 241.1870574951172, 84.66952514648438, 107.66250610351562, 30.14084815979004, 178.18014526367188, 277.5350341796875, 193.705810546875, 11.765772819519043, 21.26983642578125, 58.97683334350586, 375.3739318847656, 48.859249114990234, 230.31045532226562, 54.764793395996094, 620.0096435546875, 67.59996032714844, 118.8180923461914, 245.87733459472656, 116.77251434326172, 47.20417785644531, 49.50944900512695, 1734.802734375, 340.8544006347656, 139.5886993408203, 1437.5126953125, 1332.422119140625, 615.1311645507812, 1357.58837890625, 1143.7781982421875, 498.05523681640625, 1313.9505615234375, 396.6318359375, 642.7501220703125, 1053.203125, 905.475830078125, 926.7860717773438, 834.2070922851562, 938.3947143554688, 541.0106811523438, 1315.4696044921875, 692.390380859375, 493.9903259277344, 637.5419921875, 597.521484375, 772.8067016601562, 1523.3265380859375, 32.4688606262207, 60.39765548706055, 17.61996841430664, 27.51584243774414, 7.720512390136719, 13.649772644042969, 5.739059925079346, 11.501941680908203, 10.681131362915039, 20.57366371154785, 7.6953935623168945, 29.453155517578125, 5.7417988777160645, 7.455583095550537, 27.509647369384766, 99.37320709228516, 55.64752197265625, 356.5862731933594, 5.738580703735352, 5.7355852127075195, 137.0731658935547, 5.470193386077881, 6.7204108238220215, 6.4563727378845215, 6.551114559173584, 10.417852401733398, 85.48069763183594, 9.417770385742188, 8.68977165222168, 17.64005470275879, 28.07910919189453, 24.529491424560547, 19.53390121459961, 604.1441040039062, 100.88597106933594, 27.998722076416016, 41.28639221191406, 17.38201141357422, 21.551227569580078, 173.3481903076172, 127.761474609375, 62.163780212402344, 150.72361755371094, 376.2823181152344, 935.5286865234375, 96.14208221435547, 72.07649993896484, 204.60548400878906, 597.521484375, 96.28195190429688, 620.6837768554688, 624.7233276367188, 890.8202514648438, 1332.422119140625, 1523.3265380859375, 1313.9505615234375, 926.7860717773438, 834.2070922851562, 1734.802734375, 642.7501220703125, 1143.7781982421875, 1437.5126953125, 495.0245666503906, 1357.58837890625, 617.7299194335938, 537.0068359375, 751.1685180664062, 772.8067016601562, 1315.4696044921875, 1053.203125, 928.2958984375, 938.3947143554688, 45.33248519897461, 14.95341682434082, 32.030677795410156, 50.965579986572266, 7.856342315673828, 19.93073272705078, 10.612112045288086, 10.609003067016602, 12.042073249816895, 27.233774185180664, 8.590688705444336, 15.758368492126465, 15.380779266357422, 63.40251922607422, 40.55150604248047, 8.930465698242188, 17.311264038085938, 9.93259334564209, 151.08905029296875, 10.401551246643066, 17.511825561523438, 38.228599548339844, 7.7916693687438965, 25.15957260131836, 6.8021063804626465, 13.425684928894043, 228.85438537597656, 7.780932426452637, 13.549101829528809, 22.529516220092773, 245.1942901611328, 376.2823181152344, 326.1017761230469, 403.0928039550781, 466.93756103515625, 904.7649536132812, 411.94659423828125, 1523.3265380859375, 102.86392211914062, 935.5286865234375, 283.4085388183594, 797.3397216796875, 563.1842041015625, 595.0658569335938, 619.8538818359375, 1437.5126953125, 1313.9505615234375, 383.46807861328125, 129.86817932128906, 834.2070922851562, 926.7860717773438, 832.6817626953125, 624.7233276367188, 665.3758544921875, 1734.802734375, 597.521484375, 1332.422119140625, 1357.58837890625, 1315.4696044921875, 408.4831237792969, 928.2958984375, 15.12607192993164, 9.478607177734375, 8.46077823638916, 98.20882415771484, 84.58492279052734, 9.305811882019043, 54.76472854614258, 558.6095581054688, 171.02561950683594, 74.61334228515625, 5.690292835235596, 6.913010120391846, 26.811967849731445, 12.292471885681152, 23.40317726135254, 8.309778213500977, 9.041574478149414, 39.9269905090332, 16.71900177001953, 34.8736572265625, 12.466843605041504, 466.93756103515625, 411.94659423828125, 6.063830852508545, 7.806762218475342, 904.7649536132812, 52.30902099609375, 63.12202835083008, 6.666006565093994, 28.935178756713867, 403.0928039550781, 129.86817932128906, 326.1017761230469, 115.5937271118164, 245.1942901611328, 88.26799774169922, 228.85438537597656, 283.4085388183594, 523.978271484375, 797.3397216796875, 71.91194915771484, 394.52056884765625, 1523.3265380859375, 1357.58837890625, 1734.802734375, 832.6817626953125, 151.08905029296875, 366.783447265625, 434.98223876953125, 376.2823181152344, 1143.7781982421875, 1315.4696044921875, 928.2958984375, 1437.5126953125, 1332.422119140625, 1313.9505615234375, 935.5286865234375, 595.0658569335938, 5.8871307373046875, 5.782891273498535, 9.633532524108887, 5.194675445556641, 5.242042064666748, 8.831128120422363, 5.2709126472473145, 5.241711139678955, 6.197141170501709, 5.269435882568359, 6.199921607971191, 6.196707248687744, 5.9660468101501465, 6.20957612991333, 6.215747833251953, 139.5886993408203, 5.3191962242126465, 5.315024375915527, 6.250721454620361, 6.225635051727295, 9.926260948181152, 6.232837677001953, 8.093457221984863, 9.024968147277832, 7.2067131996154785, 15.58326244354248, 7.186469078063965, 10.885064125061035, 9.106300354003906, 7.200325012207031, 27.439821243286133, 14.661809921264648, 85.48069763183594, 46.85100173950195, 96.28195190429688, 27.998722076416016, 20.06580924987793, 11.866622924804688, 28.07910919189453, 113.22649383544922, 19.53390121459961, 25.28767967224121, 14.744119644165039, 128.51756286621094, 495.0245666503906, 28.974992752075195, 186.28672790527344, 21.5567626953125, 70.74122619628906, 58.111167907714844, 1332.422119140625, 99.29936218261719, 264.1441955566406, 695.2650146484375, 179.91195678710938, 244.04983520507812, 376.4516906738281, 356.5862731933594, 1357.58837890625, 1313.9505615234375, 615.1311645507812, 642.7501220703125, 1734.802734375, 772.8067016601562, 890.8202514648438, 637.5419921875, 478.87579345703125, 461.87744140625, 905.475830078125, 1143.7781982421875, 1523.3265380859375, 938.3947143554688, 1437.5126953125, 1315.4696044921875, 1053.203125, 834.2070922851562, 926.7860717773438, 13.011617660522461, 5.703964710235596, 5.9832048416137695, 5.329876899719238, 5.9499359130859375, 6.14754581451416, 6.1997761726379395, 7.986433982849121, 6.183349609375, 6.867048263549805, 7.734995365142822, 11.681675910949707, 38.265167236328125, 4.676112651824951, 9.108308792114258, 9.089101791381836, 13.56747817993164, 4.945895195007324, 5.001251220703125, 8.696065902709961, 8.195323944091797, 8.954168319702148, 5.23275089263916, 5.244405269622803, 10.127678871154785, 5.370668411254883, 5.407266139984131, 5.434974193572998, 5.447094440460205, 5.461185932159424, 9.035189628601074, 16.50300407409668, 115.5937271118164, 21.716453552246094, 10.755987167358398, 11.820605278015137, 10.221124649047852, 12.049246788024902, 12.11910343170166, 12.099739074707031, 24.278928756713867, 91.92053985595703, 403.0928039550781, 43.23210906982422, 356.5862731933594, 1523.3265380859375, 935.5286865234375, 133.65296936035156, 105.60867309570312, 49.68028259277344, 620.0096435546875, 49.32497024536133, 1143.7781982421875, 571.16845703125, 574.8447875976562, 340.8544006347656, 434.98223876953125, 665.3477783203125, 797.3397216796875, 132.14053344726562, 175.31944274902344, 106.41404724121094, 1357.58837890625, 1313.9505615234375, 615.1311645507812, 536.1296997070312, 563.1842041015625, 1332.422119140625, 642.7501220703125, 545.8861083984375, 1053.203125, 417.8778076171875, 1437.5126953125, 1734.802734375, 462.4501037597656, 597.521484375, 5.985953330993652, 17.311264038085938, 5.266685485839844, 6.969624996185303, 6.050666332244873, 7.162382125854492, 7.1798200607299805, 9.961526870727539, 9.951589584350586, 15.758368492126465, 17.445560455322266, 11.882195472717285, 8.729270935058594, 5.158163547515869, 6.374362468719482, 10.030896186828613, 5.25624942779541, 5.336396217346191, 5.370668411254883, 5.431880950927734, 5.443075656890869, 5.47662353515625, 5.4707865715026855, 5.4680867195129395, 5.400756359100342, 5.480382919311523, 5.466724872589111, 5.603550910949707, 5.510239601135254, 5.690292835235596, 9.237895011901855, 8.281076431274414, 22.43790054321289, 151.08905029296875, 11.129131317138672, 46.49686813354492, 12.20041275024414, 84.58492279052734, 228.85438537597656, 37.48373794555664, 23.40317726135254, 21.418201446533203, 47.70442581176758, 376.2823181152344, 64.8873519897461, 245.1942901611328, 904.7649536132812, 1523.3265380859375, 22.65706443786621, 50.965579986572266, 129.86817932128906, 99.18692779541016, 397.0349426269531, 283.4085388183594, 558.6095581054688, 323.11212158203125, 935.5286865234375, 797.3397216796875, 1053.203125, 434.98223876953125, 68.19083404541016, 326.1017761230469, 193.79055786132812, 466.93756103515625, 926.7860717773438, 1357.58837890625, 383.46807861328125, 695.2650146484375, 1315.4696044921875, 1734.802734375, 597.521484375, 832.6817626953125, 1437.5126953125, 834.2070922851562, 1143.7781982421875, 1313.9505615234375, 17.576923370361328, 7.09873628616333, 5.974571704864502, 13.566611289978027, 8.065849304199219, 5.871224880218506, 6.29679012298584, 6.336761951446533, 6.062424182891846, 8.16201114654541, 6.4413957595825195, 6.316742897033691, 9.092656135559082, 26.669124603271484, 6.687534332275391, 5.399081230163574, 14.80172061920166, 7.272403717041016, 14.46426010131836, 9.21628475189209, 8.324614524841309, 5.287498950958252, 6.467279434204102, 9.289986610412598, 9.165236473083496, 5.4669952392578125, 8.928351402282715, 5.324306488037109, 9.341639518737793, 5.501998424530029, 9.336109161376953, 107.66250610351562, 15.059446334838867, 10.252894401550293, 36.97083282470703, 62.19142150878906, 178.7112579345703, 84.66952514648438, 43.29314422607422, 46.6021842956543, 104.6907730102539, 34.63036346435547, 108.63644409179688, 231.7659454345703, 48.62083053588867, 1437.5126953125, 397.4371643066406, 43.90386199951172, 162.16534423828125, 35.58824157714844, 17.93059730529785, 620.0096435546875, 86.60076141357422, 772.8067016601562, 241.1870574951172, 537.0068359375, 620.6837768554688, 1315.4696044921875, 1332.422119140625, 834.2070922851562, 478.87579345703125, 1734.802734375, 228.94631958007812, 589.7697143554688, 1143.7781982421875, 617.9031372070312, 563.1842041015625, 692.390380859375, 938.3947143554688, 1313.9505615234375, 4.705978870391846, 4.676112651824951, 5.122941493988037, 98.09405517578125, 24.669158935546875, 4.945895195007324, 6.035983562469482, 6.687534332275391, 5.227980136871338, 6.161832809448242, 6.151679039001465, 6.194179534912109, 6.336874961853027, 7.062345504760742, 5.7679619789123535, 9.650266647338867, 7.145237922668457, 6.3052778244018555, 7.150774955749512, 8.117884635925293, 20.206602096557617, 5.180351734161377, 8.776006698608398, 7.146394729614258, 5.158163547515869, 5.252535820007324, 8.212182998657227, 5.281938076019287, 12.706414222717285, 5.225980281829834, 9.149788856506348, 9.814690589904785, 74.67029571533203, 14.409055709838867, 11.060698509216309, 19.617910385131836, 133.65296936035156, 36.828887939453125, 397.4371643066406, 20.374839782714844, 44.27216339111328, 41.769893646240234, 62.4149169921875, 90.17235565185547, 323.11212158203125, 71.60813903808594, 193.705810546875, 127.32154846191406, 204.81163024902344, 183.55593872070312, 620.0096435546875, 271.44952392578125, 280.14141845703125, 139.28956604003906, 74.5378189086914, 98.4951400756836, 285.4593200683594, 541.0106811523438, 1143.7781982421875, 35.96510696411133, 751.1685180664062, 98.3388671875, 571.16845703125, 283.35174560546875, 926.7860717773438, 1437.5126953125, 577.8358154296875, 905.475830078125, 1734.802734375, 461.87744140625, 597.521484375, 935.5286865234375, 1313.9505615234375, 5.174237251281738, 6.122828483581543, 6.1582841873168945, 6.199963092803955, 7.830578327178955, 11.850409507751465, 8.115232467651367, 5.202985763549805, 10.082903861999512, 10.141661643981934, 5.2315497398376465, 5.2664899826049805, 5.263212203979492, 5.268855094909668, 5.378438949584961, 5.437063217163086, 5.432275772094727, 5.435213088989258, 5.405703067779541, 5.448760986328125, 5.4702229499816895, 5.483077526092529, 5.438455104827881, 5.441353797912598, 5.424760341644287, 5.461549282073975, 5.46273946762085, 5.443265438079834, 5.5617475509643555, 5.499321937561035, 10.86565113067627, 11.127756118774414, 11.254566192626953, 11.930207252502441, 12.089502334594727, 47.75703811645508, 13.991268157958984, 13.266485214233398, 14.338112831115723, 70.86577606201172, 231.7659454345703, 14.750956535339355, 15.424370765686035, 397.4371643066406, 59.390377044677734, 18.040620803833008, 17.995548248291016, 45.41322326660156, 20.688875198364258, 275.35418701171875, 620.0096435546875, 1053.203125, 162.16534423828125, 48.53664016723633, 1357.58837890625, 1332.422119140625, 113.22649383544922, 120.66087341308594, 772.8067016601562, 1734.802734375, 1315.4696044921875, 192.7569122314453, 664.3004150390625, 294.12554931640625, 249.70016479492188, 690.953857421875, 265.49981689453125, 62.43021774291992, 665.3758544921875, 83.2459945678711, 637.5419921875, 938.3947143554688, 94.93817138671875, 493.9903259277344, 890.8202514648438, 589.7697143554688, 1313.9505615234375, 692.390380859375, 5.1262736320495605, 5.940152168273926, 6.124575614929199, 7.183414459228516, 8.992650032043457, 5.001251220703125, 5.425417900085449, 10.067856788635254, 5.296260356903076, 5.2992730140686035, 5.39628791809082, 5.432821273803711, 5.4473090171813965, 5.437218189239502, 5.421225547790527, 5.441402435302734, 5.418216705322266, 5.432122707366943, 5.426883697509766, 5.429656028747559, 5.433401584625244, 5.464753150939941, 5.459752559661865, 5.4758782386779785, 5.43766975402832, 5.435710906982422, 5.4982147216796875, 5.651525974273682, 11.020064353942871, 11.08575439453125, 36.67845916748047, 12.068222045898438, 78.05807495117188, 36.2020149230957, 39.148956298828125, 277.5350341796875, 14.999011039733887, 178.7112579345703, 94.93817138671875, 81.68535614013672, 33.88096237182617, 17.87778091430664, 36.97083282470703, 62.47468566894531, 19.101757049560547, 48.40195083618164, 478.87579345703125, 384.4081726074219, 52.475433349609375, 107.22029876708984, 589.7697143554688, 63.857704162597656, 434.98223876953125, 137.07630920410156, 1332.422119140625, 375.3739318847656, 444.0763854980469, 456.1950988769531, 194.74356079101562, 1437.5126953125, 577.8358154296875, 695.2650146484375, 637.5419921875, 665.3477783203125, 261.9723205566406, 227.00978088378906, 263.66351318359375, 1357.58837890625, 340.8544006347656, 1053.203125, 1315.4696044921875, 495.0245666503906, 938.3947143554688, 545.8861083984375, 493.9903259277344, 772.8067016601562, 397.0349426269531, 14.997286796569824, 23.469120025634766, 5.859117031097412, 5.811444282531738, 57.07297897338867, 5.094823837280273, 5.256534099578857, 5.270510673522949, 5.26761531829834, 5.978367328643799, 5.979299545288086, 5.986928462982178, 6.057909965515137, 6.253968238830566, 9.010968208312988, 6.9496049880981445, 8.168264389038086, 7.072425842285156, 7.2164506912231445, 7.230282783508301, 7.232365131378174, 7.24160623550415, 7.243420124053955, 7.275360107421875, 7.963111877441406, 8.184812545776367, 8.214021682739258, 8.216989517211914, 8.227372169494629, 8.25427532196045, 53.118160247802734, 72.07649993896484, 14.98887825012207, 11.86337661743164, 55.39973449707031, 179.43055725097656, 27.516071319580078, 1523.3265380859375, 70.98712921142578, 32.31821060180664, 58.42526626586914, 97.06437683105469, 35.778682708740234, 57.42237091064453, 17.003820419311523, 152.25941467285156, 61.46292495727539, 48.55466079711914, 507.7481689453125, 307.462158203125, 97.9881591796875, 72.571044921875, 1053.203125, 1357.58837890625, 46.85100173950195, 163.1240692138672, 318.97052001953125, 245.87733459472656, 433.32855224609375, 167.5686798095703, 832.6817626953125, 938.3947143554688, 1143.7781982421875, 665.3477783203125, 692.390380859375, 695.2650146484375, 495.0245666503906, 486.9534912109375, 1332.422119140625, 4.676112651824951, 4.705978870391846, 4.945895195007324, 5.001251220703125, 5.158163547515869, 5.194675445556641, 5.459708213806152, 5.122941493988037, 5.094823837280273, 5.1262736320495605, 5.180351734161377, 5.23275089263916, 5.202985763549805, 5.2315497398376465, 5.174237251281738, 5.263212203979492, 5.739714622497559, 5.287498950958252, 5.227980136871338, 5.296260356903076, 5.244405269622803, 5.706906318664551, 5.25624942779541, 5.26761531829834, 5.315024375915527, 5.2664899826049805, 5.225980281829834, 5.269435882568359, 5.268855094909668, 5.2709126472473145, 5.746659278869629, 5.84458589553833, 5.405268669128418, 5.7018656730651855, 8.930465698242188, 5.576707363128662, 5.72829532623291, 5.705563545227051, 8.985286712646484, 6.458858966827393, 1523.3265380859375, 6.469680309295654, 7.874856948852539, 6.391671657562256, 1313.9505615234375, 1734.802734375, 1357.58837890625, 1437.5126953125, 1315.4696044921875, 1143.7781982421875, 7.167333126068115, 664.3004150390625, 890.8202514648438, 634.08056640625, 938.3947143554688, 1332.422119140625, 1053.203125, 834.2070922851562, 545.8861083984375, 690.953857421875, 624.7233276367188, 498.05523681640625, 589.7697143554688, 905.475830078125, 558.6095581054688, 665.3758544921875, 678.5043334960938, 434.98223876953125, 539.2647094726562, 597.521484375, 928.2958984375, 413.1990051269531, 577.8358154296875, 537.0068359375, 926.7860717773438, 935.5286865234375, 695.2650146484375], \"loglift\": [30.0, 29.0, 28.0, 27.0, 26.0, 25.0, 24.0, 23.0, 22.0, 21.0, 20.0, 19.0, 18.0, 17.0, 16.0, 15.0, 14.0, 13.0, 12.0, 11.0, 10.0, 9.0, 8.0, 7.0, 6.0, 5.0, 4.0, 3.0, 2.0, 1.0, 1.0499999523162842, 1.049399971961975, 1.049299955368042, 1.0485999584197998, 1.0475000143051147, 1.0467000007629395, 1.044800043106079, 1.0443999767303467, 1.044100046157837, 1.0433000326156616, 1.041700005531311, 1.041599988937378, 1.0406999588012695, 1.0405999422073364, 1.0390000343322754, 1.0382000207901, 1.0369999408721924, 1.0368000268936157, 1.034999966621399, 1.0342999696731567, 1.0336999893188477, 1.0335999727249146, 1.0328999757766724, 1.0326999425888062, 1.0324000120162964, 1.0291999578475952, 1.0283000469207764, 1.0282000303268433, 1.027999997138977, 1.0270999670028687, 1.0264999866485596, 1.020400047302246, 1.0166000127792358, 0.9598000049591064, 0.9987000226974487, 0.9757999777793884, 0.8743000030517578, 0.8655999898910522, 0.7853999733924866, 0.5975000262260437, 0.5996999740600586, 0.7003999948501587, 0.4345000088214874, 0.5285000205039978, 0.30219998955726624, 0.5916000008583069, 0.20630000531673431, 0.2433999925851822, 0.18359999358654022, 0.5795000195503235, 0.16599999368190765, 0.2863999903202057, 0.31540000438690186, 0.4925999939441681, 0.38499999046325684, 0.3465000092983246, 0.24400000274181366, 0.15469999611377716, -0.22310000658035278, 0.03220000118017197, 0.0731000006198883, 0.1898999959230423, 0.23309999704360962, -0.1889999955892563, -0.07460000365972519, -0.03620000183582306, 1.2275999784469604, 1.2237999439239502, 1.223099946975708, 1.211400032043457, 1.210800051689148, 1.2063000202178955, 1.2002999782562256, 1.198799967765808, 1.1984000205993652, 1.1956000328063965, 1.1924999952316284, 1.1893999576568604, 1.1886999607086182, 1.1871999502182007, 1.1857000589370728, 1.1850999593734741, 1.1847000122070312, 1.1837999820709229, 1.1812000274658203, 1.179800033569336, 1.1794999837875366, 1.177899956703186, 1.1775000095367432, 1.1761000156402588, 1.1757999658584595, 1.1735999584197998, 1.1721999645233154, 1.1719000339508057, 1.1714999675750732, 1.170300006866455, 1.1682000160217285, 1.1574000120162964, 1.1641000509262085, 1.1576999425888062, 1.1162999868392944, 1.1655000448226929, 1.1109000444412231, 1.1538000106811523, 1.1294000148773193, 1.0841000080108643, 1.156599998474121, 1.0742000341415405, 1.0516999959945679, 0.9663000106811523, 1.0959999561309814, 0.9125999808311462, 0.9488999843597412, 1.031000018119812, 0.9562000036239624, 0.9348000288009644, 1.047700047492981, 1.1200000047683716, 0.9995999932289124, 0.8919000029563904, 1.097000002861023, 1.0317000150680542, 0.6758999824523926, 0.8992000222206116, 0.7354999780654907, 0.8327000141143799, 0.8895000219345093, 0.9057000279426575, 0.5774000287055969, 0.7878999710083008, 0.3952000141143799, 0.6854000091552734, 0.8241999745368958, 0.8873000144958496, 0.7319999933242798, 0.4977000057697296, 0.7813000082969666, 0.6172999739646912, 0.46700000762939453, 0.49140000343322754, 0.1242000013589859, 0.2727999985218048, 0.6958000063896179, 0.3513999879360199, 0.10329999774694443, 0.29670000076293945, 0.33059999346733093, 0.1543000042438507, 0.4323999881744385, 0.19519999623298645, -0.09189999848604202, 0.006300000008195639, 0.28349998593330383, 0.08009999990463257, 0.08150000125169754, 0.43050000071525574, 0.12710000574588776, -0.017999999225139618, 0.26910001039505005, -0.4381999969482422, 0.13369999825954437, -0.5939000248908997, 0.24469999969005585, 1.8638999462127686, 1.8274999856948853, 1.8238999843597412, 1.8212000131607056, 1.8179999589920044, 1.8087999820709229, 1.7989000082015991, 1.794600009918213, 1.7922999858856201, 1.7872999906539917, 1.784000039100647, 1.7836999893188477, 1.7828999757766724, 1.7807999849319458, 1.7805999517440796, 1.779099941253662, 1.7750999927520752, 1.7736999988555908, 1.7735999822616577, 1.7556999921798706, 1.7454999685287476, 1.73580002784729, 1.7325999736785889, 1.7309999465942383, 1.7263000011444092, 1.7228000164031982, 1.7218999862670898, 1.7204999923706055, 1.7120000123977661, 1.7059999704360962, 1.6811000108718872, 1.6728999614715576, 1.6134999990463257, 1.6097999811172485, 1.61899995803833, 1.5507999658584595, 1.638700008392334, 1.4728000164031982, 1.2752000093460083, 1.3021999597549438, 1.687600016593933, 1.597599983215332, 1.4365999698638916, 1.0729000568389893, 1.3911999464035034, 1.0642000436782837, 1.3658000230789185, 0.8499000072479248, 1.3070000410079956, 1.1704000234603882, 0.9606999754905701, 1.1299999952316284, 1.374899983406067, 1.3595000505447388, 0.19609999656677246, 0.7017999887466431, 1.0068999528884888, 0.15320000052452087, 0.15530000627040863, 0.4438999891281128, 0.0957999974489212, 0.15070000290870667, 0.4896000027656555, 0.03669999912381172, 0.567300021648407, 0.3224000036716461, 0.06530000269412994, 0.12349999696016312, 0.08100000023841858, 0.017999999225139618, -0.07419999688863754, 0.3156000077724457, -0.3522000014781952, 0.10279999673366547, 0.34929999709129333, 0.13899999856948853, 0.18019999563694, -0.0568000003695488, -0.7688000202178955, 2.462399959564209, 2.438800096511841, 2.4149999618530273, 2.3977999687194824, 2.3954999446868896, 2.3796000480651855, 2.359299898147583, 2.3492000102996826, 2.320199966430664, 2.3197999000549316, 2.314500093460083, 2.3141000270843506, 2.294800043106079, 2.2820000648498535, 2.275700092315674, 2.268899917602539, 2.265500068664551, 2.2388999462127686, 2.2251999378204346, 2.2091000080108643, 2.208199977874756, 2.1947999000549316, 2.194200038909912, 2.190200090408325, 2.1800999641418457, 2.1535000801086426, 2.149199962615967, 2.147700071334839, 2.1273999214172363, 2.1268999576568604, 2.126499891281128, 2.1247000694274902, 2.1066999435424805, 1.8589999675750732, 1.982300043106079, 2.0559000968933105, 1.9808000326156616, 2.048799991607666, 2.002500057220459, 1.5621999502182007, 1.5444999933242798, 1.7280999422073364, 1.4839999675750732, 1.2325999736785889, 0.9544000029563904, 1.5867999792099, 1.666200041770935, 1.2573000192642212, 0.8689000010490417, 1.51010000705719, 0.6626999974250793, 0.6510999798774719, 0.4417000114917755, 0.21930000185966492, 0.09799999743700027, 0.11500000208616257, 0.2770000100135803, 0.3124000132083893, -0.10899999737739563, 0.44040000438690186, 0.11110000312328339, -0.06989999860525131, 0.582099974155426, -0.05790000036358833, 0.3869999945163727, 0.48350000381469727, 0.2303999960422516, 0.20000000298023224, -0.2694999873638153, -0.19869999587535858, -0.08240000158548355, -0.11680000275373459, 3.066699981689453, 3.0634000301361084, 3.0288000106811523, 3.02239990234375, 3.0118000507354736, 2.988800048828125, 2.9583001136779785, 2.8938000202178955, 2.8933000564575195, 2.8778998851776123, 2.8726000785827637, 2.8424999713897705, 2.83270001411438, 2.8243000507354736, 2.77839994430542, 2.7486000061035156, 2.7307000160217285, 2.725800037384033, 2.7165000438690186, 2.6763999462127686, 2.6201000213623047, 2.6185998916625977, 2.598099946975708, 2.596299886703491, 2.588900089263916, 2.5560998916625977, 2.5292000770568848, 2.5078999996185303, 2.4981000423431396, 2.4774999618530273, 2.3887999057769775, 2.3617000579833984, 2.2899999618530273, 2.25600004196167, 2.189199924468994, 1.9047000408172607, 1.9807000160217285, 1.4424999952316284, 2.135699987411499, 1.5571000576019287, 1.8662999868392944, 1.5130000114440918, 1.4048999547958374, 1.246899962425232, 1.2138999700546265, 0.7968000173568726, 0.8062999844551086, 1.2582999467849731, 1.7769999504089355, 0.779699981212616, 0.6916999816894531, 0.7301999926567078, 0.8651999831199646, 0.808899998664856, 0.1729000061750412, 0.8564000129699707, 0.24770000576972961, 0.1527000069618225, 0.1704999953508377, 1.11080002784729, 0.32429999113082886, 2.91129994392395, 2.905900001525879, 2.8564999103546143, 2.8366000652313232, 2.771199941635132, 2.7676000595092773, 2.7441999912261963, 2.732599973678589, 2.6960999965667725, 2.6654999256134033, 2.598400115966797, 2.577899932861328, 2.5759999752044678, 2.5604000091552734, 2.541300058364868, 2.5387001037597656, 2.5283000469207764, 2.5092999935150146, 2.50600004196167, 2.503499984741211, 2.4923999309539795, 2.4883999824523926, 2.485599994659424, 2.4809999465942383, 2.4737000465393066, 2.4583001136779785, 2.451200008392334, 2.4391000270843506, 2.433799982070923, 2.426300048828125, 2.3280999660491943, 2.3427000045776367, 2.2706000804901123, 2.2690999507904053, 2.0336999893188477, 2.1672000885009766, 2.0118000507354736, 1.688599944114685, 1.4142999649047852, 1.0508999824523926, 1.9499000310897827, 1.2476999759674072, 0.4903999865055084, 0.5238999724388123, 0.40220001339912415, 0.758400022983551, 1.5712000131607056, 1.0367000102996826, 0.8920999765396118, 0.9837999939918518, 0.19359999895095825, 0.08349999785423279, 0.32739999890327454, 0.0003000000142492354, 0.04360000044107437, -0.06909999996423721, 0.2070000022649765, 0.6079000234603882, 3.398200035095215, 3.354099988937378, 3.3071999549865723, 3.236299991607666, 3.1902999877929688, 3.1835999488830566, 3.1312999725341797, 3.1254000663757324, 3.0571999549865723, 3.0518999099731445, 3.0495998859405518, 3.0446999073028564, 3.0425000190734863, 3.0095999240875244, 3.0088999271392822, 2.990799903869629, 2.988100051879883, 2.984100103378296, 2.970599889755249, 2.9598000049591064, 2.9535000324249268, 2.953200101852417, 2.937299966812134, 2.9351000785827637, 2.9182000160217285, 2.909899950027466, 2.889699935913086, 2.870800018310547, 2.8615000247955322, 2.8610000610351562, 2.7760000228881836, 2.773900032043457, 2.4591000080108643, 2.5569000244140625, 2.306299924850464, 2.587399959564209, 2.6689999103546143, 2.793100118637085, 2.4911999702453613, 1.9888999462127686, 2.5578999519348145, 2.449899911880493, 2.665299892425537, 1.7259999513626099, 1.11080002784729, 2.3619000911712646, 1.5088000297546387, 2.4646999835968018, 1.8624999523162842, 1.937600016593933, 0.2590999901294708, 1.6270999908447266, 1.0881999731063843, 0.5091999769210815, 1.2615000009536743, 1.0740000009536743, 0.791700005531311, 0.8026999831199646, -0.08340000361204147, -0.06419999897480011, 0.4065000116825104, 0.34439998865127563, -0.3287999927997589, 0.17739999294281006, 0.038600001484155655, 0.27070000767707825, 0.4618000090122223, 0.4587000012397766, -0.03420000150799751, -0.22290000319480896, -0.4871000051498413, -0.13760000467300415, -0.5231000185012817, -0.462799996137619, -0.289000004529953, -0.1080000028014183, -0.23010000586509705, 4.3308000564575195, 3.9964001178741455, 3.8236000537872314, 3.674799919128418, 3.5676000118255615, 3.5318000316619873, 3.522599935531616, 3.5185000896453857, 3.467400074005127, 3.4086999893188477, 3.294100046157837, 3.2885000705718994, 3.1735999584198, 3.146199941635132, 3.1424999237060547, 3.1379001140594482, 3.131700038909912, 3.1284000873565674, 3.0797998905181885, 3.066800117492676, 3.059799909591675, 3.045300006866455, 3.039400100708008, 3.035799980163574, 3.0332000255584717, 3.00819993019104, 3.0027999877929688, 3.0016000270843506, 2.995500087738037, 2.993000030517578, 2.97760009765625, 2.936500072479248, 2.6796000003814697, 2.846400022506714, 2.9138998985290527, 2.878999948501587, 2.8989999294281006, 2.855600118637085, 2.852099895477295, 2.8440001010894775, 2.5541000366210938, 1.9764000177383423, 1.3127000331878662, 2.2553000450134277, 1.2371000051498413, 0.5307999849319458, 0.7621999979019165, 1.6984000205993652, 1.777899980545044, 2.153700113296509, 0.7491999864578247, 2.128499984741211, 0.19789999723434448, 0.6197999715805054, 0.5927000045776367, 0.9101999998092651, 0.7287999987602234, 0.4311999976634979, 0.2912999987602234, 1.482699990272522, 1.2913999557495117, 1.6274000406265259, -0.15299999713897705, -0.15809999406337738, 0.36959999799728394, 0.4652999937534332, 0.4171999990940094, -0.21250000596046448, 0.31189998984336853, 0.41530001163482666, -0.13420000672340393, 0.5598999857902527, -0.4562000036239624, -0.6179999709129333, 0.4528000056743622, 0.20479999482631683, 3.6331000328063965, 3.6136999130249023, 3.5732998847961426, 3.4767000675201416, 3.470400094985962, 3.4526000022888184, 3.451200008392334, 3.4274001121520996, 3.400099992752075, 3.3887999057769775, 3.287600040435791, 3.1447999477386475, 3.1340999603271484, 3.118499994277954, 3.112600088119507, 3.103300094604492, 3.1008999347686768, 3.085700035095215, 3.0662999153137207, 3.064500093460083, 3.063699960708618, 3.0613999366760254, 3.0599000453948975, 3.0597000122070312, 3.0590999126434326, 3.049999952316284, 3.047100067138672, 3.0457000732421875, 3.0343000888824463, 3.0220000743865967, 2.9988999366760254, 2.9916999340057373, 2.8708999156951904, 2.6224000453948975, 2.9453001022338867, 2.7063000202178955, 2.9172000885009766, 2.553299903869629, 2.2546000480651855, 2.6498000621795654, 2.7444000244140625, 2.7472000122070312, 2.537400007247925, 1.9399000406265259, 2.402899980545044, 2.0062999725341797, 1.5895999670028687, 1.201799988746643, 2.679800033569336, 2.3450000286102295, 1.9075000286102295, 2.023200035095215, 1.2510000467300415, 1.4220000505447388, 1.0288000106811523, 1.2476999759674072, 0.6247000098228455, 0.6854000091552734, 0.4925000071525574, 1.0206999778747559, 2.0934998989105225, 1.1083999872207642, 1.4219000339508057, 0.7827000021934509, 0.27970001101493835, -0.13339999318122864, 0.8112000226974487, 0.30309998989105225, -0.24719999730587006, -0.48030000925064087, 0.37139999866485596, 0.06499999761581421, -0.47749999165534973, 0.026599999517202377, -0.2754000127315521, -0.42399999499320984, 4.133800029754639, 3.9962000846862793, 3.9309000968933105, 3.8803000450134277, 3.8691999912261963, 3.784600019454956, 3.7304999828338623, 3.722899913787842, 3.71589994430542, 3.714600086212158, 3.7065999507904053, 3.7000999450683594, 3.691499948501587, 3.684499979019165, 3.6594998836517334, 3.6377999782562256, 3.593600034713745, 3.5822999477386475, 3.504699945449829, 3.4572999477386475, 3.4375, 3.4245998859405518, 3.4010000228881836, 3.396699905395508, 3.3826000690460205, 3.378700017929077, 3.3761000633239746, 3.334199905395508, 3.2964999675750732, 3.2920000553131104, 3.2880001068115234, 3.064300060272217, 3.2269999980926514, 3.238600015640259, 2.863800048828125, 2.671999931335449, 2.3011999130249023, 2.551500082015991, 2.6635000705718994, 2.6212000846862793, 2.2256999015808105, 2.7416999340057373, 2.125, 1.686400055885315, 2.528599977493286, 0.588100016117096, 1.277899980545044, 2.5272998809814453, 1.721500039100647, 2.6442999839782715, 3.0596001148223877, 0.7254999876022339, 2.001499891281128, 0.5023000240325928, 1.279099941253662, 0.7102000117301941, 0.5472999811172485, -0.01889999955892563, -0.044199999421834946, 0.288100004196167, 0.6883000135421753, -0.42969998717308044, 1.2101999521255493, 0.41909998655319214, -0.2029999941587448, 0.26249998807907104, 0.34209999442100525, 0.1460999995470047, -0.14229999482631683, -0.4724999964237213, 4.608699798583984, 4.089799880981445, 4.002999782562256, 3.9323999881744385, 3.930799961090088, 3.8543999195098877, 3.8357999324798584, 3.8115999698638916, 3.8036999702453613, 3.788100004196167, 3.782099962234497, 3.7170000076293945, 3.693000078201294, 3.6821000576019287, 3.6800999641418457, 3.650099992752075, 3.58489990234375, 3.5541000366210938, 3.5439999103546143, 3.5376999378204346, 3.5195999145507812, 3.4983999729156494, 3.3845999240875244, 3.350800037384033, 3.3348000049591064, 3.310699939727783, 3.309999942779541, 3.3090999126434326, 3.3071999549865723, 3.297300100326538, 3.286900043487549, 3.2792000770568848, 3.1760001182556152, 3.250200033187866, 3.2255001068115234, 3.056299924850464, 2.36299991607666, 2.7959001064300537, 1.8912999629974365, 2.9992001056671143, 2.6912999153137207, 2.6809000968933105, 2.4107000827789307, 2.2147998809814453, 1.486299991607666, 2.267699956893921, 1.618899941444397, 1.8705999851226807, 1.5805000066757202, 1.6405999660491943, 0.8532999753952026, 1.3331999778747559, 1.2954000234603882, 1.7338000535964966, 2.1461000442504883, 1.9423999786376953, 1.2116999626159668, 0.7685999870300293, 0.1500999927520752, 2.6180999279022217, 0.385699987411499, 1.8690999746322632, 0.5383999943733215, 1.0506000518798828, 0.10740000009536743, -0.33000001311302185, 0.3917999863624573, -0.010400000028312206, -0.6391000151634216, 0.5428000092506409, 0.3012000024318695, -0.12229999899864197, -0.5166000127792358, 4.175000190734863, 4.007800102233887, 3.999799966812134, 3.990499973297119, 3.7611000537872314, 3.7439000606536865, 3.727099895477295, 3.5109000205993652, 3.5085999965667725, 3.5062999725341797, 3.4997000694274902, 3.4979000091552734, 3.4946000576019287, 3.490799903869629, 3.4793999195098877, 3.4704999923706055, 3.469099998474121, 3.467900037765503, 3.4674999713897705, 3.466099977493286, 3.462100028991699, 3.4600000381469727, 3.459700107574463, 3.4583001136779785, 3.456399917602539, 3.4560000896453857, 3.4539999961853027, 3.4514000415802, 3.4447999000549316, 3.436300039291382, 3.4326000213623047, 3.4138998985290527, 3.38919997215271, 3.3382999897003174, 3.330199956893921, 3.032900094985962, 3.262399911880493, 3.2183001041412354, 3.1547999382019043, 2.6380999088287354, 2.222599983215332, 3.130500078201294, 3.0869998931884766, 1.7617000341415405, 2.4068000316619873, 2.924799919128418, 2.925600051879883, 2.4042999744415283, 2.789599895477295, 1.4292999505996704, 0.9948999881744385, 0.6851000189781189, 1.6369999647140503, 2.3203999996185303, 0.23739999532699585, 0.12890000641345978, 1.752500057220459, 1.701300024986267, 0.4156999886035919, -0.21660000085830688, -0.20319999754428864, 1.249400019645691, 0.27709999680519104, 0.8888999819755554, 1.0103000402450562, 0.20970000326633453, 0.9376000165939331, 2.077199935913086, 0.04470000043511391, 1.8046000003814697, 0.06759999692440033, -0.2797999978065491, 1.6754000186920166, 0.07620000094175339, -0.49619999527931213, -0.0966000035405159, -0.8852999806404114, -0.2639000117778778, 4.193900108337402, 4.046299934387207, 4.0157999992370605, 3.857599973678589, 3.6301000118255615, 3.5611000061035156, 3.5499000549316406, 3.515000104904175, 3.502700090408325, 3.499500036239624, 3.478800058364868, 3.476799964904785, 3.4767000675201416, 3.476099967956543, 3.4758999347686768, 3.475399971008301, 3.4751999378204346, 3.4751999378204346, 3.474299907684326, 3.4732000827789307, 3.4716999530792236, 3.471400022506714, 3.470900058746338, 3.468400001525879, 3.467099905014038, 3.4653000831604004, 3.462599992752075, 3.4370999336242676, 3.427799940109253, 3.4230000972747803, 3.3048999309539795, 3.3385000228881836, 2.707200050354004, 2.9168999195098877, 2.8380000591278076, 2.1703999042510986, 3.122299909591675, 2.1696999073028564, 2.3447000980377197, 2.347100019454956, 2.6989998817443848, 2.9437999725341797, 2.615499973297119, 2.369999885559082, 2.876199960708618, 2.346400022506714, 1.1375000476837158, 1.243299961090088, 2.2616000175476074, 1.8478000164031982, 0.8385000228881836, 2.097100019454956, 0.8535000085830688, 1.59660005569458, -0.08009999990463257, 0.798799991607666, 0.6610000133514404, 0.6279000043869019, 1.250499963760376, -0.2759000062942505, 0.4099999964237213, 0.24799999594688416, 0.3037000000476837, 0.23720000684261322, 0.9878000020980835, 1.091599941253662, 0.9535999894142151, -0.4163999855518341, 0.7095999717712402, -0.36899998784065247, -0.59170001745224, 0.34369999170303345, -0.28349998593330383, 0.2460000067949295, 0.3411000072956085, -0.10499999672174454, 0.551800012588501, 5.93720006942749, 5.537099838256836, 4.627799987792969, 4.38040018081665, 4.241700172424316, 4.150400161743164, 4.118500232696533, 4.1168999671936035, 4.116799831390381, 3.9921998977661133, 3.9911000728607178, 3.989300012588501, 3.977299928665161, 3.946000099182129, 3.9409000873565674, 3.8833999633789062, 3.8580000400543213, 3.8225998878479004, 3.8027000427246094, 3.801100015640259, 3.80049991607666, 3.7992000579833984, 3.798799991607666, 3.7945001125335693, 3.704900026321411, 3.6760001182556152, 3.674999952316284, 3.6728999614715576, 3.672300100326538, 3.668100118637085, 3.2513999938964844, 3.1754000186920166, 3.4377999305725098, 3.528700113296509, 2.9052999019622803, 2.2964000701904297, 3.126699924468994, 1.075600028038025, 2.5820999145507812, 3.0006000995635986, 2.664900064468384, 2.3629000186920166, 2.865600109100342, 2.55430006980896, 3.302799940109253, 1.8516000509262085, 2.4463999271392822, 2.5618999004364014, 0.782800018787384, 1.1480000019073486, 1.9412000179290771, 2.1630001068115234, 0.07069999724626541, -0.24660000205039978, 2.440200090408325, 1.403499960899353, 0.8324999809265137, 1.0442999601364136, 0.5473999977111816, 1.3503999710083008, -0.12729999423027039, -0.2565000057220459, -0.460099995136261, 0.05400000140070915, 0.003599999938160181, -0.002199999988079071, 0.3224000036716461, 0.33489999175071716, -0.6629999876022339, 1.9848999977111816, 1.9664000272750854, 1.9242000579833984, 1.9076000452041626, 1.905400037765503, 1.9035999774932861, 1.895799994468689, 1.8933000564575195, 1.8874000310897827, 1.8837000131607056, 1.87909996509552, 1.878000020980835, 1.8779000043869019, 1.8740999698638916, 1.8712999820709229, 1.8705999851226807, 1.8704999685287476, 1.8686000108718872, 1.8650000095367432, 1.8634999990463257, 1.8632999658584595, 1.8619999885559082, 1.861799955368042, 1.8609999418258667, 1.8598999977111816, 1.8597999811172485, 1.8590999841690063, 1.8588000535964966, 1.8581000566482544, 1.8573999404907227, 1.8451999425888062, 1.8308000564575195, 1.8492000102996826, 1.825600028038025, 1.6247999668121338, 1.8341000080108643, 1.8206000328063965, 1.8223999738693237, 1.5490000247955322, 1.7421000003814697, -1.4967999458312988, 1.7407000064849854, 1.6208000183105469, 1.7481000423431396, -1.590499997138977, -1.8676999807357788, -1.725100040435791, -1.7868000268936157, -1.749500036239624, -1.6785000562667847, 1.6689000129699707, -1.3386000394821167, -1.5419000387191772, -1.3316999673843384, -1.6169999837875366, -1.898800015449524, -1.7853000164031982, -1.6288000345230103, -1.333299994468689, -1.5139000415802002, -1.467900037765503, -1.312600016593933, -1.444000005722046, -1.7503000497817993, -1.4122999906539917, -1.5405999422073364, -1.562000036239624, -1.2437000274658203, -1.402400016784668, -1.49399995803833, -1.816100001335144, -1.2345999479293823, -1.4888999462127686, -1.4356000423431396, -1.847599983215332, -1.878600001335144, -1.6495000123977661], \"logprob\": [30.0, 29.0, 28.0, 27.0, 26.0, 25.0, 24.0, 23.0, 22.0, 21.0, 20.0, 19.0, 18.0, 17.0, 16.0, 15.0, 14.0, 13.0, 12.0, 11.0, 10.0, 9.0, 8.0, 7.0, 6.0, 5.0, 4.0, 3.0, 2.0, 1.0, -5.592800140380859, -5.846099853515625, -5.899899959564209, -6.354700088500977, -6.481400012969971, -6.436999797821045, -7.06820011138916, -5.158899784088135, -7.048299789428711, -7.1458001136779785, -7.318900108337402, -7.332499980926514, -6.900199890136719, -7.375, -7.579400062561035, -7.651800155639648, -5.107900142669678, -7.730599880218506, -6.766600131988525, -6.262599945068359, -6.666600227355957, -7.908999919891357, -7.958499908447266, -5.303100109100342, -7.959000110626221, -8.041299819946289, -8.187399864196777, -7.150599956512451, -7.759900093078613, -6.776599884033203, -6.1168999671936035, -6.213600158691406, -6.896299839019775, -5.336400032043457, -7.043700218200684, -6.7118000984191895, -6.070400238037109, -6.04580020904541, -5.928500175476074, -5.559299945831299, -5.667099952697754, -6.098199844360352, -5.387599945068359, -5.701000213623047, -5.172500133514404, -6.007800102233887, -5.120500087738037, -5.230100154876709, -5.201200008392334, -6.0005998611450195, -5.276000022888184, -5.5605998039245605, -5.6153998374938965, -5.93179988861084, -5.841000080108643, -5.808599948883057, -5.730199813842773, -5.669099807739258, -5.419899940490723, -5.663700103759766, -5.741300106048584, -5.843900203704834, -5.902500152587891, -5.8024001121521, -5.885900020599365, -5.899600028991699, -8.015000343322754, -8.234999656677246, -8.27649974822998, -7.908999919891357, -8.208100318908691, -8.641300201416016, -8.589900016784668, -8.155599594116211, -8.649200439453125, -8.779000282287598, -8.927300453186035, -8.930299758911133, -8.658900260925293, -8.603899955749512, -8.604100227355957, -8.6628999710083, -8.605500221252441, -8.606100082397461, -9.019700050354004, -9.020999908447266, -9.110199928283691, -9.112199783325195, -9.023500442504883, -9.21090030670166, -9.21090030670166, -8.616000175476074, -9.031599998474121, -9.214699745178223, -9.215399742126465, -9.217100143432617, -8.741600036621094, -7.939300060272217, -8.571200370788574, -8.268799781799316, -6.8368000984191895, -8.710399627685547, -7.2052998542785645, -8.34570026397705, -7.790500164031982, -6.717299938201904, -8.527600288391113, -7.251299858093262, -6.942999839782715, -6.264200210571289, -7.804999828338623, -5.757800102233887, -6.252299785614014, -7.132900238037109, -6.6107001304626465, -6.528200149536133, -7.5131001472473145, -8.120499610900879, -7.290599822998047, -6.598899841308594, -7.991600036621094, -7.59119987487793, -5.693600177764893, -6.982399940490723, -6.136300086975098, -6.739500045776367, -7.008699893951416, -7.111700057983398, -5.647299766540527, -6.598299980163574, -5.065499782562256, -6.241099834442139, -6.7683000564575195, -7.030700206756592, -6.488100051879883, -5.700099945068359, -6.6697998046875, -6.164299964904785, -5.76669979095459, -5.959499835968018, -5.0725998878479, -5.53849983215332, -6.551799774169922, -5.759799957275391, -5.5100998878479, -5.877500057220459, -5.95550012588501, -5.709099769592285, -6.208700180053711, -5.9222002029418945, -5.565400123596191, -5.689599990844727, -6.0696001052856445, -5.925300121307373, -5.952300071716309, -6.242000102996826, -6.02810001373291, -5.947000026702881, -6.185100078582764, -5.880199909210205, -6.142099857330322, -5.978700160980225, -6.2083001136779785, -8.323599815368652, -8.5516996383667, -8.549699783325195, -7.680099964141846, -8.15530014038086, -8.793600082397461, -8.940799713134766, -9.103899955749512, -9.106599807739258, -9.111800193786621, -5.4492998123168945, -9.115500450134277, -9.115599632263184, -9.121000289916992, -9.118800163269043, -8.339900016784668, -6.451399803161621, -9.128899574279785, -8.829299926757812, -8.847000122070312, -6.601600170135498, -9.004400253295898, -8.871299743652344, -7.206500053405762, -8.776300430297852, -6.621399879455566, -8.46720027923584, -8.761799812316895, -8.770899772644043, -9.034299850463867, -6.5843000411987305, -6.8846001625061035, -5.59630012512207, -5.560100078582764, -6.597700119018555, -6.4257001876831055, -7.610899925231934, -5.999899864196777, -5.754300117492676, -6.086900234222412, -8.502699851989746, -8.00059986114502, -7.14169979095459, -5.654600143432617, -7.37529993057251, -6.151899814605713, -7.286600112915039, -5.375899791717529, -7.134900093078613, -6.707499980926514, -6.189899921417236, -6.7652997970581055, -7.42609977722168, -7.393799781799316, -5.000699996948242, -6.122200012207031, -6.70989990234375, -5.231599807739258, -5.305500030517578, -5.789700031280518, -5.346199989318848, -5.462699890136719, -5.9552001953125, -5.438000202178955, -6.105199813842773, -5.867400169372559, -5.6305999755859375, -5.723499774932861, -5.742700099945068, -5.910999774932861, -5.885499954223633, -6.046500205993652, -5.825699806213379, -6.012599945068359, -6.103700160980225, -6.058899879455566, -6.082499980926514, -6.06220006942749, -6.095600128173828, -6.712800025939941, -6.115799903869629, -7.371500015258789, -6.94290018081665, -8.216099739074707, -7.662199974060059, -8.54889965057373, -7.863699913024902, -7.966800212860107, -7.311699867248535, -8.300399780273438, -6.958600044250488, -8.612899780273438, -8.364500045776367, -7.065199851989746, -5.787700176239014, -6.370999813079834, -4.539999961853027, -8.683099746704102, -8.699700355529785, -5.526800155639648, -8.761300086975098, -8.556099891662598, -8.600199699401855, -8.595800399780273, -8.158499717712402, -6.058000087738037, -8.265199661254883, -8.365900039672852, -7.6585001945495605, -7.193900108337402, -7.330900192260742, -7.576600074768066, -4.3927001953125, -6.059199810028076, -7.267399787902832, -6.95419979095459, -7.751299858093262, -7.582600116729736, -5.938000202178955, -6.260799884796143, -6.797599792480469, -6.156000137329102, -5.492499828338623, -4.860000133514404, -6.502900123596191, -6.71150016784668, -6.077099800109863, -5.393799781799316, -6.578100204467773, -5.5619001388549805, -5.5671000480651855, -5.4217000007629395, -5.241399765014648, -5.228799819946289, -5.3597002029418945, -5.546800136566162, -5.616600036621094, -5.3059000968933105, -5.749300003051758, -5.502200126647949, -5.454699993133545, -5.868800163269043, -5.5, -5.842400074005127, -5.886000156402588, -5.803500175476074, -5.805500030517578, -5.743100166320801, -5.894599914550781, -5.9045000076293945, -5.928100109100342, -5.774799823760986, -6.887199878692627, -6.159999847412109, -5.702000141143799, -7.582300186157227, -6.674499988555908, -7.33519983291626, -7.400000095367432, -7.273799896240234, -6.473100185394287, -7.632199764251709, -7.055600166320801, -7.089700222015381, -5.681700229644775, -6.174499988555908, -7.717400074005127, -7.073500156402588, -7.633900165557861, -4.92110013961792, -7.637199878692627, -7.172500133514404, -6.3933000564575195, -8.004300117492676, -6.833899974822998, -8.149399757385254, -7.502200126647949, -4.69320011138916, -8.09589958190918, -7.551000118255615, -7.063199996948242, -4.764699935913086, -4.363399982452393, -4.5782999992370605, -4.400300025939941, -4.320099830627441, -3.9430999755859375, -4.653900146484375, -3.884399890899658, -5.88640022277832, -4.257299900054932, -5.142300128936768, -4.46120023727417, -4.916900157928467, -5.019999980926514, -5.0121002197265625, -4.5879998207092285, -4.668399810791016, -5.447999954223633, -6.01200008392334, -5.1493000984191895, -5.1321001052856445, -5.2006001472473145, -5.353000164031982, -5.346199989318848, -5.02400016784668, -5.406199932098389, -5.213099956512451, -5.289400100708008, -5.302999973297119, -5.532199859619141, -5.497799873352051, -7.0278000831604, -7.5005998611450195, -7.66349983215332, -5.231800079345703, -5.446499824523926, -7.657199859619141, -5.908199787139893, -3.597399950027466, -4.817599773406982, -5.677700042724609, -8.318300247192383, -8.144200325012207, -6.790599822998047, -7.586100101470947, -6.961400032043457, -7.999300003051758, -7.9253997802734375, -6.459099769592285, -7.332900047302246, -6.600299835205078, -7.639999866485596, -4.020899772644043, -4.14900016784668, -8.372099876403809, -8.126799583435059, -3.3894999027252197, -6.247099876403809, -6.071300029754639, -8.324700355529785, -6.864200115203857, -4.328199863433838, -5.446300029754639, -4.597700119018555, -5.636300086975098, -5.119800090789795, -6.007999897003174, -5.210599899291992, -5.320000171661377, -4.979700088500977, -4.923299789428711, -6.430099964141846, -5.430099964141846, -4.836400032043457, -4.9182000160217285, -4.794600009918213, -5.172500133514404, -6.066400051116943, -5.714000225067139, -5.6880998611450195, -5.741300106048584, -5.4197001457214355, -5.389999866485596, -5.494699954986572, -5.384500026702881, -5.417200088500977, -5.543799877166748, -5.607399940490723, -5.658999919891357, -7.484499931335449, -7.546500205993652, -7.083099842071533, -7.771599769592285, -7.808499813079834, -7.293600082397461, -7.861999988555908, -7.8734002113342285, -7.774199962615967, -7.9415998458862305, -7.781300067901611, -7.786799907684326, -7.826900005340576, -7.819799900054932, -7.819499969482422, -4.72599983215332, -7.995999813079834, -8.000900268554688, -7.852200031280518, -7.867000102996826, -7.406799793243408, -7.872499942779541, -7.627099990844727, -7.520400047302246, -7.76230001449585, -6.9994001388549805, -7.793499946594238, -7.397299766540527, -7.585000038146973, -7.820400238037109, -6.567500114440918, -7.196300029754639, -5.7480998039245605, -6.2515997886657715, -5.781899929046631, -6.735899925231934, -6.987400054931641, -7.388700008392334, -6.8292999267578125, -5.93720006942749, -7.125400066375732, -6.975299835205078, -7.299300193786621, -6.073500156402588, -5.340099811553955, -6.927199840545654, -5.919400215148926, -7.120100021362305, -6.533999919891357, -6.6554999351501465, -5.201600074768066, -6.430200099945068, -5.990799903869629, -5.6020002365112305, -6.201499938964844, -6.084099769592285, -5.933000087738037, -5.976200103759766, -5.525400161743164, -5.538899898529053, -5.827199935913086, -5.845399856567383, -5.525700092315674, -5.828100204467773, -5.82480001449585, -5.927199840545654, -6.022299766540527, -6.061500072479248, -5.88129997253418, -5.836299896240234, -5.813899993896484, -5.94890022277832, -5.907899856567383, -5.936299800872803, -5.984899997711182, -6.0370001792907715, -6.053899765014648, -5.758900165557861, -6.917900085449219, -7.043000221252441, -7.307400226593018, -7.304500102996826, -7.307700157165527, -7.3084001541137695, -7.059299945831299, -7.366199970245361, -7.320099830627441, -7.315700054168701, -6.908999919891357, -5.837399959564209, -7.966800212860107, -7.303800106048584, -7.310500144958496, -6.916100025177002, -7.928500175476074, -7.966000080108643, -7.42579984664917, -7.492099761962891, -7.418099880218506, -7.961100101470947, -7.962500095367432, -7.307000160217285, -7.966300010681152, -7.964900016784668, -7.960999965667725, -7.964900016784668, -7.964799880981445, -7.4766998291015625, -6.91540002822876, -5.225800037384033, -6.730999946594238, -7.366199970245361, -7.306600093841553, -7.432000160217285, -7.3109002113342285, -7.308599948883057, -7.318299770355225, -6.911799907684326, -6.158100128173828, -5.343599796295166, -6.633600234985352, -5.541800022125244, -4.796000003814697, -5.052199840545654, -6.061800003051758, -6.217800140380859, -6.596099853515625, -5.476600170135498, -6.628499984741211, -5.415500164031982, -5.688000202178955, -5.708700180053711, -5.913899898529053, -5.85129976272583, -5.723999977111816, -5.6828999519348145, -6.288899898529053, -6.197500228881836, -6.3607001304626465, -5.595099925994873, -5.632800102233887, -5.864099979400635, -5.905799865722656, -5.904699802398682, -5.6732001304626465, -5.877799987792969, -5.93779993057251, -5.830100059509277, -6.060400009155273, -5.841000080108643, -5.814899921417236, -6.066199779510498, -6.057799816131592, -7.232900142669678, -6.190400123596191, -7.42080020904541, -7.237199783325195, -7.384900093078613, -7.234099864959717, -7.232999801635742, -6.9293999671936035, -6.957699775695801, -6.509300231933594, -6.508800029754639, -7.035699844360352, -7.354700088500977, -7.896399974822998, -7.6905999183654785, -7.246600151062012, -7.895199775695801, -7.895299911499023, -7.908199787139893, -7.89870023727417, -7.897500038146973, -7.893599987030029, -7.896200180053711, -7.896900177001953, -7.909900188446045, -7.904300212860107, -7.9096999168396, -7.88640022277832, -7.914599895477295, -7.894700050354004, -7.433300018310547, -7.549799919128418, -6.673799991607666, -5.0152997970581055, -7.300600051879883, -6.109799861907959, -7.236800193786621, -5.6645002365112305, -4.967800140380859, -6.381800174713135, -6.758200168609619, -6.844099998474121, -6.2530999183654785, -4.785200119018555, -6.079999923706055, -5.14709997177124, -4.258200168609619, -4.125, -6.855299949645996, -6.379300117492676, -5.881400108337402, -6.035299777984619, -5.420400142669678, -5.586599826812744, -5.301199913024902, -5.629799842834473, -5.189700126647949, -5.28879976272583, -5.203400135040283, -5.559500217437744, -6.339600086212158, -5.759900093078613, -5.966800212860107, -5.726600170135498, -5.544000148773193, -5.575500011444092, -5.895100116729736, -5.80810022354126, -5.720799922943115, -5.67710018157959, -5.891300201416016, -5.865799903869629, -5.862299919128418, -5.902400016784668, -5.888800144195557, -5.89870023727417, -5.655099868774414, -6.699399948120117, -6.937099933624268, -6.167600154876709, -6.698699951171875, -7.100800037384033, -7.085000038146973, -7.08620023727417, -7.137400150299072, -6.841400146484375, -7.08620023727417, -7.112199783325195, -6.7565999031066895, -5.6875, -7.095799922943115, -7.331399917602539, -6.367199897766113, -7.089099884033203, -6.479100227355957, -6.977200031280518, -7.098800182342529, -7.5655999183654785, -7.387700080871582, -7.029900074005127, -7.057499885559082, -7.578100204467773, -7.090099811553955, -7.64900016784668, -7.124499797821045, -7.658299922943115, -7.133500099182129, -4.912199974060059, -6.7164998054504395, -7.089399814605713, -6.181600093841553, -5.853300094604492, -5.168499946594238, -5.665200233459473, -6.223999977111816, -6.192599773406982, -5.778800010681152, -6.36899995803833, -5.84250020980835, -5.523399829864502, -6.2428998947143555, -4.796800136566162, -5.392600059509277, -6.346199989318848, -5.845399856567383, -6.4390997886657715, -6.709400177001953, -5.50029993057251, -6.192699909210205, -5.503200054168701, -5.8907999992370605, -5.659200191497803, -5.6774001121521, -5.492499828338623, -5.504899978637695, -5.640900135040283, -5.79580020904541, -5.6265997886657715, -6.0117998123168945, -5.8566999435424805, -5.816400051116943, -5.966700077056885, -5.979800224304199, -5.969299793243408, -5.95359992980957, -5.9471001625061035, -6.498000144958496, -7.023200035095215, -7.018799781799316, -4.1371002197265625, -5.519199848175049, -7.202499866485596, -7.021900177001953, -6.943699836730957, -7.197700023651123, -7.048999786376953, -7.056600093841553, -7.1149001121521, -7.116099834442139, -7.018599987030029, -7.223100185394287, -6.738399982452393, -7.1041998863220215, -7.260000228881836, -7.1442999839782715, -7.02370023727417, -6.129899978637695, -7.512199878692627, -7.098899841308594, -7.338099956512451, -7.680099964141846, -7.685999870300293, -7.239799976348877, -7.68209981918335, -6.80620002746582, -7.704599857330322, -7.154799938201904, -7.092400074005127, -5.166399955749512, -6.737400054931641, -7.026599884033203, -6.622700214385986, -5.397299766540527, -6.253300189971924, -4.779200077056885, -6.642000198364258, -6.173799991607666, -6.242400169372559, -6.111000061035156, -5.939000129699707, -5.39109992980957, -6.116600036621094, -5.770199775695801, -5.9380998611450195, -5.752900123596191, -5.8024001121521, -5.372499942779541, -5.718500137329102, -5.724800109863281, -5.985199928283691, -6.1981000900268555, -6.1230998039245605, -5.789700031280518, -5.593400001525879, -5.463200092315674, -6.454899787902832, -5.648200035095215, -6.19789981842041, -5.769400119781494, -5.958199977874756, -5.716400146484375, -5.714799880981445, -5.904399871826172, -5.857399940490723, -5.835999965667725, -5.97730016708374, -5.96150016784668, -5.936699867248535, -5.991300106048584, -6.8368000984191895, -6.835599899291992, -6.837900161743164, -6.8404998779296875, -6.836299896240234, -6.439199924468994, -6.83459997177124, -7.4953999519348145, -6.835999965667725, -6.832499980926514, -7.500999927520752, -7.496200084686279, -7.500199794769287, -7.502900123596191, -7.49370002746582, -7.491799831390381, -7.49399995803833, -7.494699954986572, -7.500500202178955, -7.49399995803833, -7.494100093841553, -7.493800163269043, -7.502299785614014, -7.503200054168701, -7.508200168609619, -7.501800060272217, -7.503499984741211, -7.509699821472168, -7.494800090789795, -7.514599800109863, -6.837299823760986, -6.832200050354004, -6.8454999923706055, -6.838099956512451, -6.832900047302246, -5.756499767303467, -6.754700183868408, -6.8520002365112305, -6.837699890136719, -5.7565999031066895, -4.987199783325195, -6.833600044250488, -6.832600116729736, -4.908699989318848, -6.1645002365112305, -6.8379998207092285, -6.839799880981445, -6.435400009155273, -6.83620023727417, -5.608099937438965, -5.230899810791016, -5.010799884796143, -5.929800033569336, -6.452700138092041, -5.204599857330322, -5.3317999839782715, -6.173600196838379, -6.161200046539307, -5.589700222015381, -5.41349983215332, -5.676700115203857, -6.144700050354004, -5.8796000480651855, -6.082600116729736, -6.124899864196777, -5.907700061798096, -6.136300086975098, -6.444200038909912, -6.110499858856201, -6.429100036621094, -6.130300045013428, -6.091100215911865, -6.426799774169922, -6.376800060272217, -6.359600067138672, -6.372399806976318, -6.360000133514404, -6.379199981689453, -6.827199935913086, -6.827499866485596, -6.827400207519531, -6.826099872589111, -6.828999996185303, -7.4847002029418945, -7.4145002365112305, -6.831099987030029, -7.485799789428711, -7.488399982452393, -7.490900039672852, -7.486199855804443, -7.483699798583984, -7.486100196838379, -7.489200115203857, -7.486000061035156, -7.490499973297119, -7.48799991607666, -7.489799976348877, -7.4903998374938965, -7.491199970245361, -7.485799789428711, -7.487199783325195, -7.486800193786621, -7.494999885559082, -7.497200012207031, -7.488500118255615, -7.486499786376953, -6.827899932861328, -6.826900005340576, -5.7484002113342285, -6.826399803161621, -5.590799808502197, -6.149400234222412, -6.150100231170654, -4.859099864959717, -6.825200080871582, -5.300000190734863, -5.757599830627441, -5.905600070953369, -6.433599948883057, -6.828100204467773, -6.429900169372559, -6.150700092315674, -6.829500198364258, -6.429500102996826, -5.34660005569458, -5.4604997634887695, -6.433499813079834, -6.132800102233887, -5.43720006942749, -6.401700019836426, -5.726600170135498, -6.138299942016602, -5.540800094604492, -5.928699970245361, -5.898499965667725, -5.904600143432617, -6.133299827575684, -5.660699844360352, -5.886199951171875, -5.8632001876831055, -5.894199848175049, -5.918000221252441, -6.0995001792907715, -6.138899803161621, -6.127299785614014, -5.858500003814697, -6.114500045776367, -6.064899921417236, -6.065199851989746, -6.1072001457214355, -6.094799995422363, -6.107100009918213, -6.111800193786621, -6.110400199890137, -6.119699954986572, -4.010499954223633, -3.9626998901367188, -6.259699821472168, -6.5152997970581055, -4.369500160217285, -6.8769001960754395, -6.877500057220459, -6.876500129699707, -6.877099990844727, -6.875199794769287, -6.875999927520752, -6.8765997886657715, -6.876800060272217, -6.876299858093262, -6.516200065612793, -6.833399772644043, -6.697199821472168, -6.876699924468994, -6.876399993896484, -6.876100063323975, -6.876500129699707, -6.876399993896484, -6.8765997886657715, -6.876500129699707, -6.875699996948242, -6.877200126647949, -6.874599933624268, -6.876399993896484, -6.875699996948242, -6.8765997886657715, -5.431600093841553, -5.202400207519531, -6.51039981842041, -6.653299808502197, -5.735599994659424, -5.169300079345703, -6.214099884033203, -4.251200199127197, -5.8109002113342285, -6.179299831390381, -5.922900199890137, -5.717199802398682, -6.212500095367432, -6.05079984664917, -6.5192999839782715, -5.778299808502197, -6.09060001373291, -6.210899829864502, -5.6427001953125, -5.779200077056885, -6.12939977645874, -6.207900047302246, -5.625199794769287, -5.688600063323975, -6.368299961090088, -6.15749979019165, -6.0578999519348145, -6.106299877166748, -6.036600112915039, -6.183700084686279, -6.05810022354126, -6.067800045013428, -6.073500156402588, -6.101099967956543, -6.111800193786621, -6.113399982452393, -6.128499984741211, -6.132400035858154, -6.123799800872803, -9.128100395202637, -9.140299797058105, -9.132699966430664, -9.138199806213379, -9.10949993133545, -9.104299545288086, -9.062299728393555, -9.128399848937988, -9.139900207519531, -9.137399673461914, -9.131500244140625, -9.122599601745605, -9.128299713134766, -9.126700401306152, -9.14050006866455, -9.124099731445312, -9.037500381469727, -9.121500015258789, -9.13640022277832, -9.125, -9.135000228881836, -9.051799774169922, -9.134200096130371, -9.13290023803711, -9.125, -9.134400367736816, -9.142800331115723, -9.13479995727539, -9.135499954223633, -9.1358003616333, -9.061599731445312, -9.059100151062012, -9.118900299072266, -9.089099884033203, -8.84119987487793, -9.102800369262695, -9.089500427246094, -9.09160041809082, -8.910900115966797, -9.04800033569336, -6.823599815368652, -9.047599792480469, -8.971099853515625, -9.052399635314941, -7.065199851989746, -7.064499855041504, -7.167099952697754, -7.171599864959717, -7.2230000495910645, -7.291900157928467, -9.01710033416748, -7.495299816131592, -7.405200004577637, -7.534999847412109, -7.428299903869629, -7.359600067138672, -7.481200218200684, -7.557799816131592, -7.686399936676025, -7.63129997253418, -7.686100006103516, -7.757400035858154, -7.719799995422363, -7.597400188446045, -7.742300033569336, -7.695700168609619, -7.6975998878479, -7.82390022277832, -7.7677001953125, -7.756700038909912, -7.638199806213379, -7.866099834442139, -7.785099983215332, -7.805099964141846, -7.67140007019043, -7.692999839782715, -7.760700225830078]}, \"token.table\": {\"Topic\": [2, 11, 2, 1, 2, 3, 4, 5, 6, 7, 9, 11, 2, 4, 7, 14, 1, 8, 1, 4, 1, 2, 3, 7, 10, 12, 2, 3, 4, 7, 1, 2, 10, 12, 1, 2, 3, 4, 11, 12, 1, 2, 8, 1, 2, 3, 4, 5, 6, 7, 8, 9, 10, 11, 12, 13, 1, 6, 7, 9, 2, 3, 10, 12, 2, 3, 11, 2, 3, 10, 13, 3, 7, 2, 4, 7, 1, 2, 12, 1, 2, 3, 4, 5, 6, 7, 8, 10, 13, 2, 4, 5, 6, 7, 13, 2, 3, 4, 10, 2, 3, 7, 10, 2, 4, 10, 1, 3, 13, 1, 2, 13, 1, 2, 3, 4, 5, 6, 7, 8, 9, 10, 11, 12, 13, 14, 1, 3, 10, 11, 2, 9, 1, 4, 2, 3, 7, 10, 13, 1, 5, 6, 7, 9, 1, 9, 1, 4, 5, 6, 1, 2, 3, 13, 1, 2, 3, 4, 5, 6, 7, 8, 9, 10, 11, 13, 14, 2, 13, 2, 3, 10, 12, 13, 1, 2, 3, 4, 5, 6, 10, 12, 1, 2, 4, 1, 2, 3, 6, 8, 10, 1, 2, 3, 4, 5, 6, 7, 8, 9, 10, 11, 12, 13, 2, 1, 4, 1, 2, 4, 5, 8, 12, 1, 4, 8, 2, 3, 4, 7, 11, 1, 3, 1, 2, 3, 4, 5, 6, 7, 8, 9, 10, 11, 12, 13, 14, 2, 3, 4, 14, 4, 7, 1, 1, 2, 3, 4, 7, 8, 10, 1, 2, 3, 4, 7, 8, 2, 9, 10, 1, 5, 6, 8, 2, 7, 10, 1, 2, 3, 4, 5, 7, 10, 11, 12, 2, 4, 12, 1, 2, 3, 4, 5, 6, 7, 8, 9, 3, 2, 3, 13, 1, 2, 3, 4, 7, 8, 10, 14, 1, 3, 1, 2, 10, 5, 2, 3, 4, 10, 1, 4, 2, 3, 4, 7, 10, 12, 13, 1, 2, 4, 12, 4, 8, 2, 3, 14, 4, 7, 1, 3, 7, 8, 13, 1, 2, 3, 4, 5, 6, 7, 2, 3, 4, 14, 1, 2, 3, 4, 5, 6, 7, 8, 11, 1, 5, 6, 8, 2, 7, 14, 2, 3, 4, 14, 2, 7, 2, 3, 4, 6, 12, 1, 2, 3, 4, 5, 6, 7, 8, 9, 10, 11, 12, 13, 5, 9, 5, 6, 2, 10, 11, 1, 3, 5, 6, 8, 11, 1, 2, 3, 4, 5, 6, 7, 8, 9, 10, 12, 13, 2, 3, 4, 7, 3, 1, 3, 4, 12, 2, 7, 1, 4, 9, 1, 2, 3, 12, 3, 7, 10, 1, 5, 6, 7, 9, 1, 5, 8, 1, 2, 3, 12, 1, 2, 4, 9, 10, 2, 14, 2, 3, 10, 13, 2, 3, 4, 2, 3, 4, 10, 1, 2, 3, 4, 6, 7, 10, 12, 3, 1, 2, 3, 4, 7, 14, 1, 5, 6, 9, 2, 4, 9, 10, 1, 1, 2, 4, 5, 7, 9, 10, 2, 5, 8, 1, 2, 3, 4, 5, 6, 7, 8, 9, 10, 11, 14, 1, 2, 3, 4, 5, 6, 7, 8, 9, 1, 2, 11, 1, 2, 4, 9, 14, 2, 3, 12, 3, 13, 1, 2, 3, 4, 6, 7, 8, 9, 12, 13, 1, 2, 3, 4, 9, 1, 4, 6, 13, 2, 4, 12, 4, 1, 2, 3, 4, 6, 7, 9, 14, 1, 3, 4, 7, 12, 1, 2, 3, 4, 5, 6, 7, 8, 9, 11, 12, 13, 2, 13, 1, 2, 3, 4, 6, 8, 9, 11, 12, 1, 13, 2, 3, 8, 13, 2, 4, 5, 9, 12, 2, 3, 10, 1, 2, 3, 4, 6, 8, 10, 1, 6, 3, 2, 2, 4, 11, 1, 6, 2, 3, 7, 10, 2, 11, 14, 2, 2, 3, 4, 7, 11, 1, 2, 3, 7, 10, 3, 7, 13, 1, 2, 3, 4, 6, 10, 11, 14, 3, 7, 13, 3, 1, 3, 5, 6, 7, 3, 1, 1, 2, 3, 4, 6, 7, 8, 11, 12, 13, 2, 4, 10, 1, 4, 1, 2, 3, 4, 5, 6, 7, 8, 9, 10, 11, 12, 13, 1, 2, 3, 4, 5, 6, 7, 8, 9, 10, 11, 12, 13, 14, 1, 2, 3, 4, 5, 6, 7, 8, 9, 10, 11, 1, 2, 3, 4, 5, 6, 7, 8, 9, 13, 1, 2, 14, 2, 3, 1, 2, 3, 11, 1, 2, 3, 13, 2, 3, 2, 4, 7, 2, 3, 12, 1, 4, 8, 1, 2, 3, 4, 5, 2, 3, 12, 2, 3, 8, 11, 2, 3, 10, 2, 3, 12, 2, 3, 13, 1, 2, 5, 6, 1, 14, 1, 2, 3, 14, 2, 11, 12, 1, 5, 6, 1, 2, 8, 2, 12, 2, 3, 7, 5, 6, 1, 2, 3, 4, 12, 1, 2, 3, 14, 3, 7, 8, 1, 5, 6, 8, 1, 2, 3, 4, 5, 6, 7, 9, 10, 12, 13, 2, 3, 10, 1, 2, 13, 1, 2, 3, 4, 5, 10, 12, 13, 1, 5, 1, 2, 3, 4, 5, 6, 7, 10, 2, 5, 7, 9, 2, 3, 1, 2, 3, 9, 1, 2, 3, 4, 7, 8, 11, 3, 2, 3, 4, 10, 1, 3, 4, 7, 9, 1, 2, 3, 5, 1, 5, 6, 7, 8, 9, 5, 6, 9, 2, 3, 7, 10, 13, 2, 14, 2, 4, 14, 1, 3, 5, 6, 7, 8, 9, 2, 3, 8, 11, 3, 10, 11, 1, 2, 3, 5, 6, 8, 9, 11, 1, 2, 13, 1, 2, 6, 1, 2, 3, 4, 6, 7, 8, 9, 10, 13, 1, 5, 6, 3, 4, 5, 7, 9, 3, 4, 2, 4, 7, 1, 7, 8, 2, 3, 10, 11, 1, 2, 3, 4, 5, 6, 11, 2, 12, 1, 2, 3, 4, 5, 6, 7, 8, 9, 10, 11, 12, 13, 14, 1, 2, 3, 4, 5, 6, 7, 8, 9, 12, 14, 1, 2, 12, 1, 2, 13, 2, 3, 8, 13, 1, 2, 5, 5, 6, 1, 4, 11, 2, 4, 9, 14, 1, 2, 5, 6, 8, 9, 11, 2, 3, 5, 6, 11, 1, 2, 9, 10, 1, 2, 3, 4, 5, 6, 7, 8, 9, 10, 11, 12, 13, 14, 1, 2, 3, 4, 7, 1, 2, 3, 4, 5, 6, 7, 8, 9, 10, 12, 13, 14, 2, 3, 4, 7, 8, 1, 2, 3, 4, 5, 6, 7, 8, 9, 11, 13, 14, 2, 5, 11, 1, 2, 3, 5, 6, 8, 11, 13, 1, 6, 7, 8, 10, 1, 2, 3, 4, 5, 6, 7, 8, 9, 1, 2, 3, 4, 5, 6, 7, 8, 9, 11, 1, 2, 3, 4, 7, 10, 12, 13, 1, 2, 3, 4, 5, 6, 7, 8, 9, 10, 11, 12, 14, 1, 2, 3, 4, 5, 6, 7, 8, 9, 13, 2, 7, 1, 2, 3, 4, 12, 13, 14, 1, 2, 3, 4, 6, 7, 8, 9, 12, 13, 2, 3, 9, 1, 2, 3, 4, 5, 6, 7, 8, 9, 10, 11, 14, 1, 2, 3, 4, 5, 6, 7, 8, 9, 10, 11, 13, 14, 1, 2, 4, 14, 1, 4, 2, 3, 4, 7, 2, 3, 4, 7, 8, 2, 3, 12, 2, 5, 1, 2, 3, 4, 5, 6, 7, 8, 9, 12, 13, 1, 2, 3, 7, 8, 10, 1, 2, 3, 11, 2, 3, 4, 6, 7, 10, 1, 2, 9, 2, 1, 2, 3, 4, 5, 7, 8, 9, 12, 13, 5, 9, 1, 2, 3, 4, 5, 6, 7, 9, 10, 11, 12, 13, 1, 2, 3, 4, 7, 11, 14, 1, 2, 3, 10, 12, 13, 2, 3, 12, 14, 2, 3, 4, 7, 12, 1, 2, 3, 4, 5, 6, 7, 9, 1, 2, 3, 4, 7, 11, 12, 13, 1, 5, 1, 2, 3, 4, 5, 6, 7, 8, 9, 11, 13, 1, 2, 3, 5, 6, 7, 9, 11, 13, 1, 2, 8, 1, 4, 10, 12, 1, 2, 4, 3, 1, 2, 3, 4, 5, 6, 7, 10, 11, 12, 1, 2, 3, 4, 7, 11, 1, 4, 7, 1, 2, 3, 4, 7, 11, 2, 2, 3, 10, 13, 1, 2, 3, 4, 5, 6, 7, 8, 13, 14, 2, 14, 1, 2, 3, 4, 7, 10, 11, 13, 2, 1, 5, 6, 1, 2, 3, 4, 5, 6, 7, 9, 10, 13, 14, 1, 2, 3, 4, 5, 6, 7, 8, 9, 10, 11, 12, 13, 14, 1, 2, 3, 4, 5, 6, 7, 11, 12, 13, 2, 3, 4, 10, 2, 4, 1, 2, 3, 4, 5, 6, 7, 8, 9, 10, 11, 12, 14, 2, 3, 1, 2, 3, 4, 7, 1, 8, 1, 2, 3, 4, 5, 6, 7, 9, 1, 2, 3, 4, 5, 6, 7, 12, 13, 1, 2, 3, 4, 5, 6, 7, 8, 9, 10, 11, 12, 13, 1, 2, 3, 4, 5, 7, 8, 9, 2, 3, 7, 10, 1, 2, 3, 4, 5, 6, 7, 8, 9, 11, 12, 13, 14, 2, 3, 6, 8, 1, 2, 3, 4, 5, 6, 7, 8, 9, 10, 11, 12, 13, 2, 4, 13, 2, 3, 7, 1, 2, 3, 5, 6, 7, 8, 9, 1, 5, 6, 8, 9, 1, 2, 3, 4, 5, 6, 7, 8, 9, 10, 11, 12, 13, 1, 5, 1, 2, 3, 4, 5, 6, 7, 8, 9, 10, 11, 12, 13, 2, 7, 9, 1, 2, 3, 4, 5, 6, 7, 9, 10, 13, 1, 2, 3, 4, 5, 6, 7, 8, 9, 11, 12, 13, 14, 1, 2, 3, 4, 5, 6, 7, 8, 9, 10, 11, 13, 14, 2, 3, 4, 14, 2, 3, 7, 12, 2, 7, 1, 2, 3, 11, 1, 1, 2, 3, 9, 2, 4, 8, 1, 5, 6, 7, 9, 1, 2, 3, 5, 9, 1, 2, 3, 4, 5, 6, 7, 8, 9, 10, 11, 12, 13, 14, 2, 8, 10, 1, 2, 3, 4, 5, 6, 7, 8, 9, 11, 13, 14, 2, 1, 2, 4, 5, 6, 1, 2, 3, 4, 5, 6, 7, 8, 9, 10, 11, 12, 13, 14, 1, 2, 3, 4, 5, 6, 7, 8, 9, 10, 11, 12, 13, 2, 4, 13, 1, 2, 3, 4, 13, 2, 3, 4, 7, 1, 2, 8, 1, 2, 7, 1, 4, 2, 4, 10, 14, 4, 2, 3, 4, 11, 3, 5, 6, 8, 9, 3, 2, 4, 7, 8, 1, 2, 3, 8, 2, 7, 1, 10, 1, 7, 8, 11, 2, 9, 1, 6, 7, 8, 1, 2, 4, 7, 11, 2, 3, 7, 11, 1, 7, 8, 2, 3, 14, 2, 4, 5, 6, 9, 1, 2, 13, 2, 4, 11, 1, 5, 6, 8, 2, 3, 11, 4, 8, 1, 5, 6, 7, 1, 2, 3, 4, 5, 6, 7, 8, 9, 11, 2, 4, 1, 4, 2, 4, 7, 12, 2, 7, 2, 4, 5, 6, 1, 2, 3, 4, 5, 6, 7, 8, 9, 10, 11, 12, 4, 6, 8, 1, 2, 3, 5, 6, 8, 9, 11, 2, 2, 8, 1, 2, 7, 12, 1, 2, 3, 4, 5, 6, 7, 8, 9, 10, 11, 12, 13, 1, 5, 6, 7, 8, 9, 1, 6, 8, 3, 12, 1, 2, 3, 4, 5, 6, 7, 8, 9, 10, 11, 12, 13, 1, 2, 3, 4, 10, 12, 1, 2, 3, 4, 5, 6, 7, 9, 10, 11, 1, 2, 3, 4, 5, 6, 7, 8, 9, 10, 12, 13, 2, 1, 5, 6, 2, 8, 10, 13, 1, 2, 3, 4, 6, 7, 9, 11, 13, 2, 7, 2, 12, 2, 4, 1, 2, 3, 4, 12, 14, 1, 2, 3, 4, 5, 7, 8, 10, 2, 4, 7, 1, 2, 3, 4, 5, 6, 7, 8, 10, 11, 12, 13, 14, 2, 4, 8, 3, 4, 8, 2, 3, 4, 6, 10, 11, 12, 14, 1, 2, 3, 4, 5, 6, 7, 8, 9, 11, 13, 1, 2, 3, 4, 5, 6, 8, 9, 10, 1, 4, 8, 14, 1, 2, 3, 4, 5, 6, 7, 8, 9, 10, 11, 13, 1, 2, 3, 4, 5, 6, 7, 8, 11, 12, 14, 1, 2, 3, 7, 13, 1, 2, 3, 4, 5, 6, 7, 8, 9, 10, 11, 12, 13, 14, 1, 2, 3, 4, 5, 6, 7, 9, 12, 13, 1, 2, 3, 5, 6, 7, 8, 1, 2, 3, 4, 6, 7, 13, 1, 2, 3, 4, 5, 6, 7, 8, 9, 10, 11, 12, 13, 14, 1, 1, 2, 3, 4, 7, 11, 2, 2, 1, 2, 3, 4, 5, 6, 7, 8, 10, 11, 12, 13, 14, 1, 1, 2, 3, 4, 5, 6, 7, 8, 9, 10, 11, 12, 13, 1, 2, 3, 4, 5, 6, 7, 8, 9, 10, 11, 12, 13, 14, 1, 2, 3, 4, 5, 6, 7, 8, 9, 11, 1, 2, 3, 4, 7, 1, 2, 3, 4, 5, 6, 7, 8, 9, 11, 12, 2, 3, 4, 14, 1, 1, 2, 3, 4, 7, 10, 12, 13, 2, 4, 8, 1, 2, 4, 7, 1, 2, 3, 4, 5, 8, 10, 1, 2, 3, 4, 6, 7, 10, 11, 12, 13, 2, 3, 4, 7, 10, 11, 12, 13, 1, 4, 1, 2, 3, 4, 10, 12, 1, 2, 3, 4, 5, 6, 7, 8, 9, 10, 11, 12, 13, 4, 8, 5, 6, 9, 2, 1, 3, 4, 7, 9, 2, 1, 2, 3, 4, 5, 6, 7, 11, 1, 5, 6, 8, 2, 4, 8, 1, 2, 3, 4, 5, 6, 8, 11, 2, 3, 7, 2, 6, 7, 2, 1, 2, 4, 11, 1, 2, 3, 4, 6, 8, 9, 10, 1, 4, 2, 3, 6, 7, 2, 3, 10, 2, 4, 1, 2, 7, 1, 2, 3, 4, 5, 6, 7, 8, 9, 10, 11, 12, 13, 14, 2, 11, 2, 1, 11, 1, 2, 14, 1, 2, 3, 4, 5, 6, 7, 8, 9, 10, 11, 12, 13, 2, 3, 10, 11, 13, 2, 3, 4, 7, 10, 11, 13, 2, 3, 4, 7, 1, 2, 3, 4, 5, 6, 7, 8, 9, 10, 11, 12, 13, 2, 4, 1, 4, 13, 1, 2, 14, 3, 11, 1, 1, 2, 3, 4, 5, 6, 7, 8, 9, 10, 11, 12, 13, 1, 5, 6, 9, 13, 1, 2, 3, 4, 5, 6, 7, 8, 9, 10, 12, 13, 1, 4, 7, 12, 2, 12, 2, 3, 10, 1, 6, 13, 1, 2, 3, 4, 5, 6, 7, 8, 9, 10, 11, 2, 8, 11, 1, 2, 3, 12, 1, 2, 7, 10, 1, 2, 3, 4, 5, 6, 7, 8, 9, 10, 11, 13, 1, 2, 3, 4, 5, 6, 7, 8, 9, 10, 11, 12, 13, 2, 8, 14, 1, 2, 3, 4, 5, 6, 7, 9, 11, 12, 13, 14, 1, 3, 9, 2, 3, 13, 2, 3, 7, 1, 2, 4, 7, 2, 3, 7, 11, 1, 2, 3, 4, 6, 7, 10, 3, 1, 2, 3, 7, 13, 1, 2, 3, 4, 7, 14, 3, 4, 7, 5, 6, 2, 3, 7, 10, 13, 2, 3, 7, 10, 13, 2, 3, 7, 11, 1, 2, 3, 11, 12, 2, 4, 13, 2, 3, 13, 1, 2, 8, 10, 1, 5, 6, 7, 9, 2, 3, 4, 12, 1, 2, 8, 11, 2, 3, 12, 1, 2, 7, 13, 2, 4, 1, 2, 4, 12, 1, 2, 3, 4, 5, 6, 7, 8, 9, 10, 13, 1, 2, 3, 4, 5, 6, 7, 8, 9, 10, 11, 12, 13, 14, 1, 2, 3, 4, 5, 7, 9, 10, 12, 14, 1, 2, 3, 14, 2, 3, 4, 6, 7, 2, 3, 1, 2, 9, 4, 1, 2, 3, 4, 5, 6, 7, 8, 9, 10, 12, 13, 1, 2, 3, 4, 6, 7, 8, 10, 12, 13, 2, 1, 2, 8, 1, 2, 3, 4, 8, 11, 1, 3, 1, 2, 3, 4, 5, 6, 7, 8, 9, 10, 11, 12, 1, 2, 10, 2, 6, 2, 3, 12, 6, 7, 9, 1, 2, 3, 4, 5, 6, 7, 8, 9, 10, 11, 12, 13, 1, 2, 3, 13, 2, 3, 4, 13, 1, 2, 3, 4, 5, 6, 7, 8, 13, 14, 1, 2, 3, 9, 2, 3, 7, 11, 13, 3, 2, 3, 4, 9, 12, 13, 1, 2, 3, 8, 12, 1, 7, 1, 2, 3, 4, 7, 10, 12, 13, 14, 1, 2, 7, 2, 3, 4, 9, 1, 2, 3, 4, 6, 7, 8, 10, 14, 1, 2, 3, 4, 9, 13, 1, 2, 3, 9, 1, 2, 3, 14, 1, 5, 6, 7, 9, 2, 4, 10, 1, 2, 10, 2, 6, 10, 1, 2, 3, 4, 5, 7, 8, 14, 2, 13, 1, 2, 3, 7, 2, 3, 4, 7, 8, 11, 2, 4, 9, 1, 2, 3, 6, 7, 11, 12, 2, 1, 2, 4, 8, 1, 2, 3, 1, 2, 3, 4, 7, 10, 1, 2, 3, 10, 11, 12, 13, 1, 2, 3, 4, 5, 6, 7, 8, 9, 1, 3, 4, 5, 7, 8, 11, 1, 2, 8, 12, 1, 2, 3, 12, 2, 4, 10, 1, 3, 9, 1, 2, 3, 11, 12, 2, 7, 2, 3, 11, 12, 4, 7, 11, 1, 5, 6, 7, 9, 1, 2, 3, 4, 8, 11, 3, 5, 6, 2, 3, 4, 7, 8, 1, 2, 3, 4, 5, 6, 7, 9, 10, 11, 12, 13, 14, 1, 2, 3, 4, 5, 6, 7, 1, 2, 3, 4, 5, 7, 8, 12, 13, 14, 2, 3, 10, 1, 1, 2, 3, 4, 5, 6, 7, 9, 10, 13, 14, 2, 14, 2, 3, 4, 7, 10, 12, 13, 2, 1, 2, 3, 4, 5, 6, 11, 13, 2, 4, 14, 1, 2, 3, 4, 5, 6, 7, 8, 9, 10, 11, 12, 13, 3, 12, 2, 14, 1, 2, 3, 4, 6, 7, 8, 11, 12, 13, 14, 3, 2, 2, 3, 4, 1, 3, 6, 1, 2, 3, 4, 5, 6, 7, 8, 9, 10, 11, 12, 13, 14, 5, 8, 1, 4, 9, 1, 2, 3, 4, 5, 6, 7, 10, 11, 12, 13, 14, 3, 4, 7, 10, 12, 1, 2, 3, 4, 5, 6, 8, 9, 10, 13, 14, 1, 2, 3, 4, 5, 6, 8, 9, 10, 13, 1, 2, 3, 4, 5, 6, 8, 9, 14, 2, 3, 4, 14, 1, 3, 4, 7, 8, 3, 1, 2, 3, 4, 5, 6, 7, 8, 9, 11, 12, 13, 2, 3, 4, 5, 7, 9, 13, 1, 2, 4, 5, 7, 10, 12, 1, 5, 6, 9, 2, 3, 4, 12, 2, 3, 13, 1, 2, 3, 4, 5, 6, 7, 8, 11, 1, 2, 3, 4, 5, 6, 7, 8, 10, 11, 13, 1, 2, 3, 4, 7, 11, 12, 1, 8, 1, 2, 3, 7, 8, 2, 10, 2, 7, 2, 3, 2, 7, 1, 5, 9, 1, 2, 3, 4, 5, 6, 7, 9, 10, 11, 12, 13, 14, 1, 2, 4, 5, 6, 8, 1, 2, 3, 4, 10, 13, 2, 3, 10, 2, 3, 7, 10, 2, 2, 4, 7, 2, 3, 12, 1, 2, 3, 4, 5, 6, 7, 8, 9, 10, 11, 12, 13, 2, 4, 1, 2, 3, 4, 5, 6, 7, 8, 9, 11, 13, 14, 1, 2, 3, 4, 8, 13, 1, 2, 3, 8, 12, 2, 4, 10, 2, 3, 12, 1, 2, 3, 4, 5, 6, 7, 8, 9, 11, 13, 2, 12, 2, 4, 1, 2, 3, 8, 10, 11, 3, 4, 8, 9, 1, 2, 3, 4, 5, 6, 7, 8, 9, 2, 4, 7, 2, 12, 2, 4, 2, 1, 2, 3, 4, 5, 6, 7, 8, 10, 13, 2, 7, 9, 2, 4, 1, 2, 4, 5, 6, 7, 13, 2, 5, 7, 9, 1, 2, 3, 4, 5, 7, 8, 10, 11, 12, 13, 3, 4, 5, 2, 3, 4, 7, 8, 1, 2, 3, 4, 6, 12, 13, 2, 3, 4, 12, 4, 7, 12, 1, 2, 3, 4, 5, 6, 7, 8, 9, 10, 11, 12, 13, 14, 1, 5, 6, 9, 1, 5, 6, 1, 5, 6, 3, 4, 2, 3, 7, 2, 12, 1, 2, 3, 4, 6, 7, 14, 1, 2, 5, 9, 1, 2, 3, 4, 5, 7, 8, 10, 1, 2, 3, 4, 7, 12, 1, 5, 6, 1, 2, 3, 4, 7, 12, 14, 1, 2, 3, 6, 8, 14, 1, 2, 3, 4, 5, 6, 7, 8, 9, 10, 11, 12, 13, 2, 3, 13, 1, 2, 3, 4, 13, 14, 1, 2, 3, 4, 5, 6, 7, 8, 9, 10, 11, 1, 2, 3, 4, 5, 6, 7, 8, 9, 10, 11, 12, 13, 1, 7, 2, 4, 8, 1, 2, 3, 4, 5, 6, 7, 8, 9, 10, 11, 12, 13, 14, 1, 2, 3, 4, 5, 7, 8, 9, 11, 13, 2, 10, 3, 2, 3, 10, 1, 2, 3, 4, 5, 6, 7, 8, 9, 10, 11, 12, 13, 3, 7, 10, 2, 3, 2, 3, 12, 1, 2, 3, 4, 5, 6, 7, 8, 9, 10, 11, 13, 14, 2, 3, 13, 1, 2, 3, 4, 5, 6, 7, 8, 9, 10, 12, 13, 1, 2, 3, 7, 9, 1, 2, 13, 1, 3, 4, 8, 3, 1, 2, 7, 1, 2, 6, 2, 2, 1, 2, 3, 4, 6, 12, 13, 2, 3, 9, 1, 2, 3, 4, 5, 6, 8, 9, 10, 2, 5, 8, 2, 3, 4, 8, 12, 2, 4, 9, 2, 4, 2, 7, 12, 4, 7, 2, 3, 4, 13, 1, 2, 3, 14, 1, 3, 4, 11, 1, 2, 9, 10, 11, 2, 3, 11, 12, 1, 4, 10, 1, 6, 9, 1, 2, 14, 2, 3, 5, 9, 2, 7, 11, 1, 5, 9, 1, 2, 3, 9, 2, 3, 2, 12, 2, 3, 4, 11, 13, 2, 3, 4, 10, 12, 13, 1, 2, 3, 4, 2, 2, 4, 5, 10, 1, 2, 3, 4, 5, 6, 7, 8, 9, 10, 11, 1, 2, 3, 4, 5, 6, 7, 8, 9, 10, 12, 13, 14, 2, 3, 7, 1, 2, 3, 4, 5, 6, 7, 8, 9, 10, 11, 12, 13, 1, 5, 6, 7, 8, 9, 1, 5, 6, 1, 5, 9, 1, 4, 7, 1, 2, 3, 4, 5, 6, 7, 8, 10, 11, 1, 1, 2, 3, 4, 5, 6, 7, 8, 11, 12, 1, 4, 1, 2, 3, 4, 6, 13, 14, 1, 6, 9, 2, 9, 11, 1, 3, 7, 8, 1, 5, 6, 7, 8, 9, 1, 2, 3, 4, 5, 6, 7, 8, 9, 11, 13, 1, 2, 3, 4, 5, 6, 7, 8, 9, 10, 11, 13, 1, 2, 3, 4, 7, 12, 13, 1, 2, 9, 1, 6, 9, 1, 2, 3, 4, 5, 6, 8, 9, 12, 2, 6, 12, 1, 2, 3, 4, 5, 6, 7, 8, 9, 10, 11, 13, 14, 2, 3, 11, 2, 4, 5, 9, 1, 2, 3, 4, 5, 6, 7, 9, 10, 11, 12, 13, 2, 3, 7, 11], \"Freq\": [0.5856010913848877, 0.1952003538608551, 0.9431538581848145, 0.41692569851875305, 0.16270270943641663, 0.07118243724107742, 0.0915202721953392, 0.14236487448215485, 0.050844594836235046, 0.010168919339776039, 0.010168919339776039, 0.030506758019328117, 0.28278839588165283, 0.42418259382247925, 0.14139419794082642, 0.14139419794082642, 0.7701531052589417, 0.11002187430858612, 0.5258025527000427, 0.3505350351333618, 0.29610151052474976, 0.29610151052474976, 0.27332445979118347, 0.02277703955769539, 0.06833111494779587, 0.02277703955769539, 0.2334519624710083, 0.007295373827219009, 0.7441281676292419, 0.007295373827219009, 0.19114795327186584, 0.3822959065437317, 0.19114795327186584, 0.19114795327186584, 0.0981602817773819, 0.4908013939857483, 0.0981602817773819, 0.0981602817773819, 0.0981602817773819, 0.04908014088869095, 0.18358410894870758, 0.5507523417472839, 0.18358410894870758, 0.24105477333068848, 0.4632771611213684, 0.1016949862241745, 0.052730731666088104, 0.037664808332920074, 0.05649721249938011, 0.018832404166460037, 0.0037664808332920074, 0.0037664808332920074, 0.0037664808332920074, 0.0037664808332920074, 0.011299442499876022, 0.0037664808332920074, 0.15001484751701355, 0.45004457235336304, 0.15001484751701355, 0.15001484751701355, 0.05689277872443199, 0.45514222979545593, 0.39824944734573364, 0.05689277872443199, 0.48767173290252686, 0.16255724430084229, 0.16255724430084229, 0.3366917073726654, 0.1683458536863327, 0.1683458536863327, 0.1683458536863327, 0.8130592107772827, 0.11615131795406342, 0.1038040816783905, 0.415216326713562, 0.5190204381942749, 0.4899696409702301, 0.16332320868968964, 0.16332320868968964, 0.4896838665008545, 0.09793677181005478, 0.2203577309846878, 0.024484192952513695, 0.03672628849744797, 0.03672628849744797, 0.012242096476256847, 0.012242096476256847, 0.012242096476256847, 0.04896838590502739, 0.11189033091068268, 0.07459355145692825, 0.11189033091068268, 0.5594516396522522, 0.07459355145692825, 0.03729677572846413, 0.21409517526626587, 0.42819035053253174, 0.10704758763313293, 0.21409517526626587, 0.9312154650688171, 0.6546475887298584, 0.10910793393850327, 0.21821586787700653, 0.5896829962730408, 0.0737103745341301, 0.2948414981365204, 0.5525211691856384, 0.18417373299598694, 0.18417373299598694, 0.1842678189277649, 0.5528034567832947, 0.1842678189277649, 0.43920132517814636, 0.2461296021938324, 0.10758958756923676, 0.08253447711467743, 0.05600553750991821, 0.025055108591914177, 0.019159790128469467, 0.005895319860428572, 0.005895319860428572, 0.004421489778906107, 0.001473829965107143, 0.001473829965107143, 0.002947659930214286, 0.001473829965107143, 0.19303709268569946, 0.3860741853713989, 0.19303709268569946, 0.19303709268569946, 0.734878659248352, 0.183719664812088, 0.9778974056243896, 0.011370900087058544, 0.09418833255767822, 0.8207840323448181, 0.013455476611852646, 0.026910953223705292, 0.013455476611852646, 0.019855840131640434, 0.6684799194335938, 0.2117956280708313, 0.006618613377213478, 0.0926605835556984, 0.5696182250976562, 0.18987274169921875, 0.19873151183128357, 0.039746303111314774, 0.5961945652961731, 0.11923891305923462, 0.0828622505068779, 0.5800357460975647, 0.1657245010137558, 0.0828622505068779, 0.3789767026901245, 0.18948835134506226, 0.13375648856163025, 0.061305053532123566, 0.08917098492383957, 0.07245142757892609, 0.011146373115479946, 0.011146373115479946, 0.011146373115479946, 0.01671956107020378, 0.011146373115479946, 0.005573186557739973, 0.01671956107020378, 0.7358742952346802, 0.18396857380867004, 0.739985466003418, 0.1849963665008545, 0.03699927404522896, 0.024666182696819305, 0.012333091348409653, 0.1389172077178955, 0.5691124200820923, 0.06273680180311203, 0.17028561234474182, 0.02240600250661373, 0.017924800515174866, 0.008962400257587433, 0.008962400257587433, 0.5261435508728027, 0.17538119852542877, 0.17538119852542877, 0.9254082441329956, 0.006957956589758396, 0.013915913179516792, 0.027831826359033585, 0.006957956589758396, 0.006957956589758396, 0.5019782185554504, 0.16440334916114807, 0.10521814227104187, 0.06795338541269302, 0.08548974245786667, 0.028496580198407173, 0.010960223153233528, 0.008768178522586823, 0.0021920446306467056, 0.008768178522586823, 0.0021920446306467056, 0.004384089261293411, 0.008768178522586823, 0.9114481806755066, 0.09362304210662842, 0.8426073789596558, 0.3866812586784363, 0.33834609389305115, 0.048335157334804535, 0.09667031466960907, 0.048335157334804535, 0.048335157334804535, 0.9925377368927002, 0.8047659993171692, 0.134127676486969, 0.8420172929763794, 0.0077964565716683865, 0.10135393589735031, 0.023389369249343872, 0.023389369249343872, 0.7009051442146301, 0.17522628605365753, 0.39973902702331543, 0.16992954909801483, 0.1488906443119049, 0.08901071548461914, 0.0825372114777565, 0.06797181814908981, 0.01618376560509205, 0.0032367531675845385, 0.006473506335169077, 0.008091882802546024, 0.0032367531675845385, 0.0032367531675845385, 0.0016183765837922692, 0.0016183765837922692, 0.4670129418373108, 0.266864538192749, 0.20014840364456177, 0.06671613454818726, 0.7632288932800293, 0.1526457816362381, 0.9942381978034973, 0.016674822196364403, 0.7225756645202637, 0.06669928878545761, 0.10004893690347672, 0.06669928878545761, 0.00555827422067523, 0.016674822196364403, 0.03644338622689247, 0.2551037073135376, 0.07288677245378494, 0.2551037073135376, 0.29154708981513977, 0.03644338622689247, 0.5739189982414246, 0.14347974956035614, 0.14347974956035614, 0.11060020327568054, 0.11060020327568054, 0.5530010461807251, 0.11060020327568054, 0.5634536743164062, 0.18781788647174835, 0.18781788647174835, 0.017522217705845833, 0.6921275854110718, 0.18398328125476837, 0.05256665125489235, 0.008761108852922916, 0.017522217705845833, 0.008761108852922916, 0.008761108852922916, 0.008761108852922916, 0.6432583332061768, 0.1429463028907776, 0.1429463028907776, 0.3281481862068176, 0.03881322592496872, 0.02469932660460472, 0.035284750163555145, 0.28580647706985474, 0.2364078313112259, 0.014113901183009148, 0.010585425421595573, 0.028227802366018295, 0.8837891221046448, 0.3659817576408386, 0.3659817576408386, 0.1829908788204193, 0.19096647202968597, 0.435642272233963, 0.22677268087863922, 0.10145094245672226, 0.023870809003710747, 0.005967702250927687, 0.005967702250927687, 0.005967702250927687, 0.348028302192688, 0.522042453289032, 0.9738650918006897, 0.7802674770355225, 0.19506686925888062, 0.8909998536109924, 0.240251362323761, 0.3603770434856415, 0.1201256811618805, 0.240251362323761, 0.9794653654098511, 0.014093026518821716, 0.22803877294063568, 0.7214317321777344, 0.004146159626543522, 0.008292319253087044, 0.020730797201395035, 0.004146159626543522, 0.004146159626543522, 0.1849898099899292, 0.1849898099899292, 0.3699796199798584, 0.1849898099899292, 0.3842719793319702, 0.5379807353019714, 0.5498009920120239, 0.27490049600601196, 0.13745024800300598, 0.339724063873291, 0.5095860958099365, 0.1999499648809433, 0.1999499648809433, 0.1999499648809433, 0.1999499648809433, 0.1999499648809433, 0.03813526779413223, 0.775417149066925, 0.07627053558826447, 0.025423511862754822, 0.012711755931377411, 0.03813526779413223, 0.025423511862754822, 0.1078215092420578, 0.0718810111284256, 0.790691077709198, 0.0179702527821064, 0.6796064376831055, 0.05254689231514931, 0.08057189732789993, 0.05605001747608185, 0.049043767154216766, 0.035031262785196304, 0.010509378276765347, 0.014012504369020462, 0.017515631392598152, 0.24405181407928467, 0.08135060220956802, 0.5694541931152344, 0.08135060220956802, 0.5888329148292542, 0.19627763330936432, 0.19627763330936432, 0.3834826350212097, 0.04260918125510216, 0.08521836251020432, 0.4260918200016022, 0.6138396263122559, 0.27281761169433594, 0.2665584683418274, 0.2665584683418274, 0.17770564556121826, 0.08885282278060913, 0.08885282278060913, 0.3198477029800415, 0.3458986282348633, 0.11433469504117966, 0.08973103016614914, 0.057890985161066055, 0.04052368924021721, 0.011578197591006756, 0.002894549397751689, 0.004341823980212212, 0.002894549397751689, 0.002894549397751689, 0.005789098795503378, 0.002894549397751689, 0.9025699496269226, 0.05886325612664223, 0.7711013555526733, 0.14687645435333252, 0.6217444539070129, 0.10362408310174942, 0.20724816620349884, 0.506528377532959, 0.046048033982515335, 0.09209606796503067, 0.18419213593006134, 0.1381441056728363, 0.046048033982515335, 0.4367836117744446, 0.17034560441970825, 0.05241403356194496, 0.061149705201387405, 0.09609239548444748, 0.11793157458305359, 0.008735672570765018, 0.004367836285382509, 0.017471345141530037, 0.02183918096125126, 0.004367836285382509, 0.004367836285382509, 0.33241114020347595, 0.11080371588468552, 0.11080371588468552, 0.33241114020347595, 0.9240071177482605, 0.9689417481422424, 0.007814045995473862, 0.007814045995473862, 0.007814045995473862, 0.48264506459236145, 0.32176336646080017, 0.7576466202735901, 0.08913490176200867, 0.133702352643013, 0.9859593510627747, 0.44932687282562256, 0.3594615161418915, 0.08986537903547287, 0.8961443305015564, 0.042673539370298386, 0.042673539370298386, 0.04806549847126007, 0.554938018321991, 0.3277193009853363, 0.004369590897113085, 0.06117426976561546, 0.13003242015838623, 0.7801945209503174, 0.06501621007919312, 0.047716718167066574, 0.8827592730522156, 0.023858359083533287, 0.023858359083533287, 0.1902497261762619, 0.1902497261762619, 0.1902497261762619, 0.1902497261762619, 0.1902497261762619, 0.799492359161377, 0.15989847481250763, 0.5306198000907898, 0.3376671373844147, 0.09647633135318756, 0.016079388558864594, 0.9621144533157349, 0.029154982417821884, 0.8708072304725647, 0.32133299112319946, 0.4284439980983734, 0.10711099952459335, 0.2142219990491867, 0.11166242510080338, 0.6871533989906311, 0.08589417487382889, 0.042947087436914444, 0.025768252089619637, 0.008589417673647404, 0.017178835347294807, 0.008589417673647404, 0.8628506064414978, 0.1707540899515152, 0.4268852174282074, 0.10672130435705185, 0.0213442612439394, 0.23478686809539795, 0.0213442612439394, 0.015772243961691856, 0.7412954568862915, 0.20503917336463928, 0.015772243961691856, 0.3299010396003723, 0.16495051980018616, 0.16495051980018616, 0.3299010396003723, 0.9929430484771729, 0.8341338038444519, 0.003310054773464799, 0.05627093091607094, 0.06951115280389786, 0.013240219093859196, 0.013240219093859196, 0.003310054773464799, 0.7426291704177856, 0.08251435309648514, 0.08251435309648514, 0.27930715680122375, 0.27930715680122375, 0.14744539558887482, 0.11148311197757721, 0.09589944779872894, 0.046750981360673904, 0.016782402992248535, 0.004794972483068705, 0.007192458491772413, 0.008391201496124268, 0.0011987431207671762, 0.0011987431207671762, 0.4315170645713806, 0.23116986453533173, 0.030822647735476494, 0.09246794134378433, 0.030822647735476494, 0.06164529547095299, 0.015411323867738247, 0.015411323867738247, 0.07705661654472351, 0.2796899676322937, 0.41953495144844055, 0.13984498381614685, 0.12557904422283173, 0.37673714756965637, 0.25115808844566345, 0.12557904422283173, 0.12557904422283173, 0.3656158149242401, 0.3656158149242401, 0.18280790746212006, 0.696047842502594, 0.1392095685005188, 0.2786298096179962, 0.42527708411216736, 0.0586589090526104, 0.0586589090526104, 0.0293294545263052, 0.04399418085813522, 0.0146647272631526, 0.0586589090526104, 0.0146647272631526, 0.0146647272631526, 0.3439270555973053, 0.11464234441518784, 0.22928468883037567, 0.11464234441518784, 0.17196352779865265, 0.1769433617591858, 0.1769433617591858, 0.3538867235183716, 0.1769433617591858, 0.5522547364234924, 0.1840849071741104, 0.1840849071741104, 0.8712228536605835, 0.4530975818634033, 0.08238138258457184, 0.16476276516914368, 0.06178603693842888, 0.1029767245054245, 0.02059534564614296, 0.06178603693842888, 0.02059534564614296, 0.25146251916885376, 0.3352833688259125, 0.16764168441295624, 0.08382084220647812, 0.08382084220647812, 0.5815224051475525, 0.05025501921772957, 0.08615146577358246, 0.06461359560489655, 0.06461359560489655, 0.03589644283056259, 0.03589644283056259, 0.028717154636979103, 0.007179288659244776, 0.028717154636979103, 0.007179288659244776, 0.007179288659244776, 0.7361871004104614, 0.18404677510261536, 0.5004851222038269, 0.05560945346951485, 0.13902363181114197, 0.05560945346951485, 0.13902363181114197, 0.027804726734757423, 0.027804726734757423, 0.05560945346951485, 0.027804726734757423, 0.7412502765655518, 0.18531256914138794, 0.16588783264160156, 0.729906439781189, 0.03317756578326225, 0.03317756578326225, 0.2790438234806061, 0.2790438234806061, 0.13952191174030304, 0.13952191174030304, 0.13952191174030304, 0.06640350073575974, 0.6640350222587585, 0.13280700147151947, 0.21939760446548462, 0.4041534960269928, 0.2078503668308258, 0.06928345561027527, 0.034641727805137634, 0.011547242291271687, 0.046188969165086746, 0.1055007353425026, 0.8440058827400208, 0.8663614988327026, 0.9448155164718628, 0.6557528376579285, 0.10929214209318161, 0.10929214209318161, 0.11819243431091309, 0.7091546058654785, 0.14104481041431427, 0.7052240371704102, 0.09402987360954285, 0.04701493680477142, 0.6681222319602966, 0.16703055799007416, 0.16703055799007416, 0.9653739333152771, 0.11424778401851654, 0.30119872093200684, 0.3739018440246582, 0.1869509220123291, 0.02077232487499714, 0.20213475823402405, 0.4331459105014801, 0.11550557613372803, 0.11550557613372803, 0.08662918210029602, 0.5664374232292175, 0.1888124644756317, 0.1888124644756317, 0.28881004452705383, 0.30686068534851074, 0.2527087926864624, 0.07220251113176346, 0.03610125556588173, 0.018050627782940865, 0.018050627782940865, 0.03610125556588173, 0.33523035049438477, 0.33523035049438477, 0.16761517524719238, 0.8656207323074341, 0.41717684268951416, 0.08343537151813507, 0.11124715954065323, 0.30592969059944153, 0.055623579770326614, 0.9323362708091736, 0.9937695860862732, 0.02202548272907734, 0.7444612979888916, 0.07929173856973648, 0.07929173856973648, 0.02202548272907734, 0.030835675075650215, 0.004405096638947725, 0.004405096638947725, 0.004405096638947725, 0.013215289451181889, 0.36755648255348206, 0.24503764510154724, 0.24503764510154724, 0.9730387330055237, 0.02018752507865429, 0.6410031318664551, 0.07736244797706604, 0.10683386027812958, 0.055258892476558685, 0.025787483900785446, 0.04420711472630501, 0.003683926071971655, 0.011051778681576252, 0.003683926071971655, 0.003683926071971655, 0.018419630825519562, 0.003683926071971655, 0.003683926071971655, 0.3598546087741852, 0.28579482436180115, 0.15381647646427155, 0.06741339713335037, 0.044625770300626755, 0.038928862661123276, 0.014242267236113548, 0.005696906708180904, 0.010444329120218754, 0.002848453354090452, 0.002848453354090452, 0.008545360527932644, 0.002848453354090452, 0.0018989689415320754, 0.6335433125495911, 0.06721945106983185, 0.028568265959620476, 0.013443890027701855, 0.15292425453662872, 0.08066333830356598, 0.0033609725069254637, 0.005041458643972874, 0.0033609725069254637, 0.005041458643972874, 0.0033609725069254637, 0.0933767706155777, 0.6206809282302856, 0.148304283618927, 0.06591301411390305, 0.02197100594639778, 0.01098550297319889, 0.01647825352847576, 0.01098550297319889, 0.005492751486599445, 0.005492751486599445, 0.13830718398094177, 0.6915358901023865, 0.13830718398094177, 0.8988414406776428, 0.06420296430587769, 0.1614418774843216, 0.1614418774843216, 0.484325647354126, 0.1614418774843216, 0.18431760370731354, 0.18431760370731354, 0.3686352074146271, 0.18431760370731354, 0.9109970927238464, 0.0569373182952404, 0.07143183052539825, 0.6428864598274231, 0.2500114142894745, 0.8335394859313965, 0.055569298565387726, 0.055569298565387726, 0.5519805550575256, 0.18399351835250854, 0.18399351835250854, 0.1856042742729187, 0.13920320570468903, 0.046401068568229675, 0.603213906288147, 0.046401068568229675, 0.4871486723423004, 0.16238288581371307, 0.16238288581371307, 0.10732806473970413, 0.8049604892730713, 0.026832016184926033, 0.040248025208711624, 0.27023884654045105, 0.47291800379753113, 0.20267914235591888, 0.3813221752643585, 0.571983277797699, 0.021184565499424934, 0.3663169741630554, 0.3663169741630554, 0.1831584870815277, 0.23924873769283295, 0.05981218442320824, 0.11962436884641647, 0.538309633731842, 0.8552425503730774, 0.12217751145362854, 0.1706741750240326, 0.1706741750240326, 0.3413483500480652, 0.1706741750240326, 0.7132166028022766, 0.10188808292150497, 0.10188808292150497, 0.12034015357494354, 0.24068030714988708, 0.6017007827758789, 0.5809491872787476, 0.24897821247577667, 0.08299273997545242, 0.7348530292510986, 0.18371325731277466, 0.32208317518234253, 0.16104158759117126, 0.32208317518234253, 0.9485471844673157, 0.022059235721826553, 0.16373562812805176, 0.18420258164405823, 0.5730746984481812, 0.02046695351600647, 0.02046695351600647, 0.3329275846481323, 0.3329275846481323, 0.22195173799991608, 0.11097586899995804, 0.5720381736755371, 0.1906793862581253, 0.1906793862581253, 0.19117161631584167, 0.26764026284217834, 0.5161633491516113, 0.019117161631584167, 0.14152519404888153, 0.5586521029472351, 0.07634912431240082, 0.13221433758735657, 0.027932604774832726, 0.027932604774832726, 0.013035215437412262, 0.003724347334355116, 0.013035215437412262, 0.001862173667177558, 0.003724347334355116, 0.9110950827598572, 0.056943442672491074, 0.028471721336245537, 0.0993260070681572, 0.6952820420265198, 0.0993260070681572, 0.008629395626485348, 0.17258791625499725, 0.7248691916465759, 0.004314697813242674, 0.008629395626485348, 0.03451758250594139, 0.03883228078484535, 0.004314697813242674, 0.25668439269065857, 0.6417109966278076, 0.07439553737640381, 0.6509609222412109, 0.1053936779499054, 0.08059516549110413, 0.02479851245880127, 0.006199628114700317, 0.030998138710856438, 0.012399256229400635, 0.33411553502082825, 0.16705776751041412, 0.16705776751041412, 0.16705776751041412, 0.6982880234718323, 0.17457200586795807, 0.20077243447303772, 0.20077243447303772, 0.3011586368083954, 0.20077243447303772, 0.826036810874939, 0.016008464619517326, 0.016008464619517326, 0.11526095122098923, 0.012806772254407406, 0.006403386127203703, 0.0032016930636018515, 0.8633925318717957, 0.3229283392429352, 0.3229283392429352, 0.10764278471469879, 0.21528556942939758, 0.9818416833877563, 0.0014876389177516103, 0.011901111342012882, 0.0014876389177516103, 0.0014876389177516103, 0.9888333082199097, 0.0031541732605546713, 0.0015770866302773356, 0.0031541732605546713, 0.089309461414814, 0.4217391014099121, 0.45150893926620483, 0.0024808181915432215, 0.024808183312416077, 0.007442454807460308, 0.2991046905517578, 0.5554801225662231, 0.08545847982168198, 0.5316157341003418, 0.4103700518608093, 0.009326592087745667, 0.009326592087745667, 0.027979776263237, 0.8285454511642456, 0.13809090852737427, 0.6902816295623779, 0.13805632293224335, 0.13805632293224335, 0.14810475707054138, 0.0011052594054490328, 0.29620951414108276, 0.5139456391334534, 0.0022105188108980656, 0.005526297260075808, 0.032052524387836456, 0.36356696486473083, 0.5655485987663269, 0.020198164507746696, 0.04039632901549339, 0.4485958218574524, 0.29906389117240906, 0.29906389117240906, 0.6487586498260498, 0.04054741561412811, 0.04054741561412811, 0.020273707807064056, 0.16218966245651245, 0.06082111969590187, 0.020273707807064056, 0.020273707807064056, 0.390146940946579, 0.1950734704732895, 0.1950734704732895, 0.9587448835372925, 0.008715862408280373, 0.017431724816560745, 0.008683930151164532, 0.5340617299079895, 0.4168286621570587, 0.008683930151164532, 0.004341965075582266, 0.008683930151164532, 0.004341965075582266, 0.004341965075582266, 0.004341965075582266, 0.008683930151164532, 0.052316851913928986, 0.6016438007354736, 0.3139011263847351, 0.11455710232257843, 0.11455710232257843, 0.22911420464515686, 0.3436713218688965, 0.11455710232257843, 0.7365919351577759, 0.14731839299201965, 0.07122733443975449, 0.6766596436500549, 0.21368199586868286, 0.650800347328186, 0.18594294786453247, 0.09297147393226624, 0.6351459622383118, 0.28535544872283936, 0.05523008480668068, 0.018410028889775276, 0.2234382927417755, 0.46084147691726685, 0.18154360353946686, 0.02792978659272194, 0.02792978659272194, 0.02792978659272194, 0.04189467802643776, 0.7393503785133362, 0.12322505563497543, 0.35527005791664124, 0.31419837474823, 0.15607239305973053, 0.03696451708674431, 0.018482258543372154, 0.06982186436653137, 0.018482258543372154, 0.0020535842049866915, 0.006160752847790718, 0.004107168409973383, 0.006160752847790718, 0.004107168409973383, 0.004107168409973383, 0.0020535842049866915, 0.46944448351860046, 0.25513285398483276, 0.05102657526731491, 0.030615944415330887, 0.05102657526731491, 0.09184782952070236, 0.010205314494669437, 0.010205314494669437, 0.020410628989338875, 0.010205314494669437, 0.010205314494669437, 0.5530198216438293, 0.18433994054794312, 0.18433994054794312, 0.6352050304412842, 0.18148714303970337, 0.09074357151985168, 0.33503949642181396, 0.44671931862831116, 0.11167982965707779, 0.11167982965707779, 0.14701329171657562, 0.14701329171657562, 0.5880531668663025, 0.8304218053817749, 0.16608436405658722, 0.6258143782615662, 0.15645359456539154, 0.15645359456539154, 0.5755722522735596, 0.1438930630683899, 0.1438930630683899, 0.1438930630683899, 0.34997692704200745, 0.04860790818929672, 0.3694200813770294, 0.17498846352100372, 0.01944316364824772, 0.01944316364824772, 0.00972158182412386, 0.15780648589134216, 0.15780648589134216, 0.15780648589134216, 0.15780648589134216, 0.15780648589134216, 0.16527105867862701, 0.33054211735725403, 0.16527105867862701, 0.16527105867862701, 0.08067934960126877, 0.436172753572464, 0.2546442151069641, 0.1361464112997055, 0.002521229675039649, 0.032775986939668655, 0.022691067308187485, 0.007563689257949591, 0.012606148608028889, 0.002521229675039649, 0.002521229675039649, 0.005042459350079298, 0.005042459350079298, 0.002521229675039649, 0.046389155089855194, 0.32472407817840576, 0.18555662035942078, 0.18555662035942078, 0.23194576799869537, 0.1960655152797699, 0.46742019057273865, 0.16626356542110443, 0.087837353348732, 0.014116717502474785, 0.021959338337183, 0.025096386671066284, 0.004705572500824928, 0.0031370483338832855, 0.0015685241669416428, 0.004705572500824928, 0.006274096667766571, 0.0015685241669416428, 0.28745323419570923, 0.04956090450286865, 0.5947308540344238, 0.01982436142861843, 0.03964872285723686, 0.11514580249786377, 0.4646233916282654, 0.16160814464092255, 0.14746743440628052, 0.01010050904005766, 0.024241222068667412, 0.05656284838914871, 0.006060305517166853, 0.004040203522890806, 0.004040203522890806, 0.006060305517166853, 0.002020101761445403, 0.32457876205444336, 0.32457876205444336, 0.16228938102722168, 0.3246661126613617, 0.3836963176727295, 0.0590302012860775, 0.02951510064303875, 0.0590302012860775, 0.02951510064303875, 0.02951510064303875, 0.0590302012860775, 0.18912532925605774, 0.18912532925605774, 0.18912532925605774, 0.18912532925605774, 0.18912532925605774, 0.007972736842930317, 0.05846673995256424, 0.0026575790252536535, 0.281703382730484, 0.4677339196205139, 0.11693347990512848, 0.010630316101014614, 0.0026575790252536535, 0.045178841799497604, 0.7620227336883545, 0.04467029869556427, 0.04729796200990677, 0.04467029869556427, 0.034159641712903976, 0.03153197467327118, 0.021021317690610886, 0.005255329422652721, 0.0026276647113263607, 0.0026276647113263607, 0.9827080368995667, 0.1417274922132492, 0.7322587370872498, 0.011810624971985817, 0.011810624971985817, 0.08267437666654587, 0.011810624971985817, 0.011810624971985817, 0.34382086992263794, 0.3762567937374115, 0.11244456470012665, 0.06270946562290192, 0.025948746129870415, 0.03676072135567665, 0.015136768110096455, 0.010811977088451385, 0.0021623955108225346, 0.004324791021645069, 0.004324791021645069, 0.004324791021645069, 0.0021623955108225346, 0.4771190285682678, 0.0553458072245121, 0.15649503469467163, 0.03435257077217102, 0.07443057000637054, 0.18130522966384888, 0.0076339044608175755, 0.0076339044608175755, 0.0038169522304087877, 0.0019084761152043939, 0.45294326543807983, 0.45294326543807983, 0.3134666681289673, 0.29605185985565186, 0.261222243309021, 0.05224444717168808, 0.017414815723896027, 0.017414815723896027, 0.017414815723896027, 0.09337244927883148, 0.5057674646377563, 0.08559141308069229, 0.1556207537651062, 0.02334311231970787, 0.10115349292755127, 0.007781037595123053, 0.007781037595123053, 0.007781037595123053, 0.007781037595123053, 0.5571170449256897, 0.13927926123142242, 0.13927926123142242, 0.3388015031814575, 0.19410502910614014, 0.2399844080209732, 0.10940465331077576, 0.007058364804834127, 0.0811711922287941, 0.0035291824024170637, 0.007058364804834127, 0.007058364804834127, 0.0035291824024170637, 0.014116729609668255, 0.0035291824024170637, 0.41632363200187683, 0.3231392800807953, 0.12174084037542343, 0.05410704016685486, 0.02705352008342743, 0.02705352008342743, 0.0030059467535465956, 0.01052081398665905, 0.006011893507093191, 0.0015029733767732978, 0.0030059467535465956, 0.006011893507093191, 0.0015029733767732978, 0.1898392289876938, 0.1898392289876938, 0.3796784579753876, 0.1898392289876938, 0.9825785160064697, 0.007798242382705212, 0.1907653510570526, 0.1907653510570526, 0.1907653510570526, 0.3815307021141052, 0.8428406715393066, 0.04682448133826256, 0.04682448133826256, 0.02341224066913128, 0.02341224066913128, 0.3375410735607147, 0.421926349401474, 0.16877053678035736, 0.6968987584114075, 0.17422468960285187, 0.27453410625457764, 0.31960684061050415, 0.1475108563899994, 0.08195047825574875, 0.08195047825574875, 0.004097523633390665, 0.05326781049370766, 0.012292571365833282, 0.012292571365833282, 0.00819504726678133, 0.004097523633390665, 0.37069180607795715, 0.3295038342475891, 0.12356393784284592, 0.04118797928094864, 0.08237595856189728, 0.04118797928094864, 0.9707908034324646, 0.21249563992023468, 0.21249563992023468, 0.42499127984046936, 0.7953423261642456, 0.08961603790521622, 0.05601002275943756, 0.011202004738152027, 0.022404009476304054, 0.011202004738152027, 0.1831599771976471, 0.5494799017906189, 0.1831599771976471, 0.9308987855911255, 0.26427698135375977, 0.360377699136734, 0.1922014355659485, 0.0600629486143589, 0.01201258972287178, 0.04805035889148712, 0.01201258972287178, 0.01201258972287178, 0.02402517944574356, 0.01201258972287178, 0.7615001797676086, 0.19037504494190216, 0.2699226438999176, 0.3720555305480957, 0.12401851266622543, 0.1021328940987587, 0.029180826619267464, 0.021885620430111885, 0.014590413309633732, 0.007295206654816866, 0.014590413309633732, 0.007295206654816866, 0.007295206654816866, 0.021885620430111885, 0.16769762337207794, 0.5589920878410339, 0.13974802196025848, 0.027949603274464607, 0.055899206548929214, 0.027949603274464607, 0.027949603274464607, 0.9738706946372986, 0.649118959903717, 0.2093932181596756, 0.02093932218849659, 0.08375728875398636, 0.04187864437699318, 0.5018092393875122, 0.1672697514295578, 0.1672697514295578, 0.1672697514295578, 0.5475749969482422, 0.26495566964149475, 0.026495564728975296, 0.13247783482074738, 0.026495564728975296, 0.06117597594857216, 0.04078398272395134, 0.016313593834638596, 0.008156796917319298, 0.4812510013580322, 0.33442866802215576, 0.004078398458659649, 0.04894078150391579, 0.006326703354716301, 0.6453237533569336, 0.24674144387245178, 0.025306813418865204, 0.044286925345659256, 0.012653406709432602, 0.006326703354716301, 0.006326703354716301, 0.3855578899383545, 0.5140771865844727, 0.6207150220870972, 0.07586516439914703, 0.06896833330392838, 0.03678311035037041, 0.03448416665196419, 0.1080503910779953, 0.006896833423525095, 0.01379366684705019, 0.018391555175185204, 0.006896833423525095, 0.009195777587592602, 0.60211580991745, 0.08967681974172592, 0.08967681974172592, 0.10248779505491257, 0.012810974381864071, 0.012810974381864071, 0.012810974381864071, 0.012810974381864071, 0.06405486911535263, 0.3234492838382721, 0.3234492838382721, 0.16172464191913605, 0.5530874133110046, 0.13827185332775116, 0.20740777254104614, 0.06913592666387558, 0.048442110419273376, 0.33909478783607483, 0.6055263876914978, 0.8633924126625061, 0.12572495639324188, 0.6914872527122498, 0.08000678569078445, 0.02857385203242302, 0.02857385203242302, 0.011429540812969208, 0.011429540812969208, 0.005714770406484604, 0.005714770406484604, 0.005714770406484604, 0.9900999665260315, 0.5266951322555542, 0.07182206213474274, 0.28728824853897095, 0.023940687999129295, 0.07182206213474274, 0.27830079197883606, 0.27830079197883606, 0.27830079197883606, 0.2925427258014679, 0.24091754853725433, 0.20650075376033783, 0.10325037688016891, 0.13766716420650482, 0.017208395525813103, 0.9449224472045898, 0.14861255884170532, 0.6780447959899902, 0.13003598153591156, 0.018576569855213165, 0.35126274824142456, 0.26669949293136597, 0.15936920046806335, 0.14635947346687317, 0.009757298044860363, 0.03252432867884636, 0.019514596089720726, 0.003252432681620121, 0.003252432681620121, 0.006504865363240242, 0.8518934845924377, 0.12169907242059708, 0.033789195120334625, 0.7011258006095886, 0.10136758536100388, 0.10981488972902298, 0.02534189634025097, 0.008447298780083656, 0.016894597560167313, 0.008447298780083656, 0.9388131499290466, 0.2534772753715515, 0.22179262340068817, 0.506954550743103, 0.4015979766845703, 0.17211341857910156, 0.09388004243373871, 0.0912722647190094, 0.15646673738956451, 0.044332243502140045, 0.01564667373895645, 0.01564667373895645, 0.0026077788788825274, 0.0026077788788825274, 0.0026077788788825274, 0.41102296113967896, 0.18341347575187683, 0.15910565853118896, 0.07734303176403046, 0.05156202241778374, 0.07439663261175156, 0.01694180630147457, 0.005892802495509386, 0.005892802495509386, 0.002946401247754693, 0.002946401247754693, 0.005156202241778374, 0.002946401247754693, 0.0014732006238773465, 0.041605088859796524, 0.20802545547485352, 0.22882799804210663, 0.3952483534812927, 0.020802544429898262, 0.05200636386871338, 0.020802544429898262, 0.010401272214949131, 0.010401272214949131, 0.010401272214949131, 0.12368986010551453, 0.8569940328598022, 0.004417494870722294, 0.004417494870722294, 0.9223222136497498, 0.05124012008309364, 0.4767727851867676, 0.20415963232517242, 0.07806103676557541, 0.030023474246263504, 0.09127136319875717, 0.09367324411869049, 0.006004694849252701, 0.004803755786269903, 0.007205633912235498, 0.003602816956117749, 0.0012009389465674758, 0.0012009389465674758, 0.0012009389465674758, 0.07914545387029648, 0.8705999851226807, 0.05675692856311798, 0.8135159611701965, 0.03783795237541199, 0.05675692856311798, 0.02837846428155899, 0.6506661772727966, 0.16266654431819916, 0.07397998869419098, 0.04931999370455742, 0.02465999685227871, 0.04931999370455742, 0.7151399254798889, 0.02465999685227871, 0.04931999370455742, 0.02465999685227871, 0.09662523865699768, 0.46702200174331665, 0.11809751391410828, 0.16641013324260712, 0.026840344071388245, 0.026840344071388245, 0.08588910102844238, 0.005368068814277649, 0.005368068814277649, 0.289943665266037, 0.3238552212715149, 0.1424284726381302, 0.08138769865036011, 0.0525628887116909, 0.055954042822122574, 0.011869039386510849, 0.006782308220863342, 0.006782308220863342, 0.010173462331295013, 0.005086731165647507, 0.003391154110431671, 0.010173462331295013, 0.09229978173971176, 0.39804279804229736, 0.08076231181621552, 0.39227408170700073, 0.005768736358731985, 0.017306208610534668, 0.005768736358731985, 0.005768736358731985, 0.22497926652431488, 0.44995853304862976, 0.03749654442071915, 0.2624758183956146, 0.1446845829486847, 0.45356181263923645, 0.22434239089488983, 0.09266316145658493, 0.016256695613265038, 0.019508033990859985, 0.02763638272881508, 0.009754016995429993, 0.0016256695380434394, 0.0032513390760868788, 0.0016256695380434394, 0.0032513390760868788, 0.0016256695380434394, 0.04856150597333908, 0.825545608997345, 0.04856150597333908, 0.04856150597333908, 0.5791166424751282, 0.1340104639530182, 0.05025392398238182, 0.03828870505094528, 0.0670052319765091, 0.09332871437072754, 0.00957217626273632, 0.011965219862759113, 0.00478608813136816, 0.00239304406568408, 0.00239304406568408, 0.00239304406568408, 0.00239304406568408, 0.5517527461051941, 0.1839175820350647, 0.1839175820350647, 0.10981407761573792, 0.43925631046295166, 0.32944223284721375, 0.23988132178783417, 0.003580318298190832, 0.003580318298190832, 0.046544138342142105, 0.6748899817466736, 0.001790159149095416, 0.007160636596381664, 0.017901591956615448, 0.11109446734189987, 0.19880062341690063, 0.649025559425354, 0.017541231587529182, 0.017541231587529182, 0.42836105823516846, 0.25590401887893677, 0.10569947957992554, 0.033378783613443375, 0.04265066608786583, 0.07973820716142654, 0.02225252240896225, 0.007417507469654083, 0.0055631306022405624, 0.0037087537348270416, 0.0055631306022405624, 0.0037087537348270416, 0.0055631306022405624, 0.10034754127264023, 0.852954089641571, 0.19546367228031158, 0.43734997510910034, 0.16370083391666412, 0.10506172478199005, 0.024432959035038948, 0.03176284581422806, 0.01954636722803116, 0.00488659180700779, 0.00488659180700779, 0.002443295903503895, 0.00488659180700779, 0.002443295903503895, 0.00488659180700779, 0.5621771216392517, 0.18739238381385803, 0.18739238381385803, 0.41617387533187866, 0.13709256052970886, 0.10771559178829193, 0.14688488841056824, 0.13464447855949402, 0.022032734006643295, 0.009792326018214226, 0.009792326018214226, 0.004896163009107113, 0.007344244513660669, 0.30413463711738586, 0.2801240086555481, 0.09604251384735107, 0.15686944127082825, 0.1040460616350174, 0.027212046086788177, 0.011204959824681282, 0.0032014171592891216, 0.008003543131053448, 0.0032014171592891216, 0.0032014171592891216, 0.0016007085796445608, 0.0016007085796445608, 0.32627835869789124, 0.3814239799976349, 0.13939592242240906, 0.08425027877092361, 0.004595469683408737, 0.02910464257001877, 0.012254585511982441, 0.0061272927559912205, 0.0030636463779956102, 0.0061272927559912205, 0.004595469683408737, 0.0030636463779956102, 0.0015318231889978051, 0.770942747592926, 0.05256427824497223, 0.05256427824497223, 0.12264998257160187, 0.38345804810523987, 0.5660570859909058, 0.018259907141327858, 0.018259907141327858, 0.48412808775901794, 0.32275205850601196, 0.279906690120697, 0.279906690120697, 0.1399533450603485, 0.1399533450603485, 0.9763193130493164, 0.32474932074546814, 0.32474932074546814, 0.10824976861476898, 0.10824976861476898, 0.41323205828666687, 0.41323205828666687, 0.08264640718698502, 0.22330334782600403, 0.26180392503738403, 0.45430681109428406, 0.007700115442276001, 0.046200692653656006, 0.5591774582862854, 0.15054777264595032, 0.04301365092396736, 0.12904095649719238, 0.10753412544727325, 0.36742913722991943, 0.15058571100234985, 0.23491370677947998, 0.062242090702056885, 0.0823201835155487, 0.0722811371088028, 0.006023428402841091, 0.002007809467613697, 0.008031237870454788, 0.006023428402841091, 0.006023428402841091, 0.002007809467613697, 0.002007809467613697, 0.002007809467613697, 0.35063329339027405, 0.35063329339027405, 0.17531664669513702, 0.5705019235610962, 0.15541259944438934, 0.07475542277097702, 0.05311569571495056, 0.0570501945912838, 0.060984689742326736, 0.007868992164731026, 0.007868992164731026, 0.005901744123548269, 0.003934496082365513, 0.0019672480411827564, 0.0019672480411827564, 0.9050009846687317, 0.17695191502571106, 0.24129806458950043, 0.466509610414505, 0.09651922434568405, 0.032173074781894684, 0.24692580103874207, 0.40385061502456665, 0.13615535199642181, 0.0761546865105629, 0.032308049499988556, 0.062308378517627716, 0.01153858844190836, 0.006923153530806303, 0.01153858844190836, 0.004615435376763344, 0.004615435376763344, 0.002307717688381672, 0.004615435376763344, 0.002307717688381672, 0.42067790031433105, 0.30752086639404297, 0.09185688197612762, 0.10250695794820786, 0.01996888779103756, 0.01996888779103756, 0.017306368798017502, 0.0026625182945281267, 0.003993777558207512, 0.0013312591472640634, 0.007987555116415024, 0.0013312591472640634, 0.0026625182945281267, 0.5521993041038513, 0.18406642973423004, 0.18406642973423004, 0.0902058556675911, 0.3608234226703644, 0.1804117113351822, 0.1804117113351822, 0.0902058556675911, 0.03581951931118965, 0.39401471614837646, 0.19342540204524994, 0.3725229799747467, 0.6633509993553162, 0.07370566576719284, 0.14741133153438568, 0.3208811283111572, 0.1604405641555786, 0.3208811283111572, 0.23015564680099487, 0.6904669404029846, 0.4952203035354614, 0.1650734394788742, 0.1650734394788742, 0.1650734394788742, 0.9066755771636963, 0.09897755086421967, 0.5938653349876404, 0.1484663337469101, 0.1484663337469101, 0.18619656562805176, 0.18619656562805176, 0.18619656562805176, 0.18619656562805176, 0.18619656562805176, 0.8627837300300598, 0.058492738753557205, 0.7019128203392029, 0.22227239608764648, 0.011698547750711441, 0.10978986322879791, 0.43915945291519165, 0.21957972645759583, 0.10978986322879791, 0.3815547823905945, 0.3815547823905945, 0.7728357315063477, 0.15456713736057281, 0.21385285258293152, 0.21385285258293152, 0.21385285258293152, 0.21385285258293152, 0.73639315366745, 0.1840982884168625, 0.36987268924713135, 0.18493634462356567, 0.18493634462356567, 0.18493634462356567, 0.23610122501850128, 0.39350205659866333, 0.15740081667900085, 0.07870040833950043, 0.15740081667900085, 0.18932443857192993, 0.37864887714385986, 0.18932443857192993, 0.18932443857192993, 0.3361380696296692, 0.1680690348148346, 0.1680690348148346, 0.4897001087665558, 0.36727508902549744, 0.12242502719163895, 0.04438621550798416, 0.3107035160064697, 0.5326346158981323, 0.04438621550798416, 0.04438621550798416, 0.3689202666282654, 0.3689202666282654, 0.1844601333141327, 0.3825569152832031, 0.19127845764160156, 0.19127845764160156, 0.21443885564804077, 0.14742670953273773, 0.6299141645431519, 0.013402428478002548, 0.36955440044403076, 0.36955440044403076, 0.12318480014801025, 0.7312355637550354, 0.18280889093875885, 0.3801600933074951, 0.034560006111860275, 0.48384010791778564, 0.034560006111860275, 0.37411999702453613, 0.08658205717802048, 0.027791772037744522, 0.21271394193172455, 0.20950721204280853, 0.05451463162899017, 0.0032067429274320602, 0.014964800328016281, 0.011758057400584221, 0.00427565723657608, 0.14581748843193054, 0.8262991309165955, 0.9636839032173157, 0.02652340941131115, 0.19219733774662018, 0.38439467549324036, 0.19219733774662018, 0.19219733774662018, 0.4838770925998688, 0.32258471846580505, 0.38095930218696594, 0.12698642909526825, 0.2539728581905365, 0.12698642909526825, 0.35483318567276, 0.16290068626403809, 0.3370915353298187, 0.04354770854115486, 0.02580605074763298, 0.02096741646528244, 0.0032257563434541225, 0.01451590284705162, 0.0016128781717270613, 0.01290302537381649, 0.011290146969258785, 0.011290146969258785, 0.3752431869506836, 0.1876215934753418, 0.1876215934753418, 0.46577468514442444, 0.16634809970855713, 0.17743797600269318, 0.033269621431827545, 0.08871898800134659, 0.011089873500168324, 0.011089873500168324, 0.044359494000673294, 0.979849100112915, 0.6260616183280945, 0.25042465329170227, 0.981917142868042, 0.5699940919876099, 0.18999804556369781, 0.18999804556369781, 0.3059246242046356, 0.37736809253692627, 0.1557101309299469, 0.0604521706700325, 0.04579709842801094, 0.01648695580661297, 0.007327535655349493, 0.010991303250193596, 0.0018318839138373733, 0.007327535655349493, 0.0018318839138373733, 0.0036637678276747465, 0.005495651625096798, 0.13108494877815247, 0.32042989134788513, 0.5267673134803772, 0.0024274990428239107, 0.004854998085647821, 0.012137495912611485, 0.25618815422058105, 0.5123763084411621, 0.12809407711029053, 0.6451651453971863, 0.16129128634929657, 0.4180832505226135, 0.15652035176753998, 0.1683463454246521, 0.07652106136083603, 0.09808608889579773, 0.043825700879096985, 0.011130336672067642, 0.004173876252025366, 0.004173876252025366, 0.011130336672067642, 0.003478230210021138, 0.0013912920840084553, 0.003478230210021138, 0.09551940113306046, 0.4489412009716034, 0.3438698351383209, 0.028655819594860077, 0.057311639189720154, 0.009551940485835075, 0.4732263684272766, 0.10221689939498901, 0.11736013740301132, 0.16278986632823944, 0.060572974383831024, 0.015143243595957756, 0.056787166744470596, 0.003785810898989439, 0.003785810898989439, 0.007571621797978878, 0.590873122215271, 0.11655579507350922, 0.08741684257984161, 0.11979345232248306, 0.030757779255509377, 0.011331813409924507, 0.021044796332716942, 0.0016188304871320724, 0.00647532194852829, 0.00647532194852829, 0.003237660974264145, 0.0016188304871320724, 0.9111387133598328, 0.0661110207438469, 0.0661110207438469, 0.7933322191238403, 0.5749726295471191, 0.11499452590942383, 0.11499452590942383, 0.11499452590942383, 0.12353503704071045, 0.6228224635124207, 0.11838774383068085, 0.09779857099056244, 0.010294586420059204, 0.010294586420059204, 0.005147293210029602, 0.005147293210029602, 0.005147293210029602, 0.9107459783554077, 0.03959765285253525, 0.7351111769676208, 0.1837777942419052, 0.07268539816141129, 0.908567488193512, 0.4107811748981476, 0.15404294431209564, 0.25673824548721313, 0.13692706823349, 0.01711588352918625, 0.01711588352918625, 0.12340389937162399, 0.24680779874324799, 0.34964436292648315, 0.10283657908439636, 0.020567316561937332, 0.020567316561937332, 0.020567316561937332, 0.08226926624774933, 0.10618224740028381, 0.7432757019996643, 0.10618224740028381, 0.36931362748146057, 0.305896133184433, 0.151082843542099, 0.08206969499588013, 0.013056541793048382, 0.04290006682276726, 0.009326101280748844, 0.011191321536898613, 0.0037304405122995377, 0.0037304405122995377, 0.0037304405122995377, 0.0037304405122995377, 0.0018652202561497688, 0.18311041593551636, 0.5493312478065491, 0.18311041593551636, 0.32259228825569153, 0.32259228825569153, 0.16129614412784576, 0.4806543290615082, 0.3685016632080078, 0.016021810472011566, 0.016021810472011566, 0.03204362094402313, 0.0480654314160347, 0.016021810472011566, 0.016021810472011566, 0.31826624274253845, 0.2576441168785095, 0.18403150141239166, 0.0866030603647232, 0.0433015301823616, 0.04763168469071388, 0.030311070382595062, 0.008660306222736835, 0.008660306222736835, 0.008660306222736835, 0.004330153111368418, 0.6281218528747559, 0.09609327465295792, 0.1523429900407791, 0.03515607491135597, 0.06796841323375702, 0.007031214889138937, 0.004687476437538862, 0.004687476437538862, 0.002343738218769431, 0.34414851665496826, 0.17207425832748413, 0.17207425832748413, 0.17207425832748413, 0.2689942419528961, 0.3957813084125519, 0.14906050264835358, 0.09766032546758652, 0.020560069009661674, 0.03255344182252884, 0.010280034504830837, 0.005140017252415419, 0.005140017252415419, 0.005140017252415419, 0.005140017252415419, 0.0034266780130565166, 0.10401155799627304, 0.5623124837875366, 0.18202023208141327, 0.10076119750738144, 0.006500722374767065, 0.009751083329319954, 0.019502166658639908, 0.0032503611873835325, 0.0032503611873835325, 0.0032503611873835325, 0.0032503611873835325, 0.18870513141155243, 0.18870513141155243, 0.37741026282310486, 0.18870513141155243, 0.18870513141155243, 0.15610668063163757, 0.4217882454395294, 0.1688653975725174, 0.10206975787878036, 0.0562884695827961, 0.04578128829598427, 0.02401641383767128, 0.00600410345941782, 0.001501025864854455, 0.00600410345941782, 0.00300205172970891, 0.004503077361732721, 0.0037525645457208157, 0.0007505129324272275, 0.22826677560806274, 0.3631516993045807, 0.2230789065361023, 0.08300609886646271, 0.020751524716615677, 0.005187881179153919, 0.046690933406353, 0.005187881179153919, 0.015563644468784332, 0.005187881179153919, 0.15680056810379028, 0.1829340010881424, 0.13066713511943817, 0.13066713511943817, 0.15680056810379028, 0.05226685479283333, 0.15680056810379028, 0.1078341156244278, 0.4262015223503113, 0.2978275716304779, 0.13864386081695557, 0.01026991568505764, 0.00513495784252882, 0.01540487352758646, 0.27841782569885254, 0.3216504156589508, 0.1758124977350235, 0.07320716977119446, 0.05245553329586983, 0.06571352481842041, 0.013257991522550583, 0.004035040736198425, 0.004035040736198425, 0.004035040736198425, 0.0028821721207350492, 0.003458606544882059, 0.0011528688482940197, 0.0005764344241470098, 0.9908326864242554, 0.013269320130348206, 0.33836767077445984, 0.2587517499923706, 0.35827165842056274, 0.013269320130348206, 0.006634660065174103, 0.950353741645813, 0.9123069047927856, 0.32289183139801025, 0.3729773759841919, 0.13427186012268066, 0.07246417552232742, 0.034100789576768875, 0.027706891298294067, 0.01598474569618702, 0.004262598697096109, 0.005328248254954815, 0.0010656496742740273, 0.00319694890640676, 0.00319694890640676, 0.0010656496742740273, 0.9880027174949646, 0.26448848843574524, 0.2582652270793915, 0.19914425909519196, 0.1275767982006073, 0.04823025315999985, 0.05134188011288643, 0.026448847725987434, 0.009334887377917767, 0.006223258096724749, 0.006223258096724749, 0.0015558145241811872, 0.0015558145241811872, 0.0031116290483623743, 0.2387578785419464, 0.4041624367237091, 0.13951514661312103, 0.09636612981557846, 0.0316426120698452, 0.028766009956598282, 0.0316426120698452, 0.004314901307225227, 0.008629802614450455, 0.004314901307225227, 0.0028766009490936995, 0.0028766009490936995, 0.005753201898187399, 0.0014383004745468497, 0.1939159780740738, 0.34532982110977173, 0.17266491055488586, 0.11422448605298996, 0.05312766507267952, 0.06109681725502014, 0.039845749735832214, 0.002656383439898491, 0.007969150319695473, 0.002656383439898491, 0.23726969957351685, 0.15817978978157043, 0.03954494744539261, 0.35590454936027527, 0.19772474467754364, 0.4394500255584717, 0.24160997569561005, 0.13130977749824524, 0.08578905463218689, 0.007003187667578459, 0.05952709540724754, 0.01050478219985962, 0.012255578301846981, 0.0035015938337892294, 0.008753985166549683, 0.0017507969168946147, 0.4518228769302368, 0.0941297635436058, 0.3953450322151184, 0.0376519076526165, 0.9798085689544678, 0.48218584060668945, 0.063936248421669, 0.42091360688209534, 0.007992031052708626, 0.007992031052708626, 0.0026640102732926607, 0.0026640102732926607, 0.010656041093170643, 0.19197814166545868, 0.6719235181808472, 0.09598907083272934, 0.9914839863777161, 0.05119305104017258, 0.6655096411705017, 0.2559652626514435, 0.1502075493335724, 0.08583288639783859, 0.3004150986671448, 0.21458221971988678, 0.08583288639783859, 0.042916443198919296, 0.08583288639783859, 0.002516120905056596, 0.7070299983024597, 0.18619295954704285, 0.002516120905056596, 0.002516120905056596, 0.01258060522377491, 0.022645089775323868, 0.032709572464227676, 0.02516121044754982, 0.005032241810113192, 0.4544762372970581, 0.46289247274398804, 0.025248680263757706, 0.00841622706502676, 0.01683245413005352, 0.00841622706502676, 0.00841622706502676, 0.00841622706502676, 0.14880043268203735, 0.7440021634101868, 0.2958581745624542, 0.10355035960674286, 0.5325446724891663, 0.029585815966129303, 0.029585815966129303, 0.014792907983064651, 0.46384450793266296, 0.17118071019649506, 0.1634499728679657, 0.06736789643764496, 0.0496976263821125, 0.04417566955089569, 0.017670268192887306, 0.005521958693861961, 0.005521958693861961, 0.0022087835241109133, 0.005521958693861961, 0.0022087835241109133, 0.0022087835241109133, 0.77442866563797, 0.15488572418689728, 0.9053820371627808, 0.031220069155097008, 0.031220069155097008, 0.9589901566505432, 0.9776793718338013, 0.0018005145248025656, 0.014404116198420525, 0.0018005145248025656, 0.0018005145248025656, 0.9554734230041504, 0.6103169322013855, 0.14159351587295532, 0.058590423315763474, 0.05370788648724556, 0.058590423315763474, 0.0341777466237545, 0.014647605828940868, 0.024412676692008972, 0.5664567351341248, 0.022658267989754677, 0.38519057631492615, 0.011329133994877338, 0.016556933522224426, 0.9437452554702759, 0.03311386704444885, 0.13196127116680145, 0.4349834620952606, 0.07819927483797073, 0.2883598208427429, 0.004887454677373171, 0.03909963741898537, 0.014662363566458225, 0.004887454677373171, 0.5037143230438232, 0.100742869079113, 0.402971476316452, 0.10745972394943237, 0.7522180676460266, 0.10745972394943237, 0.9684696793556213, 0.9883269667625427, 0.33134615421295166, 0.16567307710647583, 0.16567307710647583, 0.3238333761692047, 0.16191668808460236, 0.16191668808460236, 0.16191668808460236, 0.04626191034913063, 0.0693928673863411, 0.023130955174565315, 0.04626191034913063, 0.942475438117981, 0.03968317434191704, 0.8548457622528076, 0.03287868574261665, 0.03287868574261665, 0.03287868574261665, 0.3176221549510956, 0.3176221549510956, 0.3176221549510956, 0.13580888509750366, 0.8148532509803772, 0.13564729690551758, 0.5425891876220703, 0.27129459381103516, 0.4280106723308563, 0.10043808817863464, 0.0669587254524231, 0.09059121459722519, 0.1864340901374817, 0.07155393064022064, 0.011159786954522133, 0.011816245503723621, 0.021663116291165352, 0.0006564580835402012, 0.0019693742506206036, 0.0013129161670804024, 0.0013129161670804024, 0.0052516646683216095, 0.8665550947189331, 0.10194765776395798, 0.9110662341117859, 0.7079800963401794, 0.1415960192680359, 0.13826735317707062, 0.6913367509841919, 0.13826735317707062, 0.3653160035610199, 0.28181520104408264, 0.11133439838886261, 0.07654239982366562, 0.04001079872250557, 0.07132360339164734, 0.012177200056612492, 0.012177200056612492, 0.008697999641299248, 0.006958399899303913, 0.0034791999496519566, 0.0034791999496519566, 0.0034791999496519566, 0.6491603851318359, 0.13524174690246582, 0.10819339752197266, 0.027048349380493164, 0.05409669876098633, 0.3963463604450226, 0.5152502655982971, 0.003603148739784956, 0.02161889150738716, 0.007206297479569912, 0.01080944575369358, 0.036031488329172134, 0.8610117435455322, 0.0652281641960144, 0.03913689777255058, 0.013045632280409336, 0.6322440505027771, 0.08279386907815933, 0.141502246260643, 0.0496763214468956, 0.057203035801649094, 0.004516029264777899, 0.01204274408519268, 0.004516029264777899, 0.004516029264777899, 0.00301068602129817, 0.00301068602129817, 0.00602137204259634, 0.001505343010649085, 0.12994787096977234, 0.779687225818634, 0.3691251277923584, 0.3691251277923584, 0.1845625638961792, 0.5542891025543213, 0.27714455127716064, 0.13857227563858032, 0.6343891620635986, 0.15859729051589966, 0.9815201759338379, 0.23799361288547516, 0.3977892994880676, 0.12919652462005615, 0.1325964331626892, 0.044198811054229736, 0.006799817085266113, 0.016999542713165283, 0.006799817085266113, 0.0033999085426330566, 0.0033999085426330566, 0.0033999085426330566, 0.01019972562789917, 0.0033999085426330566, 0.6707972884178162, 0.16769932210445404, 0.06288724392652512, 0.08384966105222702, 0.020962415263056755, 0.13855686783790588, 0.5058937072753906, 0.12727898359298706, 0.15950150787830353, 0.011277884244918823, 0.012889010831713676, 0.016111264005303383, 0.006444505415856838, 0.004833379294723272, 0.011277884244918823, 0.003222252707928419, 0.004833379294723272, 0.18987978994846344, 0.3797595798969269, 0.18987978994846344, 0.18987978994846344, 0.7359417080879211, 0.18398542702198029, 0.7391470670700073, 0.1616884171962738, 0.09239338338375092, 0.5456316471099854, 0.1818772256374359, 0.1818772256374359, 0.5521425008773804, 0.09804399311542511, 0.04644189029932022, 0.04644189029932022, 0.12384504079818726, 0.07740315049886703, 0.015480630099773407, 0.005160210188478231, 0.025801051408052444, 0.005160210188478231, 0.005160210188478231, 0.40437573194503784, 0.20218786597251892, 0.20218786597251892, 0.3308655619621277, 0.16543278098106384, 0.3308655619621277, 0.08271639049053192, 0.3360082805156708, 0.22400552034378052, 0.22400552034378052, 0.22400552034378052, 0.39063596725463867, 0.11896640807390213, 0.08700527995824814, 0.1083126962184906, 0.17933741211891174, 0.06747348606586456, 0.017756178975105286, 0.010653708130121231, 0.0035512358881533146, 0.008878089487552643, 0.0053268540650606155, 0.0017756179440766573, 0.17958727478981018, 0.3737921118736267, 0.18376372754573822, 0.09397009015083313, 0.06264672428369522, 0.03341158479452133, 0.02923513762652874, 0.0020882240496575832, 0.0041764480993151665, 0.012529345229268074, 0.008352896198630333, 0.0041764480993151665, 0.012529345229268074, 0.6689746975898743, 0.16724367439746857, 0.16724367439746857, 0.1335202157497406, 0.408414751291275, 0.18849912285804749, 0.14137433469295502, 0.007854130119085312, 0.023562390357255936, 0.03927065059542656, 0.007854130119085312, 0.03141652047634125, 0.007854130119085312, 0.007854130119085312, 0.007854130119085312, 0.5554777383804321, 0.18515925109386444, 0.18515925109386444, 0.5513284802436829, 0.1837761551141739, 0.1837761551141739, 0.3700093626976013, 0.18500468134880066, 0.3700093626976013, 0.16853994131088257, 0.33707988262176514, 0.16853994131088257, 0.33707988262176514, 0.5597227811813354, 0.13993069529533386, 0.13993069529533386, 0.13993069529533386, 0.06173527240753174, 0.12347054481506348, 0.6285773515701294, 0.00561229744926095, 0.16275663673877716, 0.0112245948985219, 0.00561229744926095, 0.9188206791877747, 0.3336057662963867, 0.2224038541316986, 0.1112019270658493, 0.1112019270658493, 0.1112019270658493, 0.08429303020238876, 0.16858606040477753, 0.4214651584625244, 0.08429303020238876, 0.08429303020238876, 0.08429303020238876, 0.27751901745796204, 0.41627854108810425, 0.27751901745796204, 0.5958727598190308, 0.3724204897880554, 0.6043267846107483, 0.26858967542648315, 0.016786854714155197, 0.06155180186033249, 0.03916933014988899, 0.09541135281324387, 0.8467757701873779, 0.011926419101655483, 0.011926419101655483, 0.011926419101655483, 0.5810749530792236, 0.13252587616443634, 0.020388595759868622, 0.25485745072364807, 0.9858216047286987, 0.847312867641449, 0.05648752301931381, 0.028243761509656906, 0.028243761509656906, 0.5517069101333618, 0.183902308344841, 0.183902308344841, 0.7407605051994324, 0.17880424857139587, 0.07663039863109589, 0.3822081387042999, 0.19110406935214996, 0.19110406935214996, 0.19110406935214996, 0.07093463093042374, 0.1300468146800995, 0.697523832321167, 0.01182243786752224, 0.08275706321001053, 0.19720634818077087, 0.39441269636154175, 0.19720634818077087, 0.09860317409038544, 0.9621975421905518, 0.5697352290153503, 0.11394704133272171, 0.11394704133272171, 0.6097351312637329, 0.27715232968330383, 0.05543046444654465, 0.1495080441236496, 0.49836015701293945, 0.24918007850646973, 0.049836017191410065, 0.28537076711654663, 0.6930432915687561, 0.18387575447559357, 0.18387575447559357, 0.36775150895118713, 0.18387575447559357, 0.3787567615509033, 0.13256487250328064, 0.13256487250328064, 0.12309595197439194, 0.047344595193862915, 0.08522026985883713, 0.018937839195132256, 0.03787567839026451, 0.009468919597566128, 0.018937839195132256, 0.009468919597566128, 0.3998045027256012, 0.26391035318374634, 0.11422985792160034, 0.09453505277633667, 0.04923700541257858, 0.04135908558964729, 0.017725322395563126, 0.003938960377126932, 0.003938960377126932, 0.001969480188563466, 0.003938960377126932, 0.001969480188563466, 0.001969480188563466, 0.003938960377126932, 0.28229525685310364, 0.3831149935722351, 0.07057381421327591, 0.07057381421327591, 0.050409868359565735, 0.03024592064321041, 0.050409868359565735, 0.04032789543271065, 0.010081973858177662, 0.010081973858177662, 0.6087152361869812, 0.12174304574728012, 0.12174304574728012, 0.12174304574728012, 0.12834283709526062, 0.12834283709526062, 0.32085707783699036, 0.06417141854763031, 0.32085707783699036, 0.210813507437706, 0.7688493132591248, 0.1548261046409607, 0.6193044185638428, 0.1548261046409607, 0.9547609686851501, 0.42076388001441956, 0.16729165613651276, 0.09885416179895401, 0.0228124987334013, 0.07350694388151169, 0.15208332240581512, 0.027881942689418793, 0.007604166399687529, 0.005069443956017494, 0.007604166399687529, 0.005069443956017494, 0.002534721978008747, 0.06407153606414795, 0.4805365204811096, 0.28832191228866577, 0.016017884016036987, 0.032035768032073975, 0.016017884016036987, 0.016017884016036987, 0.032035768032073975, 0.032035768032073975, 0.016017884016036987, 0.9476421475410461, 0.7321248054504395, 0.12202080339193344, 0.12202080339193344, 0.7208477258682251, 0.0304583553224802, 0.0406111404299736, 0.13198620080947876, 0.0304583553224802, 0.0304583553224802, 0.12853440642356873, 0.7712064385414124, 0.4605523645877838, 0.19623535871505737, 0.1641969233751297, 0.0841008648276329, 0.020024016499519348, 0.024028819054365158, 0.020024016499519348, 0.004004803020507097, 0.004004803020507097, 0.004004803020507097, 0.004004803020507097, 0.012014409527182579, 0.41251835227012634, 0.27501222491264343, 0.27501222491264343, 0.6843940615653992, 0.1710985153913498, 0.38653039932250977, 0.19326519966125488, 0.19326519966125488, 0.5272136330604553, 0.1757378727197647, 0.1757378727197647, 0.4767678380012512, 0.20087173581123352, 0.1427883356809616, 0.048402827233076096, 0.050822969526052475, 0.038722261786460876, 0.012100706808269024, 0.007260424084961414, 0.009680565446615219, 0.0048402827233076096, 0.0024201413616538048, 0.0024201413616538048, 0.0048402827233076096, 0.13334213197231293, 0.666710615158081, 0.06667106598615646, 0.06667106598615646, 0.5725431442260742, 0.27263960242271423, 0.05452791601419449, 0.10905583202838898, 0.40460002422332764, 0.17777879536151886, 0.17164848744869232, 0.10421515256166458, 0.06743333488702774, 0.03678181767463684, 0.01226060651242733, 0.01226060651242733, 0.006130303256213665, 0.006130303256213665, 0.20097291469573975, 0.5024322867393494, 0.10048645734786987, 0.20097291469573975, 0.5011141896247864, 0.42281508445739746, 0.015659818425774574, 0.015659818425774574, 0.03131963685154915, 0.8988800048828125, 0.45382726192474365, 0.19449740648269653, 0.12966492772102356, 0.06483246386051178, 0.06483246386051178, 0.06483246386051178, 0.2537941038608551, 0.33839213848114014, 0.16919606924057007, 0.08459803462028503, 0.08459803462028503, 0.7172691226005554, 0.17931728065013885, 0.010533170774579048, 0.5477249026298523, 0.22119659185409546, 0.09479854255914688, 0.010533170774579048, 0.021066341549158096, 0.021066341549158096, 0.04213268309831619, 0.010533170774579048, 0.32125237584114075, 0.16062618792057037, 0.32125237584114075, 0.6620451807975769, 0.08827269077301025, 0.13240903615951538, 0.08827269077301025, 0.2440495640039444, 0.3091294467449188, 0.2440495640039444, 0.04880991205573082, 0.04880991205573082, 0.03253994137048721, 0.016269970685243607, 0.016269970685243607, 0.016269970685243607, 0.18675704300403595, 0.4668926000595093, 0.09337852150201797, 0.04668926075100899, 0.09337852150201797, 0.04668926075100899, 0.3658497631549835, 0.18292488157749176, 0.18292488157749176, 0.18292488157749176, 0.12114933878183365, 0.36344802379608154, 0.36344802379608154, 0.12114933878183365, 0.06109430640935898, 0.15273576974868774, 0.7534964680671692, 0.01018238440155983, 0.02036476880311966, 0.2817402780056, 0.2817402780056, 0.2817402780056, 0.24795900285243988, 0.3719385266304016, 0.24795900285243988, 0.46573758125305176, 0.1552458554506302, 0.3104917109012604, 0.3103735148906708, 0.32291385531425476, 0.25080686807632446, 0.05956663191318512, 0.03448594734072685, 0.006270172074437141, 0.006270172074437141, 0.0031350860372185707, 0.7363603711128235, 0.18409009277820587, 0.15998153388500214, 0.15998153388500214, 0.3199630677700043, 0.3199630677700043, 0.5478959679603577, 0.03130834177136421, 0.3835271894931793, 0.007827085442841053, 0.007827085442841053, 0.015654170885682106, 0.18287932872772217, 0.5486379861831665, 0.18287932872772217, 0.30904486775398254, 0.32964786887168884, 0.22663290798664093, 0.020602991804480553, 0.020602991804480553, 0.020602991804480553, 0.041205983608961105, 0.9504936933517456, 0.09873931109905243, 0.19747862219810486, 0.49369654059410095, 0.09873931109905243, 0.08499228954315186, 0.08499228954315186, 0.7649306058883667, 0.11154118180274963, 0.3346235454082489, 0.3346235454082489, 0.05577059090137482, 0.05577059090137482, 0.11154118180274963, 0.22613374888896942, 0.3015116751194, 0.1507558375597, 0.07537791877985, 0.07537791877985, 0.07537791877985, 0.07537791877985, 0.7007468342781067, 0.06864459067583084, 0.05720382183790207, 0.05148344114422798, 0.06006401404738426, 0.045763056725263596, 0.011440764181315899, 0.0057203820906579494, 0.0028601910453289747, 0.3470039963722229, 0.2776032090187073, 0.06940080225467682, 0.06940080225467682, 0.06940080225467682, 0.06940080225467682, 0.13880160450935364, 0.43686893582344055, 0.14562296867370605, 0.14562296867370605, 0.14562296867370605, 0.18352796137332916, 0.3670559227466583, 0.18352796137332916, 0.18352796137332916, 0.6510215401649475, 0.10850359499454498, 0.21700718998908997, 0.36518850922584534, 0.36518850922584534, 0.18259425461292267, 0.12770448625087738, 0.12770448625087738, 0.38311347365379333, 0.12770448625087738, 0.12770448625087738, 0.37954726815223694, 0.37954726815223694, 0.7231791615486145, 0.1339220553636551, 0.12052985280752182, 0.013392206281423569, 0.5740549564361572, 0.19135166704654694, 0.19135166704654694, 0.07380563020706177, 0.5166394114494324, 0.2214168906211853, 0.07380563020706177, 0.07380563020706177, 0.01695580966770649, 0.28824877738952637, 0.6104092001914978, 0.01695580966770649, 0.03391161933541298, 0.01695580966770649, 0.1119762435555458, 0.671857476234436, 0.1119762435555458, 0.14302289485931396, 0.016826221719384193, 0.7683975100517273, 0.04206555709242821, 0.025239333510398865, 0.3356457054615021, 0.3311554789543152, 0.09541767835617065, 0.12684938311576843, 0.0325542651116848, 0.04602499678730965, 0.0190835352987051, 0.00224512186832726, 0.00112256093416363, 0.00224512186832726, 0.00224512186832726, 0.00224512186832726, 0.00112256093416363, 0.21204042434692383, 0.38167276978492737, 0.028272056952118874, 0.14136028289794922, 0.028272056952118874, 0.08481617271900177, 0.1130882278084755, 0.08718878775835037, 0.588524341583252, 0.13950206339359283, 0.12206430733203888, 0.008718878962099552, 0.03051607683300972, 0.013078318908810616, 0.004359439481049776, 0.004359439481049776, 0.004359439481049776, 0.7586775422096252, 0.14049583673477173, 0.08429750800132751, 0.9832392334938049, 0.1349719911813736, 0.5258283615112305, 0.16027924418449402, 0.08154557645320892, 0.05061449855566025, 0.0168714988976717, 0.01124766655266285, 0.005623833276331425, 0.005623833276331425, 0.0028119166381657124, 0.0028119166381657124, 0.9309468865394592, 0.062063127756118774, 0.6773368120193481, 0.16933420300483704, 0.01411118358373642, 0.01411118358373642, 0.02822236716747284, 0.05644473433494568, 0.02822236716747284, 0.9307828545570374, 0.4291635751724243, 0.2032880038022995, 0.13552534580230713, 0.045175112783908844, 0.045175112783908844, 0.022587556391954422, 0.06776267290115356, 0.022587556391954422, 0.5692048072814941, 0.18973493576049805, 0.18973493576049805, 0.33902397751808167, 0.3079683482646942, 0.1358683854341507, 0.09963681548833847, 0.03364359959959984, 0.028467662632465363, 0.021997738629579544, 0.003881953889504075, 0.006469923071563244, 0.010351876728236675, 0.0012939845910295844, 0.006469923071563244, 0.003881953889504075, 0.7273623943328857, 0.18184059858322144, 0.2667149007320404, 0.6667872667312622, 0.061006028205156326, 0.4392434060573578, 0.37823739647865295, 0.07320723682641983, 0.004067068453878164, 0.016268273815512657, 0.008134136907756329, 0.008134136907756329, 0.004067068453878164, 0.004067068453878164, 0.004067068453878164, 0.8983101844787598, 0.9311244487762451, 0.05668916553258896, 0.17006750404834747, 0.6802700161933899, 0.11129305511713028, 0.5564652681350708, 0.22258611023426056, 0.3738095760345459, 0.3017498850822449, 0.13511188328266144, 0.07431153953075409, 0.029274243861436844, 0.0315261073410511, 0.022518647834658623, 0.006755594629794359, 0.006755594629794359, 0.0022518648765981197, 0.0022518648765981197, 0.0045037297531962395, 0.009007459506392479, 0.0022518648765981197, 0.8480875492095947, 0.09423194825649261, 0.48302897810935974, 0.24151448905467987, 0.12075724452733994, 0.40311717987060547, 0.25421804189682007, 0.1670575588941574, 0.054475292563438416, 0.00726337218657136, 0.03994854912161827, 0.03268517553806305, 0.00363168609328568, 0.00726337218657136, 0.018158430233597755, 0.00363168609328568, 0.00363168609328568, 0.1703222095966339, 0.1703222095966339, 0.1703222095966339, 0.3406444191932678, 0.1703222095966339, 0.3349546492099762, 0.2758450210094452, 0.04597416892647743, 0.1576257199048996, 0.09194833785295486, 0.026270953938364983, 0.006567738484591246, 0.026270953938364983, 0.013135476969182491, 0.006567738484591246, 0.013135476969182491, 0.5434751510620117, 0.040257420390844345, 0.10064355283975601, 0.08051484078168869, 0.020128710195422173, 0.10064355283975601, 0.06038612872362137, 0.020128710195422173, 0.020128710195422173, 0.020128710195422173, 0.408524751663208, 0.23948003351688385, 0.1972188502550125, 0.04226118326187134, 0.02817412093281746, 0.02817412093281746, 0.01408706046640873, 0.01408706046640873, 0.02817412093281746, 0.3528618812561035, 0.4116722047328949, 0.17643094062805176, 0.058810312300920486, 0.12928256392478943, 0.25856512784957886, 0.12928256392478943, 0.25856512784957886, 0.12928256392478943, 0.8636013269424438, 0.4067821204662323, 0.16400764882564545, 0.1564546674489975, 0.10789976269006729, 0.08847780525684357, 0.03884391486644745, 0.015105967409908772, 0.005394988227635622, 0.00863198097795248, 0.005394988227635622, 0.00215799524448812, 0.00215799524448812, 0.6882787942886353, 0.08003241568803787, 0.09603890031576157, 0.06402593106031418, 0.016006482765078545, 0.016006482765078545, 0.04801945015788078, 0.06974418461322784, 0.2789767384529114, 0.20923255383968353, 0.06974418461322784, 0.1394883692264557, 0.1394883692264557, 0.06974418461322784, 0.2934606075286865, 0.3468170762062073, 0.26678234338760376, 0.08003471046686172, 0.7978225946426392, 0.12410574406385422, 0.03545878455042839, 0.03545878455042839, 0.745814859867096, 0.1657366305589676, 0.0828683152794838, 0.3376677930355072, 0.049657028168439865, 0.02979421615600586, 0.5247092247009277, 0.028138982132077217, 0.0215180441737175, 0.001655234256759286, 0.004965702537447214, 0.001655234256759286, 0.9085626006126404, 0.010383572429418564, 0.02595893107354641, 0.017305953428149223, 0.010383572429418564, 0.0017305953660979867, 0.005191786214709282, 0.005191786214709282, 0.0017305953660979867, 0.006922381464391947, 0.006922381464391947, 0.7572623491287231, 0.03813551366329193, 0.12530240416526794, 0.021791722625494003, 0.016343791037797928, 0.02723965235054493, 0.005447930656373501, 0.5014035105705261, 0.3342690169811249, 0.24238011240959167, 0.3635701835155487, 0.12119005620479584, 0.06059502810239792, 0.12119005620479584, 0.6332377195358276, 0.3166188597679138, 0.48409417271614075, 0.3227294683456421, 0.16977517306804657, 0.8488758206367493, 0.5644376873970032, 0.37629178166389465, 0.09425956010818481, 0.7540764808654785, 0.09425956010818481, 0.23284903168678284, 0.22903183102607727, 0.2748382091522217, 0.09924712777137756, 0.04962356388568878, 0.05344076082110405, 0.01908598653972149, 0.015268788672983646, 0.0038171971682459116, 0.0038171971682459116, 0.007634394336491823, 0.011451591737568378, 0.0038171971682459116, 0.3460395336151123, 0.017301976680755615, 0.04325494170188904, 0.06055691838264465, 0.4238984286785126, 0.10381186008453369, 0.11187070608139038, 0.11187070608139038, 0.5034182071685791, 0.11187070608139038, 0.05593535304069519, 0.05593535304069519, 0.15462452173233032, 0.6184980869293213, 0.15462452173233032, 0.18265719711780548, 0.7638391852378845, 0.016605200245976448, 0.016605200245976448, 0.9449243545532227, 0.18799832463264465, 0.3759966492652893, 0.3759966492652893, 0.5491750240325928, 0.3661166727542877, 0.18305833637714386, 0.5375441312789917, 0.15512295067310333, 0.08617942035198212, 0.0754069909453392, 0.061402834951877594, 0.061402834951877594, 0.00754069909453392, 0.004308971110731363, 0.004308971110731363, 0.0021544855553656816, 0.0032317282166332006, 0.0010772427776828408, 0.0010772427776828408, 0.18175442516803741, 0.7997194528579712, 0.21811234951019287, 0.30535727739334106, 0.14722584187984467, 0.07361292093992233, 0.08997134119272232, 0.12268819659948349, 0.019084829837083817, 0.008179212920367718, 0.0027264044620096684, 0.005452808924019337, 0.0027264044620096684, 0.0027264044620096684, 0.14095883071422577, 0.5168490409851074, 0.11276707053184509, 0.16915060579776764, 0.037589021027088165, 0.009397255256772041, 0.2033766359090805, 0.47454550862312317, 0.13558442890644073, 0.06779221445322037, 0.06779221445322037, 0.3658316731452942, 0.3658316731452942, 0.1829158365726471, 0.1823793351650238, 0.547137975692749, 0.1823793351650238, 0.36789315938949585, 0.25031906366348267, 0.19342835247516632, 0.05689069256186485, 0.02275627665221691, 0.06068340688943863, 0.018963564187288284, 0.007585425861179829, 0.007585425861179829, 0.0037927129305899143, 0.011378138326108456, 0.7437102198600769, 0.18592755496501923, 0.17425911128520966, 0.6970364451408386, 0.041299741715192795, 0.3665352165699005, 0.5317341685295105, 0.020649870857596397, 0.010324935428798199, 0.025812339037656784, 0.5533918142318726, 0.11067835986614227, 0.11067835986614227, 0.11067835986614227, 0.39356729388237, 0.1996355950832367, 0.10837360471487045, 0.07985423505306244, 0.051334865391254425, 0.11407747864723206, 0.01711162179708481, 0.02281549572944641, 0.005703873932361603, 0.4593450129032135, 0.18373800814151764, 0.3674760162830353, 0.7356913089752197, 0.18392282724380493, 0.17435012757778168, 0.6974005103111267, 0.9653974771499634, 0.09847553819417953, 0.5939306020736694, 0.15386803448200226, 0.11693970113992691, 0.009232081472873688, 0.0030773605685681105, 0.006154721137136221, 0.0030773605685681105, 0.009232081472873688, 0.006154721137136221, 0.6978439092636108, 0.09969198703765869, 0.09969198703765869, 0.056753791868686676, 0.9080606698989868, 0.45735687017440796, 0.22867843508720398, 0.09528268128633499, 0.057169608771800995, 0.09528268128633499, 0.019056536257267, 0.038113072514534, 0.09613950550556183, 0.672976553440094, 0.09613950550556183, 0.09613950550556183, 0.1906168907880783, 0.38952144980430603, 0.23205533623695374, 0.10773997753858566, 0.008287690579891205, 0.008287690579891205, 0.008287690579891205, 0.01657538115978241, 0.008287690579891205, 0.024863071739673615, 0.008287690579891205, 0.7971965074539185, 0.11388520896434784, 0.9362408518791199, 0.4141502380371094, 0.2070751190185547, 0.13805007934570312, 0.2070751190185547, 0.03451251983642578, 0.02902749367058277, 0.7063356637954712, 0.12578579783439636, 0.06773081421852112, 0.02902749367058277, 0.019351661205291748, 0.019351661205291748, 0.6165605187416077, 0.15414012968540192, 0.15414012968540192, 0.04404003545641899, 0.17292387783527374, 0.5187716484069824, 0.17292387783527374, 0.5114108324050903, 0.11776968836784363, 0.07743760198354721, 0.056464921683073044, 0.14842207729816437, 0.05969148874282837, 0.009679700247943401, 0.004839850123971701, 0.0016132834134623408, 0.004839850123971701, 0.0032265668269246817, 0.0016132834134623408, 0.0016132834134623408, 0.0016132834134623408, 0.15027429163455963, 0.27550286054611206, 0.5510057210922241, 0.025045715272426605, 0.14337469637393951, 0.28674939274787903, 0.5448238253593445, 0.20135727524757385, 0.7047504782676697, 0.10067863762378693, 0.7967270612716675, 0.11381815373897552, 0.9391294121742249, 0.8893551230430603, 0.0684119313955307, 0.9578505158424377, 0.03684040531516075, 0.25439679622650146, 0.5451359748840332, 0.03634239733219147, 0.07268479466438293, 0.03634239733219147, 0.03634239733219147, 0.03634239733219147, 0.4492713510990143, 0.26956281065940857, 0.08985427021980286, 0.08985427021980286, 0.1510583758354187, 0.3826812207698822, 0.1510583758354187, 0.1611289232969284, 0.0503527894616127, 0.0906350240111351, 0.010070557706058025, 0.010070557706058025, 0.03367548808455467, 0.5388078093528748, 0.2357284277677536, 0.08418872207403183, 0.05051323398947716, 0.05051323398947716, 0.219119131565094, 0.0912996381521225, 0.6756173372268677, 0.013779600150883198, 0.45472681522369385, 0.45472681522369385, 0.013779600150883198, 0.013779600150883198, 0.013779600150883198, 0.013779600150883198, 0.12376923114061356, 0.6807307600975037, 0.06188461557030678, 0.06188461557030678, 0.03094230778515339, 0.03094230778515339, 0.37892043590545654, 0.20147477090358734, 0.19777798652648926, 0.10905514657497406, 0.024029100313782692, 0.03696784749627113, 0.016635531559586525, 0.0055451770313084126, 0.0018483923049643636, 0.009241961874067783, 0.011090354062616825, 0.003696784609928727, 0.0055451770313084126, 0.182619109749794, 0.5478573441505432, 0.182619109749794, 0.013874148018658161, 0.44397273659706116, 0.04162244126200676, 0.4300985634326935, 0.013874148018658161, 0.04162244126200676, 0.44397637248039246, 0.07525023072957993, 0.06145435571670532, 0.05643767490983009, 0.20066729187965393, 0.1254170536994934, 0.010033364407718182, 0.008779194205999374, 0.01254170574247837, 0.0025083411019295454, 0.0012541705509647727, 0.471098393201828, 0.10959316790103912, 0.14992953836917877, 0.09208869934082031, 0.09893827140331268, 0.04109743610024452, 0.017504462972283363, 0.006088509224355221, 0.004566381685435772, 0.003805318148806691, 0.0030442546121776104, 0.0015221273060888052, 0.0015221273060888052, 0.38500961661338806, 0.38500961661338806, 0.18113534152507782, 0.79498291015625, 0.01006307452917099, 0.28851747512817383, 0.31474635004997253, 0.16786471009254456, 0.09180101752281189, 0.04196617752313614, 0.053332019597291946, 0.014863021671772003, 0.008742953650653362, 0.005245772190392017, 0.005245772190392017, 0.006120067555457354, 0.0008742953650653362, 0.0017485907301306725, 0.0008742953650653362, 0.703313946723938, 0.11223094910383224, 0.02992825396358967, 0.02244619093835354, 0.007482063490897417, 0.007482063490897417, 0.03741031885147095, 0.007482063490897417, 0.05237444490194321, 0.007482063490897417, 0.6598731875419617, 0.21995772421360016, 0.8631182909011841, 0.5452564358711243, 0.18175214529037476, 0.18175214529037476, 0.4439479112625122, 0.25922301411628723, 0.10110457986593246, 0.06233515217900276, 0.052452750504016876, 0.04789164289832115, 0.011402771808207035, 0.002280554501339793, 0.005321293603628874, 0.006081478204578161, 0.002280554501339793, 0.0038009239360690117, 0.002280554501339793, 0.33475202322006226, 0.16737601161003113, 0.33475202322006226, 0.8944995403289795, 0.04259521886706352, 0.5492947101593018, 0.3661964535713196, 0.1830982267856598, 0.4604480564594269, 0.17689530551433563, 0.0936504527926445, 0.10145466029644012, 0.054629430174827576, 0.04942663013935089, 0.026014015078544617, 0.005202802829444408, 0.002601401414722204, 0.010405605658888817, 0.002601401414722204, 0.0156084094196558, 0.002601401414722204, 0.5507306456565857, 0.18357688188552856, 0.18357688188552856, 0.24494406580924988, 0.3623552620410919, 0.20445744693279266, 0.09311923384666443, 0.03036496788263321, 0.010121655650436878, 0.022267643362283707, 0.004048662260174751, 0.010121655650436878, 0.008097324520349503, 0.004048662260174751, 0.006072993390262127, 0.16831906139850616, 0.08415953069925308, 0.5049571990966797, 0.08415953069925308, 0.16831906139850616, 0.16327661275863647, 0.4898298680782318, 0.16327661275863647, 0.11506148427724838, 0.17259222269058228, 0.6328381299972534, 0.05753074213862419, 0.8832964897155762, 0.1388826221227646, 0.41664785146713257, 0.2777652442455292, 0.16491225361824036, 0.16491225361824036, 0.49473676085472107, 0.905350387096405, 0.9316301345825195, 0.06351657956838608, 0.871084451675415, 0.01814759336411953, 0.009073796682059765, 0.009073796682059765, 0.009073796682059765, 0.01814759336411953, 0.5474070310592651, 0.18246899545192719, 0.18246899545192719, 0.3783850371837616, 0.3178434371948242, 0.12865090370178223, 0.052973903715610504, 0.0075677004642784595, 0.052973903715610504, 0.030270801857113838, 0.022703101858496666, 0.0075677004642784595, 0.5870195627212524, 0.19567318260669708, 0.09783659130334854, 0.27609941363334656, 0.3681325614452362, 0.1840662807226181, 0.09203314036130905, 0.09203314036130905, 0.18278907239437103, 0.5483672022819519, 0.18278907239437103, 0.9167231917381287, 0.05392489209771156, 0.5693836808204651, 0.18979455530643463, 0.18979455530643463, 0.8694184422492981, 0.08694184571504593, 0.2094048261642456, 0.575863242149353, 0.0523512065410614, 0.0523512065410614, 0.36463648080825806, 0.24309098720550537, 0.24309098720550537, 0.12154549360275269, 0.3616408109664917, 0.3616408109664917, 0.09041020274162292, 0.09041020274162292, 0.17337146401405334, 0.17337146401405334, 0.17337146401405334, 0.17337146401405334, 0.17337146401405334, 0.43444156646728516, 0.43444156646728516, 0.08145779371261597, 0.027152597904205322, 0.37043339014053345, 0.37043339014053345, 0.18521669507026672, 0.7376799583435059, 0.08196444064378738, 0.08196444064378738, 0.3804788291454315, 0.3804788291454315, 0.19023941457271576, 0.3629606366157532, 0.3629606366157532, 0.1814803183078766, 0.1814803183078766, 0.5711526870727539, 0.19038423895835876, 0.19038423895835876, 0.28552135825157166, 0.6281469464302063, 0.05710427090525627, 0.4706352949142456, 0.3137568533420563, 0.15687842667102814, 0.15687842667102814, 0.1283736228942871, 0.898615300655365, 0.7934222221374512, 0.0991777777671814, 0.48812857270240784, 0.4453102648258209, 0.008563659153878689, 0.025690976530313492, 0.017127318307757378, 0.8296449780464172, 0.026337934657931328, 0.09218277037143707, 0.013168967328965664, 0.013168967328965664, 0.013168967328965664, 0.03332246467471123, 0.8164003491401672, 0.1332898586988449, 0.016661232337355614, 0.9814563989639282, 0.1578093022108078, 0.3156186044216156, 0.1578093022108078, 0.3156186044216156, 0.37757790088653564, 0.20116855204105377, 0.1454603374004364, 0.061898019164800644, 0.07427762448787689, 0.06499291956424713, 0.009284703060984612, 0.012379603460431099, 0.02166430652141571, 0.009284703060984612, 0.02166430652141571, 0.35384663939476013, 0.23686060309410095, 0.1603141874074936, 0.07943495362997055, 0.06499223411083221, 0.062103692442178726, 0.02021980658173561, 0.005777087993919849, 0.0028885439969599247, 0.007221359759569168, 0.0028885439969599247, 0.0028885439969599247, 0.0014442719984799623, 0.18972046673297882, 0.18972046673297882, 0.37944093346595764, 0.2776657044887543, 0.37089651823043823, 0.14389973878860474, 0.12971244752407074, 0.02432108297944069, 0.010133784264326096, 0.01824081316590309, 0.0020267569925636053, 0.006080270744860172, 0.006080270744860172, 0.004053513985127211, 0.004053513985127211, 0.0020267569925636053, 0.05568196251988411, 0.3940569758415222, 0.5289786458015442, 0.0021416139788925648, 0.0021416139788925648, 0.014991297386586666, 0.32085105776786804, 0.16042552888393402, 0.5614893436431885, 0.05776585638523102, 0.6931902766227722, 0.23106342554092407, 0.12355659157037735, 0.37066978216171265, 0.37066978216171265, 0.02994428388774395, 0.7314960956573486, 0.08555509895086288, 0.08127734065055847, 0.004277755040675402, 0.008555510081350803, 0.03849979490041733, 0.004277755040675402, 0.012833264656364918, 0.004277755040675402, 0.9948379397392273, 0.48546910285949707, 0.09994951635599136, 0.0928102657198906, 0.14278502762317657, 0.021417753770947456, 0.09994951635599136, 0.021417753770947456, 0.014278503134846687, 0.017848128452897072, 0.003569625783711672, 0.97916579246521, 0.014122583903372288, 0.06181464344263077, 0.587239146232605, 0.14423416554927826, 0.14423416554927826, 0.020604882389307022, 0.010302441194653511, 0.020604882389307022, 0.144654780626297, 0.578619122505188, 0.144654780626297, 0.5816023349761963, 0.19386744499206543, 0.19386744499206543, 0.3424166142940521, 0.3424166142940521, 0.08560415357351303, 0.17120830714702606, 0.10119540244340897, 0.4354468882083893, 0.4262472987174988, 0.0030665271915495396, 0.012266108766198158, 0.018399164080619812, 0.29972171783447266, 0.21912428736686707, 0.17882557213306427, 0.11334014683961868, 0.08311610668897629, 0.05792941153049469, 0.007556010037660599, 0.007556010037660599, 0.022668030112981796, 0.0025186699349433184, 0.007556010037660599, 0.24350573122501373, 0.26404234766960144, 0.29044660925865173, 0.09388172626495361, 0.014669019728899002, 0.038139451295137405, 0.011735215783119202, 0.017602823674678802, 0.005867607891559601, 0.005867607891559601, 0.0029338039457798004, 0.008801411837339401, 0.12396194785833359, 0.5165081024169922, 0.18594291806221008, 0.08264129608869553, 0.02066032402217388, 0.02066032402217388, 0.04132064804434776, 0.13961835205554962, 0.5584734082221985, 0.13961835205554962, 0.5353748202323914, 0.35691654682159424, 0.17845827341079712, 0.4895532727241516, 0.14142650365829468, 0.1523054540157318, 0.04351584613323212, 0.06527376919984818, 0.02175792306661606, 0.054394807666540146, 0.02175792306661606, 0.01087896153330803, 0.5393987894058228, 0.17979960143566132, 0.17979960143566132, 0.28952932357788086, 0.1606636792421341, 0.17237873375415802, 0.19580885767936707, 0.1037619560956955, 0.026777280494570732, 0.02175653912127018, 0.008367899805307388, 0.010041479952633381, 0.0033471600618213415, 0.006694320123642683, 0.0016735800309106708, 0.0016735800309106708, 0.7306218147277832, 0.12177029997110367, 0.12177029997110367, 0.07326129078865051, 0.8791355490684509, 0.8148357272148132, 0.11640509963035583, 0.49145156145095825, 0.17283464968204498, 0.09768914431333542, 0.0631222203373909, 0.0991920605301857, 0.042081478983163834, 0.015029099769890308, 0.00450873002409935, 0.001502909930422902, 0.00450873002409935, 0.00450873002409935, 0.003005819860845804, 0.405364453792572, 0.12160933762788773, 0.202682226896286, 0.24321867525577545], \"Term\": [\"abandon\", \"abandon\", \"abbot\", \"absolutely\", \"absolutely\", \"absolutely\", \"absolutely\", \"absolutely\", \"absolutely\", \"absolutely\", \"absolutely\", \"absolutely\", \"abstracted\", \"abstracted\", \"abstracted\", \"abstracted\", \"accomplishment\", \"accomplishment\", \"aches\", \"aches\", \"acted\", \"acted\", \"acted\", \"acted\", \"acted\", \"acted\", \"adele\", \"adele\", \"adele\", \"adele\", \"admirably\", \"admirably\", \"admirably\", \"admirably\", \"adopted\", \"adopted\", \"adopted\", \"adopted\", \"adopted\", \"adopted\", \"aghast\", \"aghast\", \"aghast\", \"air\", \"air\", \"air\", \"air\", \"air\", \"air\", \"air\", \"air\", \"air\", \"air\", \"air\", \"air\", \"air\", \"airing\", \"airing\", \"airing\", \"airing\", \"alfred\", \"alfred\", \"alfred\", \"alfred\", \"allez\", \"allez\", \"allez\", \"ami\", \"ami\", \"ami\", \"ami\", \"amour\", \"amour\", \"amy\", \"amy\", \"amy\", \"anecdote\", \"anecdote\", \"anecdote\", \"angry\", \"angry\", \"angry\", \"angry\", \"angry\", \"angry\", \"angry\", \"angry\", \"angry\", \"angry\", \"apples\", \"apples\", \"apples\", \"apples\", \"apples\", \"apples\", \"arithmetic\", \"arithmetic\", \"arithmetic\", \"arithmetic\", \"assemblage\", \"athenee\", \"athenee\", \"athenee\", \"attic\", \"attic\", \"attic\", \"avarice\", \"avarice\", \"avarice\", \"await\", \"await\", \"await\", \"away\", \"away\", \"away\", \"away\", \"away\", \"away\", \"away\", \"away\", \"away\", \"away\", \"away\", \"away\", \"away\", \"away\", \"badly\", \"badly\", \"badly\", \"badly\", \"bars\", \"bars\", \"barton\", \"barton\", \"bassompierre\", \"bassompierre\", \"bassompierre\", \"bassompierre\", \"bassompierre\", \"bates\", \"bates\", \"bates\", \"bates\", \"bates\", \"bateses\", \"bateses\", \"bath\", \"bath\", \"bath\", \"bath\", \"battle\", \"battle\", \"battle\", \"battle\", \"bear\", \"bear\", \"bear\", \"bear\", \"bear\", \"bear\", \"bear\", \"bear\", \"bear\", \"bear\", \"bear\", \"bear\", \"bear\", \"bearded\", \"bearded\", \"beck\", \"beck\", \"beck\", \"beck\", \"beck\", \"bed\", \"bed\", \"bed\", \"bed\", \"bed\", \"bed\", \"bed\", \"bed\", \"befall\", \"befall\", \"befall\", \"behaviour\", \"behaviour\", \"behaviour\", \"behaviour\", \"behaviour\", \"behaviour\", \"believe\", \"believe\", \"believe\", \"believe\", \"believe\", \"believe\", \"believe\", \"believe\", \"believe\", \"believe\", \"believe\", \"believe\", \"believe\", \"benches\", \"benefactress\", \"benefactress\", \"benevolence\", \"benevolence\", \"benevolence\", \"benevolence\", \"benevolence\", \"benevolence\", \"bennet\", \"bertha\", \"bertha\", \"bessie\", \"bessie\", \"bessie\", \"bessie\", \"bessie\", \"bestowing\", \"bestowing\", \"better\", \"better\", \"better\", \"better\", \"better\", \"better\", \"better\", \"better\", \"better\", \"better\", \"better\", \"better\", \"better\", \"better\", \"bible\", \"bible\", \"bible\", \"bible\", \"bigben\", \"bigben\", \"bingley\", \"black\", \"black\", \"black\", \"black\", \"black\", \"black\", \"black\", \"blanche\", \"blanche\", \"blanche\", \"blanche\", \"blanche\", \"blanche\", \"blended\", \"blended\", \"blended\", \"blindness\", \"blindness\", \"blindness\", \"blindness\", \"block\", \"block\", \"block\", \"blue\", \"blue\", \"blue\", \"blue\", \"blue\", \"blue\", \"blue\", \"blue\", \"blue\", \"bodily\", \"bodily\", \"bodily\", \"body\", \"body\", \"body\", \"body\", \"body\", \"body\", \"body\", \"body\", \"body\", \"bois\", \"bondage\", \"bondage\", \"bondage\", \"book\", \"book\", \"book\", \"book\", \"book\", \"book\", \"book\", \"book\", \"boundary\", \"boundary\", \"bourgh\", \"bracelet\", \"bracelet\", \"bragge\", \"brand\", \"brand\", \"brand\", \"brand\", \"brandon\", \"brandon\", \"bretton\", \"bretton\", \"bretton\", \"bretton\", \"bretton\", \"bretton\", \"bretton\", \"brevity\", \"brevity\", \"brevity\", \"brevity\", \"briggs\", \"briggs\", \"brightly\", \"brightly\", \"brightly\", \"brilliantly\", \"brilliantly\", \"brittle\", \"brittle\", \"brittle\", \"brittle\", \"brittle\", \"broad\", \"broad\", \"broad\", \"broad\", \"broad\", \"broad\", \"broad\", \"brocklehurst\", \"brocklehurst\", \"brocklehurst\", \"brocklehurst\", \"brother\", \"brother\", \"brother\", \"brother\", \"brother\", \"brother\", \"brother\", \"brother\", \"brother\", \"brunswick\", \"brunswick\", \"brunswick\", \"brunswick\", \"bunch\", \"bunch\", \"bunch\", \"burns\", \"burns\", \"burns\", \"burns\", \"butter\", \"butter\", \"cakes\", \"cakes\", \"cakes\", \"cakes\", \"cakes\", \"came\", \"came\", \"came\", \"came\", \"came\", \"came\", \"came\", \"came\", \"came\", \"came\", \"came\", \"came\", \"came\", \"campbell\", \"campbell\", \"campbells\", \"campbells\", \"car\", \"car\", \"car\", \"cares\", \"cares\", \"cares\", \"cares\", \"cares\", \"cares\", \"carriage\", \"carriage\", \"carriage\", \"carriage\", \"carriage\", \"carriage\", \"carriage\", \"carriage\", \"carriage\", \"carriage\", \"carriage\", \"carriage\", \"caste\", \"caste\", \"caste\", \"caste\", \"casting\", \"catherine\", \"catherine\", \"catherine\", \"catherine\", \"chalk\", \"chalk\", \"charade\", \"charade\", \"charade\", \"charlotte\", \"chateau\", \"chateau\", \"chateau\", \"cholmondeley\", \"cholmondeley\", \"cholmondeley\", \"churchill\", \"churchill\", \"churchill\", \"churchill\", \"churchill\", \"churchills\", \"churchills\", \"churchills\", \"city\", \"city\", \"city\", \"city\", \"claiming\", \"claiming\", \"claiming\", \"claiming\", \"claiming\", \"clamour\", \"clamour\", \"classe\", \"classe\", \"classe\", \"classe\", \"classes\", \"classes\", \"clenched\", \"cloaks\", \"cloaks\", \"cloaks\", \"cloaks\", \"closed\", \"closed\", \"closed\", \"closed\", \"closed\", \"closed\", \"closed\", \"closed\", \"coarsely\", \"coffee\", \"coffee\", \"coffee\", \"coffee\", \"coffee\", \"coffee\", \"cole\", \"cole\", \"cole\", \"cole\", \"collation\", \"collation\", \"collation\", \"collation\", \"collins\", \"colonel\", \"colonel\", \"colonel\", \"colonel\", \"colonel\", \"colonel\", \"colonel\", \"colours\", \"colours\", \"colours\", \"come\", \"come\", \"come\", \"come\", \"come\", \"come\", \"come\", \"come\", \"come\", \"come\", \"come\", \"come\", \"command\", \"command\", \"command\", \"command\", \"command\", \"command\", \"command\", \"command\", \"command\", \"commissioned\", \"commissioned\", \"commissioned\", \"commit\", \"commit\", \"commit\", \"commit\", \"commit\", \"communicates\", \"communicates\", \"communicates\", \"compel\", \"compel\", \"complexion\", \"complexion\", \"complexion\", \"complexion\", \"complexion\", \"complexion\", \"complexion\", \"complexion\", \"complexion\", \"complexion\", \"comprehension\", \"comprehension\", \"comprehension\", \"comprehension\", \"comprehension\", \"concession\", \"concession\", \"concession\", \"concession\", \"confines\", \"confines\", \"confines\", \"conformity\", \"confusion\", \"confusion\", \"confusion\", \"confusion\", \"confusion\", \"confusion\", \"confusion\", \"confusion\", \"conscientious\", \"conscientious\", \"conscientious\", \"conscientious\", \"conscientious\", \"consider\", \"consider\", \"consider\", \"consider\", \"consider\", \"consider\", \"consider\", \"consider\", \"consider\", \"consider\", \"consider\", \"consider\", \"consummate\", \"consummate\", \"continue\", \"continue\", \"continue\", \"continue\", \"continue\", \"continue\", \"continue\", \"continue\", \"continue\", \"contrition\", \"contrition\", \"count\", \"count\", \"count\", \"count\", \"counter\", \"counter\", \"counter\", \"counter\", \"counter\", \"countess\", \"countess\", \"countess\", \"courage\", \"courage\", \"courage\", \"courage\", \"courage\", \"courage\", \"courage\", \"cox\", \"cox\", \"crabbed\", \"crag\", \"crape\", \"crape\", \"crape\", \"creating\", \"creating\", \"crecy\", \"crecy\", \"crecy\", \"crecy\", \"creeping\", \"creeping\", \"creeping\", \"crib\", \"crimsworth\", \"crimsworth\", \"crimsworth\", \"crimsworth\", \"crimsworth\", \"crowd\", \"crowd\", \"crowd\", \"crowd\", \"crowd\", \"crude\", \"crude\", \"crude\", \"cruel\", \"cruel\", \"cruel\", \"cruel\", \"cruel\", \"cruel\", \"cruel\", \"cruel\", \"curling\", \"curling\", \"curling\", \"damage\", \"dancing\", \"dancing\", \"dancing\", \"dancing\", \"dancing\", \"dans\", \"darcy\", \"dark\", \"dark\", \"dark\", \"dark\", \"dark\", \"dark\", \"dark\", \"dark\", \"dark\", \"dark\", \"dart\", \"dart\", \"dart\", \"dashwood\", \"dashwood\", \"daughter\", \"daughter\", \"daughter\", \"daughter\", \"daughter\", \"daughter\", \"daughter\", \"daughter\", \"daughter\", \"daughter\", \"daughter\", \"daughter\", \"daughter\", \"day\", \"day\", \"day\", \"day\", \"day\", \"day\", \"day\", \"day\", \"day\", \"day\", \"day\", \"day\", \"day\", \"day\", \"dear\", \"dear\", \"dear\", \"dear\", \"dear\", \"dear\", \"dear\", \"dear\", \"dear\", \"dear\", \"dear\", \"deep\", \"deep\", \"deep\", \"deep\", \"deep\", \"deep\", \"deep\", \"deep\", \"deep\", \"deep\", \"defective\", \"defective\", \"defective\", \"demoiselles\", \"demoiselles\", \"demonstrations\", \"demonstrations\", \"demonstrations\", \"demonstrations\", \"denominated\", \"denominated\", \"denominated\", \"denominated\", \"dense\", \"dense\", \"dent\", \"dent\", \"dent\", \"desiree\", \"desiree\", \"desiree\", \"desperately\", \"desperately\", \"desperately\", \"devil\", \"devil\", \"devil\", \"devil\", \"devil\", \"devoirs\", \"devoirs\", \"devoirs\", \"diana\", \"diana\", \"diana\", \"diana\", \"dieu\", \"dieu\", \"dieu\", \"directress\", \"directress\", \"directress\", \"disdainful\", \"disdainful\", \"disdainful\", \"disengaged\", \"disengaged\", \"disengaged\", \"disengaged\", \"disgraceful\", \"disgraceful\", \"dislikes\", \"dislikes\", \"dislikes\", \"dislikes\", \"dismissal\", \"dismissal\", \"dismissal\", \"disparity\", \"disparity\", \"disparity\", \"displayed\", \"displayed\", \"displayed\", \"dissimulation\", \"dissimulation\", \"district\", \"district\", \"district\", \"dixon\", \"dixon\", \"doctor\", \"doctor\", \"doctor\", \"doctor\", \"doctor\", \"doctrine\", \"doctrine\", \"doctrine\", \"doctrine\", \"documents\", \"documents\", \"documents\", \"donwell\", \"donwell\", \"donwell\", \"donwell\", \"door\", \"door\", \"door\", \"door\", \"door\", \"door\", \"door\", \"door\", \"door\", \"door\", \"door\", \"dormitory\", \"dormitory\", \"dormitory\", \"dose\", \"dose\", \"dose\", \"dr\", \"dr\", \"dr\", \"dr\", \"dr\", \"dr\", \"dr\", \"dr\", \"drawback\", \"drawback\", \"dress\", \"dress\", \"dress\", \"dress\", \"dress\", \"dress\", \"dress\", \"dress\", \"dulness\", \"dulness\", \"dulness\", \"dulness\", \"dusty\", \"dusty\", \"easier\", \"easier\", \"easier\", \"easier\", \"edward\", \"edward\", \"edward\", \"edward\", \"edward\", \"edward\", \"edward\", \"elders\", \"element\", \"element\", \"element\", \"element\", \"elinor\", \"elinor\", \"elinor\", \"elinor\", \"elinor\", \"elizabeth\", \"elizabeth\", \"elizabeth\", \"elizabeth\", \"elton\", \"elton\", \"elton\", \"elton\", \"elton\", \"elton\", \"eltons\", \"eltons\", \"eltons\", \"emanuel\", \"emanuel\", \"emanuel\", \"emanuel\", \"emanuel\", \"embers\", \"embers\", \"emerged\", \"emerged\", \"emerged\", \"emma\", \"emma\", \"emma\", \"emma\", \"emma\", \"emma\", \"emma\", \"en\", \"en\", \"en\", \"en\", \"encore\", \"encore\", \"encore\", \"encouragement\", \"encouragement\", \"encouragement\", \"encouragement\", \"encouragement\", \"encouragement\", \"encouragement\", \"encouragement\", \"encumbered\", \"encumbered\", \"encumbered\", \"engagement\", \"engagement\", \"engagement\", \"english\", \"english\", \"english\", \"english\", \"english\", \"english\", \"english\", \"english\", \"english\", \"english\", \"enscombe\", \"enscombe\", \"enscombe\", \"entertaining\", \"entertaining\", \"entertaining\", \"entertaining\", \"entertaining\", \"epistle\", \"epistle\", \"eshton\", \"eshton\", \"eshton\", \"essential\", \"essential\", \"essential\", \"est\", \"est\", \"est\", \"est\", \"establishment\", \"establishment\", \"establishment\", \"establishment\", \"establishment\", \"establishment\", \"establishment\", \"evans\", \"evans\", \"evening\", \"evening\", \"evening\", \"evening\", \"evening\", \"evening\", \"evening\", \"evening\", \"evening\", \"evening\", \"evening\", \"evening\", \"evening\", \"evening\", \"evil\", \"evil\", \"evil\", \"evil\", \"evil\", \"evil\", \"evil\", \"evil\", \"evil\", \"evil\", \"evil\", \"exercising\", \"exercising\", \"exercising\", \"existed\", \"existed\", \"existed\", \"experiment\", \"experiment\", \"experiment\", \"experiment\", \"explore\", \"explore\", \"explore\", \"exploring\", \"exploring\", \"expressly\", \"expressly\", \"expressly\", \"extend\", \"extend\", \"extend\", \"extend\", \"extremely\", \"extremely\", \"extremely\", \"extremely\", \"extremely\", \"extremely\", \"extremely\", \"exulting\", \"exulting\", \"exulting\", \"exulting\", \"exulting\", \"exultingly\", \"exultingly\", \"exultingly\", \"exultingly\", \"eye\", \"eye\", \"eye\", \"eye\", \"eye\", \"eye\", \"eye\", \"eye\", \"eye\", \"eye\", \"eye\", \"eye\", \"eye\", \"eye\", \"eyebrows\", \"eyebrows\", \"eyebrows\", \"eyebrows\", \"eyebrows\", \"eyes\", \"eyes\", \"eyes\", \"eyes\", \"eyes\", \"eyes\", \"eyes\", \"eyes\", \"eyes\", \"eyes\", \"eyes\", \"eyes\", \"eyes\", \"eyre\", \"eyre\", \"eyre\", \"eyre\", \"eyre\", \"face\", \"face\", \"face\", \"face\", \"face\", \"face\", \"face\", \"face\", \"face\", \"face\", \"face\", \"face\", \"fagged\", \"fagged\", \"fagged\", \"fail\", \"fail\", \"fail\", \"fail\", \"fail\", \"fail\", \"fail\", \"fail\", \"fairest\", \"fairest\", \"fairest\", \"fairest\", \"fairest\", \"fairfax\", \"fairfax\", \"fairfax\", \"fairfax\", \"fairfax\", \"fairfax\", \"fairfax\", \"fairfax\", \"fairfax\", \"family\", \"family\", \"family\", \"family\", \"family\", \"family\", \"family\", \"family\", \"family\", \"family\", \"fanny\", \"fanshawe\", \"fanshawe\", \"fanshawe\", \"fanshawe\", \"fanshawe\", \"fanshawe\", \"fanshawe\", \"far\", \"far\", \"far\", \"far\", \"far\", \"far\", \"far\", \"far\", \"far\", \"far\", \"far\", \"far\", \"far\", \"father\", \"father\", \"father\", \"father\", \"father\", \"father\", \"father\", \"father\", \"father\", \"father\", \"faubourg\", \"faubourg\", \"faults\", \"faults\", \"faults\", \"faults\", \"faults\", \"faults\", \"faults\", \"features\", \"features\", \"features\", \"features\", \"features\", \"features\", \"features\", \"features\", \"features\", \"features\", \"feebly\", \"feebly\", \"feebly\", \"feeling\", \"feeling\", \"feeling\", \"feeling\", \"feeling\", \"feeling\", \"feeling\", \"feeling\", \"feeling\", \"feeling\", \"feeling\", \"feeling\", \"felt\", \"felt\", \"felt\", \"felt\", \"felt\", \"felt\", \"felt\", \"felt\", \"felt\", \"felt\", \"felt\", \"felt\", \"felt\", \"fender\", \"fender\", \"fender\", \"fender\", \"ferrars\", \"ferrars\", \"fibre\", \"fibre\", \"fibre\", \"fibre\", \"fields\", \"fields\", \"fields\", \"fields\", \"fields\", \"fifine\", \"fifine\", \"fifine\", \"figured\", \"figured\", \"fine\", \"fine\", \"fine\", \"fine\", \"fine\", \"fine\", \"fine\", \"fine\", \"fine\", \"fine\", \"fine\", \"finish\", \"finish\", \"finish\", \"finish\", \"finish\", \"finish\", \"fitzwilliam\", \"flamand\", \"flamand\", \"flamand\", \"flowers\", \"flowers\", \"flowers\", \"flowers\", \"flowers\", \"flowers\", \"flown\", \"flown\", \"flown\", \"fog\", \"force\", \"force\", \"force\", \"force\", \"force\", \"force\", \"force\", \"force\", \"force\", \"force\", \"ford\", \"ford\", \"form\", \"form\", \"form\", \"form\", \"form\", \"form\", \"form\", \"form\", \"form\", \"form\", \"form\", \"form\", \"forms\", \"forms\", \"forms\", \"forms\", \"forms\", \"forms\", \"forms\", \"forster\", \"fossette\", \"fossette\", \"fossette\", \"fossette\", \"fossette\", \"fraction\", \"fraction\", \"fraction\", \"fraction\", \"frances\", \"frances\", \"frances\", \"frances\", \"frances\", \"frank\", \"frank\", \"frank\", \"frank\", \"frank\", \"frank\", \"frank\", \"frank\", \"french\", \"french\", \"french\", \"french\", \"french\", \"french\", \"french\", \"french\", \"friday\", \"friday\", \"friend\", \"friend\", \"friend\", \"friend\", \"friend\", \"friend\", \"friend\", \"friend\", \"friend\", \"friend\", \"friend\", \"friendship\", \"friendship\", \"friendship\", \"friendship\", \"friendship\", \"friendship\", \"friendship\", \"friendship\", \"friendship\", \"fullest\", \"fullest\", \"fullest\", \"fun\", \"fun\", \"fun\", \"fun\", \"gallery\", \"gallery\", \"gallery\", \"garcon\", \"garden\", \"garden\", \"garden\", \"garden\", \"garden\", \"garden\", \"garden\", \"garden\", \"garden\", \"garden\", \"gardiner\", \"gateshead\", \"gateshead\", \"gateshead\", \"gateshead\", \"gateshead\", \"gentlewoman\", \"gentlewoman\", \"gentlewoman\", \"georgiana\", \"georgiana\", \"georgiana\", \"georgiana\", \"georgiana\", \"georgiana\", \"ghastly\", \"ginevra\", \"ginevra\", \"ginevra\", \"ginevra\", \"girl\", \"girl\", \"girl\", \"girl\", \"girl\", \"girl\", \"girl\", \"girl\", \"girl\", \"girl\", \"glare\", \"glare\", \"glass\", \"glass\", \"glass\", \"glass\", \"glass\", \"glass\", \"glass\", \"glass\", \"gliding\", \"goddard\", \"goddard\", \"goddard\", \"going\", \"going\", \"going\", \"going\", \"going\", \"going\", \"going\", \"going\", \"going\", \"going\", \"going\", \"good\", \"good\", \"good\", \"good\", \"good\", \"good\", \"good\", \"good\", \"good\", \"good\", \"good\", \"good\", \"good\", \"good\", \"grace\", \"grace\", \"grace\", \"grace\", \"grace\", \"grace\", \"grace\", \"grace\", \"grace\", \"grace\", \"graham\", \"graham\", \"graham\", \"graham\", \"grass\", \"grass\", \"great\", \"great\", \"great\", \"great\", \"great\", \"great\", \"great\", \"great\", \"great\", \"great\", \"great\", \"great\", \"great\", \"greek\", \"greek\", \"green\", \"green\", \"green\", \"green\", \"green\", \"gross\", \"gross\", \"grove\", \"grove\", \"grove\", \"grove\", \"grove\", \"grove\", \"grove\", \"grove\", \"hair\", \"hair\", \"hair\", \"hair\", \"hair\", \"hair\", \"hair\", \"hair\", \"hair\", \"half\", \"half\", \"half\", \"half\", \"half\", \"half\", \"half\", \"half\", \"half\", \"half\", \"half\", \"half\", \"half\", \"hall\", \"hall\", \"hall\", \"hall\", \"hall\", \"hall\", \"hall\", \"hall\", \"hamal\", \"hamal\", \"hamal\", \"hamal\", \"hand\", \"hand\", \"hand\", \"hand\", \"hand\", \"hand\", \"hand\", \"hand\", \"hand\", \"hand\", \"hand\", \"hand\", \"hand\", \"hannah\", \"hannah\", \"hannah\", \"hannah\", \"happy\", \"happy\", \"happy\", \"happy\", \"happy\", \"happy\", \"happy\", \"happy\", \"happy\", \"happy\", \"happy\", \"happy\", \"happy\", \"harass\", \"harass\", \"harass\", \"harmonious\", \"harmonious\", \"harmonious\", \"harriet\", \"harriet\", \"harriet\", \"harriet\", \"harriet\", \"harriet\", \"harriet\", \"harriet\", \"hartfield\", \"hartfield\", \"hartfield\", \"hartfield\", \"hartfield\", \"having\", \"having\", \"having\", \"having\", \"having\", \"having\", \"having\", \"having\", \"having\", \"having\", \"having\", \"having\", \"having\", \"hawkins\", \"hawkins\", \"head\", \"head\", \"head\", \"head\", \"head\", \"head\", \"head\", \"head\", \"head\", \"head\", \"head\", \"head\", \"head\", \"healed\", \"healed\", \"healed\", \"hear\", \"hear\", \"hear\", \"hear\", \"hear\", \"hear\", \"hear\", \"hear\", \"hear\", \"hear\", \"heard\", \"heard\", \"heard\", \"heard\", \"heard\", \"heard\", \"heard\", \"heard\", \"heard\", \"heard\", \"heard\", \"heard\", \"heard\", \"heart\", \"heart\", \"heart\", \"heart\", \"heart\", \"heart\", \"heart\", \"heart\", \"heart\", \"heart\", \"heart\", \"heart\", \"heart\", \"helen\", \"helen\", \"helen\", \"helen\", \"henri\", \"henri\", \"henri\", \"henri\", \"herd\", \"herd\", \"heretofore\", \"heretofore\", \"heretofore\", \"heretofore\", \"hertfordshire\", \"hesitatingly\", \"hesitatingly\", \"hesitatingly\", \"hesitatingly\", \"hideous\", \"hideous\", \"hideous\", \"highbury\", \"highbury\", \"highbury\", \"highbury\", \"highbury\", \"hint\", \"hint\", \"hint\", \"hint\", \"hint\", \"home\", \"home\", \"home\", \"home\", \"home\", \"home\", \"home\", \"home\", \"home\", \"home\", \"home\", \"home\", \"home\", \"home\", \"honeymoon\", \"honeymoon\", \"honeymoon\", \"hope\", \"hope\", \"hope\", \"hope\", \"hope\", \"hope\", \"hope\", \"hope\", \"hope\", \"hope\", \"hope\", \"hope\", \"horizon\", \"horse\", \"horse\", \"horse\", \"horse\", \"horse\", \"hour\", \"hour\", \"hour\", \"hour\", \"hour\", \"hour\", \"hour\", \"hour\", \"hour\", \"hour\", \"hour\", \"hour\", \"hour\", \"hour\", \"house\", \"house\", \"house\", \"house\", \"house\", \"house\", \"house\", \"house\", \"house\", \"house\", \"house\", \"house\", \"house\", \"humming\", \"humming\", \"humming\", \"hundreds\", \"hundreds\", \"hundreds\", \"hundreds\", \"hundreds\", \"hunsden\", \"hunsden\", \"hunsden\", \"hunsden\", \"husbands\", \"husbands\", \"husbands\", \"hysterical\", \"hysterical\", \"hysterical\", \"impediment\", \"impediment\", \"impotent\", \"impotent\", \"impotent\", \"impotent\", \"inarticulate\", \"india\", \"india\", \"india\", \"india\", \"inequality\", \"inequality\", \"inequality\", \"inequality\", \"inequality\", \"inexplicable\", \"ingram\", \"ingram\", \"ingram\", \"ingram\", \"insane\", \"insane\", \"insane\", \"insane\", \"insight\", \"insight\", \"insignificance\", \"insignificance\", \"insinuating\", \"insinuating\", \"insinuating\", \"insinuating\", \"instruments\", \"instruments\", \"insulting\", \"insulting\", \"insulting\", \"insulting\", \"intellectual\", \"intellectual\", \"intellectual\", \"intellectual\", \"intellectual\", \"interpreted\", \"interpreted\", \"interpreted\", \"interpreted\", \"intimates\", \"intimates\", \"intimates\", \"invisible\", \"invisible\", \"invisible\", \"ireland\", \"ireland\", \"ireland\", \"ireland\", \"ireland\", \"irrational\", \"irrational\", \"irrational\", \"irritating\", \"irritating\", \"irritating\", \"isabella\", \"isabella\", \"isabella\", \"isabella\", \"item\", \"item\", \"item\", \"jamaica\", \"jamaica\", \"james\", \"james\", \"james\", \"james\", \"jane\", \"jane\", \"jane\", \"jane\", \"jane\", \"jane\", \"jane\", \"jane\", \"jane\", \"jane\", \"janet\", \"janet\", \"jennings\", \"jennings\", \"jests\", \"jests\", \"jests\", \"jests\", \"jetty\", \"jetty\", \"job\", \"job\", \"job\", \"job\", \"john\", \"john\", \"john\", \"john\", \"john\", \"john\", \"john\", \"john\", \"john\", \"john\", \"john\", \"john\", \"jump\", \"jump\", \"jump\", \"justice\", \"justice\", \"justice\", \"justice\", \"justice\", \"justice\", \"justice\", \"justice\", \"justine\", \"kisses\", \"kisses\", \"kitty\", \"kneel\", \"kneel\", \"kneel\", \"knew\", \"knew\", \"knew\", \"knew\", \"knew\", \"knew\", \"knew\", \"knew\", \"knew\", \"knew\", \"knew\", \"knew\", \"knew\", \"knightley\", \"knightley\", \"knightley\", \"knightley\", \"knightley\", \"knightley\", \"knightleys\", \"knightleys\", \"knightleys\", \"knotty\", \"knotty\", \"know\", \"know\", \"know\", \"know\", \"know\", \"know\", \"know\", \"know\", \"know\", \"know\", \"know\", \"know\", \"know\", \"la\", \"la\", \"la\", \"la\", \"la\", \"la\", \"ladies\", \"ladies\", \"ladies\", \"ladies\", \"ladies\", \"ladies\", \"ladies\", \"ladies\", \"ladies\", \"ladies\", \"lady\", \"lady\", \"lady\", \"lady\", \"lady\", \"lady\", \"lady\", \"lady\", \"lady\", \"lady\", \"lady\", \"lady\", \"lamps\", \"larkins\", \"larkins\", \"larkins\", \"latch\", \"latch\", \"latch\", \"latch\", \"lay\", \"lay\", \"lay\", \"lay\", \"lay\", \"lay\", \"lay\", \"lay\", \"lay\", \"leaf\", \"leaf\", \"leafless\", \"leafless\", \"leah\", \"leah\", \"learn\", \"learn\", \"learn\", \"learn\", \"learn\", \"learn\", \"learned\", \"learned\", \"learned\", \"learned\", \"learned\", \"learned\", \"learned\", \"learned\", \"leaven\", \"leaven\", \"leaven\", \"left\", \"left\", \"left\", \"left\", \"left\", \"left\", \"left\", \"left\", \"left\", \"left\", \"left\", \"left\", \"left\", \"legs\", \"legs\", \"legs\", \"lengths\", \"lengths\", \"lengths\", \"lessons\", \"lessons\", \"lessons\", \"lessons\", \"lessons\", \"lessons\", \"lessons\", \"lessons\", \"let\", \"let\", \"let\", \"let\", \"let\", \"let\", \"let\", \"let\", \"let\", \"let\", \"let\", \"letter\", \"letter\", \"letter\", \"letter\", \"letter\", \"letter\", \"letter\", \"letter\", \"letter\", \"liberally\", \"liberally\", \"liberally\", \"liberally\", \"life\", \"life\", \"life\", \"life\", \"life\", \"life\", \"life\", \"life\", \"life\", \"life\", \"life\", \"life\", \"light\", \"light\", \"light\", \"light\", \"light\", \"light\", \"light\", \"light\", \"light\", \"light\", \"light\", \"lightness\", \"lightness\", \"lightness\", \"lightness\", \"lightness\", \"like\", \"like\", \"like\", \"like\", \"like\", \"like\", \"like\", \"like\", \"like\", \"like\", \"like\", \"like\", \"like\", \"like\", \"liked\", \"liked\", \"liked\", \"liked\", \"liked\", \"liked\", \"liked\", \"liked\", \"liked\", \"liked\", \"likeness\", \"likeness\", \"likeness\", \"likeness\", \"likeness\", \"likeness\", \"likeness\", \"lips\", \"lips\", \"lips\", \"lips\", \"lips\", \"lips\", \"lips\", \"little\", \"little\", \"little\", \"little\", \"little\", \"little\", \"little\", \"little\", \"little\", \"little\", \"little\", \"little\", \"little\", \"little\", \"lizzy\", \"ll\", \"ll\", \"ll\", \"ll\", \"ll\", \"ll\", \"lloyd\", \"lofty\", \"long\", \"long\", \"long\", \"long\", \"long\", \"long\", \"long\", \"long\", \"long\", \"long\", \"long\", \"long\", \"long\", \"longbourn\", \"look\", \"look\", \"look\", \"look\", \"look\", \"look\", \"look\", \"look\", \"look\", \"look\", \"look\", \"look\", \"look\", \"looked\", \"looked\", \"looked\", \"looked\", \"looked\", \"looked\", \"looked\", \"looked\", \"looked\", \"looked\", \"looked\", \"looked\", \"looked\", \"looked\", \"looking\", \"looking\", \"looking\", \"looking\", \"looking\", \"looking\", \"looking\", \"looking\", \"looking\", \"looking\", \"louisa\", \"louisa\", \"louisa\", \"louisa\", \"louisa\", \"love\", \"love\", \"love\", \"love\", \"love\", \"love\", \"love\", \"love\", \"love\", \"love\", \"love\", \"lowood\", \"lowood\", \"lowood\", \"lowood\", \"lucas\", \"lucy\", \"lucy\", \"lucy\", \"lucy\", \"lucy\", \"lucy\", \"lucy\", \"lucy\", \"lunatic\", \"lunatic\", \"lunatic\", \"lydia\", \"lynn\", \"lynn\", \"lynn\", \"mad\", \"mad\", \"mad\", \"mad\", \"mad\", \"mad\", \"mad\", \"madame\", \"madame\", \"madame\", \"madame\", \"madame\", \"madame\", \"madame\", \"madame\", \"madame\", \"madame\", \"mademoiselle\", \"mademoiselle\", \"mademoiselle\", \"mademoiselle\", \"mademoiselle\", \"mademoiselle\", \"mademoiselle\", \"mademoiselle\", \"malignant\", \"malignant\", \"mamma\", \"mamma\", \"mamma\", \"mamma\", \"mamma\", \"mamma\", \"man\", \"man\", \"man\", \"man\", \"man\", \"man\", \"man\", \"man\", \"man\", \"man\", \"man\", \"man\", \"man\", \"maniac\", \"maniac\", \"maple\", \"maple\", \"maple\", \"marchmont\", \"marianne\", \"marianne\", \"marianne\", \"marianne\", \"marianne\", \"marie\", \"marry\", \"marry\", \"marry\", \"marry\", \"marry\", \"marry\", \"marry\", \"marry\", \"martin\", \"martin\", \"martin\", \"martin\", \"mason\", \"mason\", \"mason\", \"master\", \"master\", \"master\", \"master\", \"master\", \"master\", \"master\", \"master\", \"mat\", \"mat\", \"mat\", \"matches\", \"matches\", \"matches\", \"meess\", \"meryton\", \"mesdames\", \"mesdames\", \"mesdames\", \"message\", \"message\", \"message\", \"message\", \"message\", \"message\", \"message\", \"message\", \"middleton\", \"middleton\", \"midnight\", \"midnight\", \"midnight\", \"midnight\", \"mightily\", \"mightily\", \"mightily\", \"millcote\", \"millcote\", \"miniature\", \"miniature\", \"miniature\", \"miss\", \"miss\", \"miss\", \"miss\", \"miss\", \"miss\", \"miss\", \"miss\", \"miss\", \"miss\", \"miss\", \"miss\", \"miss\", \"miss\", \"missis\", \"missis\", \"mist\", \"misunderstand\", \"misunderstand\", \"moan\", \"moan\", \"moan\", \"moment\", \"moment\", \"moment\", \"moment\", \"moment\", \"moment\", \"moment\", \"moment\", \"moment\", \"moment\", \"moment\", \"moment\", \"moment\", \"mon\", \"mon\", \"mon\", \"mon\", \"mon\", \"monsieur\", \"monsieur\", \"monsieur\", \"monsieur\", \"monsieur\", \"monsieur\", \"monsieur\", \"moon\", \"moon\", \"moon\", \"moon\", \"mother\", \"mother\", \"mother\", \"mother\", \"mother\", \"mother\", \"mother\", \"mother\", \"mother\", \"mother\", \"mother\", \"mother\", \"mother\", \"muff\", \"muff\", \"narrator\", \"narrator\", \"narrator\", \"narrowly\", \"narrowly\", \"narrowly\", \"national\", \"national\", \"netherfield\", \"new\", \"new\", \"new\", \"new\", \"new\", \"new\", \"new\", \"new\", \"new\", \"new\", \"new\", \"new\", \"new\", \"niece\", \"niece\", \"niece\", \"niece\", \"niece\", \"night\", \"night\", \"night\", \"night\", \"night\", \"night\", \"night\", \"night\", \"night\", \"night\", \"night\", \"night\", \"nobleman\", \"nobleman\", \"nobleman\", \"nobleman\", \"nobler\", \"nobler\", \"nun\", \"nun\", \"nun\", \"objected\", \"objected\", \"objected\", \"obliged\", \"obliged\", \"obliged\", \"obliged\", \"obliged\", \"obliged\", \"obliged\", \"obliged\", \"obliged\", \"obliged\", \"obliged\", \"obnoxious\", \"obnoxious\", \"obnoxious\", \"observant\", \"observant\", \"observant\", \"observant\", \"occurrence\", \"occurrence\", \"occurrence\", \"occurrence\", \"oh\", \"oh\", \"oh\", \"oh\", \"oh\", \"oh\", \"oh\", \"oh\", \"oh\", \"oh\", \"oh\", \"oh\", \"old\", \"old\", \"old\", \"old\", \"old\", \"old\", \"old\", \"old\", \"old\", \"old\", \"old\", \"old\", \"old\", \"ominous\", \"ominous\", \"ominous\", \"order\", \"order\", \"order\", \"order\", \"order\", \"order\", \"order\", \"order\", \"order\", \"order\", \"order\", \"order\", \"ostensible\", \"ostensible\", \"ostensible\", \"oven\", \"oven\", \"oven\", \"pacing\", \"pacing\", \"pacing\", \"paint\", \"paint\", \"paint\", \"paint\", \"pallid\", \"pallid\", \"pallid\", \"pallid\", \"papa\", \"papa\", \"papa\", \"papa\", \"papa\", \"papa\", \"papa\", \"parisienne\", \"passionately\", \"passionately\", \"passionately\", \"passionately\", \"passionately\", \"patiently\", \"patiently\", \"patiently\", \"patiently\", \"patiently\", \"patiently\", \"patrician\", \"patrician\", \"patrician\", \"patty\", \"patty\", \"paul\", \"paul\", \"paul\", \"paul\", \"paul\", \"paulina\", \"paulina\", \"paulina\", \"paulina\", \"paulina\", \"pelet\", \"pelet\", \"pelet\", \"pelet\", \"pemberley\", \"pensionnat\", \"pensionnat\", \"pensionnat\", \"pensionnat\", \"perched\", \"perched\", \"perched\", \"pere\", \"pere\", \"pere\", \"performances\", \"performances\", \"performances\", \"performances\", \"perry\", \"perry\", \"perry\", \"perry\", \"perry\", \"phase\", \"phase\", \"phase\", \"phase\", \"phillips\", \"physically\", \"physically\", \"physically\", \"physician\", \"physician\", \"physician\", \"picturesque\", \"picturesque\", \"picturesque\", \"picturesque\", \"pilot\", \"pilot\", \"pitched\", \"pitched\", \"pitched\", \"pitched\", \"pity\", \"pity\", \"pity\", \"pity\", \"pity\", \"pity\", \"pity\", \"pity\", \"pity\", \"pity\", \"pity\", \"place\", \"place\", \"place\", \"place\", \"place\", \"place\", \"place\", \"place\", \"place\", \"place\", \"place\", \"place\", \"place\", \"place\", \"play\", \"play\", \"play\", \"play\", \"play\", \"play\", \"play\", \"play\", \"play\", \"play\", \"pleasantest\", \"pleasantest\", \"pleasantest\", \"pleasantest\", \"poison\", \"poison\", \"poison\", \"poison\", \"poison\", \"polly\", \"polly\", \"pomp\", \"pomp\", \"pomp\", \"poole\", \"poor\", \"poor\", \"poor\", \"poor\", \"poor\", \"poor\", \"poor\", \"poor\", \"poor\", \"poor\", \"poor\", \"poor\", \"possessed\", \"possessed\", \"possessed\", \"possessed\", \"possessed\", \"possessed\", \"possessed\", \"possessed\", \"possessed\", \"possessed\", \"pot\", \"poultry\", \"poultry\", \"poultry\", \"pounds\", \"pounds\", \"pounds\", \"pounds\", \"pounds\", \"pounds\", \"pouring\", \"pouring\", \"power\", \"power\", \"power\", \"power\", \"power\", \"power\", \"power\", \"power\", \"power\", \"power\", \"power\", \"power\", \"practising\", \"practising\", \"practising\", \"preached\", \"preached\", \"preoccupied\", \"preoccupied\", \"preoccupied\", \"preparatory\", \"preparatory\", \"preparatory\", \"present\", \"present\", \"present\", \"present\", \"present\", \"present\", \"present\", \"present\", \"present\", \"present\", \"present\", \"present\", \"present\", \"prey\", \"prey\", \"prey\", \"prey\", \"priest\", \"priest\", \"priest\", \"priest\", \"probably\", \"probably\", \"probably\", \"probably\", \"probably\", \"probably\", \"probably\", \"probably\", \"probably\", \"probably\", \"producing\", \"producing\", \"producing\", \"producing\", \"professor\", \"professor\", \"professor\", \"professor\", \"professor\", \"professors\", \"prolonged\", \"prolonged\", \"prolonged\", \"prolonged\", \"prolonged\", \"prolonged\", \"propensities\", \"propensities\", \"propensities\", \"propensities\", \"propensities\", \"prose\", \"prose\", \"pupil\", \"pupil\", \"pupil\", \"pupil\", \"pupil\", \"pupil\", \"pupil\", \"pupil\", \"pupil\", \"puppy\", \"puppy\", \"puppy\", \"pushed\", \"pushed\", \"pushed\", \"pushed\", \"putting\", \"putting\", \"putting\", \"putting\", \"putting\", \"putting\", \"putting\", \"putting\", \"putting\", \"questioned\", \"questioned\", \"questioned\", \"questioned\", \"questioned\", \"questioned\", \"quietness\", \"quietness\", \"quietness\", \"quietness\", \"quivered\", \"quivered\", \"quivered\", \"quivered\", \"randalls\", \"randalls\", \"randalls\", \"randalls\", \"randalls\", \"rats\", \"rats\", \"rats\", \"rattle\", \"rattle\", \"rattle\", \"raving\", \"raving\", \"raving\", \"read\", \"read\", \"read\", \"read\", \"read\", \"read\", \"read\", \"read\", \"receding\", \"receding\", \"reckon\", \"reckon\", \"reckon\", \"reckon\", \"reed\", \"reed\", \"reed\", \"reed\", \"reed\", \"reed\", \"referring\", \"referring\", \"referring\", \"regarded\", \"regarded\", \"regarded\", \"regarded\", \"regarded\", \"regarded\", \"regarded\", \"reigned\", \"relatives\", \"relatives\", \"relatives\", \"relatives\", \"relinquish\", \"relinquish\", \"relinquish\", \"relish\", \"relish\", \"relish\", \"relish\", \"relish\", \"relish\", \"reluctant\", \"reluctant\", \"reluctant\", \"reluctant\", \"reluctant\", \"reluctant\", \"reluctant\", \"replied\", \"replied\", \"replied\", \"replied\", \"replied\", \"replied\", \"replied\", \"replied\", \"replied\", \"repressed\", \"repressed\", \"repressed\", \"repressed\", \"repressed\", \"repressed\", \"repressed\", \"resisting\", \"resisting\", \"resisting\", \"resisting\", \"respite\", \"respite\", \"respite\", \"respite\", \"responsibility\", \"responsibility\", \"responsibility\", \"restoring\", \"restoring\", \"restoring\", \"resulted\", \"resulted\", \"resulted\", \"resulted\", \"resulted\", \"retire\", \"retire\", \"reuter\", \"reuter\", \"reuter\", \"reuter\", \"revelations\", \"revelations\", \"revelations\", \"richmond\", \"richmond\", \"richmond\", \"richmond\", \"richmond\", \"rivers\", \"rivers\", \"rivers\", \"rivers\", \"rivers\", \"rivers\", \"rivet\", \"rivet\", \"rivet\", \"rochester\", \"rochester\", \"rochester\", \"rochester\", \"rochester\", \"room\", \"room\", \"room\", \"room\", \"room\", \"room\", \"room\", \"room\", \"room\", \"room\", \"room\", \"room\", \"room\", \"rooms\", \"rooms\", \"rooms\", \"rooms\", \"rooms\", \"rooms\", \"rooms\", \"rose\", \"rose\", \"rose\", \"rose\", \"rose\", \"rose\", \"rose\", \"rose\", \"rose\", \"rose\", \"rosine\", \"rosine\", \"rosine\", \"rosings\", \"round\", \"round\", \"round\", \"round\", \"round\", \"round\", \"round\", \"round\", \"round\", \"round\", \"round\", \"ruddy\", \"ruddy\", \"rue\", \"rue\", \"rue\", \"rue\", \"rue\", \"rue\", \"rue\", \"sable\", \"sacrifice\", \"sacrifice\", \"sacrifice\", \"sacrifice\", \"sacrifice\", \"sacrifice\", \"sacrifice\", \"sacrifice\", \"saddened\", \"saddened\", \"saddened\", \"saw\", \"saw\", \"saw\", \"saw\", \"saw\", \"saw\", \"saw\", \"saw\", \"saw\", \"saw\", \"saw\", \"saw\", \"saw\", \"saxon\", \"saxon\", \"scatcherd\", \"scatcherd\", \"school\", \"school\", \"school\", \"school\", \"school\", \"school\", \"school\", \"school\", \"school\", \"school\", \"school\", \"schoolmistress\", \"schoolrooms\", \"seacombe\", \"seacombe\", \"seacombe\", \"seas\", \"seas\", \"seas\", \"seen\", \"seen\", \"seen\", \"seen\", \"seen\", \"seen\", \"seen\", \"seen\", \"seen\", \"seen\", \"seen\", \"seen\", \"seen\", \"seen\", \"selina\", \"selina\", \"sell\", \"sell\", \"sell\", \"sense\", \"sense\", \"sense\", \"sense\", \"sense\", \"sense\", \"sense\", \"sense\", \"sense\", \"sense\", \"sense\", \"sense\", \"sensitiveness\", \"sensitiveness\", \"sensitiveness\", \"sensitiveness\", \"sensitiveness\", \"sent\", \"sent\", \"sent\", \"sent\", \"sent\", \"sent\", \"sent\", \"sent\", \"sent\", \"sent\", \"sent\", \"seriously\", \"seriously\", \"seriously\", \"seriously\", \"seriously\", \"seriously\", \"seriously\", \"seriously\", \"seriously\", \"seriously\", \"severe\", \"severe\", \"severe\", \"severe\", \"severe\", \"severe\", \"severe\", \"severe\", \"severe\", \"sewing\", \"sewing\", \"sewing\", \"sewing\", \"shabby\", \"shabby\", \"shabby\", \"shabby\", \"shabby\", \"shadowed\", \"shall\", \"shall\", \"shall\", \"shall\", \"shall\", \"shall\", \"shall\", \"shall\", \"shall\", \"shall\", \"shall\", \"shall\", \"shawl\", \"shawl\", \"shawl\", \"shawl\", \"shawl\", \"shawl\", \"shawl\", \"sheets\", \"sheets\", \"sheets\", \"sheets\", \"sheets\", \"sheets\", \"sheets\", \"shew\", \"shew\", \"shew\", \"shew\", \"shone\", \"shone\", \"shone\", \"shone\", \"silas\", \"silas\", \"silas\", \"sir\", \"sir\", \"sir\", \"sir\", \"sir\", \"sir\", \"sir\", \"sir\", \"sir\", \"sister\", \"sister\", \"sister\", \"sister\", \"sister\", \"sister\", \"sister\", \"sister\", \"sister\", \"sister\", \"sister\", \"sisters\", \"sisters\", \"sisters\", \"sisters\", \"sisters\", \"sisters\", \"sisters\", \"sixpence\", \"sixpence\", \"sketch\", \"sketch\", \"sketch\", \"sketch\", \"sketch\", \"skirts\", \"skirts\", \"slavery\", \"slavery\", \"sleeve\", \"sleeve\", \"slim\", \"slim\", \"smallridge\", \"smallridge\", \"smallridge\", \"smile\", \"smile\", \"smile\", \"smile\", \"smile\", \"smile\", \"smile\", \"smile\", \"smile\", \"smile\", \"smile\", \"smile\", \"smile\", \"smith\", \"smith\", \"smith\", \"smith\", \"smith\", \"smith\", \"sneer\", \"sneer\", \"sneer\", \"sneer\", \"sneer\", \"sneer\", \"sneered\", \"sneered\", \"sneered\", \"snowe\", \"snowe\", \"snowe\", \"snowe\", \"snowy\", \"sofas\", \"sofas\", \"sofas\", \"solve\", \"solve\", \"solve\", \"soon\", \"soon\", \"soon\", \"soon\", \"soon\", \"soon\", \"soon\", \"soon\", \"soon\", \"soon\", \"soon\", \"soon\", \"soon\", \"sophie\", \"sophie\", \"sort\", \"sort\", \"sort\", \"sort\", \"sort\", \"sort\", \"sort\", \"sort\", \"sort\", \"sort\", \"sort\", \"sort\", \"sought\", \"sought\", \"sought\", \"sought\", \"sought\", \"sought\", \"sparkling\", \"sparkling\", \"sparkling\", \"sparkling\", \"sparkling\", \"spectators\", \"spectators\", \"spectators\", \"sped\", \"sped\", \"sped\", \"spoke\", \"spoke\", \"spoke\", \"spoke\", \"spoke\", \"spoke\", \"spoke\", \"spoke\", \"spoke\", \"spoke\", \"spoke\", \"spontaneously\", \"spontaneously\", \"sprain\", \"sprain\", \"st\", \"st\", \"st\", \"st\", \"st\", \"st\", \"stare\", \"stare\", \"stare\", \"stare\", \"state\", \"state\", \"state\", \"state\", \"state\", \"state\", \"state\", \"state\", \"state\", \"steep\", \"steep\", \"steep\", \"sterner\", \"sterner\", \"stick\", \"stick\", \"stillness\", \"stood\", \"stood\", \"stood\", \"stood\", \"stood\", \"stood\", \"stood\", \"stood\", \"stood\", \"stood\", \"stores\", \"stores\", \"stores\", \"storey\", \"storey\", \"story\", \"story\", \"story\", \"story\", \"story\", \"story\", \"story\", \"strawberries\", \"strawberries\", \"strawberries\", \"strawberries\", \"strength\", \"strength\", \"strength\", \"strength\", \"strength\", \"strength\", \"strength\", \"strength\", \"strength\", \"strength\", \"strength\", \"suave\", \"suave\", \"suckling\", \"sufficed\", \"sufficed\", \"sufficed\", \"sufficed\", \"sufficed\", \"sun\", \"sun\", \"sun\", \"sun\", \"sun\", \"sun\", \"sun\", \"sunshine\", \"sunshine\", \"sunshine\", \"sunshine\", \"supple\", \"supple\", \"supple\", \"sure\", \"sure\", \"sure\", \"sure\", \"sure\", \"sure\", \"sure\", \"sure\", \"sure\", \"sure\", \"sure\", \"sure\", \"sure\", \"sure\", \"surprize\", \"surprize\", \"surprize\", \"surprize\", \"surprized\", \"surprized\", \"surprized\", \"surry\", \"surry\", \"surry\", \"susceptible\", \"susceptible\", \"swift\", \"swiss\", \"swiss\", \"sylvie\", \"sylvie\", \"tables\", \"tables\", \"tables\", \"tables\", \"tables\", \"tables\", \"tables\", \"talker\", \"talker\", \"talker\", \"talker\", \"tall\", \"tall\", \"tall\", \"tall\", \"tall\", \"tall\", \"tall\", \"tall\", \"task\", \"task\", \"task\", \"task\", \"task\", \"task\", \"taylor\", \"taylor\", \"taylor\", \"teacher\", \"teacher\", \"teacher\", \"teacher\", \"teacher\", \"teacher\", \"teacher\", \"tear\", \"tear\", \"tear\", \"tear\", \"tear\", \"tear\", \"tell\", \"tell\", \"tell\", \"tell\", \"tell\", \"tell\", \"tell\", \"tell\", \"tell\", \"tell\", \"tell\", \"tell\", \"tell\", \"temperature\", \"temperature\", \"temperature\", \"temple\", \"temple\", \"temple\", \"temple\", \"temple\", \"temple\", \"thing\", \"thing\", \"thing\", \"thing\", \"thing\", \"thing\", \"thing\", \"thing\", \"thing\", \"thing\", \"thing\", \"think\", \"think\", \"think\", \"think\", \"think\", \"think\", \"think\", \"think\", \"think\", \"think\", \"think\", \"think\", \"think\", \"thirdly\", \"thirdly\", \"thornfield\", \"thornfield\", \"thornfield\", \"thought\", \"thought\", \"thought\", \"thought\", \"thought\", \"thought\", \"thought\", \"thought\", \"thought\", \"thought\", \"thought\", \"thought\", \"thought\", \"thought\", \"thousand\", \"thousand\", \"thousand\", \"thousand\", \"thousand\", \"thousand\", \"thousand\", \"thousand\", \"thousand\", \"thousand\", \"throne\", \"throne\", \"thundering\", \"tiger\", \"tiger\", \"tiger\", \"time\", \"time\", \"time\", \"time\", \"time\", \"time\", \"time\", \"time\", \"time\", \"time\", \"time\", \"time\", \"time\", \"timon\", \"timon\", \"timon\", \"tiny\", \"tiny\", \"tire\", \"tire\", \"tire\", \"told\", \"told\", \"told\", \"told\", \"told\", \"told\", \"told\", \"told\", \"told\", \"told\", \"told\", \"told\", \"told\", \"tomb\", \"tomb\", \"tomb\", \"took\", \"took\", \"took\", \"took\", \"took\", \"took\", \"took\", \"took\", \"took\", \"took\", \"took\", \"took\", \"topics\", \"topics\", \"topics\", \"topics\", \"topics\", \"tractable\", \"tractable\", \"tractable\", \"tradesman\", \"tradesman\", \"tradesman\", \"tradesman\", \"tragedy\", \"tranquilly\", \"tranquilly\", \"tranquilly\", \"transition\", \"transition\", \"transition\", \"traveller\", \"traversed\", \"trees\", \"trees\", \"trees\", \"trees\", \"trees\", \"trees\", \"trees\", \"tremulous\", \"tremulous\", \"tremulous\", \"tried\", \"tried\", \"tried\", \"tried\", \"tried\", \"tried\", \"tried\", \"tried\", \"tried\", \"trifles\", \"trifles\", \"trifles\", \"trite\", \"trite\", \"trite\", \"trite\", \"trite\", \"tune\", \"tune\", \"tune\", \"turf\", \"turf\", \"turk\", \"turk\", \"turk\", \"tynedale\", \"tynedale\", \"tyrant\", \"tyrant\", \"tyrant\", \"tyrant\", \"unavailing\", \"unavailing\", \"unavailing\", \"unavailing\", \"unchanged\", \"unchanged\", \"unchanged\", \"unchanged\", \"undertaken\", \"undertaken\", \"undertaken\", \"undertaken\", \"undertaken\", \"une\", \"une\", \"une\", \"une\", \"unsteady\", \"unsteady\", \"unsteady\", \"unwillingness\", \"unwillingness\", \"unwillingness\", \"uproar\", \"uproar\", \"uproar\", \"verbal\", \"verbal\", \"verbal\", \"verbal\", \"veritable\", \"veritable\", \"veritable\", \"vicarage\", \"vicarage\", \"vicarage\", \"vicinity\", \"vicinity\", \"vicinity\", \"vicinity\", \"vigilant\", \"vigilant\", \"viz\", \"viz\", \"vous\", \"vous\", \"vous\", \"vous\", \"vous\", \"wall\", \"wall\", \"wall\", \"wall\", \"wall\", \"wall\", \"walls\", \"walls\", \"walls\", \"walls\", \"walravens\", \"waltz\", \"waltz\", \"waltz\", \"waltz\", \"want\", \"want\", \"want\", \"want\", \"want\", \"want\", \"want\", \"want\", \"want\", \"want\", \"want\", \"way\", \"way\", \"way\", \"way\", \"way\", \"way\", \"way\", \"way\", \"way\", \"way\", \"way\", \"way\", \"way\", \"weekly\", \"weekly\", \"weekly\", \"went\", \"went\", \"went\", \"went\", \"went\", \"went\", \"went\", \"went\", \"went\", \"went\", \"went\", \"went\", \"went\", \"weston\", \"weston\", \"weston\", \"weston\", \"weston\", \"weston\", \"westons\", \"westons\", \"westons\", \"weymouth\", \"weymouth\", \"weymouth\", \"whip\", \"whip\", \"whip\", \"white\", \"white\", \"white\", \"white\", \"white\", \"white\", \"white\", \"white\", \"white\", \"white\", \"wickham\", \"wife\", \"wife\", \"wife\", \"wife\", \"wife\", \"wife\", \"wife\", \"wife\", \"wife\", \"wife\", \"willoughby\", \"willoughby\", \"wind\", \"wind\", \"wind\", \"wind\", \"wind\", \"wind\", \"wind\", \"windsor\", \"windsor\", \"windsor\", \"winning\", \"winning\", \"winning\", \"wives\", \"wives\", \"wives\", \"wives\", \"woodhouse\", \"woodhouse\", \"woodhouse\", \"woodhouse\", \"woodhouse\", \"woodhouse\", \"word\", \"word\", \"word\", \"word\", \"word\", \"word\", \"word\", \"word\", \"word\", \"word\", \"word\", \"words\", \"words\", \"words\", \"words\", \"words\", \"words\", \"words\", \"words\", \"words\", \"words\", \"words\", \"words\", \"wore\", \"wore\", \"wore\", \"wore\", \"wore\", \"wore\", \"wore\", \"worlds\", \"worlds\", \"worlds\", \"wrapt\", \"wrapt\", \"wrapt\", \"wrote\", \"wrote\", \"wrote\", \"wrote\", \"wrote\", \"wrote\", \"wrote\", \"wrote\", \"wrote\", \"xix\", \"xix\", \"xix\", \"yes\", \"yes\", \"yes\", \"yes\", \"yes\", \"yes\", \"yes\", \"yes\", \"yes\", \"yes\", \"yes\", \"yes\", \"yes\", \"yoke\", \"yoke\", \"yoke\", \"yorke\", \"yorke\", \"yorkshire\", \"yorkshire\", \"young\", \"young\", \"young\", \"young\", \"young\", \"young\", \"young\", \"young\", \"young\", \"young\", \"young\", \"young\", \"zoraide\", \"zoraide\", \"zoraide\", \"zoraide\"]}, \"R\": 30, \"lambda.step\": 0.01, \"plot.opts\": {\"xlab\": \"PC1\", \"ylab\": \"PC2\"}, \"topic.order\": [1, 8, 14, 11, 2, 7, 12, 13, 9, 4, 6, 5, 10, 15, 3]};\n",
              "\n",
              "function LDAvis_load_lib(url, callback){\n",
              "  var s = document.createElement('script');\n",
              "  s.src = url;\n",
              "  s.async = true;\n",
              "  s.onreadystatechange = s.onload = callback;\n",
              "  s.onerror = function(){console.warn(\"failed to load library \" + url);};\n",
              "  document.getElementsByTagName(\"head\")[0].appendChild(s);\n",
              "}\n",
              "\n",
              "if(typeof(LDAvis) !== \"undefined\"){\n",
              "   // already loaded: just create the visualization\n",
              "   !function(LDAvis){\n",
              "       new LDAvis(\"#\" + \"ldavis_el1231396442281161768893076862\", ldavis_el1231396442281161768893076862_data);\n",
              "   }(LDAvis);\n",
              "}else if(typeof define === \"function\" && define.amd){\n",
              "   // require.js is available: use it to load d3/LDAvis\n",
              "   require.config({paths: {d3: \"https://cdnjs.cloudflare.com/ajax/libs/d3/3.5.5/d3.min\"}});\n",
              "   require([\"d3\"], function(d3){\n",
              "      window.d3 = d3;\n",
              "      LDAvis_load_lib(\"https://cdn.rawgit.com/bmabey/pyLDAvis/files/ldavis.v1.0.0.js\", function(){\n",
              "        new LDAvis(\"#\" + \"ldavis_el1231396442281161768893076862\", ldavis_el1231396442281161768893076862_data);\n",
              "      });\n",
              "    });\n",
              "}else{\n",
              "    // require.js not available: dynamically load d3 & LDAvis\n",
              "    LDAvis_load_lib(\"https://cdnjs.cloudflare.com/ajax/libs/d3/3.5.5/d3.min.js\", function(){\n",
              "         LDAvis_load_lib(\"https://cdn.rawgit.com/bmabey/pyLDAvis/files/ldavis.v1.0.0.js\", function(){\n",
              "                 new LDAvis(\"#\" + \"ldavis_el1231396442281161768893076862\", ldavis_el1231396442281161768893076862_data);\n",
              "            })\n",
              "         });\n",
              "}\n",
              "</script>"
            ],
            "text/plain": [
              "PreparedData(topic_coordinates=              x         y  topics  cluster       Freq\n",
              "topic                                                \n",
              "0     -0.087150  0.001007       1        1  34.803577\n",
              "7      0.058517  0.046197       2        1  28.401142\n",
              "13     0.022567  0.059549       3        1  14.426894\n",
              "10    -0.013163  0.080217       4        1   8.187744\n",
              "1     -0.206691 -0.006984       5        1   4.411472\n",
              "6     -0.196440 -0.020416       6        1   4.395045\n",
              "11     0.006626  0.081661       7        1   1.859169\n",
              "12    -0.028757 -0.010572       8        1   0.700254\n",
              "8     -0.086976 -0.090560       9        1   0.656264\n",
              "3      0.083876  0.043474      10        1   0.613861\n",
              "5      0.044343  0.001978      11        1   0.502804\n",
              "4      0.096450 -0.013550      12        1   0.428310\n",
              "9      0.083614  0.007258      13        1   0.421422\n",
              "14     0.114169 -0.110859      14        1   0.174781\n",
              "2      0.109014 -0.068400      15        1   0.017244, topic_info=     Category         Freq    Term        Total  loglift  logprob\n",
              "857   Default  1523.000000    miss  1523.000000  30.0000  30.0000\n",
              "823   Default   904.000000    emma   904.000000  29.0000  29.0000\n",
              "142   Default  1437.000000    know  1437.000000  28.0000  28.0000\n",
              "407   Default  1357.000000    good  1357.000000  27.0000  27.0000\n",
              "156   Default  1734.000000  little  1734.000000  26.0000  26.0000\n",
              "...       ...          ...     ...          ...      ...      ...\n",
              "1061  Topic15     0.022481  sister   577.835815  -1.4889  -7.7851\n",
              "75    Topic15     0.022036    door   537.006836  -1.4356  -7.8051\n",
              "885   Topic15     0.025190   shall   926.786072  -1.8476  -7.6714\n",
              "434   Topic15     0.024651    jane   935.528687  -1.8786  -7.6930\n",
              "159   Topic15     0.023036  looked   695.265015  -1.6495  -7.7607\n",
              "\n",
              "[1136 rows x 6 columns], token_table=      Topic      Freq        Term\n",
              "term                             \n",
              "5672      2  0.585601     abandon\n",
              "5672     11  0.195200     abandon\n",
              "4364      2  0.943154       abbot\n",
              "316       1  0.416926  absolutely\n",
              "316       2  0.162703  absolutely\n",
              "...     ...       ...         ...\n",
              "791      13  0.003006       young\n",
              "5820      2  0.405364     zoraide\n",
              "5820      3  0.121609     zoraide\n",
              "5820      7  0.202682     zoraide\n",
              "5820     11  0.243219     zoraide\n",
              "\n",
              "[3857 rows x 3 columns], R=30, lambda_step=0.01, plot_opts={'xlab': 'PC1', 'ylab': 'PC2'}, topic_order=[1, 8, 14, 11, 2, 7, 12, 13, 9, 4, 6, 5, 10, 15, 3])"
            ]
          },
          "metadata": {
            "tags": []
          },
          "execution_count": 70
        }
      ]
    },
    {
      "cell_type": "markdown",
      "metadata": {
        "id": "08I_0mHj7Mnj",
        "colab_type": "text"
      },
      "source": [
        "### Overall Model / Documents"
      ]
    },
    {
      "cell_type": "code",
      "metadata": {
        "id": "3ZBZRWNv7Mnk",
        "colab_type": "code",
        "colab": {
          "base_uri": "https://localhost:8080/",
          "height": 34
        },
        "outputId": "8ca39493-f1be-4fc1-b68d-d7723b34dc19"
      },
      "source": [
        "lda[corpus[0]]"
      ],
      "execution_count": 71,
      "outputs": [
        {
          "output_type": "execute_result",
          "data": {
            "text/plain": [
              "[(7, 0.65356463), (10, 0.0109517295), (13, 0.3335034)]"
            ]
          },
          "metadata": {
            "tags": []
          },
          "execution_count": 71
        }
      ]
    },
    {
      "cell_type": "code",
      "metadata": {
        "id": "WPdpfFtr7Mnu",
        "colab_type": "code",
        "colab": {}
      },
      "source": [
        "distro = [lda[d] for d in corpus]"
      ],
      "execution_count": 0,
      "outputs": []
    },
    {
      "cell_type": "code",
      "metadata": {
        "id": "8nqUTChy7Mny",
        "colab_type": "code",
        "colab": {
          "base_uri": "https://localhost:8080/",
          "height": 34
        },
        "outputId": "6735141d-44d4-4683-f6b2-9d5ab97b144c"
      },
      "source": [
        "distro[0]"
      ],
      "execution_count": 73,
      "outputs": [
        {
          "output_type": "execute_result",
          "data": {
            "text/plain": [
              "[(7, 0.6536164), (10, 0.010943202), (13, 0.33346015)]"
            ]
          },
          "metadata": {
            "tags": []
          },
          "execution_count": 73
        }
      ]
    },
    {
      "cell_type": "code",
      "metadata": {
        "id": "vOkdfiai7Mn1",
        "colab_type": "code",
        "colab": {}
      },
      "source": [
        "def update(doc):\n",
        "        d_dist = {k:0 for k in range(0,15)}\n",
        "        for t in doc:\n",
        "            d_dist[t[0]] = t[1]\n",
        "        return d_dist\n",
        "    \n",
        "new_distro = [update(d) for d in distro]"
      ],
      "execution_count": 0,
      "outputs": []
    },
    {
      "cell_type": "code",
      "metadata": {
        "id": "_cXfVtqF7Mn7",
        "colab_type": "code",
        "colab": {}
      },
      "source": [
        "df = pd.DataFrame.from_records(new_distro, index=titles)\n",
        "df.columns = topics\n",
        "df['author'] = df.reset_index()['index'].apply(lambda x: x.split('_')[0]).tolist()"
      ],
      "execution_count": 0,
      "outputs": []
    },
    {
      "cell_type": "code",
      "metadata": {
        "id": "qC2eJkiS7Mn-",
        "colab_type": "code",
        "colab": {
          "base_uri": "https://localhost:8080/",
          "height": 292
        },
        "outputId": "16600995-46fb-4fdf-8359-60763e0e705d"
      },
      "source": [
        "df.head()"
      ],
      "execution_count": 80,
      "outputs": [
        {
          "output_type": "execute_result",
          "data": {
            "text/html": [
              "<div>\n",
              "<style scoped>\n",
              "    .dataframe tbody tr th:only-of-type {\n",
              "        vertical-align: middle;\n",
              "    }\n",
              "\n",
              "    .dataframe tbody tr th {\n",
              "        vertical-align: top;\n",
              "    }\n",
              "\n",
              "    .dataframe thead th {\n",
              "        text-align: right;\n",
              "    }\n",
              "</style>\n",
              "<table border=\"1\" class=\"dataframe\">\n",
              "  <thead>\n",
              "    <tr style=\"text-align: right;\">\n",
              "      <th></th>\n",
              "      <th>elinor miss elizabeth think know</th>\n",
              "      <th>miss emma jane weston fairfax</th>\n",
              "      <th>miss little think good know</th>\n",
              "      <th>know ginevra paul madame time</th>\n",
              "      <th>madame dr day good john</th>\n",
              "      <th>pelet madame reuter john want</th>\n",
              "      <th>emma harriet weston knightley elton</th>\n",
              "      <th>like little thought long time</th>\n",
              "      <th>miss emma fairfax churchill bates</th>\n",
              "      <th>monsieur paul old half told</th>\n",
              "      <th>sir rochester jane miss like</th>\n",
              "      <th>hunsden like face good little</th>\n",
              "      <th>miss jane smith elton thought</th>\n",
              "      <th>little know like good john</th>\n",
              "      <th>burns scatcherd miss helen bear</th>\n",
              "      <th>author</th>\n",
              "    </tr>\n",
              "  </thead>\n",
              "  <tbody>\n",
              "    <tr>\n",
              "      <th>CBronte_Professor0036</th>\n",
              "      <td>0.000000</td>\n",
              "      <td>0.000000</td>\n",
              "      <td>0</td>\n",
              "      <td>0.0</td>\n",
              "      <td>0.0</td>\n",
              "      <td>0.0</td>\n",
              "      <td>0.0</td>\n",
              "      <td>0.653551</td>\n",
              "      <td>0.0</td>\n",
              "      <td>0.0</td>\n",
              "      <td>0.010934</td>\n",
              "      <td>0.0</td>\n",
              "      <td>0.0</td>\n",
              "      <td>0.333534</td>\n",
              "      <td>0.0</td>\n",
              "      <td>CBronte</td>\n",
              "    </tr>\n",
              "    <tr>\n",
              "      <th>CBronte_Jane0126</th>\n",
              "      <td>0.000000</td>\n",
              "      <td>0.000000</td>\n",
              "      <td>0</td>\n",
              "      <td>0.0</td>\n",
              "      <td>0.0</td>\n",
              "      <td>0.0</td>\n",
              "      <td>0.0</td>\n",
              "      <td>0.834883</td>\n",
              "      <td>0.0</td>\n",
              "      <td>0.0</td>\n",
              "      <td>0.162612</td>\n",
              "      <td>0.0</td>\n",
              "      <td>0.0</td>\n",
              "      <td>0.000000</td>\n",
              "      <td>0.0</td>\n",
              "      <td>CBronte</td>\n",
              "    </tr>\n",
              "    <tr>\n",
              "      <th>CBronte_Professor0078</th>\n",
              "      <td>0.000000</td>\n",
              "      <td>0.000000</td>\n",
              "      <td>0</td>\n",
              "      <td>0.0</td>\n",
              "      <td>0.0</td>\n",
              "      <td>0.0</td>\n",
              "      <td>0.0</td>\n",
              "      <td>0.261396</td>\n",
              "      <td>0.0</td>\n",
              "      <td>0.0</td>\n",
              "      <td>0.628448</td>\n",
              "      <td>0.0</td>\n",
              "      <td>0.0</td>\n",
              "      <td>0.099146</td>\n",
              "      <td>0.0</td>\n",
              "      <td>CBronte</td>\n",
              "    </tr>\n",
              "    <tr>\n",
              "      <th>Austen_Emma0045</th>\n",
              "      <td>0.000000</td>\n",
              "      <td>0.997263</td>\n",
              "      <td>0</td>\n",
              "      <td>0.0</td>\n",
              "      <td>0.0</td>\n",
              "      <td>0.0</td>\n",
              "      <td>0.0</td>\n",
              "      <td>0.000000</td>\n",
              "      <td>0.0</td>\n",
              "      <td>0.0</td>\n",
              "      <td>0.000000</td>\n",
              "      <td>0.0</td>\n",
              "      <td>0.0</td>\n",
              "      <td>0.000000</td>\n",
              "      <td>0.0</td>\n",
              "      <td>Austen</td>\n",
              "    </tr>\n",
              "    <tr>\n",
              "      <th>Austen_Sense0091</th>\n",
              "      <td>0.997518</td>\n",
              "      <td>0.000000</td>\n",
              "      <td>0</td>\n",
              "      <td>0.0</td>\n",
              "      <td>0.0</td>\n",
              "      <td>0.0</td>\n",
              "      <td>0.0</td>\n",
              "      <td>0.000000</td>\n",
              "      <td>0.0</td>\n",
              "      <td>0.0</td>\n",
              "      <td>0.000000</td>\n",
              "      <td>0.0</td>\n",
              "      <td>0.0</td>\n",
              "      <td>0.000000</td>\n",
              "      <td>0.0</td>\n",
              "      <td>Austen</td>\n",
              "    </tr>\n",
              "  </tbody>\n",
              "</table>\n",
              "</div>"
            ],
            "text/plain": [
              "                       elinor miss elizabeth think know  ...   author\n",
              "CBronte_Professor0036                          0.000000  ...  CBronte\n",
              "CBronte_Jane0126                               0.000000  ...  CBronte\n",
              "CBronte_Professor0078                          0.000000  ...  CBronte\n",
              "Austen_Emma0045                                0.000000  ...   Austen\n",
              "Austen_Sense0091                               0.997518  ...   Austen\n",
              "\n",
              "[5 rows x 16 columns]"
            ]
          },
          "metadata": {
            "tags": []
          },
          "execution_count": 80
        }
      ]
    },
    {
      "cell_type": "code",
      "metadata": {
        "id": "GhdqcJSX7MoB",
        "colab_type": "code",
        "colab": {
          "base_uri": "https://localhost:8080/",
          "height": 210
        },
        "outputId": "f1f1a1cd-1adb-4e4e-b5d2-b5ea93f4966a"
      },
      "source": [
        "df.groupby('author').mean()"
      ],
      "execution_count": 81,
      "outputs": [
        {
          "output_type": "execute_result",
          "data": {
            "text/html": [
              "<div>\n",
              "<style scoped>\n",
              "    .dataframe tbody tr th:only-of-type {\n",
              "        vertical-align: middle;\n",
              "    }\n",
              "\n",
              "    .dataframe tbody tr th {\n",
              "        vertical-align: top;\n",
              "    }\n",
              "\n",
              "    .dataframe thead th {\n",
              "        text-align: right;\n",
              "    }\n",
              "</style>\n",
              "<table border=\"1\" class=\"dataframe\">\n",
              "  <thead>\n",
              "    <tr style=\"text-align: right;\">\n",
              "      <th></th>\n",
              "      <th>elinor miss elizabeth think know</th>\n",
              "      <th>miss emma jane weston fairfax</th>\n",
              "      <th>miss little think good know</th>\n",
              "      <th>know ginevra paul madame time</th>\n",
              "      <th>madame dr day good john</th>\n",
              "      <th>pelet madame reuter john want</th>\n",
              "      <th>emma harriet weston knightley elton</th>\n",
              "      <th>like little thought long time</th>\n",
              "      <th>miss emma fairfax churchill bates</th>\n",
              "      <th>monsieur paul old half told</th>\n",
              "      <th>sir rochester jane miss like</th>\n",
              "      <th>hunsden like face good little</th>\n",
              "      <th>miss jane smith elton thought</th>\n",
              "      <th>little know like good john</th>\n",
              "      <th>burns scatcherd miss helen bear</th>\n",
              "    </tr>\n",
              "    <tr>\n",
              "      <th>author</th>\n",
              "      <th></th>\n",
              "      <th></th>\n",
              "      <th></th>\n",
              "      <th></th>\n",
              "      <th></th>\n",
              "      <th></th>\n",
              "      <th></th>\n",
              "      <th></th>\n",
              "      <th></th>\n",
              "      <th></th>\n",
              "      <th></th>\n",
              "      <th></th>\n",
              "      <th></th>\n",
              "      <th></th>\n",
              "      <th></th>\n",
              "    </tr>\n",
              "  </thead>\n",
              "  <tbody>\n",
              "    <tr>\n",
              "      <th>Austen</th>\n",
              "      <td>0.761335</td>\n",
              "      <td>0.096210</td>\n",
              "      <td>0</td>\n",
              "      <td>0.00000</td>\n",
              "      <td>0.000000</td>\n",
              "      <td>0.00000</td>\n",
              "      <td>0.095859</td>\n",
              "      <td>0.011439</td>\n",
              "      <td>0.013407</td>\n",
              "      <td>0.000000</td>\n",
              "      <td>0.006978</td>\n",
              "      <td>0.003115</td>\n",
              "      <td>0.006258</td>\n",
              "      <td>0.002789</td>\n",
              "      <td>0.000000</td>\n",
              "    </tr>\n",
              "    <tr>\n",
              "      <th>CBronte</th>\n",
              "      <td>0.023508</td>\n",
              "      <td>0.000728</td>\n",
              "      <td>0</td>\n",
              "      <td>0.01032</td>\n",
              "      <td>0.006838</td>\n",
              "      <td>0.00943</td>\n",
              "      <td>0.000273</td>\n",
              "      <td>0.488010</td>\n",
              "      <td>0.000115</td>\n",
              "      <td>0.006788</td>\n",
              "      <td>0.151382</td>\n",
              "      <td>0.030376</td>\n",
              "      <td>0.008117</td>\n",
              "      <td>0.258458</td>\n",
              "      <td>0.002964</td>\n",
              "    </tr>\n",
              "  </tbody>\n",
              "</table>\n",
              "</div>"
            ],
            "text/plain": [
              "         elinor miss elizabeth think know  ...  burns scatcherd miss helen bear\n",
              "author                                     ...                                 \n",
              "Austen                           0.761335  ...                         0.000000\n",
              "CBronte                          0.023508  ...                         0.002964\n",
              "\n",
              "[2 rows x 15 columns]"
            ]
          },
          "metadata": {
            "tags": []
          },
          "execution_count": 81
        }
      ]
    },
    {
      "cell_type": "markdown",
      "metadata": {
        "id": "t15pJ89a7MoF",
        "colab_type": "text"
      },
      "source": [
        "## Challenge\n",
        "### *Can we see if one of the authors focus more on men than women?*\n",
        "\n",
        "*  Use Spacy for text prepocessing\n",
        "*  Extract the Named Entities from the documents using Spacy (command is fairly straight forward)\n",
        "*  Create unique list of names from the authors (you'll find that there are different types of named entities not all people)\n",
        "*  Label the names with genders (can you this by hand or you use the US census name lists)\n",
        "*  Customize your processing to replace the proper name with your gender from the previous step's lookup table\n",
        "*  Then follow the rest of the LDA flow\n"
      ]
    },
    {
      "cell_type": "markdown",
      "metadata": {
        "id": "_HrdD4wk7MoG",
        "colab_type": "text"
      },
      "source": [
        "# Selecting the Number of Topics (Learn)\n",
        "<a id=\"#p4\"></a>"
      ]
    },
    {
      "cell_type": "markdown",
      "metadata": {
        "id": "QZ3S7fO07MoH",
        "colab_type": "text"
      },
      "source": [
        "## Overview"
      ]
    },
    {
      "cell_type": "markdown",
      "metadata": {
        "id": "Pd9Dz9u87MoH",
        "colab_type": "text"
      },
      "source": [
        "## Follow Along"
      ]
    },
    {
      "cell_type": "code",
      "metadata": {
        "id": "_2q-4hbh7MoI",
        "colab_type": "code",
        "colab": {}
      },
      "source": [
        "from gensim.models.coherencemodel import CoherenceModel\n",
        "\n",
        "def compute_coherence_values(dictionary, corpus, path, limit, start=2, step=3, passes=5):\n",
        "    \"\"\"\n",
        "    Compute c_v coherence for various number of topics\n",
        "\n",
        "    Parameters:\n",
        "    ----------\n",
        "    dictionary : Gensim dictionary\n",
        "    corpus : Gensim corpus\n",
        "    path : path to input texts\n",
        "    limit : Max num of topics\n",
        "    passes: the number of times the entire lda model & coherence values are calculated\n",
        "\n",
        "    Returns:\n",
        "    -------\n",
        "    coherence_values : Coherence values corresponding to the LDA model with respective number of topics\n",
        "    \"\"\"\n",
        "    \n",
        "    coherence_values = []\n",
        "    \n",
        "    tokens = list(doc_stream(path))\n",
        "    \n",
        "    for iter_ in range(passes):\n",
        "        for num_topics in range(start, limit, step):\n",
        "            stream = doc_stream(path)\n",
        "            model = LdaMulticore(corpus=corpus, num_topics=num_topics, id2word=dictionary, workers=4)\n",
        "            coherencemodel = CoherenceModel(model=model,dictionary=dictionary,corpus=corpus, coherence='u_mass')\n",
        "            coherence_values.append({'pass': iter_, \n",
        "                                     'num_topics': num_topics, \n",
        "                                     'coherence_score': coherencemodel.get_coherence()\n",
        "                                    })\n",
        "\n",
        "    return coherence_values"
      ],
      "execution_count": 0,
      "outputs": []
    },
    {
      "cell_type": "code",
      "metadata": {
        "id": "W6qpi7Z57MoK",
        "colab_type": "code",
        "colab": {}
      },
      "source": [
        "# Can take a long time to run.\n",
        "import warnings # remove deprecation warnings for each iteration\n",
        "\n",
        "with warnings.catch_warnings():\n",
        "  warnings.filterwarnings(\"ignore\",category=DeprecationWarning)\n",
        "  coherence_values = compute_coherence_values(dictionary=id2word, \n",
        "                                                        corpus=corpus, \n",
        "                                                        path=path, \n",
        "                                                        start=2, \n",
        "                                                        limit=40, \n",
        "                                                        step=6,\n",
        "                                                        passes=40)"
      ],
      "execution_count": 0,
      "outputs": []
    },
    {
      "cell_type": "code",
      "metadata": {
        "id": "1Gfr0R7M7MoM",
        "colab_type": "code",
        "colab": {}
      },
      "source": [
        "topic_coherence = pd.DataFrame.from_records(coherence_values)"
      ],
      "execution_count": 0,
      "outputs": []
    },
    {
      "cell_type": "code",
      "metadata": {
        "id": "72wGt6uT7MoT",
        "colab_type": "code",
        "colab": {
          "base_uri": "https://localhost:8080/",
          "height": 204
        },
        "outputId": "d6f8989f-c6ba-4dd2-a76e-2e139d2377a7"
      },
      "source": [
        "topic_coherence.head()"
      ],
      "execution_count": 86,
      "outputs": [
        {
          "output_type": "execute_result",
          "data": {
            "text/html": [
              "<div>\n",
              "<style scoped>\n",
              "    .dataframe tbody tr th:only-of-type {\n",
              "        vertical-align: middle;\n",
              "    }\n",
              "\n",
              "    .dataframe tbody tr th {\n",
              "        vertical-align: top;\n",
              "    }\n",
              "\n",
              "    .dataframe thead th {\n",
              "        text-align: right;\n",
              "    }\n",
              "</style>\n",
              "<table border=\"1\" class=\"dataframe\">\n",
              "  <thead>\n",
              "    <tr style=\"text-align: right;\">\n",
              "      <th></th>\n",
              "      <th>pass</th>\n",
              "      <th>num_topics</th>\n",
              "      <th>coherence_score</th>\n",
              "    </tr>\n",
              "  </thead>\n",
              "  <tbody>\n",
              "    <tr>\n",
              "      <th>0</th>\n",
              "      <td>0</td>\n",
              "      <td>2</td>\n",
              "      <td>-0.876097</td>\n",
              "    </tr>\n",
              "    <tr>\n",
              "      <th>1</th>\n",
              "      <td>0</td>\n",
              "      <td>8</td>\n",
              "      <td>-0.740000</td>\n",
              "    </tr>\n",
              "    <tr>\n",
              "      <th>2</th>\n",
              "      <td>0</td>\n",
              "      <td>14</td>\n",
              "      <td>-0.757247</td>\n",
              "    </tr>\n",
              "    <tr>\n",
              "      <th>3</th>\n",
              "      <td>0</td>\n",
              "      <td>20</td>\n",
              "      <td>-0.765664</td>\n",
              "    </tr>\n",
              "    <tr>\n",
              "      <th>4</th>\n",
              "      <td>0</td>\n",
              "      <td>26</td>\n",
              "      <td>-0.793818</td>\n",
              "    </tr>\n",
              "  </tbody>\n",
              "</table>\n",
              "</div>"
            ],
            "text/plain": [
              "   pass  num_topics  coherence_score\n",
              "0     0           2        -0.876097\n",
              "1     0           8        -0.740000\n",
              "2     0          14        -0.757247\n",
              "3     0          20        -0.765664\n",
              "4     0          26        -0.793818"
            ]
          },
          "metadata": {
            "tags": []
          },
          "execution_count": 86
        }
      ]
    },
    {
      "cell_type": "code",
      "metadata": {
        "id": "AxjgQW6J7MoV",
        "colab_type": "code",
        "colab": {
          "base_uri": "https://localhost:8080/",
          "height": 280
        },
        "outputId": "0e68d6c6-c18f-4152-9c65-98c7a9604deb"
      },
      "source": [
        "import seaborn as sns\n",
        "\n",
        "ax = sns.lineplot(x=\"num_topics\", y=\"coherence_score\", data=topic_coherence)"
      ],
      "execution_count": 87,
      "outputs": [
        {
          "output_type": "display_data",
          "data": {
            "image/png": "[encoded data removed]",
            "text/plain": [
              "<Figure size 432x288 with 1 Axes>"
            ]
          },
          "metadata": {
            "tags": []
          }
        }
      ]
    },
    {
      "cell_type": "code",
      "metadata": {
        "id": "nlyHiuSo7MoY",
        "colab_type": "code",
        "colab": {
          "base_uri": "https://localhost:8080/",
          "height": 180
        },
        "outputId": "09f9b42a-d936-4d10-9813-9e551b27f944"
      },
      "source": [
        "# Print the coherence scores\n",
        "for m, cv in zip(x, coherence_values):\n",
        "    print(\"Num Topics =\", m, \" has Coherence Value of\", round(cv, 4))"
      ],
      "execution_count": 88,
      "outputs": [
        {
          "output_type": "error",
          "ename": "NameError",
          "evalue": "ignored",
          "traceback": [
            "\u001b[0;31m---------------------------------------------------------------------------\u001b[0m",
            "\u001b[0;31mNameError\u001b[0m                                 Traceback (most recent call last)",
            "\u001b[0;32m<ipython-input-88-8efea9c629c7>\u001b[0m in \u001b[0;36m<module>\u001b[0;34m()\u001b[0m\n\u001b[0;32m----> 1\u001b[0;31m \u001b[0;32mfor\u001b[0m \u001b[0mm\u001b[0m\u001b[0;34m,\u001b[0m \u001b[0mcv\u001b[0m \u001b[0;32min\u001b[0m \u001b[0mzip\u001b[0m\u001b[0;34m(\u001b[0m\u001b[0mx\u001b[0m\u001b[0;34m,\u001b[0m \u001b[0mcoherence_values\u001b[0m\u001b[0;34m)\u001b[0m\u001b[0;34m:\u001b[0m\u001b[0;34m\u001b[0m\u001b[0;34m\u001b[0m\u001b[0m\n\u001b[0m\u001b[1;32m      2\u001b[0m     \u001b[0mprint\u001b[0m\u001b[0;34m(\u001b[0m\u001b[0;34m\"Num Topics =\"\u001b[0m\u001b[0;34m,\u001b[0m \u001b[0mm\u001b[0m\u001b[0;34m,\u001b[0m \u001b[0;34m\" has Coherence Value of\"\u001b[0m\u001b[0;34m,\u001b[0m \u001b[0mround\u001b[0m\u001b[0;34m(\u001b[0m\u001b[0mcv\u001b[0m\u001b[0;34m,\u001b[0m \u001b[0;36m4\u001b[0m\u001b[0;34m)\u001b[0m\u001b[0;34m)\u001b[0m\u001b[0;34m\u001b[0m\u001b[0;34m\u001b[0m\u001b[0m\n",
            "\u001b[0;31mNameError\u001b[0m: name 'x' is not defined"
          ]
        }
      ]
    },
    {
      "cell_type": "code",
      "metadata": {
        "id": "LbOu5dQo7Mob",
        "colab_type": "code",
        "colab": {},
        "outputId": "efbf8dd3-be49-4748-bf1a-8a75b4dff827"
      },
      "source": [
        "lda[id2word.doc2bow(tokenize(\"This is a sample document to score with a topic distribution.\"))]"
      ],
      "execution_count": 0,
      "outputs": [
        {
          "output_type": "execute_result",
          "data": {
            "text/plain": [
              "[(0, 0.02226036),\n",
              " (1, 0.022260414),\n",
              " (2, 0.022260347),\n",
              " (3, 0.022260347),\n",
              " (4, 0.022260392),\n",
              " (5, 0.0222604),\n",
              " (6, 0.022260347),\n",
              " (7, 0.35487327),\n",
              " (8, 0.022260398),\n",
              " (9, 0.022260517),\n",
              " (10, 0.022260416),\n",
              " (11, 0.022260422),\n",
              " (12, 0.3557417),\n",
              " (13, 0.022260347),\n",
              " (14, 0.022260347)]"
            ]
          },
          "metadata": {
            "tags": []
          },
          "execution_count": 89
        }
      ]
    },
    {
      "cell_type": "markdown",
      "metadata": {
        "id": "MugZ2_6F7Mof",
        "colab_type": "text"
      },
      "source": [
        "## Challenge\n",
        "### *Can we see if one of the authors focus more on men than women?*\n",
        "\n",
        "*  Use Spacy for text prepocessing\n",
        "*  Extract the Named Entities from the documents using Spacy (command is fairly straight forward)\n",
        "*  Create unique list of names from the authors (you'll find that there are different types of named entities not all people)\n",
        "*  Label the names with genders (can you this by hand or you use the US census name lists)\n",
        "*  Customize your processing to replace the proper name with your gender from the previous step's lookup table\n",
        "*  Then follow the rest of the LDA flow"
      ]
    },
    {
      "cell_type": "code",
      "metadata": {
        "id": "Zq-hZZdv7Mog",
        "colab_type": "code",
        "colab": {},
        "outputId": "d941c979-610b-4d58-f743-332808d2b96d"
      },
      "source": [
        "import spacy\n",
        "\n",
        "nlp = spacy.load('en_core_web_lg')"
      ],
      "execution_count": 0,
      "outputs": [
        {
          "output_type": "stream",
          "text": [
            "/Users/jonathansokoll/anaconda3/envs/U4-S1-NLP/lib/python3.7/site-packages/thinc/neural/train.py:7: DeprecationWarning: Using or importing the ABCs from 'collections' instead of from 'collections.abc' is deprecated, and in 3.8 it will stop working\n",
            "  from .optimizers import Adam, linear_decay\n",
            "/Users/jonathansokoll/anaconda3/envs/U4-S1-NLP/lib/python3.7/site-packages/thinc/check.py:4: DeprecationWarning: Using or importing the ABCs from 'collections' instead of from 'collections.abc' is deprecated, and in 3.8 it will stop working\n",
            "  from collections import Sequence, Sized, Iterable, Callable\n",
            "/Users/jonathansokoll/anaconda3/envs/U4-S1-NLP/lib/python3.7/site-packages/thinc/check.py:4: DeprecationWarning: Using or importing the ABCs from 'collections' instead of from 'collections.abc' is deprecated, and in 3.8 it will stop working\n",
            "  from collections import Sequence, Sized, Iterable, Callable\n"
          ],
          "name": "stderr"
        }
      ]
    },
    {
      "cell_type": "code",
      "metadata": {
        "id": "8MdWFlci7Moi",
        "colab_type": "code",
        "colab": {}
      },
      "source": [
        "test = \"Ned asked me a question about England today.\""
      ],
      "execution_count": 0,
      "outputs": []
    },
    {
      "cell_type": "code",
      "metadata": {
        "id": "rX2Vdx5M7Mok",
        "colab_type": "code",
        "colab": {},
        "outputId": "df53a44a-b04b-4347-91a4-e1c545c4ec3a"
      },
      "source": [
        "doc = nlp(test)\n",
        "\n",
        "for token in doc:\n",
        "    print(token.text, token.lemma_, token.pos_)"
      ],
      "execution_count": 0,
      "outputs": [
        {
          "output_type": "stream",
          "text": [
            "Ned Ned PROPN\n",
            "asked ask VERB\n",
            "me -PRON- PRON\n",
            "a a DET\n",
            "question question NOUN\n",
            "about about ADP\n",
            "England England PROPN\n",
            "today today NOUN\n",
            ". . PUNCT\n"
          ],
          "name": "stdout"
        }
      ]
    },
    {
      "cell_type": "code",
      "metadata": {
        "id": "mY8-ZAgc7Mom",
        "colab_type": "code",
        "colab": {},
        "outputId": "c8a66985-f95e-4d7c-cf60-45829a1e7bcc"
      },
      "source": [
        "for ent in doc.ents:\n",
        "    print(ent.text, ent.label_)"
      ],
      "execution_count": 0,
      "outputs": [
        {
          "output_type": "stream",
          "text": [
            "Ned PERSON\n",
            "England GPE\n",
            "today DATE\n"
          ],
          "name": "stdout"
        }
      ]
    },
    {
      "cell_type": "code",
      "metadata": {
        "id": "FCv33owG7Moo",
        "colab_type": "code",
        "colab": {}
      },
      "source": [
        "def doc_stream(path):\n",
        "    for f in os.listdir(path):\n",
        "        with open(os.path.join(path,f)) as t:\n",
        "            text = t.read().strip('\\n')\n",
        "            yield text\n",
        "\n",
        "def get_people(docstream):\n",
        "    \n",
        "    ppl = []\n",
        "    \n",
        "    for d in docstream:\n",
        "        \n",
        "        doc = nlp(d)\n",
        "        \n",
        "        for ent in doc.ents:\n",
        "            \n",
        "            if ent.label_ == \"PERSON\":\n",
        "                ppl.append(ent.lemma_)\n",
        "                \n",
        "    return set(ppl)"
      ],
      "execution_count": 0,
      "outputs": []
    },
    {
      "cell_type": "code",
      "metadata": {
        "id": "1AtjY-YW7Mor",
        "colab_type": "code",
        "colab": {}
      },
      "source": [
        "people = get_people(doc_stream(path))"
      ],
      "execution_count": 0,
      "outputs": []
    },
    {
      "cell_type": "code",
      "metadata": {
        "id": "deh1IG0N7Mot",
        "colab_type": "code",
        "colab": {}
      },
      "source": [
        "doc = nlp(next(doc_stream(path)))"
      ],
      "execution_count": 0,
      "outputs": []
    },
    {
      "cell_type": "code",
      "metadata": {
        "id": "jASD1D457Mow",
        "colab_type": "code",
        "colab": {},
        "outputId": "0dcee495-8af0-4a4a-efd0-14552f8592b9"
      },
      "source": [
        "doc.ents[0].lemma_"
      ],
      "execution_count": 0,
      "outputs": [
        {
          "output_type": "execute_result",
          "data": {
            "text/plain": [
              "'yesterday'"
            ]
          },
          "metadata": {
            "tags": []
          },
          "execution_count": 128
        }
      ]
    },
    {
      "cell_type": "markdown",
      "metadata": {
        "id": "9afj-UgA7Moz",
        "colab_type": "text"
      },
      "source": [
        "# Sources\n",
        "\n",
        "### *References*\n",
        "* [Andrew Ng et al paper on LDA](https://ai.stanford.edu/~ang/papers/jair03-lda.pdf)\n",
        "* On [Coherence](https://pdfs.semanticscholar.org/1521/8d9c029cbb903ae7c729b2c644c24994c201.pdf)\n",
        "\n",
        "### *Resources*\n",
        "\n",
        "* [Gensim](https://radimrehurek.com/gensim/): Python package for topic modeling, nlp, word vectorization, and few other things. Well maintained and well documented.\n",
        "* [Topic Modeling with Gensim](http://www.machinelearningplus.com/nlp/topic-modeling-gensim-python/#11createthedictionaryandcorpusneededfortopicmodeling): A kind of cookbook for LDA with gensim. Excellent overview, but the you need to be aware of missing import statements and assumed prior knowledge.\n",
        "* [Chinese Restuarant Process](https://en.wikipedia.org/wiki/Chinese_restaurant_process): That really obscure stats thing I mentioned... \n",
        "* [PyLDAvis](https://github.com/bmabey/pyLDAvis): Library for visualizing the topic model and performing some exploratory work. Works well. Has a direct parrell implementation in R as well. \n",
        "* [Rare Technologies](https://rare-technologies.com/): The people that made & maintain gensim and a few other libraries.\n",
        "* [Jane Austen v. Charlotte Bronte](https://www.literaryladiesguide.com/literary-musings/jane-austen-charlotte-bronte-different-alike/)"
      ]
    }
  ]
}