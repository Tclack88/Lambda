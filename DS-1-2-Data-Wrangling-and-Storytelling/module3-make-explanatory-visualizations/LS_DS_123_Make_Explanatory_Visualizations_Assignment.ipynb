{
  "nbformat": 4,
  "nbformat_minor": 0,
  "metadata": {
    "colab": {
      "name": "LS_DS_123_Make_Explanatory_Visualizations_Assignment.ipynb",
      "version": "0.3.2",
      "provenance": [],
      "collapsed_sections": [],
      "include_colab_link": true
    },
    "language_info": {
      "codemirror_mode": {
        "name": "ipython",
        "version": 3
      },
      "file_extension": ".py",
      "mimetype": "text/x-python",
      "name": "python",
      "nbconvert_exporter": "python",
      "pygments_lexer": "ipython3",
      "version": "3.7.1"
    },
    "kernelspec": {
      "display_name": "Python 3",
      "language": "python",
      "name": "python3"
    }
  },
  "cells": [
    {
      "cell_type": "markdown",
      "metadata": {
        "id": "view-in-github",
        "colab_type": "text"
      },
      "source": [
        "<a href=\"https://colab.research.google.com/github/Tclack88/DS-Unit-1-Sprint-2-Data-Wrangling-and-Storytelling/blob/master/module3-make-explanatory-visualizations/LS_DS_123_Make_Explanatory_Visualizations_Assignment.ipynb\" target=\"_parent\"><img src=\"https://colab.research.google.com/assets/colab-badge.svg\" alt=\"Open In Colab\"/></a>"
      ]
    },
    {
      "cell_type": "markdown",
      "metadata": {
        "colab_type": "text",
        "id": "NMEswXWh9mqw"
      },
      "source": [
        "# ASSIGNMENT\n",
        "\n",
        "### 1) Replicate the lesson code. I recommend that you [do not copy-paste](https://docs.google.com/document/d/1ubOw9B3Hfip27hF2ZFnW3a3z9xAgrUDRReOEo-FHCVs/edit).\n",
        "\n",
        "Get caught up to where we got our example in class and then try and take things further. How close to \"pixel perfect\" can you make the lecture graph?\n",
        "\n",
        "Once you have something that you're proud of, share your graph in the cohort channel and move on to the second exercise.\n",
        "\n",
        "### 2) Reproduce another example from [FiveThityEight's shared data repository](https://data.fivethirtyeight.com/).\n",
        "\n",
        "**WARNING**: There are a lot of very custom graphs and tables at the above link. I **highly** recommend not trying to reproduce any that look like a table of values or something really different from the graph types that we are already familiar with. Search through the posts until you find a graph type that you are more or less familiar with: histogram, bar chart, stacked bar chart, line chart, [seaborn relplot](https://seaborn.pydata.org/generated/seaborn.relplot.html), etc. Recreating some of the graphics that 538 uses would be a lot easier in Adobe photoshop/illustrator than with matplotlib. \n",
        "\n",
        "- If you put in some time to find a graph that looks \"easy\" to replicate you'll probably find that it's not as easy as you thought. \n",
        "\n",
        "- If you start with a graph that looks hard to replicate you'll probably run up against a brick wall and be disappointed with your afternoon.\n",
        "\n",
        "\n",
        "\n",
        "\n",
        "\n",
        "\n",
        "\n",
        "\n",
        "\n",
        "\n"
      ]
    },
    {
      "cell_type": "markdown",
      "metadata": {
        "id": "wIRs0x2vfAQQ",
        "colab_type": "text"
      },
      "source": [
        "## 1 - replicate lesson code"
      ]
    },
    {
      "cell_type": "code",
      "metadata": {
        "id": "7SY1ZHawyZvz",
        "colab_type": "code",
        "colab": {}
      },
      "source": [
        "from IPython.display import display,Image\n",
        "\n",
        "url = 'https://fivethirtyeight.com/wp-content/uploads/2017/09/mehtahickey-inconvenient-0830-1.png'\n",
        "example = Image(url=url,width=400)"
      ],
      "execution_count": 0,
      "outputs": []
    },
    {
      "cell_type": "code",
      "metadata": {
        "id": "B9Ax9embf8bJ",
        "colab_type": "code",
        "colab": {}
      },
      "source": [
        "import matplotlib.pyplot as plt\n",
        "import pandas as pd\n",
        "import numpy as np"
      ],
      "execution_count": 0,
      "outputs": []
    },
    {
      "cell_type": "code",
      "metadata": {
        "id": "AOqDPv1JgKiz",
        "colab_type": "code",
        "colab": {}
      },
      "source": [
        "data = \"https://raw.githubusercontent.com/fivethirtyeight/data/master/inconvenient-sequel/ratings.csv\"\n",
        "IS = pd.read_csv(data)\n",
        "IS = IS[['1_votes','2_votes','3_votes','4_votes','5_votes','6_votes','7_votes','8_votes','9_votes','10_votes']]\n",
        "#IS.head(10)"
      ],
      "execution_count": 0,
      "outputs": []
    },
    {
      "cell_type": "code",
      "metadata": {
        "id": "x8LR7SwrpCOi",
        "colab_type": "code",
        "colab": {
          "base_uri": "https://localhost:8080/",
          "height": 51
        },
        "outputId": "79b23796-fe7d-4c85-b2d1-dd94728eaee1"
      },
      "source": [
        "vote_sums = list(IS.sum())\n",
        "vote_sums = np.asarray(vote_sums)\n",
        "vote_sums = 100* vote_sums/np.sum(vote_sums)\n",
        "vote_sums"
      ],
      "execution_count": 6,
      "outputs": [
        {
          "output_type": "execute_result",
          "data": {
            "text/plain": [
              "array([39.52868337,  2.86622861,  1.73444454,  0.79618132,  1.93303466,\n",
              "        3.33215825,  4.6685369 ,  4.45058633,  5.59400773, 35.0961383 ])"
            ]
          },
          "metadata": {
            "tags": []
          },
          "execution_count": 6
        }
      ]
    },
    {
      "cell_type": "code",
      "metadata": {
        "id": "-6qyBZJtmStm",
        "colab_type": "code",
        "outputId": "a3575480-665e-4fbb-ea55-8d47a3d3c01a",
        "colab": {
          "base_uri": "https://localhost:8080/",
          "height": 326
        }
      },
      "source": [
        "fig,ax = plt.subplots()\n",
        "fig.patch.set(facecolor='white')\n",
        "fig.patch.set_alpha(0)\n",
        "ax.set(facecolor='white')\n",
        "ax.patch.set_alpha(0)\n",
        "\n",
        "plt.style.use('fivethirtyeight');\n",
        "ax.bar(range(1,11),vote_sums,color='#eb6f38',width=.9,bottom=0);\n",
        "\n",
        "ax.set_xticks(range(1,11))\n",
        "ax.set_xticklabels(range(1,11),{'color':'grey','size':8})\n",
        "ax.set_yticks(range(0,50,10))\n",
        "ax.set_yticklabels(range(0,50,10),{'color':'grey','size':8})\n",
        "\n",
        "ax.tick_params(size=7,color='grey',grid_color='grey',left=False)\n",
        "ax.set_xlabel('Rating',fontsize=9,fontweight='bold',labelpad=10)\n",
        "ax.set_ylabel('Percent of total votes',fontsize=9,fontweight='bold',labelpad=10)\n",
        "ax.text(x=-1, y=47, s=\"'An Inconvenient Sequel: Truth To Power' is divisive\",fontweight='bold', fontsize=12,color='#202020');\n",
        "ax.text(x=-1, y=44.5, s=\"IMDb ratings for the film as of Aug. 29\", fontsize=11,color='#202020')\n",
        "ax.text(x=-0.25, y=39.4, s='%',fontsize=8,color='grey')\n",
        "\n",
        "for spine in plt.gca().spines.values():\n",
        "    spine.set_visible(False)\n",
        "ax.axhline(color='grey',lw=2)  # horizontal line had dissapeared\n",
        "\n",
        "\n",
        "plt.show()"
      ],
      "execution_count": 7,
      "outputs": [
        {
          "output_type": "display_data",
          "data": {
            "image/png": "[encoded data removed]",
            "text/plain": [
              "<Figure size 432x288 with 1 Axes>"
            ]
          },
          "metadata": {
            "tags": []
          }
        }
      ]
    },
    {
      "cell_type": "code",
      "metadata": {
        "id": "NFPK2qxXLYI8",
        "colab_type": "code",
        "colab": {
          "base_uri": "https://localhost:8080/",
          "height": 355
        },
        "outputId": "38cc569f-99e1-409f-b9b6-08a7ecbec7a8"
      },
      "source": [
        "display(example)"
      ],
      "execution_count": 8,
      "outputs": [
        {
          "output_type": "display_data",
          "data": {
            "text/html": [
              "<img src=\"https://fivethirtyeight.com/wp-content/uploads/2017/09/mehtahickey-inconvenient-0830-1.png\" width=\"400\"/>"
            ],
            "text/plain": [
              "<IPython.core.display.Image object>"
            ]
          },
          "metadata": {
            "tags": []
          }
        }
      ]
    },
    {
      "cell_type": "markdown",
      "metadata": {
        "id": "QWPZpjTeVV13",
        "colab_type": "text"
      },
      "source": [
        "## 2 -- Another example"
      ]
    },
    {
      "cell_type": "code",
      "metadata": {
        "id": "hJX0geApeQrw",
        "colab_type": "code",
        "colab": {
          "base_uri": "https://localhost:8080/",
          "height": 326
        },
        "outputId": "0ac6e9e6-0334-421f-ed07-86c33e7da702"
      },
      "source": [
        "marriage_data = \"https://raw.githubusercontent.com/fivethirtyeight/data/master/marriage/both_sexes.csv\"\n",
        "marriage = pd.read_csv(marriage_data)\n",
        "marriage.head()"
      ],
      "execution_count": 9,
      "outputs": [
        {
          "output_type": "execute_result",
          "data": {
            "text/html": [
              "<div>\n",
              "<style scoped>\n",
              "    .dataframe tbody tr th:only-of-type {\n",
              "        vertical-align: middle;\n",
              "    }\n",
              "\n",
              "    .dataframe tbody tr th {\n",
              "        vertical-align: top;\n",
              "    }\n",
              "\n",
              "    .dataframe thead th {\n",
              "        text-align: right;\n",
              "    }\n",
              "</style>\n",
              "<table border=\"1\" class=\"dataframe\">\n",
              "  <thead>\n",
              "    <tr style=\"text-align: right;\">\n",
              "      <th></th>\n",
              "      <th>Unnamed: 0</th>\n",
              "      <th>year</th>\n",
              "      <th>date</th>\n",
              "      <th>all_2534</th>\n",
              "      <th>HS_2534</th>\n",
              "      <th>SC_2534</th>\n",
              "      <th>BAp_2534</th>\n",
              "      <th>BAo_2534</th>\n",
              "      <th>GD_2534</th>\n",
              "      <th>White_2534</th>\n",
              "      <th>Black_2534</th>\n",
              "      <th>Hisp_2534</th>\n",
              "      <th>NE_2534</th>\n",
              "      <th>MA_2534</th>\n",
              "      <th>Midwest_2534</th>\n",
              "      <th>South_2534</th>\n",
              "      <th>Mountain_2534</th>\n",
              "      <th>Pacific_2534</th>\n",
              "      <th>poor_2534</th>\n",
              "      <th>mid_2534</th>\n",
              "      <th>rich_2534</th>\n",
              "      <th>all_3544</th>\n",
              "      <th>HS_3544</th>\n",
              "      <th>SC_3544</th>\n",
              "      <th>BAp_3544</th>\n",
              "      <th>BAo_3544</th>\n",
              "      <th>GD_3544</th>\n",
              "      <th>White_3544</th>\n",
              "      <th>Black_3544</th>\n",
              "      <th>Hisp_3544</th>\n",
              "      <th>NE_3544</th>\n",
              "      <th>MA_3544</th>\n",
              "      <th>Midwest_3544</th>\n",
              "      <th>South_3544</th>\n",
              "      <th>Mountain_3544</th>\n",
              "      <th>Pacific_3544</th>\n",
              "      <th>poor_3544</th>\n",
              "      <th>mid_3544</th>\n",
              "      <th>rich_3544</th>\n",
              "      <th>all_4554</th>\n",
              "      <th>HS_4554</th>\n",
              "      <th>SC_4554</th>\n",
              "      <th>BAp_4554</th>\n",
              "      <th>BAo_4554</th>\n",
              "      <th>GD_4554</th>\n",
              "      <th>White_4554</th>\n",
              "      <th>Black_4554</th>\n",
              "      <th>Hisp_4554</th>\n",
              "      <th>NE_4554</th>\n",
              "      <th>MA_4554</th>\n",
              "      <th>Midwest_4554</th>\n",
              "      <th>South_4554</th>\n",
              "      <th>Mountain_4554</th>\n",
              "      <th>Pacific_4554</th>\n",
              "      <th>poor_4554</th>\n",
              "      <th>mid_4554</th>\n",
              "      <th>rich_4554</th>\n",
              "      <th>nokids_all_2534</th>\n",
              "      <th>kids_all_2534</th>\n",
              "      <th>nokids_HS_2534</th>\n",
              "      <th>nokids_SC_2534</th>\n",
              "      <th>nokids_BAp_2534</th>\n",
              "      <th>nokids_BAo_2534</th>\n",
              "      <th>nokids_GD_2534</th>\n",
              "      <th>kids_HS_2534</th>\n",
              "      <th>kids_SC_2534</th>\n",
              "      <th>kids_BAp_2534</th>\n",
              "      <th>kids_BAo_2534</th>\n",
              "      <th>kids_GD_2534</th>\n",
              "      <th>nokids_poor_2534</th>\n",
              "      <th>nokids_mid_2534</th>\n",
              "      <th>nokids_rich_2534</th>\n",
              "      <th>kids_poor_2534</th>\n",
              "      <th>kids_mid_2534</th>\n",
              "      <th>kids_rich_2534</th>\n",
              "    </tr>\n",
              "  </thead>\n",
              "  <tbody>\n",
              "    <tr>\n",
              "      <th>0</th>\n",
              "      <td>1</td>\n",
              "      <td>1960</td>\n",
              "      <td>1960-01-01</td>\n",
              "      <td>0.123314</td>\n",
              "      <td>0.109533</td>\n",
              "      <td>0.152282</td>\n",
              "      <td>0.238995</td>\n",
              "      <td>0.238995</td>\n",
              "      <td>NaN</td>\n",
              "      <td>0.116485</td>\n",
              "      <td>0.162186</td>\n",
              "      <td>0.139374</td>\n",
              "      <td>0.150418</td>\n",
              "      <td>0.162893</td>\n",
              "      <td>0.112147</td>\n",
              "      <td>0.109056</td>\n",
              "      <td>0.091521</td>\n",
              "      <td>0.119876</td>\n",
              "      <td>0.137160</td>\n",
              "      <td>0.075149</td>\n",
              "      <td>0.206678</td>\n",
              "      <td>0.070582</td>\n",
              "      <td>0.068603</td>\n",
              "      <td>0.066637</td>\n",
              "      <td>0.132626</td>\n",
              "      <td>0.132626</td>\n",
              "      <td>NaN</td>\n",
              "      <td>0.068256</td>\n",
              "      <td>0.088367</td>\n",
              "      <td>0.073077</td>\n",
              "      <td>0.091943</td>\n",
              "      <td>0.093475</td>\n",
              "      <td>0.068634</td>\n",
              "      <td>0.060264</td>\n",
              "      <td>0.047397</td>\n",
              "      <td>0.058225</td>\n",
              "      <td>0.101975</td>\n",
              "      <td>0.047173</td>\n",
              "      <td>0.085539</td>\n",
              "      <td>0.072546</td>\n",
              "      <td>0.068408</td>\n",
              "      <td>0.079038</td>\n",
              "      <td>0.153609</td>\n",
              "      <td>0.153609</td>\n",
              "      <td>NaN</td>\n",
              "      <td>0.072467</td>\n",
              "      <td>0.069132</td>\n",
              "      <td>0.066361</td>\n",
              "      <td>0.102364</td>\n",
              "      <td>0.092648</td>\n",
              "      <td>0.072853</td>\n",
              "      <td>0.059773</td>\n",
              "      <td>0.047542</td>\n",
              "      <td>0.059970</td>\n",
              "      <td>0.103006</td>\n",
              "      <td>0.053644</td>\n",
              "      <td>0.079086</td>\n",
              "      <td>0.464056</td>\n",
              "      <td>0.002821</td>\n",
              "      <td>0.443015</td>\n",
              "      <td>0.500040</td>\n",
              "      <td>0.561910</td>\n",
              "      <td>0.561910</td>\n",
              "      <td>NaN</td>\n",
              "      <td>0.003319</td>\n",
              "      <td>0.001151</td>\n",
              "      <td>0.000575</td>\n",
              "      <td>0.000575</td>\n",
              "      <td>NaN</td>\n",
              "      <td>0.493306</td>\n",
              "      <td>0.410008</td>\n",
              "      <td>0.492118</td>\n",
              "      <td>0.008723</td>\n",
              "      <td>0.000753</td>\n",
              "      <td>0.000803</td>\n",
              "    </tr>\n",
              "    <tr>\n",
              "      <th>1</th>\n",
              "      <td>2</td>\n",
              "      <td>1970</td>\n",
              "      <td>1970-01-01</td>\n",
              "      <td>0.126971</td>\n",
              "      <td>0.109400</td>\n",
              "      <td>0.149510</td>\n",
              "      <td>0.218703</td>\n",
              "      <td>0.218703</td>\n",
              "      <td>NaN</td>\n",
              "      <td>0.117904</td>\n",
              "      <td>0.185516</td>\n",
              "      <td>0.129877</td>\n",
              "      <td>0.151723</td>\n",
              "      <td>0.164068</td>\n",
              "      <td>0.115374</td>\n",
              "      <td>0.112622</td>\n",
              "      <td>0.102936</td>\n",
              "      <td>0.137496</td>\n",
              "      <td>0.171720</td>\n",
              "      <td>0.081592</td>\n",
              "      <td>0.172409</td>\n",
              "      <td>0.067325</td>\n",
              "      <td>0.065120</td>\n",
              "      <td>0.062717</td>\n",
              "      <td>0.111690</td>\n",
              "      <td>0.111690</td>\n",
              "      <td>NaN</td>\n",
              "      <td>0.062504</td>\n",
              "      <td>0.102909</td>\n",
              "      <td>0.070705</td>\n",
              "      <td>0.085701</td>\n",
              "      <td>0.090407</td>\n",
              "      <td>0.061563</td>\n",
              "      <td>0.059661</td>\n",
              "      <td>0.046512</td>\n",
              "      <td>0.063478</td>\n",
              "      <td>0.111755</td>\n",
              "      <td>0.045668</td>\n",
              "      <td>0.064992</td>\n",
              "      <td>0.059688</td>\n",
              "      <td>0.058334</td>\n",
              "      <td>0.054435</td>\n",
              "      <td>0.104660</td>\n",
              "      <td>0.104660</td>\n",
              "      <td>NaN</td>\n",
              "      <td>0.057548</td>\n",
              "      <td>0.078992</td>\n",
              "      <td>0.058107</td>\n",
              "      <td>0.080281</td>\n",
              "      <td>0.078606</td>\n",
              "      <td>0.057912</td>\n",
              "      <td>0.051745</td>\n",
              "      <td>0.039701</td>\n",
              "      <td>0.048263</td>\n",
              "      <td>0.101649</td>\n",
              "      <td>0.042216</td>\n",
              "      <td>0.051429</td>\n",
              "      <td>0.430904</td>\n",
              "      <td>0.009869</td>\n",
              "      <td>0.424678</td>\n",
              "      <td>0.433348</td>\n",
              "      <td>0.455477</td>\n",
              "      <td>0.455477</td>\n",
              "      <td>NaN</td>\n",
              "      <td>0.012466</td>\n",
              "      <td>0.003700</td>\n",
              "      <td>0.001468</td>\n",
              "      <td>0.001468</td>\n",
              "      <td>NaN</td>\n",
              "      <td>0.509774</td>\n",
              "      <td>0.376454</td>\n",
              "      <td>0.428895</td>\n",
              "      <td>0.029975</td>\n",
              "      <td>0.003377</td>\n",
              "      <td>0.003044</td>\n",
              "    </tr>\n",
              "    <tr>\n",
              "      <th>2</th>\n",
              "      <td>3</td>\n",
              "      <td>1980</td>\n",
              "      <td>1980-01-01</td>\n",
              "      <td>0.199177</td>\n",
              "      <td>0.161731</td>\n",
              "      <td>0.223692</td>\n",
              "      <td>0.288165</td>\n",
              "      <td>0.288165</td>\n",
              "      <td>NaN</td>\n",
              "      <td>0.182413</td>\n",
              "      <td>0.313750</td>\n",
              "      <td>0.188544</td>\n",
              "      <td>0.241433</td>\n",
              "      <td>0.250593</td>\n",
              "      <td>0.182834</td>\n",
              "      <td>0.168844</td>\n",
              "      <td>0.174342</td>\n",
              "      <td>0.233428</td>\n",
              "      <td>0.310059</td>\n",
              "      <td>0.148253</td>\n",
              "      <td>0.185108</td>\n",
              "      <td>0.068834</td>\n",
              "      <td>0.064291</td>\n",
              "      <td>0.065313</td>\n",
              "      <td>0.105610</td>\n",
              "      <td>0.105610</td>\n",
              "      <td>NaN</td>\n",
              "      <td>0.059667</td>\n",
              "      <td>0.131401</td>\n",
              "      <td>0.081108</td>\n",
              "      <td>0.079973</td>\n",
              "      <td>0.097444</td>\n",
              "      <td>0.060706</td>\n",
              "      <td>0.059141</td>\n",
              "      <td>0.048801</td>\n",
              "      <td>0.075525</td>\n",
              "      <td>0.129143</td>\n",
              "      <td>0.050503</td>\n",
              "      <td>0.044460</td>\n",
              "      <td>0.052509</td>\n",
              "      <td>0.050366</td>\n",
              "      <td>0.048162</td>\n",
              "      <td>0.086238</td>\n",
              "      <td>0.086238</td>\n",
              "      <td>NaN</td>\n",
              "      <td>0.047654</td>\n",
              "      <td>0.086246</td>\n",
              "      <td>0.065230</td>\n",
              "      <td>0.069303</td>\n",
              "      <td>0.075085</td>\n",
              "      <td>0.048073</td>\n",
              "      <td>0.044853</td>\n",
              "      <td>0.033744</td>\n",
              "      <td>0.049590</td>\n",
              "      <td>0.100301</td>\n",
              "      <td>0.038303</td>\n",
              "      <td>0.033113</td>\n",
              "      <td>0.446430</td>\n",
              "      <td>0.025286</td>\n",
              "      <td>0.431934</td>\n",
              "      <td>0.450590</td>\n",
              "      <td>0.471970</td>\n",
              "      <td>0.471970</td>\n",
              "      <td>NaN</td>\n",
              "      <td>0.031931</td>\n",
              "      <td>0.018135</td>\n",
              "      <td>0.006254</td>\n",
              "      <td>0.006254</td>\n",
              "      <td>NaN</td>\n",
              "      <td>0.574040</td>\n",
              "      <td>0.399825</td>\n",
              "      <td>0.384809</td>\n",
              "      <td>0.077926</td>\n",
              "      <td>0.010237</td>\n",
              "      <td>0.006832</td>\n",
              "    </tr>\n",
              "    <tr>\n",
              "      <th>3</th>\n",
              "      <td>4</td>\n",
              "      <td>1990</td>\n",
              "      <td>1990-01-01</td>\n",
              "      <td>0.296831</td>\n",
              "      <td>0.277749</td>\n",
              "      <td>0.278091</td>\n",
              "      <td>0.361297</td>\n",
              "      <td>0.365665</td>\n",
              "      <td>0.347451</td>\n",
              "      <td>0.263926</td>\n",
              "      <td>0.483856</td>\n",
              "      <td>0.296237</td>\n",
              "      <td>0.350038</td>\n",
              "      <td>0.362332</td>\n",
              "      <td>0.275505</td>\n",
              "      <td>0.263979</td>\n",
              "      <td>0.252643</td>\n",
              "      <td>0.331958</td>\n",
              "      <td>0.419911</td>\n",
              "      <td>0.243200</td>\n",
              "      <td>0.278323</td>\n",
              "      <td>0.111918</td>\n",
              "      <td>0.112100</td>\n",
              "      <td>0.096994</td>\n",
              "      <td>0.128517</td>\n",
              "      <td>0.125857</td>\n",
              "      <td>0.132802</td>\n",
              "      <td>0.096113</td>\n",
              "      <td>0.220103</td>\n",
              "      <td>0.121942</td>\n",
              "      <td>0.127859</td>\n",
              "      <td>0.143550</td>\n",
              "      <td>0.101576</td>\n",
              "      <td>0.096370</td>\n",
              "      <td>0.091899</td>\n",
              "      <td>0.131346</td>\n",
              "      <td>0.201221</td>\n",
              "      <td>0.090247</td>\n",
              "      <td>0.065739</td>\n",
              "      <td>0.059478</td>\n",
              "      <td>0.059882</td>\n",
              "      <td>0.046541</td>\n",
              "      <td>0.073019</td>\n",
              "      <td>0.064165</td>\n",
              "      <td>0.083949</td>\n",
              "      <td>0.050926</td>\n",
              "      <td>0.116177</td>\n",
              "      <td>0.076136</td>\n",
              "      <td>0.070475</td>\n",
              "      <td>0.083731</td>\n",
              "      <td>0.053984</td>\n",
              "      <td>0.050436</td>\n",
              "      <td>0.044594</td>\n",
              "      <td>0.064619</td>\n",
              "      <td>0.114833</td>\n",
              "      <td>0.045623</td>\n",
              "      <td>0.031364</td>\n",
              "      <td>0.542524</td>\n",
              "      <td>0.060277</td>\n",
              "      <td>0.546488</td>\n",
              "      <td>0.523845</td>\n",
              "      <td>0.556076</td>\n",
              "      <td>0.563330</td>\n",
              "      <td>0.533263</td>\n",
              "      <td>0.078470</td>\n",
              "      <td>0.052033</td>\n",
              "      <td>0.017124</td>\n",
              "      <td>0.018177</td>\n",
              "      <td>0.013742</td>\n",
              "      <td>0.654691</td>\n",
              "      <td>0.518660</td>\n",
              "      <td>0.475016</td>\n",
              "      <td>0.170764</td>\n",
              "      <td>0.027466</td>\n",
              "      <td>0.018233</td>\n",
              "    </tr>\n",
              "    <tr>\n",
              "      <th>4</th>\n",
              "      <td>5</td>\n",
              "      <td>2000</td>\n",
              "      <td>2000-01-01</td>\n",
              "      <td>0.345009</td>\n",
              "      <td>0.331655</td>\n",
              "      <td>0.324921</td>\n",
              "      <td>0.387491</td>\n",
              "      <td>0.393958</td>\n",
              "      <td>0.369174</td>\n",
              "      <td>0.312715</td>\n",
              "      <td>0.514499</td>\n",
              "      <td>0.318068</td>\n",
              "      <td>0.409185</td>\n",
              "      <td>0.417557</td>\n",
              "      <td>0.330802</td>\n",
              "      <td>0.309971</td>\n",
              "      <td>0.306210</td>\n",
              "      <td>0.375306</td>\n",
              "      <td>0.503368</td>\n",
              "      <td>0.302020</td>\n",
              "      <td>0.271739</td>\n",
              "      <td>0.156059</td>\n",
              "      <td>0.169937</td>\n",
              "      <td>0.138004</td>\n",
              "      <td>0.154124</td>\n",
              "      <td>0.153630</td>\n",
              "      <td>0.155097</td>\n",
              "      <td>0.132070</td>\n",
              "      <td>0.302394</td>\n",
              "      <td>0.154695</td>\n",
              "      <td>0.173274</td>\n",
              "      <td>0.188193</td>\n",
              "      <td>0.145392</td>\n",
              "      <td>0.142306</td>\n",
              "      <td>0.135842</td>\n",
              "      <td>0.174800</td>\n",
              "      <td>0.281314</td>\n",
              "      <td>0.128158</td>\n",
              "      <td>0.086220</td>\n",
              "      <td>0.088044</td>\n",
              "      <td>0.094428</td>\n",
              "      <td>0.075588</td>\n",
              "      <td>0.092084</td>\n",
              "      <td>0.090975</td>\n",
              "      <td>0.093628</td>\n",
              "      <td>0.075782</td>\n",
              "      <td>0.175873</td>\n",
              "      <td>0.094180</td>\n",
              "      <td>0.102322</td>\n",
              "      <td>0.112697</td>\n",
              "      <td>0.083024</td>\n",
              "      <td>0.076319</td>\n",
              "      <td>0.076378</td>\n",
              "      <td>0.098968</td>\n",
              "      <td>0.171898</td>\n",
              "      <td>0.070557</td>\n",
              "      <td>0.038973</td>\n",
              "      <td>0.571453</td>\n",
              "      <td>0.099473</td>\n",
              "      <td>0.571139</td>\n",
              "      <td>0.570004</td>\n",
              "      <td>0.572968</td>\n",
              "      <td>0.586221</td>\n",
              "      <td>0.536716</td>\n",
              "      <td>0.127194</td>\n",
              "      <td>0.097625</td>\n",
              "      <td>0.037002</td>\n",
              "      <td>0.040101</td>\n",
              "      <td>0.027615</td>\n",
              "      <td>0.705545</td>\n",
              "      <td>0.569023</td>\n",
              "      <td>0.445802</td>\n",
              "      <td>0.256282</td>\n",
              "      <td>0.059785</td>\n",
              "      <td>0.029564</td>\n",
              "    </tr>\n",
              "  </tbody>\n",
              "</table>\n",
              "</div>"
            ],
            "text/plain": [
              "   Unnamed: 0  year        date  ...  kids_poor_2534  kids_mid_2534  kids_rich_2534\n",
              "0           1  1960  1960-01-01  ...        0.008723       0.000753        0.000803\n",
              "1           2  1970  1970-01-01  ...        0.029975       0.003377        0.003044\n",
              "2           3  1980  1980-01-01  ...        0.077926       0.010237        0.006832\n",
              "3           4  1990  1990-01-01  ...        0.170764       0.027466        0.018233\n",
              "4           5  2000  2000-01-01  ...        0.256282       0.059785        0.029564\n",
              "\n",
              "[5 rows x 75 columns]"
            ]
          },
          "metadata": {
            "tags": []
          },
          "execution_count": 9
        }
      ]
    },
    {
      "cell_type": "code",
      "metadata": {
        "id": "gGNhKMGjgu90",
        "colab_type": "code",
        "colab": {
          "base_uri": "https://localhost:8080/",
          "height": 204
        },
        "outputId": "70bd915f-c616-4fb3-bce4-e6bc52b687c1"
      },
      "source": [
        "marriage = marriage[['year','HS_2534','SC_2534','BAp_2534','HS_3544','SC_3544','BAp_3544']]\n",
        "marriage = marriage.iloc[2:,:] # drop data below the 1980's\n",
        "marriage = marriage - marriage.min() # Make everything start at same value (interested in relative changes, not absolute values)\n",
        "marriage.head()"
      ],
      "execution_count": 10,
      "outputs": [
        {
          "output_type": "execute_result",
          "data": {
            "text/html": [
              "<div>\n",
              "<style scoped>\n",
              "    .dataframe tbody tr th:only-of-type {\n",
              "        vertical-align: middle;\n",
              "    }\n",
              "\n",
              "    .dataframe tbody tr th {\n",
              "        vertical-align: top;\n",
              "    }\n",
              "\n",
              "    .dataframe thead th {\n",
              "        text-align: right;\n",
              "    }\n",
              "</style>\n",
              "<table border=\"1\" class=\"dataframe\">\n",
              "  <thead>\n",
              "    <tr style=\"text-align: right;\">\n",
              "      <th></th>\n",
              "      <th>year</th>\n",
              "      <th>HS_2534</th>\n",
              "      <th>SC_2534</th>\n",
              "      <th>BAp_2534</th>\n",
              "      <th>HS_3544</th>\n",
              "      <th>SC_3544</th>\n",
              "      <th>BAp_3544</th>\n",
              "    </tr>\n",
              "  </thead>\n",
              "  <tbody>\n",
              "    <tr>\n",
              "      <th>2</th>\n",
              "      <td>0.0</td>\n",
              "      <td>0.000000</td>\n",
              "      <td>0.000000</td>\n",
              "      <td>0.000000</td>\n",
              "      <td>0.000000</td>\n",
              "      <td>0.000000</td>\n",
              "      <td>0.000000</td>\n",
              "    </tr>\n",
              "    <tr>\n",
              "      <th>3</th>\n",
              "      <td>10.0</td>\n",
              "      <td>0.116018</td>\n",
              "      <td>0.054400</td>\n",
              "      <td>0.073132</td>\n",
              "      <td>0.047809</td>\n",
              "      <td>0.031680</td>\n",
              "      <td>0.022907</td>\n",
              "    </tr>\n",
              "    <tr>\n",
              "      <th>4</th>\n",
              "      <td>20.0</td>\n",
              "      <td>0.169923</td>\n",
              "      <td>0.101229</td>\n",
              "      <td>0.099326</td>\n",
              "      <td>0.105646</td>\n",
              "      <td>0.072691</td>\n",
              "      <td>0.048514</td>\n",
              "    </tr>\n",
              "    <tr>\n",
              "      <th>5</th>\n",
              "      <td>21.0</td>\n",
              "      <td>0.182876</td>\n",
              "      <td>0.110419</td>\n",
              "      <td>0.095404</td>\n",
              "      <td>0.104411</td>\n",
              "      <td>0.074547</td>\n",
              "      <td>0.049205</td>\n",
              "    </tr>\n",
              "    <tr>\n",
              "      <th>6</th>\n",
              "      <td>22.0</td>\n",
              "      <td>0.187305</td>\n",
              "      <td>0.112468</td>\n",
              "      <td>0.089268</td>\n",
              "      <td>0.105345</td>\n",
              "      <td>0.080203</td>\n",
              "      <td>0.053666</td>\n",
              "    </tr>\n",
              "  </tbody>\n",
              "</table>\n",
              "</div>"
            ],
            "text/plain": [
              "   year   HS_2534   SC_2534  BAp_2534   HS_3544   SC_3544  BAp_3544\n",
              "2   0.0  0.000000  0.000000  0.000000  0.000000  0.000000  0.000000\n",
              "3  10.0  0.116018  0.054400  0.073132  0.047809  0.031680  0.022907\n",
              "4  20.0  0.169923  0.101229  0.099326  0.105646  0.072691  0.048514\n",
              "5  21.0  0.182876  0.110419  0.095404  0.104411  0.074547  0.049205\n",
              "6  22.0  0.187305  0.112468  0.089268  0.105345  0.080203  0.053666"
            ]
          },
          "metadata": {
            "tags": []
          },
          "execution_count": 10
        }
      ]
    },
    {
      "cell_type": "code",
      "metadata": {
        "id": "X-6Y4UlZhUt7",
        "colab_type": "code",
        "colab": {
          "base_uri": "https://localhost:8080/",
          "height": 365
        },
        "outputId": "77701201-ebda-4659-dd4a-617f06fa9136"
      },
      "source": [
        "plt.style.use('fivethirtyeight')\n",
        "fig = plt.figure(figsize=(8,4))\n",
        "\n",
        "ax1 = fig.add_subplot(121)\n",
        "ax2 = fig.add_subplot(122)\n",
        "\n",
        "ax1.set_xticks(range(0,35,5))\n",
        "ax1.set_xticklabels(['1980',\"'85\",\"'90\",\"'95\",'2000',\"'05\",\"'10\"],color='#444444')\n",
        "ax2.set_xticks(range(0,35,5))\n",
        "ax2.set_xticklabels(['1980',\"'85\",\"'90\",\"'95\",'2000',\"'05\",\"'10\"],color='#444444')\n",
        "\n",
        "ax1.set_yticks(np.linspace(0,.35,5))\n",
        "ax1.set_yticklabels(['0%','-10','-20','-30','-40'],color='#444444')\n",
        "ax2.set_yticks(np.linspace(0,.35,5))\n",
        "ax2.set_yticklabels(['','','','',''])\n",
        "\n",
        "ax1.set_ylim([0,.40])\n",
        "ax2.set_ylim([0,.40])\n",
        "ax1.axhline(y=0.005,color='grey',lw=1.5)\n",
        "ax2.axhline(y=.005,color='grey',lw=1.5)\n",
        "ax1.invert_yaxis(),ax2.invert_yaxis()\n",
        "\n",
        "\n",
        "\n",
        "ax1.plot(marriage.year,marriage.SC_2534,color='red')\n",
        "ax1.plot(marriage.year,marriage.BAp_2534,color='orange')\n",
        "ax1.plot(marriage.year,marriage.HS_2534,color='#ffcba4')\n",
        "\n",
        "ax2.plot(marriage.year,marriage.SC_3544,color='red')\n",
        "ax2.plot(marriage.year,marriage.BAp_3544,color='orange')\n",
        "ax2.plot(marriage.year,marriage.HS_3544,color='#ffcba4')\n",
        "\n",
        "ax1.set_title('AGES 25-34',size=12,fontweight='bold',pad=25,color='#444444')\n",
        "ax2.set_title('AGES 35-44',size=12,fontweight='bold',pad=25,color='#444444')\n",
        "\n",
        "fig.text(0,1.12,s=\"Marriage Rates By Education\",fontsize=18,fontweight='bold',color='#444444')\n",
        "fig.text(0,1.05,s='Change since 1980',color='#444444')\n",
        "\n",
        "fig.text(.25,.3,s=\"College\\ngraduates\")\n",
        "ax1.axvline(x=4.5,ymin=.65,ymax=.85,lw=2,color='#999999')\n",
        "fig.text(.2,.8,s='Some college')\n",
        "ax1.axvline(x=16,ymin=.8,ymax=.88,lw=2,color='#999999')\n",
        "fig.text(.085,.5,s='High school\\nor less',color='#444444')\n",
        "ax1.axvline(x=18,ymin=.4,ymax=.77,lw=2,color='#999999')\n",
        "\n",
        "fig.show()"
      ],
      "execution_count": 11,
      "outputs": [
        {
          "output_type": "display_data",
          "data": {
            "image/png": "[encoded data removed]",
            "text/plain": [
              "<Figure size 576x288 with 2 Axes>"
            ]
          },
          "metadata": {
            "tags": []
          }
        }
      ]
    },
    {
      "cell_type": "code",
      "metadata": {
        "id": "Y1Hnljb9WMem",
        "colab_type": "code",
        "colab": {
          "base_uri": "https://localhost:8080/",
          "height": 410
        },
        "outputId": "83f8b520-2f2b-4298-90ea-f49038f56871"
      },
      "source": [
        "url2 = \"https://fivethirtyeight.com/wp-content/uploads/2014/09/casselman-feature-marriage-2.png\"\n",
        "example2 = Image(url=url2,width=500)\n",
        "display(example2)"
      ],
      "execution_count": 12,
      "outputs": [
        {
          "output_type": "display_data",
          "data": {
            "text/html": [
              "<img src=\"https://fivethirtyeight.com/wp-content/uploads/2014/09/casselman-feature-marriage-2.png\" width=\"500\"/>"
            ],
            "text/plain": [
              "<IPython.core.display.Image object>"
            ]
          },
          "metadata": {
            "tags": []
          }
        }
      ]
    },
    {
      "cell_type": "markdown",
      "metadata": {
        "id": "0wSrBzmJyWaV",
        "colab_type": "text"
      },
      "source": [
        "# STRETCH OPTIONS\n",
        "\n",
        "### 1) Reproduce one of the following using the matplotlib or seaborn libraries:\n",
        "\n",
        "- [thanksgiving-2015](https://fivethirtyeight.com/features/heres-what-your-part-of-america-eats-on-thanksgiving/) \n",
        "- [candy-power-ranking](https://fivethirtyeight.com/features/the-ultimate-halloween-candy-power-ranking/) \n",
        "- or another example of your choice!\n",
        "\n",
        "### 2) Make more charts!\n",
        "\n",
        "Choose a chart you want to make, from [Visual Vocabulary - Vega Edition](http://ft.com/vocabulary).\n",
        "\n",
        "Find the chart in an example gallery of a Python data visualization library:\n",
        "- [Seaborn](http://seaborn.pydata.org/examples/index.html)\n",
        "- [Altair](https://altair-viz.github.io/gallery/index.html)\n",
        "- [Matplotlib](https://matplotlib.org/gallery.html)\n",
        "- [Pandas](https://pandas.pydata.org/pandas-docs/stable/visualization.html)\n",
        "\n",
        "Reproduce the chart. [Optionally, try the \"Ben Franklin Method.\"](https://docs.google.com/document/d/1ubOw9B3Hfip27hF2ZFnW3a3z9xAgrUDRReOEo-FHCVs/edit) If you want, experiment and make changes.\n",
        "\n",
        "Take notes. Consider sharing your work with your cohort!"
      ]
    },
    {
      "cell_type": "markdown",
      "metadata": {
        "id": "dRJkKftiy5BJ",
        "colab_type": "text"
      },
      "source": [
        "## 1 -- thanksgiving 2015"
      ]
    },
    {
      "cell_type": "code",
      "metadata": {
        "id": "A9nOAFmoz62w",
        "colab_type": "code",
        "colab": {
          "base_uri": "https://localhost:8080/",
          "height": 527
        },
        "outputId": "0b050ebc-921c-4ecc-9b8d-851f4989098f"
      },
      "source": [
        "!pip install geopandas"
      ],
      "execution_count": 13,
      "outputs": [
        {
          "output_type": "stream",
          "text": [
            "Collecting geopandas\n",
            "\u001b[?25l  Downloading https://files.pythonhosted.org/packages/21/80/da2a33c9201cd4ce693f4aa6189efc9ef1a48bec1c3b02c3ce9908b07fec/geopandas-0.5.1-py2.py3-none-any.whl (893kB)\n",
            "\u001b[K     |████████████████████████████████| 901kB 9.7MB/s \n",
            "\u001b[?25hCollecting fiona (from geopandas)\n",
            "\u001b[?25l  Downloading https://files.pythonhosted.org/packages/89/4a/193cd6a75e51062c85f4e1cd6f312b3bbda6e26ba7510f152ef5016f0b16/Fiona-1.8.6-cp36-cp36m-manylinux1_x86_64.whl (17.9MB)\n",
            "\u001b[K     |████████████████████████████████| 17.9MB 30.5MB/s \n",
            "\u001b[?25hRequirement already satisfied: pandas in /usr/local/lib/python3.6/dist-packages (from geopandas) (0.24.2)\n",
            "Requirement already satisfied: shapely in /usr/local/lib/python3.6/dist-packages (from geopandas) (1.6.4.post2)\n",
            "Collecting pyproj (from geopandas)\n",
            "\u001b[?25l  Downloading https://files.pythonhosted.org/packages/20/37/86f8a661cf252ff16a1a11b2c2a452e0d19aebf8934cc70e9a95d2d038be/pyproj-2.3.1-cp36-cp36m-manylinux1_x86_64.whl (9.8MB)\n",
            "\u001b[K     |████████████████████████████████| 9.8MB 42.0MB/s \n",
            "\u001b[?25hRequirement already satisfied: six>=1.7 in /usr/local/lib/python3.6/dist-packages (from fiona->geopandas) (1.12.0)\n",
            "Collecting click-plugins>=1.0 (from fiona->geopandas)\n",
            "  Downloading https://files.pythonhosted.org/packages/e9/da/824b92d9942f4e472702488857914bdd50f73021efea15b4cad9aca8ecef/click_plugins-1.1.1-py2.py3-none-any.whl\n",
            "Requirement already satisfied: attrs>=17 in /usr/local/lib/python3.6/dist-packages (from fiona->geopandas) (19.1.0)\n",
            "Collecting munch (from fiona->geopandas)\n",
            "  Downloading https://files.pythonhosted.org/packages/68/f4/260ec98ea840757a0da09e0ed8135333d59b8dfebe9752a365b04857660a/munch-2.3.2.tar.gz\n",
            "Collecting cligj>=0.5 (from fiona->geopandas)\n",
            "  Downloading https://files.pythonhosted.org/packages/e4/be/30a58b4b0733850280d01f8bd132591b4668ed5c7046761098d665ac2174/cligj-0.5.0-py3-none-any.whl\n",
            "Requirement already satisfied: click<8,>=4.0 in /usr/local/lib/python3.6/dist-packages (from fiona->geopandas) (7.0)\n",
            "Requirement already satisfied: python-dateutil>=2.5.0 in /usr/local/lib/python3.6/dist-packages (from pandas->geopandas) (2.5.3)\n",
            "Requirement already satisfied: pytz>=2011k in /usr/local/lib/python3.6/dist-packages (from pandas->geopandas) (2018.9)\n",
            "Requirement already satisfied: numpy>=1.12.0 in /usr/local/lib/python3.6/dist-packages (from pandas->geopandas) (1.16.5)\n",
            "Building wheels for collected packages: munch\n",
            "  Building wheel for munch (setup.py) ... \u001b[?25l\u001b[?25hdone\n",
            "  Created wheel for munch: filename=munch-2.3.2-py2.py3-none-any.whl size=6614 sha256=1762688df1fc548c43d79daf21869061d80d02cf666443fef96a01217559dafb\n",
            "  Stored in directory: /root/.cache/pip/wheels/db/bf/bc/06a3e1bfe0ab27d2e720ceb3cff3159398d92644c0cec2c125\n",
            "Successfully built munch\n",
            "Installing collected packages: click-plugins, munch, cligj, fiona, pyproj, geopandas\n",
            "Successfully installed click-plugins-1.1.1 cligj-0.5.0 fiona-1.8.6 geopandas-0.5.1 munch-2.3.2 pyproj-2.3.1\n"
          ],
          "name": "stdout"
        }
      ]
    },
    {
      "cell_type": "code",
      "metadata": {
        "id": "ja-BItmy0nUF",
        "colab_type": "code",
        "colab": {
          "base_uri": "https://localhost:8080/",
          "height": 204
        },
        "outputId": "e18220a1-d6b7-4e46-e0ee-61d5f8830d1a"
      },
      "source": [
        "!wget \"https://raw.githubusercontent.com/fivethirtyeight/data/master/thanksgiving-2015/thanksgiving-2015-poll-data.csv\""
      ],
      "execution_count": 14,
      "outputs": [
        {
          "output_type": "stream",
          "text": [
            "--2019-09-12 14:39:41--  https://raw.githubusercontent.com/fivethirtyeight/data/master/thanksgiving-2015/thanksgiving-2015-poll-data.csv\n",
            "Resolving raw.githubusercontent.com (raw.githubusercontent.com)... 151.101.0.133, 151.101.64.133, 151.101.128.133, ...\n",
            "Connecting to raw.githubusercontent.com (raw.githubusercontent.com)|151.101.0.133|:443... connected.\n",
            "HTTP request sent, awaiting response... 200 OK\n",
            "Length: 385447 (376K) [text/plain]\n",
            "Saving to: ‘thanksgiving-2015-poll-data.csv’\n",
            "\n",
            "\r          thanksgiv   0%[                    ]       0  --.-KB/s               \rthanksgiving-2015-p 100%[===================>] 376.41K  --.-KB/s    in 0.02s   \n",
            "\n",
            "2019-09-12 14:39:41 (24.0 MB/s) - ‘thanksgiving-2015-poll-data.csv’ saved [385447/385447]\n",
            "\n"
          ],
          "name": "stdout"
        }
      ]
    },
    {
      "cell_type": "code",
      "metadata": {
        "id": "NZAFB0oU0m2m",
        "colab_type": "code",
        "colab": {}
      },
      "source": [
        ""
      ],
      "execution_count": 0,
      "outputs": []
    },
    {
      "cell_type": "code",
      "metadata": {
        "id": "gaiVCBS2zOj8",
        "colab_type": "code",
        "colab": {
          "base_uri": "https://localhost:8080/",
          "height": 238
        },
        "outputId": "6360ae2d-b13f-4b02-8418-dfadf4f8bbda"
      },
      "source": [
        "import geopandas as gpd\n",
        "\n",
        "data3 = \"thanksgiving-2015-poll-data.csv\"\n",
        "\n",
        "tg = gpd.read_file(data3)\n",
        "tg_region = tg.iloc[:,61]\n",
        "tg = tg.iloc[:,11:24] # columns 11- 24 are the side dishes, 61 is the us region\n",
        "\n",
        "def get_food(string):\n",
        "  string = string.split('-')[1].strip().title()\n",
        "  return string\n",
        "\n",
        "tg.columns = tg.columns.to_series().apply(get_food) # simplify column names\n",
        "tg['region'] = tg_region # add region back at end\n",
        "tg = tg.replace('',np.nan) #fillna\n",
        "tg.head()"
      ],
      "execution_count": 26,
      "outputs": [
        {
          "output_type": "execute_result",
          "data": {
            "text/html": [
              "<div>\n",
              "<style scoped>\n",
              "    .dataframe tbody tr th:only-of-type {\n",
              "        vertical-align: middle;\n",
              "    }\n",
              "\n",
              "    .dataframe tbody tr th {\n",
              "        vertical-align: top;\n",
              "    }\n",
              "\n",
              "    .dataframe thead th {\n",
              "        text-align: right;\n",
              "    }\n",
              "</style>\n",
              "<table border=\"1\" class=\"dataframe\">\n",
              "  <thead>\n",
              "    <tr style=\"text-align: right;\">\n",
              "      <th></th>\n",
              "      <th>Brussel Sprouts</th>\n",
              "      <th>Carrots</th>\n",
              "      <th>Cauliflower</th>\n",
              "      <th>Corn</th>\n",
              "      <th>Cornbread</th>\n",
              "      <th>Fruit Salad</th>\n",
              "      <th>Green Beans/Green Bean Casserole</th>\n",
              "      <th>Macaroni And Cheese</th>\n",
              "      <th>Mashed Potatoes</th>\n",
              "      <th>Rolls/Biscuits</th>\n",
              "      <th>Squash</th>\n",
              "      <th>Vegetable Salad</th>\n",
              "      <th>Yams/Sweet Potato Casserole</th>\n",
              "      <th>region</th>\n",
              "    </tr>\n",
              "  </thead>\n",
              "  <tbody>\n",
              "    <tr>\n",
              "      <th>0</th>\n",
              "      <td>NaN</td>\n",
              "      <td>Carrots</td>\n",
              "      <td>NaN</td>\n",
              "      <td>NaN</td>\n",
              "      <td>NaN</td>\n",
              "      <td>NaN</td>\n",
              "      <td>Green beans/green bean casserole</td>\n",
              "      <td>Macaroni and cheese</td>\n",
              "      <td>Mashed potatoes</td>\n",
              "      <td>NaN</td>\n",
              "      <td>NaN</td>\n",
              "      <td>NaN</td>\n",
              "      <td>Yams/sweet potato casserole</td>\n",
              "      <td>Middle Atlantic</td>\n",
              "    </tr>\n",
              "    <tr>\n",
              "      <th>1</th>\n",
              "      <td>NaN</td>\n",
              "      <td>NaN</td>\n",
              "      <td>NaN</td>\n",
              "      <td>Corn</td>\n",
              "      <td>NaN</td>\n",
              "      <td>NaN</td>\n",
              "      <td>Green beans/green bean casserole</td>\n",
              "      <td>Macaroni and cheese</td>\n",
              "      <td>Mashed potatoes</td>\n",
              "      <td>Rolls/biscuits</td>\n",
              "      <td>NaN</td>\n",
              "      <td>Vegetable salad</td>\n",
              "      <td>Yams/sweet potato casserole</td>\n",
              "      <td>East South Central</td>\n",
              "    </tr>\n",
              "    <tr>\n",
              "      <th>2</th>\n",
              "      <td>Brussel sprouts</td>\n",
              "      <td>Carrots</td>\n",
              "      <td>Cauliflower</td>\n",
              "      <td>Corn</td>\n",
              "      <td>Cornbread</td>\n",
              "      <td>NaN</td>\n",
              "      <td>NaN</td>\n",
              "      <td>NaN</td>\n",
              "      <td>Mashed potatoes</td>\n",
              "      <td>Rolls/biscuits</td>\n",
              "      <td>NaN</td>\n",
              "      <td>Vegetable salad</td>\n",
              "      <td>NaN</td>\n",
              "      <td>Mountain</td>\n",
              "    </tr>\n",
              "    <tr>\n",
              "      <th>3</th>\n",
              "      <td>Brussel sprouts</td>\n",
              "      <td>NaN</td>\n",
              "      <td>NaN</td>\n",
              "      <td>NaN</td>\n",
              "      <td>Cornbread</td>\n",
              "      <td>NaN</td>\n",
              "      <td>NaN</td>\n",
              "      <td>NaN</td>\n",
              "      <td>Mashed potatoes</td>\n",
              "      <td>Rolls/biscuits</td>\n",
              "      <td>NaN</td>\n",
              "      <td>Vegetable salad</td>\n",
              "      <td>Yams/sweet potato casserole</td>\n",
              "      <td>Pacific</td>\n",
              "    </tr>\n",
              "    <tr>\n",
              "      <th>4</th>\n",
              "      <td>Brussel sprouts</td>\n",
              "      <td>NaN</td>\n",
              "      <td>NaN</td>\n",
              "      <td>NaN</td>\n",
              "      <td>Cornbread</td>\n",
              "      <td>NaN</td>\n",
              "      <td>NaN</td>\n",
              "      <td>NaN</td>\n",
              "      <td>Mashed potatoes</td>\n",
              "      <td>Rolls/biscuits</td>\n",
              "      <td>Squash</td>\n",
              "      <td>Vegetable salad</td>\n",
              "      <td>Yams/sweet potato casserole</td>\n",
              "      <td>Pacific</td>\n",
              "    </tr>\n",
              "  </tbody>\n",
              "</table>\n",
              "</div>"
            ],
            "text/plain": [
              "   Brussel Sprouts  Carrots  ...  Yams/Sweet Potato Casserole              region\n",
              "0              NaN  Carrots  ...  Yams/sweet potato casserole     Middle Atlantic\n",
              "1              NaN      NaN  ...  Yams/sweet potato casserole  East South Central\n",
              "2  Brussel sprouts  Carrots  ...                          NaN            Mountain\n",
              "3  Brussel sprouts      NaN  ...  Yams/sweet potato casserole             Pacific\n",
              "4  Brussel sprouts      NaN  ...  Yams/sweet potato casserole             Pacific\n",
              "\n",
              "[5 rows x 14 columns]"
            ]
          },
          "metadata": {
            "tags": []
          },
          "execution_count": 26
        }
      ]
    },
    {
      "cell_type": "code",
      "metadata": {
        "id": "TwP9cjTY7Yo0",
        "colab_type": "code",
        "colab": {
          "base_uri": "https://localhost:8080/",
          "height": 34
        },
        "outputId": "7ce77f31-fc01-48f5-84ab-d22c826d7202"
      },
      "source": [
        "regions = list(tg.region.unique())[:-1] # remove nan value in end\n",
        "food_cols = tg.columns[:-1]\n",
        "rfc_list = []\n",
        "\n",
        "for food in food_cols:\n",
        "  popular_food = tg.groupby('region')[food].value_counts().sort_values(ascending=False) # sort for highest\n",
        "  for j in range(len(popular_food.index)):\n",
        "    rfc = (popular_food.index[j][0],popular_food.index[j][1],popular_food[j]) # returns tuple (region, food, count)\n",
        "    rfc_list.append(rfc)\n",
        "  \n",
        "region_dict = {region:('food',}\n",
        "for rfc in rfc_list:\n",
        "  r,f,c = rfc[0],rfc[1],rfc[2]\n",
        "  \n",
        "# TO BE CONTINUED\n",
        "# TO DO:\n",
        "# next steps: find max value for region. remove region from \"regions\" list and food from \"food_cols\" list, keep remaining columns then re do loop"
      ],
      "execution_count": 33,
      "outputs": [
        {
          "output_type": "stream",
          "text": [
            "['Middle Atlantic', 'East South Central', 'Mountain', 'Pacific', 'East North Central', 'West North Central', 'West South Central', 'South Atlantic', 'New England']\n"
          ],
          "name": "stdout"
        }
      ]
    },
    {
      "cell_type": "code",
      "metadata": {
        "id": "py1GcHZAy84M",
        "colab_type": "code",
        "colab": {
          "base_uri": "https://localhost:8080/",
          "height": 467
        },
        "outputId": "9d582aeb-c799-4e21-87a4-24517cb3e267"
      },
      "source": [
        "url3 = \"https://fivethirtyeight.com/wp-content/uploads/2015/11/hickey-side-dish-1.png\"\n",
        "example3 = Image(url=url3,width=500)\n",
        "display(example3)"
      ],
      "execution_count": 17,
      "outputs": [
        {
          "output_type": "display_data",
          "data": {
            "text/html": [
              "<img src=\"https://fivethirtyeight.com/wp-content/uploads/2015/11/hickey-side-dish-1.png\" width=\"500\"/>"
            ],
            "text/plain": [
              "<IPython.core.display.Image object>"
            ]
          },
          "metadata": {
            "tags": []
          }
        }
      ]
    },
    {
      "cell_type": "code",
      "metadata": {
        "id": "L4z3HR6tzNse",
        "colab_type": "code",
        "colab": {}
      },
      "source": [
        ""
      ],
      "execution_count": 0,
      "outputs": []
    },
    {
      "cell_type": "code",
      "metadata": {
        "id": "CF6XLUM76fwk",
        "colab_type": "code",
        "colab": {}
      },
      "source": [
        ""
      ],
      "execution_count": 0,
      "outputs": []
    }
  ]
}