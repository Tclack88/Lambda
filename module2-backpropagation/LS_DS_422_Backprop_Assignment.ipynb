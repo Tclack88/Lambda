{
  "nbformat": 4,
  "nbformat_minor": 0,
  "metadata": {
    "colab": {
      "name": "LS_DS_432_Backprop_Assignment.ipynb",
      "provenance": [],
      "include_colab_link": true
    },
    "kernelspec": {
      "display_name": "Python 3",
      "language": "python",
      "name": "python3"
    },
    "language_info": {
      "codemirror_mode": {
        "name": "ipython",
        "version": 3
      },
      "file_extension": ".py",
      "mimetype": "text/x-python",
      "name": "python",
      "nbconvert_exporter": "python",
      "pygments_lexer": "ipython3",
      "version": "3.7.3"
    }
  },
  "cells": [
    {
      "cell_type": "markdown",
      "metadata": {
        "id": "view-in-github",
        "colab_type": "text"
      },
      "source": [
        "<a href=\"https://colab.research.google.com/github/Tclack88/DS-Unit-4-Sprint-2-Neural-Networks/blob/master/module2-backpropagation/LS_DS_422_Backprop_Assignment.ipynb\" target=\"_parent\"><img src=\"https://colab.research.google.com/assets/colab-badge.svg\" alt=\"Open In Colab\"/></a>"
      ]
    },
    {
      "cell_type": "markdown",
      "metadata": {
        "colab_type": "text",
        "id": "NGGrt9EYlCqY"
      },
      "source": [
        "<img align=\"left\" src=\"https://lever-client-logos.s3.amazonaws.com/864372b1-534c-480e-acd5-9711f850815c-1524247202159.png\" width=200>\n",
        "<br></br>\n",
        "\n",
        "# Backpropagation Practice\n",
        "\n",
        "## *Data Science Unit 4 Sprint 2 Assignment 2*\n",
        "\n",
        "Implement a 3 input, 4 node hidden-layer, 1 output node Multilayer Perceptron on the following dataset:\n",
        "\n",
        "| x1 | x2 | x3 | y |\n",
        "|----|----|----|---|\n",
        "| 0  | 0  | 1  | 0 |\n",
        "| 0  | 1  | 1  | 1 |\n",
        "| 1  | 0  | 1  | 1 |\n",
        "| 0  | 1  | 0  | 1 |\n",
        "| 1  | 0  | 0  | 1 |\n",
        "| 1  | 1  | 1  | 0 |\n",
        "| 0  | 0  | 0  | 0 |\n",
        "\n",
        "If you look at the data you'll notice that the first two columns behave like an XOR gate while the last column is mostly just noise. Remember that creating an XOR gate was what the perceptron was criticized for not being able to learn. "
      ]
    },
    {
      "cell_type": "code",
      "metadata": {
        "id": "FrlCC-A36b4_",
        "colab_type": "code",
        "colab": {}
      },
      "source": [
        "import pandas as pd\n",
        "import numpy as np"
      ],
      "execution_count": 0,
      "outputs": []
    },
    {
      "cell_type": "code",
      "metadata": {
        "colab_type": "code",
        "id": "nEREYT-3wI1f",
        "colab": {
          "base_uri": "https://localhost:8080/",
          "height": 266
        },
        "outputId": "77daaa0a-812c-490f-9dd9-3ac51a5b21d3"
      },
      "source": [
        "data = {'x1': [0,0,1,0,1,1,0],\n",
        "        'x2': [0,1,0,1,0,1,0],\n",
        "        'x3': [1,1,1,0,0,1,0],\n",
        "        'y': [0,1,1,1,1,0,0]}\n",
        "df = pd.DataFrame(data)\n",
        "df"
      ],
      "execution_count": 3,
      "outputs": [
        {
          "output_type": "execute_result",
          "data": {
            "text/html": [
              "<div>\n",
              "<style scoped>\n",
              "    .dataframe tbody tr th:only-of-type {\n",
              "        vertical-align: middle;\n",
              "    }\n",
              "\n",
              "    .dataframe tbody tr th {\n",
              "        vertical-align: top;\n",
              "    }\n",
              "\n",
              "    .dataframe thead th {\n",
              "        text-align: right;\n",
              "    }\n",
              "</style>\n",
              "<table border=\"1\" class=\"dataframe\">\n",
              "  <thead>\n",
              "    <tr style=\"text-align: right;\">\n",
              "      <th></th>\n",
              "      <th>x1</th>\n",
              "      <th>x2</th>\n",
              "      <th>x3</th>\n",
              "      <th>y</th>\n",
              "    </tr>\n",
              "  </thead>\n",
              "  <tbody>\n",
              "    <tr>\n",
              "      <th>0</th>\n",
              "      <td>0</td>\n",
              "      <td>0</td>\n",
              "      <td>1</td>\n",
              "      <td>0</td>\n",
              "    </tr>\n",
              "    <tr>\n",
              "      <th>1</th>\n",
              "      <td>0</td>\n",
              "      <td>1</td>\n",
              "      <td>1</td>\n",
              "      <td>1</td>\n",
              "    </tr>\n",
              "    <tr>\n",
              "      <th>2</th>\n",
              "      <td>1</td>\n",
              "      <td>0</td>\n",
              "      <td>1</td>\n",
              "      <td>1</td>\n",
              "    </tr>\n",
              "    <tr>\n",
              "      <th>3</th>\n",
              "      <td>0</td>\n",
              "      <td>1</td>\n",
              "      <td>0</td>\n",
              "      <td>1</td>\n",
              "    </tr>\n",
              "    <tr>\n",
              "      <th>4</th>\n",
              "      <td>1</td>\n",
              "      <td>0</td>\n",
              "      <td>0</td>\n",
              "      <td>1</td>\n",
              "    </tr>\n",
              "    <tr>\n",
              "      <th>5</th>\n",
              "      <td>1</td>\n",
              "      <td>1</td>\n",
              "      <td>1</td>\n",
              "      <td>0</td>\n",
              "    </tr>\n",
              "    <tr>\n",
              "      <th>6</th>\n",
              "      <td>0</td>\n",
              "      <td>0</td>\n",
              "      <td>0</td>\n",
              "      <td>0</td>\n",
              "    </tr>\n",
              "  </tbody>\n",
              "</table>\n",
              "</div>"
            ],
            "text/plain": [
              "   x1  x2  x3  y\n",
              "0   0   0   1  0\n",
              "1   0   1   1  1\n",
              "2   1   0   1  1\n",
              "3   0   1   0  1\n",
              "4   1   0   0  1\n",
              "5   1   1   1  0\n",
              "6   0   0   0  0"
            ]
          },
          "metadata": {
            "tags": []
          },
          "execution_count": 3
        }
      ]
    },
    {
      "cell_type": "code",
      "metadata": {
        "id": "n8CcPn2f6ggb",
        "colab_type": "code",
        "colab": {}
      },
      "source": [
        "X = df[['x1','x2','x3']]\n",
        "y = df[['y']]"
      ],
      "execution_count": 0,
      "outputs": []
    },
    {
      "cell_type": "code",
      "metadata": {
        "id": "GgBXDsK5GaxT",
        "colab_type": "code",
        "colab": {
          "base_uri": "https://localhost:8080/",
          "height": 266
        },
        "outputId": "47b85e48-803e-4e00-e650-862357336988"
      },
      "source": [
        "y"
      ],
      "execution_count": 32,
      "outputs": [
        {
          "output_type": "execute_result",
          "data": {
            "text/html": [
              "<div>\n",
              "<style scoped>\n",
              "    .dataframe tbody tr th:only-of-type {\n",
              "        vertical-align: middle;\n",
              "    }\n",
              "\n",
              "    .dataframe tbody tr th {\n",
              "        vertical-align: top;\n",
              "    }\n",
              "\n",
              "    .dataframe thead th {\n",
              "        text-align: right;\n",
              "    }\n",
              "</style>\n",
              "<table border=\"1\" class=\"dataframe\">\n",
              "  <thead>\n",
              "    <tr style=\"text-align: right;\">\n",
              "      <th></th>\n",
              "      <th>y</th>\n",
              "    </tr>\n",
              "  </thead>\n",
              "  <tbody>\n",
              "    <tr>\n",
              "      <th>0</th>\n",
              "      <td>0</td>\n",
              "    </tr>\n",
              "    <tr>\n",
              "      <th>1</th>\n",
              "      <td>1</td>\n",
              "    </tr>\n",
              "    <tr>\n",
              "      <th>2</th>\n",
              "      <td>1</td>\n",
              "    </tr>\n",
              "    <tr>\n",
              "      <th>3</th>\n",
              "      <td>1</td>\n",
              "    </tr>\n",
              "    <tr>\n",
              "      <th>4</th>\n",
              "      <td>1</td>\n",
              "    </tr>\n",
              "    <tr>\n",
              "      <th>5</th>\n",
              "      <td>0</td>\n",
              "    </tr>\n",
              "    <tr>\n",
              "      <th>6</th>\n",
              "      <td>0</td>\n",
              "    </tr>\n",
              "  </tbody>\n",
              "</table>\n",
              "</div>"
            ],
            "text/plain": [
              "   y\n",
              "0  0\n",
              "1  1\n",
              "2  1\n",
              "3  1\n",
              "4  1\n",
              "5  0\n",
              "6  0"
            ]
          },
          "metadata": {
            "tags": []
          },
          "execution_count": 32
        }
      ]
    },
    {
      "cell_type": "code",
      "metadata": {
        "id": "NiqdYrmfGmCv",
        "colab_type": "code",
        "colab": {}
      },
      "source": [
        "class NeuralNetwork(object):\n",
        "  def __init__(self):\n",
        "    \"\"\"initialize neural network architecture\"\"\"\n",
        "    self.input_layer = 3\n",
        "    self.hidden_layer = 3\n",
        "    self.output_layer = 1\n",
        "  \n",
        "    # initialize with (small positive) random weights with appropriate sizes\n",
        "    self.weights1 = np.random.rand(self.input_layer, self.hidden_layer)\n",
        "    self.weights2 = np.random.rand(self.hidden_layer, self.output_layer)\n",
        "\n",
        "  def sigmoid(self,x):\n",
        "    return 1 / (1 + np.exp(-x))\n",
        "\n",
        "  def sigmoid_derivative(self, s):\n",
        "    return s * (1 - s)\n",
        "\n",
        "  def feed_forward(self, X):\n",
        "    \"\"\" make predictions from given weights \"\"\"\n",
        "\n",
        "    self.hidden_sum = np.dot(X, self.weights1)\n",
        "    self.activated_hidden = self.sigmoid(self.hidden_sum)\n",
        "    self.output_sum = np.dot(self.activated_hidden, self.weights2)\n",
        "    self.activated_output = self.sigmoid(self.output_sum)\n",
        "    return self.activated_output\n",
        "\n",
        "  def back_propogation(self, X, y, o):\n",
        "    \"\"\" back propogation to adjust the weights in the neural network \"\"\"\n",
        "    self.output_error = y - o\n",
        "    self.output_adjustments = self.output_error * self.sigmoid_derivative(o)\n",
        "    self.hidden_error = np.dot(self.output_adjustments, self.weights2.T)# transpose because we are \"going backwards\" in the neural net, so the dimensions need to match up\n",
        "    self.hidden_adjustments = self.hidden_error * self.sigmoid_derivative(self.activated_hidden)\n",
        "\n",
        "    # adjust weights\n",
        "    self.weights1 += np.dot(X.T, self.hidden_adjustments)\n",
        "    self.weights2 += np.dot(self.activated_hidden.T, self.output_adjustments)\n",
        "\n",
        "  def train(self, X, y):\n",
        "    o = self.feed_forward(X)\n",
        "    self.back_propogation(X, y, o)\n"
      ],
      "execution_count": 0,
      "outputs": []
    },
    {
      "cell_type": "code",
      "metadata": {
        "id": "fjjPJKdXkdE8",
        "colab_type": "code",
        "colab": {}
      },
      "source": [
        "nn = NeuralNetwork()"
      ],
      "execution_count": 0,
      "outputs": []
    },
    {
      "cell_type": "code",
      "metadata": {
        "id": "Z5Jq0PPSqr67",
        "colab_type": "code",
        "colab": {
          "base_uri": "https://localhost:8080/",
          "height": 1000
        },
        "outputId": "8c8d4a14-c2e8-4ea2-c994-344b3a383335"
      },
      "source": [
        "# NOTE: Code below taken directly from lecure for simplicity\n",
        "# Number of Epochs / Iterations\n",
        "for i in range(10000):\n",
        "    if (i+1 in [1,2,3,4,5]) or ((i+1) % 1000 ==0):\n",
        "        print('+' + '---' * 3 + f'EPOCH {i+1}' + '---'*3 + '+')\n",
        "        print('Input: \\n', X)\n",
        "        print('Actual Output: \\n', y)\n",
        "        print('Predicted Output: \\n', str(nn.feed_forward(X)))\n",
        "        print(\"Loss: \\n\", str(np.mean(np.square(y - nn.feed_forward(X)))))\n",
        "    nn.train(X,y)"
      ],
      "execution_count": 54,
      "outputs": [
        {
          "output_type": "stream",
          "text": [
            "+---------EPOCH 1---------+\n",
            "Input: \n",
            "    x1  x2  x3\n",
            "0   0   0   1\n",
            "1   0   1   1\n",
            "2   1   0   1\n",
            "3   0   1   0\n",
            "4   1   0   0\n",
            "5   1   1   1\n",
            "6   0   0   0\n",
            "Actual Output: \n",
            "    y\n",
            "0  0\n",
            "1  1\n",
            "2  1\n",
            "3  1\n",
            "4  1\n",
            "5  0\n",
            "6  0\n",
            "Predicted Output: \n",
            " [[0.58657116]\n",
            " [0.60083137]\n",
            " [0.60151926]\n",
            " [0.58866811]\n",
            " [0.58783966]\n",
            " [0.61390143]\n",
            " [0.57140601]]\n",
            "Loss: \n",
            " y    0.24352\n",
            "dtype: float64\n",
            "+---------EPOCH 2---------+\n",
            "Input: \n",
            "    x1  x2  x3\n",
            "0   0   0   1\n",
            "1   0   1   1\n",
            "2   1   0   1\n",
            "3   0   1   0\n",
            "4   1   0   0\n",
            "5   1   1   1\n",
            "6   0   0   0\n",
            "Actual Output: \n",
            "    y\n",
            "0  0\n",
            "1  1\n",
            "2  1\n",
            "3  1\n",
            "4  1\n",
            "5  0\n",
            "6  0\n",
            "Predicted Output: \n",
            " [[0.58043917]\n",
            " [0.59388403]\n",
            " [0.59461018]\n",
            " [0.58271317]\n",
            " [0.58206423]\n",
            " [0.60627045]\n",
            " [0.56653318]]\n",
            "Loss: \n",
            " y    0.243358\n",
            "dtype: float64\n",
            "+---------EPOCH 3---------+\n",
            "Input: \n",
            "    x1  x2  x3\n",
            "0   0   0   1\n",
            "1   0   1   1\n",
            "2   1   0   1\n",
            "3   0   1   0\n",
            "4   1   0   0\n",
            "5   1   1   1\n",
            "6   0   0   0\n",
            "Actual Output: \n",
            "    y\n",
            "0  0\n",
            "1  1\n",
            "2  1\n",
            "3  1\n",
            "4  1\n",
            "5  0\n",
            "6  0\n",
            "Predicted Output: \n",
            " [[0.57756656]\n",
            " [0.59076727]\n",
            " [0.59142086]\n",
            " [0.58013539]\n",
            " [0.57948419]\n",
            " [0.60284803]\n",
            " [0.56433242]]\n",
            "Loss: \n",
            " y    0.243287\n",
            "dtype: float64\n",
            "+---------EPOCH 4---------+\n",
            "Input: \n",
            "    x1  x2  x3\n",
            "0   0   0   1\n",
            "1   0   1   1\n",
            "2   1   0   1\n",
            "3   0   1   0\n",
            "4   1   0   0\n",
            "5   1   1   1\n",
            "6   0   0   0\n",
            "Actual Output: \n",
            "    y\n",
            "0  0\n",
            "1  1\n",
            "2  1\n",
            "3  1\n",
            "4  1\n",
            "5  0\n",
            "6  0\n",
            "Predicted Output: \n",
            " [[0.5762268 ]\n",
            " [0.58945654]\n",
            " [0.58998763]\n",
            " [0.57914979]\n",
            " [0.57841324]\n",
            " [0.60141558]\n",
            " [0.56338901]]\n",
            "Loss: \n",
            " y    0.243236\n",
            "dtype: float64\n",
            "+---------EPOCH 5---------+\n",
            "Input: \n",
            "    x1  x2  x3\n",
            "0   0   0   1\n",
            "1   0   1   1\n",
            "2   1   0   1\n",
            "3   0   1   0\n",
            "4   1   0   0\n",
            "5   1   1   1\n",
            "6   0   0   0\n",
            "Actual Output: \n",
            "    y\n",
            "0  0\n",
            "1  1\n",
            "2  1\n",
            "3  1\n",
            "4  1\n",
            "5  0\n",
            "6  0\n",
            "Predicted Output: \n",
            " [[0.57559165]\n",
            " [0.58897692]\n",
            " [0.58936473]\n",
            " [0.57889716]\n",
            " [0.57803959]\n",
            " [0.60090133]\n",
            " [0.56302437]]\n",
            "Loss: \n",
            " y    0.243189\n",
            "dtype: float64\n",
            "+---------EPOCH 1000---------+\n",
            "Input: \n",
            "    x1  x2  x3\n",
            "0   0   0   1\n",
            "1   0   1   1\n",
            "2   1   0   1\n",
            "3   0   1   0\n",
            "4   1   0   0\n",
            "5   1   1   1\n",
            "6   0   0   0\n",
            "Actual Output: \n",
            "    y\n",
            "0  0\n",
            "1  1\n",
            "2  1\n",
            "3  1\n",
            "4  1\n",
            "5  0\n",
            "6  0\n",
            "Predicted Output: \n",
            " [[0.01055627]\n",
            " [0.94852029]\n",
            " [0.94674457]\n",
            " [0.95429257]\n",
            " [0.9563646 ]\n",
            " [0.03990797]\n",
            " [0.1058684 ]]\n",
            "Loss: \n",
            " y    0.003199\n",
            "dtype: float64\n",
            "+---------EPOCH 2000---------+\n",
            "Input: \n",
            "    x1  x2  x3\n",
            "0   0   0   1\n",
            "1   0   1   1\n",
            "2   1   0   1\n",
            "3   0   1   0\n",
            "4   1   0   0\n",
            "5   1   1   1\n",
            "6   0   0   0\n",
            "Actual Output: \n",
            "    y\n",
            "0  0\n",
            "1  1\n",
            "2  1\n",
            "3  1\n",
            "4  1\n",
            "5  0\n",
            "6  0\n",
            "Predicted Output: \n",
            " [[0.00606644]\n",
            " [0.96628452]\n",
            " [0.9654301 ]\n",
            " [0.96941551]\n",
            " [0.97038929]\n",
            " [0.02138855]\n",
            " [0.0726321 ]]\n",
            "Loss: \n",
            " y    0.001416\n",
            "dtype: float64\n",
            "+---------EPOCH 3000---------+\n",
            "Input: \n",
            "    x1  x2  x3\n",
            "0   0   0   1\n",
            "1   0   1   1\n",
            "2   1   0   1\n",
            "3   0   1   0\n",
            "4   1   0   0\n",
            "5   1   1   1\n",
            "6   0   0   0\n",
            "Actual Output: \n",
            "    y\n",
            "0  0\n",
            "1  1\n",
            "2  1\n",
            "3  1\n",
            "4  1\n",
            "5  0\n",
            "6  0\n",
            "Predicted Output: \n",
            " [[0.00452243]\n",
            " [0.97317543]\n",
            " [0.97259043]\n",
            " [0.97543502]\n",
            " [0.97609494]\n",
            " [0.01537963]\n",
            " [0.05873182]]\n",
            "Loss: \n",
            " y    0.000907\n",
            "dtype: float64\n",
            "+---------EPOCH 4000---------+\n",
            "Input: \n",
            "    x1  x2  x3\n",
            "0   0   0   1\n",
            "1   0   1   1\n",
            "2   1   0   1\n",
            "3   0   1   0\n",
            "4   1   0   0\n",
            "5   1   1   1\n",
            "6   0   0   0\n",
            "Actual Output: \n",
            "    y\n",
            "0  0\n",
            "1  1\n",
            "2  1\n",
            "3  1\n",
            "4  1\n",
            "5  0\n",
            "6  0\n",
            "Predicted Output: \n",
            " [[0.0037012 ]\n",
            " [0.97708524]\n",
            " [0.97663174]\n",
            " [0.97889521]\n",
            " [0.97940357]\n",
            " [0.01229779]\n",
            " [0.05061304]]\n",
            "Loss: \n",
            " y    0.000667\n",
            "dtype: float64\n",
            "+---------EPOCH 5000---------+\n",
            "Input: \n",
            "    x1  x2  x3\n",
            "0   0   0   1\n",
            "1   0   1   1\n",
            "2   1   0   1\n",
            "3   0   1   0\n",
            "4   1   0   0\n",
            "5   1   1   1\n",
            "6   0   0   0\n",
            "Actual Output: \n",
            "    y\n",
            "0  0\n",
            "1  1\n",
            "2  1\n",
            "3  1\n",
            "4  1\n",
            "5  0\n",
            "6  0\n",
            "Predicted Output: \n",
            " [[0.00317925]\n",
            " [0.97968237]\n",
            " [0.97930777]\n",
            " [0.9812129 ]\n",
            " [0.98163096]\n",
            " [0.01038862]\n",
            " [0.04513195]]\n",
            "Loss: \n",
            " y    0.000527\n",
            "dtype: float64\n",
            "+---------EPOCH 6000---------+\n",
            "Input: \n",
            "    x1  x2  x3\n",
            "0   0   0   1\n",
            "1   0   1   1\n",
            "2   1   0   1\n",
            "3   0   1   0\n",
            "4   1   0   0\n",
            "5   1   1   1\n",
            "6   0   0   0\n",
            "Actual Output: \n",
            "    y\n",
            "0  0\n",
            "1  1\n",
            "2  1\n",
            "3  1\n",
            "4  1\n",
            "5  0\n",
            "6  0\n",
            "Predicted Output: \n",
            " [[0.00281305]\n",
            " [0.98156641]\n",
            " [0.98124484]\n",
            " [0.98290426]\n",
            " [0.98326194]\n",
            " [0.00907492]\n",
            " [0.04111331]]\n",
            "Loss: \n",
            " y    0.000435\n",
            "dtype: float64\n",
            "+---------EPOCH 7000---------+\n",
            "Input: \n",
            "    x1  x2  x3\n",
            "0   0   0   1\n",
            "1   0   1   1\n",
            "2   1   0   1\n",
            "3   0   1   0\n",
            "4   1   0   0\n",
            "5   1   1   1\n",
            "6   0   0   0\n",
            "Actual Output: \n",
            "    y\n",
            "0  0\n",
            "1  1\n",
            "2  1\n",
            "3  1\n",
            "4  1\n",
            "5  0\n",
            "6  0\n",
            "Predicted Output: \n",
            " [[0.00253937]\n",
            " [0.98301275]\n",
            " [0.98272947]\n",
            " [0.98420858]\n",
            " [0.9845228 ]\n",
            " [0.00810813]\n",
            " [0.0380047 ]]\n",
            "Loss: \n",
            " y    0.00037\n",
            "dtype: float64\n",
            "+---------EPOCH 8000---------+\n",
            "Input: \n",
            "    x1  x2  x3\n",
            "0   0   0   1\n",
            "1   0   1   1\n",
            "2   1   0   1\n",
            "3   0   1   0\n",
            "4   1   0   0\n",
            "5   1   1   1\n",
            "6   0   0   0\n",
            "Actual Output: \n",
            "    y\n",
            "0  0\n",
            "1  1\n",
            "2  1\n",
            "3  1\n",
            "4  1\n",
            "5  0\n",
            "6  0\n",
            "Predicted Output: \n",
            " [[0.00232561]\n",
            " [0.98416782]\n",
            " [0.98391364]\n",
            " [0.98525403]\n",
            " [0.98553535]\n",
            " [0.00736262]\n",
            " [0.03550764]]\n",
            "Loss: \n",
            " y    0.000322\n",
            "dtype: float64\n",
            "+---------EPOCH 9000---------+\n",
            "Input: \n",
            "    x1  x2  x3\n",
            "0   0   0   1\n",
            "1   0   1   1\n",
            "2   1   0   1\n",
            "3   0   1   0\n",
            "4   1   0   0\n",
            "5   1   1   1\n",
            "6   0   0   0\n",
            "Actual Output: \n",
            "    y\n",
            "0  0\n",
            "1  1\n",
            "2  1\n",
            "3  1\n",
            "4  1\n",
            "5  0\n",
            "6  0\n",
            "Predicted Output: \n",
            " [[0.00215317]\n",
            " [0.98511761]\n",
            " [0.98488636]\n",
            " [0.98611626]\n",
            " [0.98637172]\n",
            " [0.00676759]\n",
            " [0.03344487]]\n",
            "Loss: \n",
            " y    0.000285\n",
            "dtype: float64\n",
            "+---------EPOCH 10000---------+\n",
            "Input: \n",
            "    x1  x2  x3\n",
            "0   0   0   1\n",
            "1   0   1   1\n",
            "2   1   0   1\n",
            "3   0   1   0\n",
            "4   1   0   0\n",
            "5   1   1   1\n",
            "6   0   0   0\n",
            "Actual Output: \n",
            "    y\n",
            "0  0\n",
            "1  1\n",
            "2  1\n",
            "3  1\n",
            "4  1\n",
            "5  0\n",
            "6  0\n",
            "Predicted Output: \n",
            " [[0.00201054]\n",
            " [0.98591635]\n",
            " [0.98570368]\n",
            " [0.98684319]\n",
            " [0.98707774]\n",
            " [0.00627997]\n",
            " [0.03170362]]\n",
            "Loss: \n",
            " y    0.000256\n",
            "dtype: float64\n"
          ],
          "name": "stdout"
        }
      ]
    },
    {
      "cell_type": "markdown",
      "metadata": {
        "colab_type": "text",
        "id": "8b-r70o8p2Dm"
      },
      "source": [
        "## Try building/training a more complex MLP on a bigger dataset.\n",
        "\n",
        "Use the [MNIST dataset](http://yann.lecun.com/exdb/mnist/) to build the cannonical handwriting digit recognizer and see what kind of accuracy you can achieve. \n",
        "\n",
        "If you need inspiration, the internet is chalk-full of tutorials, but I want you to see how far you can get on your own first. I've linked to the original MNIST dataset above but it will probably be easier to download data through a neural network library. If you reference outside resources make sure you understand every line of code that you're using from other sources, and share with your fellow students helpful resources that you find.\n",
        "\n",
        "\n",
        "### Parts\n",
        "1. Gathering & Transforming the Data\n",
        "2. Making MNIST a Binary Problem\n",
        "3. Estimating your Neural Network (the part you focus on)"
      ]
    },
    {
      "cell_type": "markdown",
      "metadata": {
        "id": "3L1vpaxh5RV1",
        "colab_type": "text"
      },
      "source": [
        "### Gathering the Data \n",
        "\n",
        "`keras` has a handy method to pull the mnist dataset for you. You'll notice that each observation is a 28x28 arrary which represents an image. Although most Neural Network frameworks can handle higher dimensional data, that is more overhead than necessary for us. We need to flatten the image to one long row which will be 784 values (28X28). Basically, you will be appending each row to one another to make on really long row. "
      ]
    },
    {
      "cell_type": "code",
      "metadata": {
        "id": "2H9X99GAuxhA",
        "colab_type": "code",
        "colab": {
          "base_uri": "https://localhost:8080/",
          "height": 88
        },
        "outputId": "3e043d9f-1895-4a8d-8d0e-96f2b6145cb5"
      },
      "source": [
        "# removing tf2 behavior as per the warning that tf2 will be imported soon into colab\n",
        "import tensorflow.compat.v1 as tf\n",
        "tf.disable_v2_behavior()"
      ],
      "execution_count": 4,
      "outputs": [
        {
          "output_type": "stream",
          "text": [
            "WARNING:tensorflow:From /usr/local/lib/python3.6/dist-packages/tensorflow_core/python/compat/v2_compat.py:68: disable_resource_variables (from tensorflow.python.ops.variable_scope) is deprecated and will be removed in a future version.\n",
            "Instructions for updating:\n",
            "non-resource variables are not supported in the long term\n"
          ],
          "name": "stdout"
        }
      ]
    },
    {
      "cell_type": "code",
      "metadata": {
        "id": "iFmb7m8c5RV5",
        "colab_type": "code",
        "colab": {}
      },
      "source": [
        "import numpy as np\n",
        "from tensorflow.keras.datasets import mnist\n",
        "from tensorflow.keras.utils import to_categorical"
      ],
      "execution_count": 0,
      "outputs": []
    },
    {
      "cell_type": "code",
      "metadata": {
        "id": "389j1-RtvGEW",
        "colab_type": "code",
        "colab": {
          "base_uri": "https://localhost:8080/",
          "height": 34
        },
        "outputId": "c3cbcdfb-88d1-4caa-b7d8-2beb7dc0aef6"
      },
      "source": [
        "tf.__version__"
      ],
      "execution_count": 6,
      "outputs": [
        {
          "output_type": "execute_result",
          "data": {
            "text/plain": [
              "'1.15.0'"
            ]
          },
          "metadata": {
            "tags": []
          },
          "execution_count": 6
        }
      ]
    },
    {
      "cell_type": "code",
      "metadata": {
        "id": "mQxLFgn95RWE",
        "colab_type": "code",
        "colab": {}
      },
      "source": [
        "# input image dimensions\n",
        "img_rows, img_cols = 28, 28"
      ],
      "execution_count": 0,
      "outputs": []
    },
    {
      "cell_type": "code",
      "metadata": {
        "id": "w3lQ48db5RWL",
        "colab_type": "code",
        "colab": {}
      },
      "source": [
        "# the data, split between train and test sets\n",
        "(x_train, y_train), (x_test, y_test) = mnist.load_data()"
      ],
      "execution_count": 0,
      "outputs": []
    },
    {
      "cell_type": "code",
      "metadata": {
        "id": "pTVh5FpH5RWS",
        "colab_type": "code",
        "colab": {}
      },
      "source": [
        "x_train = x_train.reshape(x_train.shape[0], img_rows * img_cols)\n",
        "x_test = x_test.reshape(x_test.shape[0], img_rows * img_cols)\n",
        "\n",
        "# Normalize Our Data\n",
        "x_train = x_train / 255\n",
        "x_test = x_test / 255"
      ],
      "execution_count": 0,
      "outputs": []
    },
    {
      "cell_type": "code",
      "metadata": {
        "id": "s3ZuB12X5RWY",
        "colab_type": "code",
        "colab": {
          "base_uri": "https://localhost:8080/",
          "height": 34
        },
        "outputId": "e8c9fc44-33cd-40ce-9833-357f9c840b41"
      },
      "source": [
        "# Now the data should be in a format you're more familiar with\n",
        "x_train.shape"
      ],
      "execution_count": 10,
      "outputs": [
        {
          "output_type": "execute_result",
          "data": {
            "text/plain": [
              "(60000, 784)"
            ]
          },
          "metadata": {
            "tags": []
          },
          "execution_count": 10
        }
      ]
    },
    {
      "cell_type": "markdown",
      "metadata": {
        "id": "93tve9X65RWd",
        "colab_type": "text"
      },
      "source": [
        "### Making MNIST a Binary Problem \n",
        "MNIST is multiclass classification problem; however we haven't covered all the necessary techniques to handle this yet. You would need to one-hot encode the target, use a different loss metric, and use softmax activations for the last layer. This is all stuff we'll cover later this week, but let us simply the problem for now: Zero or all else."
      ]
    },
    {
      "cell_type": "code",
      "metadata": {
        "id": "u9mnefcc5RWe",
        "colab_type": "code",
        "colab": {}
      },
      "source": [
        "import numpy as np\n",
        "\n",
        "y_temp = np.zeros(y_train.shape)\n",
        "y_temp[np.where(y_train == 0.0)[0]] = 1\n",
        "y_train = y_temp\n",
        "\n",
        "y_temp = np.zeros(y_test.shape)\n",
        "y_temp[np.where(y_test == 0.0)[0]] = 1\n",
        "y_test = y_temp"
      ],
      "execution_count": 0,
      "outputs": []
    },
    {
      "cell_type": "code",
      "metadata": {
        "id": "rnDeCRSJ5RWk",
        "colab_type": "code",
        "colab": {
          "base_uri": "https://localhost:8080/",
          "height": 34
        },
        "outputId": "56b8b3fe-b208-432b-ecb3-0dc6ce89b698"
      },
      "source": [
        "# A Nice Binary target for ya to work with\n",
        "y_train"
      ],
      "execution_count": 22,
      "outputs": [
        {
          "output_type": "execute_result",
          "data": {
            "text/plain": [
              "array([0., 1., 0., ..., 0., 0., 0.])"
            ]
          },
          "metadata": {
            "tags": []
          },
          "execution_count": 22
        }
      ]
    },
    {
      "cell_type": "code",
      "metadata": {
        "id": "-TDshLKCLrH8",
        "colab_type": "code",
        "colab": {}
      },
      "source": [
        "# Get random indices for grabbing training smaples\n",
        "sample_index = np.random.randint(x_train.shape[0],size=500)\n",
        "X_sample = x_train[sample_index]\n",
        "y_sample = y_train[sample_index]"
      ],
      "execution_count": 0,
      "outputs": []
    },
    {
      "cell_type": "markdown",
      "metadata": {
        "id": "zrYaN_Lg5RWp",
        "colab_type": "text"
      },
      "source": [
        "### Estimating Your `net"
      ]
    },
    {
      "cell_type": "code",
      "metadata": {
        "colab_type": "code",
        "id": "5MOPtYdk1HgA",
        "colab": {}
      },
      "source": [
        "class NeuralNetwork(object):\n",
        "  def __init__(self):\n",
        "    \"\"\"initialize neural network architecture\"\"\"\n",
        "    self.input_layer = 784 # 28 x 28, the size of our \n",
        "    self.hidden_layer1 = 16\n",
        "    self.hidden_layer2 = 16\n",
        "    self.output_layer = 1\n",
        "  \n",
        "    # initialize with (small positive) random weights with appropriate sizes\n",
        "    self.weights1 = np.random.rand(self.input_layer, self.hidden_layer1)\n",
        "    self.weights2 = np.random.rand(self.hidden_layer1, self.hidden_layer2)\n",
        "    self.weights3 = np.random.rand(self.hidden_layer2, self.output_layer)\n",
        "\n",
        "  def sigmoid(self,x):\n",
        "    return 1 / (1 + np.exp(-x))\n",
        "\n",
        "  def sigmoid_derivative(self, s):\n",
        "    return s * (1 - s)\n",
        "\n",
        "  def feed_forward(self, X):\n",
        "    \"\"\" make predictions from given weights \"\"\"\n",
        "\n",
        "    self.hidden1_sum = np.dot(X, self.weights1)\n",
        "    self.activated_hidden1 = self.sigmoid(self.hidden1_sum)\n",
        "    self.hidden2_sum = np.dot(self.activated_hidden1, self.weights2)\n",
        "    self.activated_hidden2 = self.sigmoid(self.hidden2_sum)\n",
        "    self.output_sum = np.dot(self.activated_hidden2, self.weights3)\n",
        "    self.activated_output = self.sigmoid(self.output_sum)\n",
        "    return self.activated_output\n",
        "\n",
        "  def back_propogation(self, X, y, o):\n",
        "    \"\"\" back propogation to adjust the weights in the neural network \"\"\"\n",
        "    self.output_error = y - o\n",
        "    self.output_adjustments = self.output_error * self.sigmoid_derivative(o)\n",
        "    self.hidden2_error = np.dot(self.output_adjustments, self.weights3.T)# transpose because we are \"going backwards\" in the neural net, so the dimensions need to match up\n",
        "    self.hidden2_adjustments = self.hidden2_error * self.sigmoid_derivative(self.activated_hidden2)\n",
        "    self.hidden1_error = np.dot(self.hidden2_adjustments, self.weights2.T)\n",
        "    self.hidden1_adjustments = self.hidden1_error * sigmoid_derivative(activated_hidden1)\n",
        "\n",
        "    # adjust weights\n",
        "    self.weights1 += np.dot(X.T, self.hidden1_adjustments)\n",
        "    self.weights2 += np.dot(self.activated_hidden1.T, self.hidden2_adjustments)\n",
        "    self.weights3 += np.dot(self.activated_hidden2.T, self.output_adjustments)\n",
        "\n",
        "  def train(self, X, y, n_iter=10):\n",
        "    for epoch in range(n_iter):\n",
        "      o = self.feed_forward(X)\n",
        "      self.back_propogation(X, y, o)\n",
        "\n",
        "  def predict(self, X):\n",
        "    return np.array([ 1 if prediction >= .5 else 0 for prediction in self.feed_forward(X)])\n"
      ],
      "execution_count": 0,
      "outputs": []
    },
    {
      "cell_type": "code",
      "metadata": {
        "id": "LaaIu9LOHSql",
        "colab_type": "code",
        "colab": {
          "base_uri": "https://localhost:8080/",
          "height": 357
        },
        "outputId": "79c6bbfc-2508-4e2a-fcff-a1274c0b1223"
      },
      "source": [
        "nn = NeuralNetwork()\n",
        "nn.train(X_sample,y_sample)"
      ],
      "execution_count": 27,
      "outputs": [
        {
          "output_type": "error",
          "ename": "ValueError",
          "evalue": "ignored",
          "traceback": [
            "\u001b[0;31m---------------------------------------------------------------------------\u001b[0m",
            "\u001b[0;31mValueError\u001b[0m                                Traceback (most recent call last)",
            "\u001b[0;32m<ipython-input-27-ae9454f2482e>\u001b[0m in \u001b[0;36m<module>\u001b[0;34m()\u001b[0m\n\u001b[1;32m      1\u001b[0m \u001b[0mnn\u001b[0m \u001b[0;34m=\u001b[0m \u001b[0mNeuralNetwork\u001b[0m\u001b[0;34m(\u001b[0m\u001b[0;34m)\u001b[0m\u001b[0;34m\u001b[0m\u001b[0;34m\u001b[0m\u001b[0m\n\u001b[0;32m----> 2\u001b[0;31m \u001b[0mnn\u001b[0m\u001b[0;34m.\u001b[0m\u001b[0mtrain\u001b[0m\u001b[0;34m(\u001b[0m\u001b[0mX_sample\u001b[0m\u001b[0;34m,\u001b[0m\u001b[0my_sample\u001b[0m\u001b[0;34m)\u001b[0m\u001b[0;34m\u001b[0m\u001b[0;34m\u001b[0m\u001b[0m\n\u001b[0m",
            "\u001b[0;32m<ipython-input-26-e7e4919b14fd>\u001b[0m in \u001b[0;36mtrain\u001b[0;34m(self, X, y)\u001b[0m\n\u001b[1;32m     45\u001b[0m   \u001b[0;32mdef\u001b[0m \u001b[0mtrain\u001b[0m\u001b[0;34m(\u001b[0m\u001b[0mself\u001b[0m\u001b[0;34m,\u001b[0m \u001b[0mX\u001b[0m\u001b[0;34m,\u001b[0m \u001b[0my\u001b[0m\u001b[0;34m)\u001b[0m\u001b[0;34m:\u001b[0m\u001b[0;34m\u001b[0m\u001b[0;34m\u001b[0m\u001b[0m\n\u001b[1;32m     46\u001b[0m     \u001b[0mo\u001b[0m \u001b[0;34m=\u001b[0m \u001b[0mself\u001b[0m\u001b[0;34m.\u001b[0m\u001b[0mfeed_forward\u001b[0m\u001b[0;34m(\u001b[0m\u001b[0mX\u001b[0m\u001b[0;34m)\u001b[0m\u001b[0;34m\u001b[0m\u001b[0;34m\u001b[0m\u001b[0m\n\u001b[0;32m---> 47\u001b[0;31m     \u001b[0mself\u001b[0m\u001b[0;34m.\u001b[0m\u001b[0mback_propogation\u001b[0m\u001b[0;34m(\u001b[0m\u001b[0mX\u001b[0m\u001b[0;34m,\u001b[0m \u001b[0my\u001b[0m\u001b[0;34m,\u001b[0m \u001b[0mo\u001b[0m\u001b[0;34m)\u001b[0m\u001b[0;34m\u001b[0m\u001b[0;34m\u001b[0m\u001b[0m\n\u001b[0m\u001b[1;32m     48\u001b[0m \u001b[0;34m\u001b[0m\u001b[0m\n",
            "\u001b[0;32m<ipython-input-26-e7e4919b14fd>\u001b[0m in \u001b[0;36mback_propogation\u001b[0;34m(self, X, y, o)\u001b[0m\n\u001b[1;32m     33\u001b[0m     \u001b[0mself\u001b[0m\u001b[0;34m.\u001b[0m\u001b[0moutput_error\u001b[0m \u001b[0;34m=\u001b[0m \u001b[0my\u001b[0m \u001b[0;34m-\u001b[0m \u001b[0mo\u001b[0m\u001b[0;34m\u001b[0m\u001b[0;34m\u001b[0m\u001b[0m\n\u001b[1;32m     34\u001b[0m     \u001b[0mself\u001b[0m\u001b[0;34m.\u001b[0m\u001b[0moutput_adjustments\u001b[0m \u001b[0;34m=\u001b[0m \u001b[0mself\u001b[0m\u001b[0;34m.\u001b[0m\u001b[0moutput_error\u001b[0m \u001b[0;34m*\u001b[0m \u001b[0mself\u001b[0m\u001b[0;34m.\u001b[0m\u001b[0msigmoid_derivative\u001b[0m\u001b[0;34m(\u001b[0m\u001b[0mo\u001b[0m\u001b[0;34m)\u001b[0m\u001b[0;34m\u001b[0m\u001b[0;34m\u001b[0m\u001b[0m\n\u001b[0;32m---> 35\u001b[0;31m     \u001b[0mself\u001b[0m\u001b[0;34m.\u001b[0m\u001b[0mhidden2_error\u001b[0m \u001b[0;34m=\u001b[0m \u001b[0mnp\u001b[0m\u001b[0;34m.\u001b[0m\u001b[0mdot\u001b[0m\u001b[0;34m(\u001b[0m\u001b[0mself\u001b[0m\u001b[0;34m.\u001b[0m\u001b[0moutput_adjustments\u001b[0m\u001b[0;34m,\u001b[0m \u001b[0mself\u001b[0m\u001b[0;34m.\u001b[0m\u001b[0mweights3\u001b[0m\u001b[0;34m.\u001b[0m\u001b[0mT\u001b[0m\u001b[0;34m)\u001b[0m\u001b[0;31m# transpose because we are \"going backwards\" in the neural net, so the dimensions need to match up\u001b[0m\u001b[0;34m\u001b[0m\u001b[0;34m\u001b[0m\u001b[0m\n\u001b[0m\u001b[1;32m     36\u001b[0m     \u001b[0mself\u001b[0m\u001b[0;34m.\u001b[0m\u001b[0mhidden2_adjustments\u001b[0m \u001b[0;34m=\u001b[0m \u001b[0mself\u001b[0m\u001b[0;34m.\u001b[0m\u001b[0mhidden2_error\u001b[0m \u001b[0;34m*\u001b[0m \u001b[0mself\u001b[0m\u001b[0;34m.\u001b[0m\u001b[0msigmoid_derivative\u001b[0m\u001b[0;34m(\u001b[0m\u001b[0mself\u001b[0m\u001b[0;34m.\u001b[0m\u001b[0mactivated_hidden2\u001b[0m\u001b[0;34m)\u001b[0m\u001b[0;34m\u001b[0m\u001b[0;34m\u001b[0m\u001b[0m\n\u001b[1;32m     37\u001b[0m     \u001b[0mself\u001b[0m\u001b[0;34m.\u001b[0m\u001b[0mhidden1_error\u001b[0m \u001b[0;34m=\u001b[0m \u001b[0mnp\u001b[0m\u001b[0;34m.\u001b[0m\u001b[0mdot\u001b[0m\u001b[0;34m(\u001b[0m\u001b[0mself\u001b[0m\u001b[0;34m.\u001b[0m\u001b[0mhidden2_adjustments\u001b[0m\u001b[0;34m,\u001b[0m \u001b[0mself\u001b[0m\u001b[0;34m.\u001b[0m\u001b[0mweights2\u001b[0m\u001b[0;34m.\u001b[0m\u001b[0mT\u001b[0m\u001b[0;34m)\u001b[0m\u001b[0;34m\u001b[0m\u001b[0;34m\u001b[0m\u001b[0m\n",
            "\u001b[0;32m<__array_function__ internals>\u001b[0m in \u001b[0;36mdot\u001b[0;34m(*args, **kwargs)\u001b[0m\n",
            "\u001b[0;31mValueError\u001b[0m: shapes (500,500) and (1,16) not aligned: 500 (dim 1) != 1 (dim 0)"
          ]
        }
      ]
    },
    {
      "cell_type": "markdown",
      "metadata": {
        "colab_type": "text",
        "id": "FwlRJSfBlCvy"
      },
      "source": [
        "## Stretch Goals: \n",
        "\n",
        "- Make MNIST a multiclass problem using cross entropy & soft-max\n",
        "- Implement Cross Validation model evaluation on your MNIST implementation \n",
        "- Research different [Gradient Descent Based Optimizers](https://keras.io/optimizers/)\n",
        " - [Siraj Raval the evolution of gradient descent](https://www.youtube.com/watch?v=nhqo0u1a6fw)\n",
        "- Build a housing price estimation model using a neural network. How does its accuracy compare with the regression models that we fit earlier on in class?"
      ]
    }
  ]
}