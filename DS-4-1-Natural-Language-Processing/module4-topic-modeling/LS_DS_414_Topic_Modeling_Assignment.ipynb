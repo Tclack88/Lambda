{
  "nbformat": 4,
  "nbformat_minor": 0,
  "metadata": {
    "kernelspec": {
      "display_name": "U4-S1-NLP (Python 3)",
      "language": "python",
      "name": "u4-s1-nlp"
    },
    "language_info": {
      "codemirror_mode": {
        "name": "ipython",
        "version": 3
      },
      "file_extension": ".py",
      "mimetype": "text/x-python",
      "name": "python",
      "nbconvert_exporter": "python",
      "pygments_lexer": "ipython3",
      "version": "3.7.3"
    },
    "colab": {
      "name": "LS_DS_414_Topic_Modeling_Assignment.ipynb",
      "provenance": [],
      "include_colab_link": true
    }
  },
  "cells": [
    {
      "cell_type": "markdown",
      "metadata": {
        "id": "view-in-github",
        "colab_type": "text"
      },
      "source": [
        "<a href=\"https://colab.research.google.com/github/Tclack88/DS-Unit-4-Sprint-1-NLP/blob/master/module4-topic-modeling/LS_DS_414_Topic_Modeling_Assignment.ipynb\" target=\"_parent\"><img src=\"https://colab.research.google.com/assets/colab-badge.svg\" alt=\"Open In Colab\"/></a>"
      ]
    },
    {
      "cell_type": "markdown",
      "metadata": {
        "id": "z1teQ7JVrnmY",
        "colab_type": "text"
      },
      "source": [
        "<img align=\"left\" src=\"https://lever-client-logos.s3.amazonaws.com/864372b1-534c-480e-acd5-9711f850815c-1524247202159.png\" width=200>\n",
        "<br></br>\n",
        "<br></br>\n",
        "\n",
        "# Topic Modeling\n",
        "## *Data Science Unit 4 Sprint 1 Assignment 4*\n",
        "\n",
        "Analyze a corpus of Amazon reviews from Unit 4 Sprint 1 Module 1's lecture using topic modeling: \n",
        "\n",
        "- Fit a Gensim LDA topic model on Amazon Reviews\n",
        "- Select appropriate number of topics\n",
        "- Create some dope visualization of the topics\n",
        "- Write a few bullets on your findings in markdown at the end\n",
        "- **Note**: You don't *have* to use generators for this assignment"
      ]
    },
    {
      "cell_type": "code",
      "metadata": {
        "id": "DmvHXpW4Yt4h",
        "colab_type": "code",
        "colab": {
          "base_uri": "https://localhost:8080/",
          "height": 221
        },
        "outputId": "7b9e3f97-ebda-4191-ddc7-9171832af218"
      },
      "source": [
        "# !python -m spacy download en_core_web_lg"
      ],
      "execution_count": 2,
      "outputs": [
        {
          "output_type": "stream",
          "text": [
            "Collecting en_core_web_lg==2.1.0\n",
            "\u001b[?25l  Downloading https://github.com/explosion/spacy-models/releases/download/en_core_web_lg-2.1.0/en_core_web_lg-2.1.0.tar.gz (826.9MB)\n",
            "\u001b[K     |████████████████████████████████| 826.9MB 1.1MB/s \n",
            "\u001b[?25hBuilding wheels for collected packages: en-core-web-lg\n",
            "  Building wheel for en-core-web-lg (setup.py) ... \u001b[?25l\u001b[?25hdone\n",
            "  Created wheel for en-core-web-lg: filename=en_core_web_lg-2.1.0-cp36-none-any.whl size=828255076 sha256=6b8ac9e1532af7f92e348df087c9021e76f532d16726af5e32283b0d1aad9f84\n",
            "  Stored in directory: /tmp/pip-ephem-wheel-cache-h6q7c13u/wheels/b4/d7/70/426d313a459f82ed5e06cc36a50e2bb2f0ec5cb31d8e0bdf09\n",
            "Successfully built en-core-web-lg\n",
            "Installing collected packages: en-core-web-lg\n",
            "Successfully installed en-core-web-lg-2.1.0\n",
            "\u001b[38;5;2m✔ Download and installation successful\u001b[0m\n",
            "You can now load the model via spacy.load('en_core_web_lg')\n"
          ],
          "name": "stdout"
        }
      ]
    },
    {
      "cell_type": "code",
      "metadata": {
        "id": "LK6bJS4eMXaZ",
        "colab_type": "code",
        "colab": {
          "base_uri": "https://localhost:8080/",
          "height": 612
        },
        "outputId": "eb82ebe4-e7e6-428f-8710-40ba83556374"
      },
      "source": [
        "!pip install pyLDAvis"
      ],
      "execution_count": 102,
      "outputs": [
        {
          "output_type": "stream",
          "text": [
            "Collecting pyLDAvis\n",
            "\u001b[?25l  Downloading https://files.pythonhosted.org/packages/a5/3a/af82e070a8a96e13217c8f362f9a73e82d61ac8fff3a2561946a97f96266/pyLDAvis-2.1.2.tar.gz (1.6MB)\n",
            "\u001b[K     |████████████████████████████████| 1.6MB 2.9MB/s \n",
            "\u001b[?25hRequirement already satisfied: wheel>=0.23.0 in /usr/local/lib/python3.6/dist-packages (from pyLDAvis) (0.33.6)\n",
            "Requirement already satisfied: numpy>=1.9.2 in /usr/local/lib/python3.6/dist-packages (from pyLDAvis) (1.17.4)\n",
            "Requirement already satisfied: scipy>=0.18.0 in /usr/local/lib/python3.6/dist-packages (from pyLDAvis) (1.3.3)\n",
            "Requirement already satisfied: pandas>=0.17.0 in /usr/local/lib/python3.6/dist-packages (from pyLDAvis) (0.25.3)\n",
            "Requirement already satisfied: joblib>=0.8.4 in /usr/local/lib/python3.6/dist-packages (from pyLDAvis) (0.14.0)\n",
            "Requirement already satisfied: jinja2>=2.7.2 in /usr/local/lib/python3.6/dist-packages (from pyLDAvis) (2.10.3)\n",
            "Requirement already satisfied: numexpr in /usr/local/lib/python3.6/dist-packages (from pyLDAvis) (2.7.0)\n",
            "Requirement already satisfied: pytest in /usr/local/lib/python3.6/dist-packages (from pyLDAvis) (3.6.4)\n",
            "Requirement already satisfied: future in /usr/local/lib/python3.6/dist-packages (from pyLDAvis) (0.16.0)\n",
            "Collecting funcy\n",
            "\u001b[?25l  Downloading https://files.pythonhosted.org/packages/ce/4b/6ffa76544e46614123de31574ad95758c421aae391a1764921b8a81e1eae/funcy-1.14.tar.gz (548kB)\n",
            "\u001b[K     |████████████████████████████████| 552kB 45.9MB/s \n",
            "\u001b[?25hRequirement already satisfied: python-dateutil>=2.6.1 in /usr/local/lib/python3.6/dist-packages (from pandas>=0.17.0->pyLDAvis) (2.6.1)\n",
            "Requirement already satisfied: pytz>=2017.2 in /usr/local/lib/python3.6/dist-packages (from pandas>=0.17.0->pyLDAvis) (2018.9)\n",
            "Requirement already satisfied: MarkupSafe>=0.23 in /usr/local/lib/python3.6/dist-packages (from jinja2>=2.7.2->pyLDAvis) (1.1.1)\n",
            "Requirement already satisfied: setuptools in /usr/local/lib/python3.6/dist-packages (from pytest->pyLDAvis) (42.0.1)\n",
            "Requirement already satisfied: six>=1.10.0 in /usr/local/lib/python3.6/dist-packages (from pytest->pyLDAvis) (1.12.0)\n",
            "Requirement already satisfied: atomicwrites>=1.0 in /usr/local/lib/python3.6/dist-packages (from pytest->pyLDAvis) (1.3.0)\n",
            "Requirement already satisfied: pluggy<0.8,>=0.5 in /usr/local/lib/python3.6/dist-packages (from pytest->pyLDAvis) (0.7.1)\n",
            "Requirement already satisfied: py>=1.5.0 in /usr/local/lib/python3.6/dist-packages (from pytest->pyLDAvis) (1.8.0)\n",
            "Requirement already satisfied: attrs>=17.4.0 in /usr/local/lib/python3.6/dist-packages (from pytest->pyLDAvis) (19.3.0)\n",
            "Requirement already satisfied: more-itertools>=4.0.0 in /usr/local/lib/python3.6/dist-packages (from pytest->pyLDAvis) (7.2.0)\n",
            "Building wheels for collected packages: pyLDAvis, funcy\n",
            "  Building wheel for pyLDAvis (setup.py) ... \u001b[?25l\u001b[?25hdone\n",
            "  Created wheel for pyLDAvis: filename=pyLDAvis-2.1.2-py2.py3-none-any.whl size=97711 sha256=d847bd330ec1e70f3f1ea6f8d20d4102d82b064934daf68401d5343445fbbc74\n",
            "  Stored in directory: /root/.cache/pip/wheels/98/71/24/513a99e58bb6b8465bae4d2d5e9dba8f0bef8179e3051ac414\n",
            "  Building wheel for funcy (setup.py) ... \u001b[?25l\u001b[?25hdone\n",
            "  Created wheel for funcy: filename=funcy-1.14-py2.py3-none-any.whl size=32040 sha256=f9b289851def97e8588890fccb9636062fa3ecc869981ff58503e326176b2457\n",
            "  Stored in directory: /root/.cache/pip/wheels/20/5a/d8/1d875df03deae6f178dfdf70238cca33f948ef8a6f5209f2eb\n",
            "Successfully built pyLDAvis funcy\n",
            "Installing collected packages: funcy, pyLDAvis\n",
            "Successfully installed funcy-1.14 pyLDAvis-2.1.2\n"
          ],
          "name": "stdout"
        }
      ]
    },
    {
      "cell_type": "code",
      "metadata": {
        "id": "bhru6j2d1lBd",
        "colab_type": "code",
        "colab": {}
      },
      "source": [
        "import pandas as pd\n",
        "from gensim.utils import simple_preprocess\n",
        "from gensim.parsing.preprocessing import STOPWORDS\n",
        "from gensim import corpora\n",
        "from gensim.models.ldamulticore import LdaMulticore\n",
        "\n",
        "import spacy"
      ],
      "execution_count": 0,
      "outputs": []
    },
    {
      "cell_type": "markdown",
      "metadata": {
        "id": "CRw9IaJjuWAH",
        "colab_type": "text"
      },
      "source": [
        "## Loading the data"
      ]
    },
    {
      "cell_type": "code",
      "metadata": {
        "id": "uUubp5Dgrnmf",
        "colab_type": "code",
        "colab": {
          "base_uri": "https://localhost:8080/",
          "height": 425
        },
        "outputId": "93ea0beb-cf8e-44c0-81ef-4a90814452fa"
      },
      "source": [
        "!wget https://github.com/Tclack88/DS-Unit-4-Sprint-1-NLP/blob/master/module1-text-data/data/Datafiniti_Amazon_Consumer_Reviews_of_Amazon_Products_May19.csv.zip?raw=true\n",
        "!mv Datafiniti_Amazon_Consumer_Reviews_of_Amazon_Products_May19.csv.zip?raw=true Datafiniti_Amazon_Consumer_Reviews_of_Amazon_Products_May19.csv.zip\n",
        "!unzip Datafiniti_Amazon_Consumer_Reviews_of_Amazon_Products_May19.csv.zip"
      ],
      "execution_count": 3,
      "outputs": [
        {
          "output_type": "stream",
          "text": [
            "--2019-12-06 00:57:38--  https://github.com/Tclack88/DS-Unit-4-Sprint-1-NLP/blob/master/module1-text-data/data/Datafiniti_Amazon_Consumer_Reviews_of_Amazon_Products_May19.csv.zip?raw=true\n",
            "Resolving github.com (github.com)... 192.30.253.113\n",
            "Connecting to github.com (github.com)|192.30.253.113|:443... connected.\n",
            "HTTP request sent, awaiting response... 302 Found\n",
            "Location: https://github.com/Tclack88/DS-Unit-4-Sprint-1-NLP/raw/master/module1-text-data/data/Datafiniti_Amazon_Consumer_Reviews_of_Amazon_Products_May19.csv.zip [following]\n",
            "--2019-12-06 00:57:38--  https://github.com/Tclack88/DS-Unit-4-Sprint-1-NLP/raw/master/module1-text-data/data/Datafiniti_Amazon_Consumer_Reviews_of_Amazon_Products_May19.csv.zip\n",
            "Reusing existing connection to github.com:443.\n",
            "HTTP request sent, awaiting response... 302 Found\n",
            "Location: https://raw.githubusercontent.com/Tclack88/DS-Unit-4-Sprint-1-NLP/master/module1-text-data/data/Datafiniti_Amazon_Consumer_Reviews_of_Amazon_Products_May19.csv.zip [following]\n",
            "--2019-12-06 00:57:38--  https://raw.githubusercontent.com/Tclack88/DS-Unit-4-Sprint-1-NLP/master/module1-text-data/data/Datafiniti_Amazon_Consumer_Reviews_of_Amazon_Products_May19.csv.zip\n",
            "Resolving raw.githubusercontent.com (raw.githubusercontent.com)... 151.101.0.133, 151.101.64.133, 151.101.128.133, ...\n",
            "Connecting to raw.githubusercontent.com (raw.githubusercontent.com)|151.101.0.133|:443... connected.\n",
            "HTTP request sent, awaiting response... 200 OK\n",
            "Length: 8600979 (8.2M) [application/zip]\n",
            "Saving to: ‘Datafiniti_Amazon_Consumer_Reviews_of_Amazon_Products_May19.csv.zip?raw=true’\n",
            "\n",
            "Datafiniti_Amazon_C 100%[===================>]   8.20M  --.-KB/s    in 0.1s    \n",
            "\n",
            "2019-12-06 00:57:38 (64.3 MB/s) - ‘Datafiniti_Amazon_Consumer_Reviews_of_Amazon_Products_May19.csv.zip?raw=true’ saved [8600979/8600979]\n",
            "\n",
            "Archive:  Datafiniti_Amazon_Consumer_Reviews_of_Amazon_Products_May19.csv.zip\n",
            "  inflating: Datafiniti_Amazon_Consumer_Reviews_of_Amazon_Products_May19.csv  \n",
            "   creating: __MACOSX/\n",
            "  inflating: __MACOSX/._Datafiniti_Amazon_Consumer_Reviews_of_Amazon_Products_May19.csv  \n"
          ],
          "name": "stdout"
        }
      ]
    },
    {
      "cell_type": "code",
      "metadata": {
        "id": "NpsfV-si1Wcc",
        "colab_type": "code",
        "colab": {
          "base_uri": "https://localhost:8080/",
          "height": 564
        },
        "outputId": "18da1695-1f1a-481c-b1e5-8b609b72158b"
      },
      "source": [
        "df = pd.read_csv(\"Datafiniti_Amazon_Consumer_Reviews_of_Amazon_Products_May19.csv\")\n",
        "df.head()"
      ],
      "execution_count": 63,
      "outputs": [
        {
          "output_type": "execute_result",
          "data": {
            "text/html": [
              "<div>\n",
              "<style scoped>\n",
              "    .dataframe tbody tr th:only-of-type {\n",
              "        vertical-align: middle;\n",
              "    }\n",
              "\n",
              "    .dataframe tbody tr th {\n",
              "        vertical-align: top;\n",
              "    }\n",
              "\n",
              "    .dataframe thead th {\n",
              "        text-align: right;\n",
              "    }\n",
              "</style>\n",
              "<table border=\"1\" class=\"dataframe\">\n",
              "  <thead>\n",
              "    <tr style=\"text-align: right;\">\n",
              "      <th></th>\n",
              "      <th>id</th>\n",
              "      <th>dateAdded</th>\n",
              "      <th>dateUpdated</th>\n",
              "      <th>name</th>\n",
              "      <th>asins</th>\n",
              "      <th>brand</th>\n",
              "      <th>categories</th>\n",
              "      <th>primaryCategories</th>\n",
              "      <th>imageURLs</th>\n",
              "      <th>keys</th>\n",
              "      <th>manufacturer</th>\n",
              "      <th>manufacturerNumber</th>\n",
              "      <th>reviews.date</th>\n",
              "      <th>reviews.dateSeen</th>\n",
              "      <th>reviews.didPurchase</th>\n",
              "      <th>reviews.doRecommend</th>\n",
              "      <th>reviews.id</th>\n",
              "      <th>reviews.numHelpful</th>\n",
              "      <th>reviews.rating</th>\n",
              "      <th>reviews.sourceURLs</th>\n",
              "      <th>reviews.text</th>\n",
              "      <th>reviews.title</th>\n",
              "      <th>reviews.username</th>\n",
              "      <th>sourceURLs</th>\n",
              "    </tr>\n",
              "  </thead>\n",
              "  <tbody>\n",
              "    <tr>\n",
              "      <th>0</th>\n",
              "      <td>AVpgNzjwLJeJML43Kpxn</td>\n",
              "      <td>2015-10-30T08:59:32Z</td>\n",
              "      <td>2019-04-25T09:08:16Z</td>\n",
              "      <td>AmazonBasics AAA Performance Alkaline Batterie...</td>\n",
              "      <td>B00QWO9P0O,B00LH3DMUO</td>\n",
              "      <td>Amazonbasics</td>\n",
              "      <td>AA,AAA,Health,Electronics,Health &amp; Household,C...</td>\n",
              "      <td>Health &amp; Beauty</td>\n",
              "      <td>https://images-na.ssl-images-amazon.com/images...</td>\n",
              "      <td>amazonbasics/hl002619,amazonbasicsaaaperforman...</td>\n",
              "      <td>AmazonBasics</td>\n",
              "      <td>HL-002619</td>\n",
              "      <td>2017-03-02T00:00:00.000Z</td>\n",
              "      <td>2017-08-28T00:00:00Z</td>\n",
              "      <td>NaN</td>\n",
              "      <td>NaN</td>\n",
              "      <td>NaN</td>\n",
              "      <td>NaN</td>\n",
              "      <td>3</td>\n",
              "      <td>https://www.amazon.com/product-reviews/B00QWO9...</td>\n",
              "      <td>I order 3 of them and one of the item is bad q...</td>\n",
              "      <td>... 3 of them and one of the item is bad quali...</td>\n",
              "      <td>Byger yang</td>\n",
              "      <td>https://www.barcodable.com/upc/841710106442,ht...</td>\n",
              "    </tr>\n",
              "    <tr>\n",
              "      <th>1</th>\n",
              "      <td>AVpgNzjwLJeJML43Kpxn</td>\n",
              "      <td>2015-10-30T08:59:32Z</td>\n",
              "      <td>2019-04-25T09:08:16Z</td>\n",
              "      <td>AmazonBasics AAA Performance Alkaline Batterie...</td>\n",
              "      <td>B00QWO9P0O,B00LH3DMUO</td>\n",
              "      <td>Amazonbasics</td>\n",
              "      <td>AA,AAA,Health,Electronics,Health &amp; Household,C...</td>\n",
              "      <td>Health &amp; Beauty</td>\n",
              "      <td>https://images-na.ssl-images-amazon.com/images...</td>\n",
              "      <td>amazonbasics/hl002619,amazonbasicsaaaperforman...</td>\n",
              "      <td>AmazonBasics</td>\n",
              "      <td>HL-002619</td>\n",
              "      <td>2016-08-31T00:00:00.000Z</td>\n",
              "      <td>2017-08-28T00:00:00Z</td>\n",
              "      <td>NaN</td>\n",
              "      <td>NaN</td>\n",
              "      <td>NaN</td>\n",
              "      <td>NaN</td>\n",
              "      <td>4</td>\n",
              "      <td>https://www.amazon.com/product-reviews/B00QWO9...</td>\n",
              "      <td>Bulk is always the less expensive way to go fo...</td>\n",
              "      <td>... always the less expensive way to go for pr...</td>\n",
              "      <td>ByMG</td>\n",
              "      <td>https://www.barcodable.com/upc/841710106442,ht...</td>\n",
              "    </tr>\n",
              "    <tr>\n",
              "      <th>2</th>\n",
              "      <td>AVpgNzjwLJeJML43Kpxn</td>\n",
              "      <td>2015-10-30T08:59:32Z</td>\n",
              "      <td>2019-04-25T09:08:16Z</td>\n",
              "      <td>AmazonBasics AAA Performance Alkaline Batterie...</td>\n",
              "      <td>B00QWO9P0O,B00LH3DMUO</td>\n",
              "      <td>Amazonbasics</td>\n",
              "      <td>AA,AAA,Health,Electronics,Health &amp; Household,C...</td>\n",
              "      <td>Health &amp; Beauty</td>\n",
              "      <td>https://images-na.ssl-images-amazon.com/images...</td>\n",
              "      <td>amazonbasics/hl002619,amazonbasicsaaaperforman...</td>\n",
              "      <td>AmazonBasics</td>\n",
              "      <td>HL-002619</td>\n",
              "      <td>2016-12-06T00:00:00.000Z</td>\n",
              "      <td>2017-08-28T00:00:00Z</td>\n",
              "      <td>NaN</td>\n",
              "      <td>NaN</td>\n",
              "      <td>NaN</td>\n",
              "      <td>NaN</td>\n",
              "      <td>5</td>\n",
              "      <td>https://www.amazon.com/product-reviews/B00QWO9...</td>\n",
              "      <td>Well they are not Duracell but for the price i...</td>\n",
              "      <td>... are not Duracell but for the price i am ha...</td>\n",
              "      <td>BySharon Lambert</td>\n",
              "      <td>https://www.barcodable.com/upc/841710106442,ht...</td>\n",
              "    </tr>\n",
              "    <tr>\n",
              "      <th>3</th>\n",
              "      <td>AVpgNzjwLJeJML43Kpxn</td>\n",
              "      <td>2015-10-30T08:59:32Z</td>\n",
              "      <td>2019-04-25T09:08:16Z</td>\n",
              "      <td>AmazonBasics AAA Performance Alkaline Batterie...</td>\n",
              "      <td>B00QWO9P0O,B00LH3DMUO</td>\n",
              "      <td>Amazonbasics</td>\n",
              "      <td>AA,AAA,Health,Electronics,Health &amp; Household,C...</td>\n",
              "      <td>Health &amp; Beauty</td>\n",
              "      <td>https://images-na.ssl-images-amazon.com/images...</td>\n",
              "      <td>amazonbasics/hl002619,amazonbasicsaaaperforman...</td>\n",
              "      <td>AmazonBasics</td>\n",
              "      <td>HL-002619</td>\n",
              "      <td>2016-03-28T00:00:00.000Z</td>\n",
              "      <td>2017-08-28T00:00:00Z</td>\n",
              "      <td>NaN</td>\n",
              "      <td>NaN</td>\n",
              "      <td>NaN</td>\n",
              "      <td>NaN</td>\n",
              "      <td>5</td>\n",
              "      <td>https://www.amazon.com/product-reviews/B00QWO9...</td>\n",
              "      <td>Seem to work as well as name brand batteries a...</td>\n",
              "      <td>... as well as name brand batteries at a much ...</td>\n",
              "      <td>Bymark sexson</td>\n",
              "      <td>https://www.barcodable.com/upc/841710106442,ht...</td>\n",
              "    </tr>\n",
              "    <tr>\n",
              "      <th>4</th>\n",
              "      <td>AVpgNzjwLJeJML43Kpxn</td>\n",
              "      <td>2015-10-30T08:59:32Z</td>\n",
              "      <td>2019-04-25T09:08:16Z</td>\n",
              "      <td>AmazonBasics AAA Performance Alkaline Batterie...</td>\n",
              "      <td>B00QWO9P0O,B00LH3DMUO</td>\n",
              "      <td>Amazonbasics</td>\n",
              "      <td>AA,AAA,Health,Electronics,Health &amp; Household,C...</td>\n",
              "      <td>Health &amp; Beauty</td>\n",
              "      <td>https://images-na.ssl-images-amazon.com/images...</td>\n",
              "      <td>amazonbasics/hl002619,amazonbasicsaaaperforman...</td>\n",
              "      <td>AmazonBasics</td>\n",
              "      <td>HL-002619</td>\n",
              "      <td>2017-04-22T00:00:00.000Z</td>\n",
              "      <td>2017-08-28T00:00:00Z</td>\n",
              "      <td>NaN</td>\n",
              "      <td>NaN</td>\n",
              "      <td>NaN</td>\n",
              "      <td>NaN</td>\n",
              "      <td>5</td>\n",
              "      <td>https://www.amazon.com/product-reviews/B00QWO9...</td>\n",
              "      <td>These batteries are very long lasting the pric...</td>\n",
              "      <td>... batteries are very long lasting the price ...</td>\n",
              "      <td>Bylinda</td>\n",
              "      <td>https://www.barcodable.com/upc/841710106442,ht...</td>\n",
              "    </tr>\n",
              "  </tbody>\n",
              "</table>\n",
              "</div>"
            ],
            "text/plain": [
              "                     id  ...                                         sourceURLs\n",
              "0  AVpgNzjwLJeJML43Kpxn  ...  https://www.barcodable.com/upc/841710106442,ht...\n",
              "1  AVpgNzjwLJeJML43Kpxn  ...  https://www.barcodable.com/upc/841710106442,ht...\n",
              "2  AVpgNzjwLJeJML43Kpxn  ...  https://www.barcodable.com/upc/841710106442,ht...\n",
              "3  AVpgNzjwLJeJML43Kpxn  ...  https://www.barcodable.com/upc/841710106442,ht...\n",
              "4  AVpgNzjwLJeJML43Kpxn  ...  https://www.barcodable.com/upc/841710106442,ht...\n",
              "\n",
              "[5 rows x 24 columns]"
            ]
          },
          "metadata": {
            "tags": []
          },
          "execution_count": 63
        }
      ]
    },
    {
      "cell_type": "markdown",
      "metadata": {
        "id": "Ck-Il-J04QdA",
        "colab_type": "text"
      },
      "source": [
        "## pre-processing\n",
        "There's too much unnecessary information in the dataset, we only need the topic (name) and the tokens (which we will derive from reviews.text)"
      ]
    },
    {
      "cell_type": "code",
      "metadata": {
        "id": "0byZSccz4_CI",
        "colab_type": "code",
        "colab": {}
      },
      "source": [
        "df = df[['name','reviews.text']]\n",
        "df.columns = ['item','review']"
      ],
      "execution_count": 0,
      "outputs": []
    },
    {
      "cell_type": "code",
      "metadata": {
        "id": "GqEeJogHb5fG",
        "colab_type": "code",
        "colab": {
          "base_uri": "https://localhost:8080/",
          "height": 204
        },
        "outputId": "715c8a8c-55e3-413d-99fc-c44dc9092573"
      },
      "source": [
        "df.head()"
      ],
      "execution_count": 52,
      "outputs": [
        {
          "output_type": "execute_result",
          "data": {
            "text/html": [
              "<div>\n",
              "<style scoped>\n",
              "    .dataframe tbody tr th:only-of-type {\n",
              "        vertical-align: middle;\n",
              "    }\n",
              "\n",
              "    .dataframe tbody tr th {\n",
              "        vertical-align: top;\n",
              "    }\n",
              "\n",
              "    .dataframe thead th {\n",
              "        text-align: right;\n",
              "    }\n",
              "</style>\n",
              "<table border=\"1\" class=\"dataframe\">\n",
              "  <thead>\n",
              "    <tr style=\"text-align: right;\">\n",
              "      <th></th>\n",
              "      <th>item</th>\n",
              "      <th>review</th>\n",
              "    </tr>\n",
              "  </thead>\n",
              "  <tbody>\n",
              "    <tr>\n",
              "      <th>0</th>\n",
              "      <td>AmazonBasics AAA Performance Alkaline Batterie...</td>\n",
              "      <td>I order 3 of them and one of the item is bad q...</td>\n",
              "    </tr>\n",
              "    <tr>\n",
              "      <th>1</th>\n",
              "      <td>AmazonBasics AAA Performance Alkaline Batterie...</td>\n",
              "      <td>Bulk is always the less expensive way to go fo...</td>\n",
              "    </tr>\n",
              "    <tr>\n",
              "      <th>2</th>\n",
              "      <td>AmazonBasics AAA Performance Alkaline Batterie...</td>\n",
              "      <td>Well they are not Duracell but for the price i...</td>\n",
              "    </tr>\n",
              "    <tr>\n",
              "      <th>3</th>\n",
              "      <td>AmazonBasics AAA Performance Alkaline Batterie...</td>\n",
              "      <td>Seem to work as well as name brand batteries a...</td>\n",
              "    </tr>\n",
              "    <tr>\n",
              "      <th>4</th>\n",
              "      <td>AmazonBasics AAA Performance Alkaline Batterie...</td>\n",
              "      <td>These batteries are very long lasting the pric...</td>\n",
              "    </tr>\n",
              "  </tbody>\n",
              "</table>\n",
              "</div>"
            ],
            "text/plain": [
              "                                                item                                             review\n",
              "0  AmazonBasics AAA Performance Alkaline Batterie...  I order 3 of them and one of the item is bad q...\n",
              "1  AmazonBasics AAA Performance Alkaline Batterie...  Bulk is always the less expensive way to go fo...\n",
              "2  AmazonBasics AAA Performance Alkaline Batterie...  Well they are not Duracell but for the price i...\n",
              "3  AmazonBasics AAA Performance Alkaline Batterie...  Seem to work as well as name brand batteries a...\n",
              "4  AmazonBasics AAA Performance Alkaline Batterie...  These batteries are very long lasting the pric..."
            ]
          },
          "metadata": {
            "tags": []
          },
          "execution_count": 52
        }
      ]
    },
    {
      "cell_type": "code",
      "metadata": {
        "id": "SS0CbuY45CHY",
        "colab_type": "code",
        "colab": {
          "base_uri": "https://localhost:8080/",
          "height": 419
        },
        "outputId": "b367e7f7-2c43-4d63-b29b-47ddfbb16e9c"
      },
      "source": [
        "STOPWORDS = STOPWORDS.union(['amazon','item','amazonbasics','order','buy','purchase','christmas'])\n",
        "\n",
        "# # \"simple\" tokenizer using simple_preprocess from gensim\n",
        "# def tokenize(review):\n",
        "#   return [token for token in simple_preprocess(review) if token not in STOPWORDS]\n",
        "# df['tokens'] = df.review.apply(tokenize)\n",
        "\n",
        "#Attempt at a more complex model with spacy, but it didn't do much better and takes longer\n",
        "nlp = spacy.load('en_core_web_lg')\n",
        "def tokenize(df):\n",
        "  tokens = []\n",
        "  for doc in nlp.pipe(df.review):\n",
        "    doc_tokens = [token.lemma_.lower() for token in doc if (token.text.lower() not in STOPWORDS) and (token.is_punct == False) and (token.pos_ in ['NOUN','ADJ'])]\n",
        "    tokens.append(doc_tokens)\n",
        "  df['tokens'] = tokens\n",
        "  return df\n",
        "\n",
        "tokenize(df)"
      ],
      "execution_count": 65,
      "outputs": [
        {
          "output_type": "execute_result",
          "data": {
            "text/html": [
              "<div>\n",
              "<style scoped>\n",
              "    .dataframe tbody tr th:only-of-type {\n",
              "        vertical-align: middle;\n",
              "    }\n",
              "\n",
              "    .dataframe tbody tr th {\n",
              "        vertical-align: top;\n",
              "    }\n",
              "\n",
              "    .dataframe thead th {\n",
              "        text-align: right;\n",
              "    }\n",
              "</style>\n",
              "<table border=\"1\" class=\"dataframe\">\n",
              "  <thead>\n",
              "    <tr style=\"text-align: right;\">\n",
              "      <th></th>\n",
              "      <th>item</th>\n",
              "      <th>review</th>\n",
              "      <th>tokens</th>\n",
              "    </tr>\n",
              "  </thead>\n",
              "  <tbody>\n",
              "    <tr>\n",
              "      <th>0</th>\n",
              "      <td>AmazonBasics AAA Performance Alkaline Batterie...</td>\n",
              "      <td>I order 3 of them and one of the item is bad q...</td>\n",
              "      <td>[bad, quality, backup, spring, pcs, aluminum, ...</td>\n",
              "    </tr>\n",
              "    <tr>\n",
              "      <th>1</th>\n",
              "      <td>AmazonBasics AAA Performance Alkaline Batterie...</td>\n",
              "      <td>Bulk is always the less expensive way to go fo...</td>\n",
              "      <td>[expensive, way, product]</td>\n",
              "    </tr>\n",
              "    <tr>\n",
              "      <th>2</th>\n",
              "      <td>AmazonBasics AAA Performance Alkaline Batterie...</td>\n",
              "      <td>Well they are not Duracell but for the price i...</td>\n",
              "      <td>[price, happy]</td>\n",
              "    </tr>\n",
              "    <tr>\n",
              "      <th>3</th>\n",
              "      <td>AmazonBasics AAA Performance Alkaline Batterie...</td>\n",
              "      <td>Seem to work as well as name brand batteries a...</td>\n",
              "      <td>[brand, battery, well, price]</td>\n",
              "    </tr>\n",
              "    <tr>\n",
              "      <th>4</th>\n",
              "      <td>AmazonBasics AAA Performance Alkaline Batterie...</td>\n",
              "      <td>These batteries are very long lasting the pric...</td>\n",
              "      <td>[battery, price, great]</td>\n",
              "    </tr>\n",
              "    <tr>\n",
              "      <th>...</th>\n",
              "      <td>...</td>\n",
              "      <td>...</td>\n",
              "      <td>...</td>\n",
              "    </tr>\n",
              "    <tr>\n",
              "      <th>28327</th>\n",
              "      <td>Fire HD 8 Tablet with Alexa, 8 HD Display, 16 ...</td>\n",
              "      <td>I got 2 of these for my 8 yr old twins. My 11 ...</td>\n",
              "      <td>[old, twin, yr, old, well, perfect, way]</td>\n",
              "    </tr>\n",
              "    <tr>\n",
              "      <th>28328</th>\n",
              "      <td>Fire HD 8 Tablet with Alexa, 8 HD Display, 16 ...</td>\n",
              "      <td>I bought this for my niece for a Christmas gif...</td>\n",
              "      <td>[niece, year, old]</td>\n",
              "    </tr>\n",
              "    <tr>\n",
              "      <th>28329</th>\n",
              "      <td>Fire HD 8 Tablet with Alexa, 8 HD Display, 16 ...</td>\n",
              "      <td>Very nice for light internet browsing, keeping...</td>\n",
              "      <td>[nice, light, internet, browsing, email, video...</td>\n",
              "    </tr>\n",
              "    <tr>\n",
              "      <th>28330</th>\n",
              "      <td>Fire HD 8 Tablet with Alexa, 8 HD Display, 16 ...</td>\n",
              "      <td>This Tablet does absolutely everything I want!...</td>\n",
              "      <td>[tv, bill, beautiful, screen]</td>\n",
              "    </tr>\n",
              "    <tr>\n",
              "      <th>28331</th>\n",
              "      <td>Fire HD 8 Tablet with Alexa, 8 HD Display, 16 ...</td>\n",
              "      <td>At ninety dollars, the expectionations are low...</td>\n",
              "      <td>[dollar, expectionation, low, good, table, goo...</td>\n",
              "    </tr>\n",
              "  </tbody>\n",
              "</table>\n",
              "<p>28332 rows × 3 columns</p>\n",
              "</div>"
            ],
            "text/plain": [
              "                                                    item  ...                                             tokens\n",
              "0      AmazonBasics AAA Performance Alkaline Batterie...  ...  [bad, quality, backup, spring, pcs, aluminum, ...\n",
              "1      AmazonBasics AAA Performance Alkaline Batterie...  ...                          [expensive, way, product]\n",
              "2      AmazonBasics AAA Performance Alkaline Batterie...  ...                                     [price, happy]\n",
              "3      AmazonBasics AAA Performance Alkaline Batterie...  ...                      [brand, battery, well, price]\n",
              "4      AmazonBasics AAA Performance Alkaline Batterie...  ...                            [battery, price, great]\n",
              "...                                                  ...  ...                                                ...\n",
              "28327  Fire HD 8 Tablet with Alexa, 8 HD Display, 16 ...  ...           [old, twin, yr, old, well, perfect, way]\n",
              "28328  Fire HD 8 Tablet with Alexa, 8 HD Display, 16 ...  ...                                 [niece, year, old]\n",
              "28329  Fire HD 8 Tablet with Alexa, 8 HD Display, 16 ...  ...  [nice, light, internet, browsing, email, video...\n",
              "28330  Fire HD 8 Tablet with Alexa, 8 HD Display, 16 ...  ...                      [tv, bill, beautiful, screen]\n",
              "28331  Fire HD 8 Tablet with Alexa, 8 HD Display, 16 ...  ...  [dollar, expectionation, low, good, table, goo...\n",
              "\n",
              "[28332 rows x 3 columns]"
            ]
          },
          "metadata": {
            "tags": []
          },
          "execution_count": 65
        }
      ]
    },
    {
      "cell_type": "code",
      "metadata": {
        "id": "Y13vavkD5-6P",
        "colab_type": "code",
        "colab": {
          "base_uri": "https://localhost:8080/",
          "height": 419
        },
        "outputId": "7c7d5d38-14e8-43b4-da5f-14b3a565545e"
      },
      "source": [
        "STOPWORDS = STOPWORDS.union(['amazon','item','amazonbasics','order','buy','purchase','christmas'])\n",
        "\n",
        "#\"simple\" tokenizer using simple_preprocess from gensim\n",
        "# def tokenize(review):\n",
        "#   return [token for token in simple_preprocess(review) if token not in STOPWORDS]\n",
        "# df['tokens'] = df.review.apply(tokenize)\n",
        "\n",
        "\n",
        "#Attempt at a more complex model with spacy, but it didn't do much better and takes longer\n",
        "nlp = spacy.load('en_core_web_lg')\n",
        "def tokenize(df):\n",
        "  tokens = []\n",
        "  for doc in nlp.pipe(df.review):\n",
        "    doc_tokens = [token.lemma_.lower() for token in doc if (token.text.lower() not in STOPWORDS) and (token.is_punct == False) and (token.pos_ in ['NOUN','ADJ'])]\n",
        "    tokens.append(doc_tokens)\n",
        "  df['tokens'] = tokens\n",
        "  return df\n",
        "\n",
        "tokenize(df)\n",
        "\n",
        "\n",
        "# nlp = spacy.load('en_core_web_lg')\n",
        "# tokenizer = spacy.tokenizer.Tokenizer(nlp.vocab)\n",
        "# def tokenize(df):\n",
        "#   tokens = []\n",
        "#   # tokens = [list(doc.noun_chunks) for doc in tokenizer.pipe(df.review)]\n",
        "#   for row in df.review:\n",
        "#     doc_tokens = list(nlp(row).noun_chunks)\n",
        "#     # doc_tokens = [token.lemma_.lower() for token in doc if (token.text.lower() not in STOPWORDS) and (token.is_punct == False) and (token.pos_ == 'NOUN')]\n",
        "#     tokens.append(doc_tokens)\n",
        "#   df['tokens'] = tokens\n",
        "#   return df\n",
        "\n",
        "# tokenize(df)\n"
      ],
      "execution_count": 92,
      "outputs": [
        {
          "output_type": "execute_result",
          "data": {
            "text/html": [
              "<div>\n",
              "<style scoped>\n",
              "    .dataframe tbody tr th:only-of-type {\n",
              "        vertical-align: middle;\n",
              "    }\n",
              "\n",
              "    .dataframe tbody tr th {\n",
              "        vertical-align: top;\n",
              "    }\n",
              "\n",
              "    .dataframe thead th {\n",
              "        text-align: right;\n",
              "    }\n",
              "</style>\n",
              "<table border=\"1\" class=\"dataframe\">\n",
              "  <thead>\n",
              "    <tr style=\"text-align: right;\">\n",
              "      <th></th>\n",
              "      <th>item</th>\n",
              "      <th>review</th>\n",
              "      <th>tokens</th>\n",
              "    </tr>\n",
              "  </thead>\n",
              "  <tbody>\n",
              "    <tr>\n",
              "      <th>0</th>\n",
              "      <td>AmazonBasics AAA Performance Alkaline Batterie...</td>\n",
              "      <td>I order 3 of them and one of the item is bad q...</td>\n",
              "      <td>[bad, quality, backup, spring, pcs, aluminum, ...</td>\n",
              "    </tr>\n",
              "    <tr>\n",
              "      <th>1</th>\n",
              "      <td>AmazonBasics AAA Performance Alkaline Batterie...</td>\n",
              "      <td>Bulk is always the less expensive way to go fo...</td>\n",
              "      <td>[expensive, way, product]</td>\n",
              "    </tr>\n",
              "    <tr>\n",
              "      <th>2</th>\n",
              "      <td>AmazonBasics AAA Performance Alkaline Batterie...</td>\n",
              "      <td>Well they are not Duracell but for the price i...</td>\n",
              "      <td>[price, happy]</td>\n",
              "    </tr>\n",
              "    <tr>\n",
              "      <th>3</th>\n",
              "      <td>AmazonBasics AAA Performance Alkaline Batterie...</td>\n",
              "      <td>Seem to work as well as name brand batteries a...</td>\n",
              "      <td>[brand, battery, well, price]</td>\n",
              "    </tr>\n",
              "    <tr>\n",
              "      <th>4</th>\n",
              "      <td>AmazonBasics AAA Performance Alkaline Batterie...</td>\n",
              "      <td>These batteries are very long lasting the pric...</td>\n",
              "      <td>[battery, price, great]</td>\n",
              "    </tr>\n",
              "    <tr>\n",
              "      <th>...</th>\n",
              "      <td>...</td>\n",
              "      <td>...</td>\n",
              "      <td>...</td>\n",
              "    </tr>\n",
              "    <tr>\n",
              "      <th>28327</th>\n",
              "      <td>Fire HD 8 Tablet with Alexa, 8 HD Display, 16 ...</td>\n",
              "      <td>I got 2 of these for my 8 yr old twins. My 11 ...</td>\n",
              "      <td>[old, twin, yr, old, well, perfect, way]</td>\n",
              "    </tr>\n",
              "    <tr>\n",
              "      <th>28328</th>\n",
              "      <td>Fire HD 8 Tablet with Alexa, 8 HD Display, 16 ...</td>\n",
              "      <td>I bought this for my niece for a Christmas gif...</td>\n",
              "      <td>[niece, year, old]</td>\n",
              "    </tr>\n",
              "    <tr>\n",
              "      <th>28329</th>\n",
              "      <td>Fire HD 8 Tablet with Alexa, 8 HD Display, 16 ...</td>\n",
              "      <td>Very nice for light internet browsing, keeping...</td>\n",
              "      <td>[nice, light, internet, browsing, email, video...</td>\n",
              "    </tr>\n",
              "    <tr>\n",
              "      <th>28330</th>\n",
              "      <td>Fire HD 8 Tablet with Alexa, 8 HD Display, 16 ...</td>\n",
              "      <td>This Tablet does absolutely everything I want!...</td>\n",
              "      <td>[tv, bill, beautiful, screen]</td>\n",
              "    </tr>\n",
              "    <tr>\n",
              "      <th>28331</th>\n",
              "      <td>Fire HD 8 Tablet with Alexa, 8 HD Display, 16 ...</td>\n",
              "      <td>At ninety dollars, the expectionations are low...</td>\n",
              "      <td>[dollar, expectionation, low, good, table, goo...</td>\n",
              "    </tr>\n",
              "  </tbody>\n",
              "</table>\n",
              "<p>28332 rows × 3 columns</p>\n",
              "</div>"
            ],
            "text/plain": [
              "                                                    item  ...                                             tokens\n",
              "0      AmazonBasics AAA Performance Alkaline Batterie...  ...  [bad, quality, backup, spring, pcs, aluminum, ...\n",
              "1      AmazonBasics AAA Performance Alkaline Batterie...  ...                          [expensive, way, product]\n",
              "2      AmazonBasics AAA Performance Alkaline Batterie...  ...                                     [price, happy]\n",
              "3      AmazonBasics AAA Performance Alkaline Batterie...  ...                      [brand, battery, well, price]\n",
              "4      AmazonBasics AAA Performance Alkaline Batterie...  ...                            [battery, price, great]\n",
              "...                                                  ...  ...                                                ...\n",
              "28327  Fire HD 8 Tablet with Alexa, 8 HD Display, 16 ...  ...           [old, twin, yr, old, well, perfect, way]\n",
              "28328  Fire HD 8 Tablet with Alexa, 8 HD Display, 16 ...  ...                                 [niece, year, old]\n",
              "28329  Fire HD 8 Tablet with Alexa, 8 HD Display, 16 ...  ...  [nice, light, internet, browsing, email, video...\n",
              "28330  Fire HD 8 Tablet with Alexa, 8 HD Display, 16 ...  ...                      [tv, bill, beautiful, screen]\n",
              "28331  Fire HD 8 Tablet with Alexa, 8 HD Display, 16 ...  ...  [dollar, expectionation, low, good, table, goo...\n",
              "\n",
              "[28332 rows x 3 columns]"
            ]
          },
          "metadata": {
            "tags": []
          },
          "execution_count": 92
        }
      ]
    },
    {
      "cell_type": "code",
      "metadata": {
        "id": "m2yABeTJH6LX",
        "colab_type": "code",
        "colab": {}
      },
      "source": [
        "id_word_dict = corpora.Dictionary(df.tokens)"
      ],
      "execution_count": 0,
      "outputs": []
    },
    {
      "cell_type": "code",
      "metadata": {
        "id": "fNdUFVIwS6dZ",
        "colab_type": "code",
        "colab": {
          "base_uri": "https://localhost:8080/",
          "height": 34
        },
        "outputId": "7b7f2e23-e693-480b-c6c0-45b7af2169d3"
      },
      "source": [
        "len(id_word_dict)"
      ],
      "execution_count": 94,
      "outputs": [
        {
          "output_type": "execute_result",
          "data": {
            "text/plain": [
              "5520"
            ]
          },
          "metadata": {
            "tags": []
          },
          "execution_count": 94
        }
      ]
    },
    {
      "cell_type": "code",
      "metadata": {
        "id": "MAeWOpYSS_1s",
        "colab_type": "code",
        "colab": {}
      },
      "source": [
        "# remove words that apear in less than 10 documents and over 90% of all documents\n",
        "id_word_dict.filter_extremes(no_below=10, no_above=.95)"
      ],
      "execution_count": 0,
      "outputs": []
    },
    {
      "cell_type": "code",
      "metadata": {
        "id": "-Plf7eHDUHgY",
        "colab_type": "code",
        "colab": {
          "base_uri": "https://localhost:8080/",
          "height": 34
        },
        "outputId": "d1c2b27b-e629-4071-8a92-ce8edb93a4e0"
      },
      "source": [
        "len(id_word_dict)"
      ],
      "execution_count": 96,
      "outputs": [
        {
          "output_type": "execute_result",
          "data": {
            "text/plain": [
              "1329"
            ]
          },
          "metadata": {
            "tags": []
          },
          "execution_count": 96
        }
      ]
    },
    {
      "cell_type": "code",
      "metadata": {
        "id": "vYHX-pWeJ4nS",
        "colab_type": "code",
        "colab": {
          "base_uri": "https://localhost:8080/",
          "height": 34
        },
        "outputId": "ae65d86e-64eb-4e78-8331-48d11d71e023"
      },
      "source": [
        "id_word_dict[0] # verify filled corpus"
      ],
      "execution_count": 58,
      "outputs": [
        {
          "output_type": "execute_result",
          "data": {
            "text/plain": [
              "'backup'"
            ]
          },
          "metadata": {
            "tags": []
          },
          "execution_count": 58
        }
      ]
    },
    {
      "cell_type": "code",
      "metadata": {
        "id": "cE1ilMI4IAZK",
        "colab_type": "code",
        "colab": {
          "base_uri": "https://localhost:8080/",
          "height": 34
        },
        "outputId": "d8c98426-171b-4b83-9c6f-26c5748e7aed"
      },
      "source": [
        "id_word_dict.token2id['battery']"
      ],
      "execution_count": 17,
      "outputs": [
        {
          "output_type": "execute_result",
          "data": {
            "text/plain": [
              "0"
            ]
          },
          "metadata": {
            "tags": []
          },
          "execution_count": 17
        }
      ]
    },
    {
      "cell_type": "markdown",
      "metadata": {
        "id": "NHZuHZY6UPWe",
        "colab_type": "text"
      },
      "source": [
        "## Determine number of topics and create corpus"
      ]
    },
    {
      "cell_type": "code",
      "metadata": {
        "id": "YmvQz2TxKL-y",
        "colab_type": "code",
        "colab": {
          "base_uri": "https://localhost:8080/",
          "height": 1000
        },
        "outputId": "40b443ad-c82b-4ebe-d46c-57df4cd79d57"
      },
      "source": [
        "df.item.unique()"
      ],
      "execution_count": 43,
      "outputs": [
        {
          "output_type": "execute_result",
          "data": {
            "text/plain": [
              "array(['AmazonBasics AAA Performance Alkaline Batteries (36 Count)',\n",
              "       'AmazonBasics Nylon CD/DVD Binder (400 Capacity)',\n",
              "       'Amazon Echo ‚Äì White', 'Amazon Echo Show - Black',\n",
              "       'Echo Spot Pair Kit (Black)',\n",
              "       'Fire TV Stick Streaming Media Player Pair Kit',\n",
              "       'AmazonBasics AA Performance Alkaline Batteries (48 Count) - Packaging May Vary',\n",
              "       'AmazonBasics Ventilated Adjustable Laptop Stand',\n",
              "       'AmazonBasics Backpack for Laptops up to 17-inches',\n",
              "       'AmazonBasics 11.6-Inch Laptop Sleeve',\n",
              "       'AmazonBasics 15.6-Inch Laptop and Tablet Bag',\n",
              "       'AmazonBasics External Hard Drive Case',\n",
              "       'Expanding Accordion File Folder Plastic Portable Document Organizer Letter Size',\n",
              "       'Cat Litter Box Covered Tray Kitten Extra Large Enclosed Hooded Hidden Toilet',\n",
              "       'Amazon 9W PowerFast Official OEM USB Charger and Power Adapter for Fire Tablets and Kindle eReaders',\n",
              "       'Kindle PowerFast International Charging Kit (for accelerated charging in over 200 countries)',\n",
              "       'AmazonBasics Silicone Hot Handle Cover/Holder - Red',\n",
              "       'Amazon Kindle Charger Power Adapter Wall Charger And Usb Cable Micro Usb Cord',\n",
              "       'Amazon Echo (1st Generationcertified) Color:White Free Shipping',\n",
              "       'Amazon Tap Smart Assistant Alexaenabled (black) Brand New',\n",
              "       'All-New Kindle E-reader - Black, 6\" Glare-Free Touchscreen Display, Wi-Fi - Includes Special Offers',\n",
              "       'AmazonBasics USB 3.0 Cable - A-Male to B-Male - 6 Feet (1.8 Meters)',\n",
              "       'Two Door Top Load Pet Kennel Travel Crate Dog Cat Pet Cage Carrier Box Tray 23\"',\n",
              "       'Oem Amazon Kindle Power Usb Adapter Wall Travel Charger Fire/dx/+micro Usb Cable',\n",
              "       'AmazonBasics 16-Gauge Speaker Wire - 100 Feet',\n",
              "       'Amazon Echo (2nd Generation) Smart Assistant Oak Finish Priority Shipping',\n",
              "       'Kindle Voyage E-reader, 6 High-Resolution Display (300 ppi) with Adaptive Built-in Light, PagePress Sensors, Wi-Fi - Includes Special Offers',\n",
              "       'AmazonBasics Nespresso Pod Storage Drawer - 50 Capsule Capacity',\n",
              "       'Certified Refurbished Amazon Echo',\n",
              "       'All-new Echo (2nd Generation) with improved sound, powered by Dolby, and a new design Walnut Finish',\n",
              "       'All-New Fire HD 8 Tablet, 8 HD Display, Wi-Fi, 16 GB - Includes Special Offers, Black',\n",
              "       'Fire Kids Edition Tablet, 7 Display, Wi-Fi, 16 GB, Pink Kid-Proof Case',\n",
              "       'All-New Fire HD 8 Tablet, 8 HD Display, Wi-Fi, 32 GB - Includes Special Offers, Magenta',\n",
              "       'All-New Fire HD 8 Tablet, 8 HD Display, Wi-Fi, 32 GB - Includes Special Offers, Black',\n",
              "       'Kindle Oasis E-reader with Leather Charging Cover - Black, 6 High-Resolution Display (300 ppi), Wi-Fi - Includes Special Offers',\n",
              "       'Kindle Voyage E-reader, 6 High-Resolution Display (300 ppi) with Adaptive Built-in Light, PagePress Sensors, Free 3G + Wi-Fi - Includes Special Offers',\n",
              "       'All-New Fire 7 Tablet with Alexa, 7\" Display, 8 GB - Marine Blue',\n",
              "       'Fire Tablet, 7 Display, Wi-Fi, 16 GB - Includes Special Offers, Black',\n",
              "       'All-New Fire HD 8 Tablet, 8 HD Display, Wi-Fi, 16 GB - Includes Special Offers, Blue',\n",
              "       'All-New Fire HD 8 Tablet, 8 HD Display, Wi-Fi, 32 GB - Includes Special Offers, Blue',\n",
              "       'Kindle Oasis E-reader with Leather Charging Cover - Merlot, 6 High-Resolution Display (300 ppi), Wi-Fi - Includes Special Offers',\n",
              "       'Fire HD 10 Tablet, 10.1 HD Display, Wi-Fi, 16 GB - Includes Special Offers, Silver Aluminum',\n",
              "       'Amazon Fire HD 8 with Alexa (8\" HD Display Tablet)',\n",
              "       'AmazonBasics Single-Door Folding Metal Dog Crate - Large (42x28x30 Inches)',\n",
              "       'All-New Kindle Oasis E-reader - 7 High-Resolution Display (300 ppi), Waterproof, Built-In Audible, 32 GB, Wi-Fi + Free Cellular Connectivity',\n",
              "       'AmazonBasics Double-Door Folding Metal Dog Crate - Medium (36x23x25 Inches)',\n",
              "       'All-New Fire HD 8 Kids Edition Tablet, 8 HD Display, 32 GB, Pink Kid-Proof Case',\n",
              "       'All-New Fire HD 8 Kids Edition Tablet, 8 HD Display, 32 GB, Blue Kid-Proof Case',\n",
              "       'All-New Fire HD 8 Tablet with Alexa, 8 HD Display, 16 GB, Marine Blue - with Special Offers',\n",
              "       'All-New Fire HD 8 Tablet with Alexa, 8 HD Display, 32 GB, Marine Blue - with Special Offers',\n",
              "       'Fire Tablet with Alexa, 7 Display, 16 GB, Magenta - with Special Offers',\n",
              "       'Echo Dot (Previous generation)',\n",
              "       'Fire Tablet with Alexa, 7 Display, 16 GB, Blue - with Special Offers',\n",
              "       'Kindle Oasis E-reader with Leather Charging Cover - Walnut, 6 High-Resolution Display (300 ppi), Wi-Fi - Includes Special Offers',\n",
              "       'All-New Kindle Oasis E-reader - 7 High-Resolution Display (300 ppi), Waterproof, Built-In Audible, 8 GB, Wi-Fi - Includes Special Offers',\n",
              "       'Fire Kids Edition Tablet, 7 Display, Wi-Fi, 16 GB, Blue Kid-Proof Case',\n",
              "       'Fire HD 8 Tablet with Alexa, 8 HD Display, 32 GB, Tangerine - with Special Offers',\n",
              "       'Fire Kids Edition Tablet, 7 Display, Wi-Fi, 16 GB, Green Kid-Proof Case',\n",
              "       'Kindle E-reader - White, 6 Glare-Free Touchscreen Display, Wi-Fi - Includes Special Offers',\n",
              "       'Amazon Fire TV Gaming Edition Streaming Media Player',\n",
              "       'Certified Refurbished Amazon Fire TV with Alexa Voice Remote',\n",
              "       'All-New Kindle Oasis E-reader - 7 High-Resolution Display (300 ppi), Waterproof, Built-In Audible, 32 GB, Wi-Fi - Includes Special Offers',\n",
              "       'AmazonBasics Bluetooth Keyboard for Android Devices - Black',\n",
              "       'Amazon Kindle Replacement Power Adapter (Fits Latest Generation Kindle and Kindle DX) For shipment in the U.S only',\n",
              "       'Fire HD 8 Tablet with Alexa, 8 HD Display, 16 GB, Tangerine - with Special Offers'],\n",
              "      dtype=object)"
            ]
          },
          "metadata": {
            "tags": []
          },
          "execution_count": 43
        }
      ]
    },
    {
      "cell_type": "markdown",
      "metadata": {
        "id": "L2q8-jGNL_xO",
        "colab_type": "text"
      },
      "source": [
        "Looking at someone unique topics, I can see the following:\n",
        "\n",
        "Everything seems to be able to fit into these3 categories: \n",
        "- tech\n",
        "- pets\n",
        "- homegoods\n",
        "\n",
        "it may be further broken down into:\n",
        "\n",
        "- batteries\n",
        "- office supplies\n",
        "- cases \n",
        "- echo \n",
        "- firestick\n",
        "- laptop\n",
        "- pet_stuff \n",
        "- charger_and_cables\n",
        "- kitchenware \n",
        "- tablet \n",
        "- e_readers\n",
        "\n",
        "I will experiment with just the 3 and continue to break it down if need be"
      ]
    },
    {
      "cell_type": "code",
      "metadata": {
        "id": "z-AP76k4SB0Z",
        "colab_type": "code",
        "colab": {}
      },
      "source": [
        "# Gather all tokens of dataframe into a corpus:\n",
        "corpus = [id_word_dict.doc2bow(t) for t in df.tokens]"
      ],
      "execution_count": 0,
      "outputs": []
    },
    {
      "cell_type": "code",
      "metadata": {
        "id": "oalVw9TZV0cl",
        "colab_type": "code",
        "colab": {
          "base_uri": "https://localhost:8080/",
          "height": 34
        },
        "outputId": "da3cacdf-e09f-41a0-8653-e4354cf03f2e"
      },
      "source": [
        "corpus[0]"
      ],
      "execution_count": 98,
      "outputs": [
        {
          "output_type": "execute_result",
          "data": {
            "text/plain": [
              "[(0, 1), (1, 1), (2, 1), (3, 1), (4, 1)]"
            ]
          },
          "metadata": {
            "tags": []
          },
          "execution_count": 98
        }
      ]
    },
    {
      "cell_type": "code",
      "metadata": {
        "id": "No6BRhsERkLo",
        "colab_type": "code",
        "colab": {}
      },
      "source": [
        "import warnings\n",
        "with warnings.catch_warnings():\n",
        "  warnings.filterwarnings('ignore',category=DeprecationWarning)\n",
        "  lda = LdaMulticore(corpus=corpus,\n",
        "                   id2word=id_word_dict,\n",
        "                   random_state=88,\n",
        "                   num_topics = 4,\n",
        "                   passes = 10,\n",
        "                   workers=2)"
      ],
      "execution_count": 0,
      "outputs": []
    },
    {
      "cell_type": "code",
      "metadata": {
        "id": "HlddufepjLs2",
        "colab_type": "code",
        "colab": {
          "base_uri": "https://localhost:8080/",
          "height": 153
        },
        "outputId": "534c76a6-6edb-426d-ff7b-599180582a4a"
      },
      "source": [
        "lda.print_topics()"
      ],
      "execution_count": 113,
      "outputs": [
        {
          "output_type": "execute_result",
          "data": {
            "text/plain": [
              "[(0,\n",
              "  '0.155*\"battery\" + 0.086*\"good\" + 0.054*\"price\" + 0.033*\"brand\" + 0.029*\"great\" + 0.022*\"quality\" + 0.021*\"life\" + 0.016*\"time\" + 0.015*\"cheap\" + 0.014*\"long\"'),\n",
              " (1,\n",
              "  '0.051*\"app\" + 0.030*\"easy\" + 0.023*\"device\" + 0.015*\"screen\" + 0.015*\"gift\" + 0.015*\"feature\" + 0.014*\"light\" + 0.014*\"size\" + 0.014*\"new\" + 0.012*\"reader\"'),\n",
              " (2,\n",
              "  '0.195*\"great\" + 0.062*\"book\" + 0.057*\"price\" + 0.056*\"product\" + 0.034*\"daughter\" + 0.024*\"easy\" + 0.018*\"screen\" + 0.016*\"excellent\" + 0.015*\"music\" + 0.015*\"game\"'),\n",
              " (3,\n",
              "  '0.146*\"tablet\" + 0.051*\"kid\" + 0.043*\"old\" + 0.041*\"year\" + 0.031*\"good\" + 0.029*\"game\" + 0.025*\"kindle\" + 0.020*\"easy\" + 0.017*\"time\" + 0.017*\"great\"')]"
            ]
          },
          "metadata": {
            "tags": []
          },
          "execution_count": 113
        }
      ]
    },
    {
      "cell_type": "markdown",
      "metadata": {
        "id": "TfdGfGKrGmRi",
        "colab_type": "text"
      },
      "source": [
        "In this iteration, it looks like my categories are:\n",
        "- batteries\n",
        "- A generic \"good quality\" product (hint though it's related to an ereader or book\n",
        "- 2 variations of a tablet or ebook reader\n",
        "\n",
        "A previous lda (without using spacy and only the preprocessing features in gensim) it actually did a little better:"
      ]
    },
    {
      "cell_type": "code",
      "metadata": {
        "id": "2lbpww5BWgOr",
        "colab_type": "code",
        "colab": {
          "base_uri": "https://localhost:8080/",
          "height": 187
        },
        "outputId": "4a2ba671-5b97-4f7a-ba9f-7aaab567ebc7"
      },
      "source": [
        "lda.print_topics()"
      ],
      "execution_count": 48,
      "outputs": [
        {
          "output_type": "execute_result",
          "data": {
            "text/plain": [
              "[(0,\n",
              "  '0.101*\"batteries\" + 0.030*\"long\" + 0.029*\"work\" + 0.018*\"brand\" + 0.015*\"battery\" + 0.014*\"good\" + 0.014*\"time\" + 0.012*\"use\" + 0.012*\"brands\" + 0.012*\"like\"'),\n",
              " (1,\n",
              "  '0.061*\"tablet\" + 0.031*\"kids\" + 0.029*\"loves\" + 0.028*\"old\" + 0.028*\"bought\" + 0.024*\"love\" + 0.023*\"year\" + 0.023*\"games\" + 0.022*\"use\" + 0.020*\"great\"'),\n",
              " (2,\n",
              "  '0.199*\"great\" + 0.151*\"price\" + 0.056*\"works\" + 0.046*\"good\" + 0.041*\"battery\" + 0.028*\"life\" + 0.021*\"product\" + 0.017*\"value\" + 0.015*\"beat\" + 0.014*\"long\"'),\n",
              " (3,\n",
              "  '0.124*\"good\" + 0.060*\"product\" + 0.042*\"great\" + 0.042*\"best\" + 0.037*\"recommend\" + 0.037*\"quality\" + 0.027*\"excellent\" + 0.027*\"deal\" + 0.014*\"highly\" + 0.014*\"happy\"'),\n",
              " (4,\n",
              "  '0.032*\"kindle\" + 0.029*\"tablet\" + 0.024*\"use\" + 0.020*\"screen\" + 0.020*\"easy\" + 0.014*\"like\" + 0.014*\"love\" + 0.014*\"books\" + 0.013*\"reading\" + 0.013*\"read\"')]"
            ]
          },
          "metadata": {
            "tags": []
          },
          "execution_count": 48
        }
      ]
    },
    {
      "cell_type": "markdown",
      "metadata": {
        "id": "oI__28mdi9ER",
        "colab_type": "text"
      },
      "source": [
        "The categories chosen seem to be:\n",
        "- batteries\n",
        "- tables\n",
        "- good product 1\n",
        "- good product 2\n",
        "- e-readers"
      ]
    },
    {
      "cell_type": "markdown",
      "metadata": {
        "id": "ilbL0FVjWo-D",
        "colab_type": "text"
      },
      "source": [
        "## \"Dope\" visualizations"
      ]
    },
    {
      "cell_type": "code",
      "metadata": {
        "id": "R4nd-u9vWsPM",
        "colab_type": "code",
        "colab": {
          "base_uri": "https://localhost:8080/",
          "height": 71
        },
        "outputId": "7cc73fd3-7dea-4a6c-e66c-b3bb6491ce5f"
      },
      "source": [
        "import pyLDAvis.gensim\n",
        "\n",
        "pyLDAvis.enable_notebook()"
      ],
      "execution_count": 103,
      "outputs": [
        {
          "output_type": "stream",
          "text": [
            "/usr/local/lib/python3.6/dist-packages/_pytest/mark/structures.py:426: DeprecationWarning: The usage of `cmp` is deprecated and will be removed on or after 2021-06-01.  Please use `eq` and `order` instead.\n",
            "  @attr.s(cmp=False, hash=False)\n"
          ],
          "name": "stderr"
        }
      ]
    },
    {
      "cell_type": "code",
      "metadata": {
        "id": "QuLywKHyKYW6",
        "colab_type": "code",
        "colab": {
          "base_uri": "https://localhost:8080/",
          "height": 997
        },
        "outputId": "244a02c8-529f-4bcd-abb9-1b4d122c2587"
      },
      "source": [
        "pyLDAvis.gensim.prepare(lda, corpus, id_word_dict)"
      ],
      "execution_count": 104,
      "outputs": [
        {
          "output_type": "stream",
          "text": [
            "/usr/local/lib/python3.6/dist-packages/pyLDAvis/_prepare.py:257: FutureWarning: Sorting because non-concatenation axis is not aligned. A future version\n",
            "of pandas will change to not sort by default.\n",
            "\n",
            "To accept the future behavior, pass 'sort=False'.\n",
            "\n",
            "To retain the current behavior and silence the warning, pass 'sort=True'.\n",
            "\n",
            "  return pd.concat([default_term_info] + list(topic_dfs))\n"
          ],
          "name": "stderr"
        },
        {
          "output_type": "execute_result",
          "data": {
            "text/html": [
              "\n",
              "<link rel=\"stylesheet\" type=\"text/css\" href=\"https://cdn.rawgit.com/bmabey/pyLDAvis/files/ldavis.v1.0.0.css\">\n",
              "\n",
              "\n",
              "<div id=\"ldavis_el2161398424664371844254116131\"></div>\n",
              "<script type=\"text/javascript\">\n",
              "\n",
              "var ldavis_el2161398424664371844254116131_data = {\"mdsDat\": {\"x\": [-0.2858934986728629, 0.14499937275934613, 0.11676818330796182, 0.02412594260555482], \"y\": [-0.07428298667336102, -0.16164831759794202, -0.03767378003654159, 0.2736050843078446], \"topics\": [1, 2, 3, 4], \"cluster\": [1, 1, 1, 1], \"Freq\": [30.311063766479492, 28.87216567993164, 24.447351455688477, 16.369413375854492]}, \"tinfo\": {\"Category\": [\"Default\", \"Default\", \"Default\", \"Default\", \"Default\", \"Default\", \"Default\", \"Default\", \"Default\", \"Default\", \"Default\", \"Default\", \"Default\", \"Default\", \"Default\", \"Default\", \"Default\", \"Default\", \"Default\", \"Default\", \"Default\", \"Default\", \"Default\", \"Default\", \"Default\", \"Default\", \"Default\", \"Default\", \"Default\", \"Default\", \"Topic1\", \"Topic1\", \"Topic1\", \"Topic1\", \"Topic1\", \"Topic1\", \"Topic1\", \"Topic1\", \"Topic1\", \"Topic1\", \"Topic1\", \"Topic1\", \"Topic1\", \"Topic1\", \"Topic1\", \"Topic1\", \"Topic1\", \"Topic1\", \"Topic1\", \"Topic1\", \"Topic1\", \"Topic1\", \"Topic1\", \"Topic1\", \"Topic1\", \"Topic1\", \"Topic1\", \"Topic1\", \"Topic1\", \"Topic1\", \"Topic1\", \"Topic1\", \"Topic1\", \"Topic1\", \"Topic1\", \"Topic1\", \"Topic1\", \"Topic1\", \"Topic1\", \"Topic1\", \"Topic1\", \"Topic1\", \"Topic1\", \"Topic1\", \"Topic1\", \"Topic1\", \"Topic1\", \"Topic1\", \"Topic1\", \"Topic1\", \"Topic1\", \"Topic1\", \"Topic1\", \"Topic1\", \"Topic1\", \"Topic1\", \"Topic2\", \"Topic2\", \"Topic2\", \"Topic2\", \"Topic2\", \"Topic2\", \"Topic2\", \"Topic2\", \"Topic2\", \"Topic2\", \"Topic2\", \"Topic2\", \"Topic2\", \"Topic2\", \"Topic2\", \"Topic2\", \"Topic2\", \"Topic2\", \"Topic2\", \"Topic2\", \"Topic2\", \"Topic2\", \"Topic2\", \"Topic2\", \"Topic2\", \"Topic2\", \"Topic2\", \"Topic2\", \"Topic2\", \"Topic2\", \"Topic2\", \"Topic2\", \"Topic2\", \"Topic2\", \"Topic2\", \"Topic2\", \"Topic2\", \"Topic2\", \"Topic2\", \"Topic2\", \"Topic2\", \"Topic2\", \"Topic2\", \"Topic2\", \"Topic2\", \"Topic2\", \"Topic2\", \"Topic2\", \"Topic2\", \"Topic2\", \"Topic2\", \"Topic2\", \"Topic2\", \"Topic2\", \"Topic2\", \"Topic2\", \"Topic2\", \"Topic2\", \"Topic2\", \"Topic3\", \"Topic3\", \"Topic3\", \"Topic3\", \"Topic3\", \"Topic3\", \"Topic3\", \"Topic3\", \"Topic3\", \"Topic3\", \"Topic3\", \"Topic3\", \"Topic3\", \"Topic3\", \"Topic3\", \"Topic3\", \"Topic3\", \"Topic3\", \"Topic3\", \"Topic3\", \"Topic3\", \"Topic3\", \"Topic3\", \"Topic3\", \"Topic3\", \"Topic3\", \"Topic3\", \"Topic3\", \"Topic3\", \"Topic3\", \"Topic3\", \"Topic3\", \"Topic3\", \"Topic3\", \"Topic3\", \"Topic3\", \"Topic3\", \"Topic3\", \"Topic3\", \"Topic3\", \"Topic3\", \"Topic3\", \"Topic3\", \"Topic3\", \"Topic3\", \"Topic3\", \"Topic3\", \"Topic3\", \"Topic3\", \"Topic3\", \"Topic3\", \"Topic3\", \"Topic3\", \"Topic3\", \"Topic3\", \"Topic3\", \"Topic3\", \"Topic3\", \"Topic3\", \"Topic3\", \"Topic3\", \"Topic3\", \"Topic3\", \"Topic3\", \"Topic3\", \"Topic3\", \"Topic3\", \"Topic4\", \"Topic4\", \"Topic4\", \"Topic4\", \"Topic4\", \"Topic4\", \"Topic4\", \"Topic4\", \"Topic4\", \"Topic4\", \"Topic4\", \"Topic4\", \"Topic4\", \"Topic4\", \"Topic4\", \"Topic4\", \"Topic4\", \"Topic4\", \"Topic4\", \"Topic4\", \"Topic4\", \"Topic4\", \"Topic4\", \"Topic4\", \"Topic4\", \"Topic4\", \"Topic4\", \"Topic4\", \"Topic4\", \"Topic4\", \"Topic4\", \"Topic4\", \"Topic4\", \"Topic4\", \"Topic4\", \"Topic4\", \"Topic4\", \"Topic4\", \"Topic4\", \"Topic4\", \"Topic4\", \"Topic4\", \"Topic4\", \"Topic4\", \"Topic4\", \"Topic4\", \"Topic4\", \"Topic4\", \"Topic4\", \"Topic4\", \"Topic4\", \"Topic4\", \"Topic4\", \"Topic4\", \"Topic4\", \"Topic4\", \"Topic4\", \"Topic4\", \"Topic4\", \"Topic4\", \"Topic4\", \"Topic4\", \"Topic4\", \"Topic4\", \"Topic4\", \"Topic4\"], \"Freq\": [8757.0, 8958.0, 7348.0, 2365.0, 5094.0, 2421.0, 2869.0, 7201.0, 1909.0, 2205.0, 1184.0, 1982.0, 2540.0, 2030.0, 1264.0, 3222.0, 1524.0, 1372.0, 1070.0, 1331.0, 670.0, 1190.0, 1160.0, 965.0, 924.0, 698.0, 814.0, 1008.0, 508.0, 897.0, 8957.806640625, 1908.721435546875, 455.3248596191406, 333.0404052734375, 207.65536499023438, 194.6749725341797, 481.4499206542969, 210.63075256347656, 452.6197204589844, 164.0823516845703, 159.07321166992188, 151.8136749267578, 142.90687561035156, 139.34999084472656, 123.62410736083984, 121.784912109375, 118.61016082763672, 117.25587463378906, 114.1405258178711, 109.7148208618164, 102.25813293457031, 98.94923400878906, 92.72185516357422, 85.2330093383789, 84.07001495361328, 83.19436645507812, 90.51052856445312, 111.56353759765625, 93.07875061035156, 76.25287628173828, 1223.2138671875, 305.7374267578125, 378.606201171875, 1315.09228515625, 821.8550415039062, 811.540283203125, 4864.7490234375, 635.455810546875, 2970.418212890625, 359.17230224609375, 313.8894348144531, 322.2075500488281, 324.86749267578125, 364.0162353515625, 267.00775146484375, 583.4678955078125, 533.4561767578125, 434.90240478515625, 905.0232543945312, 346.1142883300781, 528.3789672851562, 385.3245849609375, 1084.24951171875, 298.83123779296875, 430.6770935058594, 496.39166259765625, 326.9329528808594, 312.8095397949219, 313.2059020996094, 555.7683715820312, 253.71844482421875, 257.9249267578125, 215.80657958984375, 186.24264526367188, 292.8990783691406, 188.59149169921875, 171.6103057861328, 152.2366485595703, 192.3858184814453, 136.3413848876953, 207.55384826660156, 213.19435119628906, 184.79415893554688, 164.81277465820312, 151.45799255371094, 161.64169311523438, 116.52558898925781, 302.0335388183594, 103.76274871826172, 110.83002471923828, 101.72549438476562, 97.99695587158203, 93.75724792480469, 86.3724594116211, 90.15534973144531, 2399.672607421875, 153.18447875976562, 358.60858154296875, 167.90455627441406, 678.5585327148438, 438.6612548828125, 1123.595703125, 1070.8873291015625, 744.9526977539062, 956.7547607421875, 540.5597534179688, 793.9602661132812, 248.54017639160156, 1724.2642822265625, 978.516357421875, 1116.1397705078125, 685.6453247070312, 383.3577575683594, 345.45184326171875, 424.13494873046875, 320.6661071777344, 316.5297546386719, 434.2306213378906, 366.9974365234375, 392.9432067871094, 526.0686645507812, 319.98760986328125, 584.9249877929688, 350.6363525390625, 324.5397033691406, 508.1198425292969, 197.54905700683594, 172.80056762695312, 156.36746215820312, 142.2160186767578, 312.38433837890625, 110.77035522460938, 108.09188079833984, 7291.79443359375, 87.92314910888672, 75.2048568725586, 72.83333587646484, 66.60235595703125, 128.41578674316406, 59.79655075073242, 59.45148468017578, 50.465545654296875, 54.604434967041016, 123.63459777832031, 54.680294036865234, 47.476200103759766, 400.9403381347656, 43.37192916870117, 40.99045944213867, 40.0356330871582, 38.3858528137207, 67.12173461914062, 35.71835708618164, 35.71449661254883, 33.48253631591797, 299.9699401855469, 198.96807861328125, 63.30210876464844, 129.2469940185547, 1929.680908203125, 85.64008331298828, 327.5306701660156, 230.02781677246094, 2212.411376953125, 221.46804809570312, 123.52312469482422, 650.0752563476562, 1819.2598876953125, 872.7783813476562, 709.3652954101562, 158.37925720214844, 206.3077850341797, 272.393310546875, 136.378662109375, 638.0457153320312, 1020.400634765625, 567.4096069335938, 500.6640319824219, 230.49374389648438, 1631.6396484375, 345.0208435058594, 860.4208374023438, 654.0030517578125, 247.9392852783203, 276.8037414550781, 436.9081726074219, 277.36456298828125, 349.0104064941406, 399.1534423828125, 248.9801025390625, 295.52935791015625, 243.7863006591797, 251.53237915039062, 191.46697998046875, 156.25112915039062, 209.27793884277344, 129.45916748046875, 1175.43603515625, 89.57122039794922, 74.31299591064453, 55.67079162597656, 56.305015563964844, 44.107505798339844, 42.358673095703125, 37.3642578125, 82.13644409179688, 61.52404022216797, 32.67549514770508, 31.57875633239746, 27.377105712890625, 31.88898468017578, 29.96181869506836, 84.72952270507812, 23.270809173583984, 31.06441307067871, 20.794986724853516, 19.508068084716797, 18.434242248535156, 18.24977684020996, 18.225624084472656, 16.30982780456543, 356.08294677734375, 46.017295837402344, 46.58744430541992, 82.93274688720703, 7371.28759765625, 131.23971557617188, 1865.79052734375, 537.8187255859375, 157.8277130126953, 132.02313232421875, 62.157379150390625, 838.8319091796875, 439.2790222167969, 127.39546966552734, 1717.2911376953125, 484.1761474609375, 787.4449462890625, 358.8711853027344, 381.8147277832031, 249.65162658691406, 161.64610290527344, 133.59190368652344, 401.9115905761719, 655.1503295898438, 635.3961791992188, 490.5757141113281, 233.49928283691406, 195.72547912597656, 186.5413818359375, 185.09397888183594, 207.05062866210938, 243.02891540527344, 170.6337127685547, 194.96571350097656, 165.18798828125, 162.70333862304688, 164.98133850097656], \"Term\": [\"great\", \"battery\", \"tablet\", \"product\", \"price\", \"app\", \"kid\", \"good\", \"brand\", \"year\", \"daughter\", \"book\", \"old\", \"game\", \"life\", \"easy\", \"quality\", \"kindle\", \"son\", \"device\", \"excellent\", \"gift\", \"nice\", \"value\", \"child\", \"feature\", \"case\", \"cheap\", \"grandson\", \"light\", \"battery\", \"brand\", \"remote\", \"pack\", \"packaging\", \"controller\", \"box\", \"package\", \"toy\", \"dead\", \"mouse\", \"flashlight\", \"alkaline\", \"bulk\", \"energizer\", \"rechargeable\", \"candle\", \"aa\", \"aaa\", \"lasting\", \"bargain\", \"comparable\", \"clock\", \"duracell\", \"shelf\", \"delivery\", \"date\", \"fraction\", \"half\", \"quantity\", \"life\", \"power\", \"performance\", \"quality\", \"cheap\", \"long\", \"good\", \"deal\", \"price\", \"week\", \"one\", \"bad\", \"high\", \"expensive\", \"cost\", \"value\", \"store\", \"money\", \"time\", \"month\", \"well\", \"day\", \"great\", \"low\", \"lot\", \"product\", \"sound\", \"web\", \"warranty\", \"reader\", \"button\", \"page\", \"birthday\", \"ease\", \"e\", \"portable\", \"library\", \"tap\", \"weight\", \"voyage\", \"wifi\", \"laptop\", \"school\", \"mother\", \"lightweight\", \"original\", \"generation\", \"speaker\", \"online\", \"ebook\", \"connection\", \"magazine\", \"helpful\", \"comfortable\", \"pro\", \"app\", \"eye\", \"version\", \"present\", \"feature\", \"granddaughter\", \"kindle\", \"device\", \"light\", \"gift\", \"small\", \"new\", \"email\", \"easy\", \"screen\", \"book\", \"size\", \"internet\", \"wife\", \"use\", \"reading\", \"user\", \"well\", \"day\", \"thing\", \"old\", \"issue\", \"good\", \"time\", \"happy\", \"grandson\", \"ad\", \"nephew\", \"sd\", \"profile\", \"age\", \"beginner\", \"sister\", \"tablet\", \"protection\", \"pad\", \"micro\", \"road\", \"gb\", \"starter\", \"functional\", \"savvy\", \"bag\", \"appropriate\", \"class\", \"lock\", \"friendly\", \"smooth\", \"friday\", \"netflix\", \"cartoon\", \"processor\", \"credit\", \"hundred\", \"add\", \"card\", \"adult\", \"powerful\", \"inch\", \"year\", \"boy\", \"storage\", \"young\", \"kid\", \"content\", \"purpose\", \"case\", \"old\", \"nice\", \"child\", \"grandkid\", \"educational\", \"durable\", \"plenty\", \"perfect\", \"game\", \"son\", \"little\", \"sale\", \"good\", \"video\", \"easy\", \"time\", \"parental\", \"able\", \"screen\", \"free\", \"lot\", \"price\", \"thing\", \"great\", \"kindle\", \"yr\", \"grand\", \"tool\", \"learning\", \"function\", \"daughter\", \"playing\", \"ready\", \"investment\", \"tough\", \"flight\", \"advertisement\", \"teen\", \"expectation\", \"early\", \"aspect\", \"file\", \"terrific\", \"sleek\", \"offer\", \"instruction\", \"train\", \"twin\", \"event\", \"superb\", \"tho\", \"prize\", \"entertained\", \"7yr\", \"memory\", \"college\", \"youtube\", \"busy\", \"great\", \"touch\", \"product\", \"excellent\", \"thank\", \"love\", \"variety\", \"book\", \"happy\", \"show\", \"price\", \"son\", \"game\", \"movie\", \"value\", \"awesome\", \"fun\", \"service\", \"lot\", \"kid\", \"easy\", \"time\", \"video\", \"fast\", \"music\", \"control\", \"deal\", \"screen\", \"parental\", \"old\", \"picture\", \"phone\", \"long\"], \"Total\": [8757.0, 8958.0, 7348.0, 2365.0, 5094.0, 2421.0, 2869.0, 7201.0, 1909.0, 2205.0, 1184.0, 1982.0, 2540.0, 2030.0, 1264.0, 3222.0, 1524.0, 1372.0, 1070.0, 1331.0, 670.0, 1190.0, 1160.0, 965.0, 924.0, 698.0, 814.0, 1008.0, 508.0, 897.0, 8958.48046875, 1909.34814453125, 455.94818115234375, 333.66192626953125, 208.27865600585938, 195.29736328125, 483.0921630859375, 211.35581970214844, 454.2626037597656, 164.70460510253906, 159.70175170898438, 152.4341583251953, 143.52688598632812, 139.98123168945312, 124.24433898925781, 122.410888671875, 119.23503112792969, 117.8759536743164, 114.76134490966797, 110.33869171142578, 102.89678192138672, 99.59223175048828, 93.34789276123047, 85.85301971435547, 84.70781707763672, 83.83056640625, 91.20927429199219, 112.46783447265625, 93.8335952758789, 76.87449645996094, 1264.2733154296875, 326.63311767578125, 411.05914306640625, 1524.62890625, 1008.0731811523438, 997.6712646484375, 7201.5263671875, 845.15673828125, 5094.19775390625, 441.15740966796875, 390.9092102050781, 404.4576721191406, 418.8550109863281, 483.94964599609375, 333.0213928222656, 965.746826171875, 910.421875, 771.6438598632812, 2400.238525390625, 550.6094360351562, 1127.4049072265625, 777.5780639648438, 8757.17578125, 507.4444274902344, 1303.4150390625, 2365.456787109375, 327.7273864746094, 313.5987854003906, 314.0655212402344, 557.35498046875, 254.49172973632812, 258.8241271972656, 216.62779235839844, 187.0319366455078, 294.1492004394531, 189.40646362304688, 172.42538452148438, 153.0704803466797, 193.4559783935547, 137.1040802001953, 208.7359161376953, 214.41519165039062, 185.8671875, 165.82554626464844, 152.3966064453125, 162.6910400390625, 117.29386901855469, 304.19024658203125, 104.54142761230469, 111.66480255126953, 102.51719665527344, 98.77027893066406, 94.5838851928711, 87.14176940917969, 90.96641540527344, 2421.960205078125, 154.9322509765625, 366.0912170410156, 170.10171508789062, 698.9631958007812, 452.8495178222656, 1372.54345703125, 1331.965576171875, 897.4199829101562, 1190.3175048828125, 641.1343994140625, 1028.4649658203125, 274.60986328125, 3222.088134765625, 1658.7984619140625, 1982.7598876953125, 1057.3837890625, 523.7615966796875, 466.4193115234375, 659.4437866210938, 437.858642578125, 438.5289306640625, 1127.4049072265625, 777.5780639648438, 989.3731079101562, 2540.638916015625, 560.1982421875, 7201.5263671875, 2400.238525390625, 889.044921875, 508.91668701171875, 198.35769653320312, 173.59402465820312, 157.19442749023438, 143.05259704589844, 314.60125732421875, 111.58216857910156, 108.8927230834961, 7348.0107421875, 88.71418762207031, 76.00972747802734, 73.62582397460938, 67.40689849853516, 130.0526885986328, 60.5924072265625, 60.24787902832031, 51.2509651184082, 55.467262268066406, 125.59545135498047, 55.55574035644531, 48.2891960144043, 408.2694396972656, 44.16488265991211, 41.792335510253906, 40.831642150878906, 39.18148422241211, 68.58177185058594, 36.503047943115234, 36.521820068359375, 34.27479934692383, 307.6722717285156, 203.8432159423828, 64.89812469482422, 135.6222686767578, 2205.277587890625, 88.94093322753906, 354.78857421875, 253.797119140625, 2869.96044921875, 250.3044891357422, 133.67724609375, 814.6541137695312, 2540.638916015625, 1160.68017578125, 924.99560546875, 179.58108520507812, 251.03720092773438, 351.46044921875, 156.56301879882812, 1073.7236328125, 2030.58984375, 1070.3411865234375, 940.7689208984375, 319.31317138671875, 7201.5263671875, 689.4107666015625, 3222.088134765625, 2400.238525390625, 444.302490234375, 575.448974609375, 1658.7984619140625, 607.7081298828125, 1303.4150390625, 5094.19775390625, 989.3731079101562, 8757.17578125, 1372.54345703125, 252.3098602294922, 192.22921752929688, 157.00794982910156, 210.62420654296875, 130.3040008544922, 1184.345703125, 90.43826293945312, 75.21817779541016, 56.44524383544922, 57.099822998046875, 44.877899169921875, 43.1525993347168, 38.128475189208984, 83.87443542480469, 62.8873176574707, 33.475135803222656, 32.388816833496094, 28.151565551757812, 32.81572341918945, 30.84496307373047, 87.46287536621094, 24.047733306884766, 32.186614990234375, 21.557981491088867, 20.305803298950195, 19.199602127075195, 19.008525848388672, 19.01084327697754, 17.073225021362305, 372.8094482421875, 48.328861236572266, 49.12035369873047, 88.89798736572266, 8757.17578125, 143.6165771484375, 2365.456787109375, 670.391845703125, 193.2244110107422, 191.46156311035156, 76.27962493896484, 1982.7598876953125, 889.044921875, 187.52285766601562, 5094.19775390625, 1070.3411865234375, 2030.58984375, 763.46923828125, 965.746826171875, 541.1194458007812, 290.5860595703125, 224.69235229492188, 1303.4150390625, 2869.96044921875, 3222.088134765625, 2400.238525390625, 689.4107666015625, 499.212646484375, 482.6859436035156, 530.3709106445312, 845.15673828125, 1658.7984619140625, 444.302490234375, 2540.638916015625, 405.0440673828125, 386.19903564453125, 997.6712646484375], \"loglift\": [30.0, 29.0, 28.0, 27.0, 26.0, 25.0, 24.0, 23.0, 22.0, 21.0, 20.0, 19.0, 18.0, 17.0, 16.0, 15.0, 14.0, 13.0, 12.0, 11.0, 10.0, 9.0, 8.0, 7.0, 6.0, 5.0, 4.0, 3.0, 2.0, 1.0, 1.193600058555603, 1.1933000087738037, 1.1922999620437622, 1.1917999982833862, 1.1907000541687012, 1.190500020980835, 1.1902999877929688, 1.1901999711990356, 1.190000057220459, 1.1899000406265259, 1.1897000074386597, 1.1895999908447266, 1.1892999410629272, 1.1891000270843506, 1.1886999607086182, 1.1885000467300415, 1.1884000301361084, 1.1884000301361084, 1.1881999969482422, 1.187999963760376, 1.187399983406067, 1.1871999502182007, 1.186900019645691, 1.186400055885315, 1.1861000061035156, 1.1859999895095825, 1.1859999895095825, 1.1856000423431396, 1.1856000423431396, 1.1855000257492065, 1.160599946975708, 1.127500057220459, 1.1114000082015991, 1.045799970626831, 0.9894000291824341, 0.9872000217437744, 0.8014000058174133, 0.9085000157356262, 0.6542999744415283, 0.988099992275238, 0.9742000102996826, 0.9663000106811523, 0.9394999742507935, 0.9089000225067139, 0.9726999998092651, 0.6897000074386597, 0.6590999960899353, 0.6202999949455261, 0.218299999833107, 0.7293999791145325, 0.4357999861240387, 0.49160000681877136, -0.8952999711036682, 0.6640999913215637, 0.08630000054836273, -0.3677000105381012, 1.23989999294281, 1.239799976348877, 1.2395999431610107, 1.239400029182434, 1.2391999959945679, 1.238800048828125, 1.2384999990463257, 1.2381000518798828, 1.2380000352859497, 1.2380000352859497, 1.2375999689102173, 1.236799955368042, 1.2367000579833984, 1.2367000579833984, 1.2366000413894653, 1.2366000413894653, 1.2365000247955322, 1.236199975013733, 1.2360999584197998, 1.23580002784729, 1.235700011253357, 1.235200047492981, 1.2347999811172485, 1.2347999811172485, 1.2345000505447388, 1.2344000339508057, 1.2335000038146973, 1.2333999872207642, 1.233299970626831, 1.2330000400543213, 1.2309000492095947, 1.22160005569458, 1.2293000221252441, 1.2127000093460083, 1.2105000019073486, 1.042199969291687, 1.0240999460220337, 1.0561000108718872, 1.023900032043457, 1.0716999769210815, 0.9835000038146973, 1.1425000429153442, 0.6171000003814697, 0.7145000100135803, 0.6676999926567078, 0.8090999722480774, 0.9301999807357788, 0.9420999884605408, 0.8008999824523926, 0.9308000206947327, 0.9162999987602234, 0.2881999909877777, 0.49149999022483826, 0.3188999891281128, -0.33239999413490295, 0.6822999715805054, -1.2683000564575195, -0.6812999844551086, 0.2345999926328659, 1.407099962234497, 1.4046000242233276, 1.404099941253662, 1.40339994430542, 1.4027999639511108, 1.4016000032424927, 1.4012999534606934, 1.4012999534606934, 1.4010000228881836, 1.3997000455856323, 1.3980000019073486, 1.3977999687194824, 1.3966000080108643, 1.3960000276565552, 1.395400047302246, 1.395300030708313, 1.3932000398635864, 1.3930000066757202, 1.392899990081787, 1.392799973487854, 1.391700029373169, 1.3904999494552612, 1.3904999494552612, 1.389299988746643, 1.3890000581741333, 1.388100028038025, 1.3870999813079834, 1.3868999481201172, 1.386299967765808, 1.3853000402450562, 1.3832999467849731, 1.3844000101089478, 1.3837000131607056, 1.3604999780654907, 1.2750999927520752, 1.3708000183105469, 1.3286999464035034, 1.3102999925613403, 1.1483999490737915, 1.2862000465393066, 1.3295999765396118, 1.1829999685287476, 1.0746999979019165, 1.1236000061035156, 1.1432000398635864, 1.2829999923706055, 1.212399959564209, 1.1538000106811523, 1.2705999612808228, 0.8881999850273132, 0.7204999923706055, 0.7739999890327454, 0.777899980545044, 1.0827000141143799, -0.07609999924898148, 0.7164000272750854, 0.08829999715089798, 0.10840000212192535, 0.8252999782562256, 0.676800012588501, 0.07450000196695328, 0.6243000030517578, 0.09099999815225601, -1.1378999948501587, 0.02889999933540821, -1.9802000522613525, -0.31949999928474426, 1.8066999912261963, 1.805799961090088, 1.804900050163269, 1.8033000230789185, 1.8033000230789185, 1.8021999597549438, 1.8000999689102173, 1.7976000308990479, 1.7958999872207642, 1.795699954032898, 1.7924000024795532, 1.791200041770935, 1.7894999980926514, 1.7888000011444092, 1.7877999544143677, 1.785599946975708, 1.7843999862670898, 1.7819000482559204, 1.7811000347137451, 1.7806999683380127, 1.777999997138977, 1.776900053024292, 1.7742999792099, 1.7736999988555908, 1.769700050354004, 1.7690999507904053, 1.7690000534057617, 1.7676000595092773, 1.7640000581741333, 1.7639000415802002, 1.760699987411499, 1.7568000555038452, 1.7403000593185425, 1.6375000476837158, 1.719599962234497, 1.5724999904632568, 1.589400053024292, 1.6073999404907227, 1.437999963760376, 1.6050000190734863, 0.9495000243186951, 1.104699969291687, 1.423200011253357, 0.7224000096321106, 1.0164999961853027, 0.862500011920929, 1.054800033569336, 0.8817999958992004, 1.0362000465393066, 1.2232999801635742, 1.2898000478744507, 0.6331999897956848, 0.3325999975204468, 0.18619999289512634, 0.22200000286102295, 0.7271000146865845, 0.8733999729156494, 0.859000027179718, 0.7570000290870667, 0.4032000005245209, -0.11089999973773956, 0.8528000116348267, -0.7576000094413757, 0.9128000140190125, 0.9452999830245972, 0.010200000368058681], \"logprob\": [30.0, 29.0, 28.0, 27.0, 26.0, 25.0, 24.0, 23.0, 22.0, 21.0, 20.0, 19.0, 18.0, 17.0, 16.0, 15.0, 14.0, 13.0, 12.0, 11.0, 10.0, 9.0, 8.0, 7.0, 6.0, 5.0, 4.0, 3.0, 2.0, 1.0, -1.8457000255584717, -3.3917999267578125, -4.824900150299072, -5.137700080871582, -5.610099792480469, -5.674600124359131, -4.769199848175049, -5.595900058746338, -4.830900192260742, -5.845600128173828, -5.8765997886657715, -5.923299789428711, -5.983799934387207, -6.008999824523926, -6.128699779510498, -6.143700122833252, -6.170100212097168, -6.181600093841553, -6.208499908447266, -6.2480998039245605, -6.31850004196167, -6.351399898529053, -6.416399955749512, -6.5005998611450195, -6.5142998695373535, -6.524799823760986, -6.440499782562256, -6.231400012969971, -6.412499904632568, -6.6118998527526855, -3.836699962615967, -5.223199844360352, -5.009500026702881, -3.7643001079559326, -4.234399795532227, -4.247000217437744, -2.456199884414673, -4.491600036621094, -2.94950008392334, -5.06220006942749, -5.196899890899658, -5.17080020904541, -5.162499904632568, -5.048799991607666, -5.358699798583984, -4.577000141143799, -4.666600227355957, -4.870800018310547, -4.138000011444092, -5.0991997718811035, -4.67609977722168, -4.9918999671936035, -3.9572999477386475, -5.246099948883057, -4.8805999755859375, -4.73859977722168, -5.107600212097168, -5.151700019836426, -5.1504998207092285, -4.577000141143799, -5.361100196838379, -5.344699859619141, -5.522900104522705, -5.670300006866455, -5.21750020980835, -5.657700061798096, -5.752099990844727, -5.8719000816345215, -5.637800216674805, -5.9822001457214355, -5.5619001388549805, -5.535099983215332, -5.678100109100342, -5.792500019073486, -5.876999855041504, -5.8119001388549805, -6.139200210571289, -5.186800003051758, -6.255199909210205, -6.189300060272217, -6.275000095367432, -6.312399864196777, -6.356599807739258, -6.438700199127197, -6.3958001136779785, -3.1142001152038574, -5.865699768066406, -5.015100002288818, -5.773900032043457, -4.377399921417236, -4.813600063323975, -3.872999906539917, -3.921099901199341, -4.283999919891357, -4.03380012512207, -4.604700088500977, -4.220300197601318, -5.381700038909912, -3.4447999000549316, -4.011300086975098, -3.879699945449829, -4.367000102996826, -4.948400020599365, -5.052499771118164, -4.847300052642822, -5.1269001960754395, -5.139900207519531, -4.823699951171875, -4.992000102996826, -4.923699855804443, -4.631899833679199, -5.129000186920166, -4.5258002281188965, -5.037600040435791, -5.1149001121521, -4.50029993057251, -5.445000171661377, -5.578800201416016, -5.678800106048584, -5.773600101470947, -4.986700057983398, -6.023499965667725, -6.047999858856201, -1.8365000486373901, -6.254499912261963, -6.410799980163574, -6.442800045013428, -6.532199859619141, -5.875699996948242, -6.639999866485596, -6.6458001136779785, -6.809700012207031, -6.730899810791016, -5.913599967956543, -6.729499816894531, -6.870699882507324, -4.737199783325195, -6.96120023727417, -7.017600059509277, -7.041200160980225, -7.0833001136779785, -6.524499893188477, -7.155300140380859, -7.155399799346924, -7.219900131225586, -5.027299880981445, -5.43779993057251, -6.583000183105469, -5.869200229644775, -3.1658999919891357, -6.280799865722656, -4.9394001960754395, -5.292799949645996, -3.029099941253662, -5.330699920654297, -5.9145002365112305, -4.253900051116943, -3.2248001098632812, -3.9593000411987305, -4.166600227355957, -5.665999889373779, -5.401599884033203, -5.123700141906738, -5.815499782562256, -4.272600173950195, -3.802999973297119, -4.389900207519531, -4.514999866485596, -5.2906999588012695, -3.3336000442504883, -4.887400150299072, -3.9735000133514404, -4.247900009155273, -5.217800140380859, -5.107699871063232, -4.651199817657471, -5.105599880218506, -4.875899791717529, -4.741600036621094, -5.213600158691406, -5.042200088500977, -5.2347002029418945, -4.802299976348877, -5.075099945068359, -5.27839994430542, -4.986199855804443, -5.4664998054504395, -3.260499954223633, -5.834799766540527, -6.021599769592285, -6.310400009155273, -6.299099922180176, -6.5432000160217285, -6.583700180053711, -6.709099769592285, -5.921500205993652, -6.210400104522705, -6.843200206756592, -6.877399921417236, -7.020199775695801, -6.867599964141846, -6.929900169372559, -5.890399932861328, -7.182700157165527, -6.893799781799316, -7.295100212097168, -7.359000205993652, -7.415599822998047, -7.4257001876831055, -7.427000045776367, -7.538099765777588, -4.454699993133545, -6.500800132751465, -6.488500118255615, -5.911799907684326, -1.4244999885559082, -5.4527997970581055, -2.7983999252319336, -4.042300224304199, -5.268400192260742, -5.446899890899658, -6.200200080871582, -3.5978000164031982, -4.244699954986572, -5.482600212097168, -2.8814001083374023, -4.14739990234375, -3.661099910736084, -4.446899890899658, -4.384900093078613, -4.809800148010254, -5.244500160217285, -5.435100078582764, -4.333600044250488, -3.8450000286102295, -3.8756000995635986, -4.134300231933594, -4.876699924468994, -5.053100109100342, -5.101200103759766, -5.109000205993652, -4.9969000816345215, -4.836699962615967, -5.190299987792969, -5.057000160217285, -5.222799777984619, -5.2378997802734375, -5.223999977111816]}, \"token.table\": {\"Topic\": [4, 1, 1, 2, 3, 4, 3, 3, 2, 3, 4, 4, 2, 3, 4, 1, 2, 3, 2, 3, 4, 1, 2, 3, 4, 1, 2, 3, 3, 1, 1, 3, 2, 2, 3, 4, 1, 2, 1, 3, 1, 1, 3, 4, 2, 1, 2, 3, 3, 1, 2, 3, 4, 1, 3, 2, 3, 4, 3, 1, 1, 3, 4, 2, 1, 2, 2, 3, 4, 1, 2, 3, 4, 1, 1, 3, 3, 1, 2, 3, 4, 1, 2, 3, 4, 1, 1, 3, 4, 1, 1, 2, 3, 4, 2, 3, 4, 1, 2, 3, 2, 4, 2, 1, 2, 3, 4, 2, 2, 3, 4, 2, 3, 1, 4, 4, 1, 2, 3, 4, 1, 4, 1, 2, 3, 2, 4, 1, 2, 3, 4, 2, 3, 4, 4, 1, 4, 1, 1, 2, 3, 4, 3, 2, 3, 2, 3, 4, 4, 3, 2, 3, 4, 2, 3, 2, 2, 3, 1, 2, 3, 4, 4, 2, 3, 4, 2, 3, 4, 3, 1, 2, 3, 4, 1, 1, 2, 3, 4, 2, 1, 2, 3, 3, 2, 3, 2, 4, 2, 3, 4, 4, 1, 2, 3, 4, 2, 3, 4, 2, 3, 4, 2, 3, 1, 3, 4, 2, 1, 2, 3, 4, 1, 2, 4, 2, 1, 2, 3, 4, 3, 1, 2, 3, 4, 1, 2, 3, 4, 1, 2, 4, 1, 2, 3, 4, 2, 2, 3, 4, 3, 1, 2, 3, 4, 1, 2, 3, 4, 2, 1, 2, 3, 4, 2, 4, 3, 3, 1, 2, 3, 4, 1, 2, 3, 4, 2, 3, 4, 1, 2, 3, 2, 2, 1, 1, 1, 3, 2, 2, 3, 4, 2, 3, 4, 1, 2, 3, 2, 4, 1, 2, 3, 4, 4, 1, 2, 3, 2, 1, 2, 2, 3, 2, 3, 1, 2, 3, 4, 4, 2, 2, 3, 1, 2, 4, 3, 3, 1, 3, 1, 2, 3, 4, 1, 2, 4, 2, 3, 4, 4, 1, 1, 3, 1, 2, 3, 4, 3, 2, 2, 3, 4, 3, 1, 2, 3, 4, 1, 2, 3, 4, 3, 1, 2, 3, 4, 4, 1, 2, 3, 4, 3, 2, 3, 4, 2, 2, 3, 3, 1, 3, 4, 1, 2, 3, 4, 2, 3, 4, 2, 4, 4, 1, 4, 1, 2, 3, 4, 4, 1, 2, 3, 4, 4, 2, 4, 4, 1, 4, 4, 3, 4, 1, 2, 3, 4, 2, 4, 1, 4, 1, 4, 2, 3, 2, 3, 4, 2, 2, 2, 1, 2, 1, 2, 1, 2, 3, 4, 2, 3, 4, 2, 3, 1, 2, 3, 4, 3, 4, 2, 3, 4, 4], \"Freq\": [0.9371398687362671, 0.992568850517273, 0.9933658242225647, 0.4327056109905243, 0.4813632667064667, 0.08515090495347977, 0.9981967210769653, 0.9628065228462219, 0.004905730951577425, 0.9762404561042786, 0.0196229238063097, 0.9732901453971863, 0.0031786267645657063, 0.991731584072113, 0.0031786267645657063, 0.9963290095329285, 0.9909328818321228, 0.009083551354706287, 0.00796207133680582, 0.9872968792915344, 0.9858062863349915, 0.11642531305551529, 0.1145772933959961, 0.3086194694042206, 0.4620051980018616, 0.7961277961730957, 0.10384275764226913, 0.09889786690473557, 0.9915758967399597, 0.9912846684455872, 0.9999463558197021, 0.9947826266288757, 0.9971019625663757, 0.5628517866134644, 0.013617382384836674, 0.4231475591659546, 0.9956692457199097, 0.002069998299703002, 0.03373024985194206, 0.9669338464736938, 0.9998176693916321, 0.992990255355835, 0.05624424293637276, 0.9336544275283813, 0.9980677962303162, 0.9980288147926331, 0.02275148220360279, 0.9750635027885437, 0.9698458313941956, 0.0012275148183107376, 0.19640237092971802, 0.7978846430778503, 0.0049100592732429504, 0.8154169917106628, 0.1835184246301651, 0.22919027507305145, 0.76649010181427, 0.0032432586885988712, 0.9899967312812805, 0.9962731599807739, 0.02069156989455223, 0.02069156989455223, 0.951812207698822, 0.9868975877761841, 0.9940534234046936, 0.9949550032615662, 0.015980536118149757, 0.8829246163368225, 0.09588322043418884, 0.16026520729064941, 0.09615912288427353, 0.3940638303756714, 0.3488124907016754, 0.9984773993492126, 0.8017503023147583, 0.19818545877933502, 0.9862189888954163, 0.9977055788040161, 0.005910436622798443, 0.001688696094788611, 0.9921090006828308, 0.4951271414756775, 0.4719783365726471, 0.00771626690402627, 0.02443484589457512, 0.9957219958305359, 0.7513399124145508, 0.0023664250038564205, 0.24492497742176056, 0.9900923371315002, 0.18844330310821533, 0.8040748238563538, 0.0037538507021963596, 0.0030030806083232164, 0.04552432522177696, 0.773913562297821, 0.179252028465271, 0.9900642037391663, 0.9960931539535522, 0.003399635199457407, 0.015901457518339157, 0.9858903288841248, 0.9944825768470764, 0.0006207154947333038, 0.5350567698478699, 0.266907662153244, 0.1970771700143814, 0.9940464496612549, 0.015933893620967865, 0.8205955028533936, 0.16332240402698517, 0.9067409038543701, 0.09103824198246002, 0.9980334043502808, 0.9468280673027039, 0.9741171598434448, 0.18645811080932617, 0.008949989452958107, 0.0029833298176527023, 0.8025157451629639, 0.011922583915293217, 0.9776518940925598, 0.7521443963050842, 0.01446431502699852, 0.23142904043197632, 0.987528383731842, 0.006454434245824814, 0.15223973989486694, 0.16025234758853912, 0.2964668571949005, 0.3926182687282562, 0.9714388251304626, 0.02575242891907692, 0.0028613810427486897, 0.9879953265190125, 0.9971518516540527, 0.9804380536079407, 0.995840311050415, 0.027973955497145653, 0.41302722692489624, 0.45581090450286865, 0.10366819053888321, 0.9810411334037781, 0.017145540565252304, 0.9821944832801819, 0.412958562374115, 0.027530569583177567, 0.557494044303894, 0.989992618560791, 0.9792875647544861, 0.10932783782482147, 0.5023170709609985, 0.38757210969924927, 0.007689191494137049, 0.9842165112495422, 0.9974945783615112, 0.8039871454238892, 0.19574609398841858, 0.6755512356758118, 0.08123277872800827, 0.22661861777305603, 0.01666313409805298, 0.9936054348945618, 0.9694169759750366, 0.017665913328528404, 0.013249434530735016, 0.005568515043705702, 0.8798254132270813, 0.11137030273675919, 0.9981987476348877, 0.12378419935703278, 0.0006851524231024086, 0.03380085155367851, 0.8417097330093384, 0.9911162257194519, 0.1349763125181198, 0.3655608296394348, 0.005624012555927038, 0.49378833174705505, 0.9938268065452576, 0.775924801826477, 0.0787862092256546, 0.14563511312007904, 0.9857121109962463, 0.044240523129701614, 0.9511712193489075, 0.02286684513092041, 0.9718409180641174, 0.7312487363815308, 0.0076370625756680965, 0.25966012477874756, 0.9921119213104248, 0.32131481170654297, 0.5712263584136963, 0.010710494592785835, 0.09639444947242737, 0.0006968736997805536, 0.7707423567771912, 0.22822614014148712, 0.8189176321029663, 0.1777721494436264, 0.0036428719758987427, 0.9933997392654419, 0.0046638487838208675, 0.9969304203987122, 0.004747792147099972, 0.9922885894775391, 0.9975329637527466, 0.9673541188240051, 0.003954840824007988, 0.023729046806693077, 0.003954840824007988, 0.16714581847190857, 0.8301575779914856, 0.0022286109160631895, 0.9908357262611389, 0.17538844048976898, 0.2614882290363312, 0.5325431227684021, 0.03188880905508995, 0.9733026027679443, 0.8138953447341919, 0.0020046683494001627, 0.01904434897005558, 0.1653851419687271, 0.3306698203086853, 0.09360027313232422, 0.26775816082954407, 0.3084205687046051, 0.00522298039868474, 0.3081558346748352, 0.6894333958625793, 0.5892270803451538, 0.21874316036701202, 0.1852419525384903, 0.007882636971771717, 0.9922013282775879, 0.016094012185931206, 0.029505690559744835, 0.9549114108085632, 0.9914999604225159, 0.5637315511703491, 0.002591869328171015, 0.25659504532814026, 0.177543044090271, 0.628394603729248, 0.15982291102409363, 0.21067564189434052, 0.0018161693587899208, 0.9950215816497803, 0.9956058859825134, 0.2449345588684082, 0.2855386734008789, 0.47022196650505066, 0.6132351756095886, 0.38741546869277954, 0.9965780973434448, 0.9796324372291565, 0.14973771572113037, 0.7720243334770203, 0.07681350409984589, 0.0019446457736194134, 0.20849843323230743, 0.038770370185375214, 0.7521451711654663, 0.9726061224937439, 0.20703454315662384, 0.7159616351127625, 0.07675234973430634, 0.803255558013916, 0.0025581386871635914, 0.1918604075908661, 0.9948209524154663, 0.9957524538040161, 0.9980161786079407, 0.9983164668083191, 0.9986621141433716, 0.9867157936096191, 0.9968158602714539, 0.05626797303557396, 0.5581783056259155, 0.3848729133605957, 0.27474480867385864, 0.5941938757896423, 0.13038736581802368, 0.9220084547996521, 0.012163699604570866, 0.06568397581577301, 0.5774224400520325, 0.4220621585845947, 0.004937734454870224, 0.461678147315979, 0.12838108837604523, 0.40736308693885803, 0.9951540231704712, 0.09580806642770767, 0.03193602338433266, 0.8686597943305969, 0.9978539943695068, 0.9368308782577515, 0.06123077869415283, 0.015408765524625778, 0.9707522392272949, 0.987644374370575, 0.005878835450857878, 0.5830162167549133, 0.001374112325720489, 0.07832439988851547, 0.3370501399040222, 0.9469435214996338, 0.9893761277198792, 0.014581133611500263, 0.9769359827041626, 0.20968465507030487, 0.001268254010938108, 0.7888540029525757, 0.9926418662071228, 0.9919495582580566, 0.0748070478439331, 0.9276073575019836, 0.8625049591064453, 0.11609382182359695, 0.01770922727882862, 0.003935384098440409, 0.9886243343353271, 0.9975689053535461, 0.0017941886326298118, 0.7331132888793945, 0.08450216054916382, 0.18270736932754517, 0.9838047623634338, 0.9966433644294739, 0.9979203939437866, 0.9939635396003723, 0.0814247652888298, 0.03444894030690193, 0.7202960252761841, 0.1659812480211258, 0.9755913615226746, 0.9953343868255615, 0.5901862382888794, 0.2634437084197998, 0.14649157226085663, 0.9924015998840332, 0.044505298137664795, 0.33824026584625244, 0.022252649068832397, 0.5963709950447083, 0.991644024848938, 0.2559688091278076, 0.0639922022819519, 0.6772507429122925, 0.9918017983436584, 0.10592180490493774, 0.6487710475921631, 0.20333203673362732, 0.04255786910653114, 0.9751423001289368, 0.12945803999900818, 0.8438168168067932, 0.014037618413567543, 0.014037618413567543, 0.9736242294311523, 0.016817066818475723, 0.529737651348114, 0.4521922469139099, 0.9977805018424988, 0.9927997589111328, 0.006574832834303379, 0.9902230501174927, 0.07046449929475784, 0.9244942665100098, 0.0028185800183564425, 0.5854429006576538, 0.24603977799415588, 0.16805395483970642, 0.9849401116371155, 0.0069406540133059025, 0.9923774003982544, 0.000680456287227571, 0.9930066466331482, 0.9704033732414246, 0.9590941071510315, 0.18113653361797333, 0.817702054977417, 0.22337377071380615, 0.39722123742103577, 0.25167450308799744, 0.12735337018966675, 0.9375194311141968, 0.3770458698272705, 0.14623546600341797, 0.27247291803359985, 0.20456300675868988, 0.9935802817344666, 0.08355581760406494, 0.9121509790420532, 0.9807385802268982, 0.997220516204834, 0.0022013699635863304, 0.9564310908317566, 0.031068814918398857, 0.9631332755088806, 0.3199666142463684, 0.642966091632843, 0.03336144983768463, 0.0030328589491546154, 0.7228713631629944, 0.2759225070476532, 0.6036778688430786, 0.3955487906932831, 0.18353524804115295, 0.8127989768981934, 0.9806299209594727, 0.019120916724205017, 0.16100706160068512, 0.5004273653030396, 0.3379697799682617, 0.9919471144676208, 0.9966073036193848, 0.9980906248092651, 0.8137685060501099, 0.18587470054626465, 0.005169134587049484, 0.992473840713501, 0.4683321714401245, 0.38495486974716187, 0.14546681940555573, 0.000886992784217, 0.7396777868270874, 0.006431980524212122, 0.2529912292957306, 0.9964744448661804, 0.004790742415934801, 0.01360372919589281, 0.10066759586334229, 0.8751732707023621, 0.01042952574789524, 0.9062356352806091, 0.09062356501817703, 0.020358160138130188, 0.040716320276260376, 0.9568334817886353, 0.9987719058990479], \"Term\": [\"7yr\", \"aa\", \"aaa\", \"able\", \"able\", \"able\", \"ad\", \"add\", \"adult\", \"adult\", \"adult\", \"advertisement\", \"age\", \"age\", \"age\", \"alkaline\", \"app\", \"app\", \"appropriate\", \"appropriate\", \"aspect\", \"awesome\", \"awesome\", \"awesome\", \"awesome\", \"bad\", \"bad\", \"bad\", \"bag\", \"bargain\", \"battery\", \"beginner\", \"birthday\", \"book\", \"book\", \"book\", \"box\", \"box\", \"boy\", \"boy\", \"brand\", \"bulk\", \"busy\", \"busy\", \"button\", \"candle\", \"card\", \"card\", \"cartoon\", \"case\", \"case\", \"case\", \"case\", \"cheap\", \"cheap\", \"child\", \"child\", \"child\", \"class\", \"clock\", \"college\", \"college\", \"college\", \"comfortable\", \"comparable\", \"connection\", \"content\", \"content\", \"content\", \"control\", \"control\", \"control\", \"control\", \"controller\", \"cost\", \"cost\", \"credit\", \"date\", \"daughter\", \"daughter\", \"daughter\", \"day\", \"day\", \"day\", \"day\", \"dead\", \"deal\", \"deal\", \"deal\", \"delivery\", \"device\", \"device\", \"device\", \"device\", \"durable\", \"durable\", \"durable\", \"duracell\", \"e\", \"e\", \"early\", \"early\", \"ease\", \"easy\", \"easy\", \"easy\", \"easy\", \"ebook\", \"educational\", \"educational\", \"educational\", \"email\", \"email\", \"energizer\", \"entertained\", \"event\", \"excellent\", \"excellent\", \"excellent\", \"excellent\", \"expectation\", \"expectation\", \"expensive\", \"expensive\", \"expensive\", \"eye\", \"eye\", \"fast\", \"fast\", \"fast\", \"fast\", \"feature\", \"feature\", \"feature\", \"file\", \"flashlight\", \"flight\", \"fraction\", \"free\", \"free\", \"free\", \"free\", \"friday\", \"friendly\", \"friendly\", \"fun\", \"fun\", \"fun\", \"function\", \"functional\", \"game\", \"game\", \"game\", \"gb\", \"gb\", \"generation\", \"gift\", \"gift\", \"good\", \"good\", \"good\", \"good\", \"grand\", \"granddaughter\", \"granddaughter\", \"granddaughter\", \"grandkid\", \"grandkid\", \"grandkid\", \"grandson\", \"great\", \"great\", \"great\", \"great\", \"half\", \"happy\", \"happy\", \"happy\", \"happy\", \"helpful\", \"high\", \"high\", \"high\", \"hundred\", \"inch\", \"inch\", \"instruction\", \"instruction\", \"internet\", \"internet\", \"internet\", \"investment\", \"issue\", \"issue\", \"issue\", \"issue\", \"kid\", \"kid\", \"kid\", \"kindle\", \"kindle\", \"kindle\", \"laptop\", \"laptop\", \"lasting\", \"learning\", \"learning\", \"library\", \"life\", \"life\", \"life\", \"life\", \"light\", \"light\", \"light\", \"lightweight\", \"little\", \"little\", \"little\", \"little\", \"lock\", \"long\", \"long\", \"long\", \"long\", \"lot\", \"lot\", \"lot\", \"lot\", \"love\", \"love\", \"love\", \"low\", \"low\", \"low\", \"low\", \"magazine\", \"memory\", \"memory\", \"memory\", \"micro\", \"money\", \"money\", \"money\", \"money\", \"month\", \"month\", \"month\", \"month\", \"mother\", \"mouse\", \"movie\", \"movie\", \"movie\", \"music\", \"music\", \"nephew\", \"netflix\", \"new\", \"new\", \"new\", \"new\", \"nice\", \"nice\", \"nice\", \"offer\", \"old\", \"old\", \"old\", \"one\", \"one\", \"one\", \"online\", \"original\", \"pack\", \"package\", \"packaging\", \"pad\", \"page\", \"parental\", \"parental\", \"parental\", \"perfect\", \"perfect\", \"perfect\", \"performance\", \"performance\", \"performance\", \"phone\", \"phone\", \"picture\", \"picture\", \"picture\", \"picture\", \"playing\", \"plenty\", \"plenty\", \"plenty\", \"portable\", \"power\", \"power\", \"powerful\", \"powerful\", \"present\", \"present\", \"price\", \"price\", \"price\", \"price\", \"prize\", \"pro\", \"processor\", \"processor\", \"product\", \"product\", \"product\", \"profile\", \"protection\", \"purpose\", \"purpose\", \"quality\", \"quality\", \"quality\", \"quality\", \"quantity\", \"reader\", \"reader\", \"reading\", \"reading\", \"reading\", \"ready\", \"rechargeable\", \"remote\", \"road\", \"sale\", \"sale\", \"sale\", \"sale\", \"savvy\", \"school\", \"screen\", \"screen\", \"screen\", \"sd\", \"service\", \"service\", \"service\", \"service\", \"shelf\", \"show\", \"show\", \"show\", \"sister\", \"size\", \"size\", \"size\", \"size\", \"sleek\", \"small\", \"small\", \"small\", \"small\", \"smooth\", \"son\", \"son\", \"son\", \"sound\", \"speaker\", \"speaker\", \"starter\", \"storage\", \"storage\", \"storage\", \"store\", \"store\", \"store\", \"superb\", \"tablet\", \"tablet\", \"tablet\", \"tap\", \"teen\", \"terrific\", \"thank\", \"thank\", \"thing\", \"thing\", \"thing\", \"thing\", \"tho\", \"time\", \"time\", \"time\", \"time\", \"tool\", \"touch\", \"touch\", \"tough\", \"toy\", \"toy\", \"train\", \"twin\", \"twin\", \"use\", \"use\", \"use\", \"use\", \"user\", \"user\", \"value\", \"value\", \"variety\", \"variety\", \"version\", \"version\", \"video\", \"video\", \"video\", \"voyage\", \"warranty\", \"web\", \"week\", \"week\", \"weight\", \"weight\", \"well\", \"well\", \"well\", \"well\", \"wife\", \"wife\", \"wife\", \"wifi\", \"wifi\", \"year\", \"year\", \"year\", \"year\", \"young\", \"young\", \"youtube\", \"youtube\", \"youtube\", \"yr\"]}, \"R\": 30, \"lambda.step\": 0.01, \"plot.opts\": {\"xlab\": \"PC1\", \"ylab\": \"PC2\"}, \"topic.order\": [1, 2, 4, 3]};\n",
              "\n",
              "function LDAvis_load_lib(url, callback){\n",
              "  var s = document.createElement('script');\n",
              "  s.src = url;\n",
              "  s.async = true;\n",
              "  s.onreadystatechange = s.onload = callback;\n",
              "  s.onerror = function(){console.warn(\"failed to load library \" + url);};\n",
              "  document.getElementsByTagName(\"head\")[0].appendChild(s);\n",
              "}\n",
              "\n",
              "if(typeof(LDAvis) !== \"undefined\"){\n",
              "   // already loaded: just create the visualization\n",
              "   !function(LDAvis){\n",
              "       new LDAvis(\"#\" + \"ldavis_el2161398424664371844254116131\", ldavis_el2161398424664371844254116131_data);\n",
              "   }(LDAvis);\n",
              "}else if(typeof define === \"function\" && define.amd){\n",
              "   // require.js is available: use it to load d3/LDAvis\n",
              "   require.config({paths: {d3: \"https://cdnjs.cloudflare.com/ajax/libs/d3/3.5.5/d3.min\"}});\n",
              "   require([\"d3\"], function(d3){\n",
              "      window.d3 = d3;\n",
              "      LDAvis_load_lib(\"https://cdn.rawgit.com/bmabey/pyLDAvis/files/ldavis.v1.0.0.js\", function(){\n",
              "        new LDAvis(\"#\" + \"ldavis_el2161398424664371844254116131\", ldavis_el2161398424664371844254116131_data);\n",
              "      });\n",
              "    });\n",
              "}else{\n",
              "    // require.js not available: dynamically load d3 & LDAvis\n",
              "    LDAvis_load_lib(\"https://cdnjs.cloudflare.com/ajax/libs/d3/3.5.5/d3.min.js\", function(){\n",
              "         LDAvis_load_lib(\"https://cdn.rawgit.com/bmabey/pyLDAvis/files/ldavis.v1.0.0.js\", function(){\n",
              "                 new LDAvis(\"#\" + \"ldavis_el2161398424664371844254116131\", ldavis_el2161398424664371844254116131_data);\n",
              "            })\n",
              "         });\n",
              "}\n",
              "</script>"
            ],
            "text/plain": [
              "PreparedData(topic_coordinates=              x         y  topics  cluster       Freq\n",
              "topic                                                \n",
              "0     -0.285893 -0.074283       1        1  30.311064\n",
              "1      0.144999 -0.161648       2        1  28.872166\n",
              "3      0.116768 -0.037674       3        1  24.447351\n",
              "2      0.024126  0.273605       4        1  16.369413, topic_info=     Category         Freq      Term        Total  loglift  logprob\n",
              "12    Default  8757.000000     great  8757.000000  30.0000  30.0000\n",
              "2     Default  8958.000000   battery  8958.000000  29.0000  29.0000\n",
              "1013  Default  7348.000000    tablet  7348.000000  28.0000  28.0000\n",
              "6     Default  2365.000000   product  2365.000000  27.0000  27.0000\n",
              "9     Default  5094.000000     price  5094.000000  26.0000  26.0000\n",
              "...       ...          ...       ...          ...      ...      ...\n",
              "1240   Topic4   170.633713  parental   444.302490   0.8528  -5.1903\n",
              "267    Topic4   194.965714       old  2540.638916  -0.7576  -5.0570\n",
              "286    Topic4   165.187988   picture   405.044067   0.9128  -5.2228\n",
              "699    Topic4   162.703339     phone   386.199036   0.9453  -5.2379\n",
              "94     Topic4   164.981339      long   997.671265   0.0102  -5.2240\n",
              "\n",
              "[278 rows x 6 columns], token_table=      Topic      Freq     Term\n",
              "term                          \n",
              "926       4  0.937140      7yr\n",
              "52        1  0.992569       aa\n",
              "57        1  0.993366      aaa\n",
              "54        2  0.432706     able\n",
              "54        3  0.481363     able\n",
              "...     ...       ...      ...\n",
              "470       4  0.090624    young\n",
              "1238      2  0.020358  youtube\n",
              "1238      3  0.040716  youtube\n",
              "1238      4  0.956833  youtube\n",
              "807       4  0.998772       yr\n",
              "\n",
              "[444 rows x 3 columns], R=30, lambda_step=0.01, plot_opts={'xlab': 'PC1', 'ylab': 'PC2'}, topic_order=[1, 2, 4, 3])"
            ]
          },
          "metadata": {
            "tags": []
          },
          "execution_count": 104
        }
      ]
    },
    {
      "cell_type": "markdown",
      "metadata": {
        "id": "zaWJVR9yrnmn",
        "colab_type": "text"
      },
      "source": [
        "## Stretch Goals\n",
        "\n",
        "* Incorporate Named Entity Recognition in your analysis\n",
        "* Incorporate some custom pre-processing from our previous lessons (like spacy lemmatization)\n",
        "* Analyze a dataset of interest to you with topic modeling"
      ]
    },
    {
      "cell_type": "code",
      "metadata": {
        "id": "Lm5g3uR9IPNL",
        "colab_type": "code",
        "colab": {}
      },
      "source": [
        ""
      ],
      "execution_count": 0,
      "outputs": []
    }
  ]
}