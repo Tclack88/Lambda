{
  "nbformat": 4,
  "nbformat_minor": 0,
  "metadata": {
    "colab": {
      "name": "LS_DS_133_Introduction_to_Bayesian_Inference_Assignment.ipynb",
      "provenance": [],
      "include_colab_link": true
    },
    "kernelspec": {
      "name": "python3",
      "display_name": "Python 3"
    }
  },
  "cells": [
    {
      "cell_type": "markdown",
      "metadata": {
        "id": "view-in-github",
        "colab_type": "text"
      },
      "source": [
        "<a href=\"https://colab.research.google.com/github/Tclack88/DS-Unit-1-Sprint-3-Statistical-Tests-and-Experiments/blob/master/module3-introduction-to-bayesian-inference/LS_DS_133_Introduction_to_Bayesian_Inference_Assignment.ipynb\" target=\"_parent\"><img src=\"https://colab.research.google.com/assets/colab-badge.svg\" alt=\"Open In Colab\"/></a>"
      ]
    },
    {
      "cell_type": "markdown",
      "metadata": {
        "id": "H7OLbevlbd_Z",
        "colab_type": "text"
      },
      "source": [
        "# Lambda School Data Science Module 133\n",
        "\n",
        "## Introduction to Bayesian Inference\n",
        "\n",
        "\n"
      ]
    },
    {
      "cell_type": "markdown",
      "metadata": {
        "id": "P-DzzRk5bf0z",
        "colab_type": "text"
      },
      "source": [
        "## Assignment - Code it up!\n",
        "\n",
        "Most of the above was pure math - now write Python code to reproduce the results! This is purposefully open ended - you'll have to think about how you should represent probabilities and events. You can and should look things up, and as a stretch goal - refactor your code into helpful reusable functions!\n",
        "\n",
        "Specific goals/targets:\n",
        "\n",
        "1. Write a function `def prob_drunk_given_positive(prob_drunk_prior, prob_positive, prob_positive_drunk)` that reproduces the example from lecture, and use it to calculate and visualize a range of situations\n",
        "2. Explore `scipy.stats.bayes_mvs` - read its documentation, and experiment with it on data you've tested in other ways earlier this week\n",
        "3. Create a visualization comparing the results of a Bayesian approach to a traditional/frequentist approach\n",
        "4. In your own words, summarize the difference between Bayesian and Frequentist statistics\n",
        "\n",
        "If you're unsure where to start, check out [this blog post of Bayes theorem with Python](https://dataconomy.com/2015/02/introduction-to-bayes-theorem-with-python/) - you could and should create something similar!\n",
        "\n",
        "Stretch goals:\n",
        "\n",
        "- Apply a Bayesian technique to a problem you previously worked (in an assignment or project work) on from a frequentist (standard) perspective\n",
        "- Check out [PyMC3](https://docs.pymc.io/) (note this goes beyond hypothesis tests into modeling) - read the guides and work through some examples\n",
        "- Take PyMC3 further - see if you can build something with it!"
      ]
    },
    {
      "cell_type": "code",
      "metadata": {
        "id": "yb5UuvTOFmes",
        "colab_type": "code",
        "colab": {}
      },
      "source": [
        "import seaborn as sb\n",
        "import numpy as np\n",
        "import pandas as pd\n",
        "import matplotlib.pyplot as plt\n",
        "from scipy import stats"
      ],
      "execution_count": 0,
      "outputs": []
    },
    {
      "cell_type": "markdown",
      "metadata": {
        "id": "WtJtDCsKQDtg",
        "colab_type": "text"
      },
      "source": [
        "## 1. Breathalizer Test"
      ]
    },
    {
      "cell_type": "code",
      "metadata": {
        "id": "xpVhZyUnbf7o",
        "colab_type": "code",
        "colab": {}
      },
      "source": [
        "def prob_drunk_given_positive(prob_drunk_prior, prob_positive, prob_positive_drunk):\n",
        "  \"\"\"prob_positive = probability of false positive (assume it works well for truely drunk individuals)\n",
        "  \n",
        "  prob_drunk_prior = before any testing begins, we assume 1/1000 drivers pulled over are drunk\n",
        "  results of this test would become the new 'prob_drunk_prior' for further tests\n",
        "  \n",
        "  prob_positive_drunk = probability of positive given drunk, this is a constant and inherent in the test\"\"\"\n",
        "  return prob_positive_drunk*prob_drunk_prior/(prob_positive_drunk*prob_drunk_prior + (prob_positive)*(1-prob_drunk_prior)) "
      ],
      "execution_count": 0,
      "outputs": []
    },
    {
      "cell_type": "code",
      "metadata": {
        "id": "hzLEL9Bt4wb0",
        "colab_type": "code",
        "colab": {}
      },
      "source": [
        "results = [.001] # list of probabilities that a person is drunk. Start with base assumption 1/1000\n",
        "outcome = prob_drunk_given_positive(.001,.08,1)\n",
        "#outcome\n",
        "for _ in range(7):\n",
        "  results.append(outcome)\n",
        "  outcome = prob_drunk_given_positive(outcome,.08,1)"
      ],
      "execution_count": 0,
      "outputs": []
    },
    {
      "cell_type": "markdown",
      "metadata": {
        "id": "mnRuQ9F9TUOs",
        "colab_type": "text"
      },
      "source": [
        "## 3. Visualization frequentist vs Bayes approach (going out of order, to lump together relevant sections)"
      ]
    },
    {
      "cell_type": "code",
      "metadata": {
        "id": "SJznHuGRVM_1",
        "colab_type": "code",
        "colab": {}
      },
      "source": [
        "# With frequentist aproach, 8% false positive must mean 92% true positive\n",
        "freq_results = [0]\n",
        "\n",
        "for i in range(1,8):\n",
        "  outcome = 1-.08**i # subtract each iteration of potentially false positives\n",
        "  freq_results.append(outcome)"
      ],
      "execution_count": 0,
      "outputs": []
    },
    {
      "cell_type": "code",
      "metadata": {
        "id": "6Ru7P5cLFkY3",
        "colab_type": "code",
        "colab": {
          "base_uri": "https://localhost:8080/",
          "height": 427
        },
        "outputId": "a94b95cf-8af1-42f9-ad14-0ccf89e6cc8c"
      },
      "source": [
        "sb.set(rc={'figure.figsize':(10,6)})\n",
        "\n",
        "plt.style.use('ggplot')\n",
        "ax = sb.lineplot(x = range(len(results)),y=results)\n",
        "ax = sb.lineplot(x = range(len(freq_results)),y=freq_results,color = 'C3')\n",
        "plt.title('Probability of Blowing Positive on a Breathalizer \\n(Giving benefit of the doubt assuming false positives each time)')\n",
        "plt.xlabel('Number of Tests')\n",
        "plt.ylabel('Probability of Truly Drunk')\n",
        "plt.legend(['Bayesian','Frequentist'],loc='center right',fontsize=12);"
      ],
      "execution_count": 108,
      "outputs": [
        {
          "output_type": "display_data",
          "data": {
            "image/png": "[encoded data removed]",
            "text/plain": [
              "<Figure size 720x432 with 1 Axes>"
            ]
          },
          "metadata": {
            "tags": []
          }
        }
      ]
    },
    {
      "cell_type": "markdown",
      "metadata": {
        "id": "69URmwdPTKba",
        "colab_type": "text"
      },
      "source": [
        "## 2. bayes_mvs vs frequentist approach"
      ]
    },
    {
      "cell_type": "code",
      "metadata": {
        "id": "RxHFE8FxMwr8",
        "colab_type": "code",
        "colab": {}
      },
      "source": [
        "# From yesterday's assignment:\n",
        "\n",
        "df = pd.read_csv(\"https://archive.ics.uci.edu/ml/machine-learning-databases/voting-records/house-votes-84.data\",\n",
        "                          names=['party','handicapped-infants','water-project',\n",
        "                          'budget','physician-fee-freeze', 'el-salvador-aid',\n",
        "                          'religious-groups','anti-satellite-ban',\n",
        "                          'aid-to-contras','mx-missile','immigration',\n",
        "                          'synfuels', 'education', 'right-to-sue','crime','duty-free',\n",
        "                          'south-africa'])\n",
        "df = df.replace({'n':0,'y':1,'?':np.nan})\n",
        "\n",
        "dem = df[df.party=='democrat']\n",
        "rep = df[df.party=='republican']\n",
        "\n",
        "def confidence_interval(data,confidence=.95):\n",
        "  data = data.dropna()\n",
        "  #data = np.array(data)\n",
        "  n = len(data)\n",
        "  t = stats.t.ppf((1+confidence)/2,n-1)\n",
        "  stderr = data.std()/np.sqrt(n) # using pandas because std assumes sample std by default\n",
        "  margin_of_error = t*stderr\n",
        "  mean = data.mean()\n",
        "  print('Margin of Error:',margin_of_error)\n",
        "  return mean, mean - margin_of_error, mean + margin_of_error\n"
      ],
      "execution_count": 0,
      "outputs": []
    },
    {
      "cell_type": "code",
      "metadata": {
        "id": "QK3G25tCSkRG",
        "colab_type": "code",
        "colab": {
          "base_uri": "https://localhost:8080/",
          "height": 51
        },
        "outputId": "134f195a-9e47-4cf7-9800-ccca2775c439"
      },
      "source": [
        "#Frequentist approach\n",
        "confidence_interval(dem['handicapped-infants'])"
      ],
      "execution_count": 77,
      "outputs": [
        {
          "output_type": "stream",
          "text": [
            "Margin of Error: 0.06005846304814615\n"
          ],
          "name": "stdout"
        },
        {
          "output_type": "execute_result",
          "data": {
            "text/plain": [
              "(0.6046511627906976, 0.5445926997425515, 0.6647096258388437)"
            ]
          },
          "metadata": {
            "tags": []
          },
          "execution_count": 77
        }
      ]
    },
    {
      "cell_type": "code",
      "metadata": {
        "id": "lFjCJma7Sut0",
        "colab_type": "code",
        "colab": {
          "base_uri": "https://localhost:8080/",
          "height": 34
        },
        "outputId": "c45b088e-ae8b-4192-9b90-7b91b7940855"
      },
      "source": [
        "mean, variance, stdev = stats.bayes_mvs(dem['handicapped-infants'].dropna(),alpha=.95)\n",
        "mean"
      ],
      "execution_count": 80,
      "outputs": [
        {
          "output_type": "execute_result",
          "data": {
            "text/plain": [
              "Mean(statistic=0.6046511627906976, minmax=(0.5445926997425515, 0.6647096258388437))"
            ]
          },
          "metadata": {
            "tags": []
          },
          "execution_count": 80
        }
      ]
    },
    {
      "cell_type": "markdown",
      "metadata": {
        "id": "I5Ks19HGTIYC",
        "colab_type": "text"
      },
      "source": [
        "## 4. Bayes vs frequentist in words\n",
        "Bayesian statistics assumes a prior probability which updates as more information is gathered. While frequentist statistics would maintian the same probability throughout.\n",
        "\n",
        "For low sample rates, these may be dramatically different, however just as with the law of large numbers, they converge with more. For the Bayesian method, the 'True probability' comes about with updates and for the Frequentist method, provided a large sample pool already exists, this 'True probability' is good enough"
      ]
    },
    {
      "cell_type": "markdown",
      "metadata": {
        "id": "HxIgM14qY9M9",
        "colab_type": "text"
      },
      "source": [
        "# Stretch - Applying Bayes Theorem to the Monty Hall Problem"
      ]
    },
    {
      "cell_type": "markdown",
      "metadata": {
        "id": "Op3M2t-AZDNY",
        "colab_type": "text"
      },
      "source": [
        "Shorthand definitions:\n",
        "\n",
        "$P(i), P(j), P(k) = \\text{probability that the prize is behind door i,j and k respectively -- always 1/3}$\n",
        "\n",
        "$P(Hi),P(Hj),P(Hk) = \\text{probability that host reveals door i, j and k respectively -- scenario dependent} $\n",
        "\n",
        "### Setup:\n",
        "The doors don't matter and can be substituted. We are looking at a specific instance where a contestant chooses door i and the host reveals a goat behind door j. We will explore what this tells us about the likelihood of winning our prize if we stay with i or switch to the unrevealed k. We will simply expand Bayes' theorem and see the results of either staying with i given the prize is in i or in k.\n",
        "\n",
        "### scenario 1: Staying with our original choice (i) and winning (prize is in i)\n",
        "#### (prize is in i, therefore P(Hj | i) is 1/2 because host is free to choose to show either j or k)\n",
        "\n",
        "$P(i|Hj)=\\frac{P(i \\cap Hj)}{P(Hj)}=\\frac{P(Hj|i)P(i)}{P(Hj|i)P(i)+P(Hj|j)P(j)+P(Hj|k)P(k)} = \n",
        "\\frac{(1/2)(1/3)}{(1/2)(1/3)+(0)(1/3)+(1)(1/3)} = \\frac{1/6}{1/6 + 1/3} = 1/3$ \n",
        "\n",
        "\n",
        "### scenario 2: Staying with our original choice (i) and losing (prize is in k)\n",
        "#### (prize is in i, therefore P(Hj | k) is 1 because host is constrained to not reveal the prize in k) \n",
        "\n",
        "$ P(k|Hj) = \\frac{P(k \\cap Hj)}{P(Hj)} = \\frac{P(Hj|k)P(k)}{P(Hj|i)P(i)+P(Hj|j)P(j)+P(Hj|k)P(k)}=\n",
        "\\frac{(1)(1/3)}{(1/2)(1/3) + (0)(1/3) + (1)(1/3)} = \\frac{1/3}{1/6 + 1/3} = 2/3$"
      ]
    },
    {
      "cell_type": "markdown",
      "metadata": {
        "id": "uWgWjp3PQ3Sq",
        "colab_type": "text"
      },
      "source": [
        "## Resources"
      ]
    },
    {
      "cell_type": "markdown",
      "metadata": {
        "id": "QRgHqmYIQ9qn",
        "colab_type": "text"
      },
      "source": [
        "- [Worked example of Bayes rule calculation](https://en.wikipedia.org/wiki/Bayes'_theorem#Examples) (helpful as it fully breaks out the denominator)\n",
        "- [Source code for mvsdist in scipy](https://github.com/scipy/scipy/blob/90534919e139d2a81c24bf08341734ff41a3db12/scipy/stats/morestats.py#L139)"
      ]
    }
  ]
}