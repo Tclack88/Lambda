{
  "nbformat": 4,
  "nbformat_minor": 0,
  "metadata": {
    "kernelspec": {
      "display_name": "Python 3",
      "language": "python",
      "name": "python3"
    },
    "language_info": {
      "codemirror_mode": {
        "name": "ipython",
        "version": 3
      },
      "file_extension": ".py",
      "mimetype": "text/x-python",
      "name": "python",
      "nbconvert_exporter": "python",
      "pygments_lexer": "ipython3",
      "version": "3.7.3"
    },
    "colab": {
      "name": "assignment_kaggle_challenge_3.ipynb",
      "provenance": [],
      "toc_visible": true,
      "include_colab_link": true
    }
  },
  "cells": [
    {
      "cell_type": "markdown",
      "metadata": {
        "id": "view-in-github",
        "colab_type": "text"
      },
      "source": [
        "<a href=\"https://colab.research.google.com/github/Tclack88/DS-Unit-2-Kaggle-Challenge/blob/master/module3/assignment_kaggle_challenge_3.ipynb\" target=\"_parent\"><img src=\"https://colab.research.google.com/assets/colab-badge.svg\" alt=\"Open In Colab\"/></a>"
      ]
    },
    {
      "cell_type": "markdown",
      "metadata": {
        "id": "CfqWJy3k3cmB",
        "colab_type": "text"
      },
      "source": [
        "Lambda School Data Science, Unit 2: Predictive Modeling\n",
        "\n",
        "# Kaggle Challenge, Module 3\n",
        "\n",
        "\n",
        "## Assignment\n",
        "- [x] [Review requirements for your portfolio project](https://lambdaschool.github.io/ds/unit2), then submit your dataset.\n",
        "- [x] Continue to participate in our Kaggle challenge. \n",
        "- [x] Use scikit-learn for hyperparameter optimization with RandomizedSearchCV.\n",
        "- [x] Submit your predictions to our Kaggle competition. (Go to our Kaggle InClass competition webpage. Use the blue **Submit Predictions** button to upload your CSV file. Or you can use the Kaggle API to submit your predictions.)\n",
        "- [x] Commit your notebook to your fork of the GitHub repo.\n",
        "\n",
        "## Stretch Goals\n",
        "\n",
        "### Reading\n",
        "- Jake VanderPlas, [Python Data Science Handbook, Chapter 5.3](https://jakevdp.github.io/PythonDataScienceHandbook/05.03-hyperparameters-and-model-validation.html), Hyperparameters and Model Validation\n",
        "- Jake VanderPlas, [Statistics for Hackers](https://speakerdeck.com/jakevdp/statistics-for-hackers?slide=107)\n",
        "- Ron Zacharski, [A Programmer's Guide to Data Mining, Chapter 5](http://guidetodatamining.com/chapter5/), 10-fold cross validation\n",
        "- Sebastian Raschka, [A Basic Pipeline and Grid Search Setup](https://github.com/rasbt/python-machine-learning-book/blob/master/code/bonus/svm_iris_pipeline_and_gridsearch.ipynb)\n",
        "- Peter Worcester, [A Comparison of Grid Search and Randomized Search Using Scikit Learn](https://blog.usejournal.com/a-comparison-of-grid-search-and-randomized-search-using-scikit-learn-29823179bc85)\n",
        "\n",
        "### Doing\n",
        "- In additon to `RandomizedSearchCV`, scikit-learn has [`GridSearchCV`](https://scikit-learn.org/stable/modules/generated/sklearn.model_selection.GridSearchCV.html). Another library called scikit-optimize has [`BayesSearchCV`](https://scikit-optimize.github.io/notebooks/sklearn-gridsearchcv-replacement.html). Experiment with these alternatives.\n",
        "- _[Introduction to Machine Learning with Python](http://shop.oreilly.com/product/0636920030515.do)_ discusses options for \"Grid-Searching Which Model To Use\" in Chapter 6:\n",
        "\n",
        "> You can even go further in combining GridSearchCV and Pipeline: it is also possible to search over the actual steps being performed in the pipeline (say whether to use StandardScaler or MinMaxScaler). This leads to an even bigger search space and should be considered carefully. Trying all possible solutions is usually not a viable machine learning strategy. However, here is an example comparing a RandomForestClassifier and an SVC ...\n",
        "\n",
        "The example is shown in [the accompanying notebook](https://github.com/amueller/introduction_to_ml_with_python/blob/master/06-algorithm-chains-and-pipelines.ipynb), code cells 35-37. Could you apply this concept to your own pipelines?\n"
      ]
    },
    {
      "cell_type": "markdown",
      "metadata": {
        "id": "FNAwnhBO3cmD",
        "colab_type": "text"
      },
      "source": [
        "### More Categorical Encodings\n",
        "\n",
        "**1.** The article **[Categorical Features and Encoding in Decision Trees](https://medium.com/data-design/visiting-categorical-features-and-encoding-in-decision-trees-53400fa65931)** mentions 4 encodings:\n",
        "\n",
        "- **\"Categorical Encoding\":** This means using the raw categorical values as-is, not encoded. Scikit-learn doesn't support this, but some tree algorithm implementations do. For example, [Catboost](https://catboost.ai/), or R's [rpart](https://cran.r-project.org/web/packages/rpart/index.html) package.\n",
        "- **Numeric Encoding:** Synonymous with Label Encoding, or \"Ordinal\" Encoding with random order. We can use [category_encoders.OrdinalEncoder](https://contrib.scikit-learn.org/categorical-encoding/ordinal.html).\n",
        "- **One-Hot Encoding:** We can use [category_encoders.OneHotEncoder](http://contrib.scikit-learn.org/categorical-encoding/onehot.html).\n",
        "- **Binary Encoding:** We can use [category_encoders.BinaryEncoder](http://contrib.scikit-learn.org/categorical-encoding/binary.html).\n",
        "\n",
        "\n",
        "**2.** The short video \n",
        "**[Coursera — How to Win a Data Science Competition: Learn from Top Kagglers — Concept of mean encoding](https://www.coursera.org/lecture/competitive-data-science/concept-of-mean-encoding-b5Gxv)** introduces an interesting idea: use both X _and_ y to encode categoricals.\n",
        "\n",
        "Category Encoders has multiple implementations of this general concept:\n",
        "\n",
        "- [CatBoost Encoder](http://contrib.scikit-learn.org/categorical-encoding/catboost.html)\n",
        "- [James-Stein Encoder](http://contrib.scikit-learn.org/categorical-encoding/jamesstein.html)\n",
        "- [Leave One Out](http://contrib.scikit-learn.org/categorical-encoding/leaveoneout.html)\n",
        "- [M-estimate](http://contrib.scikit-learn.org/categorical-encoding/mestimate.html)\n",
        "- [Target Encoder](http://contrib.scikit-learn.org/categorical-encoding/targetencoder.html)\n",
        "- [Weight of Evidence](http://contrib.scikit-learn.org/categorical-encoding/woe.html)\n",
        "\n",
        "Category Encoder's mean encoding implementations work for regression problems or binary classification problems. \n",
        "\n",
        "For multi-class classification problems, you will need to temporarily reformulate it as binary classification. For example:\n",
        "\n",
        "```python\n",
        "encoder = ce.TargetEncoder(min_samples_leaf=..., smoothing=...) # Both parameters > 1 to avoid overfitting\n",
        "X_train_encoded = encoder.fit_transform(X_train, y_train=='functional')\n",
        "X_val_encoded = encoder.transform(X_train, y_val=='functional')\n",
        "```\n",
        "\n",
        "**3.** The **[dirty_cat](https://dirty-cat.github.io/stable/)** library has a Target Encoder implementation that works with multi-class classification.\n",
        "\n",
        "```python\n",
        " dirty_cat.TargetEncoder(clf_type='multiclass-clf')\n",
        "```\n",
        "It also implements an interesting idea called [\"Similarity Encoder\" for dirty categories](https://www.slideshare.net/GaelVaroquaux/machine-learning-on-non-curated-data-154905090).\n",
        "\n",
        "However, it seems like dirty_cat doesn't handle missing values or unknown categories as well as category_encoders does. And you may need to use it with one column at a time, instead of with your whole dataframe.\n",
        "\n",
        "**4. [Embeddings](https://www.kaggle.com/learn/embeddings)** can work well with sparse / high cardinality categoricals.\n",
        "\n",
        "_**I hope it’s not too frustrating or confusing that there’s not one “canonical” way to encode categorcals. It’s an active area of research and experimentation! Maybe you can make your own contributions!**_"
      ]
    },
    {
      "cell_type": "markdown",
      "metadata": {
        "id": "FGRsQT933cmG",
        "colab_type": "text"
      },
      "source": [
        "### BONUS: Stacking!\n",
        "\n",
        "Here's some code you can use to \"stack\" multiple submissions, which is another form of ensembling:\n",
        "\n",
        "```python\n",
        "import pandas as pd\n",
        "\n",
        "# Filenames of your submissions you want to ensemble\n",
        "files = ['submission-01.csv', 'submission-02.csv', 'submission-03.csv']\n",
        "\n",
        "target = 'status_group'\n",
        "submissions = (pd.read_csv(file)[[target]] for file in files)\n",
        "ensemble = pd.concat(submissions, axis='columns')\n",
        "majority_vote = ensemble.mode(axis='columns')[0]\n",
        "\n",
        "sample_submission = pd.read_csv('sample_submission.csv')\n",
        "submission = sample_submission.copy()\n",
        "submission[target] = majority_vote\n",
        "submission.to_csv('my-ultimate-ensemble-submission.csv', index=False)\n",
        "```"
      ]
    },
    {
      "cell_type": "code",
      "metadata": {
        "id": "CBSmTCPN3cmJ",
        "colab_type": "code",
        "colab": {}
      },
      "source": [
        "import os, sys\n",
        "in_colab = 'google.colab' in sys.modules\n",
        "\n",
        "# If you're in Colab...\n",
        "if in_colab:\n",
        "    # Pull files from Github repo\n",
        "    os.chdir('/content')\n",
        "    !git init .\n",
        "    !git remote add origin https://github.com/LambdaSchool/DS-Unit-2-Kaggle-Challenge.git\n",
        "    !git pull origin master\n",
        "    \n",
        "    # Install required python packages\n",
        "    !pip install -r requirements.txt\n",
        "    \n",
        "    # Change into directory for module\n",
        "    os.chdir('module3')"
      ],
      "execution_count": 0,
      "outputs": []
    },
    {
      "cell_type": "code",
      "metadata": {
        "id": "IliNgqIM3cmS",
        "colab_type": "code",
        "colab": {}
      },
      "source": [
        "import pandas as pd\n",
        "\n",
        "# Merge train_features.csv & train_labels.csv\n",
        "train = pd.merge(pd.read_csv('../data/waterpumps/train_features.csv'), \n",
        "                 pd.read_csv('../data/waterpumps/train_labels.csv'))\n",
        "\n",
        "# Read test_features.csv & sample_submission.csv\n",
        "test = pd.read_csv('../data/waterpumps/test_features.csv')\n",
        "sample_submission = pd.read_csv('../data/waterpumps/sample_submission.csv')"
      ],
      "execution_count": 0,
      "outputs": []
    },
    {
      "cell_type": "markdown",
      "metadata": {
        "id": "21upH-1H_yIS",
        "colab_type": "text"
      },
      "source": [
        "### supporting definitions for cleaning and wrangling"
      ]
    },
    {
      "cell_type": "code",
      "metadata": {
        "id": "viePt51S51gS",
        "colab_type": "code",
        "colab": {}
      },
      "source": [
        "import numpy as np\n",
        "import matplotlib.pyplot as plt"
      ],
      "execution_count": 0,
      "outputs": []
    },
    {
      "cell_type": "code",
      "metadata": {
        "id": "K2FW7blv_3uQ",
        "colab_type": "code",
        "colab": {}
      },
      "source": [
        "# Supporting definitions for Wrangle\n",
        "# this will lower the high cardinality columns, removing much of the noise\n",
        "def convert_top_100(col_list,df,train):\n",
        "  for col in col_list:\n",
        "    global col_top_100\n",
        "    col_top_100 = train[col].value_counts().index[0:100] # get top 100 of train only, then apply mapping to df in question if applicable\n",
        "    df[col] = df[col].apply(map_to_100)\n",
        "  return df\n",
        "    \n",
        "def map_to_100(feat):\n",
        "  if feat in col_top_100:\n",
        "    return feat\n",
        "  else:\n",
        "    return 'other'\n",
        "\n",
        "\n",
        "  \n",
        "  \n",
        "# The main data wrangling function\n",
        "def wrangle(df):\n",
        "  \n",
        "  # Imputer maintains True False, instead of 1,0. I prefer 1 column instead of 4\n",
        "  bool_cols = ['public_meeting','permit']\n",
        "  for col in bool_cols:\n",
        "    df[col] = df[col].fillna(df[col].value_counts().index[0]).astype(int)\n",
        "                 \n",
        "  # convert some values to booleans, fill in missing values, replace suspicious values with nans\n",
        "  high_cardinality_cols = ['wpt_name','subvillage','installer','funder','ward']\n",
        "  df = convert_top_100(high_cardinality_cols,df,train) # keep the data pure to the \"train\" data set\n",
        "  \n",
        "  df.scheme_manamement = df.scheme_management.fillna('None') # a 'None' category exists, so might as well change nan to None\n",
        "  \n",
        "   # change this large count of near-zero outliers to 0, then convert to nan\n",
        "  df.latitude = df.latitude.replace(-2e-8,0).value_counts()\n",
        "  \n",
        "  cols_with_0 = ['latitude','longitude', 'population','construction_year'] # population 1 also exists\n",
        "  for col in cols_with_0:\n",
        "    df[col] = df[col].replace(0,np.nan)\n",
        "    \n",
        "  df.population = df.population.replace(1,np.nan)\n",
        "\n",
        "                 \n",
        "  # remove columns that are \"obviously\" irrelevant, have too many categorical features, or are redundant\n",
        "  drop = ['id','date_recorded','num_private','recorded_by','extraction_type',\n",
        "          'extraction_type_group','water_quality','quantity','source','source_type',\n",
        "          'waterpoint_type','scheme_name',\n",
        "          'payment','management']\n",
        "  \n",
        "  df = df.drop(columns = drop)\n",
        "  \n",
        "  return df"
      ],
      "execution_count": 0,
      "outputs": []
    },
    {
      "cell_type": "markdown",
      "metadata": {
        "id": "NKu1pKb-_6OW",
        "colab_type": "text"
      },
      "source": [
        "### clean and wrangle data"
      ]
    },
    {
      "cell_type": "code",
      "metadata": {
        "id": "p_bQlXZoJ_hx",
        "colab_type": "code",
        "colab": {
          "base_uri": "https://localhost:8080/",
          "height": 54
        },
        "outputId": "ae0a2736-9c4b-47f2-b206-5d719eca83d6"
      },
      "source": [
        "train_id = train.id\n",
        "test_id = test.id\n",
        "\n",
        "y_train = train.status_group\n",
        "train = train.drop(columns='status_group')\n",
        "X_train = wrangle(train)\n",
        "X_test = wrangle(test)"
      ],
      "execution_count": 62,
      "outputs": [
        {
          "output_type": "stream",
          "text": [
            "/usr/local/lib/python3.6/dist-packages/ipykernel_launcher.py:29: UserWarning: Pandas doesn't allow columns to be created via a new attribute name - see https://pandas.pydata.org/pandas-docs/stable/indexing.html#attribute-access\n"
          ],
          "name": "stderr"
        }
      ]
    },
    {
      "cell_type": "markdown",
      "metadata": {
        "id": "dVv6n4-sKYuE",
        "colab_type": "text"
      },
      "source": [
        "## create model and parameters"
      ]
    },
    {
      "cell_type": "code",
      "metadata": {
        "id": "O94zvKHxKi7e",
        "colab_type": "code",
        "colab": {}
      },
      "source": [
        "import category_encoders as ce\n",
        "from sklearn.impute import SimpleImputer\n",
        "from sklearn.ensemble import RandomForestClassifier\n",
        "from sklearn.pipeline import make_pipeline\n",
        "from sklearn.model_selection import RandomizedSearchCV\n",
        "from scipy.stats import randint,uniform"
      ],
      "execution_count": 0,
      "outputs": []
    },
    {
      "cell_type": "code",
      "metadata": {
        "id": "CEcc2uJnK3gG",
        "colab_type": "code",
        "colab": {}
      },
      "source": [
        "rf = make_pipeline(ce.OrdinalEncoder(),\n",
        "                   SimpleImputer(),\n",
        "                   RandomForestClassifier())\n",
        "\n",
        "param_distributions = { 'simpleimputer__strategy':['mean','median','most_frequent'],\n",
        "                       'randomforestclassifier__n_estimators' : randint(100,500),\n",
        "                       'randomforestclassifier__max_depth' : [20,50,None],\n",
        "                       'randomforestclassifier__min_weight_fraction_leaf' : uniform(.001,.1)\n",
        "                      }\n",
        "\n",
        "search = RandomizedSearchCV(rf,\n",
        "                            param_distributions = param_distributions,\n",
        "                            n_jobs = -1,\n",
        "                            n_iter = 100,\n",
        "                            scoring = 'accuracy',\n",
        "                           verbose = 10,\n",
        "                            cv = 5\n",
        "                           )"
      ],
      "execution_count": 0,
      "outputs": []
    },
    {
      "cell_type": "code",
      "metadata": {
        "id": "cSjDQG21LJqM",
        "colab_type": "code",
        "colab": {
          "base_uri": "https://localhost:8080/",
          "height": 952
        },
        "outputId": "f36fc681-1046-463f-9387-f43bca231ba4"
      },
      "source": [
        "search.fit(X_train,y_train)"
      ],
      "execution_count": 66,
      "outputs": [
        {
          "output_type": "stream",
          "text": [
            "Fitting 5 folds for each of 100 candidates, totalling 500 fits\n"
          ],
          "name": "stdout"
        },
        {
          "output_type": "stream",
          "text": [
            "[Parallel(n_jobs=-1)]: Using backend LokyBackend with 2 concurrent workers.\n",
            "[Parallel(n_jobs=-1)]: Done   1 tasks      | elapsed:    9.5s\n",
            "[Parallel(n_jobs=-1)]: Done   4 tasks      | elapsed:   17.4s\n",
            "[Parallel(n_jobs=-1)]: Done   9 tasks      | elapsed:   57.3s\n",
            "[Parallel(n_jobs=-1)]: Done  14 tasks      | elapsed:  1.4min\n",
            "[Parallel(n_jobs=-1)]: Done  21 tasks      | elapsed:  1.9min\n",
            "[Parallel(n_jobs=-1)]: Done  28 tasks      | elapsed:  2.6min\n",
            "[Parallel(n_jobs=-1)]: Done  37 tasks      | elapsed:  3.7min\n",
            "[Parallel(n_jobs=-1)]: Done  46 tasks      | elapsed:  5.5min\n",
            "[Parallel(n_jobs=-1)]: Done  57 tasks      | elapsed:  7.1min\n",
            "[Parallel(n_jobs=-1)]: Done  68 tasks      | elapsed:  8.9min\n",
            "[Parallel(n_jobs=-1)]: Done  81 tasks      | elapsed: 11.2min\n",
            "[Parallel(n_jobs=-1)]: Done  94 tasks      | elapsed: 13.4min\n",
            "[Parallel(n_jobs=-1)]: Done 109 tasks      | elapsed: 14.6min\n",
            "[Parallel(n_jobs=-1)]: Done 124 tasks      | elapsed: 16.2min\n",
            "[Parallel(n_jobs=-1)]: Done 141 tasks      | elapsed: 19.1min\n",
            "[Parallel(n_jobs=-1)]: Done 158 tasks      | elapsed: 20.9min\n",
            "[Parallel(n_jobs=-1)]: Done 177 tasks      | elapsed: 23.0min\n",
            "[Parallel(n_jobs=-1)]: Done 196 tasks      | elapsed: 24.7min\n",
            "[Parallel(n_jobs=-1)]: Done 217 tasks      | elapsed: 27.1min\n",
            "[Parallel(n_jobs=-1)]: Done 238 tasks      | elapsed: 29.3min\n",
            "[Parallel(n_jobs=-1)]: Done 261 tasks      | elapsed: 32.4min\n",
            "[Parallel(n_jobs=-1)]: Done 284 tasks      | elapsed: 35.2min\n",
            "[Parallel(n_jobs=-1)]: Done 309 tasks      | elapsed: 38.8min\n",
            "[Parallel(n_jobs=-1)]: Done 334 tasks      | elapsed: 42.9min\n",
            "[Parallel(n_jobs=-1)]: Done 361 tasks      | elapsed: 47.1min\n",
            "[Parallel(n_jobs=-1)]: Done 388 tasks      | elapsed: 50.5min\n",
            "[Parallel(n_jobs=-1)]: Done 417 tasks      | elapsed: 54.8min\n",
            "[Parallel(n_jobs=-1)]: Done 446 tasks      | elapsed: 58.1min\n",
            "[Parallel(n_jobs=-1)]: Done 477 tasks      | elapsed: 61.8min\n",
            "[Parallel(n_jobs=-1)]: Done 500 out of 500 | elapsed: 64.7min finished\n"
          ],
          "name": "stderr"
        },
        {
          "output_type": "execute_result",
          "data": {
            "text/plain": [
              "RandomizedSearchCV(cv=5, error_score='raise-deprecating',\n",
              "                   estimator=Pipeline(memory=None,\n",
              "                                      steps=[('ordinalencoder',\n",
              "                                              OrdinalEncoder(cols=None,\n",
              "                                                             drop_invariant=False,\n",
              "                                                             handle_missing='value',\n",
              "                                                             handle_unknown='value',\n",
              "                                                             mapping=None,\n",
              "                                                             return_df=True,\n",
              "                                                             verbose=0)),\n",
              "                                             ('simpleimputer',\n",
              "                                              SimpleImputer(add_indicator=False,\n",
              "                                                            copy=True,\n",
              "                                                            fill_value=None,\n",
              "                                                            missing_values=nan,\n",
              "                                                            strategy='...\n",
              "                                        'randomforestclassifier__min_weight_fraction_leaf': <scipy.stats._distn_infrastructure.rv_frozen object at 0x7fe8c21e8a58>,\n",
              "                                        'randomforestclassifier__n_estimators': <scipy.stats._distn_infrastructure.rv_frozen object at 0x7fe8c21e8c18>,\n",
              "                                        'simpleimputer__strategy': ['mean',\n",
              "                                                                    'median',\n",
              "                                                                    'most_frequent']},\n",
              "                   pre_dispatch='2*n_jobs', random_state=None, refit=True,\n",
              "                   return_train_score=False, scoring='accuracy', verbose=10)"
            ]
          },
          "metadata": {
            "tags": []
          },
          "execution_count": 66
        }
      ]
    },
    {
      "cell_type": "code",
      "metadata": {
        "id": "_Y7QP1r8PTbJ",
        "colab_type": "code",
        "colab": {
          "base_uri": "https://localhost:8080/",
          "height": 85
        },
        "outputId": "6e941edf-e0c7-465c-8761-b32527c12a4f"
      },
      "source": [
        "search.best_params_"
      ],
      "execution_count": 69,
      "outputs": [
        {
          "output_type": "execute_result",
          "data": {
            "text/plain": [
              "{'randomforestclassifier__max_depth': 50,\n",
              " 'randomforestclassifier__min_weight_fraction_leaf': 0.0010931576312369065,\n",
              " 'randomforestclassifier__n_estimators': 294,\n",
              " 'simpleimputer__strategy': 'most_frequent'}"
            ]
          },
          "metadata": {
            "tags": []
          },
          "execution_count": 69
        }
      ]
    },
    {
      "cell_type": "code",
      "metadata": {
        "id": "q6fDnovMqvm6",
        "colab_type": "code",
        "colab": {
          "base_uri": "https://localhost:8080/",
          "height": 34
        },
        "outputId": "0af76ab3-3471-4222-e88b-7f3f128c4019"
      },
      "source": [
        "search.best_score_"
      ],
      "execution_count": 70,
      "outputs": [
        {
          "output_type": "execute_result",
          "data": {
            "text/plain": [
              "0.7702188552188552"
            ]
          },
          "metadata": {
            "tags": []
          },
          "execution_count": 70
        }
      ]
    },
    {
      "cell_type": "markdown",
      "metadata": {
        "id": "meWhUkbFqTQJ",
        "colab_type": "text"
      },
      "source": [
        "### make model and predictions, save submission"
      ]
    },
    {
      "cell_type": "code",
      "metadata": {
        "id": "ZLJDH6QQqR3m",
        "colab_type": "code",
        "colab": {}
      },
      "source": [
        "from sklearn.metrics import mean_absolute_error"
      ],
      "execution_count": 0,
      "outputs": []
    },
    {
      "cell_type": "code",
      "metadata": {
        "id": "hee9H_YLpa8U",
        "colab_type": "code",
        "colab": {}
      },
      "source": [
        "pipeline = search.best_estimator_\n",
        "\n",
        "y_pred = pipeline.predict(X_test)"
      ],
      "execution_count": 0,
      "outputs": []
    },
    {
      "cell_type": "code",
      "metadata": {
        "id": "qiA571LzrRQx",
        "colab_type": "code",
        "colab": {}
      },
      "source": [
        "submission = pd.concat([test_id,pd.Series(y_pred)],axis=1).rename(columns={0:'status_group'})\n",
        "submission.to_csv(\"Trevor_waterpumps_sub_4.csv\",index=False)"
      ],
      "execution_count": 0,
      "outputs": []
    }
  ]
}