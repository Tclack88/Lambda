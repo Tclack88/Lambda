{
  "nbformat": 4,
  "nbformat_minor": 0,
  "metadata": {
    "colab": {
      "name": "assignment_kaggle_challenge_4.ipynb",
      "provenance": [],
      "collapsed_sections": [],
      "toc_visible": true,
      "include_colab_link": true
    },
    "kernelspec": {
      "name": "python3",
      "display_name": "Python 3"
    }
  },
  "cells": [
    {
      "cell_type": "markdown",
      "metadata": {
        "id": "view-in-github",
        "colab_type": "text"
      },
      "source": [
        "<a href=\"https://colab.research.google.com/github/Tclack88/DS-Unit-2-Kaggle-Challenge/blob/master/module4/assignment_kaggle_challenge_4.ipynb\" target=\"_parent\"><img src=\"https://colab.research.google.com/assets/colab-badge.svg\" alt=\"Open In Colab\"/></a>"
      ]
    },
    {
      "cell_type": "markdown",
      "metadata": {
        "id": "nCc3XZEyG3XV",
        "colab_type": "text"
      },
      "source": [
        "Lambda School Data Science, Unit 2: Predictive Modeling\n",
        "\n",
        "# Kaggle Challenge, Module 4\n",
        "\n",
        "## Assignment\n",
        "- [x] If you haven't yet, [review requirements for your portfolio project](https://lambdaschool.github.io/ds/unit2), then submit your dataset.\n",
        "- [ ] Plot a confusion matrix for your Tanzania Waterpumps model.\n",
        "- [x] Continue to participate in our Kaggle challenge. Every student should have made at least one submission that scores at least 60% accuracy (above the majority class baseline).\n",
        "- [x] Submit your final predictions to our Kaggle competition. Optionally, go to **My Submissions**, and _\"you may select up to 1 submission to be used to count towards your final leaderboard score.\"_\n",
        "- [x] Commit your notebook to your fork of the GitHub repo.\n",
        "- [x] Read [Maximizing Scarce Maintenance Resources with Data: Applying predictive modeling, precision at k, and clustering to optimize impact](https://towardsdatascience.com/maximizing-scarce-maintenance-resources-with-data-8f3491133050), by Lambda DS3 student Michael Brady. His blog post extends the Tanzania Waterpumps scenario, far beyond what's in the lecture notebook.\n",
        "\n",
        "\n",
        "## Stretch Goals\n",
        "\n",
        "### Reading\n",
        "- [Attacking discrimination with smarter machine learning](https://research.google.com/bigpicture/attacking-discrimination-in-ml/), by Google Research, with  interactive visualizations. _\"A threshold classifier essentially makes a yes/no decision, putting things in one category or another. We look at how these classifiers work, ways they can potentially be unfair, and how you might turn an unfair classifier into a fairer one. As an illustrative example, we focus on loan granting scenarios where a bank may grant or deny a loan based on a single, automatically computed number such as a credit score.\"_\n",
        "- [Notebook about how to calculate expected value from a confusion matrix by treating it as a cost-benefit matrix](https://github.com/podopie/DAT18NYC/blob/master/classes/13-expected_value_cost_benefit_analysis.ipynb)\n",
        "- [Simple guide to confusion matrix terminology](https://www.dataschool.io/simple-guide-to-confusion-matrix-terminology/) by Kevin Markham, with video\n",
        "- [Visualizing Machine Learning Thresholds to Make Better Business Decisions](https://blog.insightdatascience.com/visualizing-machine-learning-thresholds-to-make-better-business-decisions-4ab07f823415)\n",
        "\n",
        "\n",
        "### Doing\n",
        "- [ ] Share visualizations in our Slack channel!\n",
        "- [x] RandomizedSearchCV / GridSearchCV, for model selection. (See below)\n",
        "- [ ] Stacking Ensemble. (See below)\n",
        "- [x] More Categorical Encoding. (See below)\n",
        "\n",
        "### RandomizedSearchCV / GridSearchCV, for model selection\n",
        "\n",
        "- _[Introduction to Machine Learning with Python](http://shop.oreilly.com/product/0636920030515.do)_ discusses options for \"Grid-Searching Which Model To Use\" in Chapter 6:\n",
        "\n",
        "> You can even go further in combining GridSearchCV and Pipeline: it is also possible to search over the actual steps being performed in the pipeline (say whether to use StandardScaler or MinMaxScaler). This leads to an even bigger search space and should be considered carefully. Trying all possible solutions is usually not a viable machine learning strategy. However, here is an example comparing a RandomForestClassifier and an SVC ...\n",
        "\n",
        "The example is shown in [the accompanying notebook](https://github.com/amueller/introduction_to_ml_with_python/blob/master/06-algorithm-chains-and-pipelines.ipynb), code cells 35-37. Could you apply this concept to your own pipelines?\n",
        "\n",
        "### Stacking Ensemble\n",
        "\n",
        "Here's some code you can use to \"stack\" multiple submissions, which is another form of ensembling:\n",
        "\n",
        "```python\n",
        "import pandas as pd\n",
        "\n",
        "# Filenames of your submissions you want to ensemble\n",
        "files = ['submission-01.csv', 'submission-02.csv', 'submission-03.csv']\n",
        "\n",
        "target = 'status_group'\n",
        "submissions = (pd.read_csv(file)[[target]] for file in files)\n",
        "ensemble = pd.concat(submissions, axis='columns')\n",
        "majority_vote = ensemble.mode(axis='columns')[0]\n",
        "\n",
        "sample_submission = pd.read_csv('sample_submission.csv')\n",
        "submission = sample_submission.copy()\n",
        "submission[target] = majority_vote\n",
        "submission.to_csv('my-ultimate-ensemble-submission.csv', index=False)\n",
        "```\n",
        "\n",
        "\n",
        "### More Categorical Encodings\n",
        "\n",
        "**1.** The article **[Categorical Features and Encoding in Decision Trees](https://medium.com/data-design/visiting-categorical-features-and-encoding-in-decision-trees-53400fa65931)** mentions 4 encodings:\n",
        "\n",
        "- **\"Categorical Encoding\":** This means using the raw categorical values as-is, not encoded. Scikit-learn doesn't support this, but some tree algorithm implementations do. For example, [Catboost](https://catboost.ai/), or R's [rpart](https://cran.r-project.org/web/packages/rpart/index.html) package.\n",
        "- **Numeric Encoding:** Synonymous with Label Encoding, or \"Ordinal\" Encoding with random order. We can use [category_encoders.OrdinalEncoder](https://contrib.scikit-learn.org/categorical-encoding/ordinal.html).\n",
        "- **One-Hot Encoding:** We can use [category_encoders.OneHotEncoder](http://contrib.scikit-learn.org/categorical-encoding/onehot.html).\n",
        "- **Binary Encoding:** We can use [category_encoders.BinaryEncoder](http://contrib.scikit-learn.org/categorical-encoding/binary.html).\n",
        "\n",
        "\n",
        "**2.** The short video \n",
        "**[Coursera — How to Win a Data Science Competition: Learn from Top Kagglers — Concept of mean encoding](https://www.coursera.org/lecture/competitive-data-science/concept-of-mean-encoding-b5Gxv)** introduces an interesting idea: use both X _and_ y to encode categoricals.\n",
        "\n",
        "Category Encoders has multiple implementations of this general concept:\n",
        "\n",
        "- [CatBoost Encoder](http://contrib.scikit-learn.org/categorical-encoding/catboost.html)\n",
        "- [James-Stein Encoder](http://contrib.scikit-learn.org/categorical-encoding/jamesstein.html)\n",
        "- [Leave One Out](http://contrib.scikit-learn.org/categorical-encoding/leaveoneout.html)\n",
        "- [M-estimate](http://contrib.scikit-learn.org/categorical-encoding/mestimate.html)\n",
        "- [Target Encoder](http://contrib.scikit-learn.org/categorical-encoding/targetencoder.html)\n",
        "- [Weight of Evidence](http://contrib.scikit-learn.org/categorical-encoding/woe.html)\n",
        "\n",
        "Category Encoder's mean encoding implementations work for regression problems or binary classification problems. \n",
        "\n",
        "For multi-class classification problems, you will need to temporarily reformulate it as binary classification. For example:\n",
        "\n",
        "```python\n",
        "encoder = ce.TargetEncoder(min_samples_leaf=..., smoothing=...) # Both parameters > 1 to avoid overfitting\n",
        "X_train_encoded = encoder.fit_transform(X_train, y_train=='functional')\n",
        "X_val_encoded = encoder.transform(X_train, y_val=='functional')\n",
        "```\n",
        "\n",
        "**3.** The **[dirty_cat](https://dirty-cat.github.io/stable/)** library has a Target Encoder implementation that works with multi-class classification.\n",
        "\n",
        "```python\n",
        " dirty_cat.TargetEncoder(clf_type='multiclass-clf')\n",
        "```\n",
        "It also implements an interesting idea called [\"Similarity Encoder\" for dirty categories](https://www.slideshare.net/GaelVaroquaux/machine-learning-on-non-curated-data-154905090).\n",
        "\n",
        "However, it seems like dirty_cat doesn't handle missing values or unknown categories as well as category_encoders does. And you may need to use it with one column at a time, instead of with your whole dataframe.\n",
        "\n",
        "**4. [Embeddings](https://www.kaggle.com/learn/embeddings)** can work well with sparse / high cardinality categoricals.\n",
        "\n",
        "_**I hope it’s not too frustrating or confusing that there’s not one “canonical” way to encode categorcals. It’s an active area of research and experimentation! Maybe you can make your own contributions!**_"
      ]
    },
    {
      "cell_type": "code",
      "metadata": {
        "id": "lsbRiKBoB5RE",
        "colab_type": "code",
        "colab": {}
      },
      "source": [
        "import os, sys\n",
        "in_colab = 'google.colab' in sys.modules\n",
        "\n",
        "# If you're in Colab...\n",
        "if in_colab:\n",
        "    # Pull files from Github repo\n",
        "    os.chdir('/content')\n",
        "    !git init .\n",
        "    !git remote add origin https://github.com/LambdaSchool/DS-Unit-2-Kaggle-Challenge.git\n",
        "    !git pull origin master\n",
        "    \n",
        "    # Install required python packages\n",
        "    !pip install -r requirements.txt\n",
        "    \n",
        "    # Change into directory for module\n",
        "    os.chdir('module4')"
      ],
      "execution_count": 0,
      "outputs": []
    },
    {
      "cell_type": "code",
      "metadata": {
        "id": "lo83ad36DFG2",
        "colab_type": "code",
        "colab": {}
      },
      "source": [
        "import pandas as pd\n",
        "import numpy as np\n",
        "from sklearn.model_selection import train_test_split"
      ],
      "execution_count": 0,
      "outputs": []
    },
    {
      "cell_type": "code",
      "metadata": {
        "id": "BVA1lph8CcNX",
        "colab_type": "code",
        "colab": {}
      },
      "source": [
        "# Merge train_features.csv & train_labels.csv\n",
        "train = pd.merge(pd.read_csv('../data/waterpumps/train_features.csv'), \n",
        "                 pd.read_csv('../data/waterpumps/train_labels.csv'))\n",
        "\n",
        "# Read test_features.csv & sample_submission.csv\n",
        "test = pd.read_csv('../data/waterpumps/test_features.csv')\n",
        "sample_submission = pd.read_csv('../data/waterpumps/sample_submission.csv')\n",
        "\n",
        "# Split train into train & val. Make val the same size as test.\n",
        "target = 'status_group'\n",
        "train, val = train_test_split(train, test_size=len(test),  \n",
        "                              stratify=train[target], random_state=42)"
      ],
      "execution_count": 0,
      "outputs": []
    },
    {
      "cell_type": "markdown",
      "metadata": {
        "id": "ENtYkVmLDaZn",
        "colab_type": "text"
      },
      "source": [
        "I will be moving forward with my best model so far (RandomForest of 300 estimators with a onehotencoder) and practicing a little parameter optimization again\n",
        "\n",
        "###NOTE: I know it's redundant/not the best use of data to do a train/validation split AND do a cross validation search, but this is borth:\n",
        "\n",
        "- for my practice\n",
        "- necessary to complete the assignment goal"
      ]
    },
    {
      "cell_type": "code",
      "metadata": {
        "id": "F3JPBVQADAh1",
        "colab_type": "code",
        "colab": {}
      },
      "source": [
        "# Supporting definitions for Wrangle\n",
        "# this will lower the high cardinality columns, removing much of the noise\n",
        "def convert_top_100(col_list,df,train):\n",
        "  for col in col_list:\n",
        "    global col_top_100\n",
        "    col_top_100 = train[col].value_counts().index[0:100] # get top 100 of train only, then apply mapping to df in question if applicable\n",
        "    df[col] = df[col].apply(map_to_100)\n",
        "  return df\n",
        "    \n",
        "def map_to_100(feat):\n",
        "  if feat in col_top_100:\n",
        "    return feat\n",
        "  else:\n",
        "    return 'other'\n",
        "\n",
        "\n",
        "  \n",
        "  \n",
        "# The main data wrangling function\n",
        "def wrangle(df):\n",
        "  \n",
        "  # Imputer maintains True False, instead of 1,0. I prefer 1 column instead of 4\n",
        "  bool_cols = ['public_meeting','permit']\n",
        "  for col in bool_cols:\n",
        "    df[col] = df[col].fillna(df[col].value_counts().index[0]).astype(int)\n",
        "                 \n",
        "  # convert some values to booleans, fill in missing values, replace suspicious values with nans\n",
        "  high_cardinality_cols = ['wpt_name','subvillage','installer','funder','ward']\n",
        "  df = convert_top_100(high_cardinality_cols,df,train) # keep the data pure to the \"train\" data set\n",
        "  \n",
        "  df.scheme_manamement = df.scheme_management.fillna('None') # a 'None' category exists, so might as well change nan to None\n",
        "  \n",
        "   # change this large count of near-zero outliers to 0, then convert to nan\n",
        "  df.latitude = df.latitude.replace(-2e-8,0).value_counts()\n",
        "  \n",
        "  cols_with_0 = ['latitude','longitude', 'population','construction_year'] # population 1 also exists\n",
        "  for col in cols_with_0:\n",
        "    df[col] = df[col].replace(0,np.nan)\n",
        "    \n",
        "  df.population = df.population.replace(1,np.nan)\n",
        "\n",
        "                 \n",
        "  # remove columns that are \"obviously\" irrelevant, have too many categorical features, or are redundant\n",
        "  drop = ['id','date_recorded','num_private','recorded_by','extraction_type',\n",
        "          'extraction_type_group','water_quality','quantity','source','source_type',\n",
        "          'waterpoint_type','scheme_name',\n",
        "          'payment','management']\n",
        "  \n",
        "  df = df.drop(columns = drop)\n",
        "  \n",
        "  return df"
      ],
      "execution_count": 0,
      "outputs": []
    },
    {
      "cell_type": "code",
      "metadata": {
        "id": "4ed0VgnfD6R7",
        "colab_type": "code",
        "colab": {
          "base_uri": "https://localhost:8080/",
          "height": 54
        },
        "outputId": "c5a8357d-8173-41a1-e1e0-324deee71dab"
      },
      "source": [
        "# separate out id columns\n",
        "train_id = train.id # I don't think this is necessary, but I'm keeping train id\n",
        "test_id = test.id\n",
        "\n",
        "# Separate features and labels\n",
        "train_features = train.drop(columns=[target])\n",
        "train_labels = train.status_group\n",
        "\n",
        "val_features = val.drop(columns = [target])\n",
        "val_labels = val.status_group\n",
        "\n",
        "test_features = test.copy() # renaming to keep consistancy in variable names\n",
        "\n",
        "train_features_clean = wrangle(train_features)\n",
        "val_features_clean = wrangle(val_features)\n",
        "test_features_clean = wrangle(test_features)"
      ],
      "execution_count": 9,
      "outputs": [
        {
          "output_type": "stream",
          "text": [
            "/usr/local/lib/python3.6/dist-packages/ipykernel_launcher.py:29: UserWarning: Pandas doesn't allow columns to be created via a new attribute name - see https://pandas.pydata.org/pandas-docs/stable/indexing.html#attribute-access\n"
          ],
          "name": "stderr"
        }
      ]
    },
    {
      "cell_type": "code",
      "metadata": {
        "id": "EHUsedFpEotI",
        "colab_type": "code",
        "colab": {
          "base_uri": "https://localhost:8080/",
          "height": 119
        },
        "outputId": "766c9bef-88f4-4451-8041-d30a10edae09"
      },
      "source": [
        "val_labels.head()"
      ],
      "execution_count": 24,
      "outputs": [
        {
          "output_type": "execute_result",
          "data": {
            "text/plain": [
              "58046             non functional\n",
              "41184             non functional\n",
              "27587                 functional\n",
              "53109                 functional\n",
              "7245     functional needs repair\n",
              "Name: status_group, dtype: object"
            ]
          },
          "metadata": {
            "tags": []
          },
          "execution_count": 24
        }
      ]
    },
    {
      "cell_type": "code",
      "metadata": {
        "id": "1GDgWGncErLw",
        "colab_type": "code",
        "colab": {}
      },
      "source": [
        "import category_encoders as ce\n",
        "from sklearn.impute import SimpleImputer\n",
        "from sklearn.ensemble import RandomForestClassifier\n",
        "from sklearn.pipeline import make_pipeline\n",
        "from sklearn.model_selection import RandomizedSearchCV\n",
        "from scipy.stats import randint,uniform"
      ],
      "execution_count": 0,
      "outputs": []
    },
    {
      "cell_type": "code",
      "metadata": {
        "id": "n5y1b-MGE9jS",
        "colab_type": "code",
        "colab": {}
      },
      "source": [
        "rf = make_pipeline(ce.OneHotEncoder(),\n",
        "                   SimpleImputer(),\n",
        "                   RandomForestClassifier())\n",
        "\n",
        "param_distributions = {'simpleimputer__strategy' : ['mean'],\n",
        "                       'randomforestclassifier__n_estimators': [200],\n",
        "              'randomforestclassifier__max_depth': randint(20,30),\n",
        "              'randomforestclassifier__min_weight_fraction_leaf': uniform(0.01,.1)}\n",
        "\n",
        "search = RandomizedSearchCV(rf,\n",
        "                            param_distributions = param_distributions,\n",
        "                            cv = 3,\n",
        "                            scoring = 'accuracy',\n",
        "                            n_jobs = -1,\n",
        "                            n_iter = 25,\n",
        "                            verbose = 10)"
      ],
      "execution_count": 0,
      "outputs": []
    },
    {
      "cell_type": "code",
      "metadata": {
        "id": "gvspwogtIifq",
        "colab_type": "code",
        "colab": {
          "base_uri": "https://localhost:8080/",
          "height": 612
        },
        "outputId": "07dd75a6-b246-4557-9cd7-81af559e6c38"
      },
      "source": [
        "search.fit(train_features_clean,train_labels)"
      ],
      "execution_count": 50,
      "outputs": [
        {
          "output_type": "stream",
          "text": [
            "Fitting 3 folds for each of 25 candidates, totalling 75 fits\n"
          ],
          "name": "stdout"
        },
        {
          "output_type": "stream",
          "text": [
            "[Parallel(n_jobs=-1)]: Using backend LokyBackend with 2 concurrent workers.\n",
            "[Parallel(n_jobs=-1)]: Done   1 tasks      | elapsed:   16.3s\n",
            "[Parallel(n_jobs=-1)]: Done   4 tasks      | elapsed:   34.5s\n",
            "[Parallel(n_jobs=-1)]: Done   9 tasks      | elapsed:  1.2min\n",
            "[Parallel(n_jobs=-1)]: Done  14 tasks      | elapsed:  1.8min\n",
            "[Parallel(n_jobs=-1)]: Done  21 tasks      | elapsed:  2.7min\n",
            "[Parallel(n_jobs=-1)]: Done  28 tasks      | elapsed:  3.5min\n",
            "[Parallel(n_jobs=-1)]: Done  37 tasks      | elapsed:  4.6min\n",
            "[Parallel(n_jobs=-1)]: Done  46 tasks      | elapsed:  5.8min\n",
            "[Parallel(n_jobs=-1)]: Done  57 tasks      | elapsed:  7.1min\n",
            "[Parallel(n_jobs=-1)]: Done  68 tasks      | elapsed:  8.5min\n",
            "[Parallel(n_jobs=-1)]: Done  75 out of  75 | elapsed:  9.3min finished\n"
          ],
          "name": "stderr"
        },
        {
          "output_type": "execute_result",
          "data": {
            "text/plain": [
              "RandomizedSearchCV(cv=3, error_score='raise-deprecating',\n",
              "                   estimator=Pipeline(memory=None,\n",
              "                                      steps=[('onehotencoder',\n",
              "                                              OneHotEncoder(cols=None,\n",
              "                                                            drop_invariant=False,\n",
              "                                                            handle_missing='value',\n",
              "                                                            handle_unknown='value',\n",
              "                                                            return_df=True,\n",
              "                                                            use_cat_names=False,\n",
              "                                                            verbose=0)),\n",
              "                                             ('simpleimputer',\n",
              "                                              SimpleImputer(add_indicator=False,\n",
              "                                                            copy=True,\n",
              "                                                            fill_value=None,\n",
              "                                                            missing_values=nan,\n",
              "                                                            strat...\n",
              "                   param_distributions={'randomforestclassifier__max_depth': <scipy.stats._distn_infrastructure.rv_frozen object at 0x7fc2dff687b8>,\n",
              "                                        'randomforestclassifier__min_weight_fraction_leaf': <scipy.stats._distn_infrastructure.rv_frozen object at 0x7fc2dff686a0>,\n",
              "                                        'randomforestclassifier__n_estimators': [200],\n",
              "                                        'simpleimputer__strategy': ['mean']},\n",
              "                   pre_dispatch='2*n_jobs', random_state=None, refit=True,\n",
              "                   return_train_score=False, scoring='accuracy', verbose=10)"
            ]
          },
          "metadata": {
            "tags": []
          },
          "execution_count": 50
        }
      ]
    },
    {
      "cell_type": "code",
      "metadata": {
        "id": "GJPdYx1uJRsM",
        "colab_type": "code",
        "colab": {
          "base_uri": "https://localhost:8080/",
          "height": 71
        },
        "outputId": "bd830b69-104f-4759-d9b9-efe7c3de572c"
      },
      "source": [
        "print(\"best params for this run:\", search.best_params_)\n",
        "print(\"score for this validation set:\", search.best_score_, '(terrible :/)')\n",
        "\n",
        "\n",
        "pipeline = search.best_estimator_\n",
        "y_pred = pipeline.predict(val_features_clean)"
      ],
      "execution_count": 66,
      "outputs": [
        {
          "output_type": "stream",
          "text": [
            "best params for this run: {'randomforestclassifier__max_depth': 24, 'randomforestclassifier__min_weight_fraction_leaf': 0.010279180572022697, 'randomforestclassifier__n_estimators': 200, 'simpleimputer__strategy': 'mean'}\n",
            "score for this validation set: 0.7050752630877848 (terrible :/)\n"
          ],
          "name": "stdout"
        }
      ]
    },
    {
      "cell_type": "markdown",
      "metadata": {
        "id": "Ma5p6BA5UiR4",
        "colab_type": "text"
      },
      "source": [
        "## Do over, no randomized search:"
      ]
    },
    {
      "cell_type": "code",
      "metadata": {
        "id": "eg0y7pNxUpyf",
        "colab_type": "code",
        "colab": {
          "base_uri": "https://localhost:8080/",
          "height": 408
        },
        "outputId": "800b67d3-dd40-49b0-db29-1fb58381dc7a"
      },
      "source": [
        "rf2 = make_pipeline(ce.OneHotEncoder(use_cat_names=True),\n",
        "                         SimpleImputer(),\n",
        "                         RandomForestClassifier(n_estimators = 300,max_depth = 25))\n",
        "\n",
        "rf2.fit(train_features_clean,train_labels)"
      ],
      "execution_count": 82,
      "outputs": [
        {
          "output_type": "execute_result",
          "data": {
            "text/plain": [
              "Pipeline(memory=None,\n",
              "         steps=[('onehotencoder',\n",
              "                 OneHotEncoder(cols=['funder', 'installer', 'wpt_name', 'basin',\n",
              "                                     'subvillage', 'region', 'lga', 'ward',\n",
              "                                     'scheme_management',\n",
              "                                     'extraction_type_class',\n",
              "                                     'management_group', 'payment_type',\n",
              "                                     'quality_group', 'quantity_group',\n",
              "                                     'source_class', 'waterpoint_type_group'],\n",
              "                               drop_invariant=False, handle_missing='value',\n",
              "                               handle_unknown=...\n",
              "                 RandomForestClassifier(bootstrap=True, class_weight=None,\n",
              "                                        criterion='gini', max_depth=25,\n",
              "                                        max_features='auto',\n",
              "                                        max_leaf_nodes=None,\n",
              "                                        min_impurity_decrease=0.0,\n",
              "                                        min_impurity_split=None,\n",
              "                                        min_samples_leaf=1, min_samples_split=2,\n",
              "                                        min_weight_fraction_leaf=0.0,\n",
              "                                        n_estimators=300, n_jobs=None,\n",
              "                                        oob_score=False, random_state=None,\n",
              "                                        verbose=0, warm_start=False))],\n",
              "         verbose=False)"
            ]
          },
          "metadata": {
            "tags": []
          },
          "execution_count": 82
        }
      ]
    },
    {
      "cell_type": "code",
      "metadata": {
        "id": "F-jKWtMXVVa3",
        "colab_type": "code",
        "colab": {}
      },
      "source": [
        "y_pred2 = rf2.predict(val_features_clean)"
      ],
      "execution_count": 0,
      "outputs": []
    },
    {
      "cell_type": "code",
      "metadata": {
        "id": "Ni8wSMWkRQVP",
        "colab_type": "code",
        "colab": {
          "base_uri": "https://localhost:8080/",
          "height": 34
        },
        "outputId": "7d952031-841e-4496-fd9b-9da3e5627d74"
      },
      "source": [
        "from sklearn.metrics import confusion_matrix,accuracy_score,classification_report\n",
        "\n",
        "print('Accuracy:',accuracy_score(rf2.predict(val_features_clean),val_labels))"
      ],
      "execution_count": 131,
      "outputs": [
        {
          "output_type": "stream",
          "text": [
            "Accuracy: 0.8012257974648279\n"
          ],
          "name": "stdout"
        }
      ]
    },
    {
      "cell_type": "markdown",
      "metadata": {
        "id": "f6tp1zlCfimp",
        "colab_type": "text"
      },
      "source": [
        "### Make submission prediction"
      ]
    },
    {
      "cell_type": "code",
      "metadata": {
        "id": "ZlbEEYMafTb8",
        "colab_type": "code",
        "colab": {}
      },
      "source": [
        "submission_pred = rf2.predict(test_features_clean)"
      ],
      "execution_count": 0,
      "outputs": []
    },
    {
      "cell_type": "code",
      "metadata": {
        "id": "jlpsp89jf7-_",
        "colab_type": "code",
        "colab": {}
      },
      "source": [
        "submission = pd.concat([test_id,pd.Series(submission_pred)],axis=1).rename(columns={0:'status_group'})\n",
        "submission.to_csv(\"Trevor_waterpumps_submission5.csv\",index=False)"
      ],
      "execution_count": 0,
      "outputs": []
    },
    {
      "cell_type": "markdown",
      "metadata": {
        "id": "vAiFU-tdfm1e",
        "colab_type": "text"
      },
      "source": [
        "### Make Confusion Matrix"
      ]
    },
    {
      "cell_type": "code",
      "metadata": {
        "id": "6P9yf6qiUGbh",
        "colab_type": "code",
        "colab": {
          "base_uri": "https://localhost:8080/",
          "height": 537
        },
        "outputId": "b43c8c9f-b9d4-41ec-fde7-9dcfe905446b"
      },
      "source": [
        "from sklearn.utils.multiclass import unique_labels\n",
        "import seaborn as sb\n",
        "import matplotlib.pyplot as plt\n",
        "\n",
        "labels = unique_labels(y_pred2,val_labels)\n",
        "\n",
        "cm = confusion_matrix(y_pred2,val_labels)\n",
        "cm = pd.DataFrame(cm,index = labels,columns = labels)\n",
        "sb.heatmap(cm,annot=True,fmt='d',cmap = 'YlGnBu')\n",
        "plt.title(\"Confusion Matrix\")\n",
        "plt.xticks(rotation=50);\n",
        "\n",
        "print(classification_report(y_pred2,val_labels))"
      ],
      "execution_count": 132,
      "outputs": [
        {
          "output_type": "stream",
          "text": [
            "                         precision    recall  f1-score   support\n",
            "\n",
            "             functional       0.94      0.71      0.81     10369\n",
            "functional needs repair       0.01      0.48      0.02        25\n",
            "         non functional       0.61      0.84      0.71      3964\n",
            "\n",
            "               accuracy                           0.74     14358\n",
            "              macro avg       0.52      0.68      0.51     14358\n",
            "           weighted avg       0.85      0.74      0.78     14358\n",
            "\n"
          ],
          "name": "stdout"
        },
        {
          "output_type": "display_data",
          "data": {
            "image/png": "[encoded data removed]",
            "text/plain": [
              "<Figure size 432x288 with 2 Axes>"
            ]
          },
          "metadata": {
            "tags": []
          }
        }
      ]
    },
    {
      "cell_type": "code",
      "metadata": {
        "id": "9WZjV5a6ihe8",
        "colab_type": "code",
        "colab": {}
      },
      "source": [
        ""
      ],
      "execution_count": 0,
      "outputs": []
    }
  ]
}