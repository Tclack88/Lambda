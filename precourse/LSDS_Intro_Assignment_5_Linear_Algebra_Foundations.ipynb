{
  "nbformat": 4,
  "nbformat_minor": 0,
  "metadata": {
    "colab": {
      "name": "Copy of LSDS Intro Assignment 5 - Linear Algebra Foundations.ipynb",
      "provenance": [],
      "collapsed_sections": [],
      "include_colab_link": true
    },
    "kernelspec": {
      "name": "python3",
      "display_name": "Python 3"
    }
  },
  "cells": [
    {
      "cell_type": "markdown",
      "metadata": {
        "id": "view-in-github",
        "colab_type": "text"
      },
      "source": [
        "<a href=\"https://colab.research.google.com/github/Tclack88/Lambda/blob/master/precourse/LSDS_Intro_Assignment_5_Linear_Algebra_Foundations.ipynb\" target=\"_parent\"><img src=\"https://colab.research.google.com/assets/colab-badge.svg\" alt=\"Open In Colab\"/></a>"
      ]
    },
    {
      "cell_type": "markdown",
      "metadata": {
        "id": "C6GiJ7ixeOOU",
        "colab_type": "text"
      },
      "source": [
        "#Intro to Data Science Assignment 5\n",
        "##Linear Algebra Foundations\n",
        "\n",
        "For the short answers:\n",
        "     Feel free to do any additional research, but try your best to answer the questions in your own words (don't copy/paste).\n",
        "     \n",
        "For the computations by hand:\n",
        "      If you'd like to use LaTex to make things pretty, by all means give it a try, but it is *optional*. You can answer the questions using algebraic-like notation. For instance if I was adding two vectors:\n",
        "      \n",
        "[1,2] + [2,3] => (1+2), (2+3) => [3,5] \n",
        "\n",
        "**Show your work, not just the answer**\n",
        "\n",
        "For the graphs:\n",
        "   Make them as pretty as you like\n",
        "   \n",
        " For using the tools (numpy):\n",
        "    Use labeled print statements as shown"
      ]
    },
    {
      "cell_type": "markdown",
      "metadata": {
        "id": "yJJdtDoVeiYV",
        "colab_type": "text"
      },
      "source": [
        "#Short Answer Questions\n",
        "\n",
        "1) Describe a vector\n",
        "\n",
        "2) Describe a matrix\n",
        "\n",
        "3) What can we do with vectors?\n",
        "\n",
        "4) What are basis vectors?\n",
        "\n",
        "5) What is an inverse matrix?\n",
        "\n",
        "6) What is the transpose of a matrix?\n"
      ]
    },
    {
      "cell_type": "markdown",
      "metadata": {
        "id": "J2okSel_f1lS",
        "colab_type": "text"
      },
      "source": [
        "##Your Answers go here:\n",
        "\n",
        "1)  A vector is a maethematical object with  both a magnitude and a direction\n",
        "\n",
        "2) A matrix is best thought of as an operator. It operates on a vector, manipulating it (scaling, rotating, etc.), returning another vector\n",
        "\n",
        "3) Vectors can be scaled, summed and multiplied (dot or cross product)\n",
        "\n",
        "4) Basis vectors are the minimal set of vectors which can be used construct any other vector in the vector space via linear combination\n",
        "\n",
        "5) An inverse matrix is the matrix, which when muliplied by the original matrix, will return the identity matrix\n",
        "\n",
        "6) A transpose of a matrix is a matrix reflected across its diagonal (elements i,j, swap with elements j,i)"
      ]
    },
    {
      "cell_type": "markdown",
      "metadata": {
        "id": "Lb-jyiXZgHfH",
        "colab_type": "text"
      },
      "source": [
        "#Computations by hand\n",
        "\n",
        "1) $ \\begin {bmatrix} 1 \\\\ 3 \\\\ 4 \\end {bmatrix} + \\begin {bmatrix} 4 \\\\ 2 \\\\ 6 \\end {bmatrix} $\n",
        "\n",
        "2) $ 5 \\begin {bmatrix} 1 \\\\ 2 \\\\ 3 \\end{bmatrix} $\n",
        "\n",
        "3) $ \\begin {bmatrix} 1  &  3\\\\ 2 & 3  \\end{bmatrix} \\begin {bmatrix} 1 \\\\ 2 \\end{bmatrix} $\n",
        "\n",
        "4) $ \\begin {bmatrix} 1  &  3\\\\ 2 & 3 \\end{bmatrix} \\begin {bmatrix} 2 & 2 \\\\ 3 & 1 \\end{bmatrix} $\n",
        "\n",
        "5) What is the transpose of :\n",
        "\n",
        "$ \\begin{bmatrix} 1 & 4 \\\\ 2 & 5 \\\\ 3 & 6 \\end{bmatrix} $ \n",
        "\n",
        "6) What is the determinant of:\n",
        "\n",
        " $\\begin {bmatrix} 2 & 2 \\\\ 3 & 1 \\end{bmatrix}$\n",
        " \n",
        " 7) What is the inverse matrix of: \n",
        " \n",
        "  $\\begin {bmatrix} 3 & 2 \\\\ 1 & 2 \\end{bmatrix}$"
      ]
    },
    {
      "cell_type": "markdown",
      "metadata": {
        "id": "LdnLfusWjcZQ",
        "colab_type": "text"
      },
      "source": [
        "\n",
        "\n",
        "\n",
        "```\n",
        "\n",
        "1)  \n",
        "      5\n",
        "      5\n",
        "     10 \n",
        "\n",
        "2) \n",
        "        5\n",
        "        10\n",
        "        15\n",
        "\n",
        "3) \n",
        "        7\n",
        "        8\n",
        "      \n",
        "4) \n",
        "        11   5\n",
        "        13   7\n",
        "\n",
        "5)\n",
        "        1  2  3\n",
        "        4  5  6\n",
        "\n",
        "6)    -4\n",
        "\n",
        "7) \n",
        "          1/4 x | 2   -2 |       or     |1/2     -1/2|\n",
        "                | -1   3 |              |-1/4      3/4|\n",
        "                              \n",
        "```\n"
      ]
    },
    {
      "cell_type": "markdown",
      "metadata": {
        "id": "B7q5osaBjo10",
        "colab_type": "text"
      },
      "source": [
        "##Visualize the Vectors\n",
        "\n",
        "Graph the following:\n",
        "\n",
        "  Vector v_1 = [1,0] \n",
        "  \n",
        "  Vector v_2 = v_1 scaled by 2\n",
        "  \n",
        "  Vector v_3 = [0,-1]\n",
        "  \n",
        "  Vector v_4 = the sum of v_2 and v_3\n",
        " "
      ]
    },
    {
      "cell_type": "code",
      "metadata": {
        "id": "uy65IMqbeNKw",
        "colab_type": "code",
        "outputId": "f9b9d7f2-25dd-4e75-9934-612328f2c442",
        "colab": {
          "base_uri": "https://localhost:8080/",
          "height": 295
        }
      },
      "source": [
        "# Visualize the vectors graph goes here\n",
        "import matplotlib.pyplot as plt\n",
        "\n",
        "plt.axis([-.5,2,-1.2,.5])\n",
        "plt.arrow(0,0,1,0,color='r',head_width=.05,head_length=.05)\n",
        "plt.arrow(0,0,.5,0,color='b',head_width=.05,head_length=.05)\n",
        "plt.arrow(0,0,0,-1,color='g',head_width = .05,head_length=.05)\n",
        "plt.arrow(0,0,1.5,-1,color='black',head_width=.05,head_length=.05)\n",
        "plt.title(\"a plot of vectors in 2D space\")\n",
        "plt.xlabel(\"x\")\n",
        "plt.ylabel(\"y\")\n",
        "plt.show()"
      ],
      "execution_count": 0,
      "outputs": [
        {
          "output_type": "display_data",
          "data": {
            "image/png": "[encoded data removed]",
            "text/plain": [
              "<Figure size 432x288 with 1 Axes>"
            ]
          },
          "metadata": {
            "tags": []
          }
        }
      ]
    },
    {
      "cell_type": "markdown",
      "metadata": {
        "id": "jWDov3LvlF9C",
        "colab_type": "text"
      },
      "source": [
        "## Graph the Matrix\n",
        "\n",
        "Graph the columns and rows of this matrix: \n",
        " $\\begin {bmatrix} 2 & 2 \\\\ 3 & 1 \\end{bmatrix}$"
      ]
    },
    {
      "cell_type": "code",
      "metadata": {
        "id": "Vru0b8zOlEUQ",
        "colab_type": "code",
        "outputId": "b6797e9b-e9fe-415b-888c-127a167c3e6b",
        "colab": {
          "base_uri": "https://localhost:8080/",
          "height": 295
        }
      },
      "source": [
        "# Matrix graph goes here\n",
        "plt.fill([0,2,4,2],[0,1,4,3],alpha=.5,color=\"g\")\n",
        "plt.title(\"A graphical representation of a Matrix\")\n",
        "plt.xlabel(\"x\")\n",
        "plt.ylabel(\"y\")\n",
        "plt.show()"
      ],
      "execution_count": 0,
      "outputs": [
        {
          "output_type": "display_data",
          "data": {
            "image/png": "[encoded data removed]",
            "text/plain": [
              "<Figure size 432x288 with 1 Axes>"
            ]
          },
          "metadata": {
            "tags": []
          }
        }
      ]
    },
    {
      "cell_type": "markdown",
      "metadata": {
        "id": "QbBhyPwhlggH",
        "colab_type": "text"
      },
      "source": [
        "## Using the tools: NumPy Edition\n",
        "\n",
        "Use the NumPy library to compute the \"Computations by Hand\" section. Make sure to print each answer and label your print statement"
      ]
    },
    {
      "cell_type": "code",
      "metadata": {
        "id": "JcjUoEANlf8Q",
        "colab_type": "code",
        "outputId": "38efea94-5a1a-4c61-f030-93ccabfd10a0",
        "colab": {
          "base_uri": "https://localhost:8080/",
          "height": 408
        }
      },
      "source": [
        "import numpy as np\n",
        "\n",
        "v1a = np.array([1,2,4])\n",
        "v1b = np.array([4,2,6])\n",
        "v2 = np.array([1,2,3])\n",
        "m3 = np.matrix(\"1 3;2 3\")\n",
        "v3 = np.array([1,2])\n",
        "m4a = np.matrix('1 3;2 3')\n",
        "m4b = np.matrix('2 2;3 1')\n",
        "m5 = np.matrix('1 4;2 5;3 6')\n",
        "m6 = np.matrix('2 2;3 1')\n",
        "m7 = np.matrix('3 2;1 2')\n",
        "\n",
        "print(\"1. sum of vectors\")\n",
        "print((v1a+v1b))\n",
        "print(\"\\n2. scalar multiply vector\")\n",
        "print(5*v2)\n",
        "print(\"\\n3. matrix-vector multiplication\")\n",
        "print(np.matmul(m3,v3))\n",
        "print(\"\\n4. matrix-matrix multiplication\")\n",
        "print(np.matmul(m4a,m4b))\n",
        "print(\"\\n5. matrix transpose\")\n",
        "print(np.transpose(m5))\n",
        "print(\"\\n6. determinant\")\n",
        "print(np.linalg.det(m6))\n",
        "print(\"\\n7. inverse\")\n",
        "print(np.linalg.inv(m7))"
      ],
      "execution_count": 0,
      "outputs": [
        {
          "output_type": "stream",
          "text": [
            "1. sum of vectors\n",
            "[ 5  4 10]\n",
            "\n",
            "2. scalar multiply vector\n",
            "[ 5 10 15]\n",
            "\n",
            "3. matrix-vector multiplication\n",
            "[[7 8]]\n",
            "\n",
            "4. matrix-matrix multiplication\n",
            "[[11  5]\n",
            " [13  7]]\n",
            "\n",
            "5. matrix transpose\n",
            "[[1 2 3]\n",
            " [4 5 6]]\n",
            "\n",
            "6. determinant\n",
            "-4.000000000000001\n",
            "\n",
            "7. inverse\n",
            "[[ 0.5  -0.5 ]\n",
            " [-0.25  0.75]]\n"
          ],
          "name": "stdout"
        }
      ]
    }
  ]
}