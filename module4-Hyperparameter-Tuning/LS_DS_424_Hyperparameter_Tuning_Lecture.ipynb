{
  "nbformat": 4,
  "nbformat_minor": 0,
  "metadata": {
    "kernelspec": {
      "display_name": "Python 3",
      "language": "python",
      "name": "python3"
    },
    "language_info": {
      "codemirror_mode": {
        "name": "ipython",
        "version": 3
      },
      "file_extension": ".py",
      "mimetype": "text/x-python",
      "name": "python",
      "nbconvert_exporter": "python",
      "pygments_lexer": "ipython3",
      "version": "3.6.8"
    },
    "colab": {
      "name": "LS_DS_424_Hyperparameter_Tuning_Lecture.ipynb",
      "provenance": [],
      "include_colab_link": true
    }
  },
  "cells": [
    {
      "cell_type": "markdown",
      "metadata": {
        "id": "view-in-github",
        "colab_type": "text"
      },
      "source": [
        "<a href=\"https://colab.research.google.com/github/Tclack88/DS-Unit-4-Sprint-2-Neural-Networks/blob/master/module4-Hyperparameter-Tuning/LS_DS_424_Hyperparameter_Tuning_Lecture.ipynb\" target=\"_parent\"><img src=\"https://colab.research.google.com/assets/colab-badge.svg\" alt=\"Open In Colab\"/></a>"
      ]
    },
    {
      "cell_type": "markdown",
      "metadata": {
        "colab_type": "text",
        "id": "41TS0Sa0rDNx"
      },
      "source": [
        "Lambda School Data Science\n",
        "\n",
        "*Unit 4, Sprint 2, Module 4*\n",
        "\n",
        "---"
      ]
    },
    {
      "cell_type": "markdown",
      "metadata": {
        "colab_type": "text",
        "id": "WUWqyjq0S85B"
      },
      "source": [
        "# Neural Networks & GPUs (Prepare)\n",
        "*aka Hyperparameter Tuning*\n",
        "\n",
        "*aka Big Servers for Big Problems*"
      ]
    },
    {
      "cell_type": "markdown",
      "metadata": {
        "colab_type": "text",
        "id": "uCaIOMb_S85K"
      },
      "source": [
        "## Learning Objectives\n",
        "* <a href=\"#p1\">Part 1</a>: Describe the major hyperparemeters to tune\n",
        "* <a href=\"#p2\">Part 2</a>: Implement an experiment tracking framework\n",
        "* <a href=\"#p3\">Part 3</a>: Search the hyperparameter space using RandomSearch (Optional)"
      ]
    },
    {
      "cell_type": "markdown",
      "metadata": {
        "id": "efDJkUI7S85R",
        "colab_type": "text"
      },
      "source": [
        "# Hyperparameter Options (Learn)\n",
        "<a id=\"p1\"></a>"
      ]
    },
    {
      "cell_type": "markdown",
      "metadata": {
        "id": "Pm_ZwQ-KS85S",
        "colab_type": "text"
      },
      "source": [
        "## Overview\n",
        "\n",
        "Hyperparameter tuning is much more important with neural networks than it has been with any other models that we have considered up to this point. Other supervised learning models might have a couple of parameters, but neural networks can have dozens. These can substantially affect the accuracy of our models and although it can be a time consuming process is a necessary step when working with neural networks.\n",
        "​\n",
        "Hyperparameter tuning comes with a challenge. How can we compare models specified with different hyperparameters if our model's final error metric can vary somewhat erratically? How do we avoid just getting unlucky and selecting the wrong hyperparameter? This is a problem that to a certain degree we just have to live with as we test and test again. However, we can minimize it somewhat by pairing our experiments with Cross Validation to reduce the variance of our final accuracy values."
      ]
    },
    {
      "cell_type": "markdown",
      "metadata": {
        "colab_type": "text",
        "id": "0s0o2pqBs88q"
      },
      "source": [
        "### Load Boston Housing Data"
      ]
    },
    {
      "cell_type": "code",
      "metadata": {
        "id": "762S8lNYS85d",
        "colab_type": "code",
        "colab": {
          "base_uri": "https://localhost:8080/",
          "height": 97
        },
        "outputId": "6bce286e-192d-440c-9dcc-84aab4f828d8"
      },
      "source": [
        "from tensorflow.keras.datasets import boston_housing\n",
        "\n",
        "(x_train, y_train), (x_test, y_test) = boston_housing.load_data()"
      ],
      "execution_count": 1,
      "outputs": [
        {
          "output_type": "display_data",
          "data": {
            "text/html": [
              "<p style=\"color: red;\">\n",
              "The default version of TensorFlow in Colab will soon switch to TensorFlow 2.x.<br>\n",
              "We recommend you <a href=\"https://www.tensorflow.org/guide/migrate\" target=\"_blank\">upgrade</a> now \n",
              "or ensure your notebook will continue to use TensorFlow 1.x via the <code>%tensorflow_version 1.x</code> magic:\n",
              "<a href=\"https://colab.research.google.com/notebooks/tensorflow_version.ipynb\" target=\"_blank\">more info</a>.</p>\n"
            ],
            "text/plain": [
              "<IPython.core.display.HTML object>"
            ]
          },
          "metadata": {
            "tags": []
          }
        },
        {
          "output_type": "stream",
          "text": [
            "Downloading data from https://storage.googleapis.com/tensorflow/tf-keras-datasets/boston_housing.npz\n",
            "57344/57026 [==============================] - 0s 0us/step\n"
          ],
          "name": "stdout"
        }
      ]
    },
    {
      "cell_type": "markdown",
      "metadata": {
        "colab_type": "text",
        "id": "Pm7zow5IvaTt"
      },
      "source": [
        "### Normalizing Input Data\n",
        "\n",
        "It's not 100% necessary to normalize/scale your input data before feeding it to a neural network, the network can learn the appropriate weights to deal with data of as long as it is numerically represented,  but it is recommended as it can help **make training faster** and **reduces the chances that gradient descent might get stuck in a local optimum**.\n",
        "\n",
        "<https://stackoverflow.com/questions/4674623/why-do-we-have-to-normalize-the-input-for-an-artificial-neural-network>"
      ]
    },
    {
      "cell_type": "code",
      "metadata": {
        "id": "uFZqXnD1S85u",
        "colab_type": "code",
        "colab": {
          "base_uri": "https://localhost:8080/",
          "height": 527
        },
        "outputId": "e2a55bf9-203d-4a43-83d0-0f1d44b10447"
      },
      "source": [
        "from sklearn.preprocessing import StandardScaler\n",
        "\n",
        "scaler = StandardScaler()\n",
        "\n",
        "x_train = scaler.fit_transform(x_train)\n",
        "x_test = scaler.transform(x_test)\n",
        "print(x_train[:10])"
      ],
      "execution_count": 2,
      "outputs": [
        {
          "output_type": "stream",
          "text": [
            "[[-0.27224633 -0.48361547 -0.43576161 -0.25683275 -0.1652266  -0.1764426\n",
            "   0.81306188  0.1166983  -0.62624905 -0.59517003  1.14850044  0.44807713\n",
            "   0.8252202 ]\n",
            " [-0.40342651  2.99178419 -1.33391162 -0.25683275 -1.21518188  1.89434613\n",
            "  -1.91036058  1.24758524 -0.85646254 -0.34843254 -1.71818909  0.43190599\n",
            "  -1.32920239]\n",
            " [ 0.1249402  -0.48361547  1.0283258  -0.25683275  0.62864202 -1.82968811\n",
            "   1.11048828 -1.18743907  1.67588577  1.5652875   0.78447637  0.22061726\n",
            "  -1.30850006]\n",
            " [-0.40149354 -0.48361547 -0.86940196 -0.25683275 -0.3615597  -0.3245576\n",
            "  -1.23667187  1.10717989 -0.51114231 -1.094663    0.78447637  0.44807713\n",
            "  -0.65292624]\n",
            " [-0.0056343  -0.48361547  1.0283258  -0.25683275  1.32861221  0.15364225\n",
            "   0.69480801 -0.57857203  1.67588577  1.5652875   0.78447637  0.3898823\n",
            "   0.26349695]\n",
            " [-0.37502238 -0.48361547 -0.54747912 -0.25683275 -0.54935658 -0.78865126\n",
            "   0.18954148  0.48371503 -0.51114231 -0.71552978  0.51145832  0.38669063\n",
            "  -0.13812828]\n",
            " [ 0.58963463 -0.48361547  1.0283258  -0.25683275  1.21764133 -1.03127774\n",
            "   1.11048828 -1.06518235  1.67588577  1.5652875   0.78447637  0.44807713\n",
            "   1.49873604]\n",
            " [ 0.0381708  -0.48361547  1.24588095 -0.25683275  2.67733525 -1.12719983\n",
            "   1.11048828 -1.14833073 -0.51114231 -0.01744323 -1.71818909  0.44807713\n",
            "   1.88793986]\n",
            " [-0.17228416 -0.48361547  1.24588095 -0.25683275  2.67733525 -0.90150078\n",
            "   1.11048828 -1.09664657 -0.51114231 -0.01744323 -1.71818909 -1.97365769\n",
            "   0.53952803]\n",
            " [-0.22932104 -0.48361547  1.58544339 -0.25683275  0.56888847 -1.76056777\n",
            "   1.11048828 -1.13471925 -0.62624905  0.18716835  1.23950646  0.44807713\n",
            "   2.99068404]]\n"
          ],
          "name": "stdout"
        }
      ]
    },
    {
      "cell_type": "markdown",
      "metadata": {
        "colab_type": "text",
        "id": "l6hgCWbir90R"
      },
      "source": [
        "### Model Validation using an automatic verification Dataset\n",
        "\n",
        "Instead of doing seperate train test split class, Keras has a really nice feature that you can set the validation.data argument when fitting your model and Keras will take that portion of your test data and use it as a validation dataset. "
      ]
    },
    {
      "cell_type": "code",
      "metadata": {
        "colab_type": "code",
        "id": "GMXVfmzXp1Oo",
        "outputId": "2487da93-ed1d-4186-90a5-fac012345d30",
        "colab": {
          "base_uri": "https://localhost:8080/",
          "height": 1000
        }
      },
      "source": [
        "from tensorflow import keras\n",
        "from tensorflow.keras.models import Sequential\n",
        "from tensorflow.keras.layers import Dense\n",
        "\n",
        "# Important Hyperparameters\n",
        "inputs = x_train.shape[1]\n",
        "epochs = 75\n",
        "batch_size = 10\n",
        "\n",
        "\n",
        "# Create Model\n",
        "model = Sequential()\n",
        "model.add(Dense(64, activation='relu', input_shape=(inputs,)))\n",
        "model.add(Dense(64, activation='relu'))\n",
        "model.add(Dense(1))\n",
        "\n",
        "# Compile Model\n",
        "model.compile(optimizer='adam', loss='mse', metrics=['mse', 'mae'])\n",
        "\n",
        "# Fit Model\n",
        "model.fit(x_train, y_train, \n",
        "          validation_data=(x_test,y_test), \n",
        "          epochs=epochs, \n",
        "          batch_size=batch_size\n",
        "         )"
      ],
      "execution_count": 3,
      "outputs": [
        {
          "output_type": "stream",
          "text": [
            "WARNING:tensorflow:From /usr/local/lib/python3.6/dist-packages/tensorflow_core/python/ops/resource_variable_ops.py:1630: calling BaseResourceVariable.__init__ (from tensorflow.python.ops.resource_variable_ops) with constraint is deprecated and will be removed in a future version.\n",
            "Instructions for updating:\n",
            "If using Keras pass *_constraint arguments to layers.\n",
            "Train on 404 samples, validate on 102 samples\n",
            "Epoch 1/75\n",
            "404/404 [==============================] - 0s 832us/sample - loss: 512.9893 - mean_squared_error: 512.9893 - mean_absolute_error: 20.6574 - val_loss: 438.6692 - val_mean_squared_error: 438.6692 - val_mean_absolute_error: 18.8193\n",
            "Epoch 2/75\n",
            "404/404 [==============================] - 0s 185us/sample - loss: 275.4932 - mean_squared_error: 275.4932 - mean_absolute_error: 14.0150 - val_loss: 131.1853 - val_mean_squared_error: 131.1853 - val_mean_absolute_error: 9.7100\n",
            "Epoch 3/75\n",
            "404/404 [==============================] - 0s 169us/sample - loss: 75.7602 - mean_squared_error: 75.7602 - mean_absolute_error: 6.5307 - val_loss: 49.6933 - val_mean_squared_error: 49.6933 - val_mean_absolute_error: 5.4419\n",
            "Epoch 4/75\n",
            "404/404 [==============================] - 0s 174us/sample - loss: 37.2377 - mean_squared_error: 37.2377 - mean_absolute_error: 4.3058 - val_loss: 31.4585 - val_mean_squared_error: 31.4585 - val_mean_absolute_error: 4.3990\n",
            "Epoch 5/75\n",
            "404/404 [==============================] - 0s 170us/sample - loss: 25.0709 - mean_squared_error: 25.0709 - mean_absolute_error: 3.5630 - val_loss: 26.1534 - val_mean_squared_error: 26.1534 - val_mean_absolute_error: 3.9085\n",
            "Epoch 6/75\n",
            "404/404 [==============================] - 0s 182us/sample - loss: 21.0955 - mean_squared_error: 21.0955 - mean_absolute_error: 3.1711 - val_loss: 24.1929 - val_mean_squared_error: 24.1929 - val_mean_absolute_error: 3.7226\n",
            "Epoch 7/75\n",
            "404/404 [==============================] - 0s 175us/sample - loss: 18.8554 - mean_squared_error: 18.8554 - mean_absolute_error: 3.0025 - val_loss: 22.8379 - val_mean_squared_error: 22.8379 - val_mean_absolute_error: 3.5322\n",
            "Epoch 8/75\n",
            "404/404 [==============================] - 0s 175us/sample - loss: 17.3952 - mean_squared_error: 17.3952 - mean_absolute_error: 2.8862 - val_loss: 22.8165 - val_mean_squared_error: 22.8165 - val_mean_absolute_error: 3.4781\n",
            "Epoch 9/75\n",
            "404/404 [==============================] - 0s 155us/sample - loss: 15.9606 - mean_squared_error: 15.9606 - mean_absolute_error: 2.7610 - val_loss: 22.1482 - val_mean_squared_error: 22.1482 - val_mean_absolute_error: 3.3747\n",
            "Epoch 10/75\n",
            "404/404 [==============================] - 0s 193us/sample - loss: 14.8552 - mean_squared_error: 14.8552 - mean_absolute_error: 2.6647 - val_loss: 21.9605 - val_mean_squared_error: 21.9605 - val_mean_absolute_error: 3.3283\n",
            "Epoch 11/75\n",
            "404/404 [==============================] - 0s 178us/sample - loss: 13.8339 - mean_squared_error: 13.8339 - mean_absolute_error: 2.6203 - val_loss: 23.6832 - val_mean_squared_error: 23.6832 - val_mean_absolute_error: 3.3833\n",
            "Epoch 12/75\n",
            "404/404 [==============================] - 0s 175us/sample - loss: 13.0354 - mean_squared_error: 13.0354 - mean_absolute_error: 2.5373 - val_loss: 22.8974 - val_mean_squared_error: 22.8974 - val_mean_absolute_error: 3.2818\n",
            "Epoch 13/75\n",
            "404/404 [==============================] - 0s 175us/sample - loss: 12.3508 - mean_squared_error: 12.3508 - mean_absolute_error: 2.4760 - val_loss: 22.7606 - val_mean_squared_error: 22.7606 - val_mean_absolute_error: 3.2331\n",
            "Epoch 14/75\n",
            "404/404 [==============================] - 0s 181us/sample - loss: 11.7911 - mean_squared_error: 11.7911 - mean_absolute_error: 2.4195 - val_loss: 23.3245 - val_mean_squared_error: 23.3245 - val_mean_absolute_error: 3.2763\n",
            "Epoch 15/75\n",
            "404/404 [==============================] - 0s 203us/sample - loss: 11.4601 - mean_squared_error: 11.4601 - mean_absolute_error: 2.3590 - val_loss: 23.3566 - val_mean_squared_error: 23.3566 - val_mean_absolute_error: 3.2352\n",
            "Epoch 16/75\n",
            "404/404 [==============================] - 0s 192us/sample - loss: 10.9755 - mean_squared_error: 10.9755 - mean_absolute_error: 2.3535 - val_loss: 23.4539 - val_mean_squared_error: 23.4539 - val_mean_absolute_error: 3.1823\n",
            "Epoch 17/75\n",
            "404/404 [==============================] - 0s 187us/sample - loss: 10.6019 - mean_squared_error: 10.6019 - mean_absolute_error: 2.2946 - val_loss: 23.5375 - val_mean_squared_error: 23.5375 - val_mean_absolute_error: 3.2069\n",
            "Epoch 18/75\n",
            "404/404 [==============================] - 0s 205us/sample - loss: 10.3485 - mean_squared_error: 10.3485 - mean_absolute_error: 2.2655 - val_loss: 24.2126 - val_mean_squared_error: 24.2126 - val_mean_absolute_error: 3.2008\n",
            "Epoch 19/75\n",
            "404/404 [==============================] - 0s 145us/sample - loss: 10.1690 - mean_squared_error: 10.1690 - mean_absolute_error: 2.2887 - val_loss: 24.0693 - val_mean_squared_error: 24.0693 - val_mean_absolute_error: 3.1793\n",
            "Epoch 20/75\n",
            "404/404 [==============================] - 0s 189us/sample - loss: 9.8721 - mean_squared_error: 9.8721 - mean_absolute_error: 2.2369 - val_loss: 23.2559 - val_mean_squared_error: 23.2559 - val_mean_absolute_error: 3.0839\n",
            "Epoch 21/75\n",
            "404/404 [==============================] - 0s 158us/sample - loss: 9.7755 - mean_squared_error: 9.7755 - mean_absolute_error: 2.2155 - val_loss: 25.5337 - val_mean_squared_error: 25.5337 - val_mean_absolute_error: 3.2046\n",
            "Epoch 22/75\n",
            "404/404 [==============================] - 0s 150us/sample - loss: 9.5631 - mean_squared_error: 9.5631 - mean_absolute_error: 2.2462 - val_loss: 22.5563 - val_mean_squared_error: 22.5563 - val_mean_absolute_error: 2.9968\n",
            "Epoch 23/75\n",
            "404/404 [==============================] - 0s 149us/sample - loss: 9.3435 - mean_squared_error: 9.3435 - mean_absolute_error: 2.1593 - val_loss: 25.5027 - val_mean_squared_error: 25.5027 - val_mean_absolute_error: 3.2092\n",
            "Epoch 24/75\n",
            "404/404 [==============================] - 0s 148us/sample - loss: 9.3282 - mean_squared_error: 9.3282 - mean_absolute_error: 2.1845 - val_loss: 24.2290 - val_mean_squared_error: 24.2290 - val_mean_absolute_error: 3.1387\n",
            "Epoch 25/75\n",
            "404/404 [==============================] - 0s 150us/sample - loss: 9.1820 - mean_squared_error: 9.1820 - mean_absolute_error: 2.1443 - val_loss: 23.3959 - val_mean_squared_error: 23.3959 - val_mean_absolute_error: 3.0539\n",
            "Epoch 26/75\n",
            "404/404 [==============================] - 0s 156us/sample - loss: 8.9270 - mean_squared_error: 8.9270 - mean_absolute_error: 2.1236 - val_loss: 23.5852 - val_mean_squared_error: 23.5852 - val_mean_absolute_error: 3.0488\n",
            "Epoch 27/75\n",
            "404/404 [==============================] - 0s 221us/sample - loss: 9.0087 - mean_squared_error: 9.0087 - mean_absolute_error: 2.1293 - val_loss: 23.8238 - val_mean_squared_error: 23.8238 - val_mean_absolute_error: 3.0557\n",
            "Epoch 28/75\n",
            "404/404 [==============================] - 0s 174us/sample - loss: 8.8816 - mean_squared_error: 8.8816 - mean_absolute_error: 2.1144 - val_loss: 22.0049 - val_mean_squared_error: 22.0049 - val_mean_absolute_error: 2.8935\n",
            "Epoch 29/75\n",
            "404/404 [==============================] - 0s 156us/sample - loss: 8.6738 - mean_squared_error: 8.6738 - mean_absolute_error: 2.0849 - val_loss: 23.1544 - val_mean_squared_error: 23.1544 - val_mean_absolute_error: 2.9601\n",
            "Epoch 30/75\n",
            "404/404 [==============================] - 0s 197us/sample - loss: 8.5519 - mean_squared_error: 8.5519 - mean_absolute_error: 2.0567 - val_loss: 24.2012 - val_mean_squared_error: 24.2012 - val_mean_absolute_error: 3.1021\n",
            "Epoch 31/75\n",
            "404/404 [==============================] - 0s 185us/sample - loss: 8.4358 - mean_squared_error: 8.4358 - mean_absolute_error: 2.0609 - val_loss: 23.6082 - val_mean_squared_error: 23.6082 - val_mean_absolute_error: 3.0208\n",
            "Epoch 32/75\n",
            "404/404 [==============================] - 0s 156us/sample - loss: 8.4170 - mean_squared_error: 8.4170 - mean_absolute_error: 2.0526 - val_loss: 22.7447 - val_mean_squared_error: 22.7446 - val_mean_absolute_error: 2.9340\n",
            "Epoch 33/75\n",
            "404/404 [==============================] - 0s 180us/sample - loss: 8.1968 - mean_squared_error: 8.1968 - mean_absolute_error: 2.0082 - val_loss: 23.5349 - val_mean_squared_error: 23.5349 - val_mean_absolute_error: 3.0132\n",
            "Epoch 34/75\n",
            "404/404 [==============================] - 0s 174us/sample - loss: 8.1934 - mean_squared_error: 8.1934 - mean_absolute_error: 2.0379 - val_loss: 23.0768 - val_mean_squared_error: 23.0768 - val_mean_absolute_error: 2.9531\n",
            "Epoch 35/75\n",
            "404/404 [==============================] - 0s 202us/sample - loss: 8.1924 - mean_squared_error: 8.1924 - mean_absolute_error: 2.0033 - val_loss: 22.4310 - val_mean_squared_error: 22.4310 - val_mean_absolute_error: 3.0083\n",
            "Epoch 36/75\n",
            "404/404 [==============================] - 0s 193us/sample - loss: 7.8897 - mean_squared_error: 7.8897 - mean_absolute_error: 1.9758 - val_loss: 22.3408 - val_mean_squared_error: 22.3408 - val_mean_absolute_error: 2.8993\n",
            "Epoch 37/75\n",
            "404/404 [==============================] - 0s 190us/sample - loss: 7.9411 - mean_squared_error: 7.9411 - mean_absolute_error: 1.9735 - val_loss: 23.8354 - val_mean_squared_error: 23.8354 - val_mean_absolute_error: 3.0833\n",
            "Epoch 38/75\n",
            "404/404 [==============================] - 0s 193us/sample - loss: 8.0368 - mean_squared_error: 8.0368 - mean_absolute_error: 1.9986 - val_loss: 23.2909 - val_mean_squared_error: 23.2909 - val_mean_absolute_error: 2.9967\n",
            "Epoch 39/75\n",
            "404/404 [==============================] - 0s 177us/sample - loss: 7.6041 - mean_squared_error: 7.6041 - mean_absolute_error: 1.9608 - val_loss: 21.2532 - val_mean_squared_error: 21.2532 - val_mean_absolute_error: 2.8265\n",
            "Epoch 40/75\n",
            "404/404 [==============================] - 0s 165us/sample - loss: 7.5295 - mean_squared_error: 7.5295 - mean_absolute_error: 1.9292 - val_loss: 22.3428 - val_mean_squared_error: 22.3428 - val_mean_absolute_error: 2.9483\n",
            "Epoch 41/75\n",
            "404/404 [==============================] - 0s 165us/sample - loss: 7.4938 - mean_squared_error: 7.4938 - mean_absolute_error: 1.9396 - val_loss: 21.1857 - val_mean_squared_error: 21.1857 - val_mean_absolute_error: 2.8045\n",
            "Epoch 42/75\n",
            "404/404 [==============================] - 0s 178us/sample - loss: 7.4121 - mean_squared_error: 7.4121 - mean_absolute_error: 1.9314 - val_loss: 21.9634 - val_mean_squared_error: 21.9634 - val_mean_absolute_error: 2.9675\n",
            "Epoch 43/75\n",
            "404/404 [==============================] - 0s 148us/sample - loss: 7.3067 - mean_squared_error: 7.3067 - mean_absolute_error: 1.9001 - val_loss: 21.5005 - val_mean_squared_error: 21.5005 - val_mean_absolute_error: 2.8002\n",
            "Epoch 44/75\n",
            "404/404 [==============================] - 0s 147us/sample - loss: 7.1961 - mean_squared_error: 7.1961 - mean_absolute_error: 1.8913 - val_loss: 20.9712 - val_mean_squared_error: 20.9712 - val_mean_absolute_error: 2.7578\n",
            "Epoch 45/75\n",
            "404/404 [==============================] - 0s 172us/sample - loss: 7.2357 - mean_squared_error: 7.2357 - mean_absolute_error: 1.8661 - val_loss: 23.1038 - val_mean_squared_error: 23.1038 - val_mean_absolute_error: 2.9661\n",
            "Epoch 46/75\n",
            "404/404 [==============================] - 0s 151us/sample - loss: 7.2129 - mean_squared_error: 7.2129 - mean_absolute_error: 1.8873 - val_loss: 20.8456 - val_mean_squared_error: 20.8456 - val_mean_absolute_error: 2.7920\n",
            "Epoch 47/75\n",
            "404/404 [==============================] - 0s 150us/sample - loss: 6.9599 - mean_squared_error: 6.9599 - mean_absolute_error: 1.8666 - val_loss: 21.6388 - val_mean_squared_error: 21.6388 - val_mean_absolute_error: 2.8505\n",
            "Epoch 48/75\n",
            "404/404 [==============================] - 0s 159us/sample - loss: 7.0861 - mean_squared_error: 7.0861 - mean_absolute_error: 1.8928 - val_loss: 21.3049 - val_mean_squared_error: 21.3049 - val_mean_absolute_error: 2.8075\n",
            "Epoch 49/75\n",
            "404/404 [==============================] - 0s 171us/sample - loss: 6.9566 - mean_squared_error: 6.9566 - mean_absolute_error: 1.8859 - val_loss: 20.5137 - val_mean_squared_error: 20.5137 - val_mean_absolute_error: 2.7232\n",
            "Epoch 50/75\n",
            "404/404 [==============================] - 0s 177us/sample - loss: 6.6912 - mean_squared_error: 6.6912 - mean_absolute_error: 1.8094 - val_loss: 20.6473 - val_mean_squared_error: 20.6473 - val_mean_absolute_error: 2.7790\n",
            "Epoch 51/75\n",
            "404/404 [==============================] - 0s 192us/sample - loss: 6.7350 - mean_squared_error: 6.7350 - mean_absolute_error: 1.8485 - val_loss: 20.4785 - val_mean_squared_error: 20.4785 - val_mean_absolute_error: 2.7764\n",
            "Epoch 52/75\n",
            "404/404 [==============================] - 0s 178us/sample - loss: 6.5956 - mean_squared_error: 6.5956 - mean_absolute_error: 1.8364 - val_loss: 20.5005 - val_mean_squared_error: 20.5005 - val_mean_absolute_error: 2.8938\n",
            "Epoch 53/75\n",
            "404/404 [==============================] - 0s 155us/sample - loss: 6.9013 - mean_squared_error: 6.9013 - mean_absolute_error: 1.8517 - val_loss: 20.6342 - val_mean_squared_error: 20.6342 - val_mean_absolute_error: 2.7566\n",
            "Epoch 54/75\n",
            "404/404 [==============================] - 0s 148us/sample - loss: 6.6243 - mean_squared_error: 6.6243 - mean_absolute_error: 1.8405 - val_loss: 20.2845 - val_mean_squared_error: 20.2845 - val_mean_absolute_error: 2.7949\n",
            "Epoch 55/75\n",
            "404/404 [==============================] - 0s 176us/sample - loss: 6.3388 - mean_squared_error: 6.3388 - mean_absolute_error: 1.7686 - val_loss: 19.6506 - val_mean_squared_error: 19.6506 - val_mean_absolute_error: 2.7085\n",
            "Epoch 56/75\n",
            "404/404 [==============================] - 0s 144us/sample - loss: 6.2491 - mean_squared_error: 6.2491 - mean_absolute_error: 1.7516 - val_loss: 20.0971 - val_mean_squared_error: 20.0971 - val_mean_absolute_error: 2.8035\n",
            "Epoch 57/75\n",
            "404/404 [==============================] - 0s 164us/sample - loss: 6.2409 - mean_squared_error: 6.2409 - mean_absolute_error: 1.7830 - val_loss: 21.3017 - val_mean_squared_error: 21.3017 - val_mean_absolute_error: 2.8812\n",
            "Epoch 58/75\n",
            "404/404 [==============================] - 0s 174us/sample - loss: 6.4376 - mean_squared_error: 6.4376 - mean_absolute_error: 1.7533 - val_loss: 22.9790 - val_mean_squared_error: 22.9790 - val_mean_absolute_error: 3.0099\n",
            "Epoch 59/75\n",
            "404/404 [==============================] - 0s 184us/sample - loss: 6.2428 - mean_squared_error: 6.2428 - mean_absolute_error: 1.7861 - val_loss: 19.8351 - val_mean_squared_error: 19.8351 - val_mean_absolute_error: 2.7844\n",
            "Epoch 60/75\n",
            "404/404 [==============================] - 0s 180us/sample - loss: 6.0893 - mean_squared_error: 6.0893 - mean_absolute_error: 1.7531 - val_loss: 19.7602 - val_mean_squared_error: 19.7602 - val_mean_absolute_error: 2.7117\n",
            "Epoch 61/75\n",
            "404/404 [==============================] - 0s 177us/sample - loss: 6.0133 - mean_squared_error: 6.0133 - mean_absolute_error: 1.7121 - val_loss: 19.1606 - val_mean_squared_error: 19.1606 - val_mean_absolute_error: 2.7116\n",
            "Epoch 62/75\n",
            "404/404 [==============================] - 0s 181us/sample - loss: 5.9396 - mean_squared_error: 5.9396 - mean_absolute_error: 1.7158 - val_loss: 18.9462 - val_mean_squared_error: 18.9462 - val_mean_absolute_error: 2.6866\n",
            "Epoch 63/75\n",
            "404/404 [==============================] - 0s 191us/sample - loss: 5.9051 - mean_squared_error: 5.9051 - mean_absolute_error: 1.7118 - val_loss: 18.9412 - val_mean_squared_error: 18.9412 - val_mean_absolute_error: 2.6841\n",
            "Epoch 64/75\n",
            "404/404 [==============================] - 0s 179us/sample - loss: 5.6636 - mean_squared_error: 5.6636 - mean_absolute_error: 1.6783 - val_loss: 20.1937 - val_mean_squared_error: 20.1937 - val_mean_absolute_error: 2.7990\n",
            "Epoch 65/75\n",
            "404/404 [==============================] - 0s 179us/sample - loss: 5.7550 - mean_squared_error: 5.7550 - mean_absolute_error: 1.7212 - val_loss: 19.2684 - val_mean_squared_error: 19.2684 - val_mean_absolute_error: 2.7459\n",
            "Epoch 66/75\n",
            "404/404 [==============================] - 0s 177us/sample - loss: 5.6029 - mean_squared_error: 5.6029 - mean_absolute_error: 1.6866 - val_loss: 18.6313 - val_mean_squared_error: 18.6313 - val_mean_absolute_error: 2.7129\n",
            "Epoch 67/75\n",
            "404/404 [==============================] - 0s 151us/sample - loss: 5.5905 - mean_squared_error: 5.5905 - mean_absolute_error: 1.6600 - val_loss: 19.6025 - val_mean_squared_error: 19.6025 - val_mean_absolute_error: 2.7690\n",
            "Epoch 68/75\n",
            "404/404 [==============================] - 0s 155us/sample - loss: 5.7661 - mean_squared_error: 5.7661 - mean_absolute_error: 1.7132 - val_loss: 20.2422 - val_mean_squared_error: 20.2422 - val_mean_absolute_error: 2.8667\n",
            "Epoch 69/75\n",
            "404/404 [==============================] - 0s 156us/sample - loss: 5.2910 - mean_squared_error: 5.2910 - mean_absolute_error: 1.6502 - val_loss: 18.0623 - val_mean_squared_error: 18.0623 - val_mean_absolute_error: 2.6676\n",
            "Epoch 70/75\n",
            "404/404 [==============================] - 0s 194us/sample - loss: 5.6898 - mean_squared_error: 5.6898 - mean_absolute_error: 1.7219 - val_loss: 17.6706 - val_mean_squared_error: 17.6706 - val_mean_absolute_error: 2.6452\n",
            "Epoch 71/75\n",
            "404/404 [==============================] - 0s 189us/sample - loss: 5.5604 - mean_squared_error: 5.5604 - mean_absolute_error: 1.6622 - val_loss: 18.0637 - val_mean_squared_error: 18.0637 - val_mean_absolute_error: 2.6620\n",
            "Epoch 72/75\n",
            "404/404 [==============================] - 0s 177us/sample - loss: 5.4855 - mean_squared_error: 5.4855 - mean_absolute_error: 1.6831 - val_loss: 18.1549 - val_mean_squared_error: 18.1549 - val_mean_absolute_error: 2.6757\n",
            "Epoch 73/75\n",
            "404/404 [==============================] - 0s 177us/sample - loss: 5.3491 - mean_squared_error: 5.3491 - mean_absolute_error: 1.6221 - val_loss: 17.3189 - val_mean_squared_error: 17.3189 - val_mean_absolute_error: 2.6139\n",
            "Epoch 74/75\n",
            "404/404 [==============================] - 0s 181us/sample - loss: 5.3516 - mean_squared_error: 5.3516 - mean_absolute_error: 1.6700 - val_loss: 18.0365 - val_mean_squared_error: 18.0365 - val_mean_absolute_error: 2.6649\n",
            "Epoch 75/75\n",
            "404/404 [==============================] - 0s 175us/sample - loss: 5.1688 - mean_squared_error: 5.1688 - mean_absolute_error: 1.6477 - val_loss: 16.8836 - val_mean_squared_error: 16.8836 - val_mean_absolute_error: 2.6164\n"
          ],
          "name": "stdout"
        },
        {
          "output_type": "execute_result",
          "data": {
            "text/plain": [
              "<tensorflow.python.keras.callbacks.History at 0x7f54f266d4e0>"
            ]
          },
          "metadata": {
            "tags": []
          },
          "execution_count": 3
        }
      ]
    },
    {
      "cell_type": "markdown",
      "metadata": {
        "colab_type": "text",
        "id": "sYJ8t_ezHP4W"
      },
      "source": [
        "### Hyperparameter Tuning Approaches:\n",
        "\n",
        "#### 1) Babysitting AKA \"Grad Student Descent\".\n",
        "\n",
        "If you fiddled with any hyperparameters yesterday, this is basically what you did. This approach is 100% manual and is pretty common among researchers where finding that 1 exact specification that jumps your model to a level of accuracy never seen before is the difference between publishing and not publishing a paper. Of course the professors don't do this themselves, that's grunt work. This is also known as the fiddle with hyperparameters until you run out of time method.\n",
        "\n",
        "#### 2) Grid Search\n",
        "\n",
        "Grid Search is the Grad Student galaxy brain realization of: why don't I just specify all the experiments I want to run and let the computer try every possible combination of them while I go and grab lunch. This has a specific downside in that if I specify 5 hyperparameters with 5 options each then I've just created 5^5 combinations of hyperparameters to check. Which means that I have to train 3125 different versions of my model Then if I use 5-fold Cross Validation on that then my model has to run 15,525 times. This is the brute-force method of hyperparameter tuning, but it can be very profitable if done wisely. \n",
        "\n",
        "When using Grid Search here's what I suggest: don't use it to test combinations of different hyperparameters, only use it to test different specifications of **a single** hyperparameter. It's rare that combinations between different hyperparameters lead to big performance gains. You'll get 90-95% of the way there if you just Grid Search one parameter and take the best result, then retain that best result while you test another, and then retain the best specification from that while you train another. This at least makes the situation much more manageable and leads to pretty good results. \n",
        "\n",
        "#### 3) Random Search\n",
        "\n",
        "Do Grid Search for a couple of hours and you'll say to yourself - \"There's got to be a better way.\" Enter Random Search. For Random search you specify a hyperparameter space and it picks specifications from that randomly, tries them out, gives you the best results and says - That's going to have to be good enough, go home and spend time with your family. \n",
        "\n",
        "Grid Search treats every parameter as if it was equally important, but this just isn't the case, some are known to move the needle a lot more than others (we'll talk about that in a minute). Random Search allows searching to be specified along the most important parameter and experiments less along the dimensions of less important hyperparameters. The downside of Random search is that it won't find the absolute best hyperparameters, but it is much less costly to perform than Grid Search. \n",
        "\n",
        "#### 4) Bayesian Methods\n",
        "\n",
        "One thing that can make more manual methods like babysitting and gridsearch effective is that as the experimenter sees results he can then make updates to his future searches taking into account the results of past specifications. If only we could hyperparameter tune our hyperparameter tuning. Well, we kind of can. Enter Bayesian Optimization. Neural Networks are like an optimization problem within an optimization problem, and Bayesian Optimization is a search strategy that tries to take into account the results of past searches in order to improve future ones. This is the most advanced method but can be a little bit tricky to implement, but there are some early steps with `hyperas` which is Bayesian optimization wrapper for `keras`. "
      ]
    },
    {
      "cell_type": "markdown",
      "metadata": {
        "colab_type": "text",
        "id": "HfQ7D043OMMn"
      },
      "source": [
        "## What Hyperparameters are there to test?\n",
        "\n",
        "- batch_size\n",
        "- training epochs\n",
        "- optimization algorithms\n",
        "- learning rate\n",
        "- momentum\n",
        "- activation functions\n",
        "- dropout regularization\n",
        "- number of neurons in the hidden layer\n",
        "\n",
        "There are more, but these are the most important."
      ]
    },
    {
      "cell_type": "markdown",
      "metadata": {
        "id": "ZFSoauveS86Q",
        "colab_type": "text"
      },
      "source": [
        "## Follow Along"
      ]
    },
    {
      "cell_type": "markdown",
      "metadata": {
        "colab_type": "text",
        "id": "Mri5-kXzVKAa"
      },
      "source": [
        "## Batch Size\n",
        "\n",
        "Batch size determines how many observations the model is shown before it calculates loss/error and updates the model weights via gradient descent. You're looking for a sweet spot here where you're showing it enough observations that you have enough information to updates the weights, but not such a large batch size that you don't get a lot of weight update iterations performed in a given epoch. Feed-forward Neural Networks aren't as sensitive to bach_size as other networks, but it is still an important hyperparameter to tune. Smaller batch sizes will also take longer to train. "
      ]
    },
    {
      "cell_type": "code",
      "metadata": {
        "colab_type": "code",
        "id": "2smXfriNAGn7",
        "outputId": "c3e9771e-2077-415b-a231-2ef3b5987979",
        "colab": {
          "base_uri": "https://localhost:8080/",
          "height": 241
        }
      },
      "source": [
        "import numpy\n",
        "import pandas as pd\n",
        "from sklearn.model_selection import GridSearchCV\n",
        "from tensorflow.keras.models import Sequential\n",
        "from tensorflow.keras.layers import Dense\n",
        "from tensorflow.keras.wrappers.scikit_learn import KerasClassifier\n",
        "\n",
        "# fix random seed for reproducibility\n",
        "seed = 7\n",
        "numpy.random.seed(seed)\n",
        "\n",
        "# load dataset\n",
        "url =\"https://raw.githubusercontent.com/jbrownlee/Datasets/master/pima-indians-diabetes.data.csv\"\n",
        "\n",
        "dataset = pd.read_csv(url, header=None).values\n",
        "\n",
        "# split into input (X) and output (Y) variables\n",
        "X = dataset[:,0:8]\n",
        "Y = dataset[:,8]\n",
        "\n",
        "# Function to create model, required for KerasClassifier\n",
        "def create_model():\n",
        "    # create model\n",
        "    model = Sequential()\n",
        "    model.add(Dense(12, input_dim=8, activation='relu'))\n",
        "    model.add(Dense(1, activation='sigmoid'))\n",
        "    # Compile model\n",
        "    model.compile(loss='binary_crossentropy', optimizer='adam', metrics=['accuracy'])\n",
        "    return model\n",
        "\n",
        "# create model\n",
        "model = KerasClassifier(build_fn=create_model, verbose=0)\n",
        "\n",
        "# define the grid search parameters\n",
        "# batch_size = [10, 20, 40, 60, 80, 100]\n",
        "# param_grid = dict(batch_size=batch_size, epochs=epochs)\n",
        "\n",
        "# define the grid search parameters\n",
        "param_grid = {'batch_size': [10, 20, 40, 60, 80, 100],\n",
        "              'epochs': [20]}\n",
        "\n",
        "# Create Grid Search\n",
        "grid = GridSearchCV(estimator=model, param_grid=param_grid, n_jobs=1)\n",
        "grid_result = grid.fit(X, Y)\n",
        "\n",
        "# Report Results\n",
        "print(f\"Best: {grid_result.best_score_} using {grid_result.best_params_}\")\n",
        "means = grid_result.cv_results_['mean_test_score']\n",
        "stds = grid_result.cv_results_['std_test_score']\n",
        "params = grid_result.cv_results_['params']\n",
        "for mean, stdev, param in zip(means, stds, params):\n",
        "    print(f\"Means: {mean}, Stdev: {stdev} with: {param}\") "
      ],
      "execution_count": 4,
      "outputs": [
        {
          "output_type": "stream",
          "text": [
            "WARNING:tensorflow:From /usr/local/lib/python3.6/dist-packages/tensorflow_core/python/ops/nn_impl.py:183: where (from tensorflow.python.ops.array_ops) is deprecated and will be removed in a future version.\n",
            "Instructions for updating:\n",
            "Use tf.where in 2.0, which has the same broadcast rule as np.where\n"
          ],
          "name": "stdout"
        },
        {
          "output_type": "stream",
          "text": [
            "/usr/local/lib/python3.6/dist-packages/sklearn/model_selection/_split.py:1978: FutureWarning: The default value of cv will change from 3 to 5 in version 0.22. Specify it explicitly to silence this warning.\n",
            "  warnings.warn(CV_WARNING, FutureWarning)\n"
          ],
          "name": "stderr"
        },
        {
          "output_type": "stream",
          "text": [
            "Best: 0.66015625 using {'batch_size': 10, 'epochs': 20}\n",
            "Means: 0.66015625, Stdev: 0.00637887953849786 with: {'batch_size': 10, 'epochs': 20}\n",
            "Means: 0.53515625, Stdev: 0.11352792825904852 with: {'batch_size': 20, 'epochs': 20}\n",
            "Means: 0.5690104166666666, Stdev: 0.03513212907091677 with: {'batch_size': 40, 'epochs': 20}\n",
            "Means: 0.57421875, Stdev: 0.0318943976924893 with: {'batch_size': 60, 'epochs': 20}\n",
            "Means: 0.61328125, Stdev: 0.041462717000236085 with: {'batch_size': 80, 'epochs': 20}\n",
            "Means: 0.5716145833333334, Stdev: 0.027125868041666223 with: {'batch_size': 100, 'epochs': 20}\n"
          ],
          "name": "stdout"
        }
      ]
    },
    {
      "cell_type": "markdown",
      "metadata": {
        "colab_type": "text",
        "id": "pmABfjlvXbqi"
      },
      "source": [
        "## Epochs\n",
        "\n",
        "The number of training epochs has a large and direct affect on the accuracy, However, more epochs is almost always goign to better than less epochs. This means that if you tune this parameter at the beginning and try and maintain the same value all throughout your training, you're going to be waiting a long time for each iteration of GridSearch. I suggest picking a fixed moderat # of epochs all throughout your training and then Grid Searching this parameter at the very end. "
      ]
    },
    {
      "cell_type": "code",
      "metadata": {
        "colab_type": "code",
        "id": "bAmxP3N7TmFh",
        "outputId": "7cddf4df-0c7e-48d4-815f-dfab99f14a5a",
        "colab": {
          "base_uri": "https://localhost:8080/",
          "height": 156
        }
      },
      "source": [
        "# define the grid search parameters\n",
        "param_grid = {'batch_size': [20],\n",
        "              'epochs': [20, 40, 60,200]}\n",
        "\n",
        "# Create Grid Search\n",
        "grid = GridSearchCV(estimator=model, param_grid=param_grid, n_jobs=1) # no parallel computing allowed\n",
        "grid_result = grid.fit(X, Y)\n",
        "\n",
        "# Report Results\n",
        "print(f\"Best: {grid_result.best_score_} using {grid_result.best_params_}\")\n",
        "means = grid_result.cv_results_['mean_test_score']\n",
        "stds = grid_result.cv_results_['std_test_score']\n",
        "params = grid_result.cv_results_['params']\n",
        "for mean, stdev, param in zip(means, stds, params):\n",
        "    print(f\"Means: {mean}, Stdev: {stdev} with: {param}\")"
      ],
      "execution_count": 5,
      "outputs": [
        {
          "output_type": "stream",
          "text": [
            "/usr/local/lib/python3.6/dist-packages/sklearn/model_selection/_split.py:1978: FutureWarning: The default value of cv will change from 3 to 5 in version 0.22. Specify it explicitly to silence this warning.\n",
            "  warnings.warn(CV_WARNING, FutureWarning)\n"
          ],
          "name": "stderr"
        },
        {
          "output_type": "stream",
          "text": [
            "Best: 0.7265625 using {'batch_size': 20, 'epochs': 200}\n",
            "Means: 0.6263020833333334, Stdev: 0.027125868041666223 with: {'batch_size': 20, 'epochs': 20}\n",
            "Means: 0.6471354166666666, Stdev: 0.032578114591658346 with: {'batch_size': 20, 'epochs': 40}\n",
            "Means: 0.6458333333333334, Stdev: 0.021236336497786574 with: {'batch_size': 20, 'epochs': 60}\n",
            "Means: 0.7265625, Stdev: 0.01940060472103039 with: {'batch_size': 20, 'epochs': 200}\n"
          ],
          "name": "stdout"
        }
      ]
    },
    {
      "cell_type": "markdown",
      "metadata": {
        "colab_type": "text",
        "id": "EKcuY6OiaLfz"
      },
      "source": [
        "## Optimizer\n",
        "\n",
        "Remember that there's a different optimizers [optimizers](https://keras.io/optimizers/). At some point, take some time to read up on them a little bit. \"adam\" usually gives the best results. The thing to know about choosing an optimizer is that different optimizers have different hyperparameters like learning rate, momentum, etc. So based on the optimizer you choose you might also have to tune the learning rate and momentum of those optimizers after that. "
      ]
    },
    {
      "cell_type": "markdown",
      "metadata": {
        "colab_type": "text",
        "id": "DG3wq5iOaLig"
      },
      "source": [
        "## Learning Rate\n",
        "\n",
        "Remember that the Learning Rate is a hyperparameter that is specific to your gradient-descent based optimizer selection. A learning rate that is too high will cause divergent behavior, but a Learning Rate that is too low will fail to converge, again, you're looking for the sweet spot. I would start out tuning learning rates by orders of magnitude: [.001, .01, .1, .2, .3, .5] etc. I wouldn't go above .5, but you can try it and see what the behavior is like. \n",
        "\n",
        "Once you have narrowed it down, make the window even smaller and try it again. If after running the above specification your model reports that .1 is the best optimizer, then you should probably try things like [.05, .08, .1, .12, .15] to try and narrow it down. \n",
        "\n",
        "It can also be good to tune the number of epochs in combination with the learning rate since the number of iterations that you allow the learning rate to reach the minimum can determine if you have let it run long enough to converge to the minimum. "
      ]
    },
    {
      "cell_type": "markdown",
      "metadata": {
        "colab_type": "text",
        "id": "gNTBUWd1aLlA"
      },
      "source": [
        "## Momentum\n",
        "\n",
        "Momentum is a hyperparameter that is more commonly associated with Stochastic Gradient Descent. SGD is a common optimizer because it's what people understand and know, but I doubt it will get you the best results, you can try hyperparameter tuning its attributes and see if you can beat the performance from adam. Momentum is a property that decides the willingness of an optimizer to overshoot the minimum. Imagine a ball rolling down one side of a bowl and then up the opposite side a little bit before settling back to the bottom. The purpose of momentum is to try and escale local minima."
      ]
    },
    {
      "cell_type": "markdown",
      "metadata": {
        "colab_type": "text",
        "id": "xnEG-bCJaLnZ"
      },
      "source": [
        "## Activation Functions\n",
        "\n",
        "We've talked about this a little bit, typically you'l want to use ReLU for hidden layers and either Sigmoid, or Softmax for output layers of binary and multi-class classification implementations respectively, but try other activation functions and see if you can get any better results with sigmoid or tanh or something. There are a lot of activation functions that we haven't really talked about. Maybe you'll get good results with them. Maybe you won't. :) <https://keras.io/activations/>"
      ]
    },
    {
      "cell_type": "markdown",
      "metadata": {
        "colab_type": "text",
        "id": "oul9sPq-dU-h"
      },
      "source": [
        "## Network Weight Initialization\n",
        "\n",
        "You saw how big of an effect the way that we initialize our network's weights can have on our results. There are **a lot** of what are called initialization modes. I don't understand all of them, but they can have a big affect on your model's initial accuracy. Your model will get further with less epochs if you initialize it with weights that are well suited to the problem you're trying to solve.\n",
        "\n",
        "`init_mode = ['uniform', 'lecun_uniform', 'normal', 'zero', 'glorot_normal', 'glorot_uniform', 'he_normal', 'he_uniform']`"
      ]
    },
    {
      "cell_type": "markdown",
      "metadata": {
        "colab_type": "text",
        "id": "bqtEuxeQaLqE"
      },
      "source": [
        "## Dropout Regularization and the Weight Constraint\n",
        "\n",
        "the Dropout Regularization value is a percentage of neurons that you want to be randomly deactivated during training. The weight constraint is a second regularization parameter that works in tandem with dropout regularization. You should tune these two values at the same time. \n",
        "\n",
        "Using dropout on visible vs hidden layers might have a different effect. Using dropout on hidden layers might not have any effect while using dropout on hidden layers might have a substantial effect. You don't necessarily need to turn use dropout unless you see that your model has overfitting and generalizability problems."
      ]
    },
    {
      "cell_type": "markdown",
      "metadata": {
        "colab_type": "text",
        "id": "P2c5Cv6oaLtO"
      },
      "source": [
        "## Neurons in Hidden Layer \n",
        "\n",
        "Remember that when we only had a single perceptron our model was only able to fit to linearly separable data, but as we have added layers and nodes to those layers our network has become a powerhouse of fitting nonlinearity in data. The larger the network and the more nodes generally the stronger the network's capacity to fit nonlinear patterns in data. The more nodes and layers the longer it will take to train a network, and higher the probability of overfitting. The larger your network gets the more you'll need dropout regularization or other regularization techniques to keep it in check. \n",
        "\n",
        "Typically depth (more layers) is more important than width (more nodes) for neural networks. This is part of why Deep Learning is so highly touted. Certain deep learning architectures have truly been huge breakthroughs for certain machine learning tasks. \n",
        "\n",
        "You might borrow ideas from other network architectures. For example if I was doing image recognition and I wasn't taking cues from state of the art architectures like resnet, alexnet, googlenet, etc. Then I'm probably going to have to do a lot more experimentation on my own before I find something that works.\n",
        "\n",
        "There are some heuristics, but I am highly skeptical of them. I think you're better off experimenting on your own and forming your own intuition for these kinds of problems. \n",
        "\n",
        "- https://machinelearningmastery.com/how-to-configure-the-number-of-layers-and-nodes-in-a-neural-network/"
      ]
    },
    {
      "cell_type": "markdown",
      "metadata": {
        "id": "jHprLF7_S87C",
        "colab_type": "text"
      },
      "source": [
        "## Challenge\n",
        "You will be expected to tune several hyperparameters in today's module project. "
      ]
    },
    {
      "cell_type": "markdown",
      "metadata": {
        "id": "XDxJqh4LS87D",
        "colab_type": "text"
      },
      "source": [
        "# Experiment Tracking Framework (Learn)\n",
        "<a id=\"p2\"></a>"
      ]
    },
    {
      "cell_type": "markdown",
      "metadata": {
        "id": "0-mYP146S87G",
        "colab_type": "text"
      },
      "source": [
        "## Overview\n",
        "\n",
        "You will notice quickly that managing the results of all the experiments you are running becomes challenging. Which set of parameters did the best? Are my results today different than my results yesterday? Although we use Ipython Notebooks to work, the format is not well suited to logging experimental results. Enter experiment tracking frameworks like [Comet.ml](https://comet.ml) and [Weights and Biases](https://wandb.ai/).\n",
        "\n",
        "Those tools will help you track your experiments, store the results, and the code associated with those experiments. Experimental results can also be readily visualized to see changes in performance across any metric you care about. Data is sent to the tool as each epoch is completed, so you can also see if your model is converging. Let's check out Weights & Biases today. "
      ]
    },
    {
      "cell_type": "markdown",
      "metadata": {
        "id": "hVHaVf73S87M",
        "colab_type": "text"
      },
      "source": [
        "## Follow Along\n",
        "\n",
        "Make sure you login into `wandb` in the terminal before running the next cell. "
      ]
    },
    {
      "cell_type": "code",
      "metadata": {
        "id": "-L27eDeRcLmy",
        "colab_type": "code",
        "colab": {}
      },
      "source": [
        "!pip install wandb"
      ],
      "execution_count": 0,
      "outputs": []
    },
    {
      "cell_type": "code",
      "metadata": {
        "id": "q7DWJxufS87Q",
        "colab_type": "code",
        "colab": {}
      },
      "source": [
        "import wandb\n",
        "from wandb.keras import WandbCallback"
      ],
      "execution_count": 0,
      "outputs": []
    },
    {
      "cell_type": "code",
      "metadata": {
        "id": "A4H5pGDEdC_J",
        "colab_type": "code",
        "colab": {
          "base_uri": "https://localhost:8080/",
          "height": 51
        },
        "outputId": "6b88fae6-dffb-4cdd-eb3a-42248afc21cf"
      },
      "source": [
        "!wandb login c2fcbbfa1861b21244c9582f83607ccb07d41512"
      ],
      "execution_count": 9,
      "outputs": [
        {
          "output_type": "stream",
          "text": [
            "\u001b[34m\u001b[1mwandb\u001b[0m: Appending key for api.wandb.ai to your netrc file: /root/.netrc\n",
            "\u001b[32mSuccessfully logged in to Weights & Biases!\u001b[0m\n"
          ],
          "name": "stdout"
        }
      ]
    },
    {
      "cell_type": "code",
      "metadata": {
        "colab_type": "code",
        "outputId": "780699c9-08d3-4dae-c2e2-0899847a9cfb",
        "id": "CGnBbCdvS87e",
        "colab": {
          "base_uri": "https://localhost:8080/",
          "height": 1000
        }
      },
      "source": [
        "wandb.init(project=\"inclass\", entity=\"ds8\") #Initializes and Experiment\n",
        "\n",
        "# Important Hyperparameters\n",
        "X =  x_train\n",
        "y =  y_train\n",
        "\n",
        "inputs = X.shape[1]\n",
        "wandb.config.epochs = 50\n",
        "wandb.config.batch_size = 10\n",
        "\n",
        "# Create Model\n",
        "model = Sequential()\n",
        "model.add(Dense(64, activation='relu', input_shape=(inputs,)))\n",
        "model.add(Dense(64, activation='relu'))\n",
        "model.add(Dense(64, activation='relu'))\n",
        "model.add(Dense(1))\n",
        "# Compile Model\n",
        "model.compile(optimizer='adam', loss='mse', metrics=['mse', 'mae'])\n",
        "\n",
        "# Fit Model\n",
        "model.fit(X, y, \n",
        "          validation_split=0.33, \n",
        "          epochs=wandb.config.epochs, \n",
        "          batch_size=wandb.config.batch_size, \n",
        "          callbacks=[WandbCallback()]\n",
        "         )"
      ],
      "execution_count": 0,
      "outputs": [
        {
          "output_type": "display_data",
          "data": {
            "text/html": [
              "\n",
              "                Logging results to <a href=\"https://wandb.com\" target=\"_blank\">Weights & Biases</a> <a href=\"https://docs.wandb.com/integrations/jupyter.html\" target=\"_blank\">(Documentation)</a>.<br/>\n",
              "                Project page: <a href=\"https://app.wandb.ai/ds8/inclass\" target=\"_blank\">https://app.wandb.ai/ds8/inclass</a><br/>\n",
              "                Run page: <a href=\"https://app.wandb.ai/ds8/inclass/runs/01yd3e99\" target=\"_blank\">https://app.wandb.ai/ds8/inclass/runs/01yd3e99</a><br/>\n",
              "            "
            ],
            "text/plain": [
              "<IPython.core.display.HTML object>"
            ]
          },
          "metadata": {
            "tags": []
          }
        },
        {
          "output_type": "stream",
          "text": [
            "Train on 270 samples, validate on 134 samples\n",
            "Epoch 1/50\n",
            "270/270 [==============================] - 3s 12ms/sample - loss: 524.0320 - mean_squared_error: 524.0320 - mean_absolute_error: 21.1433 - val_loss: 553.4393 - val_mean_squared_error: 553.4393 - val_mean_absolute_error: 21.3890\n",
            "Epoch 2/50\n",
            "270/270 [==============================] - 0s 384us/sample - loss: 330.3588 - mean_squared_error: 330.3589 - mean_absolute_error: 15.8659 - val_loss: 194.8904 - val_mean_squared_error: 194.8905 - val_mean_absolute_error: 10.8743\n",
            "Epoch 3/50\n",
            "270/270 [==============================] - 0s 418us/sample - loss: 77.9220 - mean_squared_error: 77.9220 - mean_absolute_error: 6.7097 - val_loss: 78.7321 - val_mean_squared_error: 78.7321 - val_mean_absolute_error: 6.6526\n",
            "Epoch 4/50\n",
            "270/270 [==============================] - 0s 423us/sample - loss: 39.8911 - mean_squared_error: 39.8911 - mean_absolute_error: 4.7382 - val_loss: 47.2148 - val_mean_squared_error: 47.2148 - val_mean_absolute_error: 4.7500\n",
            "Epoch 5/50\n",
            "270/270 [==============================] - 0s 455us/sample - loss: 23.6981 - mean_squared_error: 23.6981 - mean_absolute_error: 3.6560 - val_loss: 35.8821 - val_mean_squared_error: 35.8821 - val_mean_absolute_error: 3.8925\n",
            "Epoch 6/50\n",
            "270/270 [==============================] - 0s 402us/sample - loss: 18.5663 - mean_squared_error: 18.5663 - mean_absolute_error: 3.2309 - val_loss: 30.5943 - val_mean_squared_error: 30.5943 - val_mean_absolute_error: 3.5115\n",
            "Epoch 7/50\n",
            "270/270 [==============================] - 0s 404us/sample - loss: 15.9504 - mean_squared_error: 15.9504 - mean_absolute_error: 2.9778 - val_loss: 25.6629 - val_mean_squared_error: 25.6629 - val_mean_absolute_error: 3.1784\n",
            "Epoch 8/50\n",
            "270/270 [==============================] - 0s 373us/sample - loss: 13.9589 - mean_squared_error: 13.9589 - mean_absolute_error: 2.7550 - val_loss: 24.4281 - val_mean_squared_error: 24.4281 - val_mean_absolute_error: 3.0847\n",
            "Epoch 9/50\n",
            "270/270 [==============================] - 0s 376us/sample - loss: 12.9173 - mean_squared_error: 12.9173 - mean_absolute_error: 2.6735 - val_loss: 23.1688 - val_mean_squared_error: 23.1688 - val_mean_absolute_error: 3.0234\n",
            "Epoch 10/50\n",
            "270/270 [==============================] - 0s 386us/sample - loss: 12.0620 - mean_squared_error: 12.0620 - mean_absolute_error: 2.5757 - val_loss: 20.9760 - val_mean_squared_error: 20.9760 - val_mean_absolute_error: 2.8939\n",
            "Epoch 11/50\n",
            "270/270 [==============================] - 0s 448us/sample - loss: 10.9758 - mean_squared_error: 10.9758 - mean_absolute_error: 2.4768 - val_loss: 19.1968 - val_mean_squared_error: 19.1968 - val_mean_absolute_error: 2.8041\n",
            "Epoch 12/50\n",
            "270/270 [==============================] - 0s 356us/sample - loss: 10.1757 - mean_squared_error: 10.1757 - mean_absolute_error: 2.3701 - val_loss: 18.6804 - val_mean_squared_error: 18.6804 - val_mean_absolute_error: 2.8000\n",
            "Epoch 13/50\n",
            "270/270 [==============================] - 0s 394us/sample - loss: 10.0498 - mean_squared_error: 10.0498 - mean_absolute_error: 2.3678 - val_loss: 18.5684 - val_mean_squared_error: 18.5684 - val_mean_absolute_error: 2.8260\n",
            "Epoch 14/50\n",
            "270/270 [==============================] - 0s 423us/sample - loss: 9.4653 - mean_squared_error: 9.4653 - mean_absolute_error: 2.3115 - val_loss: 16.4512 - val_mean_squared_error: 16.4512 - val_mean_absolute_error: 2.7240\n",
            "Epoch 15/50\n",
            "270/270 [==============================] - 0s 330us/sample - loss: 8.8690 - mean_squared_error: 8.8690 - mean_absolute_error: 2.2395 - val_loss: 17.0045 - val_mean_squared_error: 17.0045 - val_mean_absolute_error: 2.8231\n",
            "Epoch 16/50\n",
            "270/270 [==============================] - 0s 403us/sample - loss: 8.6771 - mean_squared_error: 8.6771 - mean_absolute_error: 2.1931 - val_loss: 15.6505 - val_mean_squared_error: 15.6505 - val_mean_absolute_error: 2.6849\n",
            "Epoch 17/50\n",
            "270/270 [==============================] - 0s 302us/sample - loss: 8.1604 - mean_squared_error: 8.1604 - mean_absolute_error: 2.1377 - val_loss: 16.6974 - val_mean_squared_error: 16.6974 - val_mean_absolute_error: 2.7746\n",
            "Epoch 18/50\n",
            "270/270 [==============================] - 0s 377us/sample - loss: 7.9103 - mean_squared_error: 7.9103 - mean_absolute_error: 2.1275 - val_loss: 15.6049 - val_mean_squared_error: 15.6049 - val_mean_absolute_error: 2.7224\n",
            "Epoch 19/50\n",
            "270/270 [==============================] - 0s 411us/sample - loss: 8.1978 - mean_squared_error: 8.1978 - mean_absolute_error: 2.1616 - val_loss: 15.4211 - val_mean_squared_error: 15.4211 - val_mean_absolute_error: 2.7006\n",
            "Epoch 20/50\n",
            "270/270 [==============================] - 0s 416us/sample - loss: 7.8627 - mean_squared_error: 7.8627 - mean_absolute_error: 2.1314 - val_loss: 15.4057 - val_mean_squared_error: 15.4057 - val_mean_absolute_error: 2.7052\n",
            "Epoch 21/50\n",
            "270/270 [==============================] - 0s 329us/sample - loss: 7.7983 - mean_squared_error: 7.7983 - mean_absolute_error: 2.0883 - val_loss: 16.6327 - val_mean_squared_error: 16.6327 - val_mean_absolute_error: 2.8528\n",
            "Epoch 22/50\n",
            "270/270 [==============================] - 0s 371us/sample - loss: 7.4728 - mean_squared_error: 7.4728 - mean_absolute_error: 2.0421 - val_loss: 14.4169 - val_mean_squared_error: 14.4169 - val_mean_absolute_error: 2.5518\n",
            "Epoch 23/50\n",
            "270/270 [==============================] - 0s 294us/sample - loss: 6.8416 - mean_squared_error: 6.8416 - mean_absolute_error: 1.9554 - val_loss: 14.8163 - val_mean_squared_error: 14.8163 - val_mean_absolute_error: 2.6308\n",
            "Epoch 24/50\n",
            "270/270 [==============================] - 0s 306us/sample - loss: 6.9031 - mean_squared_error: 6.9031 - mean_absolute_error: 1.9524 - val_loss: 15.4647 - val_mean_squared_error: 15.4647 - val_mean_absolute_error: 2.7153\n",
            "Epoch 25/50\n",
            "270/270 [==============================] - 0s 369us/sample - loss: 7.0135 - mean_squared_error: 7.0135 - mean_absolute_error: 1.9448 - val_loss: 15.8970 - val_mean_squared_error: 15.8970 - val_mean_absolute_error: 2.7400\n",
            "Epoch 26/50\n",
            "270/270 [==============================] - 0s 339us/sample - loss: 6.6583 - mean_squared_error: 6.6583 - mean_absolute_error: 1.9099 - val_loss: 16.6254 - val_mean_squared_error: 16.6254 - val_mean_absolute_error: 2.8316\n",
            "Epoch 27/50\n",
            "270/270 [==============================] - 0s 341us/sample - loss: 6.4265 - mean_squared_error: 6.4265 - mean_absolute_error: 1.8624 - val_loss: 15.3380 - val_mean_squared_error: 15.3380 - val_mean_absolute_error: 2.6845\n",
            "Epoch 28/50\n",
            "270/270 [==============================] - 0s 343us/sample - loss: 6.3203 - mean_squared_error: 6.3203 - mean_absolute_error: 1.9114 - val_loss: 14.4637 - val_mean_squared_error: 14.4637 - val_mean_absolute_error: 2.5913\n",
            "Epoch 29/50\n",
            "270/270 [==============================] - 0s 412us/sample - loss: 5.7944 - mean_squared_error: 5.7944 - mean_absolute_error: 1.7813 - val_loss: 14.1071 - val_mean_squared_error: 14.1071 - val_mean_absolute_error: 2.5258\n",
            "Epoch 30/50\n",
            "270/270 [==============================] - 0s 331us/sample - loss: 6.0891 - mean_squared_error: 6.0891 - mean_absolute_error: 1.8521 - val_loss: 14.1467 - val_mean_squared_error: 14.1467 - val_mean_absolute_error: 2.5395\n",
            "Epoch 31/50\n",
            "270/270 [==============================] - 0s 294us/sample - loss: 5.8866 - mean_squared_error: 5.8866 - mean_absolute_error: 1.7877 - val_loss: 14.4417 - val_mean_squared_error: 14.4417 - val_mean_absolute_error: 2.5815\n",
            "Epoch 32/50\n",
            "270/270 [==============================] - 0s 294us/sample - loss: 5.5894 - mean_squared_error: 5.5894 - mean_absolute_error: 1.7987 - val_loss: 14.9665 - val_mean_squared_error: 14.9665 - val_mean_absolute_error: 2.6714\n",
            "Epoch 33/50\n",
            "270/270 [==============================] - 0s 376us/sample - loss: 5.2768 - mean_squared_error: 5.2768 - mean_absolute_error: 1.7024 - val_loss: 13.5601 - val_mean_squared_error: 13.5601 - val_mean_absolute_error: 2.4549\n",
            "Epoch 34/50\n",
            "270/270 [==============================] - 0s 302us/sample - loss: 5.3541 - mean_squared_error: 5.3541 - mean_absolute_error: 1.7229 - val_loss: 14.3823 - val_mean_squared_error: 14.3823 - val_mean_absolute_error: 2.5753\n",
            "Epoch 35/50\n",
            "270/270 [==============================] - 0s 302us/sample - loss: 5.2104 - mean_squared_error: 5.2104 - mean_absolute_error: 1.7173 - val_loss: 14.1256 - val_mean_squared_error: 14.1256 - val_mean_absolute_error: 2.5541\n",
            "Epoch 36/50\n",
            "270/270 [==============================] - 0s 303us/sample - loss: 5.1267 - mean_squared_error: 5.1267 - mean_absolute_error: 1.6354 - val_loss: 14.8178 - val_mean_squared_error: 14.8178 - val_mean_absolute_error: 2.6467\n",
            "Epoch 37/50\n",
            "270/270 [==============================] - 0s 300us/sample - loss: 4.9928 - mean_squared_error: 4.9928 - mean_absolute_error: 1.6760 - val_loss: 13.9970 - val_mean_squared_error: 13.9970 - val_mean_absolute_error: 2.5544\n",
            "Epoch 38/50\n",
            "270/270 [==============================] - 0s 305us/sample - loss: 4.9624 - mean_squared_error: 4.9624 - mean_absolute_error: 1.6190 - val_loss: 13.9250 - val_mean_squared_error: 13.9250 - val_mean_absolute_error: 2.5406\n",
            "Epoch 39/50\n",
            "270/270 [==============================] - 0s 344us/sample - loss: 5.1450 - mean_squared_error: 5.1450 - mean_absolute_error: 1.7188 - val_loss: 13.6406 - val_mean_squared_error: 13.6406 - val_mean_absolute_error: 2.5049\n",
            "Epoch 40/50\n",
            "270/270 [==============================] - 0s 354us/sample - loss: 5.1361 - mean_squared_error: 5.1361 - mean_absolute_error: 1.6906 - val_loss: 14.7132 - val_mean_squared_error: 14.7132 - val_mean_absolute_error: 2.6490\n",
            "Epoch 41/50\n",
            "270/270 [==============================] - 0s 380us/sample - loss: 4.7450 - mean_squared_error: 4.7450 - mean_absolute_error: 1.6091 - val_loss: 13.3560 - val_mean_squared_error: 13.3560 - val_mean_absolute_error: 2.4640\n",
            "Epoch 42/50\n",
            "270/270 [==============================] - 0s 286us/sample - loss: 4.4122 - mean_squared_error: 4.4122 - mean_absolute_error: 1.5171 - val_loss: 13.6461 - val_mean_squared_error: 13.6461 - val_mean_absolute_error: 2.5243\n",
            "Epoch 43/50\n",
            "270/270 [==============================] - 0s 333us/sample - loss: 4.4502 - mean_squared_error: 4.4502 - mean_absolute_error: 1.5786 - val_loss: 13.9937 - val_mean_squared_error: 13.9937 - val_mean_absolute_error: 2.5528\n",
            "Epoch 44/50\n",
            "270/270 [==============================] - 0s 301us/sample - loss: 4.6655 - mean_squared_error: 4.6655 - mean_absolute_error: 1.6057 - val_loss: 13.9945 - val_mean_squared_error: 13.9945 - val_mean_absolute_error: 2.5582\n",
            "Epoch 45/50\n",
            "270/270 [==============================] - 0s 303us/sample - loss: 4.3403 - mean_squared_error: 4.3403 - mean_absolute_error: 1.5454 - val_loss: 13.6134 - val_mean_squared_error: 13.6134 - val_mean_absolute_error: 2.5223\n",
            "Epoch 46/50\n",
            "270/270 [==============================] - 0s 414us/sample - loss: 4.2380 - mean_squared_error: 4.2380 - mean_absolute_error: 1.5177 - val_loss: 13.3367 - val_mean_squared_error: 13.3367 - val_mean_absolute_error: 2.4924\n",
            "Epoch 47/50\n",
            "270/270 [==============================] - 0s 377us/sample - loss: 3.9553 - mean_squared_error: 3.9553 - mean_absolute_error: 1.4651 - val_loss: 13.4226 - val_mean_squared_error: 13.4226 - val_mean_absolute_error: 2.4915\n",
            "Epoch 48/50\n",
            "270/270 [==============================] - 0s 422us/sample - loss: 3.9201 - mean_squared_error: 3.9201 - mean_absolute_error: 1.4636 - val_loss: 13.2415 - val_mean_squared_error: 13.2415 - val_mean_absolute_error: 2.4526\n",
            "Epoch 49/50\n",
            "270/270 [==============================] - 0s 348us/sample - loss: 3.7241 - mean_squared_error: 3.7241 - mean_absolute_error: 1.4247 - val_loss: 13.3678 - val_mean_squared_error: 13.3678 - val_mean_absolute_error: 2.4491\n",
            "Epoch 50/50\n",
            "270/270 [==============================] - 0s 303us/sample - loss: 4.3217 - mean_squared_error: 4.3217 - mean_absolute_error: 1.5391 - val_loss: 14.0952 - val_mean_squared_error: 14.0952 - val_mean_absolute_error: 2.6025\n"
          ],
          "name": "stdout"
        },
        {
          "output_type": "execute_result",
          "data": {
            "text/plain": [
              "<tensorflow.python.keras.callbacks.History at 0x7f54de57ba58>"
            ]
          },
          "metadata": {
            "tags": []
          },
          "execution_count": 13
        }
      ]
    },
    {
      "cell_type": "markdown",
      "metadata": {
        "id": "e7wsMkZzS87r",
        "colab_type": "text"
      },
      "source": [
        "## Challenge\n",
        "\n",
        "You will be expected to use Weights & Biases to try to tune your model during your module assignment today. "
      ]
    },
    {
      "cell_type": "markdown",
      "metadata": {
        "id": "tbS_FWRHS87u",
        "colab_type": "text"
      },
      "source": [
        "# Hyperparameters with RandomSearchCV (Learn)"
      ]
    },
    {
      "cell_type": "markdown",
      "metadata": {
        "id": "aQs9EFzkS872",
        "colab_type": "text"
      },
      "source": [
        "## Overview\n",
        "\n",
        "Basically `GridSearchCV` takes forever. You'll want to adopt a slightly more sophiscated strategy."
      ]
    },
    {
      "cell_type": "markdown",
      "metadata": {
        "id": "LPFshqvRS87_",
        "colab_type": "text"
      },
      "source": [
        "## Follow Along"
      ]
    },
    {
      "cell_type": "code",
      "metadata": {
        "id": "Oy9SKNCtS88C",
        "colab_type": "code",
        "colab": {}
      },
      "source": [
        "sweep_config = {\n",
        "    'method': 'random',\n",
        "    'parameters': {\n",
        "        'learning_rate': {'distribution': 'normal'},\n",
        "        'epochs': {'distribution': 'uniform',\n",
        "                    'min': 100,\n",
        "                    'max': 1000},\n",
        "        'batch_size': {'distribution': 'uniform',\n",
        "            'min': 10,\n",
        "            'max': 400}\n",
        "    }\n",
        "}"
      ],
      "execution_count": 0,
      "outputs": []
    },
    {
      "cell_type": "code",
      "metadata": {
        "id": "Xz6iaWMiS88S",
        "colab_type": "code",
        "colab": {},
        "outputId": "af7746a0-395f-477c-9f17-63204822e615"
      },
      "source": [
        "sweep_id = wandb.sweep(sweep_config)"
      ],
      "execution_count": 0,
      "outputs": [
        {
          "output_type": "stream",
          "text": [
            "Create sweep with ID: huau0u9r\n",
            "Sweep URL: https://app.wandb.ai/lambda-ds7/boston/sweeps/huau0u9r\n"
          ],
          "name": "stdout"
        }
      ]
    },
    {
      "cell_type": "code",
      "metadata": {
        "id": "gs12x3uxS88k",
        "colab_type": "code",
        "colab": {}
      },
      "source": [
        "import wandb\n",
        "from wandb.keras import WandbCallback\n",
        "#Initializes and Experiment\n",
        "\n",
        "from tensorflow.keras.optimizers import Adam\n",
        "\n",
        "# Important Hyperparameters\n",
        "X =  x_train\n",
        "y =  y_train\n",
        "\n",
        "inputs = X.shape[1]\n",
        "\n",
        "def train():\n",
        "    \n",
        "    wandb.init(project=\"boston\", entity=\"lambda-ds7\") \n",
        "    \n",
        "    config = wandb.config\n",
        "\n",
        "    # Create Model\n",
        "    model = Sequential()\n",
        "    model.add(Dense(64, activation='relu', input_shape=(inputs,)))\n",
        "    model.add(Dense(64, activation='relu'))\n",
        "    model.add(Dense(64, activation='relu'))\n",
        "    model.add(Dense(1))\n",
        "\n",
        "    # Optimizer \n",
        "    adam = Adam(learning_rate=config.learning_rate)\n",
        "\n",
        "    # Compile Model\n",
        "    model.compile(optimizer=adam, loss='mse', metrics=['mse', 'mae'])\n",
        "\n",
        "    # Fit Model\n",
        "    model.fit(X, y, \n",
        "              validation_split=0.33, \n",
        "              epochs=config.epochs, \n",
        "              batch_size=config.batch_size, \n",
        "              callbacks=[WandbCallback()]\n",
        "             )"
      ],
      "execution_count": 0,
      "outputs": []
    },
    {
      "cell_type": "code",
      "metadata": {
        "id": "S03x0bGxS88x",
        "colab_type": "code",
        "colab": {},
        "outputId": "1288adab-9651-4d52-bcae-77ff7374f917"
      },
      "source": [
        "wandb.agent(sweep_id, function=train)"
      ],
      "execution_count": 0,
      "outputs": [
        {
          "output_type": "stream",
          "text": [
            "wandb: Agent Starting Run: 2g77kp6k with config:\n",
            "\tbatch_size: 308.503347845309\n",
            "\tepochs: 704.9395850579006\n",
            "\tlearning_rate: 1.480005523005428\n",
            "wandb: Agent Started Run: 2g77kp6k\n"
          ],
          "name": "stdout"
        },
        {
          "output_type": "display_data",
          "data": {
            "text/html": [
              "\n",
              "                Logging results to <a href=\"https://wandb.com\" target=\"_blank\">Weights & Biases</a> <a href=\"https://docs.wandb.com/integrations/jupyter.html\" target=\"_blank\">(Documentation)</a>.<br/>\n",
              "                Project page: <a href=\"https://app.wandb.ai/lambda-ds7/boston\" target=\"_blank\">https://app.wandb.ai/lambda-ds7/boston</a><br/>\n",
              "                Run page: <a href=\"https://app.wandb.ai/lambda-ds7/boston/runs/t4w9l4ye\" target=\"_blank\">https://app.wandb.ai/lambda-ds7/boston/runs/t4w9l4ye</a><br/>\n",
              "            "
            ],
            "text/plain": [
              "<IPython.core.display.HTML object>"
            ]
          },
          "metadata": {
            "tags": []
          }
        }
      ]
    },
    {
      "cell_type": "markdown",
      "metadata": {
        "id": "C1VIWSL9S887",
        "colab_type": "text"
      },
      "source": [
        "## Challenge\n",
        "\n",
        "Try to apply RandomSearchCV to your module project today. "
      ]
    },
    {
      "cell_type": "markdown",
      "metadata": {
        "id": "jjyGQZvbS89C",
        "colab_type": "text"
      },
      "source": [
        "# Review\n",
        "* <a href=\"#p1\">Part 1</a>: Describe the major hyperparemeters to tune\n",
        "    - Activation Functions\n",
        "    - Optimizer\n",
        "    - Number of Layers\n",
        "    - Number of Neurons\n",
        "    - Batch Size\n",
        "    - Dropout Regulaization\n",
        "    - Learning Rate\n",
        "    - Number of Epochs\n",
        "    - and many more\n",
        "* <a href=\"#p2\">Part 2</a>: Implement an experiment tracking framework\n",
        "    - Weights & Biases\n",
        "    - Comet.ml\n",
        "    - By Hand / GridSearch\n",
        "* <a href=\"#p3\">Part 3</a>: Search the hyperparameter space using RandomSearch\n",
        "    - Sklearn still useful (haha)\n",
        "    - Integration with Wieghts & Biases\n",
        "* <a href=\"#p4\">Part 4</a>: Discuss emerging hyperparameter tuning strategies\n",
        "    - Bayesian Optimization\n",
        "    - Hyperopt\n",
        "    - Genetic Evolution"
      ]
    },
    {
      "cell_type": "markdown",
      "metadata": {
        "id": "d53_d8J4S89E",
        "colab_type": "text"
      },
      "source": [
        "# Sources"
      ]
    },
    {
      "cell_type": "markdown",
      "metadata": {
        "id": "wxk9vBs2S89G",
        "colab_type": "text"
      },
      "source": [
        "## Additional Reading\n",
        "- https://machinelearningmastery.com/grid-search-hyperparameters-deep-learning-models-python-keras/\n",
        "- https://blog.floydhub.com/guide-to-hyperparameters-search-for-deep-learning-models/\n",
        "- https://machinelearningmastery.com/dropout-regularization-deep-learning-models-keras/\n",
        "- https://machinelearningmastery.com/introduction-to-weight-constraints-to-reduce-generalization-error-in-deep-learning/\n",
        "- https://machinelearningmastery.com/how-to-configure-the-number-of-layers-and-nodes-in-a-neural-network/"
      ]
    }
  ]
}