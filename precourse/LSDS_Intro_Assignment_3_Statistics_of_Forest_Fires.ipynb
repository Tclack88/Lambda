{
  "nbformat": 4,
  "nbformat_minor": 0,
  "metadata": {
    "colab": {
      "name": "LSDS Intro Assignment 3 - Statistics of Forest Fires.ipynb",
      "provenance": [],
      "collapsed_sections": [],
      "include_colab_link": true
    },
    "kernelspec": {
      "name": "python3",
      "display_name": "Python 3"
    }
  },
  "cells": [
    {
      "cell_type": "markdown",
      "metadata": {
        "id": "view-in-github",
        "colab_type": "text"
      },
      "source": [
        "<a href=\"https://colab.research.google.com/github/Tclack88/Lambda/blob/master/precourse/LSDS_Intro_Assignment_3_Statistics_of_Forest_Fires.ipynb\" target=\"_parent\"><img src=\"https://colab.research.google.com/assets/colab-badge.svg\" alt=\"Open In Colab\"/></a>"
      ]
    },
    {
      "cell_type": "markdown",
      "metadata": {
        "id": "uKYVNFs44mfD",
        "colab_type": "text"
      },
      "source": [
        "# Lambda School Data Science - Forest Fire Statistics\n",
        "\n",
        "![Forest fire](https://www.publicdomainpictures.net/pictures/220000/velka/forest-fire.jpg)\n",
        "\n",
        "Forest fires are a sadly timely topic, but data can help us better understand and perhaps manage them in future. In this assignment you'll look at a data set of forest fires in Portugal during 2007 - this is a real research dataset, and you can [read more about it](https://archive.ics.uci.edu/ml/datasets/Forest+Fires) though you do not need to for this assignment.\n",
        "\n",
        "For our purposes, the main thing that you need to understand are the attributes in the data.\n",
        "\n",
        "1. X - x-axis spatial coordinate within the Montesinho park map: 1 to 9\n",
        "2. Y - y-axis spatial coordinate within the Montesinho park map: 2 to 9\n",
        "3. month - month of the year: 'jan' to 'dec'\n",
        "4. day - day of the week: 'mon' to 'sun'\n",
        "5. FFMC - FFMC index from the FWI system: 18.7 to 96.20\n",
        "6. DMC - DMC index from the FWI system: 1.1 to 291.3\n",
        "7. DC - DC index from the FWI system: 7.9 to 860.6\n",
        "8. ISI - ISI index from the FWI system: 0.0 to 56.10\n",
        "9. temp - temperature in Celsius degrees: 2.2 to 33.30\n",
        "10. RH - relative humidity in %: 15.0 to 100\n",
        "11. wind - wind speed in km/h: 0.40 to 9.40\n",
        "12. rain - outside rain in mm/m2 : 0.0 to 6.4\n",
        "13. area - the burned area of the forest (in ha): 0.00 to 1090.84 \n",
        "\n",
        "Most of these features are numeric - this means we can do things like look at their mean, median, mode, and plot histograms. They have technical sounding names, but generally refer to meteorological data (i.e. the weather).\n",
        "\n",
        "For the discrete features we can still draw histograms (as in the lecture notebook). X and Y are already integer values - month and day do have natural order, but if you want to use them you may want to translate them from strings to numbers (hint - you can build a dict that maps them, and loop over to apply it)."
      ]
    },
    {
      "cell_type": "markdown",
      "metadata": {
        "id": "2hdt1i4H6gQ2",
        "colab_type": "text"
      },
      "source": [
        "## Exercise 1 - Load the data and take a peek\n",
        "\n",
        "The data is accessible as a CSV at the URL: https://archive.ics.uci.edu/ml/machine-learning-databases/forest-fires/forestfires.csv\n",
        "\n",
        "You want to load this into a dataframe, so you can then look at the variables and perform descriptive statistics.\n",
        "\n",
        "After you load it, verify that you've got it working by printing the first five rows of data."
      ]
    },
    {
      "cell_type": "code",
      "metadata": {
        "id": "s1ZQrmPs282o",
        "colab_type": "code",
        "outputId": "bee62acf-1811-4cc6-9be1-a921e0f89822",
        "colab": {
          "base_uri": "https://localhost:8080/",
          "height": 119
        }
      },
      "source": [
        "import pandas as pd\n",
        "df = pd.read_csv(\"https://archive.ics.uci.edu/ml/machine-learning-databases/forest-fires/forestfires.csv\")\n",
        "print(df.head())"
      ],
      "execution_count": 0,
      "outputs": [
        {
          "output_type": "stream",
          "text": [
            "   X  Y month  day  FFMC   DMC     DC  ISI  temp  RH  wind  rain  area\n",
            "0  7  5   mar  fri  86.2  26.2   94.3  5.1   8.2  51   6.7   0.0   0.0\n",
            "1  7  4   oct  tue  90.6  35.4  669.1  6.7  18.0  33   0.9   0.0   0.0\n",
            "2  7  4   oct  sat  90.6  43.7  686.9  6.7  14.6  33   1.3   0.0   0.0\n",
            "3  8  6   mar  fri  91.7  33.3   77.5  9.0   8.3  97   4.0   0.2   0.0\n",
            "4  8  6   mar  sun  89.3  51.3  102.2  9.6  11.4  99   1.8   0.0   0.0\n"
          ],
          "name": "stdout"
        }
      ]
    },
    {
      "cell_type": "markdown",
      "metadata": {
        "id": "H82vSWGC6-Ui",
        "colab_type": "text"
      },
      "source": [
        "## Exercise 2 - Explore and summarize the data\n",
        "\n",
        "Now that you've got the data, take a deeper look at it - the description above gives the overall range (from minimum to maximum), but look at the other core statistics. You should pick three variables you want to look at - two continuous, and one discrete, and for each you should calculate the mean and median.\n",
        "\n",
        "Don't use the magic built-in functions of pandas or other libraries - write your own functions to calculate mean and median (you can of course refer to the lecture notebooks for help). This is a good exercise both to practice coding and reinforce the statistical concepts.\n",
        "\n",
        "For each of the three variables you look at, answer the following questions (as comments in your code):\n",
        "\n",
        "- Is the median larger or smaller than the mean?\n",
        "- What does that tell you about how the variable is distributed?\n",
        "- (For the discrete variable only) What is the mode?\n",
        "\n",
        "Hint - it may help to draw a histogram to look at the variable and really get a feel for it.\n",
        "\n",
        "Another hint - part of this exercise is making sure you can distinguish between continuous and discrete variables, so take some time to think through your choice of variables."
      ]
    },
    {
      "cell_type": "code",
      "metadata": {
        "id": "Jdsvuj8n8Kic",
        "colab_type": "code",
        "outputId": "775e5215-fa7e-49a0-d9ef-7fc52995e4b1",
        "colab": {
          "base_uri": "https://localhost:8080/",
          "height": 187
        }
      },
      "source": [
        "from collections import Counter\n",
        "import matplotlib.pyplot as plt\n",
        "\n",
        "def mean(list_in):\n",
        "  return round(sum(list_in)/len(list_in),2)\n",
        "\n",
        "def median(list_in):\n",
        "  list_sorted = sorted(list_in)\n",
        "  if len(list_sorted) % 2 == 1:\n",
        "    med_index = len(list_sorted) // 2 + 1\n",
        "  else:\n",
        "    med_index = len(list_sorted) // 2\n",
        "  median = list_sorted[med_index]\n",
        "  return median\n",
        "\n",
        "def mode(list_in):\n",
        "  mode = Counter(list_in).most_common(1)[0][0]\n",
        "  return mode\n",
        "\n",
        "temp = df.temp\n",
        "print(':::Temperature:::')\n",
        "print('mean:',mean(temp))\n",
        "print('median:',median(temp))\n",
        "\n",
        "RH = df.RH\n",
        "print('\\n:::Relative Humidity::')\n",
        "print('mean',mean(RH))\n",
        "print('median',median(RH))\n",
        "\n",
        "month = df.month\n",
        "print('\\n:::Month:::')\n",
        "print('mode (most frequent) month:',mode(month))\n",
        "\n",
        "\n",
        "#print(\"\\nDouble Check\")\n",
        "#print(\"\\ntemp:\\nmean:\",df.temp.mean(),\"\\nmedian:\",df.temp.median())\n",
        "#print(\"\\nRelative Humidity:\\nmean:\",df.RH.mean(),\"\\nmedian:\",df.RH.median())\n",
        "#print(\"\\nMonth:\\nmode:\",df.month.mode())\n",
        "\n",
        "#plt.hist(temp)\n",
        "#plt.show()\n",
        "#plt.hist(RH)\n",
        "#plt.show()"
      ],
      "execution_count": 0,
      "outputs": [
        {
          "output_type": "stream",
          "text": [
            ":::Temperature:::\n",
            "mean: 18.89\n",
            "median: 19.3\n",
            "\n",
            ":::Relative Humidity::\n",
            "mean 44.29\n",
            "median 42\n",
            "\n",
            ":::Month:::\n",
            "mode (most frequent) month: aug\n"
          ],
          "name": "stdout"
        }
      ]
    },
    {
      "cell_type": "markdown",
      "metadata": {
        "id": "rMWYZKVX-HGM",
        "colab_type": "text"
      },
      "source": [
        "## Exercise 3 - Simulate more data!\n",
        "\n",
        "There are many more things that could be done with this data, but for now we've not learned about hypothesis testing or inferential statistics. So, one fun thing to do is - make more data!\n",
        "\n",
        "How do we do that? We can use the same `random` module demonstrated in lecture, and repeatedly sample our data. This is related to the Monte Carlo method used to demonstrate the central limit theorem. In this setting, such simulations could then be applied to Bayesian methods - another topic for another time.\n",
        "\n",
        "For the same three variables that you looked at in exercise 2, you should do the following:\n",
        "\n",
        "1. Generate a *new* variable based on taking values at random from the original one - make the new variable have at least 10 times as many observations as the original\n",
        "2. Calculate the mean, median, and mode of the new variable (it's okay to use prewritten functions for this)\n",
        "3. Compare your results to what you saw in exercise 2 - it should be very similar\n",
        "\n",
        "Once you're done, look back at your code. Chances are you learned things as you wrote it, and you can revisit it to clean it up a bit. Maybe put pieces of code you use multiple times in a function, or add some explanatory comments so anyone reading (including \"future you\") has a clearer understanding of what you did."
      ]
    },
    {
      "cell_type": "code",
      "metadata": {
        "id": "yExZ2S4W-xDG",
        "colab_type": "code",
        "outputId": "949aa199-8f11-44ac-e796-e1d59c8f2544",
        "colab": {
          "base_uri": "https://localhost:8080/",
          "height": 51
        }
      },
      "source": [
        "from random import choice\n",
        "import numpy as np\n",
        "\n",
        "var_size = 10*df.shape[0]\n",
        "\n",
        "new_var_1 = [choice(df.temp) for _ in range(var_size)]\n",
        "print(\"mean of new var:\",np.mean(new_var_1))\n",
        "print(\"median of new var:\",np.median(new_var_1))"
      ],
      "execution_count": 0,
      "outputs": [
        {
          "output_type": "stream",
          "text": [
            "mean of new var: 18.94882011605416\n",
            "median of new var: 19.3\n"
          ],
          "name": "stdout"
        }
      ]
    },
    {
      "cell_type": "markdown",
      "metadata": {
        "id": "sj5RYe9yBlfh",
        "colab_type": "text"
      },
      "source": [
        "## Exercise 4 (*Optional* \"stretch goal\") - Simulate a *lot* of data\n",
        "\n",
        "For *one* of the variables you've been looking at:\n",
        "\n",
        "1. Make an empty list `variablename_means`\n",
        "2. Use your code from exercise 3 to run a Monte Carlo simulation of 1000 experiments where you make a new simulated variable (hint - you'll need a loop)\n",
        "3. For each experiment, calculate the mean of the simulated variable, and append it to the list\n",
        "4. Plot the list as a histogram\n",
        "\n",
        "Once you've done the above, answer the question - how does the distribution of the histogram (of the means of a bunch of simulations of real data) look?"
      ]
    },
    {
      "cell_type": "code",
      "metadata": {
        "id": "JKlXME96Tuqs",
        "colab_type": "code",
        "outputId": "a4463e01-71ac-46c7-c98f-385d847e93fb",
        "colab": {
          "base_uri": "https://localhost:8080/",
          "height": 295
        }
      },
      "source": [
        "# Your code here!\n",
        "# You can (and should) reuse logic/functions from earlier exercise\n",
        "variablename_means = []\n",
        "\n",
        "def create_data(alist):\n",
        "  var_size = 10*df.shape[0]\n",
        "  some_variable = [choice(alist) for i in range(var_size)]\n",
        "  return np.mean(some_variable)\n",
        "\n",
        "for i in range(1000):\n",
        "  variablename_means.append(create_data(RH))\n",
        "\n",
        "plt.hist(variablename_means,bins=30)\n",
        "plt.title(\"The means of 1000 random samples of Relative Humidity Data\")\n",
        "plt.xlabel('The mean of each sample')\n",
        "plt.ylabel('Frequency of each mean')\n",
        "\n",
        "plt.show()"
      ],
      "execution_count": 0,
      "outputs": [
        {
          "output_type": "display_data",
          "data": {
            "image/png": "[encoded data removed]",
            "text/plain": [
              "<Figure size 432x288 with 1 Axes>"
            ]
          },
          "metadata": {
            "tags": []
          }
        }
      ]
    }
  ]
}