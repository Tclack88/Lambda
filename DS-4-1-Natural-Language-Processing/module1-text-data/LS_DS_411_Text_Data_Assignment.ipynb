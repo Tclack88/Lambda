{
  "nbformat": 4,
  "nbformat_minor": 0,
  "metadata": {
    "colab": {
      "name": "LS_DS_421_Text_Data_Assignment.ipynb",
      "provenance": [],
      "collapsed_sections": [],
      "include_colab_link": true
    },
    "kernelspec": {
      "display_name": "U4-S1-NLP (Python 3)",
      "language": "python",
      "name": "u4-s1-nlp"
    },
    "language_info": {
      "codemirror_mode": {
        "name": "ipython",
        "version": 3
      },
      "file_extension": ".py",
      "mimetype": "text/x-python",
      "name": "python",
      "nbconvert_exporter": "python",
      "pygments_lexer": "ipython3",
      "version": "3.7.3"
    },
    "toc-autonumbering": false
  },
  "cells": [
    {
      "cell_type": "markdown",
      "metadata": {
        "id": "view-in-github",
        "colab_type": "text"
      },
      "source": [
        "<a href=\"https://colab.research.google.com/github/Tclack88/DS-Unit-4-Sprint-1-NLP/blob/master/module1-text-data/LS_DS_411_Text_Data_Assignment.ipynb\" target=\"_parent\"><img src=\"https://colab.research.google.com/assets/colab-badge.svg\" alt=\"Open In Colab\"/></a>"
      ]
    },
    {
      "cell_type": "markdown",
      "metadata": {
        "id": "xF8v69rrnr_R",
        "colab_type": "text"
      },
      "source": [
        "<img align=\"left\" src=\"https://lever-client-logos.s3.amazonaws.com/864372b1-534c-480e-acd5-9711f850815c-1524247202159.png\" width=200>\n",
        "<br></br>\n",
        "<br></br>\n",
        "\n",
        "# Natural Language Processing (NLP)\n",
        "## *Data Science Unit 4 Sprint 1 Assignment 1*\n",
        "\n",
        "Your goal in this assignment: find the attributes of the best & worst coffee shops in the dataset. The text is fairly raw: dates in the review, extra words in the `star_rating` column, etc. You'll probably want to clean that stuff up for a better analysis. \n",
        "\n",
        "Analyze the corpus of text using text visualizations of token frequency. Try cleaning the data as much as possible. Try the following techniques: \n",
        "- Lemmatization\n",
        "- Custom stopword removal\n",
        "\n",
        "Keep in mind the attributes of good tokens. Once you have a solid baseline, layer in the star rating in your visualization(s). Key part of this assignment - produce a write-up of the attributes of the best and worst coffee shops. Based on your analysis, what makes the best the best and the worst the worst. Use graphs and numbesr from your analysis to support your conclusions. There should be plenty of markdown cells! :coffee:"
      ]
    },
    {
      "cell_type": "code",
      "metadata": {
        "id": "jbfJT4EtoWkh",
        "colab_type": "code",
        "colab": {}
      },
      "source": [
        "!python -m spacy download en_core_web_lg"
      ],
      "execution_count": 0,
      "outputs": []
    },
    {
      "cell_type": "code",
      "metadata": {
        "id": "yDDh7UQXnr_r",
        "colab_type": "code",
        "colab": {
          "base_uri": "https://localhost:8080/",
          "height": 204
        },
        "outputId": "87fa77a5-4e8a-4bb0-ddfd-e7d74c6ae643"
      },
      "source": [
        "import pandas as pd\n",
        "\n",
        "url = \"https://raw.githubusercontent.com/LambdaSchool/DS-Unit-4-Sprint-1-NLP/master/module1-text-data/data/yelp_coffeeshop_review_data.csv\"\n",
        "\n",
        "shops = pd.read_csv(url)\n",
        "shops.head()"
      ],
      "execution_count": 98,
      "outputs": [
        {
          "output_type": "execute_result",
          "data": {
            "text/html": [
              "<div>\n",
              "<style scoped>\n",
              "    .dataframe tbody tr th:only-of-type {\n",
              "        vertical-align: middle;\n",
              "    }\n",
              "\n",
              "    .dataframe tbody tr th {\n",
              "        vertical-align: top;\n",
              "    }\n",
              "\n",
              "    .dataframe thead th {\n",
              "        text-align: right;\n",
              "    }\n",
              "</style>\n",
              "<table border=\"1\" class=\"dataframe\">\n",
              "  <thead>\n",
              "    <tr style=\"text-align: right;\">\n",
              "      <th></th>\n",
              "      <th>coffee_shop_name</th>\n",
              "      <th>full_review_text</th>\n",
              "      <th>star_rating</th>\n",
              "    </tr>\n",
              "  </thead>\n",
              "  <tbody>\n",
              "    <tr>\n",
              "      <th>0</th>\n",
              "      <td>The Factory - Cafe With a Soul</td>\n",
              "      <td>11/25/2016 1 check-in Love love loved the atm...</td>\n",
              "      <td>5.0 star rating</td>\n",
              "    </tr>\n",
              "    <tr>\n",
              "      <th>1</th>\n",
              "      <td>The Factory - Cafe With a Soul</td>\n",
              "      <td>12/2/2016 Listed in Date Night: Austin, Ambia...</td>\n",
              "      <td>4.0 star rating</td>\n",
              "    </tr>\n",
              "    <tr>\n",
              "      <th>2</th>\n",
              "      <td>The Factory - Cafe With a Soul</td>\n",
              "      <td>11/30/2016 1 check-in Listed in Brunch Spots ...</td>\n",
              "      <td>4.0 star rating</td>\n",
              "    </tr>\n",
              "    <tr>\n",
              "      <th>3</th>\n",
              "      <td>The Factory - Cafe With a Soul</td>\n",
              "      <td>11/25/2016 Very cool decor! Good drinks Nice ...</td>\n",
              "      <td>2.0 star rating</td>\n",
              "    </tr>\n",
              "    <tr>\n",
              "      <th>4</th>\n",
              "      <td>The Factory - Cafe With a Soul</td>\n",
              "      <td>12/3/2016 1 check-in They are located within ...</td>\n",
              "      <td>4.0 star rating</td>\n",
              "    </tr>\n",
              "  </tbody>\n",
              "</table>\n",
              "</div>"
            ],
            "text/plain": [
              "                  coffee_shop_name  ...        star_rating\n",
              "0  The Factory - Cafe With a Soul   ...   5.0 star rating \n",
              "1  The Factory - Cafe With a Soul   ...   4.0 star rating \n",
              "2  The Factory - Cafe With a Soul   ...   4.0 star rating \n",
              "3  The Factory - Cafe With a Soul   ...   2.0 star rating \n",
              "4  The Factory - Cafe With a Soul   ...   4.0 star rating \n",
              "\n",
              "[5 rows x 3 columns]"
            ]
          },
          "metadata": {
            "tags": []
          },
          "execution_count": 98
        }
      ]
    },
    {
      "cell_type": "code",
      "metadata": {
        "id": "1yUxrGqunr_2",
        "colab_type": "code",
        "colab": {
          "base_uri": "https://localhost:8080/",
          "height": 419
        },
        "outputId": "f113da79-d40b-4256-8f6a-a98bc4a6cd34"
      },
      "source": [
        "# Cleanup the data - all reviews start with a date, so I separate that out\n",
        "import re\n",
        "\n",
        "def cleanup(shop):\n",
        "  shop.star_rating = shop.star_rating.apply(lambda x: int(x.strip()[0]))\n",
        "  # shop['date'] = shop.full_review_text.apply(lambda x: x.split()[0])\n",
        "  shop.full_review_text = shop.full_review_text.apply(lambda x: ' '.join(x.split()[1:]).lower())\n",
        "  shop.full_review_text = shop.full_review_text.apply(lambda x: re.sub(\"[^a-z' ]\",'',x))\n",
        "  return shop\n",
        "\n",
        "cleanup(shops)"
      ],
      "execution_count": 99,
      "outputs": [
        {
          "output_type": "execute_result",
          "data": {
            "text/html": [
              "<div>\n",
              "<style scoped>\n",
              "    .dataframe tbody tr th:only-of-type {\n",
              "        vertical-align: middle;\n",
              "    }\n",
              "\n",
              "    .dataframe tbody tr th {\n",
              "        vertical-align: top;\n",
              "    }\n",
              "\n",
              "    .dataframe thead th {\n",
              "        text-align: right;\n",
              "    }\n",
              "</style>\n",
              "<table border=\"1\" class=\"dataframe\">\n",
              "  <thead>\n",
              "    <tr style=\"text-align: right;\">\n",
              "      <th></th>\n",
              "      <th>coffee_shop_name</th>\n",
              "      <th>full_review_text</th>\n",
              "      <th>star_rating</th>\n",
              "    </tr>\n",
              "  </thead>\n",
              "  <tbody>\n",
              "    <tr>\n",
              "      <th>0</th>\n",
              "      <td>The Factory - Cafe With a Soul</td>\n",
              "      <td>checkin love love loved the atmosphere every ...</td>\n",
              "      <td>5</td>\n",
              "    </tr>\n",
              "    <tr>\n",
              "      <th>1</th>\n",
              "      <td>The Factory - Cafe With a Soul</td>\n",
              "      <td>listed in date night austin ambiance in austin...</td>\n",
              "      <td>4</td>\n",
              "    </tr>\n",
              "    <tr>\n",
              "      <th>2</th>\n",
              "      <td>The Factory - Cafe With a Soul</td>\n",
              "      <td>checkin listed in brunch spots i loved the ec...</td>\n",
              "      <td>4</td>\n",
              "    </tr>\n",
              "    <tr>\n",
              "      <th>3</th>\n",
              "      <td>The Factory - Cafe With a Soul</td>\n",
              "      <td>very cool decor good drinks nice seating howev...</td>\n",
              "      <td>2</td>\n",
              "    </tr>\n",
              "    <tr>\n",
              "      <th>4</th>\n",
              "      <td>The Factory - Cafe With a Soul</td>\n",
              "      <td>checkin they are located within the northcros...</td>\n",
              "      <td>4</td>\n",
              "    </tr>\n",
              "    <tr>\n",
              "      <th>...</th>\n",
              "      <td>...</td>\n",
              "      <td>...</td>\n",
              "      <td>...</td>\n",
              "    </tr>\n",
              "    <tr>\n",
              "      <th>7611</th>\n",
              "      <td>The Steeping Room</td>\n",
              "      <td>i actually step into this restaurant by chance...</td>\n",
              "      <td>4</td>\n",
              "    </tr>\n",
              "    <tr>\n",
              "      <th>7612</th>\n",
              "      <td>The Steeping Room</td>\n",
              "      <td>ok the steeping room is awesome how do they ha...</td>\n",
              "      <td>5</td>\n",
              "    </tr>\n",
              "    <tr>\n",
              "      <th>7613</th>\n",
              "      <td>The Steeping Room</td>\n",
              "      <td>loved coming here for tea and the atmosphere w...</td>\n",
              "      <td>4</td>\n",
              "    </tr>\n",
              "    <tr>\n",
              "      <th>7614</th>\n",
              "      <td>The Steeping Room</td>\n",
              "      <td>the food is just average the booths didn't fee...</td>\n",
              "      <td>3</td>\n",
              "    </tr>\n",
              "    <tr>\n",
              "      <th>7615</th>\n",
              "      <td>The Steeping Room</td>\n",
              "      <td>i finally stopped in for lunch with my colleag...</td>\n",
              "      <td>4</td>\n",
              "    </tr>\n",
              "  </tbody>\n",
              "</table>\n",
              "<p>7616 rows × 3 columns</p>\n",
              "</div>"
            ],
            "text/plain": [
              "                     coffee_shop_name  ... star_rating\n",
              "0     The Factory - Cafe With a Soul   ...           5\n",
              "1     The Factory - Cafe With a Soul   ...           4\n",
              "2     The Factory - Cafe With a Soul   ...           4\n",
              "3     The Factory - Cafe With a Soul   ...           2\n",
              "4     The Factory - Cafe With a Soul   ...           4\n",
              "...                               ...  ...         ...\n",
              "7611               The Steeping Room   ...           4\n",
              "7612               The Steeping Room   ...           5\n",
              "7613               The Steeping Room   ...           4\n",
              "7614               The Steeping Room   ...           3\n",
              "7615               The Steeping Room   ...           4\n",
              "\n",
              "[7616 rows x 3 columns]"
            ]
          },
          "metadata": {
            "tags": []
          },
          "execution_count": 99
        }
      ]
    },
    {
      "cell_type": "code",
      "metadata": {
        "id": "4wri10i2LfJ4",
        "colab_type": "code",
        "colab": {}
      },
      "source": [
        "import spacy\n",
        "nlp = spacy.load('en_core_web_lg')\n",
        "tokenizer = spacy.tokenizer.Tokenizer(nlp.vocab)"
      ],
      "execution_count": 0,
      "outputs": []
    },
    {
      "cell_type": "code",
      "metadata": {
        "id": "ERYfEtrwRAI-",
        "colab_type": "code",
        "colab": {}
      },
      "source": [
        "common_words = ['checkin', 'checkins', 'listed', 'coffee', 'shop', 'latte', 'tea', 'austin', ' ',\"it's\", \"i'm\", \"i'd\", \"i've\", \"you're\", \"that's\", \"they're\", \"there's\"]\n",
        "STOP_WORDS = nlp.Defaults.stop_words.union(common_words)\n",
        "\n",
        "tokens = []\n",
        "for doc in tokenizer.pipe(shops.full_review_text):\n",
        "  doc_tokens = [token.lemma_.lower() for token in doc \n",
        "                if (token.text.lower() not in STOP_WORDS) & (token.is_punct == False) ]\n",
        "  tokens.append(doc_tokens)\n",
        "\n",
        "shops['tokens'] = tokens"
      ],
      "execution_count": 0,
      "outputs": []
    },
    {
      "cell_type": "code",
      "metadata": {
        "id": "Tga9hQvkRz8O",
        "colab_type": "code",
        "colab": {
          "base_uri": "https://localhost:8080/",
          "height": 419
        },
        "outputId": "e27ff2c0-b973-4181-bad4-d5ed03a2707b"
      },
      "source": [
        "shops"
      ],
      "execution_count": 369,
      "outputs": [
        {
          "output_type": "execute_result",
          "data": {
            "text/html": [
              "<div>\n",
              "<style scoped>\n",
              "    .dataframe tbody tr th:only-of-type {\n",
              "        vertical-align: middle;\n",
              "    }\n",
              "\n",
              "    .dataframe tbody tr th {\n",
              "        vertical-align: top;\n",
              "    }\n",
              "\n",
              "    .dataframe thead th {\n",
              "        text-align: right;\n",
              "    }\n",
              "</style>\n",
              "<table border=\"1\" class=\"dataframe\">\n",
              "  <thead>\n",
              "    <tr style=\"text-align: right;\">\n",
              "      <th></th>\n",
              "      <th>coffee_shop_name</th>\n",
              "      <th>full_review_text</th>\n",
              "      <th>star_rating</th>\n",
              "      <th>tokens</th>\n",
              "    </tr>\n",
              "  </thead>\n",
              "  <tbody>\n",
              "    <tr>\n",
              "      <th>0</th>\n",
              "      <td>The Factory - Cafe With a Soul</td>\n",
              "      <td>checkin love love loved the atmosphere every ...</td>\n",
              "      <td>5</td>\n",
              "      <td>[love, love, love, atmosphere, corner, style, ...</td>\n",
              "    </tr>\n",
              "    <tr>\n",
              "      <th>1</th>\n",
              "      <td>The Factory - Cafe With a Soul</td>\n",
              "      <td>listed in date night austin ambiance in austin...</td>\n",
              "      <td>4</td>\n",
              "      <td>[date, night, ambiance, beautiful, love, ambia...</td>\n",
              "    </tr>\n",
              "    <tr>\n",
              "      <th>2</th>\n",
              "      <td>The Factory - Cafe With a Soul</td>\n",
              "      <td>checkin listed in brunch spots i loved the ec...</td>\n",
              "      <td>4</td>\n",
              "      <td>[brunch, spot, love, eclectic, homey, plush, d...</td>\n",
              "    </tr>\n",
              "    <tr>\n",
              "      <th>3</th>\n",
              "      <td>The Factory - Cafe With a Soul</td>\n",
              "      <td>very cool decor good drinks nice seating howev...</td>\n",
              "      <td>2</td>\n",
              "      <td>[cool, decor, good, drink, nice, seat, overpri...</td>\n",
              "    </tr>\n",
              "    <tr>\n",
              "      <th>4</th>\n",
              "      <td>The Factory - Cafe With a Soul</td>\n",
              "      <td>checkin they are located within the northcros...</td>\n",
              "      <td>4</td>\n",
              "      <td>[locate, northcross, mall, shop, center, face,...</td>\n",
              "    </tr>\n",
              "    <tr>\n",
              "      <th>...</th>\n",
              "      <td>...</td>\n",
              "      <td>...</td>\n",
              "      <td>...</td>\n",
              "      <td>...</td>\n",
              "    </tr>\n",
              "    <tr>\n",
              "      <th>7611</th>\n",
              "      <td>The Steeping Room</td>\n",
              "      <td>i actually step into this restaurant by chance...</td>\n",
              "      <td>4</td>\n",
              "      <td>[actually, step, restaurant, chance, favorite,...</td>\n",
              "    </tr>\n",
              "    <tr>\n",
              "      <th>7612</th>\n",
              "      <td>The Steeping Room</td>\n",
              "      <td>ok the steeping room is awesome how do they ha...</td>\n",
              "      <td>5</td>\n",
              "      <td>[okay, steep, room, awesome, great, menu, item...</td>\n",
              "    </tr>\n",
              "    <tr>\n",
              "      <th>7613</th>\n",
              "      <td>The Steeping Room</td>\n",
              "      <td>loved coming here for tea and the atmosphere w...</td>\n",
              "      <td>4</td>\n",
              "      <td>[love, come, atmosphere, pretty, fresh, order,...</td>\n",
              "    </tr>\n",
              "    <tr>\n",
              "      <th>7614</th>\n",
              "      <td>The Steeping Room</td>\n",
              "      <td>the food is just average the booths didn't fee...</td>\n",
              "      <td>3</td>\n",
              "      <td>[food, average, booth, didn't, feel, clean, wa...</td>\n",
              "    </tr>\n",
              "    <tr>\n",
              "      <th>7615</th>\n",
              "      <td>The Steeping Room</td>\n",
              "      <td>i finally stopped in for lunch with my colleag...</td>\n",
              "      <td>4</td>\n",
              "      <td>[finally, stop, lunch, colleague, glad, delici...</td>\n",
              "    </tr>\n",
              "  </tbody>\n",
              "</table>\n",
              "<p>7616 rows × 4 columns</p>\n",
              "</div>"
            ],
            "text/plain": [
              "                     coffee_shop_name  ...                                             tokens\n",
              "0     The Factory - Cafe With a Soul   ...  [love, love, love, atmosphere, corner, style, ...\n",
              "1     The Factory - Cafe With a Soul   ...  [date, night, ambiance, beautiful, love, ambia...\n",
              "2     The Factory - Cafe With a Soul   ...  [brunch, spot, love, eclectic, homey, plush, d...\n",
              "3     The Factory - Cafe With a Soul   ...  [cool, decor, good, drink, nice, seat, overpri...\n",
              "4     The Factory - Cafe With a Soul   ...  [locate, northcross, mall, shop, center, face,...\n",
              "...                               ...  ...                                                ...\n",
              "7611               The Steeping Room   ...  [actually, step, restaurant, chance, favorite,...\n",
              "7612               The Steeping Room   ...  [okay, steep, room, awesome, great, menu, item...\n",
              "7613               The Steeping Room   ...  [love, come, atmosphere, pretty, fresh, order,...\n",
              "7614               The Steeping Room   ...  [food, average, booth, didn't, feel, clean, wa...\n",
              "7615               The Steeping Room   ...  [finally, stop, lunch, colleague, glad, delici...\n",
              "\n",
              "[7616 rows x 4 columns]"
            ]
          },
          "metadata": {
            "tags": []
          },
          "execution_count": 369
        }
      ]
    },
    {
      "cell_type": "markdown",
      "metadata": {
        "id": "exqK_cCpnsAE",
        "colab_type": "text"
      },
      "source": [
        "## How do we want to analyze these coffee shop tokens? \n",
        "\n",
        "- Overall Word / Token Count\n",
        "- View Counts by Rating \n",
        "- *Hint:* a 'bad' coffee shops has a rating betweeen 1 & 3 based on the distribution of ratings. A 'good' coffee shop is a 4 or 5. "
      ]
    },
    {
      "cell_type": "markdown",
      "metadata": {
        "id": "UPH2jqqayRtL",
        "colab_type": "text"
      },
      "source": [
        "### Strategy:\n",
        "- Group the tokens by star rating\n",
        "- Find the most common words for each review\n",
        "- Ignore words common in __ALL__ other rating categories from the one being considered(this can be achieved by subtracting sets of words)"
      ]
    },
    {
      "cell_type": "code",
      "metadata": {
        "id": "_d_5ZLcMrUHu",
        "colab_type": "code",
        "colab": {}
      },
      "source": [
        "from collections import Counter"
      ],
      "execution_count": 0,
      "outputs": []
    },
    {
      "cell_type": "code",
      "metadata": {
        "id": "SsplUf-zy4oy",
        "colab_type": "code",
        "colab": {
          "base_uri": "https://localhost:8080/",
          "height": 748
        },
        "outputId": "ab81ff92-8726-444a-ffbd-461e6803c900"
      },
      "source": [
        "def flatten(lst):\n",
        "  \"\"\" utility to reduce liists of lists to a single list \"\"\"\n",
        "  return sum( ([x] if not isinstance(x, list) else flatten(x) for x in lst), [] )\n",
        "\n",
        "reviews = []\n",
        "\n",
        "n_considered = 100\n",
        "\n",
        "for i in range(5):\n",
        "  top_words = Counter(shops.groupby('star_rating').tokens.sum().iloc[i])\n",
        "  most_common = top_words.most_common(n_considered)\n",
        "  reviews.append(most_common)\n",
        "\n",
        "\n",
        "for i in range(len(reviews)):\n",
        "  print(f'Top words found exclusively* in {i +1} star rating:')\n",
        "  others = reviews.copy()\n",
        "  review = others.pop(i)\n",
        "  \n",
        "  others = set([word for word,count in flatten(others)])\n",
        "  review = set([word for word,count in review])\n",
        "  unique_words = review - others\n",
        "\n",
        "  for word in unique_words:\n",
        "    print(f'\\t{word}')\n",
        "\n",
        "print(f\"\\n*exclusively that is considering the top {n_considered} words in each category\")"
      ],
      "execution_count": 378,
      "outputs": [
        {
          "output_type": "stream",
          "text": [
            "Top words found exclusively* in 1 star rating:\n",
            "\ttip\n",
            "\tbuy\n",
            "\tpay\n",
            "\tstart\n",
            "\trude\n",
            "\temployee\n",
            "\tpuff\n",
            "\tunderstand\n",
            "\ttoday\n",
            "\towner\n",
            "\teat\n",
            "\tgirl\n",
            "\tdoesn't\n",
            "\tbring\n",
            "Top words found exclusively* in 2 star rating:\n",
            "\tisn't\n",
            "\twon't\n",
            "\tshop\n",
            "Top words found exclusively* in 3 star rating:\n",
            "\tkind\n",
            "\tdecent\n",
            "\thang\n",
            "\tprobably\n",
            "Top words found exclusively* in 4 star rating:\n",
            "\thouse\n",
            "\toutdoor\n",
            "\tpatio\n",
            "\tplenty\n",
            "\tlight\n",
            "\tnight\n",
            "\tchicken\n",
            "Top words found exclusively* in 5 star rating:\n",
            "\tamaze\n",
            "\tawesome\n",
            "\tbean\n",
            "\tlocal\n",
            "\tgelato\n",
            "\tfresh\n",
            "\ttacos\n",
            "\ttown\n",
            "\tlive\n",
            "*exclusively that is considering the top 100 words in each category\n"
          ],
          "name": "stdout"
        }
      ]
    },
    {
      "cell_type": "markdown",
      "metadata": {
        "id": "IRGhZkQvnsAS",
        "colab_type": "text"
      },
      "source": [
        "## Can visualize the words with the greatest difference in counts between 'good' & 'bad'?\n",
        "\n",
        "Couple Notes: \n",
        "- Rel. freq. instead of absolute counts b/c of different numbers of reviews\n",
        "- Only look at the top 5-10 words with the greatest differences\n"
      ]
    },
    {
      "cell_type": "markdown",
      "metadata": {
        "id": "2-CD4zXkdnK1",
        "colab_type": "text"
      },
      "source": [
        "## Strategy:\n",
        "- Find a large number of words common between good and bad reviews\n",
        "- Get the words common to both\n",
        "- Find the difference\n",
        "- Look at the extreme ends (to get the top 10 positive and 10 negative common words)\n",
        "- barplot for visualization"
      ]
    },
    {
      "cell_type": "code",
      "metadata": {
        "id": "D8XekOfVnsAV",
        "colab_type": "code",
        "colab": {}
      },
      "source": [
        "good_shops = shops[shops['star_rating'] >= 4]\n",
        "bad_shops = shops[shops['star_rating'] < 4]\n",
        "\n",
        "good_words_count = Counter(good_shops.tokens.sum()).most_common(8000)\n",
        "bad_words_count = Counter(bad_shops.tokens.sum()).most_common(8000)\n",
        "\n",
        "good_words = set(word for word,count in good_words_count)\n",
        "bad_words = set(word for word,count in bad_words_count)\n",
        "\n",
        "words_in_common = good_words.intersection(bad_words)"
      ],
      "execution_count": 0,
      "outputs": []
    },
    {
      "cell_type": "code",
      "metadata": {
        "id": "SSUe0XERILtZ",
        "colab_type": "code",
        "colab": {}
      },
      "source": [
        "# Find the greatest differences between words found in good and bad reviews\n",
        "differences = []\n",
        "n_reviews = len(words_in_common)\n",
        "\n",
        "for word in words_in_common:\n",
        "  # difference is the relative fraction. i.e. difference of word occurence in \n",
        "  # \"good\" reviews and \"bad\" reviews\n",
        "  difference = (dict(good_words_count)[word] / good_shops.shape[0] \n",
        "                - dict(bad_words_count)[word] / bad_shops.shape[0])\n",
        "  differences.append((word,difference))\n",
        "\n",
        "differences = dict(differences)\n",
        "differences = sorted(differences.items(), key=lambda x: x[1], reverse=True)"
      ],
      "execution_count": 0,
      "outputs": []
    },
    {
      "cell_type": "code",
      "metadata": {
        "id": "OxY4K4K3R1aM",
        "colab_type": "code",
        "colab": {}
      },
      "source": [
        "differences  = pd.DataFrame(differences, columns = ['word','difference_in_count'])\n",
        "top_10_pos_words = differences.head(10)\n",
        "top_10_neg_words = differences.tail(10)\n",
        "top_good_and_bad = pd.concat([top_10_pos_words,top_10_neg_words])"
      ],
      "execution_count": 0,
      "outputs": []
    },
    {
      "cell_type": "code",
      "metadata": {
        "id": "nYeXEBp7UKBA",
        "colab_type": "code",
        "colab": {
          "base_uri": "https://localhost:8080/",
          "height": 280
        },
        "outputId": "5febbc53-2a5e-4ec4-e3f5-0c0222ef35f4"
      },
      "source": [
        "import seaborn as sb\n",
        "sb.set_style('whitegrid')\n",
        "sb.barplot(data=top_good_and_bad, y='word', x='difference_in_count',palette='coolwarm');"
      ],
      "execution_count": 382,
      "outputs": [
        {
          "output_type": "display_data",
          "data": {
            "image/png": "[encoded data removed]",
            "text/plain": [
              "<Figure size 432x288 with 1 Axes>"
            ]
          },
          "metadata": {
            "tags": []
          }
        }
      ]
    },
    {
      "cell_type": "markdown",
      "metadata": {
        "id": "CMf98Ih8vP3O",
        "colab_type": "text"
      },
      "source": [
        "## Interpretation (based on key words):\n",
        "*__Good__* coffee shops (obviously) have `delicious` coffee, made `perfectly`. The staff are `friendly` and It's in a good location (`spot`) for the customers. They may even serve `gelato` there.\n",
        "\n",
        "*__Bad__* coffee shops are those in which customers have to `ask` for something that they shouldn't have. the coffe may only `taste` `ok`, and the `order` may not have been correct. Such places may have the customer waiting a longer `time` than expected."
      ]
    },
    {
      "cell_type": "markdown",
      "metadata": {
        "colab_type": "text",
        "id": "1dCb1q8XphcP",
        "toc-hr-collapsed": true
      },
      "source": [
        "## Stretch Goals\n",
        "\n",
        "* Analyze another corpus of documents - such as Indeed.com job listings ;).\n",
        "* Play with the Spacy API to\n",
        " - Extract Named Entities\n",
        " - Extracting 'noun chunks'\n",
        " - Attempt Document Classification with just Spacy\n",
        " - *Note:* This [course](https://course.spacy.io/) will be of interesting in helping you with these stretch goals. \n",
        "* Try to build a plotly dash app with your text data \n",
        "\n"
      ]
    }
  ]
}