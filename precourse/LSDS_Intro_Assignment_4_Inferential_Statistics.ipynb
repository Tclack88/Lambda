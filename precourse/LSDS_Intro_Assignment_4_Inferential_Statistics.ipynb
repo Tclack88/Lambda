{
  "nbformat": 4,
  "nbformat_minor": 0,
  "metadata": {
    "colab": {
      "name": "Copy of LSDS Intro Assignment 4 - Inferential Statistics.ipynb",
      "provenance": [],
      "collapsed_sections": [],
      "include_colab_link": true
    },
    "kernelspec": {
      "display_name": "Python 3",
      "language": "python",
      "name": "python3"
    }
  },
  "cells": [
    {
      "cell_type": "markdown",
      "metadata": {
        "id": "view-in-github",
        "colab_type": "text"
      },
      "source": [
        "<a href=\"https://colab.research.google.com/github/Tclack88/Lambda/blob/master/precourse/LSDS_Intro_Assignment_4_Inferential_Statistics.ipynb\" target=\"_parent\"><img src=\"https://colab.research.google.com/assets/colab-badge.svg\" alt=\"Open In Colab\"/></a>"
      ]
    },
    {
      "cell_type": "markdown",
      "metadata": {
        "id": "LSwe_aflLNyk",
        "colab_type": "text"
      },
      "source": [
        "# Lambda School, Intro to Data Science, Day 4\n",
        "\n",
        "## Inferential Statistics Assignment"
      ]
    },
    {
      "cell_type": "code",
      "metadata": {
        "id": "i19U8PYQLNym",
        "colab_type": "code",
        "colab": {}
      },
      "source": [
        "%matplotlib inline\n",
        "import matplotlib.pyplot as plt\n",
        "import pandas as pd\n",
        "import random\n",
        "from statistics import mean, stdev"
      ],
      "execution_count": 0,
      "outputs": []
    },
    {
      "cell_type": "markdown",
      "metadata": {
        "id": "Gi1JCNi1LNyp",
        "colab_type": "text"
      },
      "source": [
        "# Titanic\n",
        "\n",
        "Use the [`describe` function in pandas](https://pandas.pydata.org/pandas-docs/stable/generated/pandas.DataFrame.describe.html) to calculate summary statistics (including mean and standard deviation) for `age` and `fare`.\n",
        "\n",
        "Think, and be ready to discuss: How do these two features compare in their central tendency and in their spread?"
      ]
    },
    {
      "cell_type": "code",
      "metadata": {
        "id": "r2ZTA_lILNyq",
        "colab_type": "code",
        "colab": {}
      },
      "source": [
        "df = pd.read_csv('https://raw.githubusercontent.com/ryanleeallred/datasets/master/titanic.csv', index_col=0)\n",
        "features = ['age', 'fare']\n",
        "df.dropna(subset=features, inplace=True)"
      ],
      "execution_count": 0,
      "outputs": []
    },
    {
      "cell_type": "code",
      "metadata": {
        "id": "N04bFF3PLNys",
        "colab_type": "code",
        "outputId": "e45002a6-5f38-43b4-e4f8-2847adca8dea",
        "colab": {
          "base_uri": "https://localhost:8080/",
          "height": 170
        }
      },
      "source": [
        "print(df.describe())"
      ],
      "execution_count": 0,
      "outputs": [
        {
          "output_type": "stream",
          "text": [
            "         survived      pclass         age       sibsp       parch        fare\n",
            "count  714.000000  714.000000  714.000000  714.000000  714.000000  714.000000\n",
            "mean     0.406162    2.236695   29.699118    0.512605    0.431373   34.694514\n",
            "std      0.491460    0.838250   14.526497    0.929783    0.853289   52.918930\n",
            "min      0.000000    1.000000    0.420000    0.000000    0.000000    0.000000\n",
            "25%      0.000000    1.000000   20.125000    0.000000    0.000000    8.050000\n",
            "50%      0.000000    2.000000   28.000000    0.000000    0.000000   15.741700\n",
            "75%      1.000000    3.000000   38.000000    1.000000    1.000000   33.375000\n",
            "max      1.000000    3.000000   80.000000    5.000000    6.000000  512.329200\n"
          ],
          "name": "stdout"
        }
      ]
    },
    {
      "cell_type": "markdown",
      "metadata": {
        "id": "dfFb3yzjLNyu",
        "colab_type": "text"
      },
      "source": [
        "Plot histograms for both features.\n",
        "\n",
        "Think, and be ready to discuss: What do you notice about the shape of these distributions?"
      ]
    },
    {
      "cell_type": "code",
      "metadata": {
        "id": "K2M9twlfLNyu",
        "colab_type": "code",
        "outputId": "f3f4883d-6dd5-47a8-d33a-dbadd9de6698",
        "colab": {
          "base_uri": "https://localhost:8080/",
          "height": 295
        }
      },
      "source": [
        "plt.hist(df.age,bins=20)\n",
        "plt.xlabel(\"Passenger age groups\")\n",
        "plt.ylabel(\"number of passengers\")\n",
        "plt.title(\"Distribution of passenger age\")\n",
        "plt.show()"
      ],
      "execution_count": 0,
      "outputs": [
        {
          "output_type": "display_data",
          "data": {
            "image/png": "[encoded data removed]",
            "text/plain": [
              "<Figure size 432x288 with 1 Axes>"
            ]
          },
          "metadata": {
            "tags": []
          }
        }
      ]
    },
    {
      "cell_type": "code",
      "metadata": {
        "id": "He1QDkWXLNyw",
        "colab_type": "code",
        "outputId": "35155b8a-29cb-4ea0-ef1b-2bbd18b9bdbb",
        "colab": {
          "base_uri": "https://localhost:8080/",
          "height": 295
        }
      },
      "source": [
        "plt.hist(df.fare)\n",
        "plt.title(\"distribution of passenger fares\")\n",
        "plt.xlabel(\"fare\")\n",
        "plt.ylabel(\"number of passengers\")\n",
        "plt.show()"
      ],
      "execution_count": 0,
      "outputs": [
        {
          "output_type": "display_data",
          "data": {
            "image/png": "[encoded data removed]",
            "text/plain": [
              "<Figure size 432x288 with 1 Axes>"
            ]
          },
          "metadata": {
            "tags": []
          }
        }
      ]
    },
    {
      "cell_type": "markdown",
      "metadata": {
        "id": "5cXkMdm-LNyz",
        "colab_type": "text"
      },
      "source": [
        "# Clumsy Carl\n",
        "\n",
        "Re-do the Clumsy Carl problem -- but suppose that Carl broke **2** of 5 dishes. What's the p-value?\n",
        "\n",
        "Think, and be ready to discuss: Would you reject the null hypothesis?\n",
        "\n",
        "Suggestion: You can look at the lecture notebook, but **don't copy-paste** from it!\n",
        "\n",
        "> You must type each of these exercises in, manually. If you copy and paste, you might as well not even do them. The point of these exercises is to train your hands, your brain, and your mind in how to read, write, and see code. If you copy-paste, you are cheating yourself out of the effectiveness of the lessons. —*[Learn Python the Hard Way](https://learnpythonthehardway.org/book/intro.html)*\n",
        "\n",
        "---\n",
        "\n",
        "Here's the problem restated:\n",
        "\n",
        "Imagine a restaurant employs five dishwashers:\n",
        "- Alice\n",
        "- Bob\n",
        "- Carl\n",
        "- Dave\n",
        "- Eric\n",
        "\n",
        "One week, they break five dishes -- and Carl breaks **two** of the five. So, his coworkers have a hypothesis: Carl is clumsy!\n",
        "\n",
        "Carl says no, it was just bad luck and random chance: it could have happened to anybody. We can call this the null hypothesis.\n",
        "\n",
        "Can we do some math to help answer this argument? What's the probability it was just bad luck?\n",
        "\n",
        "We can write a Monte Carlo simulation to estimate the probability that Carl breaks at least four of the five dishes, assuming that breaking a dish is a truly random event. (We'll assume that the dishwashers have identical workloads and skills.)\n"
      ]
    },
    {
      "cell_type": "code",
      "metadata": {
        "id": "5IdSBJnmLNy0",
        "colab_type": "code",
        "colab": {}
      },
      "source": [
        "dishwashers = ['Alice', 'Bob', 'Carl', 'Dave', 'Eric']"
      ],
      "execution_count": 0,
      "outputs": []
    },
    {
      "cell_type": "code",
      "metadata": {
        "id": "5AEdpBWaJhyn",
        "colab_type": "code",
        "colab": {}
      },
      "source": [
        "carl_broken_dishes = []\n",
        "for _ in range(10000):\n",
        "  carl_breaks = random.choices(dishwashers,k=5).count(\"Carl\")\n",
        "  carl_broken_dishes.append(carl_breaks)"
      ],
      "execution_count": 0,
      "outputs": []
    },
    {
      "cell_type": "code",
      "metadata": {
        "id": "mC8NwilHM-yN",
        "colab_type": "code",
        "outputId": "96c4090d-4ead-4493-fd5f-400d72119ef2",
        "colab": {
          "base_uri": "https://localhost:8080/",
          "height": 329
        }
      },
      "source": [
        "\n",
        "import numpy as np\n",
        "\n",
        "plt.hist(carl_broken_dishes, width = .8)\n",
        "plt.plot()\n",
        "plt.title(\"Number of Dishes broken by Carl (or anyone) given random chance\")\n",
        "plt.xlabel(\"number of dishes broken (of sample of 5)\")\n",
        "plt.ylabel(\"frequency of broken dishes\")\n",
        "plt.show()\n",
        "\n",
        "pvalue = sum([instance >= 2 for instance in carl_broken_dishes]) / len(carl_broken_dishes)\n",
        "print(\"pvalue:\",pvalue)\n",
        "print(\"pvalue > .05, therefore breaking 2 dishes is within the realm of likelihood\")"
      ],
      "execution_count": 0,
      "outputs": [
        {
          "output_type": "display_data",
          "data": {
            "image/png": "[encoded data removed]",
            "text/plain": [
              "<Figure size 432x288 with 1 Axes>"
            ]
          },
          "metadata": {
            "tags": []
          }
        },
        {
          "output_type": "stream",
          "text": [
            "pvalue: 0.2637\n",
            "pvalue > .05, therefore breaking 2 dishes is within the realm of likelihood\n"
          ],
          "name": "stdout"
        }
      ]
    },
    {
      "cell_type": "markdown",
      "metadata": {
        "id": "lbuNLuPVLNy4",
        "colab_type": "text"
      },
      "source": [
        "# Two dice\n",
        "\n",
        "Simulate the distribution of adding two dice.\n",
        "\n",
        "What is the mean? Standard deviation?"
      ]
    },
    {
      "cell_type": "code",
      "metadata": {
        "id": "Cn1yEJDQLNy5",
        "colab_type": "code",
        "outputId": "db36716d-1c24-4d3f-b688-d296f46de8db",
        "colab": {
          "base_uri": "https://localhost:8080/",
          "height": 51
        }
      },
      "source": [
        "dice = list(\"123456\")\n",
        "\n",
        "def roll():\n",
        "  roll1 = int(random.choice(dice))\n",
        "  roll2 = int(random.choice(dice))\n",
        "  return roll1+roll2\n",
        "\n",
        "rolls = [roll() for _ in range(10000)]\n",
        "\n",
        "print(\"mean:\",mean(rolls),\"\\nstandard deviation:\",stdev(rolls))"
      ],
      "execution_count": 0,
      "outputs": [
        {
          "output_type": "stream",
          "text": [
            "mean: 6.9976 \n",
            "standard deviation: 2.4263517795851097\n"
          ],
          "name": "stdout"
        }
      ]
    },
    {
      "cell_type": "markdown",
      "metadata": {
        "id": "8Q0iMN5-LNy7",
        "colab_type": "text"
      },
      "source": [
        "What is the standard score (z score) of rolling a 10?"
      ]
    },
    {
      "cell_type": "code",
      "metadata": {
        "id": "9kOLJtxjLNy7",
        "colab_type": "code",
        "outputId": "c42710d9-ec7b-4481-b2b0-087fb90e69b3",
        "colab": {
          "base_uri": "https://localhost:8080/",
          "height": 34
        }
      },
      "source": [
        "zscore = (10-mean(rolls))/stdev(rolls)\n",
        "print(\"zscore of rolling a 10:\",zscore)"
      ],
      "execution_count": 0,
      "outputs": [
        {
          "output_type": "stream",
          "text": [
            "zscore of rolling a 10: 1.237413315439936\n"
          ],
          "name": "stdout"
        }
      ]
    },
    {
      "cell_type": "markdown",
      "metadata": {
        "id": "OXVQVpV0LNy-",
        "colab_type": "text"
      },
      "source": [
        "What is the probability of rolling a 10 or higher?"
      ]
    },
    {
      "cell_type": "code",
      "metadata": {
        "id": "YfWhW40YLNy_",
        "colab_type": "code",
        "outputId": "2d5d2ed1-e7c1-4e53-deba-ce5d6aee07be",
        "colab": {
          "base_uri": "https://localhost:8080/",
          "height": 34
        }
      },
      "source": [
        "print(\"probability of rolling 10 or higher:\",sum([roll >= 10 for roll in rolls])/len(rolls))"
      ],
      "execution_count": 0,
      "outputs": [
        {
          "output_type": "stream",
          "text": [
            "probability of rolling 10 or higher: 0.1665\n"
          ],
          "name": "stdout"
        }
      ]
    },
    {
      "cell_type": "markdown",
      "metadata": {
        "id": "p8zeToPqLNzB",
        "colab_type": "text"
      },
      "source": [
        "# Harvest"
      ]
    },
    {
      "cell_type": "markdown",
      "metadata": {
        "id": "xf08Iq7uLNzC",
        "colab_type": "text"
      },
      "source": [
        "Using bootstrap resampling, calculate the 95% confidence interval for mean apple weight ..."
      ]
    },
    {
      "cell_type": "code",
      "metadata": {
        "id": "9pjuLKH5LNzC",
        "colab_type": "code",
        "colab": {}
      },
      "source": [
        "def bootstrap_sample(items):\n",
        "    # Random resample *with replacement*\n",
        "    return random.choices(items, k=len(items))\n",
        "\n",
        "def percentile(x, p):\n",
        "    # x: List of numbers\n",
        "    # p: Percentile, between 0 and 100\n",
        "    i = round((len(x) - 1) * p/100)\n",
        "    return sorted(x)[i]\n",
        "\n",
        "apples = [.5, .4, .5, .6, .3, .7]"
      ],
      "execution_count": 0,
      "outputs": []
    },
    {
      "cell_type": "code",
      "metadata": {
        "id": "khfyPC0ULNzD",
        "colab_type": "code",
        "colab": {}
      },
      "source": [
        "sample_means = [mean(bootstrap_sample(apples)) for sample in range(10000)]"
      ],
      "execution_count": 0,
      "outputs": []
    },
    {
      "cell_type": "code",
      "metadata": {
        "id": "qOro-BerEm7v",
        "colab_type": "code",
        "outputId": "a0930717-3901-48b7-dde0-59f5a09c46ec",
        "colab": {
          "base_uri": "https://localhost:8080/",
          "height": 269
        }
      },
      "source": [
        "plt.hist(sample_means)\n",
        "plt.show()"
      ],
      "execution_count": 0,
      "outputs": [
        {
          "output_type": "display_data",
          "data": {
            "image/png": "[encoded data removed]",
            "text/plain": [
              "<Figure size 432x288 with 1 Axes>"
            ]
          },
          "metadata": {
            "tags": []
          }
        }
      ]
    },
    {
      "cell_type": "code",
      "metadata": {
        "id": "5SFbPi01Etq4",
        "colab_type": "code",
        "outputId": "820ee260-80b2-48da-b303-71e09369872d",
        "colab": {
          "base_uri": "https://localhost:8080/",
          "height": 34
        }
      },
      "source": [
        "print(\"95% confidence interval for mean apple weight:\",percentile(sample_means,2.5),\"to\",percentile(sample_means,97.5))"
      ],
      "execution_count": 0,
      "outputs": [
        {
          "output_type": "stream",
          "text": [
            "95% confidence interval for mean apple weight: 0.4 to 0.6\n"
          ],
          "name": "stdout"
        }
      ]
    },
    {
      "cell_type": "markdown",
      "metadata": {
        "id": "xsqjoIYJLNzH",
        "colab_type": "text"
      },
      "source": [
        "... and for mean pumpkin weight:"
      ]
    },
    {
      "cell_type": "code",
      "metadata": {
        "id": "nqXdG9hQLNzH",
        "colab_type": "code",
        "colab": {}
      },
      "source": [
        "pumpkins = [1, 1, 1, 3, 3, 591]"
      ],
      "execution_count": 0,
      "outputs": []
    },
    {
      "cell_type": "code",
      "metadata": {
        "id": "c65JnpNHLNzI",
        "colab_type": "code",
        "colab": {}
      },
      "source": [
        "pumpkin_sample_means = [mean(bootstrap_sample(pumpkins)) for sample in range(10000)]"
      ],
      "execution_count": 0,
      "outputs": []
    },
    {
      "cell_type": "code",
      "metadata": {
        "id": "bjhaoQR-HDZw",
        "colab_type": "code",
        "outputId": "fb8bad4f-645d-4744-b3f5-d647d1557d38",
        "colab": {
          "base_uri": "https://localhost:8080/",
          "height": 269
        }
      },
      "source": [
        "plt.hist(pumpkin_sample_means)\n",
        "plt.show()"
      ],
      "execution_count": 0,
      "outputs": [
        {
          "output_type": "display_data",
          "data": {
            "image/png": "[encoded data removed]",
            "text/plain": [
              "<Figure size 432x288 with 1 Axes>"
            ]
          },
          "metadata": {
            "tags": []
          }
        }
      ]
    },
    {
      "cell_type": "code",
      "metadata": {
        "id": "QVl_z7zmHRQd",
        "colab_type": "code",
        "outputId": "57945663-b651-4a96-d397-d50492f1457a",
        "colab": {
          "base_uri": "https://localhost:8080/",
          "height": 34
        }
      },
      "source": [
        "print(\"95% confidence interval for mean pumpkin weight:\",percentile(pumpkin_sample_means,2.5),\"to\",percentile(pumpkin_sample_means,97.5))"
      ],
      "execution_count": 0,
      "outputs": [
        {
          "output_type": "stream",
          "text": [
            "95% confidence interval for mean pumpkin weight: 1.3333333333333333 to 296.6666666666667\n"
          ],
          "name": "stdout"
        }
      ]
    }
  ]
}