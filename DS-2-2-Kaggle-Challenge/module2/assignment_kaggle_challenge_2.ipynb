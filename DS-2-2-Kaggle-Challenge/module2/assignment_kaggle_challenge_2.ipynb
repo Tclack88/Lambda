{
  "nbformat": 4,
  "nbformat_minor": 0,
  "metadata": {
    "colab": {
      "name": "assignment_kaggle_challenge_2.ipynb",
      "provenance": [],
      "collapsed_sections": [],
      "include_colab_link": true
    },
    "kernelspec": {
      "display_name": "Python 3",
      "language": "python",
      "name": "python3"
    },
    "language_info": {
      "codemirror_mode": {
        "name": "ipython",
        "version": 3
      },
      "file_extension": ".py",
      "mimetype": "text/x-python",
      "name": "python",
      "nbconvert_exporter": "python",
      "pygments_lexer": "ipython3",
      "version": "3.7.3"
    }
  },
  "cells": [
    {
      "cell_type": "markdown",
      "metadata": {
        "id": "view-in-github",
        "colab_type": "text"
      },
      "source": [
        "<a href=\"https://colab.research.google.com/github/Tclack88/DS-Unit-2-Kaggle-Challenge/blob/master/module2/assignment_kaggle_challenge_2.ipynb\" target=\"_parent\"><img src=\"https://colab.research.google.com/assets/colab-badge.svg\" alt=\"Open In Colab\"/></a>"
      ]
    },
    {
      "cell_type": "markdown",
      "metadata": {
        "colab_type": "text",
        "id": "7IXUfiQ2UKj6"
      },
      "source": [
        "Lambda School Data Science, Unit 2: Predictive Modeling\n",
        "\n",
        "# Kaggle Challenge, Module 2\n",
        "\n",
        "## Assignment\n",
        "- [ ] Read [“Adopting a Hypothesis-Driven Workflow”](https://outline.com/5S5tsB), a blog post by a Lambda DS student about the Tanzania Waterpumps challenge.\n",
        "- [x] Continue to participate in our Kaggle challenge.\n",
        "- [x] Try Ordinal Encoding.\n",
        "- [x] Try a Random Forest Classifier.\n",
        "- [x] Submit your predictions to our Kaggle competition. (Go to our Kaggle InClass competition webpage. Use the blue **Submit Predictions** button to upload your CSV file. Or you can use the Kaggle API to submit your predictions.)\n",
        "- [x] Commit your notebook to your fork of the GitHub repo.\n",
        "\n",
        "## Stretch Goals\n",
        "\n",
        "### Doing\n",
        "- [x] Add your own stretch goal(s) !\n",
        "- [x] Do more exploratory data analysis, data cleaning, feature engineering, and feature selection.\n",
        "- [x] Try other [categorical encodings](https://contrib.scikit-learn.org/categorical-encoding/).\n",
        "- [x] Get and plot your feature importances.\n",
        "- [ ] Make visualizations and share on Slack.\n",
        "\n",
        "### Reading\n",
        "\n",
        "Top recommendations in _**bold italic:**_\n",
        "\n",
        "#### Decision Trees\n",
        "- A Visual Introduction to Machine Learning, [Part 1: A Decision Tree](http://www.r2d3.us/visual-intro-to-machine-learning-part-1/),  and _**[Part 2: Bias and Variance](http://www.r2d3.us/visual-intro-to-machine-learning-part-2/)**_\n",
        "- [Decision Trees: Advantages & Disadvantages](https://christophm.github.io/interpretable-ml-book/tree.html#advantages-2)\n",
        "- [How a Russian mathematician constructed a decision tree — by hand — to solve a medical problem](http://fastml.com/how-a-russian-mathematician-constructed-a-decision-tree-by-hand-to-solve-a-medical-problem/)\n",
        "- [How decision trees work](https://brohrer.github.io/how_decision_trees_work.html)\n",
        "- [Let’s Write a Decision Tree Classifier from Scratch](https://www.youtube.com/watch?v=LDRbO9a6XPU)\n",
        "\n",
        "#### Random Forests\n",
        "- [_An Introduction to Statistical Learning_](http://www-bcf.usc.edu/~gareth/ISL/), Chapter 8: Tree-Based Methods\n",
        "- [Coloring with Random Forests](http://structuringtheunstructured.blogspot.com/2017/11/coloring-with-random-forests.html)\n",
        "- _**[Random Forests for Complete Beginners: The definitive guide to Random Forests and Decision Trees](https://victorzhou.com/blog/intro-to-random-forests/)**_\n",
        "\n",
        "#### Categorical encoding for trees\n",
        "- [Are categorical variables getting lost in your random forests?](https://roamanalytics.com/2016/10/28/are-categorical-variables-getting-lost-in-your-random-forests/)\n",
        "- [Beyond One-Hot: An Exploration of Categorical Variables](http://www.willmcginnis.com/2015/11/29/beyond-one-hot-an-exploration-of-categorical-variables/)\n",
        "- _**[Categorical Features and Encoding in Decision Trees](https://medium.com/data-design/visiting-categorical-features-and-encoding-in-decision-trees-53400fa65931)**_\n",
        "- _**[Coursera — How to Win a Data Science Competition: Learn from Top Kagglers — Concept of mean encoding](https://www.coursera.org/lecture/competitive-data-science/concept-of-mean-encoding-b5Gxv)**_\n",
        "- [Mean (likelihood) encodings: a comprehensive study](https://www.kaggle.com/vprokopev/mean-likelihood-encodings-a-comprehensive-study)\n",
        "- [The Mechanics of Machine Learning, Chapter 6: Categorically Speaking](https://mlbook.explained.ai/catvars.html)\n",
        "\n",
        "#### Imposter Syndrome\n",
        "- [Effort Shock and Reward Shock (How The Karate Kid Ruined The Modern World)](http://www.tempobook.com/2014/07/09/effort-shock-and-reward-shock/)\n",
        "- [How to manage impostor syndrome in data science](https://towardsdatascience.com/how-to-manage-impostor-syndrome-in-data-science-ad814809f068)\n",
        "- [\"I am not a real data scientist\"](https://brohrer.github.io/imposter_syndrome.html)\n",
        "- _**[Imposter Syndrome in Data Science](https://caitlinhudon.com/2018/01/19/imposter-syndrome-in-data-science/)**_\n",
        "\n",
        "\n",
        "\n",
        "\n"
      ]
    },
    {
      "cell_type": "markdown",
      "metadata": {
        "id": "pdb1pZ-zdyZQ",
        "colab_type": "text"
      },
      "source": [
        "### Setup\n",
        "\n",
        "You can work locally (follow the [local setup instructions](https://lambdaschool.github.io/ds/unit2/local/)) or on Colab (run the code cell below)."
      ]
    },
    {
      "cell_type": "code",
      "metadata": {
        "colab_type": "code",
        "id": "o9eSnDYhUGD7",
        "colab": {}
      },
      "source": [
        "import os, sys\n",
        "in_colab = 'google.colab' in sys.modules\n",
        "\n",
        "# If you're in Colab...\n",
        "if in_colab:\n",
        "    # Pull files from Github repo\n",
        "    os.chdir('/content')\n",
        "    !git init .\n",
        "    !git remote add origin https://github.com/LambdaSchool/DS-Unit-2-Kaggle-Challenge.git\n",
        "    !git pull origin master\n",
        "    \n",
        "    # Install required python packages\n",
        "    !pip install -r requirements.txt\n",
        "    \n",
        "    # Change into directory for module\n",
        "    os.chdir('module2')"
      ],
      "execution_count": 0,
      "outputs": []
    },
    {
      "cell_type": "code",
      "metadata": {
        "colab_type": "code",
        "id": "QJBD4ruICm1m",
        "colab": {}
      },
      "source": [
        "import pandas as pd\n",
        "from sklearn.model_selection import train_test_split\n",
        "\n",
        "# Merge train_features.csv & train_labels.csv\n",
        "train = pd.merge(pd.read_csv('../data/waterpumps/train_features.csv'), \n",
        "                 pd.read_csv('../data/waterpumps/train_labels.csv'))\n",
        "\n",
        "# Read test_features.csv & sample_submission.csv\n",
        "test = pd.read_csv('../data/waterpumps/test_features.csv')\n",
        "sample_submission = pd.read_csv('../data/waterpumps/sample_submission.csv')"
      ],
      "execution_count": 0,
      "outputs": []
    },
    {
      "cell_type": "markdown",
      "metadata": {
        "id": "sItx4UrQtBwV",
        "colab_type": "text"
      },
      "source": [
        "### supporting definitions for data cleaning and wrangling"
      ]
    },
    {
      "cell_type": "code",
      "metadata": {
        "id": "sXsAYWE_rufR",
        "colab_type": "code",
        "colab": {}
      },
      "source": [
        "import numpy as np\n",
        "import matplotlib.pyplot as plt"
      ],
      "execution_count": 0,
      "outputs": []
    },
    {
      "cell_type": "code",
      "metadata": {
        "id": "QzC4m9Kge5Fw",
        "colab_type": "code",
        "colab": {}
      },
      "source": [
        "# Supporting definitions for Wrangle\n",
        "# this will lower the high cardinality columns, removing much of the noise\n",
        "def convert_top_100(col_list,df,train):\n",
        "  for col in col_list:\n",
        "    global col_top_100\n",
        "    col_top_100 = train[col].value_counts().index[0:100] # get top 100 of train only, then apply mapping to df in question if applicable\n",
        "    df[col] = df[col].apply(map_to_100)\n",
        "  return df\n",
        "    \n",
        "def map_to_100(feat):\n",
        "  if feat in col_top_100:\n",
        "    return feat\n",
        "  else:\n",
        "    return 'other'\n",
        "\n",
        "\n",
        "  \n",
        "  \n",
        "# The main data wrangling function\n",
        "def wrangle(df):\n",
        "  \n",
        "  # Imputer maintains True False, instead of 1,0. I prefer 1 column instead of 4\n",
        "  bool_cols = ['public_meeting','permit']\n",
        "  for col in bool_cols:\n",
        "    df[col] = df[col].fillna(df[col].value_counts().index[0]).astype(int)\n",
        "                 \n",
        "  # convert some values to booleans, fill in missing values, replace suspicious values with nans\n",
        "  high_cardinality_cols = ['wpt_name','subvillage','installer','funder','ward']\n",
        "  df = convert_top_100(high_cardinality_cols,df,train) # keep the data pure to the \"train\" data set\n",
        "  \n",
        "  df.scheme_manamement = df.scheme_management.fillna('None') # a 'None' category exists, so might as well change nan to None\n",
        "  \n",
        "   # change this large count of near-zero outliers to 0, then convert to nan\n",
        "  df.latitude = df.latitude.replace(-2e-8,0).value_counts()\n",
        "  \n",
        "  cols_with_0 = ['latitude','longitude', 'population','construction_year'] # population 1 also exists\n",
        "  for col in cols_with_0:\n",
        "    df[col] = df[col].replace(0,np.nan)\n",
        "    \n",
        "  df.population = df.population.replace(1,np.nan)\n",
        "\n",
        "                 \n",
        "  # remove columns that are \"obviously\" irrelevant, have too many categorical features, or are redundant\n",
        "  drop = ['id','date_recorded','num_private','recorded_by','extraction_type',\n",
        "          'extraction_type_group','water_quality','quantity','source','source_type',\n",
        "          'waterpoint_type','scheme_name',\n",
        "          'payment','management']\n",
        "  \n",
        "  df = df.drop(columns = drop)\n",
        "  \n",
        "  return df"
      ],
      "execution_count": 0,
      "outputs": []
    },
    {
      "cell_type": "markdown",
      "metadata": {
        "id": "fP7FL-ietJ8f",
        "colab_type": "text"
      },
      "source": [
        "### split away relevant information\n",
        "\n",
        "### clean and wrangle data"
      ]
    },
    {
      "cell_type": "code",
      "metadata": {
        "id": "lwap565ZszCi",
        "colab_type": "code",
        "colab": {
          "base_uri": "https://localhost:8080/",
          "height": 54
        },
        "outputId": "1bf3abbd-80c2-42ee-c9ea-6945e24380f9"
      },
      "source": [
        "# separate out id columns\n",
        "train_id = train.id # I don't think this is necessary, but I'm keeping train id\n",
        "test_id = test.id\n",
        "\n",
        "# Separate features and labels\n",
        "train_features = train.drop(columns=['status_group'])\n",
        "train_labels = train.status_group\n",
        "test_features = test.copy() # renaming to keep consistancy in variable names\n",
        "\n",
        "train_features_clean = wrangle(train_features)\n",
        "test_features_clean = wrangle(test_features)"
      ],
      "execution_count": 258,
      "outputs": [
        {
          "output_type": "stream",
          "text": [
            "/usr/local/lib/python3.6/dist-packages/ipykernel_launcher.py:29: UserWarning: Pandas doesn't allow columns to be created via a new attribute name - see https://pandas.pydata.org/pandas-docs/stable/indexing.html#attribute-access\n"
          ],
          "name": "stderr"
        }
      ]
    },
    {
      "cell_type": "markdown",
      "metadata": {
        "id": "5G89r5Jytjma",
        "colab_type": "text"
      },
      "source": [
        "### Split data and apply pipeline model"
      ]
    },
    {
      "cell_type": "code",
      "metadata": {
        "id": "PnUg1lM4tts4",
        "colab_type": "code",
        "colab": {}
      },
      "source": [
        "from sklearn.model_selection import train_test_split\n",
        "import category_encoders as ce\n",
        "from sklearn.impute import SimpleImputer\n",
        "from sklearn.ensemble import ExtraTreesClassifier\n",
        "from sklearn.pipeline import make_pipeline"
      ],
      "execution_count": 0,
      "outputs": []
    },
    {
      "cell_type": "code",
      "metadata": {
        "id": "qkvJfOGEwLuO",
        "colab_type": "code",
        "colab": {}
      },
      "source": [
        "X_train,X_val,y_train,y_val = train_test_split(train_features_clean,train_labels)"
      ],
      "execution_count": 0,
      "outputs": []
    },
    {
      "cell_type": "markdown",
      "metadata": {
        "id": "AedSoBYgRZIJ",
        "colab_type": "text"
      },
      "source": [
        "### Stretch: trying an ExtraTreesClassifier\n",
        "(because I did random forest previously)"
      ]
    },
    {
      "cell_type": "code",
      "metadata": {
        "id": "quLph9PBudZR",
        "colab_type": "code",
        "colab": {}
      },
      "source": [
        "rf = make_pipeline(ce.OrdinalEncoder(),\n",
        "                   SimpleImputer(),\n",
        "                   ExtraTreesClassifier(n_estimators=300,max_depth=20))"
      ],
      "execution_count": 0,
      "outputs": []
    },
    {
      "cell_type": "code",
      "metadata": {
        "id": "7TiJ-no3vIp7",
        "colab_type": "code",
        "colab": {
          "base_uri": "https://localhost:8080/",
          "height": 391
        },
        "outputId": "eea8f932-a12a-4720-b33a-51e17cd6c5c0"
      },
      "source": [
        "rf.fit(X_train,y_train)"
      ],
      "execution_count": 313,
      "outputs": [
        {
          "output_type": "execute_result",
          "data": {
            "text/plain": [
              "Pipeline(memory=None,\n",
              "         steps=[('ordinalencoder',\n",
              "                 OrdinalEncoder(cols=['funder', 'installer', 'wpt_name',\n",
              "                                      'basin', 'subvillage', 'region', 'lga',\n",
              "                                      'ward', 'scheme_management',\n",
              "                                      'extraction_type_class',\n",
              "                                      'management_group', 'payment_type',\n",
              "                                      'quality_group', 'quantity_group',\n",
              "                                      'source_class', 'waterpoint_type_group'],\n",
              "                                drop_invariant=False, handle_missing='value',\n",
              "                                handle_unknow...\n",
              "                 ExtraTreesClassifier(bootstrap=False, class_weight=None,\n",
              "                                      criterion='gini', max_depth=20,\n",
              "                                      max_features='auto', max_leaf_nodes=None,\n",
              "                                      min_impurity_decrease=0.0,\n",
              "                                      min_impurity_split=None,\n",
              "                                      min_samples_leaf=1, min_samples_split=2,\n",
              "                                      min_weight_fraction_leaf=0.0,\n",
              "                                      n_estimators=300, n_jobs=None,\n",
              "                                      oob_score=False, random_state=None,\n",
              "                                      verbose=0, warm_start=False))],\n",
              "         verbose=False)"
            ]
          },
          "metadata": {
            "tags": []
          },
          "execution_count": 313
        }
      ]
    },
    {
      "cell_type": "code",
      "metadata": {
        "id": "adxMU6wYIrSh",
        "colab_type": "code",
        "colab": {
          "base_uri": "https://localhost:8080/",
          "height": 595
        },
        "outputId": "49fe7f19-1623-44b4-8855-92bb1e8e4f92"
      },
      "source": [
        "encoder = rf.named_steps['ordinalencoder']\n",
        "important_features = encoder.transform(X_train).columns\n",
        "model = rf.named_steps['extratreesclassifier']\n",
        "feature_importance = model.feature_importances_\n",
        "\n",
        "fig = plt.figure(figsize=(10,10))\n",
        "pd.Series(feature_importance,important_features).sort_values().plot.barh(color='darkred');"
      ],
      "execution_count": 328,
      "outputs": [
        {
          "output_type": "display_data",
          "data": {
            "image/png": "[encoded data removed]",
            "text/plain": [
              "<Figure size 720x720 with 1 Axes>"
            ]
          },
          "metadata": {
            "tags": []
          }
        }
      ]
    },
    {
      "cell_type": "markdown",
      "metadata": {
        "id": "gz-h1hGUImrP",
        "colab_type": "text"
      },
      "source": [
        "### test on validation data and create prediction submission"
      ]
    },
    {
      "cell_type": "code",
      "metadata": {
        "id": "2un91rpAvRe3",
        "colab_type": "code",
        "colab": {
          "base_uri": "https://localhost:8080/",
          "height": 34
        },
        "outputId": "34358afd-82d0-4bd6-bf2e-64242ebe0362"
      },
      "source": [
        "rf.score(X_val,y_val)"
      ],
      "execution_count": 314,
      "outputs": [
        {
          "output_type": "execute_result",
          "data": {
            "text/plain": [
              "0.8034343434343434"
            ]
          },
          "metadata": {
            "tags": []
          },
          "execution_count": 314
        }
      ]
    },
    {
      "cell_type": "code",
      "metadata": {
        "id": "9JxrGh86ve_T",
        "colab_type": "code",
        "colab": {}
      },
      "source": [
        "y_pred = rf.predict(test_features_clean)"
      ],
      "execution_count": 0,
      "outputs": []
    },
    {
      "cell_type": "code",
      "metadata": {
        "id": "ndGOEucWONxf",
        "colab_type": "code",
        "colab": {}
      },
      "source": [
        "submission = pd.concat([test_id,pd.Series(y_pred)],axis=1).rename(columns={0:'status_group'})\n",
        "submission.to_csv(\"Trevor_Clack_waterpumps_sub3.csv\",index=False)"
      ],
      "execution_count": 0,
      "outputs": []
    }
  ]
}