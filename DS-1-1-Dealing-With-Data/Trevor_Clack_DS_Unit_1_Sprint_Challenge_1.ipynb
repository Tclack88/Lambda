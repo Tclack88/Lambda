{
  "nbformat": 4,
  "nbformat_minor": 0,
  "metadata": {
    "colab": {
      "name": "Trevor Clack - DS_Unit_1_Sprint_Challenge_1.ipynb",
      "provenance": [],
      "collapsed_sections": [],
      "include_colab_link": true
    },
    "kernelspec": {
      "name": "python3",
      "display_name": "Python 3"
    }
  },
  "cells": [
    {
      "cell_type": "markdown",
      "metadata": {
        "id": "view-in-github",
        "colab_type": "text"
      },
      "source": [
        "<a href=\"https://colab.research.google.com/github/Tclack88/Lambda/blob/master/DS-1-1-Dealing-With-Data/Trevor_Clack_DS_Unit_1_Sprint_Challenge_1.ipynb\" target=\"_parent\"><img src=\"https://colab.research.google.com/assets/colab-badge.svg\" alt=\"Open In Colab\"/></a>"
      ]
    },
    {
      "cell_type": "markdown",
      "metadata": {
        "id": "NooAiTdnafkz",
        "colab_type": "text"
      },
      "source": [
        "# Data Science Unit 1 Sprint Challenge 1\n",
        "\n",
        "## Loading, cleaning, visualizing, and analyzing data\n",
        "\n",
        "In this sprint challenge you will look at a dataset of the survival of patients who underwent surgery for breast cancer.\n",
        "\n",
        "http://archive.ics.uci.edu/ml/datasets/Haberman%27s+Survival\n",
        "\n",
        "Data Set Information:\n",
        "The dataset contains cases from a study that was conducted between 1958 and 1970 at the University of Chicago's Billings Hospital on the survival of patients who had undergone surgery for breast cancer.\n",
        "\n",
        "Attribute Information:\n",
        "1. Age of patient at time of operation (numerical)\n",
        "2. Patient's year of operation (year - 1900, numerical)\n",
        "3. Number of positive axillary nodes detected (numerical)\n",
        "4. Survival status (class attribute)\n",
        "-- 1 = the patient survived 5 years or longer\n",
        "-- 2 = the patient died within 5 year\n",
        "\n",
        "Sprint challenges are evaluated based on satisfactory completion of each part. It is suggested you work through it in order, getting each aspect reasonably working, before trying to deeply explore, iterate, or refine any given step. Once you get to the end, if you want to go back and improve things, go for it!"
      ]
    },
    {
      "cell_type": "markdown",
      "metadata": {
        "id": "DUjOBLFAr3A5",
        "colab_type": "text"
      },
      "source": [
        "## Part 0 - Revert your version of Pandas right from the start\n",
        "I don't want any of you to get stuck because of Pandas bugs, so right from the get-go revert back to version `0.23.4`\n",
        "- Run the cell below\n",
        "- Then restart your runtime. Go to `Runtime`  ->  `Restart runtime...` in the top menu (or click the \"RESTART RUNTIME\" button that shows up in the output of the cell below).\n"
      ]
    },
    {
      "cell_type": "code",
      "metadata": {
        "id": "PWq6GbkjsRYQ",
        "colab_type": "code",
        "colab": {}
      },
      "source": [
        "#!pip install pandas==0.23.4"
      ],
      "execution_count": 0,
      "outputs": []
    },
    {
      "cell_type": "markdown",
      "metadata": {
        "id": "5wch6ksCbJtZ",
        "colab_type": "text"
      },
      "source": [
        "## Part 1 - Load and validate the data\n",
        "\n",
        "- Load the data as a `pandas` data frame.\n",
        "- Validate that it has the appropriate number of observations (you can check the raw file, and also read the dataset description from UCI).\n",
        "- Validate that you have no missing values.\n",
        "- Add informative names to the features.\n",
        "- The survival variable is encoded as 1 for surviving >5 years and 2 for not - change this to be 0 for not surviving and 1 for surviving >5 years (0/1 is a more traditional encoding of binary variables)\n",
        "\n",
        "At the end, print the first five rows of the dataset to demonstrate the above."
      ]
    },
    {
      "cell_type": "code",
      "metadata": {
        "id": "287TpoGKFRVK",
        "colab_type": "code",
        "colab": {}
      },
      "source": [
        "import pandas as pd\n",
        "import seaborn as sb\n",
        "import matplotlib.pyplot as plt\n"
      ],
      "execution_count": 0,
      "outputs": []
    },
    {
      "cell_type": "code",
      "metadata": {
        "id": "e_qQq-_5H0oz",
        "colab_type": "code",
        "outputId": "7469c6e9-a654-4792-c976-5b9837c81ee6",
        "colab": {
          "base_uri": "https://localhost:8080/",
          "height": 85
        }
      },
      "source": [
        "# !curl http://archive.ics.uci.edu/ml/machine-learning-databases/haberman/haberman.data\n",
        "# !curl http://archive.ics.uci.edu/ml/machine-learning-databases/haberman/haberman.names\n",
        "\n",
        "\n",
        "# Number of Instances: 306\n",
        "# Number of Attributes: 4 (including the class attribute)\n",
        "# Attribute Information:\n",
        "#    1. Age of patient at time of operation (numerical)\n",
        "#    2. Patient's year of operation (year - 1900, numerical)\n",
        "#    3. Number of positive axillary nodes detected (numerical)\n",
        "#    4. Survival status (class attribute)\n",
        "#          1 = the patient survived 5 years or longer\n",
        "#          2 = the patient died within 5 year\n",
        "# Missing Attribute Values: None\n",
        "\n",
        "# Load data frame, include relevant headers\n",
        "cols = ['age','year','nodes','survive']\n",
        "df = pd.read_csv(\"http://archive.ics.uci.edu/ml/machine-learning-databases/haberman/haberman.data\",names = cols)\n",
        "\n",
        "# Verify No missing entries for each column\n",
        "for x in cols:\n",
        "  print(\"missing entries in column\",x,\":\", df[x].isna().sum())\n",
        "\n",
        "# Encode \"survive\" to more traditional values\n",
        "def two_to_0(x):\n",
        "  if x == 2:\n",
        "    return 0\n",
        "  else:\n",
        "    return 1\n",
        "\n",
        "df.survive = df.survive.apply(two_to_0)"
      ],
      "execution_count": 0,
      "outputs": [
        {
          "output_type": "stream",
          "text": [
            "missing entries in column age : 0\n",
            "missing entries in column year : 0\n",
            "missing entries in column nodes : 0\n",
            "missing entries in column survive : 0\n"
          ],
          "name": "stdout"
        }
      ]
    },
    {
      "cell_type": "code",
      "metadata": {
        "id": "jyBeFk7OOTx6",
        "colab_type": "code",
        "outputId": "aa5e05b4-9da2-4a92-c4d2-4c6fcac8ee35",
        "colab": {
          "base_uri": "https://localhost:8080/",
          "height": 204
        }
      },
      "source": [
        "df.head()"
      ],
      "execution_count": 0,
      "outputs": [
        {
          "output_type": "execute_result",
          "data": {
            "text/html": [
              "<div>\n",
              "<style scoped>\n",
              "    .dataframe tbody tr th:only-of-type {\n",
              "        vertical-align: middle;\n",
              "    }\n",
              "\n",
              "    .dataframe tbody tr th {\n",
              "        vertical-align: top;\n",
              "    }\n",
              "\n",
              "    .dataframe thead th {\n",
              "        text-align: right;\n",
              "    }\n",
              "</style>\n",
              "<table border=\"1\" class=\"dataframe\">\n",
              "  <thead>\n",
              "    <tr style=\"text-align: right;\">\n",
              "      <th></th>\n",
              "      <th>age</th>\n",
              "      <th>year</th>\n",
              "      <th>nodes</th>\n",
              "      <th>survive</th>\n",
              "    </tr>\n",
              "  </thead>\n",
              "  <tbody>\n",
              "    <tr>\n",
              "      <th>0</th>\n",
              "      <td>30</td>\n",
              "      <td>64</td>\n",
              "      <td>1</td>\n",
              "      <td>1</td>\n",
              "    </tr>\n",
              "    <tr>\n",
              "      <th>1</th>\n",
              "      <td>30</td>\n",
              "      <td>62</td>\n",
              "      <td>3</td>\n",
              "      <td>1</td>\n",
              "    </tr>\n",
              "    <tr>\n",
              "      <th>2</th>\n",
              "      <td>30</td>\n",
              "      <td>65</td>\n",
              "      <td>0</td>\n",
              "      <td>1</td>\n",
              "    </tr>\n",
              "    <tr>\n",
              "      <th>3</th>\n",
              "      <td>31</td>\n",
              "      <td>59</td>\n",
              "      <td>2</td>\n",
              "      <td>1</td>\n",
              "    </tr>\n",
              "    <tr>\n",
              "      <th>4</th>\n",
              "      <td>31</td>\n",
              "      <td>65</td>\n",
              "      <td>4</td>\n",
              "      <td>1</td>\n",
              "    </tr>\n",
              "  </tbody>\n",
              "</table>\n",
              "</div>"
            ],
            "text/plain": [
              "   age  year  nodes  survive\n",
              "0   30    64      1        1\n",
              "1   30    62      3        1\n",
              "2   30    65      0        1\n",
              "3   31    59      2        1\n",
              "4   31    65      4        1"
            ]
          },
          "metadata": {
            "tags": []
          },
          "execution_count": 4
        }
      ]
    },
    {
      "cell_type": "markdown",
      "metadata": {
        "id": "G7rLytbrO38L",
        "colab_type": "text"
      },
      "source": [
        "## Part 2 - Examine the distribution and relationships of the features\n",
        "\n",
        "Explore the data - create at least *2* tables (can be summary statistics or crosstabulations) and *2* plots illustrating the nature of the data.\n",
        "\n",
        "This is open-ended, so to remind - first *complete* this task as a baseline, then go on to the remaining sections, and *then* as time allows revisit and explore further.\n",
        "\n",
        "Hint - you may need to bin some variables depending on your chosen tables/plots."
      ]
    },
    {
      "cell_type": "code",
      "metadata": {
        "id": "IAkllgCIFVj0",
        "colab_type": "code",
        "outputId": "52ef1367-3176-42d7-af17-c62feb0a0fa2",
        "colab": {
          "base_uri": "https://localhost:8080/",
          "height": 297
        }
      },
      "source": [
        "# Summary Statistics\n",
        "round(df.describe(),2)"
      ],
      "execution_count": 0,
      "outputs": [
        {
          "output_type": "execute_result",
          "data": {
            "text/html": [
              "<div>\n",
              "<style scoped>\n",
              "    .dataframe tbody tr th:only-of-type {\n",
              "        vertical-align: middle;\n",
              "    }\n",
              "\n",
              "    .dataframe tbody tr th {\n",
              "        vertical-align: top;\n",
              "    }\n",
              "\n",
              "    .dataframe thead th {\n",
              "        text-align: right;\n",
              "    }\n",
              "</style>\n",
              "<table border=\"1\" class=\"dataframe\">\n",
              "  <thead>\n",
              "    <tr style=\"text-align: right;\">\n",
              "      <th></th>\n",
              "      <th>age</th>\n",
              "      <th>year</th>\n",
              "      <th>nodes</th>\n",
              "      <th>survive</th>\n",
              "    </tr>\n",
              "  </thead>\n",
              "  <tbody>\n",
              "    <tr>\n",
              "      <th>count</th>\n",
              "      <td>306.00</td>\n",
              "      <td>306.00</td>\n",
              "      <td>306.00</td>\n",
              "      <td>306.00</td>\n",
              "    </tr>\n",
              "    <tr>\n",
              "      <th>mean</th>\n",
              "      <td>52.46</td>\n",
              "      <td>62.85</td>\n",
              "      <td>4.03</td>\n",
              "      <td>0.74</td>\n",
              "    </tr>\n",
              "    <tr>\n",
              "      <th>std</th>\n",
              "      <td>10.80</td>\n",
              "      <td>3.25</td>\n",
              "      <td>7.19</td>\n",
              "      <td>0.44</td>\n",
              "    </tr>\n",
              "    <tr>\n",
              "      <th>min</th>\n",
              "      <td>30.00</td>\n",
              "      <td>58.00</td>\n",
              "      <td>0.00</td>\n",
              "      <td>0.00</td>\n",
              "    </tr>\n",
              "    <tr>\n",
              "      <th>25%</th>\n",
              "      <td>44.00</td>\n",
              "      <td>60.00</td>\n",
              "      <td>0.00</td>\n",
              "      <td>0.00</td>\n",
              "    </tr>\n",
              "    <tr>\n",
              "      <th>50%</th>\n",
              "      <td>52.00</td>\n",
              "      <td>63.00</td>\n",
              "      <td>1.00</td>\n",
              "      <td>1.00</td>\n",
              "    </tr>\n",
              "    <tr>\n",
              "      <th>75%</th>\n",
              "      <td>60.75</td>\n",
              "      <td>65.75</td>\n",
              "      <td>4.00</td>\n",
              "      <td>1.00</td>\n",
              "    </tr>\n",
              "    <tr>\n",
              "      <th>max</th>\n",
              "      <td>83.00</td>\n",
              "      <td>69.00</td>\n",
              "      <td>52.00</td>\n",
              "      <td>1.00</td>\n",
              "    </tr>\n",
              "  </tbody>\n",
              "</table>\n",
              "</div>"
            ],
            "text/plain": [
              "          age    year   nodes  survive\n",
              "count  306.00  306.00  306.00   306.00\n",
              "mean    52.46   62.85    4.03     0.74\n",
              "std     10.80    3.25    7.19     0.44\n",
              "min     30.00   58.00    0.00     0.00\n",
              "25%     44.00   60.00    0.00     0.00\n",
              "50%     52.00   63.00    1.00     1.00\n",
              "75%     60.75   65.75    4.00     1.00\n",
              "max     83.00   69.00   52.00     1.00"
            ]
          },
          "metadata": {
            "tags": []
          },
          "execution_count": 5
        }
      ]
    },
    {
      "cell_type": "code",
      "metadata": {
        "id": "7ttsINhRPy-r",
        "colab_type": "code",
        "outputId": "2e81350c-3013-4c10-ced5-80a2eaafdb34",
        "colab": {
          "base_uri": "https://localhost:8080/",
          "height": 266
        }
      },
      "source": [
        "# Crosstab, nodes to age (nodes are more concentrated in the lower end with a mean of 4, so it's sensible to check the early spread with smaller bin sizes)\n",
        "age_bins = pd.cut(df.age,6)\n",
        "#node_bins = pd.cut(df.nodes,5)\n",
        "node_bins = pd.cut(df.nodes,[0,1,2,3,4,5,10,15,30,52],include_lowest=True) # include lowest set to allow for 0 to be included\n",
        "year_bins = pd.cut(df.year,4)\n",
        "#survive_bins = pd.cut(df.survive,1)\n",
        "pd.crosstab(age_bins,[node_bins])"
      ],
      "execution_count": 0,
      "outputs": [
        {
          "output_type": "execute_result",
          "data": {
            "text/html": [
              "<div>\n",
              "<style scoped>\n",
              "    .dataframe tbody tr th:only-of-type {\n",
              "        vertical-align: middle;\n",
              "    }\n",
              "\n",
              "    .dataframe tbody tr th {\n",
              "        vertical-align: top;\n",
              "    }\n",
              "\n",
              "    .dataframe thead th {\n",
              "        text-align: right;\n",
              "    }\n",
              "</style>\n",
              "<table border=\"1\" class=\"dataframe\">\n",
              "  <thead>\n",
              "    <tr style=\"text-align: right;\">\n",
              "      <th>nodes</th>\n",
              "      <th>(-0.001, 1.0]</th>\n",
              "      <th>(1.0, 2.0]</th>\n",
              "      <th>(2.0, 3.0]</th>\n",
              "      <th>(3.0, 4.0]</th>\n",
              "      <th>(4.0, 5.0]</th>\n",
              "      <th>(5.0, 10.0]</th>\n",
              "      <th>(10.0, 15.0]</th>\n",
              "      <th>(15.0, 30.0]</th>\n",
              "      <th>(30.0, 52.0]</th>\n",
              "    </tr>\n",
              "    <tr>\n",
              "      <th>age</th>\n",
              "      <th></th>\n",
              "      <th></th>\n",
              "      <th></th>\n",
              "      <th></th>\n",
              "      <th></th>\n",
              "      <th></th>\n",
              "      <th></th>\n",
              "      <th></th>\n",
              "      <th></th>\n",
              "    </tr>\n",
              "  </thead>\n",
              "  <tbody>\n",
              "    <tr>\n",
              "      <th>(29.947, 38.833]</th>\n",
              "      <td>18</td>\n",
              "      <td>2</td>\n",
              "      <td>2</td>\n",
              "      <td>1</td>\n",
              "      <td>1</td>\n",
              "      <td>5</td>\n",
              "      <td>3</td>\n",
              "      <td>2</td>\n",
              "      <td>0</td>\n",
              "    </tr>\n",
              "    <tr>\n",
              "      <th>(38.833, 47.667]</th>\n",
              "      <td>40</td>\n",
              "      <td>7</td>\n",
              "      <td>4</td>\n",
              "      <td>5</td>\n",
              "      <td>1</td>\n",
              "      <td>6</td>\n",
              "      <td>3</td>\n",
              "      <td>6</td>\n",
              "      <td>1</td>\n",
              "    </tr>\n",
              "    <tr>\n",
              "      <th>(47.667, 56.5]</th>\n",
              "      <td>46</td>\n",
              "      <td>5</td>\n",
              "      <td>8</td>\n",
              "      <td>5</td>\n",
              "      <td>2</td>\n",
              "      <td>11</td>\n",
              "      <td>7</td>\n",
              "      <td>5</td>\n",
              "      <td>1</td>\n",
              "    </tr>\n",
              "    <tr>\n",
              "      <th>(56.5, 65.333]</th>\n",
              "      <td>46</td>\n",
              "      <td>4</td>\n",
              "      <td>3</td>\n",
              "      <td>1</td>\n",
              "      <td>2</td>\n",
              "      <td>5</td>\n",
              "      <td>3</td>\n",
              "      <td>6</td>\n",
              "      <td>1</td>\n",
              "    </tr>\n",
              "    <tr>\n",
              "      <th>(65.333, 74.167]</th>\n",
              "      <td>24</td>\n",
              "      <td>1</td>\n",
              "      <td>2</td>\n",
              "      <td>1</td>\n",
              "      <td>0</td>\n",
              "      <td>3</td>\n",
              "      <td>2</td>\n",
              "      <td>0</td>\n",
              "      <td>0</td>\n",
              "    </tr>\n",
              "    <tr>\n",
              "      <th>(74.167, 83.0]</th>\n",
              "      <td>3</td>\n",
              "      <td>1</td>\n",
              "      <td>1</td>\n",
              "      <td>0</td>\n",
              "      <td>0</td>\n",
              "      <td>0</td>\n",
              "      <td>0</td>\n",
              "      <td>0</td>\n",
              "      <td>0</td>\n",
              "    </tr>\n",
              "  </tbody>\n",
              "</table>\n",
              "</div>"
            ],
            "text/plain": [
              "nodes             (-0.001, 1.0]      ...       (30.0, 52.0]\n",
              "age                                  ...                   \n",
              "(29.947, 38.833]             18      ...                  0\n",
              "(38.833, 47.667]             40      ...                  1\n",
              "(47.667, 56.5]               46      ...                  1\n",
              "(56.5, 65.333]               46      ...                  1\n",
              "(65.333, 74.167]             24      ...                  0\n",
              "(74.167, 83.0]                3      ...                  0\n",
              "\n",
              "[6 rows x 9 columns]"
            ]
          },
          "metadata": {
            "tags": []
          },
          "execution_count": 6
        }
      ]
    },
    {
      "cell_type": "code",
      "metadata": {
        "id": "j3qrepG8e0C_",
        "colab_type": "code",
        "colab": {}
      },
      "source": [
        "df2 = df.copy()\n",
        "df2['age_bins'] = age_bins\n",
        "df2['year_bins'] = year_bins\n",
        "df2['node_bins'] = node_bins"
      ],
      "execution_count": 0,
      "outputs": []
    },
    {
      "cell_type": "markdown",
      "metadata": {
        "id": "cnnWDKdGe8pC",
        "colab_type": "text"
      },
      "source": [
        "#### The main diagonal below shows us many things:\n",
        "- The age isn't evently distributed, it's normally distributed\n",
        "- The years are somewhat even except the first year of the gathered research we have twice as much data then any other year\n",
        "- There's a large number of \"low node counts\", they drop exponentially\n",
        "- We have more data on survivors than non survivors"
      ]
    },
    {
      "cell_type": "code",
      "metadata": {
        "id": "gkRZQUN6ewVj",
        "colab_type": "code",
        "outputId": "cfab46b5-5444-4d15-8b4d-d198a6a00dd9",
        "colab": {
          "base_uri": "https://localhost:8080/",
          "height": 729
        }
      },
      "source": [
        "sb.pairplot(df);"
      ],
      "execution_count": 0,
      "outputs": [
        {
          "output_type": "display_data",
          "data": {
            "image/png": "[encoded data removed]",
            "text/plain": [
              "<Figure size 720x720 with 20 Axes>"
            ]
          },
          "metadata": {
            "tags": []
          }
        }
      ]
    },
    {
      "cell_type": "markdown",
      "metadata": {
        "id": "UJAqK50as7_5",
        "colab_type": "text"
      },
      "source": [
        "## The below plot implies that the mean number of nodes are higher for those who died. This will be repeated in Section 3"
      ]
    },
    {
      "cell_type": "code",
      "metadata": {
        "id": "JWlVuCwRax4n",
        "colab_type": "code",
        "outputId": "5b7a757a-16c9-4593-915d-0241c6df03a5",
        "colab": {
          "base_uri": "https://localhost:8080/",
          "height": 225
        }
      },
      "source": [
        "g = sb.FacetGrid(df2,col='survive')\n",
        "g.map(sb.regplot,'age','nodes');"
      ],
      "execution_count": 0,
      "outputs": [
        {
          "output_type": "display_data",
          "data": {
            "image/png": "[encoded data removed]",
            "text/plain": [
              "<Figure size 432x216 with 2 Axes>"
            ]
          },
          "metadata": {
            "tags": []
          }
        }
      ]
    },
    {
      "cell_type": "markdown",
      "metadata": {
        "id": "cUMCB_2Is2Kz",
        "colab_type": "text"
      },
      "source": [
        "## Again, The plot below is consistant with the hypothesis that nodes and survival rate are inversely proportional"
      ]
    },
    {
      "cell_type": "code",
      "metadata": {
        "id": "lVvrwrwdk4GR",
        "colab_type": "code",
        "outputId": "aafd9c99-df4a-4c73-8784-22cad90461b8",
        "colab": {
          "base_uri": "https://localhost:8080/",
          "height": 225
        }
      },
      "source": [
        "g = sb.FacetGrid(df2, col='year_bins')\n",
        "g.map(sb.regplot,'nodes','survive');"
      ],
      "execution_count": 0,
      "outputs": [
        {
          "output_type": "display_data",
          "data": {
            "image/png": "[encoded data removed]",
            "text/plain": [
              "<Figure size 864x216 with 4 Axes>"
            ]
          },
          "metadata": {
            "tags": []
          }
        }
      ]
    },
    {
      "cell_type": "markdown",
      "metadata": {
        "id": "4B4Jb5aArxR-",
        "colab_type": "text"
      },
      "source": [
        "### Age and Survival\n",
        "It may superficially appear that older patients tend to die more readily. One can interpret this as older individuals perhaps are less able to cope with the cancer. (from the pair plot bottom left, survival as a function of age. Repeated below for ease). But controlling for age, we see the same underlying interpretation: fewer nodes is correlated with greater survival rates"
      ]
    },
    {
      "cell_type": "code",
      "metadata": {
        "id": "S1UTieyJtQST",
        "colab_type": "code",
        "outputId": "913fff13-51d9-4e65-9e6b-285abed89a15",
        "colab": {
          "base_uri": "https://localhost:8080/",
          "height": 283
        }
      },
      "source": [
        "#df.plot.scatter('age','survive');\n",
        "sb.regplot('age','survive',df);"
      ],
      "execution_count": 0,
      "outputs": [
        {
          "output_type": "display_data",
          "data": {
            "image/png": "[encoded data removed]",
            "text/plain": [
              "<Figure size 432x288 with 1 Axes>"
            ]
          },
          "metadata": {
            "tags": []
          }
        }
      ]
    },
    {
      "cell_type": "code",
      "metadata": {
        "id": "HcFhVIfnlZnE",
        "colab_type": "code",
        "outputId": "a6bafd13-b7f8-4f75-f8b8-458da530da00",
        "colab": {
          "base_uri": "https://localhost:8080/",
          "height": 225
        }
      },
      "source": [
        "g = sb.FacetGrid(df2, col='age_bins')\n",
        "g.map(sb.regplot,'survive','nodes');"
      ],
      "execution_count": 0,
      "outputs": [
        {
          "output_type": "display_data",
          "data": {
            "image/png": "[encoded data removed]",
            "text/plain": [
              "<Figure size 1296x216 with 6 Axes>"
            ]
          },
          "metadata": {
            "tags": []
          }
        }
      ]
    },
    {
      "cell_type": "markdown",
      "metadata": {
        "id": "sDXMio-yiWPT",
        "colab_type": "text"
      },
      "source": [
        "## Part 3 - DataFrame Filtering\n",
        "\n",
        "Use DataFrame filtering to subset the data into two smaller dataframes. You should make one dataframe for individuals who survived >5 years and a second dataframe for individuals who did not. \n",
        "\n",
        "Create a graph with each of the dataframes (can be the same graph type) to show the differences in Age and Number of Positive Axillary Nodes Detected between the two groups."
      ]
    },
    {
      "cell_type": "code",
      "metadata": {
        "id": "rLjGyJfGiedx",
        "colab_type": "code",
        "colab": {}
      },
      "source": [
        "df_survived = df[df.survive == 1]\n",
        "df_died = df[df.survive == 0]"
      ],
      "execution_count": 0,
      "outputs": []
    },
    {
      "cell_type": "markdown",
      "metadata": {
        "id": "Fth0uJmiaAdS",
        "colab_type": "text"
      },
      "source": [
        "### Individuals who died"
      ]
    },
    {
      "cell_type": "code",
      "metadata": {
        "id": "vgkVuHInZANC",
        "colab_type": "code",
        "outputId": "965341b4-50d7-4578-8d53-9265925db24d",
        "colab": {
          "base_uri": "https://localhost:8080/",
          "height": 317
        }
      },
      "source": [
        "mean = round(df_died.nodes.mean(),1)\n",
        "print(\"Average number of nodes in individuals who died\")\n",
        "print(mean)\n",
        "\n",
        "df_died.plot.scatter('age','nodes');\n",
        "plt.plot((df_died.age.min(),df_died.age.max()),(mean,mean)) # plot mean of ages\n",
        "plt.show()"
      ],
      "execution_count": 0,
      "outputs": [
        {
          "output_type": "stream",
          "text": [
            "Average number of nodes in individuals who died\n",
            "7.5\n"
          ],
          "name": "stdout"
        },
        {
          "output_type": "display_data",
          "data": {
            "image/png": "[encoded data removed]",
            "text/plain": [
              "<Figure size 432x288 with 1 Axes>"
            ]
          },
          "metadata": {
            "tags": []
          }
        }
      ]
    },
    {
      "cell_type": "markdown",
      "metadata": {
        "id": "AJMj2zooZ1xF",
        "colab_type": "text"
      },
      "source": [
        "### Individuals who survived"
      ]
    },
    {
      "cell_type": "code",
      "metadata": {
        "id": "D0GmbOEfZYCj",
        "colab_type": "code",
        "outputId": "438f29a7-b796-4570-88b2-a3f7574189f0",
        "colab": {
          "base_uri": "https://localhost:8080/",
          "height": 317
        }
      },
      "source": [
        "mean = round(df_survived.nodes.mean(),1)\n",
        "print(\"Average number of nodes in individuals who survived\")\n",
        "print(mean)\n",
        "df_survived.plot.scatter('age','nodes');\n",
        "plt.plot((df_survived.age.min(),df_survived.age.max()),(mean,mean)) # plot mean of ages\n",
        "plt.show()"
      ],
      "execution_count": 0,
      "outputs": [
        {
          "output_type": "stream",
          "text": [
            "Average number of nodes in individuals who survived\n",
            "2.8\n"
          ],
          "name": "stdout"
        },
        {
          "output_type": "display_data",
          "data": {
            "image/png": "[encoded data removed]",
            "text/plain": [
              "<Figure size 432x288 with 1 Axes>"
            ]
          },
          "metadata": {
            "tags": []
          }
        }
      ]
    },
    {
      "cell_type": "markdown",
      "metadata": {
        "id": "ZM8JckA2bgnp",
        "colab_type": "text"
      },
      "source": [
        "## Part 4 - Analysis and Interpretation\n",
        "\n",
        "Now that you've looked at the data, answer the following questions:\n",
        "\n",
        "- What is at least one feature that looks to have a positive relationship with survival? (As that feature goes up in value rate of survival increases)\n",
        "- What is at least one feature that looks to have a negative relationship with survival? (As that feature goes down in value rate of survival increases)\n",
        "- How are those two features related with each other, and what might that mean?\n",
        "\n",
        "Answer with text, but feel free to intersperse example code/results or refer to it from earlier."
      ]
    },
    {
      "cell_type": "markdown",
      "metadata": {
        "id": "6dKITTOVtHWo",
        "colab_type": "text"
      },
      "source": [
        "### Analyis:\n",
        "There appears to be a negative relationship between number of nodes and surival rate. Indeed the mean number of nodes in those individuals who died is more than those who survuved.<br><br>\n",
        "I was unable to identify any positive correlation. However I did notice that it may superficially appear that older patients tend to die more readily. One can interpret this as older individuals perhaps are less able to cope with the cancer. But controlling for age, we see the same underlying interpretation: fewer nodes is correlated with greater survival rates.<br><br>\n",
        "This could be correlated because older people have more time to devlop nodes and thus tend not to survive as much as their younger coutnerparts."
      ]
    },
    {
      "cell_type": "markdown",
      "metadata": {
        "id": "90OSBGhOjk1b",
        "colab_type": "text"
      },
      "source": [
        "# POST-SPRINT HELPFUL SOLUTIONS:"
      ]
    },
    {
      "cell_type": "code",
      "metadata": {
        "id": "upidWMO2Hzzg",
        "colab_type": "code",
        "outputId": "b081d5d6-fe2f-405c-eeb2-94cc8d5273de",
        "colab": {
          "base_uri": "https://localhost:8080/",
          "height": 173
        }
      },
      "source": [
        "new_node_bins = pd.cut(df.nodes,bins=[0,1,5,53], right=False)\n",
        "pd.crosstab(new_node_bins,df.survive,normalize='index')\n",
        "# Crosstabbing nodes to survival rate clearly shows that survival rate drops as number of nodes increases"
      ],
      "execution_count": 0,
      "outputs": [
        {
          "output_type": "execute_result",
          "data": {
            "text/html": [
              "<div>\n",
              "<style scoped>\n",
              "    .dataframe tbody tr th:only-of-type {\n",
              "        vertical-align: middle;\n",
              "    }\n",
              "\n",
              "    .dataframe tbody tr th {\n",
              "        vertical-align: top;\n",
              "    }\n",
              "\n",
              "    .dataframe thead th {\n",
              "        text-align: right;\n",
              "    }\n",
              "</style>\n",
              "<table border=\"1\" class=\"dataframe\">\n",
              "  <thead>\n",
              "    <tr style=\"text-align: right;\">\n",
              "      <th>survive</th>\n",
              "      <th>0</th>\n",
              "      <th>1</th>\n",
              "    </tr>\n",
              "    <tr>\n",
              "      <th>nodes</th>\n",
              "      <th></th>\n",
              "      <th></th>\n",
              "    </tr>\n",
              "  </thead>\n",
              "  <tbody>\n",
              "    <tr>\n",
              "      <th>[0, 1)</th>\n",
              "      <td>0.139706</td>\n",
              "      <td>0.860294</td>\n",
              "    </tr>\n",
              "    <tr>\n",
              "      <th>[1, 5)</th>\n",
              "      <td>0.244681</td>\n",
              "      <td>0.755319</td>\n",
              "    </tr>\n",
              "    <tr>\n",
              "      <th>[5, 53)</th>\n",
              "      <td>0.513158</td>\n",
              "      <td>0.486842</td>\n",
              "    </tr>\n",
              "  </tbody>\n",
              "</table>\n",
              "</div>"
            ],
            "text/plain": [
              "survive         0         1\n",
              "nodes                      \n",
              "[0, 1)   0.139706  0.860294\n",
              "[1, 5)   0.244681  0.755319\n",
              "[5, 53)  0.513158  0.486842"
            ]
          },
          "metadata": {
            "tags": []
          },
          "execution_count": 21
        }
      ]
    },
    {
      "cell_type": "code",
      "metadata": {
        "id": "tYnz-FhAIKI6",
        "colab_type": "code",
        "outputId": "3fbb200b-98e4-4cc9-c694-33be5b6aaa94",
        "colab": {
          "base_uri": "https://localhost:8080/",
          "height": 266
        }
      },
      "source": [
        "age_median =  pd.qcut(df['age'],2)  #split the number of people evenly into 2 groups\n",
        "young_old = pd.crosstab([new_node_bins,age_median],df.survive,normalize='index')\n",
        "young_old"
      ],
      "execution_count": 0,
      "outputs": [
        {
          "output_type": "execute_result",
          "data": {
            "text/html": [
              "<div>\n",
              "<style scoped>\n",
              "    .dataframe tbody tr th:only-of-type {\n",
              "        vertical-align: middle;\n",
              "    }\n",
              "\n",
              "    .dataframe tbody tr th {\n",
              "        vertical-align: top;\n",
              "    }\n",
              "\n",
              "    .dataframe thead th {\n",
              "        text-align: right;\n",
              "    }\n",
              "</style>\n",
              "<table border=\"1\" class=\"dataframe\">\n",
              "  <thead>\n",
              "    <tr style=\"text-align: right;\">\n",
              "      <th></th>\n",
              "      <th>survive</th>\n",
              "      <th>0</th>\n",
              "      <th>1</th>\n",
              "    </tr>\n",
              "    <tr>\n",
              "      <th>nodes</th>\n",
              "      <th>age</th>\n",
              "      <th></th>\n",
              "      <th></th>\n",
              "    </tr>\n",
              "  </thead>\n",
              "  <tbody>\n",
              "    <tr>\n",
              "      <th rowspan=\"2\" valign=\"top\">[0, 1)</th>\n",
              "      <th>(29.999, 52.0]</th>\n",
              "      <td>0.184615</td>\n",
              "      <td>0.815385</td>\n",
              "    </tr>\n",
              "    <tr>\n",
              "      <th>(52.0, 83.0]</th>\n",
              "      <td>0.098592</td>\n",
              "      <td>0.901408</td>\n",
              "    </tr>\n",
              "    <tr>\n",
              "      <th rowspan=\"2\" valign=\"top\">[1, 5)</th>\n",
              "      <th>(29.999, 52.0]</th>\n",
              "      <td>0.188679</td>\n",
              "      <td>0.811321</td>\n",
              "    </tr>\n",
              "    <tr>\n",
              "      <th>(52.0, 83.0]</th>\n",
              "      <td>0.317073</td>\n",
              "      <td>0.682927</td>\n",
              "    </tr>\n",
              "    <tr>\n",
              "      <th rowspan=\"2\" valign=\"top\">[5, 53)</th>\n",
              "      <th>(29.999, 52.0]</th>\n",
              "      <td>0.447368</td>\n",
              "      <td>0.552632</td>\n",
              "    </tr>\n",
              "    <tr>\n",
              "      <th>(52.0, 83.0]</th>\n",
              "      <td>0.578947</td>\n",
              "      <td>0.421053</td>\n",
              "    </tr>\n",
              "  </tbody>\n",
              "</table>\n",
              "</div>"
            ],
            "text/plain": [
              "survive                        0         1\n",
              "nodes   age                               \n",
              "[0, 1)  (29.999, 52.0]  0.184615  0.815385\n",
              "        (52.0, 83.0]    0.098592  0.901408\n",
              "[1, 5)  (29.999, 52.0]  0.188679  0.811321\n",
              "        (52.0, 83.0]    0.317073  0.682927\n",
              "[5, 53) (29.999, 52.0]  0.447368  0.552632\n",
              "        (52.0, 83.0]    0.578947  0.421053"
            ]
          },
          "metadata": {
            "tags": []
          },
          "execution_count": 23
        }
      ]
    },
    {
      "cell_type": "code",
      "metadata": {
        "id": "msaCx--xJu2T",
        "colab_type": "code",
        "outputId": "fa78b730-7f1a-4c33-f298-413a74bd20dd",
        "colab": {
          "base_uri": "https://localhost:8080/",
          "height": 391
        }
      },
      "source": [
        "young_old.plot(kind='bar',stacked=True);\n",
        "# shows that as age goes up, survival rate goes down and as number of nodes goes up, survival rate goes down"
      ],
      "execution_count": 0,
      "outputs": [
        {
          "output_type": "display_data",
          "data": {
            "image/png": "[encoded data removed]",
            "text/plain": [
              "<Figure size 432x288 with 1 Axes>"
            ]
          },
          "metadata": {
            "tags": []
          }
        }
      ]
    },
    {
      "cell_type": "code",
      "metadata": {
        "id": "ejEWAGa7J_kE",
        "colab_type": "code",
        "outputId": "0e9327c4-c382-4f60-a0e7-ab0ed53343be",
        "colab": {
          "base_uri": "https://localhost:8080/",
          "height": 328
        }
      },
      "source": [
        "year_quartiles = pd.qcut(df.year,4)\n",
        "year_age = pd.crosstab([year_quartiles,age_median],df.survive, normalize='index')\n",
        "year_age"
      ],
      "execution_count": 0,
      "outputs": [
        {
          "output_type": "execute_result",
          "data": {
            "text/html": [
              "<div>\n",
              "<style scoped>\n",
              "    .dataframe tbody tr th:only-of-type {\n",
              "        vertical-align: middle;\n",
              "    }\n",
              "\n",
              "    .dataframe tbody tr th {\n",
              "        vertical-align: top;\n",
              "    }\n",
              "\n",
              "    .dataframe thead th {\n",
              "        text-align: right;\n",
              "    }\n",
              "</style>\n",
              "<table border=\"1\" class=\"dataframe\">\n",
              "  <thead>\n",
              "    <tr style=\"text-align: right;\">\n",
              "      <th></th>\n",
              "      <th>survive</th>\n",
              "      <th>0</th>\n",
              "      <th>1</th>\n",
              "    </tr>\n",
              "    <tr>\n",
              "      <th>year</th>\n",
              "      <th>age</th>\n",
              "      <th></th>\n",
              "      <th></th>\n",
              "    </tr>\n",
              "  </thead>\n",
              "  <tbody>\n",
              "    <tr>\n",
              "      <th rowspan=\"2\" valign=\"top\">(57.999, 60.0]</th>\n",
              "      <th>(29.999, 52.0]</th>\n",
              "      <td>0.240000</td>\n",
              "      <td>0.760000</td>\n",
              "    </tr>\n",
              "    <tr>\n",
              "      <th>(52.0, 83.0]</th>\n",
              "      <td>0.317073</td>\n",
              "      <td>0.682927</td>\n",
              "    </tr>\n",
              "    <tr>\n",
              "      <th rowspan=\"2\" valign=\"top\">(60.0, 63.0]</th>\n",
              "      <th>(29.999, 52.0]</th>\n",
              "      <td>0.166667</td>\n",
              "      <td>0.833333</td>\n",
              "    </tr>\n",
              "    <tr>\n",
              "      <th>(52.0, 83.0]</th>\n",
              "      <td>0.297297</td>\n",
              "      <td>0.702703</td>\n",
              "    </tr>\n",
              "    <tr>\n",
              "      <th rowspan=\"2\" valign=\"top\">(63.0, 65.75]</th>\n",
              "      <th>(29.999, 52.0]</th>\n",
              "      <td>0.300000</td>\n",
              "      <td>0.700000</td>\n",
              "    </tr>\n",
              "    <tr>\n",
              "      <th>(52.0, 83.0]</th>\n",
              "      <td>0.413793</td>\n",
              "      <td>0.586207</td>\n",
              "    </tr>\n",
              "    <tr>\n",
              "      <th rowspan=\"2\" valign=\"top\">(65.75, 69.0]</th>\n",
              "      <th>(29.999, 52.0]</th>\n",
              "      <td>0.323529</td>\n",
              "      <td>0.676471</td>\n",
              "    </tr>\n",
              "    <tr>\n",
              "      <th>(52.0, 83.0]</th>\n",
              "      <td>0.139535</td>\n",
              "      <td>0.860465</td>\n",
              "    </tr>\n",
              "  </tbody>\n",
              "</table>\n",
              "</div>"
            ],
            "text/plain": [
              "survive                               0         1\n",
              "year           age                               \n",
              "(57.999, 60.0] (29.999, 52.0]  0.240000  0.760000\n",
              "               (52.0, 83.0]    0.317073  0.682927\n",
              "(60.0, 63.0]   (29.999, 52.0]  0.166667  0.833333\n",
              "               (52.0, 83.0]    0.297297  0.702703\n",
              "(63.0, 65.75]  (29.999, 52.0]  0.300000  0.700000\n",
              "               (52.0, 83.0]    0.413793  0.586207\n",
              "(65.75, 69.0]  (29.999, 52.0]  0.323529  0.676471\n",
              "               (52.0, 83.0]    0.139535  0.860465"
            ]
          },
          "metadata": {
            "tags": []
          },
          "execution_count": 26
        }
      ]
    },
    {
      "cell_type": "code",
      "metadata": {
        "id": "e0y5FwgYK0sG",
        "colab_type": "code",
        "outputId": "32e381ea-5334-4074-9b24-39384dd9f11a",
        "colab": {
          "base_uri": "https://localhost:8080/",
          "height": 429
        }
      },
      "source": [
        "year_age.plot(kind='bar');\n",
        "# Thee cross taba bove and graph below are OK, but not the best"
      ],
      "execution_count": 0,
      "outputs": [
        {
          "output_type": "display_data",
          "data": {
            "image/png": "[encoded data removed]",
            "text/plain": [
              "<Figure size 432x288 with 1 Axes>"
            ]
          },
          "metadata": {
            "tags": []
          }
        }
      ]
    },
    {
      "cell_type": "code",
      "metadata": {
        "id": "mLhrZtIMK_3k",
        "colab_type": "code",
        "outputId": "384d445f-d45a-46d6-a990-9d857ee79f21",
        "colab": {
          "base_uri": "https://localhost:8080/",
          "height": 142
        }
      },
      "source": [
        "pd.crosstab(age_median, year_quartiles,normalize='columns')"
      ],
      "execution_count": 0,
      "outputs": [
        {
          "output_type": "execute_result",
          "data": {
            "text/html": [
              "<div>\n",
              "<style scoped>\n",
              "    .dataframe tbody tr th:only-of-type {\n",
              "        vertical-align: middle;\n",
              "    }\n",
              "\n",
              "    .dataframe tbody tr th {\n",
              "        vertical-align: top;\n",
              "    }\n",
              "\n",
              "    .dataframe thead th {\n",
              "        text-align: right;\n",
              "    }\n",
              "</style>\n",
              "<table border=\"1\" class=\"dataframe\">\n",
              "  <thead>\n",
              "    <tr style=\"text-align: right;\">\n",
              "      <th>year</th>\n",
              "      <th>(57.999, 60.0]</th>\n",
              "      <th>(60.0, 63.0]</th>\n",
              "      <th>(63.0, 65.75]</th>\n",
              "      <th>(65.75, 69.0]</th>\n",
              "    </tr>\n",
              "    <tr>\n",
              "      <th>age</th>\n",
              "      <th></th>\n",
              "      <th></th>\n",
              "      <th></th>\n",
              "      <th></th>\n",
              "    </tr>\n",
              "  </thead>\n",
              "  <tbody>\n",
              "    <tr>\n",
              "      <th>(29.999, 52.0]</th>\n",
              "      <td>0.549451</td>\n",
              "      <td>0.531646</td>\n",
              "      <td>0.508475</td>\n",
              "      <td>0.441558</td>\n",
              "    </tr>\n",
              "    <tr>\n",
              "      <th>(52.0, 83.0]</th>\n",
              "      <td>0.450549</td>\n",
              "      <td>0.468354</td>\n",
              "      <td>0.491525</td>\n",
              "      <td>0.558442</td>\n",
              "    </tr>\n",
              "  </tbody>\n",
              "</table>\n",
              "</div>"
            ],
            "text/plain": [
              "year            (57.999, 60.0]      ...        (65.75, 69.0]\n",
              "age                                 ...                     \n",
              "(29.999, 52.0]        0.549451      ...             0.441558\n",
              "(52.0, 83.0]          0.450549      ...             0.558442\n",
              "\n",
              "[2 rows x 4 columns]"
            ]
          },
          "metadata": {
            "tags": []
          },
          "execution_count": 29
        }
      ]
    },
    {
      "cell_type": "code",
      "metadata": {
        "id": "DeUJArUfLYKv",
        "colab_type": "code",
        "colab": {}
      },
      "source": [
        ""
      ],
      "execution_count": 0,
      "outputs": []
    }
  ]
}