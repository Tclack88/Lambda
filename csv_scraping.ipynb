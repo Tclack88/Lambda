{
  "nbformat": 4,
  "nbformat_minor": 0,
  "metadata": {
    "colab": {
      "name": "csv_scraping.ipynb",
      "provenance": [],
      "collapsed_sections": [],
      "include_colab_link": true
    },
    "kernelspec": {
      "name": "python3",
      "display_name": "Python 3"
    }
  },
  "cells": [
    {
      "cell_type": "markdown",
      "metadata": {
        "id": "view-in-github",
        "colab_type": "text"
      },
      "source": [
        "<a href=\"https://colab.research.google.com/github/Tclack88/AB-Demo/blob/master/csv_scraping.ipynb\" target=\"_parent\"><img src=\"https://colab.research.google.com/assets/colab-badge.svg\" alt=\"Open In Colab\"/></a>"
      ]
    },
    {
      "cell_type": "code",
      "metadata": {
        "id": "1SbcuEkPtLpx",
        "colab_type": "code",
        "colab": {
          "base_uri": "https://localhost:8080/",
          "height": 34
        },
        "outputId": "d1a0d440-1233-4d31-9e21-a944e53d224e"
      },
      "source": [
        "!rm * && rm -r sample_data"
      ],
      "execution_count": 263,
      "outputs": [
        {
          "output_type": "stream",
          "text": [
            "rm: cannot remove 'sample_data': Is a directory\n"
          ],
          "name": "stdout"
        }
      ]
    },
    {
      "cell_type": "code",
      "metadata": {
        "id": "1K9farqK3qN8",
        "colab_type": "code",
        "outputId": "3f447e4f-1138-446c-f672-f4c5657be261",
        "colab": {
          "base_uri": "https://localhost:8080/",
          "height": 34
        }
      },
      "source": [
        "!ls"
      ],
      "execution_count": 264,
      "outputs": [
        {
          "output_type": "stream",
          "text": [
            "sample_data\n"
          ],
          "name": "stdout"
        }
      ]
    },
    {
      "cell_type": "code",
      "metadata": {
        "id": "opj0Bi-gxkrh",
        "colab_type": "code",
        "colab": {}
      },
      "source": [
        "import pandas as pd\n",
        "import numpy as np\n",
        "import matplotlib.pyplot as plt\n",
        "import seaborn as sb\n",
        "import requests\n",
        "from multiprocessing.dummy import Pool\n",
        "import os\n",
        "from bs4 import BeautifulSoup"
      ],
      "execution_count": 0,
      "outputs": []
    },
    {
      "cell_type": "code",
      "metadata": {
        "id": "RhQG0QEzmoSs",
        "colab_type": "code",
        "colab": {}
      },
      "source": [
        "### Supporting Definitions ###\n",
        "\n",
        "# get user_data links\n",
        "def get_csv_url(id):\n",
        "  user = requests.head(f'https://www.mountainproject.com/user/{id}').headers['Location'].split('/')[-1]\n",
        "  return f'https://www.mountainproject.com/user/{id}/{user}/tick-export'\n",
        "  \n",
        "\n",
        "\n",
        "# add danger column\n",
        "danger_rating = {'PG13':1 ,'R':2,'X':3}\n",
        "def get_danger(grade):\n",
        "  try:\n",
        "    danger = danger_rating[grade.split()[1]]\n",
        "    return danger\n",
        "  except:\n",
        "    return 0 \n",
        "\n",
        "  \n",
        "# A possible arrangement of difficulties\n",
        "# 10a 10- 10a/b 10b 10 10b/c 10c 10+ 10c/d 10d 11a  --> 10.0, 10.1, ... , 10.9, 11\n",
        "\n",
        "grade_chart = pd.read_html(\"https://www.mountainproject.com/international-climbing-grades\")\n",
        "\n",
        "old_ropes = grade_chart[0].YDSUSA[:-1].to_list()\n",
        "new_ropes = [0,0,0,0,1,2,3,4,5,6,7,7.5,8,8.5,8.8,9,9.5,9.8]+list(np.round(np.arange(10,16,.1),1))\n",
        "ropes_convert = dict(zip(old_ropes,new_ropes))\n",
        "\n",
        "old_boulders = grade_chart[1].HuecoUSA[:-1].to_list()\n",
        "new_boulders = [0,0,0,0,0]+list(np.round(np.arange(1,17.5,.25),1))\n",
        "\n",
        "boulders_convert = dict(zip(old_boulders,new_boulders))\n",
        "\n",
        "def clean_grade(grade):\n",
        "  grade = str(grade).split()[0]\n",
        "  if grade[0] == '5':\n",
        "    grade = ropes_convert[grade]\n",
        "    return grade\n",
        "  elif grade[0] == 'V':\n",
        "    grade = boulders_convert[grade]\n",
        "    return grade\n",
        "  \n",
        "  \n",
        "\n",
        "# create user ticks\n",
        "def create_user_ticks(file):\n",
        "  ticks = pd.read_csv(file)\n",
        "  cols = ['Date','Rating','Pitches','Style','Lead Style','Route Type','Location']\n",
        "  ticks = ticks[cols]\n",
        "\n",
        "  #rename cols\n",
        "  old_names = ticks.columns.to_list()\n",
        "  new_names = ['date','grade','pitches','style','lead_style','type','location']\n",
        "  rename_cols = dict(zip(old_names,new_names))\n",
        "  ticks = ticks.rename(columns=rename_cols)\n",
        "\n",
        "  # date to datetime\n",
        "  ticks.date = pd.to_datetime(ticks.date)\n",
        "\n",
        "  # add danger column\n",
        "  ticks['danger'] = ticks.grade.apply(get_danger)\n",
        "\n",
        "  \n",
        "  ticks.grade = ticks.grade.apply(clean_grade)\n",
        "  return ticks"
      ],
      "execution_count": 0,
      "outputs": []
    },
    {
      "cell_type": "code",
      "metadata": {
        "id": "W19VHe_dP3jL",
        "colab_type": "code",
        "colab": {}
      },
      "source": [
        "# Main Functions\n",
        "\n",
        "def create_climber_stats(ticks):\n",
        "  climber_dict = {}\n",
        "  climber_dict.update(years_total = [ticks.date.max()-ticks.date.min()],\n",
        "                     climbs_total = [ticks.shape[0]],\n",
        "                     pitches_total = [ticks.pitches.sum()],\n",
        "                     route_mean = [ticks[ticks['type'] != 'Boulder'].grade.mean()],\n",
        "                     route_max = [ticks[ticks['type'] != 'Boulder'].grade.max()],\n",
        "                     boulder_mean = [ticks[ticks.type == 'Boulder'].grade.mean()],\n",
        "                     boulder_max = [ticks[ticks.type == 'Boulder'].grade.max()],\n",
        "                     danger_factor = [ticks.danger.mean()],\n",
        "                     solos = [ticks[ticks['style'] == 'Solo'].shape[0]],\n",
        "                     hardest_solo = [ticks[ticks['style'] == 'Solo'].grade.max()],\n",
        "                     trad_count = [ticks.type.apply(lambda x: 'Trad' in x).sum()],\n",
        "                     sport_count = [ticks.type.apply(lambda x: 'Sport' in x).sum()],\n",
        "                     locations = [ticks.location.nunique()],\n",
        "                     success = [(ticks.lead_style=='Onsight').sum()])\n",
        "                     # trevor['Route Type'].apply(lambda x: 'Trad' in x).sum()\n",
        "                     # needs to be list when entries are a scalar\n",
        "  climber_stats = pd.DataFrame(climber_dict)\n",
        "  return climber_stats\n",
        "\n",
        "\n",
        "\n",
        "def extract_information(csv_urls):\n",
        "  for url in csv_urls:    # Download user csv's\n",
        "    command = \"wget \"+url\n",
        "    os.system(command)\n",
        "  files = [f for f in os.listdir('.') if os.path.isfile(f)]\n",
        "  #climber_chunk_stats = pd.DataFrame(columns = ['years_climbing','climbs_total','pitches_total','route_average','route_max'])\n",
        "  climber_chunk_stats = pd.DataFrame()\n",
        "  \n",
        "  for file in files:\n",
        "    try:\n",
        "      ticks = create_user_ticks(file)\n",
        "      if ticks.shape[0] == 0:\n",
        "        continue\n",
        "      climber_stats = create_climber_stats(ticks)\n",
        "    #print(climber_stats)\n",
        "      climber_chunk_stats = pd.concat([climber_chunk_stats,climber_stats])\n",
        "    except:\n",
        "      continue\n",
        "  return climber_chunk_stats"
      ],
      "execution_count": 0,
      "outputs": []
    },
    {
      "cell_type": "code",
      "metadata": {
        "id": "H6fZmzelTcPm",
        "colab_type": "code",
        "colab": {}
      },
      "source": [
        "# Grab names to seed the search (most popular male and female names from 1985)\n",
        "name_url = \"https://www.weddingvendors.com/baby-names/popular/1985/\"\n",
        "\n",
        "source = requests.get(name_url).text\n",
        "soup = BeautifulSoup(source,'html.parser')\n",
        "names = soup.find_all('td', class_='n')\n",
        "possible_users = []\n",
        "for name in names:\n",
        "  possible_user = name.text\n",
        "  possible_users.append(possible_user)\n"
      ],
      "execution_count": 0,
      "outputs": []
    },
    {
      "cell_type": "code",
      "metadata": {
        "id": "xPF513gM34FX",
        "colab_type": "code",
        "colab": {}
      },
      "source": [
        "possible_users = ['Jake']\n",
        "url_start = \"https://www.mountainproject.com/ajax/public/search/results/category?q=\"\n",
        "url_end = \"&c=Users&o=0&s=Default\""
      ],
      "execution_count": 0,
      "outputs": []
    },
    {
      "cell_type": "markdown",
      "metadata": {
        "id": "_NAI7DCmhkj8",
        "colab_type": "text"
      },
      "source": [
        "## WARNING: This next cell will take a while"
      ]
    },
    {
      "cell_type": "code",
      "metadata": {
        "id": "wJ_g2XAx9RAa",
        "colab_type": "code",
        "colab": {
          "base_uri": "https://localhost:8080/",
          "height": 51
        },
        "outputId": "3eeb0aa8-96a6-4d1d-99bd-117236667737"
      },
      "source": [
        "p = Pool(12)\n",
        "\n",
        "#climber_stats = pd.DataFrame(columns = ['years_climbing','climbs_total','pitches_total','route_average','route_max'])\n",
        "climber_stats = pd.DataFrame()\n",
        "for name in possible_users:\n",
        "  query = url_start+name+url_end\n",
        "  resp = requests.get(query)\n",
        "  users = resp.json()['results']['Users']\n",
        "  user_ids = [u[12:21] for u in users]\n",
        "  csv_urls = p.map(get_csv_url,user_ids)\n",
        "  climber_chunk_stats = extract_information(csv_urls)\n",
        "  climber_stats = pd.concat([climber_stats,climber_chunk_stats])\n",
        "  os.system('rm * -f') # clear the latest chunk of downloaded csv's to minimize space usage"
      ],
      "execution_count": 270,
      "outputs": [
        {
          "output_type": "stream",
          "text": [
            "/usr/local/lib/python3.6/dist-packages/pandas/core/ops.py:1649: FutureWarning: elementwise comparison failed; returning scalar instead, but in the future will perform elementwise comparison\n",
            "  result = method(y)\n"
          ],
          "name": "stderr"
        }
      ]
    },
    {
      "cell_type": "code",
      "metadata": {
        "id": "GbsUNlDegEYl",
        "colab_type": "code",
        "colab": {
          "base_uri": "https://localhost:8080/",
          "height": 34
        },
        "outputId": "917ef2b0-ad83-4b93-ed62-e5e8d3964ad2"
      },
      "source": [
        "!ls"
      ],
      "execution_count": 271,
      "outputs": [
        {
          "output_type": "stream",
          "text": [
            "sample_data\n"
          ],
          "name": "stdout"
        }
      ]
    },
    {
      "cell_type": "code",
      "metadata": {
        "id": "pUcSK0LhRPMu",
        "colab_type": "code",
        "colab": {
          "base_uri": "https://localhost:8080/",
          "height": 173
        },
        "outputId": "13fd4c91-1903-41dc-c38f-5a11a4593748"
      },
      "source": [
        "climber_stats"
      ],
      "execution_count": 272,
      "outputs": [
        {
          "output_type": "execute_result",
          "data": {
            "text/html": [
              "<div>\n",
              "<style scoped>\n",
              "    .dataframe tbody tr th:only-of-type {\n",
              "        vertical-align: middle;\n",
              "    }\n",
              "\n",
              "    .dataframe tbody tr th {\n",
              "        vertical-align: top;\n",
              "    }\n",
              "\n",
              "    .dataframe thead th {\n",
              "        text-align: right;\n",
              "    }\n",
              "</style>\n",
              "<table border=\"1\" class=\"dataframe\">\n",
              "  <thead>\n",
              "    <tr style=\"text-align: right;\">\n",
              "      <th></th>\n",
              "      <th>years_total</th>\n",
              "      <th>climbs_total</th>\n",
              "      <th>pitches_total</th>\n",
              "      <th>route_mean</th>\n",
              "      <th>route_max</th>\n",
              "      <th>boulder_mean</th>\n",
              "      <th>boulder_max</th>\n",
              "      <th>danger_factor</th>\n",
              "      <th>solos</th>\n",
              "      <th>hardest_solo</th>\n",
              "      <th>trad_count</th>\n",
              "      <th>sport_count</th>\n",
              "      <th>locations</th>\n",
              "      <th>success</th>\n",
              "    </tr>\n",
              "  </thead>\n",
              "  <tbody>\n",
              "    <tr>\n",
              "      <th>0</th>\n",
              "      <td>0 days</td>\n",
              "      <td>9</td>\n",
              "      <td>9</td>\n",
              "      <td>9.577778</td>\n",
              "      <td>10.5</td>\n",
              "      <td>NaN</td>\n",
              "      <td>NaN</td>\n",
              "      <td>0.00</td>\n",
              "      <td>0</td>\n",
              "      <td>NaN</td>\n",
              "      <td>0</td>\n",
              "      <td>9</td>\n",
              "      <td>5</td>\n",
              "      <td>0</td>\n",
              "    </tr>\n",
              "    <tr>\n",
              "      <th>0</th>\n",
              "      <td>32 days</td>\n",
              "      <td>20</td>\n",
              "      <td>20</td>\n",
              "      <td>9.125000</td>\n",
              "      <td>10.3</td>\n",
              "      <td>1.35625</td>\n",
              "      <td>3.2</td>\n",
              "      <td>0.05</td>\n",
              "      <td>1</td>\n",
              "      <td>3.2</td>\n",
              "      <td>0</td>\n",
              "      <td>4</td>\n",
              "      <td>10</td>\n",
              "      <td>3</td>\n",
              "    </tr>\n",
              "    <tr>\n",
              "      <th>0</th>\n",
              "      <td>0 days</td>\n",
              "      <td>5</td>\n",
              "      <td>5</td>\n",
              "      <td>8.620000</td>\n",
              "      <td>10.3</td>\n",
              "      <td>NaN</td>\n",
              "      <td>NaN</td>\n",
              "      <td>0.00</td>\n",
              "      <td>0</td>\n",
              "      <td>NaN</td>\n",
              "      <td>0</td>\n",
              "      <td>5</td>\n",
              "      <td>2</td>\n",
              "      <td>2</td>\n",
              "    </tr>\n",
              "    <tr>\n",
              "      <th>0</th>\n",
              "      <td>0 days</td>\n",
              "      <td>1</td>\n",
              "      <td>1</td>\n",
              "      <td>10.300000</td>\n",
              "      <td>10.3</td>\n",
              "      <td>NaN</td>\n",
              "      <td>NaN</td>\n",
              "      <td>1.00</td>\n",
              "      <td>0</td>\n",
              "      <td>NaN</td>\n",
              "      <td>0</td>\n",
              "      <td>0</td>\n",
              "      <td>1</td>\n",
              "      <td>0</td>\n",
              "    </tr>\n",
              "  </tbody>\n",
              "</table>\n",
              "</div>"
            ],
            "text/plain": [
              "  years_total  climbs_total  pitches_total  ...  sport_count  locations  success\n",
              "0      0 days             9              9  ...            9          5        0\n",
              "0     32 days            20             20  ...            4         10        3\n",
              "0      0 days             5              5  ...            5          2        2\n",
              "0      0 days             1              1  ...            0          1        0\n",
              "\n",
              "[4 rows x 14 columns]"
            ]
          },
          "metadata": {
            "tags": []
          },
          "execution_count": 272
        }
      ]
    },
    {
      "cell_type": "code",
      "metadata": {
        "id": "ke2GhOLGUqog",
        "colab_type": "code",
        "colab": {}
      },
      "source": [
        "climber_stats.to_csv('climber_data.csv')"
      ],
      "execution_count": 0,
      "outputs": []
    },
    {
      "cell_type": "code",
      "metadata": {
        "id": "v7snd8XsVOJm",
        "colab_type": "code",
        "colab": {
          "base_uri": "https://localhost:8080/",
          "height": 102
        },
        "outputId": "19a8ffed-1495-48ab-b860-23cefa082457"
      },
      "source": [
        "!cat climber_data.csv"
      ],
      "execution_count": 274,
      "outputs": [
        {
          "output_type": "stream",
          "text": [
            ",years_total,climbs_total,pitches_total,route_mean,route_max,boulder_mean,boulder_max,danger_factor,solos,hardest_solo,trad_count,sport_count,locations,success\n",
            "0,0 days 00:00:00.000000000,9,9,9.577777777777776,10.5,,,0.0,0,,0,9,5,0\n",
            "0,32 days 00:00:00.000000000,20,20,9.125,10.3,1.35625,3.2,0.05,1,3.2,0,4,10,3\n",
            "0,0 days 00:00:00.000000000,5,5,8.62,10.3,,,0.0,0,,0,5,2,2\n",
            "0,0 days 00:00:00.000000000,1,1,10.3,10.3,,,1.0,0,,0,0,1,0\n"
          ],
          "name": "stdout"
        }
      ]
    },
    {
      "cell_type": "markdown",
      "metadata": {
        "id": "j_4PEyz5rHSH",
        "colab_type": "text"
      },
      "source": [
        "## Old Stuff Below"
      ]
    },
    {
      "cell_type": "code",
      "metadata": {
        "id": "cSCBq71cVyp2",
        "colab_type": "code",
        "colab": {
          "base_uri": "https://localhost:8080/",
          "height": 306
        },
        "outputId": "4241e6d5-0e00-4379-f8ef-cbe25e930eeb"
      },
      "source": [
        "url = \"https://www.mountainproject.com/user/109791883/trevor-clack/tick-export\"\n",
        "url = \"https://www.mountainproject.com/user/106027958/brad-g/tick-export\"\n",
        "trevor = pd.read_csv(url)\n",
        "trevor.head()"
      ],
      "execution_count": 39,
      "outputs": [
        {
          "output_type": "execute_result",
          "data": {
            "text/html": [
              "<div>\n",
              "<style scoped>\n",
              "    .dataframe tbody tr th:only-of-type {\n",
              "        vertical-align: middle;\n",
              "    }\n",
              "\n",
              "    .dataframe tbody tr th {\n",
              "        vertical-align: top;\n",
              "    }\n",
              "\n",
              "    .dataframe thead th {\n",
              "        text-align: right;\n",
              "    }\n",
              "</style>\n",
              "<table border=\"1\" class=\"dataframe\">\n",
              "  <thead>\n",
              "    <tr style=\"text-align: right;\">\n",
              "      <th></th>\n",
              "      <th>Date</th>\n",
              "      <th>Route</th>\n",
              "      <th>Rating</th>\n",
              "      <th>Notes</th>\n",
              "      <th>URL</th>\n",
              "      <th>Pitches</th>\n",
              "      <th>Location</th>\n",
              "      <th>Avg Stars</th>\n",
              "      <th>Your Stars</th>\n",
              "      <th>Style</th>\n",
              "      <th>Lead Style</th>\n",
              "      <th>Route Type</th>\n",
              "      <th>Your Rating</th>\n",
              "      <th>Length</th>\n",
              "      <th>Rating Code</th>\n",
              "    </tr>\n",
              "  </thead>\n",
              "  <tbody>\n",
              "    <tr>\n",
              "      <th>0</th>\n",
              "      <td>2018-04-03</td>\n",
              "      <td>Fairy Tales</td>\n",
              "      <td>5.13-</td>\n",
              "      <td>Onsight</td>\n",
              "      <td>https://www.mountainproject.com/route/10637253...</td>\n",
              "      <td>1</td>\n",
              "      <td>Utah &gt; Moab Area &gt; Indian Creek &gt; Pistol Whipped</td>\n",
              "      <td>3.1</td>\n",
              "      <td>-1</td>\n",
              "      <td>Lead</td>\n",
              "      <td>NaN</td>\n",
              "      <td>Trad</td>\n",
              "      <td>NaN</td>\n",
              "      <td>60.0</td>\n",
              "      <td>8700</td>\n",
              "    </tr>\n",
              "    <tr>\n",
              "      <th>1</th>\n",
              "      <td>2018-04-02</td>\n",
              "      <td>Savelli Crack</td>\n",
              "      <td>5.13b/c PG13</td>\n",
              "      <td>NaN</td>\n",
              "      <td>https://www.mountainproject.com/route/10825826...</td>\n",
              "      <td>1</td>\n",
              "      <td>Utah &gt; Moab Area &gt; Indian Creek &gt; Supercrack B...</td>\n",
              "      <td>4.0</td>\n",
              "      <td>-1</td>\n",
              "      <td>NaN</td>\n",
              "      <td>NaN</td>\n",
              "      <td>Trad</td>\n",
              "      <td>NaN</td>\n",
              "      <td>80.0</td>\n",
              "      <td>9100</td>\n",
              "    </tr>\n",
              "    <tr>\n",
              "      <th>2</th>\n",
              "      <td>2018-03-28</td>\n",
              "      <td>International Affair</td>\n",
              "      <td>5.12</td>\n",
              "      <td>Onsight</td>\n",
              "      <td>https://www.mountainproject.com/route/10601765...</td>\n",
              "      <td>1</td>\n",
              "      <td>Utah &gt; Moab Area &gt; Indian Creek &gt; Supercrack B...</td>\n",
              "      <td>3.3</td>\n",
              "      <td>-1</td>\n",
              "      <td>NaN</td>\n",
              "      <td>NaN</td>\n",
              "      <td>Trad</td>\n",
              "      <td>NaN</td>\n",
              "      <td>50.0</td>\n",
              "      <td>7000</td>\n",
              "    </tr>\n",
              "    <tr>\n",
              "      <th>3</th>\n",
              "      <td>2018-03-27</td>\n",
              "      <td>The Montana Weed Connection</td>\n",
              "      <td>5.13-</td>\n",
              "      <td>NaN</td>\n",
              "      <td>https://www.mountainproject.com/route/10698761...</td>\n",
              "      <td>1</td>\n",
              "      <td>Utah &gt; Moab Area &gt; Indian Creek &gt; Pistol Whipped</td>\n",
              "      <td>3.0</td>\n",
              "      <td>-1</td>\n",
              "      <td>NaN</td>\n",
              "      <td>NaN</td>\n",
              "      <td>Trad</td>\n",
              "      <td>NaN</td>\n",
              "      <td>35.0</td>\n",
              "      <td>8700</td>\n",
              "    </tr>\n",
              "    <tr>\n",
              "      <th>4</th>\n",
              "      <td>2018-03-22</td>\n",
              "      <td>Carbondale Short Bus</td>\n",
              "      <td>5.13+ R</td>\n",
              "      <td>NaN</td>\n",
              "      <td>https://www.mountainproject.com/route/10800630...</td>\n",
              "      <td>1</td>\n",
              "      <td>Utah &gt; Moab Area &gt; Indian Creek &gt; 4X4</td>\n",
              "      <td>4.0</td>\n",
              "      <td>-1</td>\n",
              "      <td>Lead</td>\n",
              "      <td>NaN</td>\n",
              "      <td>Trad</td>\n",
              "      <td>NaN</td>\n",
              "      <td>60.0</td>\n",
              "      <td>9300</td>\n",
              "    </tr>\n",
              "  </tbody>\n",
              "</table>\n",
              "</div>"
            ],
            "text/plain": [
              "         Date                        Route  ... Length Rating Code\n",
              "0  2018-04-03                  Fairy Tales  ...   60.0        8700\n",
              "1  2018-04-02                Savelli Crack  ...   80.0        9100\n",
              "2  2018-03-28         International Affair  ...   50.0        7000\n",
              "3  2018-03-27  The Montana Weed Connection  ...   35.0        8700\n",
              "4  2018-03-22         Carbondale Short Bus  ...   60.0        9300\n",
              "\n",
              "[5 rows x 15 columns]"
            ]
          },
          "metadata": {
            "tags": []
          },
          "execution_count": 39
        }
      ]
    },
    {
      "cell_type": "code",
      "metadata": {
        "id": "yuUZ8QH7V_KB",
        "colab_type": "code",
        "colab": {
          "base_uri": "https://localhost:8080/",
          "height": 204
        },
        "outputId": "149a8ee4-1543-4e03-be47-0698144544fc"
      },
      "source": [
        "ticks = create_user_ticks(url)\n",
        "ticks.head()"
      ],
      "execution_count": 40,
      "outputs": [
        {
          "output_type": "execute_result",
          "data": {
            "text/html": [
              "<div>\n",
              "<style scoped>\n",
              "    .dataframe tbody tr th:only-of-type {\n",
              "        vertical-align: middle;\n",
              "    }\n",
              "\n",
              "    .dataframe tbody tr th {\n",
              "        vertical-align: top;\n",
              "    }\n",
              "\n",
              "    .dataframe thead th {\n",
              "        text-align: right;\n",
              "    }\n",
              "</style>\n",
              "<table border=\"1\" class=\"dataframe\">\n",
              "  <thead>\n",
              "    <tr style=\"text-align: right;\">\n",
              "      <th></th>\n",
              "      <th>date</th>\n",
              "      <th>grade</th>\n",
              "      <th>pitches</th>\n",
              "      <th>style</th>\n",
              "      <th>lead_style</th>\n",
              "      <th>type</th>\n",
              "      <th>location</th>\n",
              "      <th>danger</th>\n",
              "    </tr>\n",
              "  </thead>\n",
              "  <tbody>\n",
              "    <tr>\n",
              "      <th>0</th>\n",
              "      <td>2018-04-03</td>\n",
              "      <td>13.1</td>\n",
              "      <td>1</td>\n",
              "      <td>Lead</td>\n",
              "      <td>NaN</td>\n",
              "      <td>Trad</td>\n",
              "      <td>Utah &gt; Moab Area &gt; Indian Creek &gt; Pistol Whipped</td>\n",
              "      <td>0</td>\n",
              "    </tr>\n",
              "    <tr>\n",
              "      <th>1</th>\n",
              "      <td>2018-04-02</td>\n",
              "      <td>13.5</td>\n",
              "      <td>1</td>\n",
              "      <td>NaN</td>\n",
              "      <td>NaN</td>\n",
              "      <td>Trad</td>\n",
              "      <td>Utah &gt; Moab Area &gt; Indian Creek &gt; Supercrack B...</td>\n",
              "      <td>1</td>\n",
              "    </tr>\n",
              "    <tr>\n",
              "      <th>2</th>\n",
              "      <td>2018-03-28</td>\n",
              "      <td>12.4</td>\n",
              "      <td>1</td>\n",
              "      <td>NaN</td>\n",
              "      <td>NaN</td>\n",
              "      <td>Trad</td>\n",
              "      <td>Utah &gt; Moab Area &gt; Indian Creek &gt; Supercrack B...</td>\n",
              "      <td>0</td>\n",
              "    </tr>\n",
              "    <tr>\n",
              "      <th>3</th>\n",
              "      <td>2018-03-27</td>\n",
              "      <td>13.1</td>\n",
              "      <td>1</td>\n",
              "      <td>NaN</td>\n",
              "      <td>NaN</td>\n",
              "      <td>Trad</td>\n",
              "      <td>Utah &gt; Moab Area &gt; Indian Creek &gt; Pistol Whipped</td>\n",
              "      <td>0</td>\n",
              "    </tr>\n",
              "    <tr>\n",
              "      <th>4</th>\n",
              "      <td>2018-03-22</td>\n",
              "      <td>13.7</td>\n",
              "      <td>1</td>\n",
              "      <td>Lead</td>\n",
              "      <td>NaN</td>\n",
              "      <td>Trad</td>\n",
              "      <td>Utah &gt; Moab Area &gt; Indian Creek &gt; 4X4</td>\n",
              "      <td>2</td>\n",
              "    </tr>\n",
              "  </tbody>\n",
              "</table>\n",
              "</div>"
            ],
            "text/plain": [
              "        date  grade  ...                                           location danger\n",
              "0 2018-04-03   13.1  ...   Utah > Moab Area > Indian Creek > Pistol Whipped      0\n",
              "1 2018-04-02   13.5  ...  Utah > Moab Area > Indian Creek > Supercrack B...      1\n",
              "2 2018-03-28   12.4  ...  Utah > Moab Area > Indian Creek > Supercrack B...      0\n",
              "3 2018-03-27   13.1  ...   Utah > Moab Area > Indian Creek > Pistol Whipped      0\n",
              "4 2018-03-22   13.7  ...              Utah > Moab Area > Indian Creek > 4X4      2\n",
              "\n",
              "[5 rows x 8 columns]"
            ]
          },
          "metadata": {
            "tags": []
          },
          "execution_count": 40
        }
      ]
    },
    {
      "cell_type": "code",
      "metadata": {
        "id": "6pSfYUnAYuQX",
        "colab_type": "code",
        "colab": {
          "base_uri": "https://localhost:8080/",
          "height": 85
        },
        "outputId": "1495460e-d89e-4900-88b4-ad99267357d7"
      },
      "source": [
        "n = 5  \n",
        "fracs = (np.linspace(0,ticks.shape[0],n)).astype(int)\n",
        "fracs\n",
        "for i in range(n-1):\n",
        "  tick_range = ticks.iloc[fracs[i]:fracs[i+1],1]\n",
        "  print(tick_range.max())\n",
        "# begin = ticks.date.min()\n",
        "# for i in range n:\n",
        "#   print(ticks[ticks.date.loc\n",
        "\n",
        "#np.array([0,.25,.5,.27,1])\n",
        "#time_fracs = time_fracs*(ticks.date.max() - ticks.date.min())\n",
        "#for i,frac in time_fracs:\n",
        "#for i in time_fracs:\n",
        "#  print(ticks[ticks.date"
      ],
      "execution_count": 42,
      "outputs": [
        {
          "output_type": "stream",
          "text": [
            "14.0\n",
            "13.9\n",
            "13.6\n",
            "13.1\n"
          ],
          "name": "stdout"
        }
      ]
    },
    {
      "cell_type": "code",
      "metadata": {
        "id": "5UI9l75S2Eor",
        "colab_type": "code",
        "colab": {
          "base_uri": "https://localhost:8080/",
          "height": 34
        },
        "outputId": "694ac362-b6e8-4e48-c489-5b0529687c74"
      },
      "source": [
        "!ls"
      ],
      "execution_count": 8,
      "outputs": [
        {
          "output_type": "stream",
          "text": [
            "sample_data\n"
          ],
          "name": "stdout"
        }
      ]
    },
    {
      "cell_type": "code",
      "metadata": {
        "id": "bcpIoD9EtRIZ",
        "colab_type": "code",
        "colab": {}
      },
      "source": [
        "# empty = pd.DataFrame(columns=['date','grade','pitches','style','lead_style','type','danger'])\n",
        "# #empty.merge(ticks,how='outer')\n",
        "# pd.concat([empty,ticks])\n",
        "# empty.head(5)\n",
        "# ticks.head(5)\n"
      ],
      "execution_count": 0,
      "outputs": []
    },
    {
      "cell_type": "code",
      "metadata": {
        "id": "CdcF9Bok9Vad",
        "colab_type": "code",
        "colab": {}
      },
      "source": [
        "# users = resp.json()['results']['Users']\n",
        "# users[0:5]"
      ],
      "execution_count": 0,
      "outputs": []
    },
    {
      "cell_type": "code",
      "metadata": {
        "id": "-Irrk5ZkAyn2",
        "colab_type": "code",
        "colab": {}
      },
      "source": [
        "# user_ids = [u[12:21] for u in users]"
      ],
      "execution_count": 0,
      "outputs": []
    },
    {
      "cell_type": "code",
      "metadata": {
        "id": "HSzcYi3hEMMK",
        "colab_type": "code",
        "colab": {}
      },
      "source": [
        "# from multiprocessing.dummy import Pool\n",
        "# p = Pool(12)\n",
        "# def get_csv_url(id):\n",
        "#   user = requests.head(f'https://www.mountainproject.com/user/{id}').headers['Location'].split('/')[-1]\n",
        "#   return f'https://www.mountainproject.com/user/{id}/{user}/tick-export'\n",
        "# csv_urls = p.map(get_csv_url, user_ids)"
      ],
      "execution_count": 0,
      "outputs": []
    },
    {
      "cell_type": "code",
      "metadata": {
        "id": "JUyQDPaQ9V7H",
        "colab_type": "code",
        "colab": {}
      },
      "source": [
        "# csv_urls"
      ],
      "execution_count": 0,
      "outputs": []
    },
    {
      "cell_type": "code",
      "metadata": {
        "id": "6gxivbRkFgSI",
        "colab_type": "code",
        "colab": {}
      },
      "source": [
        "# import os\n",
        "# for url in csv_urls:\n",
        "#   command = \"wget \"+url\n",
        "#   os.system(command)"
      ],
      "execution_count": 0,
      "outputs": []
    },
    {
      "cell_type": "code",
      "metadata": {
        "id": "FqcqldZwHOxP",
        "colab_type": "code",
        "colab": {}
      },
      "source": [
        "#!rm -r sample_data && ls\n",
        "#!rm * && ls"
      ],
      "execution_count": 0,
      "outputs": []
    },
    {
      "cell_type": "code",
      "metadata": {
        "id": "cNFS92mEydFD",
        "colab_type": "code",
        "colab": {}
      },
      "source": [
        "# Morgan's Routes\n",
        "#command1 = \"wget https://www.mountainproject.com/user/110296901/morgan-f/tick-export\"\n",
        "# My Routes\n",
        "#command2 = \"wget https://www.mountainproject.com/user/109791883/trevor-clack/tick-export\"\n",
        "# Brad G.\n",
        "#command3 = \"wget https://www.mountainproject.com/user/106027958/brad-g/tick-export\"\n",
        "#Ryan Murphy\n",
        "#command4 = \"wget https://www.mountainproject.com/user/106234022/stormeh/tick-export\"\n",
        "#os.system(command1)\n",
        "#os.system(command2)\n",
        "#os.system(command3)\n",
        "#os.system(command4)"
      ],
      "execution_count": 0,
      "outputs": []
    },
    {
      "cell_type": "code",
      "metadata": {
        "id": "JT7YdHHxymo8",
        "colab_type": "code",
        "colab": {}
      },
      "source": [
        "# files = [f for f in os.listdir('.') if os.path.isfile(f)]\n",
        "# files\n",
        "# for file in files:\n",
        "#   ticks = pd.read_csv('file')\n"
      ],
      "execution_count": 0,
      "outputs": []
    },
    {
      "cell_type": "code",
      "metadata": {
        "id": "QxRvFZLMv5-a",
        "colab_type": "code",
        "colab": {}
      },
      "source": [
        "# # add danger column\n",
        "# danger_rating = {'PG13':1 ,'R':2,'X':3}\n",
        "# def get_danger(grade):\n",
        "#   try:\n",
        "#     danger = danger_rating[grade.split()[1]]\n",
        "#     return danger\n",
        "#   except:\n",
        "#     return 0 \n",
        "\n",
        "  \n",
        "# # A possible arrangement of difficulties\n",
        "# # 10a 10- 10a/b 10b 10 10b/c 10c 10+ 10c/d 10d 11a  --> 10.0, 10.1, ... , 10.9, 11\n",
        "\n",
        "# grade_chart = pd.read_html(\"https://www.mountainproject.com/international-climbing-grades\")\n",
        "\n",
        "# old_ropes = grade_chart[0].YDSUSA[:-1].to_list()\n",
        "# new_ropes = [0,0,0,0,1,2,3,4,5,6,7,7.5,8,8.5,8.8,9,9.5,9.8]+list(np.round(np.arange(10,16,.1),1))\n",
        "# ropes_convert = dict(zip(old_ropes,new_ropes))\n",
        "\n",
        "# old_boulders = grade_chart[1].HuecoUSA[:-1].to_list()\n",
        "# new_boulders = [0,0,0,0,0]+list(np.round(np.arange(1,17.5,.25),1))\n",
        "\n",
        "# boulders_convert = dict(zip(old_boulders,new_boulders))\n",
        "\n",
        "# def clean_grade(grade):\n",
        "#   grade = grade.split()[0]\n",
        "#   if grade[0] == '5':\n",
        "#     grade = ropes_convert[grade]\n",
        "#     return grade\n",
        "#   elif grade[0] == 'V':\n",
        "#     grade = boulders_convert[grade]\n",
        "#     return grade\n",
        "  \n",
        "  \n",
        "\n",
        "# # create user ticks\n",
        "# def create_user_ticks(file):\n",
        "#   ticks = pd.read_csv(file)\n",
        "#   cols = ['Date','Rating','Pitches','Style','Lead Style','Route Type']\n",
        "#   ticks = ticks[cols]\n",
        "\n",
        "#   #rename cols\n",
        "#   old_names = ticks.columns.to_list()\n",
        "#   new_names = ['date','grade','pitches','style','lead_style','type']\n",
        "#   rename_cols = dict(zip(old_names,new_names))\n",
        "#   ticks = ticks.rename(columns=rename_cols)\n",
        "\n",
        "#   # date to datetime\n",
        "#   ticks.date = pd.to_datetime(ticks.date)\n",
        "\n",
        "#   # add danger column\n",
        "#   ticks['danger'] = ticks.grade.apply(get_danger)\n",
        "\n",
        "  \n",
        "#   ticks.grade = ticks.grade.apply(clean_grade)\n",
        "# ticks.head(30)\n"
      ],
      "execution_count": 0,
      "outputs": []
    },
    {
      "cell_type": "code",
      "metadata": {
        "id": "AQAj_mxVUaUn",
        "colab_type": "code",
        "colab": {}
      },
      "source": [
        ""
      ],
      "execution_count": 0,
      "outputs": []
    },
    {
      "cell_type": "code",
      "metadata": {
        "id": "JVULl_6L9meD",
        "colab_type": "code",
        "colab": {}
      },
      "source": [
        "# A possible arrangement of difficulties\n",
        "# 10a 10- 10a/b 10b 10 10b/c 10c 10+ 10c/d 10d 11a  --> 10.0, 10.1, ... , 10.9, 11\n",
        "\n",
        "# grade_chart = pd.read_html(\"https://www.mountainproject.com/international-climbing-grades\")\n",
        "\n",
        "# old_ropes = grade_chart[0].YDSUSA[:-1].to_list()\n",
        "# new_ropes = [0,0,0,0,1,2,3,4,5,6,7,7.5,8,8.5,8.8,9,9.5,9.8]+list(np.round(np.arange(10,16,.1),1))\n",
        "# ropes_convert = dict(zip(old_ropes,new_ropes))\n",
        "\n",
        "# old_boulders = grade_chart[1].HuecoUSA[:-1].to_list()\n",
        "# new_boulders = [0,0,0,0,0]+list(np.round(np.arange(1,17.5,.25),1))\n",
        "\n",
        "# boulders_convert = dict(zip(old_boulders,new_boulders))\n",
        "\n",
        "# def clean_grade(grade):\n",
        "#   grade = grade.split()[0]\n",
        "#   if grade[0] == '5':\n",
        "#     grade = ropes_convert[grade]\n",
        "#     return grade\n",
        "#   elif grade[0] == 'V':\n",
        "#     grade = boulders_convert[grade]\n",
        "#     return grade\n",
        "    \n",
        "# ticks.grade = ticks.grade.apply(clean_grade)"
      ],
      "execution_count": 0,
      "outputs": []
    },
    {
      "cell_type": "code",
      "metadata": {
        "id": "GXvmO7FI95RO",
        "colab_type": "code",
        "colab": {}
      },
      "source": [
        "#tick_stats = "
      ],
      "execution_count": 0,
      "outputs": []
    },
    {
      "cell_type": "code",
      "metadata": {
        "id": "k3zDC36CyHKu",
        "colab_type": "code",
        "colab": {}
      },
      "source": [
        "# monthly_tick_average = ticks[ticks.type != 'Boulder'][['date','grade']].set_index('date').resample('M',how='mean').dropna()\n",
        "#monthly_tick_average['max'] = ticks[ticks.lead_style == 'Onsight'][['date','grade']].set_index('date').resample('M',how='max').dropna().grade\n",
        "#monthly_tick_average = monthly_tick_average.reset_index()"
      ],
      "execution_count": 0,
      "outputs": []
    },
    {
      "cell_type": "code",
      "metadata": {
        "id": "WZ1YQA5hYtPX",
        "colab_type": "code",
        "colab": {}
      },
      "source": [
        "#Individual plotting of Average Grades\n",
        "# plt.style.use('fivethirtyeight')\n",
        "# monthly_tick_average.plot(legend=False,color='g')\n",
        "# plt.title(\"Ryan Average Monthly grade (routes)\",);"
      ],
      "execution_count": 0,
      "outputs": []
    },
    {
      "cell_type": "code",
      "metadata": {
        "id": "OF7vExs_dAf3",
        "colab_type": "code",
        "colab": {}
      },
      "source": [
        "# lead = ticks[(ticks['style'] == 'Lead') & (ticks.lead_style =='Onsight')]\n",
        "# high_grades = lead[lead.grade >= 10]\n",
        "# high_grades.grade.value_counts().sort_index()"
      ],
      "execution_count": 0,
      "outputs": []
    }
  ]
}