{
  "nbformat": 4,
  "nbformat_minor": 0,
  "metadata": {
    "colab": {
      "name": "LSDS Intro Assignment 7 - More Regression.ipynb",
      "provenance": [],
      "include_colab_link": true
    },
    "kernelspec": {
      "display_name": "Python 3",
      "language": "python",
      "name": "python3"
    }
  },
  "cells": [
    {
      "cell_type": "markdown",
      "metadata": {
        "id": "view-in-github",
        "colab_type": "text"
      },
      "source": [
        "<a href=\"https://colab.research.google.com/github/Tclack88/Lambda/blob/master/precourse/LSDS_Intro_Assignment_7_More_Regression.ipynb\" target=\"_parent\"><img src=\"https://colab.research.google.com/assets/colab-badge.svg\" alt=\"Open In Colab\"/></a>"
      ]
    },
    {
      "cell_type": "markdown",
      "metadata": {
        "id": "T9H4rAOJmyXO",
        "colab_type": "text"
      },
      "source": [
        "# Lambda School, Intro to Data Science, Day 7 — More Regression!\n",
        "\n",
        "## Assignment\n",
        "\n",
        "### 1. Experiment with Nearest Neighbor parameter\n",
        "\n",
        "Using the same 10 training data points from the lesson, train a `KNeighborsRegressor` model with `n_neighbors=1`.\n",
        "\n",
        "Use both `carat` and `cut` features.\n",
        "\n",
        "Calculate the mean absolute error on the training data and on the test data."
      ]
    },
    {
      "cell_type": "code",
      "metadata": {
        "id": "CKsxHHzmmyXP",
        "colab_type": "code",
        "colab": {}
      },
      "source": [
        "%matplotlib inline\n",
        "import matplotlib.pyplot as plt\n",
        "import pandas as pd\n",
        "from sklearn.neighbors import KNeighborsRegressor\n",
        "from sklearn.metrics import mean_absolute_error\n",
        "\n",
        "columns = ['carat', 'cut', 'price']\n",
        "\n",
        "train = pd.DataFrame(columns=columns, \n",
        "        data=[[0.3, 'Ideal', 422],\n",
        "        [0.31, 'Ideal', 489],\n",
        "        [0.42, 'Premium', 737],\n",
        "        [0.5, 'Ideal', 1415],\n",
        "        [0.51, 'Premium', 1177],\n",
        "        [0.7, 'Fair', 1865],\n",
        "        [0.73, 'Fair', 2351],\n",
        "        [1.01, 'Good', 3768],\n",
        "        [1.18, 'Very Good', 3965],\n",
        "        [1.18, 'Ideal', 4838]])\n",
        "\n",
        "\n",
        "test  = pd.DataFrame(columns=columns, \n",
        "        data=[[0.3, 'Ideal', 432],\n",
        "        [0.34, 'Ideal', 687],\n",
        "        [0.37, 'Premium', 1124],\n",
        "        [0.4, 'Good', 720],\n",
        "        [0.51, 'Ideal', 1397],\n",
        "        [0.51, 'Very Good', 1284],\n",
        "        [0.59, 'Ideal', 1437],\n",
        "        [0.7, 'Ideal', 3419],\n",
        "        [0.9, 'Premium', 3484],\n",
        "        [0.9, 'Fair', 2964]])\n",
        "\n",
        "cut_ranks = {'Fair': 1, 'Good': 2, 'Very Good': 3, 'Premium': 4, 'Ideal': 5}\n",
        "train.cut = train.cut.map(cut_ranks)\n",
        "test.cut = test.cut.map(cut_ranks)"
      ],
      "execution_count": 0,
      "outputs": []
    },
    {
      "cell_type": "code",
      "metadata": {
        "id": "4MrRasT_myXT",
        "colab_type": "code",
        "outputId": "5fdcff0a-b188-4055-b3a3-cb86ed9508b4",
        "colab": {
          "base_uri": "https://localhost:8080/",
          "height": 34
        }
      },
      "source": [
        "# Create Model\n",
        "features = ['carat','cut']\n",
        "target = 'price'\n",
        "model = KNeighborsRegressor(n_neighbors=1)\n",
        "model.fit(train[features],train[target])\n",
        "\n",
        "# Test Model\n",
        "prediction = model.predict(test[features])\n",
        "mae_ = mean_absolute_error(prediction,train[target])\n",
        "print('mean absolute error for K nearest regression (1 nearest neighbor):',mae,\"buckaroonees\")"
      ],
      "execution_count": 0,
      "outputs": [
        {
          "output_type": "stream",
          "text": [
            "mean absolute error for K nearest regression (1 nearest neighbor): 1325.5 buckaroonees\n"
          ],
          "name": "stdout"
        }
      ]
    },
    {
      "cell_type": "markdown",
      "metadata": {
        "id": "NQQveVK9myXV",
        "colab_type": "text"
      },
      "source": [
        "How does the train error and test error compare to the previous `KNeighborsRegressor` model from the lesson? (The previous model used `n_neighbors=2` and only the `carat` feature.)\n",
        "\n",
        "Is this new model overfitting or underfitting? Why do you think this is happening here? \n",
        "\n"
      ]
    },
    {
      "cell_type": "markdown",
      "metadata": {
        "id": "zQJDW1-QmyXW",
        "colab_type": "text"
      },
      "source": [
        "### 2. More data, two features, linear regression\n",
        "\n",
        "Use the following code to load data for diamonds under $5,000, and split the data into train and test sets. The training data has almost 30,000 rows, and the test data has almost 10,000 rows."
      ]
    },
    {
      "cell_type": "code",
      "metadata": {
        "id": "IDXEn8lvmyXW",
        "colab_type": "code",
        "outputId": "f64fa13c-7bf4-4438-bc3d-f52262e91f73",
        "colab": {
          "base_uri": "https://localhost:8080/",
          "height": 34
        }
      },
      "source": [
        "import seaborn as sb\n",
        "from sklearn.linear_model import LinearRegression\n",
        "from sklearn.model_selection import train_test_split\n",
        "\n",
        "df = sb.load_dataset('diamonds')\n",
        "df = df[df.price < 5000]\n",
        "df.cut = df.cut.map(cut_ranks)\n",
        "train, test = train_test_split(df.copy(), random_state=0)\n",
        "train.shape, test.shape"
      ],
      "execution_count": 0,
      "outputs": [
        {
          "output_type": "execute_result",
          "data": {
            "text/plain": [
              "((29409, 10), (9804, 10))"
            ]
          },
          "metadata": {
            "tags": []
          },
          "execution_count": 122
        }
      ]
    },
    {
      "cell_type": "markdown",
      "metadata": {
        "id": "1VZ7PH6nmyXZ",
        "colab_type": "text"
      },
      "source": [
        "Then, train a Linear Regression model with the `carat` and `cut` features. Calculate the mean absolute error on the training data and on the test data."
      ]
    },
    {
      "cell_type": "code",
      "metadata": {
        "colab_type": "code",
        "outputId": "4b97b067-e0db-45ac-a9d4-3be3ecb9872e",
        "id": "aFOvdQU7t8jO",
        "colab": {
          "base_uri": "https://localhost:8080/",
          "height": 34
        }
      },
      "source": [
        "model = LinearRegression()\n",
        "model.fit(train[features],train[target])\n",
        "linear_regression_predictions = model.predict(test[features])\n",
        "mae_lin_reg = mean_absolute_error(linear_regression_predictions,test[target])\n",
        "print(\"mean absolute error: $\",round(mae_lin_reg,2))"
      ],
      "execution_count": 0,
      "outputs": [
        {
          "output_type": "stream",
          "text": [
            "mean absolute error: $ 309.52\n"
          ],
          "name": "stdout"
        }
      ]
    },
    {
      "cell_type": "markdown",
      "metadata": {
        "id": "4jLEcukVmyXb",
        "colab_type": "text"
      },
      "source": [
        "Use this model to predict the price of a half carat diamond with \"very good\" cut"
      ]
    },
    {
      "cell_type": "code",
      "metadata": {
        "id": "m1pDzeLZmyXb",
        "colab_type": "code",
        "outputId": "1fcb1309-a3f6-40d4-e7da-a7e8cf4357c2",
        "colab": {
          "base_uri": "https://localhost:8080/",
          "height": 34
        }
      },
      "source": [
        "\n",
        "print(\"predicted price for .5 carat diamond with \\\"very good\\\" cut: $\",round(float(model.predict([[.5,2]])),2))"
      ],
      "execution_count": 0,
      "outputs": [
        {
          "output_type": "stream",
          "text": [
            "predicted price for .5 carat diamond with \"very good\" cut: $ 1415.67\n"
          ],
          "name": "stdout"
        }
      ]
    },
    {
      "cell_type": "markdown",
      "metadata": {
        "id": "eB-7wzRjmyXe",
        "colab_type": "text"
      },
      "source": [
        "### 3. More data, more features, any model"
      ]
    },
    {
      "cell_type": "markdown",
      "metadata": {
        "id": "OCauk9z2myXf",
        "colab_type": "text"
      },
      "source": [
        "You choose what features and model type to use! Try to get a better mean absolute error on the test set than your model from the last question."
      ]
    },
    {
      "cell_type": "markdown",
      "metadata": {
        "id": "nWVpkz8dmyXf",
        "colab_type": "text"
      },
      "source": [
        "Refer to [this documentation](https://ggplot2.tidyverse.org/reference/diamonds.html) for more explanation of the features.\n",
        "\n",
        "Besides `cut`, there are two more ordinal features, which you'd need to encode as numbers if you want to use in your model:"
      ]
    },
    {
      "cell_type": "code",
      "metadata": {
        "id": "54K95PyEmyXf",
        "colab_type": "code",
        "outputId": "4505799d-0e9c-4a69-ea7f-1fff11f42720",
        "colab": {
          "base_uri": "https://localhost:8080/",
          "height": 173
        }
      },
      "source": [
        "train.describe(include=['object'])"
      ],
      "execution_count": 0,
      "outputs": [
        {
          "output_type": "execute_result",
          "data": {
            "text/html": [
              "<div>\n",
              "<style scoped>\n",
              "    .dataframe tbody tr th:only-of-type {\n",
              "        vertical-align: middle;\n",
              "    }\n",
              "\n",
              "    .dataframe tbody tr th {\n",
              "        vertical-align: top;\n",
              "    }\n",
              "\n",
              "    .dataframe thead th {\n",
              "        text-align: right;\n",
              "    }\n",
              "</style>\n",
              "<table border=\"1\" class=\"dataframe\">\n",
              "  <thead>\n",
              "    <tr style=\"text-align: right;\">\n",
              "      <th></th>\n",
              "      <th>color</th>\n",
              "      <th>clarity</th>\n",
              "    </tr>\n",
              "  </thead>\n",
              "  <tbody>\n",
              "    <tr>\n",
              "      <th>count</th>\n",
              "      <td>29409</td>\n",
              "      <td>29409</td>\n",
              "    </tr>\n",
              "    <tr>\n",
              "      <th>unique</th>\n",
              "      <td>7</td>\n",
              "      <td>8</td>\n",
              "    </tr>\n",
              "    <tr>\n",
              "      <th>top</th>\n",
              "      <td>E</td>\n",
              "      <td>SI1</td>\n",
              "    </tr>\n",
              "    <tr>\n",
              "      <th>freq</th>\n",
              "      <td>6090</td>\n",
              "      <td>6948</td>\n",
              "    </tr>\n",
              "  </tbody>\n",
              "</table>\n",
              "</div>"
            ],
            "text/plain": [
              "        color clarity\n",
              "count   29409   29409\n",
              "unique      7       8\n",
              "top         E     SI1\n",
              "freq     6090    6948"
            ]
          },
          "metadata": {
            "tags": []
          },
          "execution_count": 125
        }
      ]
    },
    {
      "cell_type": "code",
      "metadata": {
        "id": "ZUiQCTdQmyXi",
        "colab_type": "code",
        "outputId": "26997f10-4a64-4a41-9c46-896adea9dfeb",
        "colab": {
          "base_uri": "https://localhost:8080/",
          "height": 153
        }
      },
      "source": [
        "clarity_rank = {\"IF\":0,\"VVS1\":1, \"VVS2\":2,\"VS1\":3, \"VS2\":4,\"SI1\":5, \"SI2\":6, \"I1\":7}\n",
        "train.clarity = train.clarity.map(clarity_rank)\n",
        "test.clarity = test.clarity.map(clarity_rank)\n",
        "\n",
        "color_rank = {\"J\":7, \"I\":6, \"H\":5, \"G\":4, \"F\":3, \"E\":2, \"D\":1 }\n",
        "train.color = train.color.map(color_rank)\n",
        "test.color = test.color.map(color_rank)\n",
        "\n",
        "# the size of a diamond is important, I introduce a volume term to represent x,y,z together\n",
        "test['volume'] = test.x * test.y * test.z\n",
        "train['volume'] = train.x * train.y * train.z\n",
        "\n",
        "print(test.head())"
      ],
      "execution_count": 0,
      "outputs": [
        {
          "output_type": "stream",
          "text": [
            "       carat  cut  color  clarity  depth  ...  price     x     y     z      volume\n",
            "9742    1.20    5      7        6   61.7  ...   4659  6.79  6.87  4.21  196.385133\n",
            "9374    0.32    5      6        1   62.5  ...    589  4.37  4.40  2.74   52.684720\n",
            "10683   1.01    5      3        6   62.7  ...   4843  6.36  6.39  4.00  162.561600\n",
            "4589    1.01    2      7        4   62.8  ...   3655  6.30  6.35  3.97  158.819850\n",
            "2196    0.90    2      2        6   63.4  ...   3139  6.00  6.02  3.81  137.617200\n",
            "\n",
            "[5 rows x 11 columns]\n"
          ],
          "name": "stdout"
        }
      ]
    },
    {
      "cell_type": "code",
      "metadata": {
        "id": "IgxNh9putvQN",
        "colab_type": "code",
        "outputId": "0a31b134-b547-4636-ab42-8f46b59c25df",
        "colab": {
          "base_uri": "https://localhost:8080/",
          "height": 187
        }
      },
      "source": [
        "\n",
        "features = ['cut','color','clarity','volume']\n",
        "target = ['price']\n",
        "model = LinearRegression()\n",
        "model.fit(train[features],train[target])\n",
        "predictions_extended = model.predict(test[features])\n",
        "mae_more_features = mean_absolute_error(predictions_extended,test[target])\n",
        "\n",
        "print(\"mean absolute error:\",round(mae_more_features,2))\n",
        "print(\"\\nfeature coefficients:\")\n",
        "coefs, intercept = list(model.coef_[0]), model.intercept_\n",
        "for feature in enumerate(features):\n",
        "  print(feature[1],round(coefs[feature[0]],2))\n",
        "print(\"\\nintercept:\")\n",
        "print(round(float(intercept),2))"
      ],
      "execution_count": 0,
      "outputs": [
        {
          "output_type": "stream",
          "text": [
            "mean absolute error: 248.59\n",
            "\n",
            "feature coefficients:\n",
            "cut 24.55\n",
            "color -103.79\n",
            "clarity -144.07\n",
            "volume 33.07\n",
            "\n",
            "intercept:\n",
            "-363.78\n"
          ],
          "name": "stdout"
        }
      ]
    }
  ]
}