{
  "nbformat": 4,
  "nbformat_minor": 0,
  "metadata": {
    "colab": {
      "name": "Copy of LSDS Intro Day 6 Assignment.ipynb",
      "provenance": [],
      "include_colab_link": true
    },
    "kernelspec": {
      "name": "python3",
      "display_name": "Python 3"
    }
  },
  "cells": [
    {
      "cell_type": "markdown",
      "metadata": {
        "id": "view-in-github",
        "colab_type": "text"
      },
      "source": [
        "<a href=\"https://colab.research.google.com/github/Tclack88/Lambda/blob/master/precourse/LSDS_Intro_Day_6_Assignment.ipynb\" target=\"_parent\"><img src=\"https://colab.research.google.com/assets/colab-badge.svg\" alt=\"Open In Colab\"/></a>"
      ]
    },
    {
      "cell_type": "markdown",
      "metadata": {
        "id": "ZBEbTcJDzUmY",
        "colab_type": "text"
      },
      "source": [
        "#Linear Algebra Applications Assignment\n",
        "\n"
      ]
    },
    {
      "cell_type": "markdown",
      "metadata": {
        "id": "eL5Phm9uvdMN",
        "colab_type": "text"
      },
      "source": [
        "\n",
        "\n",
        "### Your data:\n",
        "\n",
        "**chirps_per_sec** = chirps/sec for the striped ground cricket\n",
        "\n",
        "**temperature** = temperature in degrees Fahrenheit\n",
        "\n",
        "Reference: The Song of Insects by Dr.G.W. Pierce, Harvard College Press"
      ]
    },
    {
      "cell_type": "code",
      "metadata": {
        "id": "5gk0TM_HBZQH",
        "colab_type": "code",
        "colab": {}
      },
      "source": [
        ""
      ],
      "execution_count": 0,
      "outputs": []
    },
    {
      "cell_type": "code",
      "metadata": {
        "id": "98zwjiT6XgIu",
        "colab_type": "code",
        "outputId": "fe3b23b0-cfa0-4056-d255-73af68ea9a4c",
        "colab": {
          "base_uri": "https://localhost:8080/",
          "height": 238
        }
      },
      "source": [
        "#!pip install xlrd\n",
        "import pandas as pd\n",
        "import numpy as np\n",
        "\n",
        "df = pd.read_excel('https://college.cengage.com/mathematics/brase/understandable_statistics/7e/students/datasets/slr/excel/slr02.xls')\n",
        "df = df.rename(columns={'X':'chirps_per_sec', 'Y':'temperature'})\n",
        "\n",
        "print(df.shape)\n",
        "df.head()"
      ],
      "execution_count": 0,
      "outputs": [
        {
          "output_type": "stream",
          "text": [
            "*** No CODEPAGE record, no encoding_override: will use 'ascii'\n",
            "(15, 2)\n"
          ],
          "name": "stdout"
        },
        {
          "output_type": "execute_result",
          "data": {
            "text/html": [
              "<div>\n",
              "<style scoped>\n",
              "    .dataframe tbody tr th:only-of-type {\n",
              "        vertical-align: middle;\n",
              "    }\n",
              "\n",
              "    .dataframe tbody tr th {\n",
              "        vertical-align: top;\n",
              "    }\n",
              "\n",
              "    .dataframe thead th {\n",
              "        text-align: right;\n",
              "    }\n",
              "</style>\n",
              "<table border=\"1\" class=\"dataframe\">\n",
              "  <thead>\n",
              "    <tr style=\"text-align: right;\">\n",
              "      <th></th>\n",
              "      <th>chirps_per_sec</th>\n",
              "      <th>temperature</th>\n",
              "    </tr>\n",
              "  </thead>\n",
              "  <tbody>\n",
              "    <tr>\n",
              "      <th>0</th>\n",
              "      <td>20.000000</td>\n",
              "      <td>88.599998</td>\n",
              "    </tr>\n",
              "    <tr>\n",
              "      <th>1</th>\n",
              "      <td>16.000000</td>\n",
              "      <td>71.599998</td>\n",
              "    </tr>\n",
              "    <tr>\n",
              "      <th>2</th>\n",
              "      <td>19.799999</td>\n",
              "      <td>93.300003</td>\n",
              "    </tr>\n",
              "    <tr>\n",
              "      <th>3</th>\n",
              "      <td>18.400000</td>\n",
              "      <td>84.300003</td>\n",
              "    </tr>\n",
              "    <tr>\n",
              "      <th>4</th>\n",
              "      <td>17.100000</td>\n",
              "      <td>80.599998</td>\n",
              "    </tr>\n",
              "  </tbody>\n",
              "</table>\n",
              "</div>"
            ],
            "text/plain": [
              "   chirps_per_sec  temperature\n",
              "0       20.000000    88.599998\n",
              "1       16.000000    71.599998\n",
              "2       19.799999    93.300003\n",
              "3       18.400000    84.300003\n",
              "4       17.100000    80.599998"
            ]
          },
          "metadata": {
            "tags": []
          },
          "execution_count": 2
        }
      ]
    },
    {
      "cell_type": "markdown",
      "metadata": {
        "id": "5oZeVIg12QE2",
        "colab_type": "text"
      },
      "source": [
        "## 1) Graph a scatterplot of chirps_per_sec vs temperature "
      ]
    },
    {
      "cell_type": "code",
      "metadata": {
        "id": "AECb-XTY2Ydq",
        "colab_type": "code",
        "outputId": "79980b58-942f-45a1-db25-a74a475250fd",
        "colab": {
          "base_uri": "https://localhost:8080/",
          "height": 295
        }
      },
      "source": [
        "import matplotlib.pyplot as plt\n",
        "plt.scatter(df.temperature,df.chirps_per_sec)\n",
        "plt.title(\"cricket chirps as a function of temperature\")\n",
        "plt.xlabel(\"temperature\")\n",
        "plt.ylabel(\"chirps/second\")\n",
        "plt.show()"
      ],
      "execution_count": 0,
      "outputs": [
        {
          "output_type": "display_data",
          "data": {
            "image/png": "[encoded data removed]",
            "text/plain": [
              "<Figure size 432x288 with 1 Axes>"
            ]
          },
          "metadata": {
            "tags": []
          }
        }
      ]
    },
    {
      "cell_type": "markdown",
      "metadata": {
        "id": "2aWNZV0V2bEJ",
        "colab_type": "text"
      },
      "source": [
        "## 2) Follow the steps below to compute the coefficients (intercept and slope) for the line of best fit:\n",
        "\n",
        "## 2.1) Use np.ones to add a column of ones to the dataframe"
      ]
    },
    {
      "cell_type": "code",
      "metadata": {
        "id": "cRlmMxmi2p1V",
        "colab_type": "code",
        "colab": {}
      },
      "source": [
        "df['ones'] = np.ones(df.shape[0])"
      ],
      "execution_count": 0,
      "outputs": []
    },
    {
      "cell_type": "markdown",
      "metadata": {
        "id": "OJfdQP9x2sI0",
        "colab_type": "text"
      },
      "source": [
        "## 2.2) Create your X matrix from the 'ones' and 'temperature' columns"
      ]
    },
    {
      "cell_type": "code",
      "metadata": {
        "id": "Xv86TNYh2z15",
        "colab_type": "code",
        "outputId": "997be94e-36c3-4bec-c1ff-ac062e497132",
        "colab": {
          "base_uri": "https://localhost:8080/",
          "height": 272
        }
      },
      "source": [
        "X = df[['temperature','ones']].values"
      ],
      "execution_count": 0,
      "outputs": [
        {
          "output_type": "stream",
          "text": [
            "[[88.59999847  1.        ]\n",
            " [71.59999847  1.        ]\n",
            " [93.30000305  1.        ]\n",
            " [84.30000305  1.        ]\n",
            " [80.59999847  1.        ]\n",
            " [75.19999695  1.        ]\n",
            " [69.69999695  1.        ]\n",
            " [82.          1.        ]\n",
            " [69.40000153  1.        ]\n",
            " [83.30000305  1.        ]\n",
            " [79.59999847  1.        ]\n",
            " [82.59999847  1.        ]\n",
            " [80.59999847  1.        ]\n",
            " [83.5         1.        ]\n",
            " [76.30000305  1.        ]]\n"
          ],
          "name": "stdout"
        }
      ]
    },
    {
      "cell_type": "markdown",
      "metadata": {
        "id": "ynw-nyzF23Wj",
        "colab_type": "text"
      },
      "source": [
        "## 2.3) Create your Y vector from the chips_per_sec column. (Make sure that it is formatted as a column vector.)"
      ]
    },
    {
      "cell_type": "code",
      "metadata": {
        "id": "--prRurc3Buq",
        "colab_type": "code",
        "outputId": "aceccbf5-0434-4d70-9e77-4e97a8911ecb",
        "colab": {
          "base_uri": "https://localhost:8080/",
          "height": 272
        }
      },
      "source": [
        "y = df.chirps_per_sec.values.reshape(-1,1)\n",
        "print(y)"
      ],
      "execution_count": 0,
      "outputs": [
        {
          "output_type": "stream",
          "text": [
            "[[20.        ]\n",
            " [16.        ]\n",
            " [19.79999924]\n",
            " [18.39999962]\n",
            " [17.10000038]\n",
            " [15.5       ]\n",
            " [14.69999981]\n",
            " [17.10000038]\n",
            " [15.39999962]\n",
            " [16.20000076]\n",
            " [15.        ]\n",
            " [17.20000076]\n",
            " [16.        ]\n",
            " [17.        ]\n",
            " [14.39999962]]\n"
          ],
          "name": "stdout"
        }
      ]
    },
    {
      "cell_type": "markdown",
      "metadata": {
        "id": "m6x387_d3FJF",
        "colab_type": "text"
      },
      "source": [
        "## 2.4) Calculate X_transpose and print the result: $X^{T}$ "
      ]
    },
    {
      "cell_type": "code",
      "metadata": {
        "id": "9ifTSQu93NT7",
        "colab_type": "code",
        "outputId": "0430429e-2a3a-4ad8-dc32-e5b9bc9f7380",
        "colab": {
          "base_uri": "https://localhost:8080/",
          "height": 119
        }
      },
      "source": [
        "Xt  = np.transpose(X)"
      ],
      "execution_count": 0,
      "outputs": [
        {
          "output_type": "stream",
          "text": [
            "[[88.59999847 71.59999847 93.30000305 84.30000305 80.59999847 75.19999695\n",
            "  69.69999695 82.         69.40000153 83.30000305 79.59999847 82.59999847\n",
            "  80.59999847 83.5        76.30000305]\n",
            " [ 1.          1.          1.          1.          1.          1.\n",
            "   1.          1.          1.          1.          1.          1.\n",
            "   1.          1.          1.        ]]\n"
          ],
          "name": "stdout"
        }
      ]
    },
    {
      "cell_type": "markdown",
      "metadata": {
        "id": "UXp5-eOH3QgG",
        "colab_type": "text"
      },
      "source": [
        "## 2.5) Calculate X_transpose_X and print the result: $X^{T}X$"
      ]
    },
    {
      "cell_type": "code",
      "metadata": {
        "id": "w6G8_DCw3Pw_",
        "colab_type": "code",
        "outputId": "472a3822-dd83-4c97-da1b-2bdb6e22d256",
        "colab": {
          "base_uri": "https://localhost:8080/",
          "height": 51
        }
      },
      "source": [
        "XtX = np.matmul(Xt,X)\n",
        "print(XtX)"
      ],
      "execution_count": 0,
      "outputs": [
        {
          "output_type": "stream",
          "text": [
            "[[9.67258599e+04 1.20060000e+03]\n",
            " [1.20060000e+03 1.50000000e+01]]\n"
          ],
          "name": "stdout"
        }
      ]
    },
    {
      "cell_type": "markdown",
      "metadata": {
        "id": "maQVOiZ03fuj",
        "colab_type": "text"
      },
      "source": [
        "## 2.6) Calculate the inverse of X_transpose_X and print the result: $(X^{T}X)^{-1}$ "
      ]
    },
    {
      "cell_type": "code",
      "metadata": {
        "id": "htk9bCmN3zUT",
        "colab_type": "code",
        "outputId": "768ee923-fd3d-41c4-8467-540cb025dce8",
        "colab": {
          "base_uri": "https://localhost:8080/",
          "height": 51
        }
      },
      "source": [
        "XtX_inv = np.linalg.inv(XtX)\n",
        "print(XtX_inv)"
      ],
      "execution_count": 0,
      "outputs": [
        {
          "output_type": "stream",
          "text": [
            "[[ 1.58771451e-03 -1.27080669e-01]\n",
            " [-1.27080669e-01  1.02382034e+01]]\n"
          ],
          "name": "stdout"
        }
      ]
    },
    {
      "cell_type": "markdown",
      "metadata": {
        "id": "jKEkWq-j30ty",
        "colab_type": "text"
      },
      "source": [
        "## 2.7) An aside: Multiply the X_tranpose_X matrix against its inverse: $(X^{T}X)(X^{T}X)^{-1}$  Print the result. What is the name for the resulting matrix?"
      ]
    },
    {
      "cell_type": "code",
      "metadata": {
        "id": "P5HWnZdS4A3u",
        "colab_type": "code",
        "outputId": "07ecc141-1982-4a88-ba1f-65f5e6117470",
        "colab": {
          "base_uri": "https://localhost:8080/",
          "height": 119
        }
      },
      "source": [
        "aside_matrix = np.matmul(XtX,XtX_inv)\n",
        "print(aside_matrix)\n",
        "print(\"\\nthis is the identity matrix, which is easy to tell with rounding:\")\n",
        "print(np.round(aside_matrix))"
      ],
      "execution_count": 0,
      "outputs": [
        {
          "output_type": "stream",
          "text": [
            "[[ 1.00000000e+00 -2.06112552e-12]\n",
            " [ 5.55111512e-17  1.00000000e+00]]\n",
            "\n",
            "this is the identity matrix, which is easy to tell with rounding:\n",
            "[[ 1. -0.]\n",
            " [ 0.  1.]]\n"
          ],
          "name": "stdout"
        }
      ]
    },
    {
      "cell_type": "markdown",
      "metadata": {
        "id": "aSbkbyT72QYW",
        "colab_type": "text"
      },
      "source": [
        "## 2.8) Calculate X_transpose_Y and print the result: $X^{T}Y$"
      ]
    },
    {
      "cell_type": "code",
      "metadata": {
        "id": "V_05w71-4RLh",
        "colab_type": "code",
        "outputId": "9a77f44d-df98-40f9-a76b-69a35e48d332",
        "colab": {
          "base_uri": "https://localhost:8080/",
          "height": 51
        }
      },
      "source": [
        "Xty = np.matmul(Xt,y)\n",
        "print(Xty)"
      ],
      "execution_count": 0,
      "outputs": [
        {
          "output_type": "stream",
          "text": [
            "[[20127.47000262]\n",
            " [  249.80000019]]\n"
          ],
          "name": "stdout"
        }
      ]
    },
    {
      "cell_type": "markdown",
      "metadata": {
        "id": "rJCc26lh2Qa9",
        "colab_type": "text"
      },
      "source": [
        "## 2.9) Finally, calculate the Beta coefficients vector by multiplying the left and right halfs of the linear regression equation. Print the Beta vector: $\\beta = (X^{T}X)^{-1} X^{T}Y$  \n",
        "(You should have all of the parts to do this now)"
      ]
    },
    {
      "cell_type": "code",
      "metadata": {
        "id": "yTLRwR2h4kaO",
        "colab_type": "code",
        "outputId": "47bf96f1-82b7-498e-b92f-7ba8d4d5be09",
        "colab": {
          "base_uri": "https://localhost:8080/",
          "height": 51
        }
      },
      "source": [
        "beta = np.matmul(XtX_inv,Xty)\n",
        "print(beta)"
      ],
      "execution_count": 0,
      "outputs": [
        {
          "output_type": "stream",
          "text": [
            "[[ 0.21192498]\n",
            " [-0.3091419 ]]\n"
          ],
          "name": "stdout"
        }
      ]
    },
    {
      "cell_type": "markdown",
      "metadata": {
        "id": "m0YYw0WQ2Qeq",
        "colab_type": "text"
      },
      "source": [
        "## 3) Graph the line of best fit through the scatterplot of the data points"
      ]
    },
    {
      "cell_type": "code",
      "metadata": {
        "id": "txgLJSAF4Ptc",
        "colab_type": "code",
        "outputId": "9d4eacc3-af40-4047-f941-487594d94719",
        "colab": {
          "base_uri": "https://localhost:8080/",
          "height": 295
        }
      },
      "source": [
        "m = beta[0][0]\n",
        "b = beta[1][0]\n",
        "plt.scatter(df.temperature,df.chirps_per_sec)\n",
        "xvals = np.linspace(min(df.temperature)-1,max(df.temperature)+1,10) #only plot the relevant values of x from min temp to max temp\n",
        "plt.plot(xvals,m*xvals+b)\n",
        "plt.title(\"Least squares fit relating cricket chirps per second to temperature\")\n",
        "plt.xlabel(\"temperature (Probably Fahrenheit because boiling crickets don't chirp)\")\n",
        "plt.ylabel(\"chirps per second\")\n",
        "plt.show()"
      ],
      "execution_count": 0,
      "outputs": [
        {
          "output_type": "display_data",
          "data": {
            "image/png": "[encoded data removed]",
            "text/plain": [
              "<Figure size 432x288 with 1 Axes>"
            ]
          },
          "metadata": {
            "tags": []
          }
        }
      ]
    },
    {
      "cell_type": "markdown",
      "metadata": {
        "id": "aUcBfGgW2QhL",
        "colab_type": "text"
      },
      "source": [
        "## 4) If a cricket has chirped 19 times in a second what is the predicted temperature? Plot this prediction as well."
      ]
    },
    {
      "cell_type": "code",
      "metadata": {
        "id": "ibDbYkdvv9Nt",
        "colab_type": "code",
        "outputId": "958c0c34-e90d-464c-875d-3bb11ff2a8a0",
        "colab": {
          "base_uri": "https://localhost:8080/",
          "height": 34
        }
      },
      "source": [
        "# chirps_per_second = m * temperature + b\n",
        "# therefore temperature = (chips_per_second - b ) / m\n",
        "sample_chirp_rate = 19\n",
        "predicted_temp = (sample_chirp_rate - b) / m\n",
        "print(\" A cricket chirping 19 times per second means the temperature is about\",round(predicted_temp),\"F\")"
      ],
      "execution_count": 0,
      "outputs": [
        {
          "output_type": "stream",
          "text": [
            " A cricket chirping 19 times per second means the temperature is about 91.0 F\n"
          ],
          "name": "stdout"
        }
      ]
    },
    {
      "cell_type": "code",
      "metadata": {
        "id": "va_4WyEc1lrM",
        "colab_type": "code",
        "outputId": "024c3e81-347a-46a8-a1f4-175e80bf9a77",
        "colab": {
          "base_uri": "https://localhost:8080/",
          "height": 295
        }
      },
      "source": [
        "plt.scatter(df.temperature,df.chirps_per_sec)\n",
        "xvals = np.linspace(min(df.temperature)-1,max(df.temperature)+1,10) #only plot the relevant values of x from min temp to max temp\n",
        "plt.plot(xvals,m*xvals+b)\n",
        "plt.title(\"Least squares fit relating cricket chirps per second to temperature\")\n",
        "plt.xlabel(\"temperature (Probably Fahrenheit because boiling crickets don't chirp)\")\n",
        "plt.ylabel(\"chirps per second\")\n",
        "plt.scatter(predicted_temp,sample_chirp_rate,color='r')\n",
        "plt.arrow(90,16,predicted_temp-90,sample_chirp_rate-16.2,color='g',head_length = .5,head_width = .5,length_includes_head=True)\n",
        "plt.show()"
      ],
      "execution_count": 0,
      "outputs": [
        {
          "output_type": "display_data",
          "data": {
            "image/png": "[encoded data removed]",
            "text/plain": [
              "<Figure size 432x288 with 1 Axes>"
            ]
          },
          "metadata": {
            "tags": []
          }
        }
      ]
    },
    {
      "cell_type": "markdown",
      "metadata": {
        "id": "NTP8CSuQ0_qq",
        "colab_type": "text"
      },
      "source": [
        "##Stretch Problem\n",
        "Let's add a 3rd dimension. \n",
        "\n",
        "X1 = systolic blood pressure\n",
        "\n",
        "X2 = age in years\n",
        "\n",
        "X3 = weight in pounds\n",
        "\n",
        "Compute the coefficients for the **plane** of best fit for\n",
        "\n",
        "$X_1 = \\beta_1X_2 + \\beta_2X_3 + \\beta_0$\n",
        "\n",
        "Then graph the plane in addition to the  datapoints in a **3D** graph.\n",
        "An article to get you started on [3D graphing](https://jakevdp.github.io/PythonDataScienceHandbook/04.12-three-dimensional-plotting.html)"
      ]
    },
    {
      "cell_type": "code",
      "metadata": {
        "id": "wghLKfsz0_HX",
        "colab_type": "code",
        "outputId": "524fd71a-bb1b-445f-f505-d829cf1ce361",
        "colab": {
          "base_uri": "https://localhost:8080/",
          "height": 153
        }
      },
      "source": [
        "s_data = pd.read_excel('https://college.cengage.com/mathematics/brase/understandable_statistics/7e/students/datasets/mlr/excel/mlr02.xls')\n",
        "print(s_data.head())\n",
        "s_data.shape"
      ],
      "execution_count": 0,
      "outputs": [
        {
          "output_type": "stream",
          "text": [
            "*** No CODEPAGE record, no encoding_override: will use 'ascii'\n",
            "    X1  X2   X3\n",
            "0  132  52  173\n",
            "1  143  59  184\n",
            "2  153  67  194\n",
            "3  162  73  211\n",
            "4  154  64  196\n"
          ],
          "name": "stdout"
        },
        {
          "output_type": "execute_result",
          "data": {
            "text/plain": [
              "(11, 3)"
            ]
          },
          "metadata": {
            "tags": []
          },
          "execution_count": 82
        }
      ]
    },
    {
      "cell_type": "code",
      "metadata": {
        "id": "axE7JEsB4Hh9",
        "colab_type": "code",
        "outputId": "8c9197dd-9f0b-408f-b70d-7a6d81acb07d",
        "colab": {
          "base_uri": "https://localhost:8080/",
          "height": 34
        }
      },
      "source": [
        "s_data['ones'] = np.ones(s_data.shape[0])\n",
        "X1 = s_data.X1.values\n",
        "A = s_data[['X2','X3','ones']].values\n",
        "# A is the matrix representing the 3 cols X2,X3,ones\n",
        "# Our unknown coefficents we can call 'c'\n",
        "# As written, the matrix in the statment can be reduced to\n",
        "# X1 = Ac\n",
        "# We wish to solve for c. We do this by operating on both sides with the transpose of A (we call At)\n",
        "# then we can 'multiply though' by the inverse to isolate c\n",
        "# (At)Ac = (At)X1\n",
        "# (AtA)c = (At)X1\n",
        "# (AtA_inv)(AtA)c = (AtA_inv)(At)X1\n",
        "# c = (AtA_inv)(At)X1\n",
        "At = np.transpose(A)\n",
        "AtA = np.matmul(At,A)\n",
        "AtA_inv = np.linalg.inv(AtA)\n",
        "c = np.matmul(AtA_inv,(np.matmul(At,X1)))\n",
        "print(c)"
      ],
      "execution_count": 0,
      "outputs": [
        {
          "output_type": "stream",
          "text": [
            "[ 0.86141469  0.3348592  30.99410295]\n"
          ],
          "name": "stdout"
        }
      ]
    },
    {
      "cell_type": "code",
      "metadata": {
        "id": "7txh1riFC2t4",
        "colab_type": "code",
        "outputId": "4d60fb1a-038d-492e-8cf3-aa43e268f501",
        "colab": {
          "base_uri": "https://localhost:8080/",
          "height": 248
        }
      },
      "source": [
        "from mpl_toolkits.mplot3d import axes3d\n",
        "\n",
        "def plane(x,y):\n",
        "  # from ax + by + cz = d\n",
        "  # z = (d - ax - by) / c\n",
        "  z = (c[2] + c[0]*x + c[1]*y)\n",
        "  return z\n",
        "\n",
        "x_vals = np.linspace(min(s_data.X2),max(s_data.X2),10)\n",
        "y_vals = np.linspace(min(s_data.X3),max(s_data.X3),10)\n",
        "x_vals,y_vals = np.meshgrid(x_vals,y_vals)\n",
        "z = plane(x_vals,y_vals)\n",
        "#print(z)\n",
        "\n",
        "fig = plt.figure()\n",
        "ax = fig.gca(projection='3d')\n",
        "ax.scatter(s_data.X2,s_data.X3,s_data.X1,color='r')\n",
        "ax.plot_surface(x_vals,y_vals,z,alpha=.5)\n",
        "plt.title(\"best fit plane relating Systolic BP to age and weight\")\n",
        "plt.xlabel(\"age(years)\")\n",
        "plt.ylabel(\"weight(lbs)\")\n",
        "ax.set_zlabel(\"systolic Blood Pressure\")\n",
        "plt.show()"
      ],
      "execution_count": 0,
      "outputs": [
        {
          "output_type": "display_data",
          "data": {
            "image/png": "[encoded data removed]",
            "text/plain": [
              "<Figure size 432x288 with 1 Axes>"
            ]
          },
          "metadata": {
            "tags": []
          }
        }
      ]
    }
  ]
}