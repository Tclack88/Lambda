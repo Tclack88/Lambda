{
  "nbformat": 4,
  "nbformat_minor": 0,
  "metadata": {
    "colab": {
      "name": "DS_Unit_1_Sprint_Challenge_2_Data_Wrangling_and_Storytelling.ipynb",
      "provenance": [],
      "collapsed_sections": [],
      "include_colab_link": true
    },
    "language_info": {
      "codemirror_mode": {
        "name": "ipython",
        "version": 3
      },
      "file_extension": ".py",
      "mimetype": "text/x-python",
      "name": "python",
      "nbconvert_exporter": "python",
      "pygments_lexer": "ipython3",
      "version": "3.7.1"
    },
    "kernelspec": {
      "display_name": "Python 3",
      "language": "python",
      "name": "python3"
    }
  },
  "cells": [
    {
      "cell_type": "markdown",
      "metadata": {
        "id": "view-in-github",
        "colab_type": "text"
      },
      "source": [
        "<a href=\"https://colab.research.google.com/github/Tclack88/Lambda/blob/master/DS_Unit_1_Sprint_Challenge_2_Data_Wrangling_and_Storytelling.ipynb\" target=\"_parent\"><img src=\"https://colab.research.google.com/assets/colab-badge.svg\" alt=\"Open In Colab\"/></a>"
      ]
    },
    {
      "cell_type": "markdown",
      "metadata": {
        "colab_type": "text",
        "id": "4yMHi_PX9hEz"
      },
      "source": [
        "# Data Science Unit 1 Sprint Challenge 2\n",
        "\n",
        "## Data Wrangling and Storytelling\n",
        "\n",
        "Taming data from its raw form into informative insights and stories."
      ]
    },
    {
      "cell_type": "markdown",
      "metadata": {
        "id": "9wIvtOss9H_i",
        "colab_type": "text"
      },
      "source": [
        "## Data Wrangling\n",
        "\n",
        "In this Sprint Challenge you will first \"wrangle\" some data from [Gapminder](https://www.gapminder.org/about-gapminder/), a Swedish non-profit co-founded by Hans Rosling. \"Gapminder produces free teaching resources making the world understandable based on reliable statistics.\"\n",
        "- [Cell phones (total), by country and year](https://raw.githubusercontent.com/open-numbers/ddf--gapminder--systema_globalis/master/ddf--datapoints--cell_phones_total--by--geo--time.csv)\n",
        "- [Population (total), by country and year](https://raw.githubusercontent.com/open-numbers/ddf--gapminder--systema_globalis/master/ddf--datapoints--population_total--by--geo--time.csv)\n",
        "- [Geo country codes](https://github.com/open-numbers/ddf--gapminder--systema_globalis/blob/master/ddf--entities--geo--country.csv)\n",
        "\n",
        "These two links have everything you need to successfully complete the first part of this sprint challenge.\n",
        "- [Pandas documentation: Working with Text Data](https://pandas.pydata.org/pandas-docs/stable/text.html) (one question)\n",
        "- [Pandas Cheat Sheet](https://github.com/pandas-dev/pandas/blob/master/doc/cheatsheet/Pandas_Cheat_Sheet.pdf) (everything else)"
      ]
    },
    {
      "cell_type": "markdown",
      "metadata": {
        "colab_type": "text",
        "id": "wWEU2GemX68A"
      },
      "source": [
        "### Part 0. Load data\n",
        "\n",
        "You don't need to add or change anything here. Just run this cell and it loads the data for you, into three dataframes."
      ]
    },
    {
      "cell_type": "code",
      "metadata": {
        "colab_type": "code",
        "id": "bxKtSi5sRQOl",
        "colab": {}
      },
      "source": [
        "import pandas as pd\n",
        "\n",
        "cell_phones = pd.read_csv('https://raw.githubusercontent.com/open-numbers/ddf--gapminder--systema_globalis/master/ddf--datapoints--cell_phones_total--by--geo--time.csv')\n",
        "\n",
        "population = pd.read_csv('https://raw.githubusercontent.com/open-numbers/ddf--gapminder--systema_globalis/master/ddf--datapoints--population_total--by--geo--time.csv')\n",
        "\n",
        "geo_country_codes = (pd.read_csv('https://raw.githubusercontent.com/open-numbers/ddf--gapminder--systema_globalis/master/ddf--entities--geo--country.csv')\n",
        "                       .rename(columns={'country': 'geo', 'name': 'country'}))"
      ],
      "execution_count": 0,
      "outputs": []
    },
    {
      "cell_type": "code",
      "metadata": {
        "id": "zipeonIcJRGh",
        "colab_type": "code",
        "outputId": "42c907ab-e723-4196-948b-938b668cbac8",
        "colab": {
          "base_uri": "https://localhost:8080/",
          "height": 204
        }
      },
      "source": [
        "cell_phones.head()"
      ],
      "execution_count": 0,
      "outputs": [
        {
          "output_type": "execute_result",
          "data": {
            "text/html": [
              "<div>\n",
              "<style scoped>\n",
              "    .dataframe tbody tr th:only-of-type {\n",
              "        vertical-align: middle;\n",
              "    }\n",
              "\n",
              "    .dataframe tbody tr th {\n",
              "        vertical-align: top;\n",
              "    }\n",
              "\n",
              "    .dataframe thead th {\n",
              "        text-align: right;\n",
              "    }\n",
              "</style>\n",
              "<table border=\"1\" class=\"dataframe\">\n",
              "  <thead>\n",
              "    <tr style=\"text-align: right;\">\n",
              "      <th></th>\n",
              "      <th>geo</th>\n",
              "      <th>time</th>\n",
              "      <th>cell_phones_total</th>\n",
              "    </tr>\n",
              "  </thead>\n",
              "  <tbody>\n",
              "    <tr>\n",
              "      <th>0</th>\n",
              "      <td>abw</td>\n",
              "      <td>1960</td>\n",
              "      <td>0.0</td>\n",
              "    </tr>\n",
              "    <tr>\n",
              "      <th>1</th>\n",
              "      <td>abw</td>\n",
              "      <td>1965</td>\n",
              "      <td>0.0</td>\n",
              "    </tr>\n",
              "    <tr>\n",
              "      <th>2</th>\n",
              "      <td>abw</td>\n",
              "      <td>1970</td>\n",
              "      <td>0.0</td>\n",
              "    </tr>\n",
              "    <tr>\n",
              "      <th>3</th>\n",
              "      <td>abw</td>\n",
              "      <td>1975</td>\n",
              "      <td>0.0</td>\n",
              "    </tr>\n",
              "    <tr>\n",
              "      <th>4</th>\n",
              "      <td>abw</td>\n",
              "      <td>1976</td>\n",
              "      <td>0.0</td>\n",
              "    </tr>\n",
              "  </tbody>\n",
              "</table>\n",
              "</div>"
            ],
            "text/plain": [
              "   geo  time  cell_phones_total\n",
              "0  abw  1960                0.0\n",
              "1  abw  1965                0.0\n",
              "2  abw  1970                0.0\n",
              "3  abw  1975                0.0\n",
              "4  abw  1976                0.0"
            ]
          },
          "metadata": {
            "tags": []
          },
          "execution_count": 234
        }
      ]
    },
    {
      "cell_type": "code",
      "metadata": {
        "id": "9Gfd5V0mJSo3",
        "colab_type": "code",
        "outputId": "38d92fa6-4774-41b3-b037-34a0973028e5",
        "colab": {
          "base_uri": "https://localhost:8080/",
          "height": 204
        }
      },
      "source": [
        "population.head()"
      ],
      "execution_count": 0,
      "outputs": [
        {
          "output_type": "execute_result",
          "data": {
            "text/html": [
              "<div>\n",
              "<style scoped>\n",
              "    .dataframe tbody tr th:only-of-type {\n",
              "        vertical-align: middle;\n",
              "    }\n",
              "\n",
              "    .dataframe tbody tr th {\n",
              "        vertical-align: top;\n",
              "    }\n",
              "\n",
              "    .dataframe thead th {\n",
              "        text-align: right;\n",
              "    }\n",
              "</style>\n",
              "<table border=\"1\" class=\"dataframe\">\n",
              "  <thead>\n",
              "    <tr style=\"text-align: right;\">\n",
              "      <th></th>\n",
              "      <th>geo</th>\n",
              "      <th>time</th>\n",
              "      <th>population_total</th>\n",
              "    </tr>\n",
              "  </thead>\n",
              "  <tbody>\n",
              "    <tr>\n",
              "      <th>0</th>\n",
              "      <td>afg</td>\n",
              "      <td>1800</td>\n",
              "      <td>3280000</td>\n",
              "    </tr>\n",
              "    <tr>\n",
              "      <th>1</th>\n",
              "      <td>afg</td>\n",
              "      <td>1801</td>\n",
              "      <td>3280000</td>\n",
              "    </tr>\n",
              "    <tr>\n",
              "      <th>2</th>\n",
              "      <td>afg</td>\n",
              "      <td>1802</td>\n",
              "      <td>3280000</td>\n",
              "    </tr>\n",
              "    <tr>\n",
              "      <th>3</th>\n",
              "      <td>afg</td>\n",
              "      <td>1803</td>\n",
              "      <td>3280000</td>\n",
              "    </tr>\n",
              "    <tr>\n",
              "      <th>4</th>\n",
              "      <td>afg</td>\n",
              "      <td>1804</td>\n",
              "      <td>3280000</td>\n",
              "    </tr>\n",
              "  </tbody>\n",
              "</table>\n",
              "</div>"
            ],
            "text/plain": [
              "   geo  time  population_total\n",
              "0  afg  1800           3280000\n",
              "1  afg  1801           3280000\n",
              "2  afg  1802           3280000\n",
              "3  afg  1803           3280000\n",
              "4  afg  1804           3280000"
            ]
          },
          "metadata": {
            "tags": []
          },
          "execution_count": 235
        }
      ]
    },
    {
      "cell_type": "code",
      "metadata": {
        "id": "ewMGDh6PJUVk",
        "colab_type": "code",
        "outputId": "aaefdd86-a5b7-4bbb-90c5-355a7c2e64dc",
        "colab": {
          "base_uri": "https://localhost:8080/",
          "height": 258
        }
      },
      "source": [
        "geo_country_codes.head()"
      ],
      "execution_count": 0,
      "outputs": [
        {
          "output_type": "execute_result",
          "data": {
            "text/html": [
              "<div>\n",
              "<style scoped>\n",
              "    .dataframe tbody tr th:only-of-type {\n",
              "        vertical-align: middle;\n",
              "    }\n",
              "\n",
              "    .dataframe tbody tr th {\n",
              "        vertical-align: top;\n",
              "    }\n",
              "\n",
              "    .dataframe thead th {\n",
              "        text-align: right;\n",
              "    }\n",
              "</style>\n",
              "<table border=\"1\" class=\"dataframe\">\n",
              "  <thead>\n",
              "    <tr style=\"text-align: right;\">\n",
              "      <th></th>\n",
              "      <th>geo</th>\n",
              "      <th>alt_5</th>\n",
              "      <th>alternative_1</th>\n",
              "      <th>alternative_2</th>\n",
              "      <th>alternative_3</th>\n",
              "      <th>alternative_4_cdiac</th>\n",
              "      <th>arb1</th>\n",
              "      <th>arb2</th>\n",
              "      <th>arb3</th>\n",
              "      <th>arb4</th>\n",
              "      <th>arb5</th>\n",
              "      <th>arb6</th>\n",
              "      <th>g77_and_oecd_countries</th>\n",
              "      <th>gapminder_list</th>\n",
              "      <th>god_id</th>\n",
              "      <th>gwid</th>\n",
              "      <th>income_groups</th>\n",
              "      <th>is--country</th>\n",
              "      <th>iso3166_1_alpha2</th>\n",
              "      <th>iso3166_1_alpha3</th>\n",
              "      <th>iso3166_1_numeric</th>\n",
              "      <th>iso3166_2</th>\n",
              "      <th>landlocked</th>\n",
              "      <th>latitude</th>\n",
              "      <th>longitude</th>\n",
              "      <th>main_religion_2008</th>\n",
              "      <th>country</th>\n",
              "      <th>pandg</th>\n",
              "      <th>un_state</th>\n",
              "      <th>unicode_region_subtag</th>\n",
              "      <th>upper_case_name</th>\n",
              "      <th>world_4region</th>\n",
              "      <th>world_6region</th>\n",
              "    </tr>\n",
              "  </thead>\n",
              "  <tbody>\n",
              "    <tr>\n",
              "      <th>0</th>\n",
              "      <td>abkh</td>\n",
              "      <td>NaN</td>\n",
              "      <td>NaN</td>\n",
              "      <td>NaN</td>\n",
              "      <td>NaN</td>\n",
              "      <td>NaN</td>\n",
              "      <td>NaN</td>\n",
              "      <td>NaN</td>\n",
              "      <td>NaN</td>\n",
              "      <td>NaN</td>\n",
              "      <td>NaN</td>\n",
              "      <td>NaN</td>\n",
              "      <td>others</td>\n",
              "      <td>Abkhazia</td>\n",
              "      <td>GE-AB</td>\n",
              "      <td>i0</td>\n",
              "      <td>NaN</td>\n",
              "      <td>True</td>\n",
              "      <td>NaN</td>\n",
              "      <td>NaN</td>\n",
              "      <td>nan</td>\n",
              "      <td>NaN</td>\n",
              "      <td>NaN</td>\n",
              "      <td>nan</td>\n",
              "      <td>nan</td>\n",
              "      <td>NaN</td>\n",
              "      <td>Abkhazia</td>\n",
              "      <td>NaN</td>\n",
              "      <td>False</td>\n",
              "      <td>NaN</td>\n",
              "      <td>NaN</td>\n",
              "      <td>europe</td>\n",
              "      <td>europe_central_asia</td>\n",
              "    </tr>\n",
              "    <tr>\n",
              "      <th>1</th>\n",
              "      <td>abw</td>\n",
              "      <td>NaN</td>\n",
              "      <td>NaN</td>\n",
              "      <td>NaN</td>\n",
              "      <td>NaN</td>\n",
              "      <td>Aruba</td>\n",
              "      <td>NaN</td>\n",
              "      <td>NaN</td>\n",
              "      <td>NaN</td>\n",
              "      <td>NaN</td>\n",
              "      <td>NaN</td>\n",
              "      <td>NaN</td>\n",
              "      <td>others</td>\n",
              "      <td>Aruba</td>\n",
              "      <td>AW</td>\n",
              "      <td>i12</td>\n",
              "      <td>high_income</td>\n",
              "      <td>True</td>\n",
              "      <td>AW</td>\n",
              "      <td>ABW</td>\n",
              "      <td>533.0</td>\n",
              "      <td>NaN</td>\n",
              "      <td>coastline</td>\n",
              "      <td>12.5</td>\n",
              "      <td>-69.96667</td>\n",
              "      <td>christian</td>\n",
              "      <td>Aruba</td>\n",
              "      <td>NaN</td>\n",
              "      <td>False</td>\n",
              "      <td>AW</td>\n",
              "      <td>ARUBA</td>\n",
              "      <td>americas</td>\n",
              "      <td>america</td>\n",
              "    </tr>\n",
              "    <tr>\n",
              "      <th>2</th>\n",
              "      <td>afg</td>\n",
              "      <td>NaN</td>\n",
              "      <td>Islamic Republic of Afghanistan</td>\n",
              "      <td>NaN</td>\n",
              "      <td>NaN</td>\n",
              "      <td>Afghanistan</td>\n",
              "      <td>NaN</td>\n",
              "      <td>NaN</td>\n",
              "      <td>NaN</td>\n",
              "      <td>NaN</td>\n",
              "      <td>NaN</td>\n",
              "      <td>NaN</td>\n",
              "      <td>g77</td>\n",
              "      <td>Afghanistan</td>\n",
              "      <td>AF</td>\n",
              "      <td>i1</td>\n",
              "      <td>low_income</td>\n",
              "      <td>True</td>\n",
              "      <td>AF</td>\n",
              "      <td>AFG</td>\n",
              "      <td>4.0</td>\n",
              "      <td>NaN</td>\n",
              "      <td>landlocked</td>\n",
              "      <td>33.0</td>\n",
              "      <td>66.0</td>\n",
              "      <td>muslim</td>\n",
              "      <td>Afghanistan</td>\n",
              "      <td>AFGHANISTAN</td>\n",
              "      <td>True</td>\n",
              "      <td>AF</td>\n",
              "      <td>AFGHANISTAN</td>\n",
              "      <td>asia</td>\n",
              "      <td>south_asia</td>\n",
              "    </tr>\n",
              "    <tr>\n",
              "      <th>3</th>\n",
              "      <td>ago</td>\n",
              "      <td>NaN</td>\n",
              "      <td>NaN</td>\n",
              "      <td>NaN</td>\n",
              "      <td>NaN</td>\n",
              "      <td>Angola</td>\n",
              "      <td>NaN</td>\n",
              "      <td>NaN</td>\n",
              "      <td>NaN</td>\n",
              "      <td>NaN</td>\n",
              "      <td>NaN</td>\n",
              "      <td>NaN</td>\n",
              "      <td>g77</td>\n",
              "      <td>Angola</td>\n",
              "      <td>AO</td>\n",
              "      <td>i7</td>\n",
              "      <td>upper_middle_income</td>\n",
              "      <td>True</td>\n",
              "      <td>AO</td>\n",
              "      <td>AGO</td>\n",
              "      <td>24.0</td>\n",
              "      <td>NaN</td>\n",
              "      <td>coastline</td>\n",
              "      <td>-12.5</td>\n",
              "      <td>18.5</td>\n",
              "      <td>christian</td>\n",
              "      <td>Angola</td>\n",
              "      <td>ANGOLA</td>\n",
              "      <td>True</td>\n",
              "      <td>AO</td>\n",
              "      <td>ANGOLA</td>\n",
              "      <td>africa</td>\n",
              "      <td>sub_saharan_africa</td>\n",
              "    </tr>\n",
              "    <tr>\n",
              "      <th>4</th>\n",
              "      <td>aia</td>\n",
              "      <td>NaN</td>\n",
              "      <td>NaN</td>\n",
              "      <td>NaN</td>\n",
              "      <td>NaN</td>\n",
              "      <td>NaN</td>\n",
              "      <td>NaN</td>\n",
              "      <td>NaN</td>\n",
              "      <td>NaN</td>\n",
              "      <td>NaN</td>\n",
              "      <td>NaN</td>\n",
              "      <td>NaN</td>\n",
              "      <td>others</td>\n",
              "      <td>Anguilla</td>\n",
              "      <td>AI</td>\n",
              "      <td>i8</td>\n",
              "      <td>NaN</td>\n",
              "      <td>True</td>\n",
              "      <td>AI</td>\n",
              "      <td>AIA</td>\n",
              "      <td>660.0</td>\n",
              "      <td>NaN</td>\n",
              "      <td>coastline</td>\n",
              "      <td>18.21667</td>\n",
              "      <td>-63.05</td>\n",
              "      <td>christian</td>\n",
              "      <td>Anguilla</td>\n",
              "      <td>NaN</td>\n",
              "      <td>False</td>\n",
              "      <td>AI</td>\n",
              "      <td>ANGUILLA</td>\n",
              "      <td>americas</td>\n",
              "      <td>america</td>\n",
              "    </tr>\n",
              "  </tbody>\n",
              "</table>\n",
              "</div>"
            ],
            "text/plain": [
              "    geo alt_5  ... world_4region        world_6region\n",
              "0  abkh   NaN  ...        europe  europe_central_asia\n",
              "1   abw   NaN  ...      americas              america\n",
              "2   afg   NaN  ...          asia           south_asia\n",
              "3   ago   NaN  ...        africa   sub_saharan_africa\n",
              "4   aia   NaN  ...      americas              america\n",
              "\n",
              "[5 rows x 33 columns]"
            ]
          },
          "metadata": {
            "tags": []
          },
          "execution_count": 236
        }
      ]
    },
    {
      "cell_type": "markdown",
      "metadata": {
        "colab_type": "text",
        "id": "AZmVTeCsX9RC"
      },
      "source": [
        "### Part 1. Join data"
      ]
    },
    {
      "cell_type": "markdown",
      "metadata": {
        "colab_type": "text",
        "id": "GLzX58u4SfEy"
      },
      "source": [
        "First, join the `cell_phones` and `population` dataframes (with an inner join on `geo` and `time`).\n",
        "\n",
        "The resulting dataframe's shape should be: (8590, 4)"
      ]
    },
    {
      "cell_type": "code",
      "metadata": {
        "colab_type": "code",
        "id": "GVV7Hnj4SXBa",
        "outputId": "b97edddc-8f5d-4c25-85c5-e8a7acc701b3",
        "colab": {
          "base_uri": "https://localhost:8080/",
          "height": 221
        }
      },
      "source": [
        "phones_population = cell_phones.merge(population)\n",
        "print(phones_population.shape) # verify\n",
        "phones_population.head()"
      ],
      "execution_count": 0,
      "outputs": [
        {
          "output_type": "stream",
          "text": [
            "(8590, 4)\n"
          ],
          "name": "stdout"
        },
        {
          "output_type": "execute_result",
          "data": {
            "text/html": [
              "<div>\n",
              "<style scoped>\n",
              "    .dataframe tbody tr th:only-of-type {\n",
              "        vertical-align: middle;\n",
              "    }\n",
              "\n",
              "    .dataframe tbody tr th {\n",
              "        vertical-align: top;\n",
              "    }\n",
              "\n",
              "    .dataframe thead th {\n",
              "        text-align: right;\n",
              "    }\n",
              "</style>\n",
              "<table border=\"1\" class=\"dataframe\">\n",
              "  <thead>\n",
              "    <tr style=\"text-align: right;\">\n",
              "      <th></th>\n",
              "      <th>geo</th>\n",
              "      <th>time</th>\n",
              "      <th>cell_phones_total</th>\n",
              "      <th>population_total</th>\n",
              "    </tr>\n",
              "  </thead>\n",
              "  <tbody>\n",
              "    <tr>\n",
              "      <th>0</th>\n",
              "      <td>afg</td>\n",
              "      <td>1960</td>\n",
              "      <td>0.0</td>\n",
              "      <td>8996351</td>\n",
              "    </tr>\n",
              "    <tr>\n",
              "      <th>1</th>\n",
              "      <td>afg</td>\n",
              "      <td>1965</td>\n",
              "      <td>0.0</td>\n",
              "      <td>9938414</td>\n",
              "    </tr>\n",
              "    <tr>\n",
              "      <th>2</th>\n",
              "      <td>afg</td>\n",
              "      <td>1970</td>\n",
              "      <td>0.0</td>\n",
              "      <td>11126123</td>\n",
              "    </tr>\n",
              "    <tr>\n",
              "      <th>3</th>\n",
              "      <td>afg</td>\n",
              "      <td>1975</td>\n",
              "      <td>0.0</td>\n",
              "      <td>12590286</td>\n",
              "    </tr>\n",
              "    <tr>\n",
              "      <th>4</th>\n",
              "      <td>afg</td>\n",
              "      <td>1976</td>\n",
              "      <td>0.0</td>\n",
              "      <td>12840299</td>\n",
              "    </tr>\n",
              "  </tbody>\n",
              "</table>\n",
              "</div>"
            ],
            "text/plain": [
              "   geo  time  cell_phones_total  population_total\n",
              "0  afg  1960                0.0           8996351\n",
              "1  afg  1965                0.0           9938414\n",
              "2  afg  1970                0.0          11126123\n",
              "3  afg  1975                0.0          12590286\n",
              "4  afg  1976                0.0          12840299"
            ]
          },
          "metadata": {
            "tags": []
          },
          "execution_count": 237
        }
      ]
    },
    {
      "cell_type": "markdown",
      "metadata": {
        "colab_type": "text",
        "id": "xsXpDbwwW241"
      },
      "source": [
        "Then, select the `geo` and `country` columns from the `geo_country_codes` dataframe, and join with your population and cell phone data.\n",
        "\n",
        "The resulting dataframe's shape should be: (8590, 5)"
      ]
    },
    {
      "cell_type": "code",
      "metadata": {
        "colab_type": "code",
        "id": "Q2LaZta_W2CE",
        "outputId": "e0d7bc06-bf72-4b29-f25c-d07417d04970",
        "colab": {
          "base_uri": "https://localhost:8080/",
          "height": 221
        }
      },
      "source": [
        "df = phones_population.merge(geo_country_codes[['geo','country']])\n",
        "print(df.shape) # verify\n",
        "df.head()"
      ],
      "execution_count": 0,
      "outputs": [
        {
          "output_type": "stream",
          "text": [
            "(8590, 5)\n"
          ],
          "name": "stdout"
        },
        {
          "output_type": "execute_result",
          "data": {
            "text/html": [
              "<div>\n",
              "<style scoped>\n",
              "    .dataframe tbody tr th:only-of-type {\n",
              "        vertical-align: middle;\n",
              "    }\n",
              "\n",
              "    .dataframe tbody tr th {\n",
              "        vertical-align: top;\n",
              "    }\n",
              "\n",
              "    .dataframe thead th {\n",
              "        text-align: right;\n",
              "    }\n",
              "</style>\n",
              "<table border=\"1\" class=\"dataframe\">\n",
              "  <thead>\n",
              "    <tr style=\"text-align: right;\">\n",
              "      <th></th>\n",
              "      <th>geo</th>\n",
              "      <th>time</th>\n",
              "      <th>cell_phones_total</th>\n",
              "      <th>population_total</th>\n",
              "      <th>country</th>\n",
              "    </tr>\n",
              "  </thead>\n",
              "  <tbody>\n",
              "    <tr>\n",
              "      <th>0</th>\n",
              "      <td>afg</td>\n",
              "      <td>1960</td>\n",
              "      <td>0.0</td>\n",
              "      <td>8996351</td>\n",
              "      <td>Afghanistan</td>\n",
              "    </tr>\n",
              "    <tr>\n",
              "      <th>1</th>\n",
              "      <td>afg</td>\n",
              "      <td>1965</td>\n",
              "      <td>0.0</td>\n",
              "      <td>9938414</td>\n",
              "      <td>Afghanistan</td>\n",
              "    </tr>\n",
              "    <tr>\n",
              "      <th>2</th>\n",
              "      <td>afg</td>\n",
              "      <td>1970</td>\n",
              "      <td>0.0</td>\n",
              "      <td>11126123</td>\n",
              "      <td>Afghanistan</td>\n",
              "    </tr>\n",
              "    <tr>\n",
              "      <th>3</th>\n",
              "      <td>afg</td>\n",
              "      <td>1975</td>\n",
              "      <td>0.0</td>\n",
              "      <td>12590286</td>\n",
              "      <td>Afghanistan</td>\n",
              "    </tr>\n",
              "    <tr>\n",
              "      <th>4</th>\n",
              "      <td>afg</td>\n",
              "      <td>1976</td>\n",
              "      <td>0.0</td>\n",
              "      <td>12840299</td>\n",
              "      <td>Afghanistan</td>\n",
              "    </tr>\n",
              "  </tbody>\n",
              "</table>\n",
              "</div>"
            ],
            "text/plain": [
              "   geo  time  cell_phones_total  population_total      country\n",
              "0  afg  1960                0.0           8996351  Afghanistan\n",
              "1  afg  1965                0.0           9938414  Afghanistan\n",
              "2  afg  1970                0.0          11126123  Afghanistan\n",
              "3  afg  1975                0.0          12590286  Afghanistan\n",
              "4  afg  1976                0.0          12840299  Afghanistan"
            ]
          },
          "metadata": {
            "tags": []
          },
          "execution_count": 238
        }
      ]
    },
    {
      "cell_type": "markdown",
      "metadata": {
        "colab_type": "text",
        "id": "oK96Uj7vYjFX"
      },
      "source": [
        "### Part 2. Make features"
      ]
    },
    {
      "cell_type": "markdown",
      "metadata": {
        "colab_type": "text",
        "id": "AD2fBNrOYzCG"
      },
      "source": [
        "Calculate the number of cell phones per person, and add this column onto your dataframe.\n",
        "\n",
        "(You've calculated correctly if you get 1.220 cell phones per person in the United States in 2017.)"
      ]
    },
    {
      "cell_type": "code",
      "metadata": {
        "colab_type": "code",
        "id": "wXI9nQthYnFK",
        "outputId": "1618a38e-9592-40a7-e0ce-83e72fbdc351",
        "colab": {
          "base_uri": "https://localhost:8080/",
          "height": 51
        }
      },
      "source": [
        "df['phones_per_person'] = df.cell_phones_total/df.population_total\n",
        "df.phones_per_person[(df.country=='United States') & (df.time==2017)] # verify"
      ],
      "execution_count": 0,
      "outputs": [
        {
          "output_type": "execute_result",
          "data": {
            "text/plain": [
              "8134   1.2201246847283354\n",
              "Name: phones_per_person, dtype: float64"
            ]
          },
          "metadata": {
            "tags": []
          },
          "execution_count": 239
        }
      ]
    },
    {
      "cell_type": "markdown",
      "metadata": {
        "colab_type": "text",
        "id": "S3QFdsnRZMH6"
      },
      "source": [
        "Modify the `geo` column to make the geo codes uppercase instead of lowercase."
      ]
    },
    {
      "cell_type": "code",
      "metadata": {
        "colab_type": "code",
        "id": "93ADij8_YkOq",
        "outputId": "f3740e09-5cfd-4ee3-b295-01a6eec88a47",
        "colab": {
          "base_uri": "https://localhost:8080/",
          "height": 204
        }
      },
      "source": [
        "df.geo = df.geo.apply(lambda name : name.upper())\n",
        "df.head()"
      ],
      "execution_count": 0,
      "outputs": [
        {
          "output_type": "execute_result",
          "data": {
            "text/html": [
              "<div>\n",
              "<style scoped>\n",
              "    .dataframe tbody tr th:only-of-type {\n",
              "        vertical-align: middle;\n",
              "    }\n",
              "\n",
              "    .dataframe tbody tr th {\n",
              "        vertical-align: top;\n",
              "    }\n",
              "\n",
              "    .dataframe thead th {\n",
              "        text-align: right;\n",
              "    }\n",
              "</style>\n",
              "<table border=\"1\" class=\"dataframe\">\n",
              "  <thead>\n",
              "    <tr style=\"text-align: right;\">\n",
              "      <th></th>\n",
              "      <th>geo</th>\n",
              "      <th>time</th>\n",
              "      <th>cell_phones_total</th>\n",
              "      <th>population_total</th>\n",
              "      <th>country</th>\n",
              "      <th>phones_per_person</th>\n",
              "    </tr>\n",
              "  </thead>\n",
              "  <tbody>\n",
              "    <tr>\n",
              "      <th>0</th>\n",
              "      <td>AFG</td>\n",
              "      <td>1960</td>\n",
              "      <td>0.0</td>\n",
              "      <td>8996351</td>\n",
              "      <td>Afghanistan</td>\n",
              "      <td>0.0</td>\n",
              "    </tr>\n",
              "    <tr>\n",
              "      <th>1</th>\n",
              "      <td>AFG</td>\n",
              "      <td>1965</td>\n",
              "      <td>0.0</td>\n",
              "      <td>9938414</td>\n",
              "      <td>Afghanistan</td>\n",
              "      <td>0.0</td>\n",
              "    </tr>\n",
              "    <tr>\n",
              "      <th>2</th>\n",
              "      <td>AFG</td>\n",
              "      <td>1970</td>\n",
              "      <td>0.0</td>\n",
              "      <td>11126123</td>\n",
              "      <td>Afghanistan</td>\n",
              "      <td>0.0</td>\n",
              "    </tr>\n",
              "    <tr>\n",
              "      <th>3</th>\n",
              "      <td>AFG</td>\n",
              "      <td>1975</td>\n",
              "      <td>0.0</td>\n",
              "      <td>12590286</td>\n",
              "      <td>Afghanistan</td>\n",
              "      <td>0.0</td>\n",
              "    </tr>\n",
              "    <tr>\n",
              "      <th>4</th>\n",
              "      <td>AFG</td>\n",
              "      <td>1976</td>\n",
              "      <td>0.0</td>\n",
              "      <td>12840299</td>\n",
              "      <td>Afghanistan</td>\n",
              "      <td>0.0</td>\n",
              "    </tr>\n",
              "  </tbody>\n",
              "</table>\n",
              "</div>"
            ],
            "text/plain": [
              "   geo  time  ...      country  phones_per_person\n",
              "0  AFG  1960  ...  Afghanistan                0.0\n",
              "1  AFG  1965  ...  Afghanistan                0.0\n",
              "2  AFG  1970  ...  Afghanistan                0.0\n",
              "3  AFG  1975  ...  Afghanistan                0.0\n",
              "4  AFG  1976  ...  Afghanistan                0.0\n",
              "\n",
              "[5 rows x 6 columns]"
            ]
          },
          "metadata": {
            "tags": []
          },
          "execution_count": 240
        }
      ]
    },
    {
      "cell_type": "markdown",
      "metadata": {
        "colab_type": "text",
        "id": "hlPDAFCfaF6C"
      },
      "source": [
        "### Part 3. Process data"
      ]
    },
    {
      "cell_type": "markdown",
      "metadata": {
        "colab_type": "text",
        "id": "k-pudNWve2SQ"
      },
      "source": [
        "Use the describe function, to describe your dataframe's numeric columns, and then its non-numeric columns.\n",
        "\n",
        "(You'll see the time period ranges from 1960 to 2017, and there are 195 unique countries represented.)"
      ]
    },
    {
      "cell_type": "code",
      "metadata": {
        "colab_type": "code",
        "id": "g26yemKre2Cu",
        "outputId": "9ed4547b-78f2-4d24-9037-990867ae5e23",
        "colab": {
          "base_uri": "https://localhost:8080/",
          "height": 297
        }
      },
      "source": [
        "df.describe() # defaults to numeric values"
      ],
      "execution_count": 0,
      "outputs": [
        {
          "output_type": "execute_result",
          "data": {
            "text/html": [
              "<div>\n",
              "<style scoped>\n",
              "    .dataframe tbody tr th:only-of-type {\n",
              "        vertical-align: middle;\n",
              "    }\n",
              "\n",
              "    .dataframe tbody tr th {\n",
              "        vertical-align: top;\n",
              "    }\n",
              "\n",
              "    .dataframe thead th {\n",
              "        text-align: right;\n",
              "    }\n",
              "</style>\n",
              "<table border=\"1\" class=\"dataframe\">\n",
              "  <thead>\n",
              "    <tr style=\"text-align: right;\">\n",
              "      <th></th>\n",
              "      <th>time</th>\n",
              "      <th>cell_phones_total</th>\n",
              "      <th>population_total</th>\n",
              "      <th>phones_per_person</th>\n",
              "    </tr>\n",
              "  </thead>\n",
              "  <tbody>\n",
              "    <tr>\n",
              "      <th>count</th>\n",
              "      <td>8,590.0</td>\n",
              "      <td>8,590.0</td>\n",
              "      <td>8,590.0</td>\n",
              "      <td>8,590.0</td>\n",
              "    </tr>\n",
              "    <tr>\n",
              "      <th>mean</th>\n",
              "      <td>1,994.1934807916182</td>\n",
              "      <td>9,004,949.642905472</td>\n",
              "      <td>29,838,230.581722934</td>\n",
              "      <td>0.2796385558059151</td>\n",
              "    </tr>\n",
              "    <tr>\n",
              "      <th>std</th>\n",
              "      <td>14.257974607310302</td>\n",
              "      <td>55,734,084.872179635</td>\n",
              "      <td>116,128,377.47477299</td>\n",
              "      <td>0.454246656214052</td>\n",
              "    </tr>\n",
              "    <tr>\n",
              "      <th>min</th>\n",
              "      <td>1,960.0</td>\n",
              "      <td>0.0</td>\n",
              "      <td>4,433.0</td>\n",
              "      <td>0.0</td>\n",
              "    </tr>\n",
              "    <tr>\n",
              "      <th>25%</th>\n",
              "      <td>1,983.0</td>\n",
              "      <td>0.0</td>\n",
              "      <td>1,456,148.0</td>\n",
              "      <td>0.0</td>\n",
              "    </tr>\n",
              "    <tr>\n",
              "      <th>50%</th>\n",
              "      <td>1,995.0</td>\n",
              "      <td>6,200.0</td>\n",
              "      <td>5,725,062.5</td>\n",
              "      <td>0.0015636266438163813</td>\n",
              "    </tr>\n",
              "    <tr>\n",
              "      <th>75%</th>\n",
              "      <td>2,006.0</td>\n",
              "      <td>1,697,652.0</td>\n",
              "      <td>18,105,812.0</td>\n",
              "      <td>0.4611491855201403</td>\n",
              "    </tr>\n",
              "    <tr>\n",
              "      <th>max</th>\n",
              "      <td>2,017.0</td>\n",
              "      <td>1,474,097,000.0</td>\n",
              "      <td>1,409,517,397.0</td>\n",
              "      <td>2.490242818521353</td>\n",
              "    </tr>\n",
              "  </tbody>\n",
              "</table>\n",
              "</div>"
            ],
            "text/plain": [
              "                     time  ...     phones_per_person\n",
              "count             8,590.0  ...               8,590.0\n",
              "mean  1,994.1934807916182  ...    0.2796385558059151\n",
              "std    14.257974607310302  ...     0.454246656214052\n",
              "min               1,960.0  ...                   0.0\n",
              "25%               1,983.0  ...                   0.0\n",
              "50%               1,995.0  ... 0.0015636266438163813\n",
              "75%               2,006.0  ...    0.4611491855201403\n",
              "max               2,017.0  ...     2.490242818521353\n",
              "\n",
              "[8 rows x 4 columns]"
            ]
          },
          "metadata": {
            "tags": []
          },
          "execution_count": 241
        }
      ]
    },
    {
      "cell_type": "code",
      "metadata": {
        "id": "JomTUvS4N6SR",
        "colab_type": "code",
        "outputId": "458c0480-fbcc-4626-cb7e-04b4017ad57b",
        "colab": {
          "base_uri": "https://localhost:8080/",
          "height": 173
        }
      },
      "source": [
        "df.describe(include='object')"
      ],
      "execution_count": 0,
      "outputs": [
        {
          "output_type": "execute_result",
          "data": {
            "text/html": [
              "<div>\n",
              "<style scoped>\n",
              "    .dataframe tbody tr th:only-of-type {\n",
              "        vertical-align: middle;\n",
              "    }\n",
              "\n",
              "    .dataframe tbody tr th {\n",
              "        vertical-align: top;\n",
              "    }\n",
              "\n",
              "    .dataframe thead th {\n",
              "        text-align: right;\n",
              "    }\n",
              "</style>\n",
              "<table border=\"1\" class=\"dataframe\">\n",
              "  <thead>\n",
              "    <tr style=\"text-align: right;\">\n",
              "      <th></th>\n",
              "      <th>geo</th>\n",
              "      <th>country</th>\n",
              "    </tr>\n",
              "  </thead>\n",
              "  <tbody>\n",
              "    <tr>\n",
              "      <th>count</th>\n",
              "      <td>8590</td>\n",
              "      <td>8590</td>\n",
              "    </tr>\n",
              "    <tr>\n",
              "      <th>unique</th>\n",
              "      <td>195</td>\n",
              "      <td>195</td>\n",
              "    </tr>\n",
              "    <tr>\n",
              "      <th>top</th>\n",
              "      <td>SLV</td>\n",
              "      <td>Myanmar</td>\n",
              "    </tr>\n",
              "    <tr>\n",
              "      <th>freq</th>\n",
              "      <td>46</td>\n",
              "      <td>46</td>\n",
              "    </tr>\n",
              "  </tbody>\n",
              "</table>\n",
              "</div>"
            ],
            "text/plain": [
              "         geo  country\n",
              "count   8590     8590\n",
              "unique   195      195\n",
              "top      SLV  Myanmar\n",
              "freq      46       46"
            ]
          },
          "metadata": {
            "tags": []
          },
          "execution_count": 242
        }
      ]
    },
    {
      "cell_type": "markdown",
      "metadata": {
        "colab_type": "text",
        "id": "zALg-RrYaLcI"
      },
      "source": [
        "In 2017, what were the top 5 countries with the most cell phones total?\n",
        "\n",
        "Your list of countries should have these totals:\n",
        "\n",
        "| country | cell phones total |\n",
        "|:-------:|:-----------------:|\n",
        "|    ?    |     1,474,097,000 |\n",
        "|    ?    |     1,168,902,277 |\n",
        "|    ?    |       458,923,202 |\n",
        "|    ?    |       395,881,000 |\n",
        "|    ?    |       236,488,548 |\n",
        "\n"
      ]
    },
    {
      "cell_type": "code",
      "metadata": {
        "id": "zEwx3t7FOWMD",
        "colab_type": "code",
        "outputId": "4a8b9e16-4434-41e1-99e2-cdd57e60483c",
        "colab": {
          "base_uri": "https://localhost:8080/",
          "height": 204
        }
      },
      "source": [
        "# sorry for the 1 liner\n",
        "most_phones_2017 = df[df.time==2017].sort_values('cell_phones_total',ascending=False)[:5][['country','cell_phones_total']]\n",
        "most_phones_2017"
      ],
      "execution_count": 0,
      "outputs": [
        {
          "output_type": "execute_result",
          "data": {
            "text/html": [
              "<div>\n",
              "<style scoped>\n",
              "    .dataframe tbody tr th:only-of-type {\n",
              "        vertical-align: middle;\n",
              "    }\n",
              "\n",
              "    .dataframe tbody tr th {\n",
              "        vertical-align: top;\n",
              "    }\n",
              "\n",
              "    .dataframe thead th {\n",
              "        text-align: right;\n",
              "    }\n",
              "</style>\n",
              "<table border=\"1\" class=\"dataframe\">\n",
              "  <thead>\n",
              "    <tr style=\"text-align: right;\">\n",
              "      <th></th>\n",
              "      <th>country</th>\n",
              "      <th>cell_phones_total</th>\n",
              "    </tr>\n",
              "  </thead>\n",
              "  <tbody>\n",
              "    <tr>\n",
              "      <th>1496</th>\n",
              "      <td>China</td>\n",
              "      <td>1,474,097,000.0</td>\n",
              "    </tr>\n",
              "    <tr>\n",
              "      <th>3595</th>\n",
              "      <td>India</td>\n",
              "      <td>1,168,902,277.0</td>\n",
              "    </tr>\n",
              "    <tr>\n",
              "      <th>3549</th>\n",
              "      <td>Indonesia</td>\n",
              "      <td>458,923,202.0</td>\n",
              "    </tr>\n",
              "    <tr>\n",
              "      <th>8134</th>\n",
              "      <td>United States</td>\n",
              "      <td>395,881,000.0</td>\n",
              "    </tr>\n",
              "    <tr>\n",
              "      <th>1084</th>\n",
              "      <td>Brazil</td>\n",
              "      <td>236,488,548.0</td>\n",
              "    </tr>\n",
              "  </tbody>\n",
              "</table>\n",
              "</div>"
            ],
            "text/plain": [
              "            country  cell_phones_total\n",
              "1496          China    1,474,097,000.0\n",
              "3595          India    1,168,902,277.0\n",
              "3549      Indonesia      458,923,202.0\n",
              "8134  United States      395,881,000.0\n",
              "1084         Brazil      236,488,548.0"
            ]
          },
          "metadata": {
            "tags": []
          },
          "execution_count": 243
        }
      ]
    },
    {
      "cell_type": "code",
      "metadata": {
        "colab_type": "code",
        "id": "JdlWvezHaZxD",
        "colab": {}
      },
      "source": [
        "# This optional code formats float numbers with comma separators\n",
        "pd.options.display.float_format = '{:,}'.format"
      ],
      "execution_count": 0,
      "outputs": []
    },
    {
      "cell_type": "code",
      "metadata": {
        "colab_type": "code",
        "id": "smX8vzu4cyju",
        "outputId": "eecee4ca-50e8-4a9f-d5a2-d90c7c3e33e7",
        "colab": {
          "base_uri": "https://localhost:8080/",
          "height": 204
        }
      },
      "source": [
        "most_phones_2017"
      ],
      "execution_count": 0,
      "outputs": [
        {
          "output_type": "execute_result",
          "data": {
            "text/html": [
              "<div>\n",
              "<style scoped>\n",
              "    .dataframe tbody tr th:only-of-type {\n",
              "        vertical-align: middle;\n",
              "    }\n",
              "\n",
              "    .dataframe tbody tr th {\n",
              "        vertical-align: top;\n",
              "    }\n",
              "\n",
              "    .dataframe thead th {\n",
              "        text-align: right;\n",
              "    }\n",
              "</style>\n",
              "<table border=\"1\" class=\"dataframe\">\n",
              "  <thead>\n",
              "    <tr style=\"text-align: right;\">\n",
              "      <th></th>\n",
              "      <th>country</th>\n",
              "      <th>cell_phones_total</th>\n",
              "    </tr>\n",
              "  </thead>\n",
              "  <tbody>\n",
              "    <tr>\n",
              "      <th>1496</th>\n",
              "      <td>China</td>\n",
              "      <td>1,474,097,000.0</td>\n",
              "    </tr>\n",
              "    <tr>\n",
              "      <th>3595</th>\n",
              "      <td>India</td>\n",
              "      <td>1,168,902,277.0</td>\n",
              "    </tr>\n",
              "    <tr>\n",
              "      <th>3549</th>\n",
              "      <td>Indonesia</td>\n",
              "      <td>458,923,202.0</td>\n",
              "    </tr>\n",
              "    <tr>\n",
              "      <th>8134</th>\n",
              "      <td>United States</td>\n",
              "      <td>395,881,000.0</td>\n",
              "    </tr>\n",
              "    <tr>\n",
              "      <th>1084</th>\n",
              "      <td>Brazil</td>\n",
              "      <td>236,488,548.0</td>\n",
              "    </tr>\n",
              "  </tbody>\n",
              "</table>\n",
              "</div>"
            ],
            "text/plain": [
              "            country  cell_phones_total\n",
              "1496          China    1,474,097,000.0\n",
              "3595          India    1,168,902,277.0\n",
              "3549      Indonesia      458,923,202.0\n",
              "8134  United States      395,881,000.0\n",
              "1084         Brazil      236,488,548.0"
            ]
          },
          "metadata": {
            "tags": []
          },
          "execution_count": 245
        }
      ]
    },
    {
      "cell_type": "markdown",
      "metadata": {
        "colab_type": "text",
        "id": "03V3Wln_h0dj"
      },
      "source": [
        "2017 was the first year that China had more cell phones than people.\n",
        "\n",
        "What was the first year that the USA had more cell phones than people?"
      ]
    },
    {
      "cell_type": "code",
      "metadata": {
        "colab_type": "code",
        "id": "KONQkQZ3haNC",
        "outputId": "51d39fc9-a373-4d61-df11-ce10fd218366",
        "colab": {
          "base_uri": "https://localhost:8080/",
          "height": 34
        }
      },
      "source": [
        "# Verify China data\n",
        "# china = df[df.country=='China']\n",
        "# china\n",
        "# china.time[(china.cell_phones_total) > (china.population_total)]\n",
        "\n",
        "usa = df[df.country=='United States']\n",
        "usa.time[(usa.cell_phones_total) > (usa.population_total)].min() # add min to get smallest value when there are multiple\n"
      ],
      "execution_count": 0,
      "outputs": [
        {
          "output_type": "execute_result",
          "data": {
            "text/plain": [
              "2014"
            ]
          },
          "metadata": {
            "tags": []
          },
          "execution_count": 246
        }
      ]
    },
    {
      "cell_type": "markdown",
      "metadata": {
        "colab_type": "text",
        "id": "6J7iwMnTg8KZ"
      },
      "source": [
        "### Part 4. Reshape data"
      ]
    },
    {
      "cell_type": "markdown",
      "metadata": {
        "colab_type": "text",
        "id": "LP9InazRkUxG"
      },
      "source": [
        "*This part is not needed to pass the sprint challenge, only to get a 3! Only work on this after completing the other sections.*\n",
        "\n",
        "Create a pivot table:\n",
        "- Columns: Years 2007—2017\n",
        "- Rows: China, India, United States, Indonesia, Brazil (order doesn't matter)\n",
        "- Values: Cell Phones Total\n",
        "\n",
        "The table's shape should be: (5, 11)"
      ]
    },
    {
      "cell_type": "code",
      "metadata": {
        "id": "JbBqYG4Wnu3c",
        "colab_type": "code",
        "outputId": "c3063c18-d48b-4e6f-f1b1-fdc3bbd2a91f",
        "colab": {
          "base_uri": "https://localhost:8080/",
          "height": 204
        }
      },
      "source": [
        "df.head()"
      ],
      "execution_count": 0,
      "outputs": [
        {
          "output_type": "execute_result",
          "data": {
            "text/html": [
              "<div>\n",
              "<style scoped>\n",
              "    .dataframe tbody tr th:only-of-type {\n",
              "        vertical-align: middle;\n",
              "    }\n",
              "\n",
              "    .dataframe tbody tr th {\n",
              "        vertical-align: top;\n",
              "    }\n",
              "\n",
              "    .dataframe thead th {\n",
              "        text-align: right;\n",
              "    }\n",
              "</style>\n",
              "<table border=\"1\" class=\"dataframe\">\n",
              "  <thead>\n",
              "    <tr style=\"text-align: right;\">\n",
              "      <th></th>\n",
              "      <th>geo</th>\n",
              "      <th>time</th>\n",
              "      <th>cell_phones_total</th>\n",
              "      <th>population_total</th>\n",
              "      <th>country</th>\n",
              "      <th>phones_per_person</th>\n",
              "    </tr>\n",
              "  </thead>\n",
              "  <tbody>\n",
              "    <tr>\n",
              "      <th>0</th>\n",
              "      <td>AFG</td>\n",
              "      <td>1960</td>\n",
              "      <td>0.0</td>\n",
              "      <td>8996351</td>\n",
              "      <td>Afghanistan</td>\n",
              "      <td>0.0</td>\n",
              "    </tr>\n",
              "    <tr>\n",
              "      <th>1</th>\n",
              "      <td>AFG</td>\n",
              "      <td>1965</td>\n",
              "      <td>0.0</td>\n",
              "      <td>9938414</td>\n",
              "      <td>Afghanistan</td>\n",
              "      <td>0.0</td>\n",
              "    </tr>\n",
              "    <tr>\n",
              "      <th>2</th>\n",
              "      <td>AFG</td>\n",
              "      <td>1970</td>\n",
              "      <td>0.0</td>\n",
              "      <td>11126123</td>\n",
              "      <td>Afghanistan</td>\n",
              "      <td>0.0</td>\n",
              "    </tr>\n",
              "    <tr>\n",
              "      <th>3</th>\n",
              "      <td>AFG</td>\n",
              "      <td>1975</td>\n",
              "      <td>0.0</td>\n",
              "      <td>12590286</td>\n",
              "      <td>Afghanistan</td>\n",
              "      <td>0.0</td>\n",
              "    </tr>\n",
              "    <tr>\n",
              "      <th>4</th>\n",
              "      <td>AFG</td>\n",
              "      <td>1976</td>\n",
              "      <td>0.0</td>\n",
              "      <td>12840299</td>\n",
              "      <td>Afghanistan</td>\n",
              "      <td>0.0</td>\n",
              "    </tr>\n",
              "  </tbody>\n",
              "</table>\n",
              "</div>"
            ],
            "text/plain": [
              "   geo  time  ...      country  phones_per_person\n",
              "0  AFG  1960  ...  Afghanistan                0.0\n",
              "1  AFG  1965  ...  Afghanistan                0.0\n",
              "2  AFG  1970  ...  Afghanistan                0.0\n",
              "3  AFG  1975  ...  Afghanistan                0.0\n",
              "4  AFG  1976  ...  Afghanistan                0.0\n",
              "\n",
              "[5 rows x 6 columns]"
            ]
          },
          "metadata": {
            "tags": []
          },
          "execution_count": 247
        }
      ]
    },
    {
      "cell_type": "code",
      "metadata": {
        "colab_type": "code",
        "id": "JD7mXXjLj4Ue",
        "outputId": "19d74b7e-ea6b-4da6-c6f3-de21b782d086",
        "colab": {
          "base_uri": "https://localhost:8080/",
          "height": 235
        }
      },
      "source": [
        "countries = ['China','India','United States','Indonesia','Brazil']\n",
        "df_subset = df[(df.time >= 2007)]\n",
        "df_subset = df_subset[df_subset.country.isin(countries)]\n",
        "pt = df_subset.pivot_table(columns='time',index='country',values='cell_phones_total')\n",
        "pt"
      ],
      "execution_count": 0,
      "outputs": [
        {
          "output_type": "execute_result",
          "data": {
            "text/html": [
              "<div>\n",
              "<style scoped>\n",
              "    .dataframe tbody tr th:only-of-type {\n",
              "        vertical-align: middle;\n",
              "    }\n",
              "\n",
              "    .dataframe tbody tr th {\n",
              "        vertical-align: top;\n",
              "    }\n",
              "\n",
              "    .dataframe thead th {\n",
              "        text-align: right;\n",
              "    }\n",
              "</style>\n",
              "<table border=\"1\" class=\"dataframe\">\n",
              "  <thead>\n",
              "    <tr style=\"text-align: right;\">\n",
              "      <th>time</th>\n",
              "      <th>2007</th>\n",
              "      <th>2008</th>\n",
              "      <th>2009</th>\n",
              "      <th>2010</th>\n",
              "      <th>2011</th>\n",
              "      <th>2012</th>\n",
              "      <th>2013</th>\n",
              "      <th>2014</th>\n",
              "      <th>2015</th>\n",
              "      <th>2016</th>\n",
              "      <th>2017</th>\n",
              "    </tr>\n",
              "    <tr>\n",
              "      <th>country</th>\n",
              "      <th></th>\n",
              "      <th></th>\n",
              "      <th></th>\n",
              "      <th></th>\n",
              "      <th></th>\n",
              "      <th></th>\n",
              "      <th></th>\n",
              "      <th></th>\n",
              "      <th></th>\n",
              "      <th></th>\n",
              "      <th></th>\n",
              "    </tr>\n",
              "  </thead>\n",
              "  <tbody>\n",
              "    <tr>\n",
              "      <th>Brazil</th>\n",
              "      <td>120,980,103.0</td>\n",
              "      <td>150,641,403.0</td>\n",
              "      <td>169,385,584.0</td>\n",
              "      <td>196,929,978.0</td>\n",
              "      <td>234,357,507.0</td>\n",
              "      <td>248,323,703.0</td>\n",
              "      <td>271,099,799.0</td>\n",
              "      <td>280,728,796.0</td>\n",
              "      <td>257,814,274.0</td>\n",
              "      <td>244,067,356.0</td>\n",
              "      <td>236,488,548.0</td>\n",
              "    </tr>\n",
              "    <tr>\n",
              "      <th>China</th>\n",
              "      <td>547,306,000.0</td>\n",
              "      <td>641,245,000.0</td>\n",
              "      <td>747,214,000.0</td>\n",
              "      <td>859,003,000.0</td>\n",
              "      <td>986,253,000.0</td>\n",
              "      <td>1,112,155,000.0</td>\n",
              "      <td>1,229,113,000.0</td>\n",
              "      <td>1,286,093,000.0</td>\n",
              "      <td>1,291,984,200.0</td>\n",
              "      <td>1,364,934,000.0</td>\n",
              "      <td>1,474,097,000.0</td>\n",
              "    </tr>\n",
              "    <tr>\n",
              "      <th>India</th>\n",
              "      <td>233,620,000.0</td>\n",
              "      <td>346,890,000.0</td>\n",
              "      <td>525,090,000.0</td>\n",
              "      <td>752,190,000.0</td>\n",
              "      <td>893,862,478.0</td>\n",
              "      <td>864,720,917.0</td>\n",
              "      <td>886,304,245.0</td>\n",
              "      <td>944,008,677.0</td>\n",
              "      <td>1,001,056,000.0</td>\n",
              "      <td>1,127,809,000.0</td>\n",
              "      <td>1,168,902,277.0</td>\n",
              "    </tr>\n",
              "    <tr>\n",
              "      <th>Indonesia</th>\n",
              "      <td>93,386,881.0</td>\n",
              "      <td>140,578,243.0</td>\n",
              "      <td>163,676,961.0</td>\n",
              "      <td>211,290,235.0</td>\n",
              "      <td>249,805,619.0</td>\n",
              "      <td>281,963,665.0</td>\n",
              "      <td>313,226,914.0</td>\n",
              "      <td>325,582,819.0</td>\n",
              "      <td>338,948,340.0</td>\n",
              "      <td>385,573,398.0</td>\n",
              "      <td>458,923,202.0</td>\n",
              "    </tr>\n",
              "    <tr>\n",
              "      <th>United States</th>\n",
              "      <td>249,300,000.0</td>\n",
              "      <td>261,300,000.0</td>\n",
              "      <td>274,283,000.0</td>\n",
              "      <td>285,118,000.0</td>\n",
              "      <td>297,404,000.0</td>\n",
              "      <td>304,838,000.0</td>\n",
              "      <td>310,698,000.0</td>\n",
              "      <td>355,500,000.0</td>\n",
              "      <td>382,307,000.0</td>\n",
              "      <td>395,881,000.0</td>\n",
              "      <td>395,881,000.0</td>\n",
              "    </tr>\n",
              "  </tbody>\n",
              "</table>\n",
              "</div>"
            ],
            "text/plain": [
              "time                   2007          2008  ...            2016            2017\n",
              "country                                    ...                                \n",
              "Brazil        120,980,103.0 150,641,403.0  ...   244,067,356.0   236,488,548.0\n",
              "China         547,306,000.0 641,245,000.0  ... 1,364,934,000.0 1,474,097,000.0\n",
              "India         233,620,000.0 346,890,000.0  ... 1,127,809,000.0 1,168,902,277.0\n",
              "Indonesia      93,386,881.0 140,578,243.0  ...   385,573,398.0   458,923,202.0\n",
              "United States 249,300,000.0 261,300,000.0  ...   395,881,000.0   395,881,000.0\n",
              "\n",
              "[5 rows x 11 columns]"
            ]
          },
          "metadata": {
            "tags": []
          },
          "execution_count": 248
        }
      ]
    },
    {
      "cell_type": "markdown",
      "metadata": {
        "colab_type": "text",
        "id": "CNKTu2DCnAo6"
      },
      "source": [
        "Sort these 5 countries, by biggest increase in cell phones from 2007 to 2017.\n",
        "\n",
        "Which country had 935,282,277 more cell phones in 2017 versus 2007?"
      ]
    },
    {
      "cell_type": "code",
      "metadata": {
        "colab_type": "code",
        "id": "O4Aecv1fmQlj",
        "outputId": "901dbda6-5a17-46f2-e7bb-b82501d30a64",
        "colab": {
          "base_uri": "https://localhost:8080/",
          "height": 136
        }
      },
      "source": [
        "pt['change'] = pt[2017] - pt[2007]\n",
        "pt = pt.sort_values('change')\n",
        "pt['change']"
      ],
      "execution_count": 0,
      "outputs": [
        {
          "output_type": "execute_result",
          "data": {
            "text/plain": [
              "country\n",
              "Brazil          115,508,445.0\n",
              "United States   146,581,000.0\n",
              "Indonesia       365,536,321.0\n",
              "China           926,791,000.0\n",
              "India           935,282,277.0\n",
              "Name: change, dtype: float64"
            ]
          },
          "metadata": {
            "tags": []
          },
          "execution_count": 249
        }
      ]
    },
    {
      "cell_type": "markdown",
      "metadata": {
        "colab_type": "text",
        "id": "7iHkMsa3Rorh"
      },
      "source": [
        "If you have the time and curiosity, what other questions can you ask and answer with this data?"
      ]
    },
    {
      "cell_type": "markdown",
      "metadata": {
        "id": "cWYNJmHxrSZy",
        "colab_type": "text"
      },
      "source": [
        "### Response:\n",
        "I think it would be interesting to find the year with the largest growth rate (of cell phones to people ratio). Then compare this to population growth. Maybe there's one big year or small range of years where cell phones boomed, or maybe the \"cell phone growth rate\" is proportional to the \"population growth rate\""
      ]
    },
    {
      "cell_type": "markdown",
      "metadata": {
        "id": "vtcAJOAV9k3X",
        "colab_type": "text"
      },
      "source": [
        "## Data Storytelling\n",
        "\n",
        "In this part of the sprint challenge you'll work with a dataset from **FiveThirtyEight's article, [Every Guest Jon Stewart Ever Had On ‘The Daily Show’](https://fivethirtyeight.com/features/every-guest-jon-stewart-ever-had-on-the-daily-show/)**!"
      ]
    },
    {
      "cell_type": "markdown",
      "metadata": {
        "id": "UtjoIqvm9yFg",
        "colab_type": "text"
      },
      "source": [
        "### Part 0 — Run this starter code\n",
        "\n",
        "You don't need to add or change anything here. Just run this cell and it loads the data for you, into a dataframe named `df`.\n",
        "\n",
        "(You can explore the data if you want, but it's not required to pass the Sprint Challenge.)"
      ]
    },
    {
      "cell_type": "code",
      "metadata": {
        "id": "tYujbhIz9zKU",
        "colab_type": "code",
        "colab": {}
      },
      "source": [
        "%matplotlib inline\n",
        "import matplotlib.pyplot as plt\n",
        "import numpy as np\n",
        "import pandas as pd\n",
        "\n",
        "url = 'https://raw.githubusercontent.com/fivethirtyeight/data/master/daily-show-guests/daily_show_guests.csv'\n",
        "df = pd.read_csv(url).rename(columns={'YEAR': 'Year', 'Raw_Guest_List': 'Guest'})\n",
        "\n",
        "def get_occupation(group):\n",
        "    if group in ['Acting', 'Comedy', 'Musician']:\n",
        "        return 'Acting, Comedy & Music'\n",
        "    elif group in ['Media', 'media']:\n",
        "        return 'Media'\n",
        "    elif group in ['Government', 'Politician', 'Political Aide']:\n",
        "        return 'Government and Politics'\n",
        "    else:\n",
        "        return 'Other'\n",
        "      \n",
        "df['Occupation'] = df['Group'].apply(get_occupation)"
      ],
      "execution_count": 0,
      "outputs": []
    },
    {
      "cell_type": "code",
      "metadata": {
        "id": "kRt9BecRVLpu",
        "colab_type": "code",
        "outputId": "9bb5efc7-5799-48f9-ff39-bec498be7cfb",
        "colab": {
          "base_uri": "https://localhost:8080/",
          "height": 204
        }
      },
      "source": [
        "df.head()"
      ],
      "execution_count": 0,
      "outputs": [
        {
          "output_type": "execute_result",
          "data": {
            "text/html": [
              "<div>\n",
              "<style scoped>\n",
              "    .dataframe tbody tr th:only-of-type {\n",
              "        vertical-align: middle;\n",
              "    }\n",
              "\n",
              "    .dataframe tbody tr th {\n",
              "        vertical-align: top;\n",
              "    }\n",
              "\n",
              "    .dataframe thead th {\n",
              "        text-align: right;\n",
              "    }\n",
              "</style>\n",
              "<table border=\"1\" class=\"dataframe\">\n",
              "  <thead>\n",
              "    <tr style=\"text-align: right;\">\n",
              "      <th></th>\n",
              "      <th>Year</th>\n",
              "      <th>GoogleKnowlege_Occupation</th>\n",
              "      <th>Show</th>\n",
              "      <th>Group</th>\n",
              "      <th>Guest</th>\n",
              "      <th>Occupation</th>\n",
              "    </tr>\n",
              "  </thead>\n",
              "  <tbody>\n",
              "    <tr>\n",
              "      <th>0</th>\n",
              "      <td>1999</td>\n",
              "      <td>actor</td>\n",
              "      <td>1/11/99</td>\n",
              "      <td>Acting</td>\n",
              "      <td>Michael J. Fox</td>\n",
              "      <td>Acting, Comedy &amp; Music</td>\n",
              "    </tr>\n",
              "    <tr>\n",
              "      <th>1</th>\n",
              "      <td>1999</td>\n",
              "      <td>Comedian</td>\n",
              "      <td>1/12/99</td>\n",
              "      <td>Comedy</td>\n",
              "      <td>Sandra Bernhard</td>\n",
              "      <td>Acting, Comedy &amp; Music</td>\n",
              "    </tr>\n",
              "    <tr>\n",
              "      <th>2</th>\n",
              "      <td>1999</td>\n",
              "      <td>television actress</td>\n",
              "      <td>1/13/99</td>\n",
              "      <td>Acting</td>\n",
              "      <td>Tracey Ullman</td>\n",
              "      <td>Acting, Comedy &amp; Music</td>\n",
              "    </tr>\n",
              "    <tr>\n",
              "      <th>3</th>\n",
              "      <td>1999</td>\n",
              "      <td>film actress</td>\n",
              "      <td>1/14/99</td>\n",
              "      <td>Acting</td>\n",
              "      <td>Gillian Anderson</td>\n",
              "      <td>Acting, Comedy &amp; Music</td>\n",
              "    </tr>\n",
              "    <tr>\n",
              "      <th>4</th>\n",
              "      <td>1999</td>\n",
              "      <td>actor</td>\n",
              "      <td>1/18/99</td>\n",
              "      <td>Acting</td>\n",
              "      <td>David Alan Grier</td>\n",
              "      <td>Acting, Comedy &amp; Music</td>\n",
              "    </tr>\n",
              "  </tbody>\n",
              "</table>\n",
              "</div>"
            ],
            "text/plain": [
              "   Year GoogleKnowlege_Occupation  ...             Guest              Occupation\n",
              "0  1999                     actor  ...    Michael J. Fox  Acting, Comedy & Music\n",
              "1  1999                  Comedian  ...   Sandra Bernhard  Acting, Comedy & Music\n",
              "2  1999        television actress  ...     Tracey Ullman  Acting, Comedy & Music\n",
              "3  1999              film actress  ...  Gillian Anderson  Acting, Comedy & Music\n",
              "4  1999                     actor  ...  David Alan Grier  Acting, Comedy & Music\n",
              "\n",
              "[5 rows x 6 columns]"
            ]
          },
          "metadata": {
            "tags": []
          },
          "execution_count": 251
        }
      ]
    },
    {
      "cell_type": "markdown",
      "metadata": {
        "id": "5hjnMK3j90Rp",
        "colab_type": "text"
      },
      "source": [
        "### Part 1 — What's the breakdown of guests’ occupations per year?\n",
        "\n",
        "For example, in 1999, what percentage of guests were actors, comedians, or musicians? What percentage were in the media? What percentage were in politics? What percentage were from another occupation?\n",
        "\n",
        "Then, what about in 2000? In 2001? And so on, up through 2015.\n",
        "\n",
        "So, **for each year of _The Daily Show_, calculate the percentage of guests from each occupation:**\n",
        "- Acting, Comedy & Music\n",
        "- Government and Politics\n",
        "- Media\n",
        "- Other\n",
        "\n",
        "#### Hints:\n",
        "You can make a crosstab. (See pandas documentation for examples, explanation, and parameters.)\n",
        "\n",
        "You'll know you've calculated correctly when the percentage of \"Acting, Comedy & Music\" guests is 90.36% in 1999, and 45% in 2015."
      ]
    },
    {
      "cell_type": "code",
      "metadata": {
        "id": "ubcxt7dRVkxC",
        "colab_type": "code",
        "outputId": "f725a6c6-cef5-424d-b8a9-f3fd88e65783",
        "colab": {
          "base_uri": "https://localhost:8080/",
          "height": 34
        }
      },
      "source": [
        "list(df.Occupation.unique())"
      ],
      "execution_count": 0,
      "outputs": [
        {
          "output_type": "execute_result",
          "data": {
            "text/plain": [
              "['Acting, Comedy & Music', 'Media', 'Other', 'Government and Politics']"
            ]
          },
          "metadata": {
            "tags": []
          },
          "execution_count": 252
        }
      ]
    },
    {
      "cell_type": "code",
      "metadata": {
        "id": "EbobyiHv916F",
        "colab_type": "code",
        "outputId": "b5849e44-1fc7-4e4d-807f-f7382c70436c",
        "colab": {
          "base_uri": "https://localhost:8080/",
          "height": 607
        }
      },
      "source": [
        "Year = df.Year\n",
        "Occupation = df.Occupation\n",
        "occupation_ct = round(pd.crosstab(Year,Occupation,normalize='index')*100,2)  # rounded to 2 decimal places for clarity\n",
        "occupation_ct"
      ],
      "execution_count": 0,
      "outputs": [
        {
          "output_type": "execute_result",
          "data": {
            "text/html": [
              "<div>\n",
              "<style scoped>\n",
              "    .dataframe tbody tr th:only-of-type {\n",
              "        vertical-align: middle;\n",
              "    }\n",
              "\n",
              "    .dataframe tbody tr th {\n",
              "        vertical-align: top;\n",
              "    }\n",
              "\n",
              "    .dataframe thead th {\n",
              "        text-align: right;\n",
              "    }\n",
              "</style>\n",
              "<table border=\"1\" class=\"dataframe\">\n",
              "  <thead>\n",
              "    <tr style=\"text-align: right;\">\n",
              "      <th>Occupation</th>\n",
              "      <th>Acting, Comedy &amp; Music</th>\n",
              "      <th>Government and Politics</th>\n",
              "      <th>Media</th>\n",
              "      <th>Other</th>\n",
              "    </tr>\n",
              "    <tr>\n",
              "      <th>Year</th>\n",
              "      <th></th>\n",
              "      <th></th>\n",
              "      <th></th>\n",
              "      <th></th>\n",
              "    </tr>\n",
              "  </thead>\n",
              "  <tbody>\n",
              "    <tr>\n",
              "      <th>1999</th>\n",
              "      <td>90.36</td>\n",
              "      <td>1.2</td>\n",
              "      <td>6.63</td>\n",
              "      <td>1.81</td>\n",
              "    </tr>\n",
              "    <tr>\n",
              "      <th>2000</th>\n",
              "      <td>73.96</td>\n",
              "      <td>8.28</td>\n",
              "      <td>12.43</td>\n",
              "      <td>5.33</td>\n",
              "    </tr>\n",
              "    <tr>\n",
              "      <th>2001</th>\n",
              "      <td>72.61</td>\n",
              "      <td>3.82</td>\n",
              "      <td>19.75</td>\n",
              "      <td>3.82</td>\n",
              "    </tr>\n",
              "    <tr>\n",
              "      <th>2002</th>\n",
              "      <td>62.26</td>\n",
              "      <td>6.92</td>\n",
              "      <td>26.42</td>\n",
              "      <td>4.4</td>\n",
              "    </tr>\n",
              "    <tr>\n",
              "      <th>2003</th>\n",
              "      <td>56.02</td>\n",
              "      <td>10.24</td>\n",
              "      <td>24.7</td>\n",
              "      <td>9.04</td>\n",
              "    </tr>\n",
              "    <tr>\n",
              "      <th>2004</th>\n",
              "      <td>38.41</td>\n",
              "      <td>22.56</td>\n",
              "      <td>27.44</td>\n",
              "      <td>11.59</td>\n",
              "    </tr>\n",
              "    <tr>\n",
              "      <th>2005</th>\n",
              "      <td>37.04</td>\n",
              "      <td>16.05</td>\n",
              "      <td>33.33</td>\n",
              "      <td>13.58</td>\n",
              "    </tr>\n",
              "    <tr>\n",
              "      <th>2006</th>\n",
              "      <td>36.02</td>\n",
              "      <td>19.25</td>\n",
              "      <td>29.19</td>\n",
              "      <td>15.53</td>\n",
              "    </tr>\n",
              "    <tr>\n",
              "      <th>2007</th>\n",
              "      <td>25.53</td>\n",
              "      <td>17.02</td>\n",
              "      <td>33.33</td>\n",
              "      <td>24.11</td>\n",
              "    </tr>\n",
              "    <tr>\n",
              "      <th>2008</th>\n",
              "      <td>20.73</td>\n",
              "      <td>20.12</td>\n",
              "      <td>46.95</td>\n",
              "      <td>12.2</td>\n",
              "    </tr>\n",
              "    <tr>\n",
              "      <th>2009</th>\n",
              "      <td>20.86</td>\n",
              "      <td>20.86</td>\n",
              "      <td>36.2</td>\n",
              "      <td>22.09</td>\n",
              "    </tr>\n",
              "    <tr>\n",
              "      <th>2010</th>\n",
              "      <td>35.15</td>\n",
              "      <td>18.18</td>\n",
              "      <td>30.3</td>\n",
              "      <td>16.36</td>\n",
              "    </tr>\n",
              "    <tr>\n",
              "      <th>2011</th>\n",
              "      <td>33.74</td>\n",
              "      <td>16.56</td>\n",
              "      <td>31.29</td>\n",
              "      <td>18.4</td>\n",
              "    </tr>\n",
              "    <tr>\n",
              "      <th>2012</th>\n",
              "      <td>26.83</td>\n",
              "      <td>20.12</td>\n",
              "      <td>31.71</td>\n",
              "      <td>21.34</td>\n",
              "    </tr>\n",
              "    <tr>\n",
              "      <th>2013</th>\n",
              "      <td>42.77</td>\n",
              "      <td>12.65</td>\n",
              "      <td>30.72</td>\n",
              "      <td>13.86</td>\n",
              "    </tr>\n",
              "    <tr>\n",
              "      <th>2014</th>\n",
              "      <td>39.26</td>\n",
              "      <td>12.88</td>\n",
              "      <td>32.52</td>\n",
              "      <td>15.34</td>\n",
              "    </tr>\n",
              "    <tr>\n",
              "      <th>2015</th>\n",
              "      <td>45.0</td>\n",
              "      <td>17.0</td>\n",
              "      <td>24.0</td>\n",
              "      <td>14.0</td>\n",
              "    </tr>\n",
              "  </tbody>\n",
              "</table>\n",
              "</div>"
            ],
            "text/plain": [
              "Occupation  Acting, Comedy & Music  Government and Politics  Media  Other\n",
              "Year                                                                     \n",
              "1999                         90.36                      1.2   6.63   1.81\n",
              "2000                         73.96                     8.28  12.43   5.33\n",
              "2001                         72.61                     3.82  19.75   3.82\n",
              "2002                         62.26                     6.92  26.42    4.4\n",
              "2003                         56.02                    10.24   24.7   9.04\n",
              "2004                         38.41                    22.56  27.44  11.59\n",
              "2005                         37.04                    16.05  33.33  13.58\n",
              "2006                         36.02                    19.25  29.19  15.53\n",
              "2007                         25.53                    17.02  33.33  24.11\n",
              "2008                         20.73                    20.12  46.95   12.2\n",
              "2009                         20.86                    20.86   36.2  22.09\n",
              "2010                         35.15                    18.18   30.3  16.36\n",
              "2011                         33.74                    16.56  31.29   18.4\n",
              "2012                         26.83                    20.12  31.71  21.34\n",
              "2013                         42.77                    12.65  30.72  13.86\n",
              "2014                         39.26                    12.88  32.52  15.34\n",
              "2015                          45.0                     17.0   24.0   14.0"
            ]
          },
          "metadata": {
            "tags": []
          },
          "execution_count": 253
        }
      ]
    },
    {
      "cell_type": "markdown",
      "metadata": {
        "id": "Kiq56dZb92LY",
        "colab_type": "text"
      },
      "source": [
        "### Part 2 — Recreate this explanatory visualization:"
      ]
    },
    {
      "cell_type": "code",
      "metadata": {
        "id": "Wq9aN0Aucy9w",
        "colab_type": "code",
        "outputId": "038060cc-3d87-4a3d-c3b9-585faf9d9af5",
        "colab": {
          "base_uri": "https://localhost:8080/",
          "height": 34
        }
      },
      "source": [
        "import seaborn as sb\n",
        "sb.__version__"
      ],
      "execution_count": 0,
      "outputs": [
        {
          "output_type": "execute_result",
          "data": {
            "text/plain": [
              "'0.9.0'"
            ]
          },
          "metadata": {
            "tags": []
          },
          "execution_count": 254
        }
      ]
    },
    {
      "cell_type": "code",
      "metadata": {
        "id": "HKLDMWwP98vz",
        "colab_type": "code",
        "colab": {}
      },
      "source": [
        "from IPython.display import display, Image\n",
        "png = 'https://fivethirtyeight.com/wp-content/uploads/2015/08/hickey-datalab-dailyshow.png'\n",
        "example = Image(png, width=500)"
      ],
      "execution_count": 0,
      "outputs": []
    },
    {
      "cell_type": "code",
      "metadata": {
        "id": "iV-GmFU0avgs",
        "colab_type": "code",
        "outputId": "c76fb0ab-cd9b-4fcf-b825-efa6ab426a50",
        "colab": {
          "base_uri": "https://localhost:8080/",
          "height": 339
        }
      },
      "source": [
        "guestOcc = occupation_ct.copy()\n",
        "guestOcc = guestOcc.drop(columns='Other')\n",
        "plt.style.use('fivethirtyeight')\n",
        "ax = sb.lineplot(data=guestOcc,lw=2,palette=['C0','red','purple'],legend=False,ls='--')\n",
        "ax.lines[1].set_linestyle(\"-\")\n",
        "ax.lines[2].set_linestyle(\"-\")\n",
        "\n",
        "plt.xticks(ticks=[2000,2004,2008,2012],labels=['2000',\"'04\",\"'08\",\"'12\"],color='#555555')\n",
        "plt.yticks(ticks=[0,25,50,75,100],labels=[0,25,50,75,'100%'],color='#555555')\n",
        "plt.xlabel('')\n",
        "\n",
        "#plt.title(\"Who Got To Be On 'The Daily Show'?\",fontweight='bold',fontsize='14')\n",
        "plt.text(1996,120,\"Who Got To Be On 'The Daily Show'?\",fontweight='bold',fontsize='15',color='#333333')\n",
        "plt.text(1996,114,\"Occupation of guests,by year\",fontsize='14',color='#333333')\n",
        "plt.text(2001,80,'Acting,Comedy & Music',color='C0',fontweight='bold',size=12)\n",
        "plt.text(2007.5,53,'Media',color='purple',fontweight='bold',size=12)\n",
        "plt.text(2009,4,'Government and Politics',color='red',fontweight='bold',size=12);"
      ],
      "execution_count": 0,
      "outputs": [
        {
          "output_type": "display_data",
          "data": {
            "image/png": "[encoded data removed]",
            "text/plain": [
              "<Figure size 432x288 with 1 Axes>"
            ]
          },
          "metadata": {
            "tags": []
          }
        }
      ]
    },
    {
      "cell_type": "code",
      "metadata": {
        "id": "pVpTQ1IcavK1",
        "colab_type": "code",
        "outputId": "8f69c247-74f5-4dac-e47a-9158def214e4",
        "colab": {
          "base_uri": "https://localhost:8080/",
          "height": 406
        }
      },
      "source": [
        "display(example)"
      ],
      "execution_count": 0,
      "outputs": [
        {
          "output_type": "display_data",
          "data": {
            "image/png": "[encoded data removed]",
            "text/plain": [
              "<IPython.core.display.Image object>"
            ]
          },
          "metadata": {
            "tags": [],
            "image/png": {
              "width": 500
            }
          }
        }
      ]
    },
    {
      "cell_type": "markdown",
      "metadata": {
        "id": "TK5fDIag9-F6",
        "colab_type": "text"
      },
      "source": [
        "**Hints:**\n",
        "- You can choose any Python visualization library you want. I've verified the plot can be reproduced with matplotlib, pandas plot, or seaborn. I assume other libraries like altair or plotly would work too.\n",
        "- If you choose to use seaborn, you may want to upgrade the version to 0.9.0.\n",
        "\n",
        "**Expectations:** Your plot should include:\n",
        "- 3 lines visualizing \"occupation of guests, by year.\" The shapes of the lines should look roughly identical to 538's example. Each line should be a different color. (But you don't need to use the _same_ colors as 538.)\n",
        "- Legend or labels for the lines. (But you don't need each label positioned next to its line or colored like 538.)\n",
        "- Title in the upper left: _\"Who Got To Be On 'The Daily Show'?\"_ with more visual emphasis than the subtitle. (Bolder and/or larger font.)\n",
        "- Subtitle underneath the title: _\"Occupation of guests, by year\"_\n",
        "\n",
        "**Optional Bonus Challenge:**\n",
        "- Give your plot polished aesthetics, with improved resemblance to the 538 example.\n",
        "- Any visual element not specifically mentioned in the expectations is an optional bonus."
      ]
    },
    {
      "cell_type": "code",
      "metadata": {
        "id": "CaB8MMV099Kh",
        "colab_type": "code",
        "colab": {}
      },
      "source": [
        ""
      ],
      "execution_count": 0,
      "outputs": []
    }
  ]
}